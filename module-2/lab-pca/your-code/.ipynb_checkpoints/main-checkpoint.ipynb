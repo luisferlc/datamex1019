{
 "cells": [
  {
   "cell_type": "markdown",
   "metadata": {},
   "source": [
    "# Before your start:\n",
    "- Read the README.md file\n",
    "- Comment as much as you can and use the resources (README.md file)\n",
    "- Happy learning!"
   ]
  },
  {
   "cell_type": "code",
   "execution_count": 13,
   "metadata": {},
   "outputs": [],
   "source": [
    "# Run this code:\n",
    "\n",
    "%matplotlib inline\n",
    "\n",
    "import matplotlib.pyplot as plt"
   ]
  },
  {
   "cell_type": "code",
   "execution_count": 2,
   "metadata": {},
   "outputs": [],
   "source": [
    "# Import numpy and pandas:\n",
    "\n",
    "import numpy as np\n",
    "import pandas as pd"
   ]
  },
  {
   "cell_type": "markdown",
   "metadata": {},
   "source": [
    "# Challenge 1 - Reading and Standardizing the Data\n",
    "\n",
    "In this challenge we will work with image data and reduce the dimensions of the data to create a 2 dimensional plot. While we have not worked much with image data before, it can be represented as a numpy array where each pixel is assigned a numeric value. In this lesson, we will look at a dataset of cats and a dataset of dogs and see whether reducing them to two dimensions allows us to see if the data is separable. We will start by loading and processing the data. Run the cell below to load the two csv files and convert them into numpy arrays."
   ]
  },
  {
   "cell_type": "code",
   "execution_count": 3,
   "metadata": {},
   "outputs": [],
   "source": [
    "# Run this code\n",
    "\n",
    "cats = np.array(pd.read_csv(\"https://raw.githubusercontent.com/bioramble/pca/master/cat.csv\", header=None))\n",
    "dogs = np.array(pd.read_csv(\"https://raw.githubusercontent.com/bioramble/pca/master/dog.csv\", header=None))"
   ]
  },
  {
   "cell_type": "markdown",
   "metadata": {},
   "source": [
    "Next, we'll examine the shape of both the cats and the dogs arrays. Print out both shapes below."
   ]
  },
  {
   "cell_type": "code",
   "execution_count": 42,
   "metadata": {},
   "outputs": [
    {
     "data": {
      "text/plain": [
       "((4096, 80), (4096, 80))"
      ]
     },
     "execution_count": 42,
     "metadata": {},
     "output_type": "execute_result"
    }
   ],
   "source": [
    "# Your code here:\n",
    "cats.shape, dogs.shape\n"
   ]
  },
  {
   "cell_type": "code",
   "execution_count": 10,
   "metadata": {},
   "outputs": [
    {
     "data": {
      "text/plain": [
       "array([ 64,  23, 250, 137,  55, 173,  18, 134,  19,  44, 109, 164,  32,\n",
       "        78, 110,  94, 247,  99, 158,  54,  98,   4, 116, 102, 239,  80,\n",
       "        42,  22, 168, 109,  77, 170,  31, 233,  15, 140, 250,  93,  32,\n",
       "         5, 178,  91,  24, 113,  54, 240, 226, 156,   9, 131,  87,  93,\n",
       "       101,  57, 232,  91,  77,  83, 230,  57, 158,  72,   0,  19, 166,\n",
       "       187, 237,  53, 141, 135, 118,  37,  80,  99, 179,  71,  32,  50,\n",
       "       224, 107], dtype=int64)"
      ]
     },
     "execution_count": 10,
     "metadata": {},
     "output_type": "execute_result"
    }
   ],
   "source": [
    "cats[1]"
   ]
  },
  {
   "cell_type": "markdown",
   "metadata": {},
   "source": [
    "What this means is that both arrays contain 80 images each (the number of columns). Each image is comprised of 64x64 pixels (so a total of 4096 pixels per image). The images have been flattened such that all 4096 are in a single row.\n",
    "\n",
    "Print out column 0 of the cats array to see what the pixels values look like."
   ]
  },
  {
   "cell_type": "code",
   "execution_count": 28,
   "metadata": {},
   "outputs": [
    {
     "data": {
      "text/plain": [
       "(array([ 64,  23, 250, 137,  55, 173,  18, 134,  19,  47, 109, 164,  41,\n",
       "         78, 108, 108, 247, 105, 158,  54, 103,   4,  23, 102, 239,  72,\n",
       "         42,  21, 168, 109, 112, 177,  22, 233,  15, 236, 250, 137,  32,\n",
       "          5, 178, 109,  24, 107,  53, 241, 226, 143,   5, 136,  98, 100,\n",
       "         89,  66, 228,  92, 255,  88, 230,  56, 160,  69,   6,  24, 195,\n",
       "        183, 239,  35, 154, 154, 122,  18,  87, 106, 174,  69,  28,  60,\n",
       "        223, 101], dtype=int64),\n",
       " array([ 64,  23, 250, 137,  55, 173,  18, 134,  19,  44, 109, 164,  32,\n",
       "         78, 110,  94, 247,  99, 158,  54,  98,   4, 116, 102, 239,  80,\n",
       "         42,  22, 168, 109,  77, 170,  31, 233,  15, 140, 250,  93,  32,\n",
       "          5, 178,  91,  24, 113,  54, 240, 226, 156,   9, 131,  87,  93,\n",
       "        101,  57, 232,  91,  77,  83, 230,  57, 158,  72,   0,  19, 166,\n",
       "        187, 237,  53, 141, 135, 118,  37,  80,  99, 179,  71,  32,  50,\n",
       "        224, 107], dtype=int64),\n",
       " array([ 64,  20, 250, 137,  55, 173,  18, 134,  19,  56, 109, 175,  40,\n",
       "         92, 120,  85, 245,  89, 158,  54,  89,   4, 227, 111, 239,  95,\n",
       "         42,  37, 168,  95,  41, 170,  92, 233,  15,   4, 250,  77,  32,\n",
       "          5, 178,  57,  24,  90,  56, 236, 230, 155,  11, 132,  87,  79,\n",
       "         93,  55, 228,  94,  77,  86, 234,  61, 158,  69,   2,  25, 157,\n",
       "        199, 231,  72, 147, 162,  77,  24,  76,  57, 163,  73,  28,  63,\n",
       "        225, 106], dtype=int64))"
      ]
     },
     "execution_count": 28,
     "metadata": {},
     "output_type": "execute_result"
    }
   ],
   "source": [
    "# Your code here:\n",
    "cats[0], cats[1], cats[2]"
   ]
  },
  {
   "cell_type": "code",
   "execution_count": 27,
   "metadata": {},
   "outputs": [
    {
     "data": {
      "text/plain": [
       "array([23, 23, 20, ..., 31, 23,  9], dtype=int64)"
      ]
     },
     "execution_count": 27,
     "metadata": {},
     "output_type": "execute_result"
    }
   ],
   "source": [
    "#Osea, una columna es un animal, es decir, un animal es igual a columna n * cada dato de esos más de 4mil rows \n",
    "#((cats[:,0])\n",
    "cats[:,1]"
   ]
  },
  {
   "cell_type": "markdown",
   "metadata": {},
   "source": [
    "Using `matplotlib` we can plot a single cat or a single dog. We do this by reshaping the vector back to a 64x64 image and then using the `imshow` function.\n",
    "\n",
    "Run the code below to look at the first dog and the first cat."
   ]
  },
  {
   "cell_type": "code",
   "execution_count": 18,
   "metadata": {},
   "outputs": [
    {
     "data": {
      "image/png": "[encoded data removed]",
      "text/plain": [
       "<Figure size 432x288 with 1 Axes>"
      ]
     },
     "metadata": {
      "needs_background": "light"
     },
     "output_type": "display_data"
    }
   ],
   "source": [
    "# Run this code:\n",
    "fig, ax = plt.subplots()\n",
    "ax.imshow(cats[:,0].reshape(64, 64).T, cmap=plt.cm.bone, interpolation='nearest');"
   ]
  },
  {
   "cell_type": "code",
   "execution_count": 20,
   "metadata": {},
   "outputs": [
    {
     "data": {
      "image/png": "[encoded data removed]",
      "text/plain": [
       "<Figure size 432x288 with 1 Axes>"
      ]
     },
     "metadata": {
      "needs_background": "light"
     },
     "output_type": "display_data"
    }
   ],
   "source": [
    "fig, ax = plt.subplots()\n",
    "ax.imshow(dogs[:,0].reshape(64, 64).T, cmap=plt.cm.bone, interpolation='nearest');"
   ]
  },
  {
   "cell_type": "markdown",
   "metadata": {},
   "source": [
    "Next, we would like to create a standardization function. This function will find the mean and standard deviation of each image. We subtract the mean from each pixel and divide each pixel by the standard deviation. Write the function below.\n",
    "\n",
    "Hint: To find the mean and standard deviation of each image, use `numpy`'s version of mean and stadnard deviation and use `axis=0`."
   ]
  },
  {
   "cell_type": "code",
   "execution_count": 32,
   "metadata": {},
   "outputs": [
    {
     "data": {
      "text/plain": [
       "58.609619140625"
      ]
     },
     "execution_count": 32,
     "metadata": {},
     "output_type": "execute_result"
    }
   ],
   "source": [
    "np.mean(cats[:,0])"
   ]
  },
  {
   "cell_type": "code",
   "execution_count": 34,
   "metadata": {},
   "outputs": [],
   "source": [
    "def standardize(x):\n",
    "    #This function takes as input a numpy array and returns a stadardized numpy array of the same dimensions.\n",
    "    #Sample input: np.array([[1,2,3],[4,5,6]])\n",
    "    #Sample output: np.array([[-1,-1,-1],[1,1,1]])\n",
    "    \n",
    "    # Your code here:\n",
    "    mn = np.mean(x, axis=0)\n",
    "    sd = np.std(x, axis=0)\n",
    "    \n",
    "    return mn - x / sd"
   ]
  },
  {
   "cell_type": "code",
   "execution_count": 37,
   "metadata": {},
   "outputs": [
    {
     "data": {
      "text/plain": [
       "(4096,)"
      ]
     },
     "execution_count": 37,
     "metadata": {},
     "output_type": "execute_result"
    }
   ],
   "source": [
    "standardize(cats[:,0]).shape"
   ]
  },
  {
   "cell_type": "markdown",
   "metadata": {},
   "source": [
    "Now, use the `np.concatenate` function to combine the cats and dogs arrays. Use `axis=1` to combine the two correctly. Make sure to put dogs first."
   ]
  },
  {
   "cell_type": "code",
   "execution_count": 45,
   "metadata": {},
   "outputs": [],
   "source": [
    "# Your code here:\n",
    "dogs_cats = np.concatenate((dogs, cats), axis=1)\n"
   ]
  },
  {
   "cell_type": "markdown",
   "metadata": {},
   "source": [
    "Standardize the concatenated array below."
   ]
  },
  {
   "cell_type": "code",
   "execution_count": 50,
   "metadata": {},
   "outputs": [
    {
     "data": {
      "text/plain": [
       "((4096, 160),\n",
       " array([[ 82.98815966, 151.2610683 ,  86.41173599, ..., 128.97634647,\n",
       "         137.48637082, 106.67319449],\n",
       "        [ 82.98815966, 151.35854126,  86.18746733, ..., 129.23277082,\n",
       "         137.4689385 , 106.52393133],\n",
       "        [ 82.98815966, 151.63703542,  86.41173599, ..., 128.89941916,\n",
       "         137.45150617, 106.54880852],\n",
       "        ...,\n",
       "        [ 85.13723558, 151.63703542,  86.71076088, ..., 127.82243688,\n",
       "         138.2359608 , 106.34979098],\n",
       "        [ 85.13723558, 151.35854126,  86.98486702, ..., 127.48908522,\n",
       "         138.20109615, 106.92196642],\n",
       "        [ 85.13723558, 151.35854126,  86.98486702, ..., 127.84807932,\n",
       "         138.28825777, 106.37466817]]))"
      ]
     },
     "execution_count": 50,
     "metadata": {},
     "output_type": "execute_result"
    }
   ],
   "source": [
    "# Your code here:\n",
    "\n",
    "#ahora tengo una lista de listas de arrays que contienen los 4096 rows normalizados, para 160 animales\n",
    "dogs_cats_normalized = standardize(dogs_cats) \n",
    "standardize(dogs_cats).shape, dogs_cats_normalized\n"
   ]
  },
  {
   "cell_type": "markdown",
   "metadata": {},
   "source": [
    "# Challenge 2 - Using PCA\n",
    "\n",
    "Now that we have created a standardized matrix of cats and dogs, we'll find the two most important components in the data.\n",
    "\n",
    "Load the `PCA` function from `statsmodels` (read about this function [here](https://www.statsmodels.org/dev/generated/statsmodels.multivariate.pca.PCA.html)) and apply the function to our standarized data. Create a PCA model with two components."
   ]
  },
  {
   "cell_type": "code",
   "execution_count": 51,
   "metadata": {},
   "outputs": [
    {
     "data": {
      "text/plain": [
       "array([0.17410595, 0.11164796, 0.06389152, 0.0542719 , 0.04897816,\n",
       "       0.03390659, 0.02661027, 0.02507206, 0.02217166, 0.02009073,\n",
       "       0.0173193 , 0.01581285, 0.01430604, 0.01351275, 0.01278773,\n",
       "       0.01220919, 0.01165098, 0.01080984, 0.00977024, 0.00950451,\n",
       "       0.00900898, 0.00834422, 0.00797273, 0.00772716, 0.0072879 ,\n",
       "       0.00699192, 0.00688448, 0.00642875, 0.00604261, 0.00588794,\n",
       "       0.00566072, 0.00546086, 0.00533434, 0.00504804, 0.00478318,\n",
       "       0.00473376, 0.00458438, 0.00447666, 0.00428867, 0.00416086,\n",
       "       0.00409783, 0.00392938, 0.0038757 , 0.0037484 , 0.00357018,\n",
       "       0.00351496, 0.0034694 , 0.00337518, 0.00319956, 0.00318808,\n",
       "       0.00310887, 0.00304881, 0.00294983, 0.00277177, 0.00275779,\n",
       "       0.00267123, 0.00260622, 0.00257429, 0.00254506, 0.00250138,\n",
       "       0.00243163, 0.00242128, 0.00233683, 0.0023092 , 0.00222915,\n",
       "       0.00221695, 0.00217212, 0.00211342, 0.00202607, 0.00198604,\n",
       "       0.00195751, 0.00192872, 0.00188739, 0.00187697, 0.0018293 ,\n",
       "       0.00174569, 0.00174481, 0.00171013, 0.00167743, 0.00164033,\n",
       "       0.0015844 , 0.00155791, 0.0015487 , 0.00154252, 0.00148881,\n",
       "       0.00147125, 0.00143122, 0.00139862, 0.00138703, 0.0013544 ,\n",
       "       0.00133039, 0.00132078, 0.00130234, 0.00125782, 0.00124916,\n",
       "       0.00121229, 0.00119751, 0.00117624, 0.00114422, 0.0011416 ,\n",
       "       0.00112483, 0.0011015 , 0.00104329, 0.00101697, 0.00100401,\n",
       "       0.00099686, 0.00097845, 0.00096216, 0.00094248, 0.00093099,\n",
       "       0.00091689, 0.0009149 , 0.00089443, 0.00087535, 0.00085901,\n",
       "       0.00084036, 0.00082529, 0.00081636, 0.00080123, 0.00079014,\n",
       "       0.0007738 , 0.00076613, 0.00074309, 0.00073694, 0.00072793,\n",
       "       0.00071367, 0.00069919, 0.00068802, 0.00067575, 0.00065361,\n",
       "       0.00064443, 0.00063246, 0.0006116 , 0.0006079 , 0.00059577,\n",
       "       0.00056433, 0.00055547, 0.00054936, 0.00053795, 0.00052159,\n",
       "       0.00051414, 0.00049905, 0.00049256, 0.0004636 , 0.00045927,\n",
       "       0.00045159, 0.00044589, 0.0004373 , 0.00042624, 0.00042045,\n",
       "       0.00039697, 0.00038283, 0.00038058, 0.00036116, 0.00035004,\n",
       "       0.0003314 , 0.00031682, 0.00029949, 0.00028208, 0.00027357])"
      ]
     },
     "execution_count": 51,
     "metadata": {},
     "output_type": "execute_result"
    }
   ],
   "source": [
    "# Your code here:\n",
    "from sklearn.decomposition import PCA\n",
    "pca=PCA()\n",
    "pca.fit(dogs_cats_normalized)\n",
    "pca.explained_variance_ratio_ #Varianza de cada columna del arrrayplt.figure(figsize=(10,8))"
   ]
  },
  {
   "cell_type": "code",
   "execution_count": 53,
   "metadata": {},
   "outputs": [
    {
     "data": {
      "image/png": "[encoded data removed]",
      "text/plain": [
       "<Figure size 720x576 with 1 Axes>"
      ]
     },
     "metadata": {
      "needs_background": "light"
     },
     "output_type": "display_data"
    }
   ],
   "source": [
    "plt.figure(figsize=(10,8))\n",
    "plt.plot(np.cumsum(pca.explained_variance_ratio_))\n",
    "plt.xlabel('Numero de componentes')\n",
    "plt.ylabel('% de varianza')\n",
    "plt.ylim([0,1])\n",
    "plt.show();"
   ]
  },
  {
   "cell_type": "code",
   "execution_count": null,
   "metadata": {},
   "outputs": [],
   "source": [
    "#Si reduces este array a dos componentes, vas a omitir la mayoría de los datos"
   ]
  },
  {
   "cell_type": "code",
   "execution_count": 57,
   "metadata": {},
   "outputs": [],
   "source": [
    "pca=PCA(n_components=2)\n",
    "pet_2_components = pca.fit_transform(dogs_cats_normalized)"
   ]
  },
  {
   "cell_type": "markdown",
   "metadata": {},
   "source": [
    "Use `numpy` to find to transpose the standardized pet array. This will help us compute the projection."
   ]
  },
  {
   "cell_type": "code",
   "execution_count": 69,
   "metadata": {},
   "outputs": [
    {
     "data": {
      "text/plain": [
       "((2, 4096), (4096, 160))"
      ]
     },
     "execution_count": 69,
     "metadata": {},
     "output_type": "execute_result"
    }
   ],
   "source": [
    "# Your code here:\n",
    "pet_2_components.T.shape, dogs_cats_normalized.shape"
   ]
  },
  {
   "cell_type": "markdown",
   "metadata": {},
   "source": [
    "Find the dot product of the transposed standardized pet matrix and the `factors` of the `PCA` model found above. This will be the projection onto 2 dimensions. This means that each cat and dog image will now only have two columns instead of 4096."
   ]
  },
  {
   "cell_type": "code",
   "execution_count": 73,
   "metadata": {},
   "outputs": [
    {
     "data": {
      "text/plain": [
       "((2, 160), array([[-14348.51403677, -10873.02275018,   4378.84811265,\n",
       "          -1717.00752167, -11101.88402457,   2968.6919336 ,\n",
       "          -7483.06177563,  -4833.63699642,  -4191.47399722,\n",
       "         -13334.74078854,   -118.38412464,  -7355.88388529,\n",
       "          -2874.48879141,   1033.48452773,  -6479.84258762,\n",
       "          -5938.77320759,  -5412.98957708, -13186.93810987,\n",
       "          -6217.39373611,  -5259.36311313,   1224.55684941,\n",
       "           -545.64281327,  -3317.29733788,  -4008.83806446,\n",
       "          -9166.89852254,    -76.79807931,   1253.36449404,\n",
       "           -301.47692629,  -4596.55030497,  -3279.02474235,\n",
       "          -1618.32754575,  -2496.62003425, -10175.68550282,\n",
       "          -4459.79674144,   2453.70336302,  -5357.5866215 ,\n",
       "           4797.73246883,   -475.36593693,   2221.68608115,\n",
       "          -9681.7348491 ,  -5759.53696255,  -3876.90016829,\n",
       "           3402.68772011,  -5129.89286149,   2722.85191447,\n",
       "          -6834.33747589,  -8975.72411052,  -2350.51419542,\n",
       "          -5151.35683076,   5578.66853716,  -9957.54405691,\n",
       "         -12384.1942069 ,  -2065.89275395,   7365.2312572 ,\n",
       "           7290.94746577,   4730.48420648,  -9846.61147765,\n",
       "          -5013.19119675,   5624.15301491,    699.72887164,\n",
       "          -2615.24351251, -10477.51871102, -10474.3933387 ,\n",
       "           7749.79937402,   3611.89047041,  -9229.22902466,\n",
       "          -1714.21647517,  10885.35620467,    777.33566308,\n",
       "          -7654.98784187,   3583.33537   ,    340.30953639,\n",
       "          -8924.04370145,   7119.16642073,  -3469.77549202,\n",
       "         -13467.5378496 , -11225.06254643,   2797.49537399,\n",
       "           1132.22317944, -13177.99794347,   5288.22176971,\n",
       "          16785.39557367, -16270.01004815, -13851.78938921,\n",
       "          10194.47702004,   7049.21629105,  13986.21248969,\n",
       "           1761.11819276,  14309.89237639,   7107.81968116,\n",
       "            -21.97232395,  -1945.9281445 ,  17497.27386934,\n",
       "          10242.61544423,  -9761.4407069 ,  13228.27940934,\n",
       "          -9780.37392724,  11229.56457972, -14468.45333027,\n",
       "          17092.00228841,  -3709.03986303,  12002.49701345,\n",
       "          11997.6494449 ,  11495.59260392, -17430.5812927 ,\n",
       "           2377.41024541,  11805.90370021,  10667.36556214,\n",
       "          -7227.4762599 ,   7056.49386814,    827.69208102,\n",
       "          -4180.22790324,   6233.48259134, -17881.12661877,\n",
       "          17265.18162685,   2565.78366739, -17052.83217728,\n",
       "          14522.42862588,   7077.75135304,   5248.87170889,\n",
       "           2473.65523644,   9167.89430127,  18395.78575508,\n",
       "          10813.44120344,  17509.76644255, -11302.36681655,\n",
       "         -11510.07589482,  -9694.4164596 ,  17134.01628424,\n",
       "           -404.94372754,   8433.06121051,   5376.3706035 ,\n",
       "          15589.91313861,  12168.29868247,  -6274.43802696,\n",
       "          13139.25599249,  12272.45793556,   6590.70324958,\n",
       "         -11135.50820412,   7340.14552188,    586.75885759,\n",
       "           7224.10927199,  13343.09908774,  14208.55735512,\n",
       "          -8477.9198376 ,   2376.70334259, -17235.50410021,\n",
       "           1213.02141482,  -7514.96555033, -11034.72200575,\n",
       "          -5308.59641189,  11831.50674016,   3711.99454644,\n",
       "           -677.47316071,  -3745.53807193,   9083.16430507,\n",
       "          11127.61797077,  15434.30445026,  -5767.39028881,\n",
       "           2729.02753901],\n",
       "        [  3981.25923162,  -5211.50977916,  -4874.92226098,\n",
       "          -8914.4421457 ,   1114.37015954, -12223.60190717,\n",
       "          -3579.58874575, -10566.11840153, -10471.82368424,\n",
       "            597.04215933,  -9615.53078298,  -4776.32902472,\n",
       "          -4525.6889491 ,  -4864.29727473,  -8603.57329736,\n",
       "          -9088.02841395,  -2248.44035581,  -5746.19308344,\n",
       "          -7773.48468287, -12111.02590593,  -9684.24337518,\n",
       "         -10373.06468983,  -4130.01552641, -11060.20418139,\n",
       "          -8303.43516963, -11712.34544643,  -7792.92162105,\n",
       "          -6195.37998426, -12812.5304569 ,  -6686.88531341,\n",
       "          -8292.43312359,  -7304.55519785,  -7913.1828989 ,\n",
       "          -9600.56833589, -10334.52628678,  -4019.7426146 ,\n",
       "         -10256.30210533,  -8548.30951033, -11645.36384957,\n",
       "          -5150.36978841, -10855.037297  ,   4513.32788386,\n",
       "          -8888.40754175,  -7336.80807037,  -4363.92487848,\n",
       "           6062.08262665,   2271.50561811,  -2165.33419579,\n",
       "           3191.85483773,  -9319.56464682,   2996.33646393,\n",
       "           7237.63106005,   4095.95845012, -10883.19369518,\n",
       "          -1344.72604583,  -1014.13365298,   1684.84103   ,\n",
       "           3296.67998166,  -7272.06410846,  -8205.26753683,\n",
       "         -10581.20825562,   5809.03475158,   1491.34631319,\n",
       "            796.22496695,  -2412.14306939,    -31.48504041,\n",
       "           5943.15995884,  -3089.94438249,   -882.97258983,\n",
       "          -7829.01568025,  -3181.29184798,  -8636.10219516,\n",
       "          -6849.44333498,  -6520.90417051,   6771.40392166,\n",
       "           1589.17420387,  -2345.05996527,  -9367.5494063 ,\n",
       "          -8977.37849938,    724.34631726,   3846.2147913 ,\n",
       "            276.00939317,   1015.14538728,   -361.36801192,\n",
       "           4735.15751467,   8906.64208125,   -802.51158132,\n",
       "           4594.98018278,   2060.97110257,   4658.84875798,\n",
       "           1258.96119982,   1193.8014926 ,   2678.72038022,\n",
       "           3220.40723513,   3721.68916819,   4448.49627142,\n",
       "           2950.13446145,   2833.97028238,   -213.89591691,\n",
       "           1336.11155774,   3305.85145352,   -504.80310649,\n",
       "          -3527.45738993,  -8686.63531589,   1590.07433219,\n",
       "          -5857.83159183,   4871.48037012,  -4920.69343411,\n",
       "            676.75264868,   2816.93902856,   4509.30576292,\n",
       "           4176.51625722,   8005.23497919,   3025.22130198,\n",
       "           -565.43933302,  -3234.9862754 ,   -519.08159974,\n",
       "           2136.85213809,  -5503.672941  ,   3876.33906388,\n",
       "           5266.97867146,   4908.81835559,  -3924.7664749 ,\n",
       "          -5573.04135615,  -5089.75173661,   4028.95285361,\n",
       "          -1220.12923361,   2679.95703801,  -1324.819935  ,\n",
       "           2287.77819343,   4088.45340607,  -3195.48643604,\n",
       "           4216.63826542,   3578.51106144,   5539.79288978,\n",
       "           4849.39675558,   5969.00723119,  -2501.3766335 ,\n",
       "           7493.70310467,  -9242.91807785,   -325.61841669,\n",
       "           3839.57542243,   2831.36792063,  -2966.08246628,\n",
       "            645.24258024,   4996.24302687,   2079.06069783,\n",
       "           -110.15817787,   1770.78882911,  -1242.03370331,\n",
       "            975.06363204,  -3244.82670185,   3907.36176369,\n",
       "          -1036.97369579,   -178.54483926,  -5162.86615422,\n",
       "          -6407.59430634,  -3475.07562306,  -1036.51680737,\n",
       "           3500.99736024]]))"
      ]
     },
     "execution_count": 73,
     "metadata": {},
     "output_type": "execute_result"
    }
   ],
   "source": [
    "# Your code here:\n",
    "dotted = np.dot(pet_2_components.T, dogs_cats_normalized)\n",
    "dotted.shape, dotted"
   ]
  },
  {
   "cell_type": "markdown",
   "metadata": {},
   "source": [
    "# Challenge 3 - Plotting the Data\n",
    "\n",
    "Now that we have reduced our cats and dogs arrays, we can easily plot the data in a way that the human eye can understand. We can look at this plot to see whether there are differences between the cat and dog images. \n",
    "\n",
    "In the cell below, turn the two dimensional projection into a pandas dataframe and name the columns `pc1`, and `pc2` respectively."
   ]
  },
  {
   "cell_type": "code",
   "execution_count": 77,
   "metadata": {},
   "outputs": [
    {
     "data": {
      "text/html": [
       "<div>\n",
       "<style scoped>\n",
       "    .dataframe tbody tr th:only-of-type {\n",
       "        vertical-align: middle;\n",
       "    }\n",
       "\n",
       "    .dataframe tbody tr th {\n",
       "        vertical-align: top;\n",
       "    }\n",
       "\n",
       "    .dataframe thead th {\n",
       "        text-align: right;\n",
       "    }\n",
       "</style>\n",
       "<table border=\"1\" class=\"dataframe\">\n",
       "  <thead>\n",
       "    <tr style=\"text-align: right;\">\n",
       "      <th></th>\n",
       "      <th>pc1</th>\n",
       "      <th>pc2</th>\n",
       "    </tr>\n",
       "  </thead>\n",
       "  <tbody>\n",
       "    <tr>\n",
       "      <th>0</th>\n",
       "      <td>-14348.514037</td>\n",
       "      <td>3981.259232</td>\n",
       "    </tr>\n",
       "    <tr>\n",
       "      <th>1</th>\n",
       "      <td>-10873.022750</td>\n",
       "      <td>-5211.509779</td>\n",
       "    </tr>\n",
       "    <tr>\n",
       "      <th>2</th>\n",
       "      <td>4378.848113</td>\n",
       "      <td>-4874.922261</td>\n",
       "    </tr>\n",
       "    <tr>\n",
       "      <th>3</th>\n",
       "      <td>-1717.007522</td>\n",
       "      <td>-8914.442146</td>\n",
       "    </tr>\n",
       "    <tr>\n",
       "      <th>4</th>\n",
       "      <td>-11101.884025</td>\n",
       "      <td>1114.370160</td>\n",
       "    </tr>\n",
       "  </tbody>\n",
       "</table>\n",
       "</div>"
      ],
      "text/plain": [
       "            pc1          pc2\n",
       "0 -14348.514037  3981.259232\n",
       "1 -10873.022750 -5211.509779\n",
       "2   4378.848113 -4874.922261\n",
       "3  -1717.007522 -8914.442146\n",
       "4 -11101.884025  1114.370160"
      ]
     },
     "execution_count": 77,
     "metadata": {},
     "output_type": "execute_result"
    }
   ],
   "source": [
    "# Your code here:\n",
    "\n",
    "df = pd.DataFrame(dotted.T, columns=['pc1', 'pc2'])\n",
    "df.head()"
   ]
  },
  {
   "cell_type": "markdown",
   "metadata": {},
   "source": [
    "Create a labels list. This list will be of size 160. The first 80 elements in the list will be the word `blue`, and the last 80 elements will be `red`. This will ensure that all dog observations will be colored in blue and all cats will be colored in red. Name this list `colors`."
   ]
  },
  {
   "cell_type": "code",
   "execution_count": 81,
   "metadata": {},
   "outputs": [
    {
     "data": {
      "text/plain": [
       "(80, 80)"
      ]
     },
     "execution_count": 81,
     "metadata": {},
     "output_type": "execute_result"
    }
   ],
   "source": [
    "# Your code here:\n",
    "\n",
    "colors = []\n",
    "for e in range(160):\n",
    "    if e <=79:\n",
    "        colors.append('blue')\n",
    "    else:\n",
    "        colors.append('red')\n",
    "\n",
    "colors.count('blue'), colors.count('red')"
   ]
  },
  {
   "cell_type": "markdown",
   "metadata": {},
   "source": [
    "Create a scatter plot of `pc1` and `pc2` below. Use the `colors` list above to color the observations by setting `c=colors`."
   ]
  },
  {
   "cell_type": "code",
   "execution_count": 83,
   "metadata": {},
   "outputs": [
    {
     "data": {
      "image/png": "[encoded data removed]",
      "text/plain": [
       "<Figure size 1008x576 with 1 Axes>"
      ]
     },
     "metadata": {
      "needs_background": "light"
     },
     "output_type": "display_data"
    }
   ],
   "source": [
    "# Your code here:\n",
    "plt.figure(figsize=(14,8))\n",
    "plt.scatter(df.pc1,df.pc2, c=colors);"
   ]
  },
  {
   "cell_type": "markdown",
   "metadata": {},
   "source": [
    "Do you see a clear separation between cats and dogs? Write your answer below."
   ]
  },
  {
   "cell_type": "code",
   "execution_count": 18,
   "metadata": {},
   "outputs": [],
   "source": [
    "# Your conclusions here:\n",
    "#La idea era tratar de diferenciar a los gatos y perros en un gráfico. En el scatter anterior se puede ver que hay una diferencia\n",
    "#entre la mayoría de los puntos rojos y azules, sin embargo, hay una franja en el medio en donde estos puntos se mezclan.\n",
    "\n",
    "#Dice Yona que iba intentar hacer esta diferenciación mediante UMAP, para ver si en el gráfico se independizan más los puntos\n",
    "#de los perros vs los gatos.\n"
   ]
  },
  {
   "cell_type": "code",
   "execution_count": null,
   "metadata": {},
   "outputs": [],
   "source": []
  }
 ],
 "metadata": {
  "kernelspec": {
   "display_name": "Python 3",
   "language": "python",
   "name": "python3"
  },
  "language_info": {
   "codemirror_mode": {
    "name": "ipython",
    "version": 3
   },
   "file_extension": ".py",
   "mimetype": "text/x-python",
   "name": "python",
   "nbconvert_exporter": "python",
   "pygments_lexer": "ipython3",
   "version": "3.7.3"
  }
 },
 "nbformat": 4,
 "nbformat_minor": 2
}
