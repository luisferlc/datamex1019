{
 "cells": [
  {
   "cell_type": "markdown",
   "metadata": {},
   "source": [
    "# Cambiando -99.0 a None"
   ]
  },
  {
   "cell_type": "code",
   "execution_count": 1,
   "metadata": {},
   "outputs": [],
   "source": [
    "import warnings\n",
    "warnings.simplefilter(\"ignore\")\n",
    "import pandas as pd\n",
    "import numpy as np\n",
    "import glob, os\n",
    "import datetime\n",
    "import matplotlib.pyplot as plt"
   ]
  },
  {
   "cell_type": "code",
   "execution_count": 2,
   "metadata": {},
   "outputs": [
    {
     "data": {
      "text/plain": [
       "['C:\\\\Users\\\\luisf\\\\Documents\\\\Python Projects\\\\datamex1019\\\\air-quality-cdmx\\\\data_aircdmx\\\\2000PM10.xls',\n",
       " 'C:\\\\Users\\\\luisf\\\\Documents\\\\Python Projects\\\\datamex1019\\\\air-quality-cdmx\\\\data_aircdmx\\\\2001PM10.xls',\n",
       " 'C:\\\\Users\\\\luisf\\\\Documents\\\\Python Projects\\\\datamex1019\\\\air-quality-cdmx\\\\data_aircdmx\\\\2002PM10.xls',\n",
       " 'C:\\\\Users\\\\luisf\\\\Documents\\\\Python Projects\\\\datamex1019\\\\air-quality-cdmx\\\\data_aircdmx\\\\2003PM10.xls',\n",
       " 'C:\\\\Users\\\\luisf\\\\Documents\\\\Python Projects\\\\datamex1019\\\\air-quality-cdmx\\\\data_aircdmx\\\\2004PM10.xls',\n",
       " 'C:\\\\Users\\\\luisf\\\\Documents\\\\Python Projects\\\\datamex1019\\\\air-quality-cdmx\\\\data_aircdmx\\\\2005PM10.xls',\n",
       " 'C:\\\\Users\\\\luisf\\\\Documents\\\\Python Projects\\\\datamex1019\\\\air-quality-cdmx\\\\data_aircdmx\\\\2006PM10.xls',\n",
       " 'C:\\\\Users\\\\luisf\\\\Documents\\\\Python Projects\\\\datamex1019\\\\air-quality-cdmx\\\\data_aircdmx\\\\2007PM10.xls',\n",
       " 'C:\\\\Users\\\\luisf\\\\Documents\\\\Python Projects\\\\datamex1019\\\\air-quality-cdmx\\\\data_aircdmx\\\\2008PM10.xls',\n",
       " 'C:\\\\Users\\\\luisf\\\\Documents\\\\Python Projects\\\\datamex1019\\\\air-quality-cdmx\\\\data_aircdmx\\\\2009PM10.xls',\n",
       " 'C:\\\\Users\\\\luisf\\\\Documents\\\\Python Projects\\\\datamex1019\\\\air-quality-cdmx\\\\data_aircdmx\\\\2010PM10.xls',\n",
       " 'C:\\\\Users\\\\luisf\\\\Documents\\\\Python Projects\\\\datamex1019\\\\air-quality-cdmx\\\\data_aircdmx\\\\2011PM10.xls',\n",
       " 'C:\\\\Users\\\\luisf\\\\Documents\\\\Python Projects\\\\datamex1019\\\\air-quality-cdmx\\\\data_aircdmx\\\\2012PM10.xls',\n",
       " 'C:\\\\Users\\\\luisf\\\\Documents\\\\Python Projects\\\\datamex1019\\\\air-quality-cdmx\\\\data_aircdmx\\\\2013PM10.xls',\n",
       " 'C:\\\\Users\\\\luisf\\\\Documents\\\\Python Projects\\\\datamex1019\\\\air-quality-cdmx\\\\data_aircdmx\\\\2014PM10.xls',\n",
       " 'C:\\\\Users\\\\luisf\\\\Documents\\\\Python Projects\\\\datamex1019\\\\air-quality-cdmx\\\\data_aircdmx\\\\2015PM10.xls',\n",
       " 'C:\\\\Users\\\\luisf\\\\Documents\\\\Python Projects\\\\datamex1019\\\\air-quality-cdmx\\\\data_aircdmx\\\\2016PM10.xls',\n",
       " 'C:\\\\Users\\\\luisf\\\\Documents\\\\Python Projects\\\\datamex1019\\\\air-quality-cdmx\\\\data_aircdmx\\\\2017PM10.xls',\n",
       " 'C:\\\\Users\\\\luisf\\\\Documents\\\\Python Projects\\\\datamex1019\\\\air-quality-cdmx\\\\data_aircdmx\\\\2018PM10.xls',\n",
       " 'C:\\\\Users\\\\luisf\\\\Documents\\\\Python Projects\\\\datamex1019\\\\air-quality-cdmx\\\\data_aircdmx\\\\2019PM10.xls']"
      ]
     },
     "execution_count": 2,
     "metadata": {},
     "output_type": "execute_result"
    }
   ],
   "source": [
    "## Importando los datos para PM10\n",
    "path = r'C:\\Users\\luisf\\Documents\\Python Projects\\datamex1019\\air-quality-cdmx\\data_aircdmx'                     # use your path\n",
    "all_files = glob.glob(os.path.join(path, \"*PM10.xls\"))     # advisable to use os.path.join as this makes concatenation OS independent\n",
    "all_files"
   ]
  },
  {
   "cell_type": "code",
   "execution_count": 3,
   "metadata": {},
   "outputs": [],
   "source": [
    "df_from_each_file = (pd.read_excel(f) for f in all_files)\n",
    "df_from_each_file\n",
    "concatenated_df=pd.concat([i.set_index(['FECHA']+['HORA']) for i in df_from_each_file]).reset_index()"
   ]
  },
  {
   "cell_type": "code",
   "execution_count": 4,
   "metadata": {},
   "outputs": [],
   "source": [
    "#Filtrando por las alcaldías dentro del alcance\n",
    "df=concatenated_df[[\"FECHA\",\"HORA\",\"BJU\",\"HGM\",\"MGH\"]]"
   ]
  },
  {
   "cell_type": "code",
   "execution_count": 6,
   "metadata": {},
   "outputs": [
    {
     "data": {
      "text/plain": [
       "23        24\n",
       "47        24\n",
       "71        24\n",
       "95        24\n",
       "119       24\n",
       "143       24\n",
       "167       24\n",
       "191       24\n",
       "215       24\n",
       "239       24\n",
       "263       24\n",
       "287       24\n",
       "311       24\n",
       "335       24\n",
       "359       24\n",
       "383       24\n",
       "407       24\n",
       "431       24\n",
       "455       24\n",
       "479       24\n",
       "503       24\n",
       "527       24\n",
       "551       24\n",
       "575       24\n",
       "599       24\n",
       "623       24\n",
       "647       24\n",
       "671       24\n",
       "695       24\n",
       "719       24\n",
       "          ..\n",
       "173159    24\n",
       "173183    24\n",
       "173207    24\n",
       "173231    24\n",
       "173255    24\n",
       "173279    24\n",
       "173303    24\n",
       "173327    24\n",
       "173351    24\n",
       "173375    24\n",
       "173399    24\n",
       "173423    24\n",
       "173447    24\n",
       "173471    24\n",
       "173495    24\n",
       "173519    24\n",
       "173543    24\n",
       "173567    24\n",
       "173591    24\n",
       "173615    24\n",
       "173639    24\n",
       "173663    24\n",
       "173687    24\n",
       "173711    24\n",
       "173735    24\n",
       "173759    24\n",
       "173783    24\n",
       "173807    24\n",
       "173831    24\n",
       "173855    24\n",
       "Name: HORA, Length: 7244, dtype: int64"
      ]
     },
     "execution_count": 6,
     "metadata": {},
     "output_type": "execute_result"
    }
   ],
   "source": [
    "df.HORA[df.HORA==24]"
   ]
  },
  {
   "cell_type": "code",
   "execution_count": 8,
   "metadata": {},
   "outputs": [
    {
     "data": {
      "text/plain": [
       "0   2000-01-01 01:00:00\n",
       "1   2000-01-01 02:00:00\n",
       "2   2000-01-01 03:00:00\n",
       "3   2000-01-01 04:00:00\n",
       "4   2000-01-01 05:00:00\n",
       "Name: DATETIME, dtype: datetime64[ns]"
      ]
     },
     "execution_count": 8,
     "metadata": {},
     "output_type": "execute_result"
    }
   ],
   "source": [
    "df.HORA[df.HORA==24] = 00\n",
    "df.FECHA=df.FECHA.apply(str)\n",
    "df.FECHA=df.FECHA.apply(lambda x: x.replace(' 00:00:00',''))\n",
    "df['DATETIME']=df.FECHA + ' ' + df.HORA.apply(str)+':00:00'\n",
    "#df.DATETIME=df.DATETIME.apply(lambda x: x.replace(' 00:00:00',''))\n",
    "df.DATETIME=pd.to_datetime(df.DATETIME)\n",
    "df.DATETIME.head()"
   ]
  },
  {
   "cell_type": "code",
   "execution_count": 9,
   "metadata": {},
   "outputs": [],
   "source": [
    "df_benito=df[[\"DATETIME\",\"FECHA\",\"HORA\",\"BJU\"]]\n",
    "df_cuauh=df[[\"DATETIME\",\"FECHA\",\"HORA\",\"HGM\"]]\n",
    "df_miguel=df[[\"DATETIME\",\"FECHA\",\"HORA\",\"MGH\"]]"
   ]
  },
  {
   "cell_type": "code",
   "execution_count": 10,
   "metadata": {},
   "outputs": [],
   "source": [
    "df_benito=df_benito[df_benito.FECHA >= '2015-01-01']\n",
    "df_cuauh=df_cuauh[df_cuauh.FECHA >= '2012-01-01']\n",
    "df_miguel=df_miguel[df_miguel.FECHA >= '2015-01-01']"
   ]
  },
  {
   "cell_type": "markdown",
   "metadata": {},
   "source": [
    "## Miguel"
   ]
  },
  {
   "cell_type": "code",
   "execution_count": null,
   "metadata": {},
   "outputs": [],
   "source": [
    "f, ax=plt.subplots(1)\n",
    "f.set_figheight(8)\n",
    "f.set_figwidth(20)\n",
    "ax.scatter(df_miguel.DATETIME, df_miguel.MGH, color='r');"
   ]
  },
  {
   "cell_type": "code",
   "execution_count": null,
   "metadata": {},
   "outputs": [],
   "source": [
    "df_miguel[df_miguel.MGH == -99.0] = None"
   ]
  },
  {
   "cell_type": "code",
   "execution_count": null,
   "metadata": {},
   "outputs": [],
   "source": [
    "df_miguel.isnull().sum()"
   ]
  },
  {
   "cell_type": "code",
   "execution_count": null,
   "metadata": {},
   "outputs": [],
   "source": [
    "f, ax=plt.subplots(1)\n",
    "f.set_figheight(8)\n",
    "f.set_figwidth(20)\n",
    "ax.scatter(df_miguel.DATETIME, df_miguel.MGH, color='r');"
   ]
  },
  {
   "cell_type": "code",
   "execution_count": null,
   "metadata": {},
   "outputs": [],
   "source": [
    "plt.figure(figsize=(4, 8))\n",
    "df_miguel.boxplot(column = 'MGH');"
   ]
  },
  {
   "cell_type": "code",
   "execution_count": null,
   "metadata": {},
   "outputs": [],
   "source": [
    "plt.figure(figsize=(4, 8))\n",
    "df_miguel[df_miguel.MGH < 200].boxplot(column = 'MGH');"
   ]
  },
  {
   "cell_type": "code",
   "execution_count": null,
   "metadata": {},
   "outputs": [],
   "source": [
    "#df_miguel.to_csv(\"data_clean/miguel_pm10_clean_v2.csv\")"
   ]
  },
  {
   "cell_type": "markdown",
   "metadata": {},
   "source": [
    "## Cuauh"
   ]
  },
  {
   "cell_type": "code",
   "execution_count": null,
   "metadata": {},
   "outputs": [],
   "source": [
    "f, ax=plt.subplots(1)\n",
    "f.set_figheight(8)\n",
    "f.set_figwidth(20)\n",
    "ax.scatter(df_cuauh.DATETIME, df_cuauh.HGM, color='r');"
   ]
  },
  {
   "cell_type": "code",
   "execution_count": 12,
   "metadata": {},
   "outputs": [],
   "source": [
    "df_cuauh[df_cuauh.HGM == -99.0] = None"
   ]
  },
  {
   "cell_type": "code",
   "execution_count": 13,
   "metadata": {},
   "outputs": [
    {
     "data": {
      "text/plain": [
       "DATETIME    11202\n",
       "FECHA       11202\n",
       "HORA        11202\n",
       "HGM         11202\n",
       "dtype: int64"
      ]
     },
     "execution_count": 13,
     "metadata": {},
     "output_type": "execute_result"
    }
   ],
   "source": [
    "df_cuauh.isnull().sum()"
   ]
  },
  {
   "cell_type": "code",
   "execution_count": 14,
   "metadata": {},
   "outputs": [
    {
     "data": {
      "image/png": "[encoded data removed]",
      "text/plain": [
       "<Figure size 1440x576 with 1 Axes>"
      ]
     },
     "metadata": {
      "needs_background": "light"
     },
     "output_type": "display_data"
    }
   ],
   "source": [
    "f, ax=plt.subplots(1)\n",
    "f.set_figheight(8)\n",
    "f.set_figwidth(20)\n",
    "ax.scatter(df_cuauh.DATETIME, df_cuauh.HGM, color='r');"
   ]
  },
  {
   "cell_type": "code",
   "execution_count": 16,
   "metadata": {},
   "outputs": [
    {
     "data": {
      "image/png": "[encoded data removed]",
      "text/plain": [
       "<Figure size 288x576 with 1 Axes>"
      ]
     },
     "metadata": {
      "needs_background": "light"
     },
     "output_type": "display_data"
    }
   ],
   "source": [
    "plt.figure(figsize=(4, 8))\n",
    "df_cuauh.boxplot(column = 'HGM');"
   ]
  },
  {
   "cell_type": "code",
   "execution_count": 21,
   "metadata": {},
   "outputs": [],
   "source": [
    "#df_cuauh.to_csv(\"data_clean/cuauh_pm10_clean_v2.csv\")"
   ]
  },
  {
   "cell_type": "markdown",
   "metadata": {},
   "source": [
    "## Benito Juárez"
   ]
  },
  {
   "cell_type": "code",
   "execution_count": null,
   "metadata": {},
   "outputs": [],
   "source": [
    "f, ax=plt.subplots(1)\n",
    "f.set_figheight(8)\n",
    "f.set_figwidth(20)\n",
    "ax.scatter(df_benito.DATETIME, df_benito.BJU, color='r');"
   ]
  },
  {
   "cell_type": "code",
   "execution_count": null,
   "metadata": {},
   "outputs": [],
   "source": [
    "df_benito.isnull().sum()"
   ]
  },
  {
   "cell_type": "code",
   "execution_count": null,
   "metadata": {},
   "outputs": [],
   "source": [
    "df_benito[df_benito.BJU == -99.0] = None"
   ]
  },
  {
   "cell_type": "code",
   "execution_count": null,
   "metadata": {},
   "outputs": [],
   "source": [
    "df_benito.isnull().sum()"
   ]
  }
 ],
 "metadata": {
  "kernelspec": {
   "display_name": "Python 3",
   "language": "python",
   "name": "python3"
  },
  "language_info": {
   "codemirror_mode": {
    "name": "ipython",
    "version": 3
   },
   "file_extension": ".py",
   "mimetype": "text/x-python",
   "name": "python",
   "nbconvert_exporter": "python",
   "pygments_lexer": "ipython3",
   "version": "3.7.3"
  }
 },
 "nbformat": 4,
 "nbformat_minor": 2
}
