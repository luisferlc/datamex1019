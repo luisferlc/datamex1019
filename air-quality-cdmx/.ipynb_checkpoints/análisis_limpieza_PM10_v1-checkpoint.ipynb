{
 "cells": [
  {
   "cell_type": "markdown",
   "metadata": {},
   "source": [
    "# Análisis exploratorio y limpieza de datos"
   ]
  },
  {
   "cell_type": "code",
   "execution_count": 26,
   "metadata": {},
   "outputs": [],
   "source": [
    "import warnings\n",
    "warnings.simplefilter(\"ignore\")\n",
    "import pandas as pd\n",
    "import numpy as np\n",
    "import glob, os\n",
    "import datetime\n",
    "import matplotlib.pyplot as plt"
   ]
  },
  {
   "cell_type": "markdown",
   "metadata": {},
   "source": [
    "## Importando los csv's"
   ]
  },
  {
   "cell_type": "code",
   "execution_count": 2,
   "metadata": {},
   "outputs": [
    {
     "data": {
      "text/plain": [
       "['C:\\\\Users\\\\luisf\\\\Documents\\\\Python Projects\\\\datamex1019\\\\air-quality-cdmx\\\\data_aircdmx\\\\2000PM10.xls',\n",
       " 'C:\\\\Users\\\\luisf\\\\Documents\\\\Python Projects\\\\datamex1019\\\\air-quality-cdmx\\\\data_aircdmx\\\\2001PM10.xls',\n",
       " 'C:\\\\Users\\\\luisf\\\\Documents\\\\Python Projects\\\\datamex1019\\\\air-quality-cdmx\\\\data_aircdmx\\\\2002PM10.xls',\n",
       " 'C:\\\\Users\\\\luisf\\\\Documents\\\\Python Projects\\\\datamex1019\\\\air-quality-cdmx\\\\data_aircdmx\\\\2003PM10.xls',\n",
       " 'C:\\\\Users\\\\luisf\\\\Documents\\\\Python Projects\\\\datamex1019\\\\air-quality-cdmx\\\\data_aircdmx\\\\2004PM10.xls',\n",
       " 'C:\\\\Users\\\\luisf\\\\Documents\\\\Python Projects\\\\datamex1019\\\\air-quality-cdmx\\\\data_aircdmx\\\\2005PM10.xls',\n",
       " 'C:\\\\Users\\\\luisf\\\\Documents\\\\Python Projects\\\\datamex1019\\\\air-quality-cdmx\\\\data_aircdmx\\\\2006PM10.xls',\n",
       " 'C:\\\\Users\\\\luisf\\\\Documents\\\\Python Projects\\\\datamex1019\\\\air-quality-cdmx\\\\data_aircdmx\\\\2007PM10.xls',\n",
       " 'C:\\\\Users\\\\luisf\\\\Documents\\\\Python Projects\\\\datamex1019\\\\air-quality-cdmx\\\\data_aircdmx\\\\2008PM10.xls',\n",
       " 'C:\\\\Users\\\\luisf\\\\Documents\\\\Python Projects\\\\datamex1019\\\\air-quality-cdmx\\\\data_aircdmx\\\\2009PM10.xls',\n",
       " 'C:\\\\Users\\\\luisf\\\\Documents\\\\Python Projects\\\\datamex1019\\\\air-quality-cdmx\\\\data_aircdmx\\\\2010PM10.xls',\n",
       " 'C:\\\\Users\\\\luisf\\\\Documents\\\\Python Projects\\\\datamex1019\\\\air-quality-cdmx\\\\data_aircdmx\\\\2011PM10.xls',\n",
       " 'C:\\\\Users\\\\luisf\\\\Documents\\\\Python Projects\\\\datamex1019\\\\air-quality-cdmx\\\\data_aircdmx\\\\2012PM10.xls',\n",
       " 'C:\\\\Users\\\\luisf\\\\Documents\\\\Python Projects\\\\datamex1019\\\\air-quality-cdmx\\\\data_aircdmx\\\\2013PM10.xls',\n",
       " 'C:\\\\Users\\\\luisf\\\\Documents\\\\Python Projects\\\\datamex1019\\\\air-quality-cdmx\\\\data_aircdmx\\\\2014PM10.xls',\n",
       " 'C:\\\\Users\\\\luisf\\\\Documents\\\\Python Projects\\\\datamex1019\\\\air-quality-cdmx\\\\data_aircdmx\\\\2015PM10.xls',\n",
       " 'C:\\\\Users\\\\luisf\\\\Documents\\\\Python Projects\\\\datamex1019\\\\air-quality-cdmx\\\\data_aircdmx\\\\2016PM10.xls',\n",
       " 'C:\\\\Users\\\\luisf\\\\Documents\\\\Python Projects\\\\datamex1019\\\\air-quality-cdmx\\\\data_aircdmx\\\\2017PM10.xls',\n",
       " 'C:\\\\Users\\\\luisf\\\\Documents\\\\Python Projects\\\\datamex1019\\\\air-quality-cdmx\\\\data_aircdmx\\\\2018PM10.xls',\n",
       " 'C:\\\\Users\\\\luisf\\\\Documents\\\\Python Projects\\\\datamex1019\\\\air-quality-cdmx\\\\data_aircdmx\\\\2019PM10.xls']"
      ]
     },
     "execution_count": 2,
     "metadata": {},
     "output_type": "execute_result"
    }
   ],
   "source": [
    "## Importando los datos para PM10\n",
    "path = r'C:\\Users\\luisf\\Documents\\Python Projects\\datamex1019\\air-quality-cdmx\\data_aircdmx'                     # use your path\n",
    "all_files = glob.glob(os.path.join(path, \"*PM10.xls\"))     # advisable to use os.path.join as this makes concatenation OS independent\n",
    "all_files"
   ]
  },
  {
   "cell_type": "code",
   "execution_count": 3,
   "metadata": {},
   "outputs": [],
   "source": [
    "df_from_each_file = (pd.read_excel(f) for f in all_files)\n",
    "df_from_each_file\n",
    "concatenated_df=pd.concat([i.set_index(['FECHA']+['HORA']) for i in df_from_each_file]).reset_index()"
   ]
  },
  {
   "cell_type": "code",
   "execution_count": 4,
   "metadata": {},
   "outputs": [
    {
     "data": {
      "text/plain": [
       "(173856, 37)"
      ]
     },
     "execution_count": 4,
     "metadata": {},
     "output_type": "execute_result"
    }
   ],
   "source": [
    "concatenated_df.shape"
   ]
  },
  {
   "cell_type": "code",
   "execution_count": 5,
   "metadata": {},
   "outputs": [
    {
     "data": {
      "text/plain": [
       "Index(['FECHA', 'HORA', 'ACO', 'AJM', 'ATI', 'BJU', 'CAM', 'CES', 'CHO', 'CUA',\n",
       "       'CUT', 'FAC', 'FAR', 'GAM', 'HAN', 'HGM', 'INN', 'IZT', 'LLA', 'LPR',\n",
       "       'LVI', 'MER', 'MGH', 'MPA', 'PED', 'PLA', 'SAC', 'SAG', 'SFE', 'SUR',\n",
       "       'TAH', 'TAX', 'TLA', 'TLI', 'UIZ', 'VIF', 'XAL'],\n",
       "      dtype='object')"
      ]
     },
     "execution_count": 5,
     "metadata": {},
     "output_type": "execute_result"
    }
   ],
   "source": [
    "concatenated_df.columns"
   ]
  },
  {
   "cell_type": "code",
   "execution_count": 6,
   "metadata": {},
   "outputs": [],
   "source": [
    "#Filtrando por las alcaldías dentro del alcance\n",
    "df=concatenated_df[[\"FECHA\",\"HORA\",\"BJU\",\"HGM\",\"MGH\"]]"
   ]
  },
  {
   "cell_type": "code",
   "execution_count": 7,
   "metadata": {},
   "outputs": [
    {
     "data": {
      "text/plain": [
       "FECHA    datetime64[ns]\n",
       "HORA              int64\n",
       "BJU             float64\n",
       "HGM             float64\n",
       "MGH             float64\n",
       "dtype: object"
      ]
     },
     "execution_count": 7,
     "metadata": {},
     "output_type": "execute_result"
    }
   ],
   "source": [
    "df.dtypes"
   ]
  },
  {
   "cell_type": "code",
   "execution_count": 8,
   "metadata": {},
   "outputs": [
    {
     "data": {
      "text/plain": [
       "0   2000-01-01 01:00:00\n",
       "1   2000-01-01 02:00:00\n",
       "2   2000-01-01 03:00:00\n",
       "3   2000-01-01 04:00:00\n",
       "4   2000-01-01 05:00:00\n",
       "Name: DATETIME, dtype: datetime64[ns]"
      ]
     },
     "execution_count": 8,
     "metadata": {},
     "output_type": "execute_result"
    }
   ],
   "source": [
    "df.HORA[df.HORA==24] = 00\n",
    "df.FECHA=df.FECHA.apply(str)\n",
    "df.FECHA=df.FECHA.apply(lambda x: x.replace(' 00:00:00',''))\n",
    "df['DATETIME']=df.FECHA + ' ' + df.HORA.apply(str)+':00:00'\n",
    "#df.DATETIME=df.DATETIME.apply(lambda x: x.replace(' 00:00:00',''))\n",
    "df.DATETIME=pd.to_datetime(df.DATETIME)\n",
    "df.DATETIME.head()"
   ]
  },
  {
   "cell_type": "code",
   "execution_count": 9,
   "metadata": {},
   "outputs": [
    {
     "data": {
      "text/plain": [
       "0    2000-01-01\n",
       "1    2000-01-01\n",
       "2    2000-01-01\n",
       "3    2000-01-01\n",
       "4    2000-01-01\n",
       "Name: FECHA, dtype: object"
      ]
     },
     "execution_count": 9,
     "metadata": {},
     "output_type": "execute_result"
    }
   ],
   "source": [
    "df.FECHA.head()"
   ]
  },
  {
   "cell_type": "code",
   "execution_count": 10,
   "metadata": {},
   "outputs": [
    {
     "data": {
      "text/html": [
       "<div>\n",
       "<style scoped>\n",
       "    .dataframe tbody tr th:only-of-type {\n",
       "        vertical-align: middle;\n",
       "    }\n",
       "\n",
       "    .dataframe tbody tr th {\n",
       "        vertical-align: top;\n",
       "    }\n",
       "\n",
       "    .dataframe thead th {\n",
       "        text-align: right;\n",
       "    }\n",
       "</style>\n",
       "<table border=\"1\" class=\"dataframe\">\n",
       "  <thead>\n",
       "    <tr style=\"text-align: right;\">\n",
       "      <th></th>\n",
       "      <th>FECHA</th>\n",
       "      <th>HORA</th>\n",
       "      <th>BJU</th>\n",
       "      <th>HGM</th>\n",
       "      <th>MGH</th>\n",
       "      <th>DATETIME</th>\n",
       "    </tr>\n",
       "  </thead>\n",
       "  <tbody>\n",
       "    <tr>\n",
       "      <th>0</th>\n",
       "      <td>2000-01-01</td>\n",
       "      <td>1</td>\n",
       "      <td>NaN</td>\n",
       "      <td>NaN</td>\n",
       "      <td>NaN</td>\n",
       "      <td>2000-01-01 01:00:00</td>\n",
       "    </tr>\n",
       "    <tr>\n",
       "      <th>1</th>\n",
       "      <td>2000-01-01</td>\n",
       "      <td>2</td>\n",
       "      <td>NaN</td>\n",
       "      <td>NaN</td>\n",
       "      <td>NaN</td>\n",
       "      <td>2000-01-01 02:00:00</td>\n",
       "    </tr>\n",
       "    <tr>\n",
       "      <th>2</th>\n",
       "      <td>2000-01-01</td>\n",
       "      <td>3</td>\n",
       "      <td>NaN</td>\n",
       "      <td>NaN</td>\n",
       "      <td>NaN</td>\n",
       "      <td>2000-01-01 03:00:00</td>\n",
       "    </tr>\n",
       "    <tr>\n",
       "      <th>3</th>\n",
       "      <td>2000-01-01</td>\n",
       "      <td>4</td>\n",
       "      <td>NaN</td>\n",
       "      <td>NaN</td>\n",
       "      <td>NaN</td>\n",
       "      <td>2000-01-01 04:00:00</td>\n",
       "    </tr>\n",
       "    <tr>\n",
       "      <th>4</th>\n",
       "      <td>2000-01-01</td>\n",
       "      <td>5</td>\n",
       "      <td>NaN</td>\n",
       "      <td>NaN</td>\n",
       "      <td>NaN</td>\n",
       "      <td>2000-01-01 05:00:00</td>\n",
       "    </tr>\n",
       "  </tbody>\n",
       "</table>\n",
       "</div>"
      ],
      "text/plain": [
       "        FECHA  HORA  BJU  HGM  MGH            DATETIME\n",
       "0  2000-01-01     1  NaN  NaN  NaN 2000-01-01 01:00:00\n",
       "1  2000-01-01     2  NaN  NaN  NaN 2000-01-01 02:00:00\n",
       "2  2000-01-01     3  NaN  NaN  NaN 2000-01-01 03:00:00\n",
       "3  2000-01-01     4  NaN  NaN  NaN 2000-01-01 04:00:00\n",
       "4  2000-01-01     5  NaN  NaN  NaN 2000-01-01 05:00:00"
      ]
     },
     "execution_count": 10,
     "metadata": {},
     "output_type": "execute_result"
    }
   ],
   "source": [
    "df.head()"
   ]
  },
  {
   "cell_type": "markdown",
   "metadata": {},
   "source": [
    "## ¿Cómo le haré para manejar los NaN's y los valores -99.0 (que son lo mismo)?\n",
    "- Primero, dividiré el data set por cada estación"
   ]
  },
  {
   "cell_type": "code",
   "execution_count": 11,
   "metadata": {},
   "outputs": [],
   "source": [
    "#df[[\"FECHA\",\"HORA\",\"BJU\",\"HGM\",\"MGH\"]]\n",
    "df_benito=df[[\"DATETIME\",\"FECHA\",\"HORA\",\"BJU\"]]\n",
    "df_cuauh=df[[\"DATETIME\",\"FECHA\",\"HORA\",\"HGM\"]]\n",
    "df_miguel=df[[\"DATETIME\",\"FECHA\",\"HORA\",\"MGH\"]]"
   ]
  },
  {
   "cell_type": "markdown",
   "metadata": {},
   "source": [
    "## Cambiando -99.00 a None y remover outliers"
   ]
  },
  {
   "cell_type": "code",
   "execution_count": 23,
   "metadata": {},
   "outputs": [],
   "source": [
    "df_benito_v2=df_benito[df_benito.FECHA >= '2015-01-01']\n",
    "df_cuauh_v2=df_cuauh[df_cuauh.FECHA >= '2012-01-01']\n",
    "df_miguel_v2=df_miguel[df_miguel.FECHA >= '2015-01-01']"
   ]
  },
  {
   "cell_type": "markdown",
   "metadata": {},
   "source": [
    "#### Miguel"
   ]
  },
  {
   "cell_type": "code",
   "execution_count": 28,
   "metadata": {},
   "outputs": [
    {
     "data": {
      "image/png": "[encoded data removed]",
      "text/plain": [
       "<Figure size 1440x576 with 1 Axes>"
      ]
     },
     "metadata": {
      "needs_background": "light"
     },
     "output_type": "display_data"
    }
   ],
   "source": [
    "f, ax=plt.subplots(1)\n",
    "f.set_figheight(8)\n",
    "f.set_figwidth(20)\n",
    "ax.scatter(df_miguel_v2.DATETIME, df_miguel_v2.MGH, color='r');"
   ]
  },
  {
   "cell_type": "markdown",
   "metadata": {},
   "source": [
    "## Limpieza para Benito Juárez"
   ]
  },
  {
   "cell_type": "code",
   "execution_count": 18,
   "metadata": {},
   "outputs": [],
   "source": [
    "nulls_benito = {}\n",
    "for i in range(2000,2020):\n",
    "    nulls_benito[i]=(df_benito[(df_benito.FECHA >= '{}-01-01' .format(i)) & (df_benito.FECHA <= '{}-12-31' .format(i))].isnull().sum()[0])"
   ]
  },
  {
   "cell_type": "code",
   "execution_count": 13,
   "metadata": {},
   "outputs": [
    {
     "data": {
      "text/plain": [
       "{2000: 0,\n",
       " 2001: 0,\n",
       " 2002: 0,\n",
       " 2003: 0,\n",
       " 2004: 0,\n",
       " 2005: 0,\n",
       " 2006: 0,\n",
       " 2007: 0,\n",
       " 2008: 0,\n",
       " 2009: 0,\n",
       " 2010: 0,\n",
       " 2011: 0,\n",
       " 2012: 0,\n",
       " 2013: 0,\n",
       " 2014: 0,\n",
       " 2015: 0,\n",
       " 2016: 0,\n",
       " 2017: 0,\n",
       " 2018: 0,\n",
       " 2019: 0}"
      ]
     },
     "execution_count": 13,
     "metadata": {},
     "output_type": "execute_result"
    }
   ],
   "source": [
    "nulls_benito #Esto quiere decir que para los primeros 14 años de este milenio, no se midió nada en esta estación"
   ]
  },
  {
   "cell_type": "code",
   "execution_count": 19,
   "metadata": {},
   "outputs": [
    {
     "data": {
      "text/plain": [
       "(42360, 4)"
      ]
     },
     "execution_count": 19,
     "metadata": {},
     "output_type": "execute_result"
    }
   ],
   "source": [
    "df_benito_v2=df_benito[df_benito.FECHA >= '2015-01-01']\n",
    "df_benito_v2.shape"
   ]
  },
  {
   "cell_type": "code",
   "execution_count": 20,
   "metadata": {},
   "outputs": [
    {
     "data": {
      "text/plain": [
       "-99.0    10581\n",
       " 25.0      707\n",
       " 24.0      679\n",
       " 23.0      673\n",
       " 26.0      670\n",
       "Name: BJU, dtype: int64"
      ]
     },
     "execution_count": 20,
     "metadata": {},
     "output_type": "execute_result"
    }
   ],
   "source": [
    "df_benito_v2.BJU.value_counts().head() # 10 mil putos -99.0 "
   ]
  },
  {
   "cell_type": "code",
   "execution_count": 21,
   "metadata": {},
   "outputs": [],
   "source": [
    "df_benito_v2['AÑO']=df_benito_v2.FECHA.apply(lambda x: str(x).split('-')[0])\n",
    "df_benito_v2['MES']=df_benito_v2.FECHA.apply(lambda x: str(x).split('-')[1])\n",
    "df_benito_v2.AÑO=pd.to_numeric(df_benito_v2.AÑO)\n",
    "df_benito_v2.MES=pd.to_numeric(df_benito_v2.MES)"
   ]
  },
  {
   "cell_type": "code",
   "execution_count": 22,
   "metadata": {},
   "outputs": [
    {
     "data": {
      "text/html": [
       "<div>\n",
       "<style scoped>\n",
       "    .dataframe tbody tr th:only-of-type {\n",
       "        vertical-align: middle;\n",
       "    }\n",
       "\n",
       "    .dataframe tbody tr th {\n",
       "        vertical-align: top;\n",
       "    }\n",
       "\n",
       "    .dataframe thead th {\n",
       "        text-align: right;\n",
       "    }\n",
       "</style>\n",
       "<table border=\"1\" class=\"dataframe\">\n",
       "  <thead>\n",
       "    <tr style=\"text-align: right;\">\n",
       "      <th></th>\n",
       "      <th>DATETIME</th>\n",
       "      <th>FECHA</th>\n",
       "      <th>HORA</th>\n",
       "      <th>BJU</th>\n",
       "      <th>AÑO</th>\n",
       "      <th>MES</th>\n",
       "    </tr>\n",
       "  </thead>\n",
       "  <tbody>\n",
       "    <tr>\n",
       "      <th>131496</th>\n",
       "      <td>2015-01-01 01:00:00</td>\n",
       "      <td>2015-01-01</td>\n",
       "      <td>1</td>\n",
       "      <td>-99.0</td>\n",
       "      <td>2015</td>\n",
       "      <td>1</td>\n",
       "    </tr>\n",
       "    <tr>\n",
       "      <th>131497</th>\n",
       "      <td>2015-01-01 02:00:00</td>\n",
       "      <td>2015-01-01</td>\n",
       "      <td>2</td>\n",
       "      <td>-99.0</td>\n",
       "      <td>2015</td>\n",
       "      <td>1</td>\n",
       "    </tr>\n",
       "    <tr>\n",
       "      <th>131498</th>\n",
       "      <td>2015-01-01 03:00:00</td>\n",
       "      <td>2015-01-01</td>\n",
       "      <td>3</td>\n",
       "      <td>-99.0</td>\n",
       "      <td>2015</td>\n",
       "      <td>1</td>\n",
       "    </tr>\n",
       "    <tr>\n",
       "      <th>131499</th>\n",
       "      <td>2015-01-01 04:00:00</td>\n",
       "      <td>2015-01-01</td>\n",
       "      <td>4</td>\n",
       "      <td>-99.0</td>\n",
       "      <td>2015</td>\n",
       "      <td>1</td>\n",
       "    </tr>\n",
       "    <tr>\n",
       "      <th>131500</th>\n",
       "      <td>2015-01-01 05:00:00</td>\n",
       "      <td>2015-01-01</td>\n",
       "      <td>5</td>\n",
       "      <td>-99.0</td>\n",
       "      <td>2015</td>\n",
       "      <td>1</td>\n",
       "    </tr>\n",
       "  </tbody>\n",
       "</table>\n",
       "</div>"
      ],
      "text/plain": [
       "                  DATETIME       FECHA  HORA   BJU   AÑO  MES\n",
       "131496 2015-01-01 01:00:00  2015-01-01     1 -99.0  2015    1\n",
       "131497 2015-01-01 02:00:00  2015-01-01     2 -99.0  2015    1\n",
       "131498 2015-01-01 03:00:00  2015-01-01     3 -99.0  2015    1\n",
       "131499 2015-01-01 04:00:00  2015-01-01     4 -99.0  2015    1\n",
       "131500 2015-01-01 05:00:00  2015-01-01     5 -99.0  2015    1"
      ]
     },
     "execution_count": 22,
     "metadata": {},
     "output_type": "execute_result"
    }
   ],
   "source": [
    "df_benito_v2.head()"
   ]
  },
  {
   "cell_type": "markdown",
   "metadata": {},
   "source": [
    "Conteo de las mediciones de cada hora de cada día, de cada mes... Estas cantidades son los 'totales' para saber cual es el porcentaje de '-99.0' por cada mes"
   ]
  },
  {
   "cell_type": "code",
   "execution_count": 16,
   "metadata": {},
   "outputs": [
    {
     "data": {
      "text/html": [
       "<div>\n",
       "<style scoped>\n",
       "    .dataframe tbody tr th:only-of-type {\n",
       "        vertical-align: middle;\n",
       "    }\n",
       "\n",
       "    .dataframe tbody tr th {\n",
       "        vertical-align: top;\n",
       "    }\n",
       "\n",
       "    .dataframe thead th {\n",
       "        text-align: right;\n",
       "    }\n",
       "</style>\n",
       "<table border=\"1\" class=\"dataframe\">\n",
       "  <thead>\n",
       "    <tr style=\"text-align: right;\">\n",
       "      <th></th>\n",
       "      <th>AÑO</th>\n",
       "      <th>MES</th>\n",
       "      <th>count</th>\n",
       "    </tr>\n",
       "  </thead>\n",
       "  <tbody>\n",
       "    <tr>\n",
       "      <th>0</th>\n",
       "      <td>2015</td>\n",
       "      <td>1</td>\n",
       "      <td>744</td>\n",
       "    </tr>\n",
       "    <tr>\n",
       "      <th>1</th>\n",
       "      <td>2015</td>\n",
       "      <td>2</td>\n",
       "      <td>672</td>\n",
       "    </tr>\n",
       "    <tr>\n",
       "      <th>2</th>\n",
       "      <td>2015</td>\n",
       "      <td>3</td>\n",
       "      <td>744</td>\n",
       "    </tr>\n",
       "    <tr>\n",
       "      <th>3</th>\n",
       "      <td>2015</td>\n",
       "      <td>4</td>\n",
       "      <td>720</td>\n",
       "    </tr>\n",
       "    <tr>\n",
       "      <th>4</th>\n",
       "      <td>2015</td>\n",
       "      <td>5</td>\n",
       "      <td>744</td>\n",
       "    </tr>\n",
       "  </tbody>\n",
       "</table>\n",
       "</div>"
      ],
      "text/plain": [
       "    AÑO  MES  count\n",
       "0  2015    1    744\n",
       "1  2015    2    672\n",
       "2  2015    3    744\n",
       "3  2015    4    720\n",
       "4  2015    5    744"
      ]
     },
     "execution_count": 16,
     "metadata": {},
     "output_type": "execute_result"
    }
   ],
   "source": [
    "df_benito_v2.groupby([\"AÑO\",\"MES\"]).size().to_frame(name = 'count').reset_index().head()\n",
    "#count = 744 cuando el mes tiene 31 días\n",
    "#count = 672 cuando es febrero y ps 28 o 29 días...\n",
    "#count = 720 cuando el mes tiene 30 días"
   ]
  },
  {
   "cell_type": "markdown",
   "metadata": {},
   "source": [
    "Aca vemos cuántos '-99.0' hay para cada año-mes. Con esto podemos darnos una idea del impacto que tendría el funcionamiento del  modelo si es que decidimos eliminar esos rows, o reemplazar esos valores por otro."
   ]
  },
  {
   "cell_type": "code",
   "execution_count": 17,
   "metadata": {},
   "outputs": [
    {
     "data": {
      "text/html": [
       "<div>\n",
       "<style scoped>\n",
       "    .dataframe tbody tr th:only-of-type {\n",
       "        vertical-align: middle;\n",
       "    }\n",
       "\n",
       "    .dataframe tbody tr th {\n",
       "        vertical-align: top;\n",
       "    }\n",
       "\n",
       "    .dataframe thead th {\n",
       "        text-align: right;\n",
       "    }\n",
       "</style>\n",
       "<table border=\"1\" class=\"dataframe\">\n",
       "  <thead>\n",
       "    <tr style=\"text-align: right;\">\n",
       "      <th></th>\n",
       "      <th></th>\n",
       "      <th></th>\n",
       "      <th>BJU</th>\n",
       "    </tr>\n",
       "    <tr>\n",
       "      <th>AÑO</th>\n",
       "      <th>MES</th>\n",
       "      <th>BJU</th>\n",
       "      <th></th>\n",
       "    </tr>\n",
       "  </thead>\n",
       "  <tbody>\n",
       "    <tr>\n",
       "      <th rowspan=\"5\" valign=\"top\">2015</th>\n",
       "      <th>1</th>\n",
       "      <th>-99.0</th>\n",
       "      <td>744</td>\n",
       "    </tr>\n",
       "    <tr>\n",
       "      <th>2</th>\n",
       "      <th>-99.0</th>\n",
       "      <td>672</td>\n",
       "    </tr>\n",
       "    <tr>\n",
       "      <th>3</th>\n",
       "      <th>-99.0</th>\n",
       "      <td>744</td>\n",
       "    </tr>\n",
       "    <tr>\n",
       "      <th>4</th>\n",
       "      <th>-99.0</th>\n",
       "      <td>720</td>\n",
       "    </tr>\n",
       "    <tr>\n",
       "      <th>5</th>\n",
       "      <th>-99.0</th>\n",
       "      <td>744</td>\n",
       "    </tr>\n",
       "  </tbody>\n",
       "</table>\n",
       "</div>"
      ],
      "text/plain": [
       "                BJU\n",
       "AÑO  MES BJU       \n",
       "2015 1   -99.0  744\n",
       "     2   -99.0  672\n",
       "     3   -99.0  744\n",
       "     4   -99.0  720\n",
       "     5   -99.0  744"
      ]
     },
     "execution_count": 17,
     "metadata": {},
     "output_type": "execute_result"
    }
   ],
   "source": [
    "df_benito_v2[df_benito_v2.BJU == -99.0].groupby([\"AÑO\",\"MES\"])['BJU'].value_counts().to_frame().head()\n",
    "\n",
    "#Quitar los meses 01,02,03,04,05,06 y 07 del año 2015\n",
    "#Quitar el 2019 por lo pronto, para la primera predicción.\n",
    "#Llenar los demás valores con un promedio del año correspondiente"
   ]
  },
  {
   "cell_type": "code",
   "execution_count": 18,
   "metadata": {},
   "outputs": [],
   "source": [
    "#Filtrando datos vaciós de los primeros 7 meses y nada del 2019\n",
    "df_benito_v3=df_benito_v2[(df_benito_v2.FECHA >= '2015-08-01') & (df_benito_v2.FECHA <= '2018-12-31')]"
   ]
  },
  {
   "cell_type": "code",
   "execution_count": 19,
   "metadata": {},
   "outputs": [],
   "source": [
    "means = []\n",
    "for e in range(2015,2019):\n",
    "    means.append(df_benito_v3.BJU[df_benito_v3.AÑO == e].mean())\n",
    "\n",
    "df_benito_v3.BJU[(df_benito_v3.AÑO == 2015) & (df_benito_v3.BJU == -99.0)] = means[0]\n",
    "df_benito_v3.BJU[(df_benito_v3.AÑO == 2016) & (df_benito_v3.BJU == -99.0)] = means[1]\n",
    "df_benito_v3.BJU[(df_benito_v3.AÑO == 2017) & (df_benito_v3.BJU == -99.0)] = means[2]\n",
    "df_benito_v3.BJU[(df_benito_v3.AÑO == 2018) & (df_benito_v3.BJU == -99.0)] = means[3]"
   ]
  },
  {
   "cell_type": "code",
   "execution_count": 20,
   "metadata": {},
   "outputs": [
    {
     "data": {
      "text/html": [
       "<div>\n",
       "<style scoped>\n",
       "    .dataframe tbody tr th:only-of-type {\n",
       "        vertical-align: middle;\n",
       "    }\n",
       "\n",
       "    .dataframe tbody tr th {\n",
       "        vertical-align: top;\n",
       "    }\n",
       "\n",
       "    .dataframe thead th {\n",
       "        text-align: right;\n",
       "    }\n",
       "</style>\n",
       "<table border=\"1\" class=\"dataframe\">\n",
       "  <thead>\n",
       "    <tr style=\"text-align: right;\">\n",
       "      <th></th>\n",
       "      <th>DATETIME</th>\n",
       "      <th>FECHA</th>\n",
       "      <th>HORA</th>\n",
       "      <th>BJU</th>\n",
       "      <th>AÑO</th>\n",
       "      <th>MES</th>\n",
       "    </tr>\n",
       "  </thead>\n",
       "  <tbody>\n",
       "  </tbody>\n",
       "</table>\n",
       "</div>"
      ],
      "text/plain": [
       "Empty DataFrame\n",
       "Columns: [DATETIME, FECHA, HORA, BJU, AÑO, MES]\n",
       "Index: []"
      ]
     },
     "execution_count": 20,
     "metadata": {},
     "output_type": "execute_result"
    }
   ],
   "source": [
    "df_benito_v3[df_benito_v3.BJU== -99.0] #Correcto"
   ]
  },
  {
   "cell_type": "markdown",
   "metadata": {},
   "source": [
    "## Limpieza para Cuahtémoc"
   ]
  },
  {
   "cell_type": "markdown",
   "metadata": {},
   "source": [
    "### Encontrar NaN's y -99.0"
   ]
  },
  {
   "cell_type": "code",
   "execution_count": 21,
   "metadata": {},
   "outputs": [],
   "source": [
    "nulls_cuauh = {}\n",
    "for i in range(2000,2020):\n",
    "    nulls_cuauh[i]=(df_cuauh[(df_cuauh.FECHA >= '{}-01-01' .format(i)) & (df_cuauh.FECHA <= '{}-12-31' .format(i))].isnull().sum()[2])"
   ]
  },
  {
   "cell_type": "code",
   "execution_count": 22,
   "metadata": {},
   "outputs": [
    {
     "data": {
      "text/plain": [
       "{2000: 0,\n",
       " 2001: 0,\n",
       " 2002: 0,\n",
       " 2003: 0,\n",
       " 2004: 0,\n",
       " 2005: 0,\n",
       " 2006: 0,\n",
       " 2007: 0,\n",
       " 2008: 0,\n",
       " 2009: 0,\n",
       " 2010: 0,\n",
       " 2011: 0,\n",
       " 2012: 0,\n",
       " 2013: 0,\n",
       " 2014: 0,\n",
       " 2015: 0,\n",
       " 2016: 0,\n",
       " 2017: 0,\n",
       " 2018: 0,\n",
       " 2019: 0}"
      ]
     },
     "execution_count": 22,
     "metadata": {},
     "output_type": "execute_result"
    }
   ],
   "source": [
    "nulls_cuauh #Medición a partir del 2012"
   ]
  },
  {
   "cell_type": "code",
   "execution_count": 23,
   "metadata": {},
   "outputs": [
    {
     "data": {
      "text/plain": [
       "(68664, 4)"
      ]
     },
     "execution_count": 23,
     "metadata": {},
     "output_type": "execute_result"
    }
   ],
   "source": [
    "df_cuauh_v2=df_cuauh[df_cuauh.FECHA >= '2012-01-01']\n",
    "df_cuauh_v2.shape"
   ]
  },
  {
   "cell_type": "code",
   "execution_count": 24,
   "metadata": {},
   "outputs": [],
   "source": [
    "df_cuauh_v2['AÑO']=df_cuauh_v2.FECHA.apply(lambda x: str(x).split('-')[0])\n",
    "df_cuauh_v2['MES']=df_cuauh_v2.FECHA.apply(lambda x: str(x).split('-')[1])\n",
    "df_cuauh_v2.AÑO=pd.to_numeric(df_cuauh_v2.AÑO)\n",
    "df_cuauh_v2.MES=pd.to_numeric(df_cuauh_v2.MES)"
   ]
  },
  {
   "cell_type": "code",
   "execution_count": 25,
   "metadata": {},
   "outputs": [
    {
     "data": {
      "text/html": [
       "<div>\n",
       "<style scoped>\n",
       "    .dataframe tbody tr th:only-of-type {\n",
       "        vertical-align: middle;\n",
       "    }\n",
       "\n",
       "    .dataframe tbody tr th {\n",
       "        vertical-align: top;\n",
       "    }\n",
       "\n",
       "    .dataframe thead th {\n",
       "        text-align: right;\n",
       "    }\n",
       "</style>\n",
       "<table border=\"1\" class=\"dataframe\">\n",
       "  <thead>\n",
       "    <tr style=\"text-align: right;\">\n",
       "      <th></th>\n",
       "      <th>DATETIME</th>\n",
       "      <th>FECHA</th>\n",
       "      <th>HORA</th>\n",
       "      <th>HGM</th>\n",
       "      <th>AÑO</th>\n",
       "      <th>MES</th>\n",
       "    </tr>\n",
       "  </thead>\n",
       "  <tbody>\n",
       "    <tr>\n",
       "      <th>105192</th>\n",
       "      <td>2012-01-01 01:00:00</td>\n",
       "      <td>2012-01-01</td>\n",
       "      <td>1</td>\n",
       "      <td>-99.0</td>\n",
       "      <td>2012</td>\n",
       "      <td>1</td>\n",
       "    </tr>\n",
       "    <tr>\n",
       "      <th>105193</th>\n",
       "      <td>2012-01-01 02:00:00</td>\n",
       "      <td>2012-01-01</td>\n",
       "      <td>2</td>\n",
       "      <td>-99.0</td>\n",
       "      <td>2012</td>\n",
       "      <td>1</td>\n",
       "    </tr>\n",
       "    <tr>\n",
       "      <th>105194</th>\n",
       "      <td>2012-01-01 03:00:00</td>\n",
       "      <td>2012-01-01</td>\n",
       "      <td>3</td>\n",
       "      <td>-99.0</td>\n",
       "      <td>2012</td>\n",
       "      <td>1</td>\n",
       "    </tr>\n",
       "    <tr>\n",
       "      <th>105195</th>\n",
       "      <td>2012-01-01 04:00:00</td>\n",
       "      <td>2012-01-01</td>\n",
       "      <td>4</td>\n",
       "      <td>-99.0</td>\n",
       "      <td>2012</td>\n",
       "      <td>1</td>\n",
       "    </tr>\n",
       "    <tr>\n",
       "      <th>105196</th>\n",
       "      <td>2012-01-01 05:00:00</td>\n",
       "      <td>2012-01-01</td>\n",
       "      <td>5</td>\n",
       "      <td>-99.0</td>\n",
       "      <td>2012</td>\n",
       "      <td>1</td>\n",
       "    </tr>\n",
       "  </tbody>\n",
       "</table>\n",
       "</div>"
      ],
      "text/plain": [
       "                  DATETIME      FECHA  HORA   HGM   AÑO  MES\n",
       "105192 2012-01-01 01:00:00 2012-01-01     1 -99.0  2012    1\n",
       "105193 2012-01-01 02:00:00 2012-01-01     2 -99.0  2012    1\n",
       "105194 2012-01-01 03:00:00 2012-01-01     3 -99.0  2012    1\n",
       "105195 2012-01-01 04:00:00 2012-01-01     4 -99.0  2012    1\n",
       "105196 2012-01-01 05:00:00 2012-01-01     5 -99.0  2012    1"
      ]
     },
     "execution_count": 25,
     "metadata": {},
     "output_type": "execute_result"
    }
   ],
   "source": [
    "df_cuauh_v2.head()"
   ]
  },
  {
   "cell_type": "markdown",
   "metadata": {},
   "source": [
    "Conteo de las mediciones de cada hora de cada día, de cada mes... Estas cantidades son los 'totales' para saber cual es el porcentaje de '-99.0' por cada mes"
   ]
  },
  {
   "cell_type": "code",
   "execution_count": 26,
   "metadata": {
    "scrolled": true
   },
   "outputs": [
    {
     "data": {
      "text/html": [
       "<div>\n",
       "<style scoped>\n",
       "    .dataframe tbody tr th:only-of-type {\n",
       "        vertical-align: middle;\n",
       "    }\n",
       "\n",
       "    .dataframe tbody tr th {\n",
       "        vertical-align: top;\n",
       "    }\n",
       "\n",
       "    .dataframe thead th {\n",
       "        text-align: right;\n",
       "    }\n",
       "</style>\n",
       "<table border=\"1\" class=\"dataframe\">\n",
       "  <thead>\n",
       "    <tr style=\"text-align: right;\">\n",
       "      <th></th>\n",
       "      <th>AÑO</th>\n",
       "      <th>MES</th>\n",
       "      <th>count</th>\n",
       "    </tr>\n",
       "  </thead>\n",
       "  <tbody>\n",
       "    <tr>\n",
       "      <th>0</th>\n",
       "      <td>2012</td>\n",
       "      <td>1</td>\n",
       "      <td>744</td>\n",
       "    </tr>\n",
       "    <tr>\n",
       "      <th>1</th>\n",
       "      <td>2012</td>\n",
       "      <td>2</td>\n",
       "      <td>696</td>\n",
       "    </tr>\n",
       "    <tr>\n",
       "      <th>2</th>\n",
       "      <td>2012</td>\n",
       "      <td>3</td>\n",
       "      <td>744</td>\n",
       "    </tr>\n",
       "    <tr>\n",
       "      <th>3</th>\n",
       "      <td>2012</td>\n",
       "      <td>4</td>\n",
       "      <td>720</td>\n",
       "    </tr>\n",
       "    <tr>\n",
       "      <th>4</th>\n",
       "      <td>2012</td>\n",
       "      <td>5</td>\n",
       "      <td>744</td>\n",
       "    </tr>\n",
       "  </tbody>\n",
       "</table>\n",
       "</div>"
      ],
      "text/plain": [
       "    AÑO  MES  count\n",
       "0  2012    1    744\n",
       "1  2012    2    696\n",
       "2  2012    3    744\n",
       "3  2012    4    720\n",
       "4  2012    5    744"
      ]
     },
     "execution_count": 26,
     "metadata": {},
     "output_type": "execute_result"
    }
   ],
   "source": [
    "df_cuauh_v2.groupby([\"AÑO\",\"MES\"]).size().to_frame(name = 'count').reset_index().head()\n",
    "#count = 744 cuando el mes tiene 31 días\n",
    "#count = 672 cuando es febrero y ps 28 o 29 días...\n",
    "#count = 720 cuando el mes tiene 30 días"
   ]
  },
  {
   "cell_type": "markdown",
   "metadata": {},
   "source": [
    "Aca vemos cuántos '-99.0' hay para cada año-mes. Con esto podemos darnos una idea del impacto que tendría el funcionamiento del  modelo si es que decidimos eliminar esos rows, o reemplazar esos valores por otro."
   ]
  },
  {
   "cell_type": "code",
   "execution_count": 27,
   "metadata": {
    "scrolled": true
   },
   "outputs": [
    {
     "data": {
      "text/html": [
       "<div>\n",
       "<style scoped>\n",
       "    .dataframe tbody tr th:only-of-type {\n",
       "        vertical-align: middle;\n",
       "    }\n",
       "\n",
       "    .dataframe tbody tr th {\n",
       "        vertical-align: top;\n",
       "    }\n",
       "\n",
       "    .dataframe thead th {\n",
       "        text-align: right;\n",
       "    }\n",
       "</style>\n",
       "<table border=\"1\" class=\"dataframe\">\n",
       "  <thead>\n",
       "    <tr style=\"text-align: right;\">\n",
       "      <th></th>\n",
       "      <th></th>\n",
       "      <th></th>\n",
       "      <th>HGM</th>\n",
       "    </tr>\n",
       "    <tr>\n",
       "      <th>AÑO</th>\n",
       "      <th>MES</th>\n",
       "      <th>HGM</th>\n",
       "      <th></th>\n",
       "    </tr>\n",
       "  </thead>\n",
       "  <tbody>\n",
       "    <tr>\n",
       "      <th rowspan=\"5\" valign=\"top\">2012</th>\n",
       "      <th>1</th>\n",
       "      <th>-99.0</th>\n",
       "      <td>744</td>\n",
       "    </tr>\n",
       "    <tr>\n",
       "      <th>2</th>\n",
       "      <th>-99.0</th>\n",
       "      <td>487</td>\n",
       "    </tr>\n",
       "    <tr>\n",
       "      <th>3</th>\n",
       "      <th>-99.0</th>\n",
       "      <td>23</td>\n",
       "    </tr>\n",
       "    <tr>\n",
       "      <th>4</th>\n",
       "      <th>-99.0</th>\n",
       "      <td>42</td>\n",
       "    </tr>\n",
       "    <tr>\n",
       "      <th>5</th>\n",
       "      <th>-99.0</th>\n",
       "      <td>193</td>\n",
       "    </tr>\n",
       "  </tbody>\n",
       "</table>\n",
       "</div>"
      ],
      "text/plain": [
       "                HGM\n",
       "AÑO  MES HGM       \n",
       "2012 1   -99.0  744\n",
       "     2   -99.0  487\n",
       "     3   -99.0   23\n",
       "     4   -99.0   42\n",
       "     5   -99.0  193"
      ]
     },
     "execution_count": 27,
     "metadata": {},
     "output_type": "execute_result"
    }
   ],
   "source": [
    "df_cuauh_v2[df_cuauh_v2.HGM == -99.0].groupby([\"AÑO\",\"MES\"])['HGM'].value_counts().to_frame().head()"
   ]
  },
  {
   "cell_type": "code",
   "execution_count": 28,
   "metadata": {},
   "outputs": [
    {
     "data": {
      "text/html": [
       "<div>\n",
       "<style scoped>\n",
       "    .dataframe tbody tr th:only-of-type {\n",
       "        vertical-align: middle;\n",
       "    }\n",
       "\n",
       "    .dataframe tbody tr th {\n",
       "        vertical-align: top;\n",
       "    }\n",
       "\n",
       "    .dataframe thead th {\n",
       "        text-align: right;\n",
       "    }\n",
       "</style>\n",
       "<table border=\"1\" class=\"dataframe\">\n",
       "  <thead>\n",
       "    <tr style=\"text-align: right;\">\n",
       "      <th></th>\n",
       "      <th></th>\n",
       "      <th></th>\n",
       "      <th>HGM</th>\n",
       "    </tr>\n",
       "    <tr>\n",
       "      <th>AÑO</th>\n",
       "      <th>MES</th>\n",
       "      <th>HGM</th>\n",
       "      <th></th>\n",
       "    </tr>\n",
       "  </thead>\n",
       "  <tbody>\n",
       "    <tr>\n",
       "      <th rowspan=\"5\" valign=\"top\">2014</th>\n",
       "      <th>1</th>\n",
       "      <th>-99.0</th>\n",
       "      <td>10</td>\n",
       "    </tr>\n",
       "    <tr>\n",
       "      <th>2</th>\n",
       "      <th>-99.0</th>\n",
       "      <td>39</td>\n",
       "    </tr>\n",
       "    <tr>\n",
       "      <th>3</th>\n",
       "      <th>-99.0</th>\n",
       "      <td>20</td>\n",
       "    </tr>\n",
       "    <tr>\n",
       "      <th>4</th>\n",
       "      <th>-99.0</th>\n",
       "      <td>11</td>\n",
       "    </tr>\n",
       "    <tr>\n",
       "      <th>5</th>\n",
       "      <th>-99.0</th>\n",
       "      <td>130</td>\n",
       "    </tr>\n",
       "  </tbody>\n",
       "</table>\n",
       "</div>"
      ],
      "text/plain": [
       "                HGM\n",
       "AÑO  MES HGM       \n",
       "2014 1   -99.0   10\n",
       "     2   -99.0   39\n",
       "     3   -99.0   20\n",
       "     4   -99.0   11\n",
       "     5   -99.0  130"
      ]
     },
     "execution_count": 28,
     "metadata": {},
     "output_type": "execute_result"
    }
   ],
   "source": [
    "df_cuauh_v2[(df_cuauh_v2.HGM == -99.0) & (df_cuauh_v2.AÑO.isin([\"2014\",\"2015\",\"2016\",\"2017\"]))].groupby([\"AÑO\",\"MES\"])['HGM'].value_counts().to_frame().head()\n",
    "\n",
    "#En conclusión:\n",
    "#Eliminaré el mes 07 y 11 del año 2014. 09 y 10 del 2015. 01 y 07 del 2017\n",
    "#Eliminar mes 01, 02 del 2012. 02 y 09 del 2018\n",
    "#Llenar con con mean del año los otros -99.0"
   ]
  },
  {
   "cell_type": "code",
   "execution_count": 29,
   "metadata": {},
   "outputs": [],
   "source": [
    "#Eliminaré el mes 07 y 11 del año 2014. 09 y 10 del 2015. 01 y 07 del 2017\n",
    "#Eliminar mes 01, 02 del 2012. 02 y 09 del 2018\n",
    "df_cuauh_v2[(df_cuauh_v2.AÑO == 2014) & (df_cuauh_v2.MES.isin([7,11]))]\n",
    "df_cuauh_v3=df_cuauh_v2.copy()"
   ]
  },
  {
   "cell_type": "code",
   "execution_count": 30,
   "metadata": {},
   "outputs": [],
   "source": [
    "def drop_99_rows(dataset,año,mes1,mes2):\n",
    "    for e in dataset[(dataset.AÑO == año) & (dataset.MES.isin([mes1,mes2]))].index:\n",
    "        dataset = dataset.drop(e)\n",
    "    return dataset\n",
    "\n",
    "\n",
    "df_cuauh_v3=drop_99_rows(df_cuauh_v2,2014,7,11)\n",
    "df_cuauh_v3=drop_99_rows(df_cuauh_v3,2015,9,10)\n",
    "df_cuauh_v3=drop_99_rows(df_cuauh_v3,2017,1,7)\n",
    "df_cuauh_v3=drop_99_rows(df_cuauh_v3,2012,1,2)\n",
    "df_cuauh_v3=drop_99_rows(df_cuauh_v3,2018,2,9)\n",
    "\n",
    "#2014\n",
    "#for e in df_cuauh_v2[(df_cuauh_v2.AÑO == 2014) & (df_cuauh_v2.MES.isin([7,11]))].index:\n",
    "#    df_cuauh_v3 = df_cuauh_v3.drop(e)"
   ]
  },
  {
   "cell_type": "code",
   "execution_count": 31,
   "metadata": {},
   "outputs": [
    {
     "data": {
      "text/html": [
       "<div>\n",
       "<style scoped>\n",
       "    .dataframe tbody tr th:only-of-type {\n",
       "        vertical-align: middle;\n",
       "    }\n",
       "\n",
       "    .dataframe tbody tr th {\n",
       "        vertical-align: top;\n",
       "    }\n",
       "\n",
       "    .dataframe thead th {\n",
       "        text-align: right;\n",
       "    }\n",
       "</style>\n",
       "<table border=\"1\" class=\"dataframe\">\n",
       "  <thead>\n",
       "    <tr style=\"text-align: right;\">\n",
       "      <th></th>\n",
       "      <th></th>\n",
       "      <th></th>\n",
       "      <th>HGM</th>\n",
       "    </tr>\n",
       "    <tr>\n",
       "      <th>AÑO</th>\n",
       "      <th>MES</th>\n",
       "      <th>HGM</th>\n",
       "      <th></th>\n",
       "    </tr>\n",
       "  </thead>\n",
       "  <tbody>\n",
       "    <tr>\n",
       "      <th rowspan=\"5\" valign=\"top\">2012</th>\n",
       "      <th>3</th>\n",
       "      <th>-99.0</th>\n",
       "      <td>23</td>\n",
       "    </tr>\n",
       "    <tr>\n",
       "      <th>4</th>\n",
       "      <th>-99.0</th>\n",
       "      <td>42</td>\n",
       "    </tr>\n",
       "    <tr>\n",
       "      <th>5</th>\n",
       "      <th>-99.0</th>\n",
       "      <td>193</td>\n",
       "    </tr>\n",
       "    <tr>\n",
       "      <th>6</th>\n",
       "      <th>-99.0</th>\n",
       "      <td>123</td>\n",
       "    </tr>\n",
       "    <tr>\n",
       "      <th>7</th>\n",
       "      <th>-99.0</th>\n",
       "      <td>82</td>\n",
       "    </tr>\n",
       "  </tbody>\n",
       "</table>\n",
       "</div>"
      ],
      "text/plain": [
       "                HGM\n",
       "AÑO  MES HGM       \n",
       "2012 3   -99.0   23\n",
       "     4   -99.0   42\n",
       "     5   -99.0  193\n",
       "     6   -99.0  123\n",
       "     7   -99.0   82"
      ]
     },
     "execution_count": 31,
     "metadata": {},
     "output_type": "execute_result"
    }
   ],
   "source": [
    "df_cuauh_v3[(df_cuauh_v3.HGM == -99.0) & (df_cuauh_v3.AÑO.isin([2014,2015,2016,2017,2018,2012]))].groupby([\"AÑO\",\"MES\"])['HGM'].value_counts().to_frame().head()"
   ]
  },
  {
   "cell_type": "code",
   "execution_count": 32,
   "metadata": {},
   "outputs": [
    {
     "data": {
      "text/html": [
       "<div>\n",
       "<style scoped>\n",
       "    .dataframe tbody tr th:only-of-type {\n",
       "        vertical-align: middle;\n",
       "    }\n",
       "\n",
       "    .dataframe tbody tr th {\n",
       "        vertical-align: top;\n",
       "    }\n",
       "\n",
       "    .dataframe thead th {\n",
       "        text-align: right;\n",
       "    }\n",
       "</style>\n",
       "<table border=\"1\" class=\"dataframe\">\n",
       "  <thead>\n",
       "    <tr style=\"text-align: right;\">\n",
       "      <th></th>\n",
       "      <th></th>\n",
       "      <th></th>\n",
       "      <th>HGM</th>\n",
       "    </tr>\n",
       "    <tr>\n",
       "      <th>AÑO</th>\n",
       "      <th>MES</th>\n",
       "      <th>HGM</th>\n",
       "      <th></th>\n",
       "    </tr>\n",
       "  </thead>\n",
       "  <tbody>\n",
       "    <tr>\n",
       "      <th rowspan=\"5\" valign=\"top\">2012</th>\n",
       "      <th>3</th>\n",
       "      <th>-99.0</th>\n",
       "      <td>23</td>\n",
       "    </tr>\n",
       "    <tr>\n",
       "      <th>4</th>\n",
       "      <th>-99.0</th>\n",
       "      <td>42</td>\n",
       "    </tr>\n",
       "    <tr>\n",
       "      <th>5</th>\n",
       "      <th>-99.0</th>\n",
       "      <td>193</td>\n",
       "    </tr>\n",
       "    <tr>\n",
       "      <th>6</th>\n",
       "      <th>-99.0</th>\n",
       "      <td>123</td>\n",
       "    </tr>\n",
       "    <tr>\n",
       "      <th>7</th>\n",
       "      <th>-99.0</th>\n",
       "      <td>82</td>\n",
       "    </tr>\n",
       "  </tbody>\n",
       "</table>\n",
       "</div>"
      ],
      "text/plain": [
       "                HGM\n",
       "AÑO  MES HGM       \n",
       "2012 3   -99.0   23\n",
       "     4   -99.0   42\n",
       "     5   -99.0  193\n",
       "     6   -99.0  123\n",
       "     7   -99.0   82"
      ]
     },
     "execution_count": 32,
     "metadata": {},
     "output_type": "execute_result"
    }
   ],
   "source": [
    "df_cuauh_v3[df_cuauh_v3.HGM == -99.0].groupby([\"AÑO\",\"MES\"])['HGM'].value_counts().to_frame().head()"
   ]
  },
  {
   "cell_type": "code",
   "execution_count": 33,
   "metadata": {},
   "outputs": [],
   "source": [
    "means = []\n",
    "for e in range(2012,2019):\n",
    "    means.append(df_cuauh_v3.HGM[df_cuauh_v3.AÑO == e].mean())\n",
    "#means\n",
    "df_cuauh_v3.HGM[(df_cuauh_v3.AÑO == 2012) & (df_cuauh_v3.HGM == -99.0)] = means[0]\n",
    "df_cuauh_v3.HGM[(df_cuauh_v3.AÑO == 2013) & (df_cuauh_v3.HGM == -99.0)] = means[1]\n",
    "df_cuauh_v3.HGM[(df_cuauh_v3.AÑO == 2014) & (df_cuauh_v3.HGM == -99.0)] = means[2]\n",
    "df_cuauh_v3.HGM[(df_cuauh_v3.AÑO == 2015) & (df_cuauh_v3.HGM == -99.0)] = means[3]\n",
    "df_cuauh_v3.HGM[(df_cuauh_v3.AÑO == 2016) & (df_cuauh_v3.HGM == -99.0)] = means[4]\n",
    "df_cuauh_v3.HGM[(df_cuauh_v3.AÑO == 2017) & (df_cuauh_v3.HGM == -99.0)] = means[5]\n",
    "df_cuauh_v3.HGM[(df_cuauh_v3.AÑO == 2018) & (df_cuauh_v3.HGM == -99.0)] = means[6]"
   ]
  },
  {
   "cell_type": "code",
   "execution_count": 34,
   "metadata": {},
   "outputs": [
    {
     "data": {
      "text/html": [
       "<div>\n",
       "<style scoped>\n",
       "    .dataframe tbody tr th:only-of-type {\n",
       "        vertical-align: middle;\n",
       "    }\n",
       "\n",
       "    .dataframe tbody tr th {\n",
       "        vertical-align: top;\n",
       "    }\n",
       "\n",
       "    .dataframe thead th {\n",
       "        text-align: right;\n",
       "    }\n",
       "</style>\n",
       "<table border=\"1\" class=\"dataframe\">\n",
       "  <thead>\n",
       "    <tr style=\"text-align: right;\">\n",
       "      <th></th>\n",
       "      <th>DATETIME</th>\n",
       "      <th>FECHA</th>\n",
       "      <th>HORA</th>\n",
       "      <th>HGM</th>\n",
       "      <th>AÑO</th>\n",
       "      <th>MES</th>\n",
       "    </tr>\n",
       "  </thead>\n",
       "  <tbody>\n",
       "  </tbody>\n",
       "</table>\n",
       "</div>"
      ],
      "text/plain": [
       "Empty DataFrame\n",
       "Columns: [DATETIME, FECHA, HORA, HGM, AÑO, MES]\n",
       "Index: []"
      ]
     },
     "execution_count": 34,
     "metadata": {},
     "output_type": "execute_result"
    }
   ],
   "source": [
    "df_cuauh_v3=df_cuauh_v3[df_cuauh_v3.FECHA <= '2018-12-31'] #Correcto\n",
    "df_cuauh_v3[df_cuauh_v3.HGM== -99.0] #Correcto"
   ]
  },
  {
   "cell_type": "markdown",
   "metadata": {},
   "source": [
    "## Limpieza para Miguel Hidalgo"
   ]
  },
  {
   "cell_type": "markdown",
   "metadata": {},
   "source": [
    "### Encontrar NaN's y -99.0"
   ]
  },
  {
   "cell_type": "code",
   "execution_count": 35,
   "metadata": {},
   "outputs": [],
   "source": [
    "nulls_miguel = {}\n",
    "for i in range(2000,2020):\n",
    "    nulls_miguel[i]=(df_miguel[(df_miguel.FECHA >= '{}-01-01' .format(i)) & (df_miguel.FECHA <= '{}-12-31' .format(i))].isnull().sum()[2])"
   ]
  },
  {
   "cell_type": "markdown",
   "metadata": {},
   "source": [
    "Las mediciones de esta estación empiezan a partir del 2015"
   ]
  },
  {
   "cell_type": "code",
   "execution_count": 36,
   "metadata": {},
   "outputs": [
    {
     "data": {
      "text/plain": [
       "{2000: 0,\n",
       " 2001: 0,\n",
       " 2002: 0,\n",
       " 2003: 0,\n",
       " 2004: 0,\n",
       " 2005: 0,\n",
       " 2006: 0,\n",
       " 2007: 0,\n",
       " 2008: 0,\n",
       " 2009: 0,\n",
       " 2010: 0,\n",
       " 2011: 0,\n",
       " 2012: 0,\n",
       " 2013: 0,\n",
       " 2014: 0,\n",
       " 2015: 0,\n",
       " 2016: 0,\n",
       " 2017: 0,\n",
       " 2018: 0,\n",
       " 2019: 0}"
      ]
     },
     "execution_count": 36,
     "metadata": {},
     "output_type": "execute_result"
    }
   ],
   "source": [
    "nulls_miguel #Datos a partir del 2015"
   ]
  },
  {
   "cell_type": "markdown",
   "metadata": {},
   "source": [
    "Recortar el dataframe"
   ]
  },
  {
   "cell_type": "code",
   "execution_count": 37,
   "metadata": {},
   "outputs": [
    {
     "data": {
      "text/plain": [
       "(42360, 4)"
      ]
     },
     "execution_count": 37,
     "metadata": {},
     "output_type": "execute_result"
    }
   ],
   "source": [
    "df_miguel_v2=df_miguel[df_miguel.FECHA >= '2015-01-01']\n",
    "df_miguel_v2.shape"
   ]
  },
  {
   "cell_type": "code",
   "execution_count": 38,
   "metadata": {},
   "outputs": [
    {
     "data": {
      "text/plain": [
       "-99.0    6048\n",
       " 25.0     932\n",
       " 27.0     896\n",
       " 26.0     887\n",
       " 23.0     874\n",
       "Name: MGH, dtype: int64"
      ]
     },
     "execution_count": 38,
     "metadata": {},
     "output_type": "execute_result"
    }
   ],
   "source": [
    "df_miguel_v2.MGH.value_counts().head() # 6mil -99.0"
   ]
  },
  {
   "cell_type": "markdown",
   "metadata": {},
   "source": [
    "Agregando columna AÑO y MES para hacer un groupby posterior, y así, encontrar los valores -99.0 para cada mes"
   ]
  },
  {
   "cell_type": "code",
   "execution_count": 39,
   "metadata": {},
   "outputs": [],
   "source": [
    "df_miguel_v2['AÑO']=df_miguel_v2.FECHA.apply(lambda x: str(x).split('-')[0])\n",
    "df_miguel_v2['MES']=df_miguel_v2.FECHA.apply(lambda x: str(x).split('-')[1])\n",
    "df_miguel_v2.AÑO=pd.to_numeric(df_miguel_v2.AÑO)\n",
    "df_miguel_v2.MES=pd.to_numeric(df_miguel_v2.MES)"
   ]
  },
  {
   "cell_type": "code",
   "execution_count": 40,
   "metadata": {},
   "outputs": [
    {
     "data": {
      "text/html": [
       "<div>\n",
       "<style scoped>\n",
       "    .dataframe tbody tr th:only-of-type {\n",
       "        vertical-align: middle;\n",
       "    }\n",
       "\n",
       "    .dataframe tbody tr th {\n",
       "        vertical-align: top;\n",
       "    }\n",
       "\n",
       "    .dataframe thead th {\n",
       "        text-align: right;\n",
       "    }\n",
       "</style>\n",
       "<table border=\"1\" class=\"dataframe\">\n",
       "  <thead>\n",
       "    <tr style=\"text-align: right;\">\n",
       "      <th></th>\n",
       "      <th>DATETIME</th>\n",
       "      <th>FECHA</th>\n",
       "      <th>HORA</th>\n",
       "      <th>MGH</th>\n",
       "      <th>AÑO</th>\n",
       "      <th>MES</th>\n",
       "    </tr>\n",
       "  </thead>\n",
       "  <tbody>\n",
       "    <tr>\n",
       "      <th>131496</th>\n",
       "      <td>2015-01-01 01:00:00</td>\n",
       "      <td>2015-01-01</td>\n",
       "      <td>1</td>\n",
       "      <td>165.0</td>\n",
       "      <td>2015</td>\n",
       "      <td>1</td>\n",
       "    </tr>\n",
       "    <tr>\n",
       "      <th>131497</th>\n",
       "      <td>2015-01-01 02:00:00</td>\n",
       "      <td>2015-01-01</td>\n",
       "      <td>2</td>\n",
       "      <td>293.0</td>\n",
       "      <td>2015</td>\n",
       "      <td>1</td>\n",
       "    </tr>\n",
       "    <tr>\n",
       "      <th>131498</th>\n",
       "      <td>2015-01-01 03:00:00</td>\n",
       "      <td>2015-01-01</td>\n",
       "      <td>3</td>\n",
       "      <td>266.0</td>\n",
       "      <td>2015</td>\n",
       "      <td>1</td>\n",
       "    </tr>\n",
       "    <tr>\n",
       "      <th>131499</th>\n",
       "      <td>2015-01-01 04:00:00</td>\n",
       "      <td>2015-01-01</td>\n",
       "      <td>4</td>\n",
       "      <td>178.0</td>\n",
       "      <td>2015</td>\n",
       "      <td>1</td>\n",
       "    </tr>\n",
       "    <tr>\n",
       "      <th>131500</th>\n",
       "      <td>2015-01-01 05:00:00</td>\n",
       "      <td>2015-01-01</td>\n",
       "      <td>5</td>\n",
       "      <td>146.0</td>\n",
       "      <td>2015</td>\n",
       "      <td>1</td>\n",
       "    </tr>\n",
       "  </tbody>\n",
       "</table>\n",
       "</div>"
      ],
      "text/plain": [
       "                  DATETIME      FECHA  HORA    MGH   AÑO  MES\n",
       "131496 2015-01-01 01:00:00 2015-01-01     1  165.0  2015    1\n",
       "131497 2015-01-01 02:00:00 2015-01-01     2  293.0  2015    1\n",
       "131498 2015-01-01 03:00:00 2015-01-01     3  266.0  2015    1\n",
       "131499 2015-01-01 04:00:00 2015-01-01     4  178.0  2015    1\n",
       "131500 2015-01-01 05:00:00 2015-01-01     5  146.0  2015    1"
      ]
     },
     "execution_count": 40,
     "metadata": {},
     "output_type": "execute_result"
    }
   ],
   "source": [
    "df_miguel_v2.head()"
   ]
  },
  {
   "cell_type": "markdown",
   "metadata": {},
   "source": [
    "Conteo de las mediciones de cada hora de cada día, de cada mes... Estas cantidades son los 'totales' para saber cual es el porcentaje de '-99.0' por cada mes"
   ]
  },
  {
   "cell_type": "code",
   "execution_count": 41,
   "metadata": {},
   "outputs": [
    {
     "data": {
      "text/html": [
       "<div>\n",
       "<style scoped>\n",
       "    .dataframe tbody tr th:only-of-type {\n",
       "        vertical-align: middle;\n",
       "    }\n",
       "\n",
       "    .dataframe tbody tr th {\n",
       "        vertical-align: top;\n",
       "    }\n",
       "\n",
       "    .dataframe thead th {\n",
       "        text-align: right;\n",
       "    }\n",
       "</style>\n",
       "<table border=\"1\" class=\"dataframe\">\n",
       "  <thead>\n",
       "    <tr style=\"text-align: right;\">\n",
       "      <th></th>\n",
       "      <th>AÑO</th>\n",
       "      <th>MES</th>\n",
       "      <th>count</th>\n",
       "    </tr>\n",
       "  </thead>\n",
       "  <tbody>\n",
       "    <tr>\n",
       "      <th>0</th>\n",
       "      <td>2015</td>\n",
       "      <td>1</td>\n",
       "      <td>744</td>\n",
       "    </tr>\n",
       "    <tr>\n",
       "      <th>1</th>\n",
       "      <td>2015</td>\n",
       "      <td>2</td>\n",
       "      <td>672</td>\n",
       "    </tr>\n",
       "    <tr>\n",
       "      <th>2</th>\n",
       "      <td>2015</td>\n",
       "      <td>3</td>\n",
       "      <td>744</td>\n",
       "    </tr>\n",
       "    <tr>\n",
       "      <th>3</th>\n",
       "      <td>2015</td>\n",
       "      <td>4</td>\n",
       "      <td>720</td>\n",
       "    </tr>\n",
       "    <tr>\n",
       "      <th>4</th>\n",
       "      <td>2015</td>\n",
       "      <td>5</td>\n",
       "      <td>744</td>\n",
       "    </tr>\n",
       "  </tbody>\n",
       "</table>\n",
       "</div>"
      ],
      "text/plain": [
       "    AÑO  MES  count\n",
       "0  2015    1    744\n",
       "1  2015    2    672\n",
       "2  2015    3    744\n",
       "3  2015    4    720\n",
       "4  2015    5    744"
      ]
     },
     "execution_count": 41,
     "metadata": {},
     "output_type": "execute_result"
    }
   ],
   "source": [
    "df_miguel_v2.groupby([\"AÑO\",\"MES\"]).size().to_frame(name = 'count').reset_index().head()\n",
    "#count = 744 cuando el mes tiene 31 días\n",
    "#count = 672 cuando es febrero y ps 28 o 29 días...\n",
    "#count = 720 cuando el mes tiene 30 días"
   ]
  },
  {
   "cell_type": "markdown",
   "metadata": {},
   "source": [
    "Aca vemos cuántos '-99.0' hay para cada año-mes. Con esto podemos darnos una idea del impacto que tendría el funcionamiento del  modelo si es que decidimos eliminar esos rows, o reemplazar esos valores por otro.\n",
    "\n",
    "Por ejemplo, para los últimos 5 meses del año 2019, practicamente no hay ningúna medición"
   ]
  },
  {
   "cell_type": "code",
   "execution_count": 57,
   "metadata": {},
   "outputs": [
    {
     "data": {
      "text/html": [
       "<div>\n",
       "<style scoped>\n",
       "    .dataframe tbody tr th:only-of-type {\n",
       "        vertical-align: middle;\n",
       "    }\n",
       "\n",
       "    .dataframe tbody tr th {\n",
       "        vertical-align: top;\n",
       "    }\n",
       "\n",
       "    .dataframe thead th {\n",
       "        text-align: right;\n",
       "    }\n",
       "</style>\n",
       "<table border=\"1\" class=\"dataframe\">\n",
       "  <thead>\n",
       "    <tr style=\"text-align: right;\">\n",
       "      <th></th>\n",
       "      <th></th>\n",
       "      <th></th>\n",
       "      <th>MGH</th>\n",
       "    </tr>\n",
       "    <tr>\n",
       "      <th>AÑO</th>\n",
       "      <th>MES</th>\n",
       "      <th>MGH</th>\n",
       "      <th></th>\n",
       "    </tr>\n",
       "  </thead>\n",
       "  <tbody>\n",
       "    <tr>\n",
       "      <th rowspan=\"12\" valign=\"top\">2015</th>\n",
       "      <th>1</th>\n",
       "      <th>-99.0</th>\n",
       "      <td>7</td>\n",
       "    </tr>\n",
       "    <tr>\n",
       "      <th>2</th>\n",
       "      <th>-99.0</th>\n",
       "      <td>6</td>\n",
       "    </tr>\n",
       "    <tr>\n",
       "      <th>3</th>\n",
       "      <th>-99.0</th>\n",
       "      <td>34</td>\n",
       "    </tr>\n",
       "    <tr>\n",
       "      <th>4</th>\n",
       "      <th>-99.0</th>\n",
       "      <td>58</td>\n",
       "    </tr>\n",
       "    <tr>\n",
       "      <th>5</th>\n",
       "      <th>-99.0</th>\n",
       "      <td>83</td>\n",
       "    </tr>\n",
       "    <tr>\n",
       "      <th>6</th>\n",
       "      <th>-99.0</th>\n",
       "      <td>38</td>\n",
       "    </tr>\n",
       "    <tr>\n",
       "      <th>7</th>\n",
       "      <th>-99.0</th>\n",
       "      <td>14</td>\n",
       "    </tr>\n",
       "    <tr>\n",
       "      <th>8</th>\n",
       "      <th>-99.0</th>\n",
       "      <td>12</td>\n",
       "    </tr>\n",
       "    <tr>\n",
       "      <th>9</th>\n",
       "      <th>-99.0</th>\n",
       "      <td>29</td>\n",
       "    </tr>\n",
       "    <tr>\n",
       "      <th>10</th>\n",
       "      <th>-99.0</th>\n",
       "      <td>31</td>\n",
       "    </tr>\n",
       "    <tr>\n",
       "      <th>11</th>\n",
       "      <th>-99.0</th>\n",
       "      <td>5</td>\n",
       "    </tr>\n",
       "    <tr>\n",
       "      <th>12</th>\n",
       "      <th>-99.0</th>\n",
       "      <td>144</td>\n",
       "    </tr>\n",
       "    <tr>\n",
       "      <th rowspan=\"12\" valign=\"top\">2016</th>\n",
       "      <th>1</th>\n",
       "      <th>-99.0</th>\n",
       "      <td>5</td>\n",
       "    </tr>\n",
       "    <tr>\n",
       "      <th>2</th>\n",
       "      <th>-99.0</th>\n",
       "      <td>10</td>\n",
       "    </tr>\n",
       "    <tr>\n",
       "      <th>3</th>\n",
       "      <th>-99.0</th>\n",
       "      <td>21</td>\n",
       "    </tr>\n",
       "    <tr>\n",
       "      <th>4</th>\n",
       "      <th>-99.0</th>\n",
       "      <td>4</td>\n",
       "    </tr>\n",
       "    <tr>\n",
       "      <th>5</th>\n",
       "      <th>-99.0</th>\n",
       "      <td>11</td>\n",
       "    </tr>\n",
       "    <tr>\n",
       "      <th>6</th>\n",
       "      <th>-99.0</th>\n",
       "      <td>23</td>\n",
       "    </tr>\n",
       "    <tr>\n",
       "      <th>7</th>\n",
       "      <th>-99.0</th>\n",
       "      <td>9</td>\n",
       "    </tr>\n",
       "    <tr>\n",
       "      <th>8</th>\n",
       "      <th>-99.0</th>\n",
       "      <td>12</td>\n",
       "    </tr>\n",
       "    <tr>\n",
       "      <th>9</th>\n",
       "      <th>-99.0</th>\n",
       "      <td>5</td>\n",
       "    </tr>\n",
       "    <tr>\n",
       "      <th>10</th>\n",
       "      <th>-99.0</th>\n",
       "      <td>6</td>\n",
       "    </tr>\n",
       "    <tr>\n",
       "      <th>11</th>\n",
       "      <th>-99.0</th>\n",
       "      <td>11</td>\n",
       "    </tr>\n",
       "    <tr>\n",
       "      <th>12</th>\n",
       "      <th>-99.0</th>\n",
       "      <td>7</td>\n",
       "    </tr>\n",
       "    <tr>\n",
       "      <th rowspan=\"12\" valign=\"top\">2017</th>\n",
       "      <th>1</th>\n",
       "      <th>-99.0</th>\n",
       "      <td>6</td>\n",
       "    </tr>\n",
       "    <tr>\n",
       "      <th>2</th>\n",
       "      <th>-99.0</th>\n",
       "      <td>6</td>\n",
       "    </tr>\n",
       "    <tr>\n",
       "      <th>3</th>\n",
       "      <th>-99.0</th>\n",
       "      <td>11</td>\n",
       "    </tr>\n",
       "    <tr>\n",
       "      <th>4</th>\n",
       "      <th>-99.0</th>\n",
       "      <td>266</td>\n",
       "    </tr>\n",
       "    <tr>\n",
       "      <th>5</th>\n",
       "      <th>-99.0</th>\n",
       "      <td>272</td>\n",
       "    </tr>\n",
       "    <tr>\n",
       "      <th>6</th>\n",
       "      <th>-99.0</th>\n",
       "      <td>19</td>\n",
       "    </tr>\n",
       "    <tr>\n",
       "      <th>7</th>\n",
       "      <th>-99.0</th>\n",
       "      <td>29</td>\n",
       "    </tr>\n",
       "    <tr>\n",
       "      <th>8</th>\n",
       "      <th>-99.0</th>\n",
       "      <td>46</td>\n",
       "    </tr>\n",
       "    <tr>\n",
       "      <th>9</th>\n",
       "      <th>-99.0</th>\n",
       "      <td>38</td>\n",
       "    </tr>\n",
       "    <tr>\n",
       "      <th>10</th>\n",
       "      <th>-99.0</th>\n",
       "      <td>46</td>\n",
       "    </tr>\n",
       "    <tr>\n",
       "      <th>11</th>\n",
       "      <th>-99.0</th>\n",
       "      <td>20</td>\n",
       "    </tr>\n",
       "    <tr>\n",
       "      <th>12</th>\n",
       "      <th>-99.0</th>\n",
       "      <td>33</td>\n",
       "    </tr>\n",
       "    <tr>\n",
       "      <th rowspan=\"12\" valign=\"top\">2018</th>\n",
       "      <th>1</th>\n",
       "      <th>-99.0</th>\n",
       "      <td>10</td>\n",
       "    </tr>\n",
       "    <tr>\n",
       "      <th>2</th>\n",
       "      <th>-99.0</th>\n",
       "      <td>32</td>\n",
       "    </tr>\n",
       "    <tr>\n",
       "      <th>3</th>\n",
       "      <th>-99.0</th>\n",
       "      <td>11</td>\n",
       "    </tr>\n",
       "    <tr>\n",
       "      <th>4</th>\n",
       "      <th>-99.0</th>\n",
       "      <td>4</td>\n",
       "    </tr>\n",
       "    <tr>\n",
       "      <th>5</th>\n",
       "      <th>-99.0</th>\n",
       "      <td>13</td>\n",
       "    </tr>\n",
       "    <tr>\n",
       "      <th>6</th>\n",
       "      <th>-99.0</th>\n",
       "      <td>19</td>\n",
       "    </tr>\n",
       "    <tr>\n",
       "      <th>7</th>\n",
       "      <th>-99.0</th>\n",
       "      <td>15</td>\n",
       "    </tr>\n",
       "    <tr>\n",
       "      <th>8</th>\n",
       "      <th>-99.0</th>\n",
       "      <td>286</td>\n",
       "    </tr>\n",
       "    <tr>\n",
       "      <th>9</th>\n",
       "      <th>-99.0</th>\n",
       "      <td>153</td>\n",
       "    </tr>\n",
       "    <tr>\n",
       "      <th>10</th>\n",
       "      <th>-99.0</th>\n",
       "      <td>25</td>\n",
       "    </tr>\n",
       "    <tr>\n",
       "      <th>11</th>\n",
       "      <th>-99.0</th>\n",
       "      <td>63</td>\n",
       "    </tr>\n",
       "    <tr>\n",
       "      <th>12</th>\n",
       "      <th>-99.0</th>\n",
       "      <td>18</td>\n",
       "    </tr>\n",
       "    <tr>\n",
       "      <th rowspan=\"10\" valign=\"top\">2019</th>\n",
       "      <th>1</th>\n",
       "      <th>-99.0</th>\n",
       "      <td>128</td>\n",
       "    </tr>\n",
       "    <tr>\n",
       "      <th>2</th>\n",
       "      <th>-99.0</th>\n",
       "      <td>207</td>\n",
       "    </tr>\n",
       "    <tr>\n",
       "      <th>3</th>\n",
       "      <th>-99.0</th>\n",
       "      <td>26</td>\n",
       "    </tr>\n",
       "    <tr>\n",
       "      <th>4</th>\n",
       "      <th>-99.0</th>\n",
       "      <td>40</td>\n",
       "    </tr>\n",
       "    <tr>\n",
       "      <th>5</th>\n",
       "      <th>-99.0</th>\n",
       "      <td>26</td>\n",
       "    </tr>\n",
       "    <tr>\n",
       "      <th>6</th>\n",
       "      <th>-99.0</th>\n",
       "      <td>643</td>\n",
       "    </tr>\n",
       "    <tr>\n",
       "      <th>7</th>\n",
       "      <th>-99.0</th>\n",
       "      <td>744</td>\n",
       "    </tr>\n",
       "    <tr>\n",
       "      <th>8</th>\n",
       "      <th>-99.0</th>\n",
       "      <td>744</td>\n",
       "    </tr>\n",
       "    <tr>\n",
       "      <th>9</th>\n",
       "      <th>-99.0</th>\n",
       "      <td>720</td>\n",
       "    </tr>\n",
       "    <tr>\n",
       "      <th>10</th>\n",
       "      <th>-99.0</th>\n",
       "      <td>744</td>\n",
       "    </tr>\n",
       "  </tbody>\n",
       "</table>\n",
       "</div>"
      ],
      "text/plain": [
       "                MGH\n",
       "AÑO  MES MGH       \n",
       "2015 1   -99.0    7\n",
       "     2   -99.0    6\n",
       "     3   -99.0   34\n",
       "     4   -99.0   58\n",
       "     5   -99.0   83\n",
       "     6   -99.0   38\n",
       "     7   -99.0   14\n",
       "     8   -99.0   12\n",
       "     9   -99.0   29\n",
       "     10  -99.0   31\n",
       "     11  -99.0    5\n",
       "     12  -99.0  144\n",
       "2016 1   -99.0    5\n",
       "     2   -99.0   10\n",
       "     3   -99.0   21\n",
       "     4   -99.0    4\n",
       "     5   -99.0   11\n",
       "     6   -99.0   23\n",
       "     7   -99.0    9\n",
       "     8   -99.0   12\n",
       "     9   -99.0    5\n",
       "     10  -99.0    6\n",
       "     11  -99.0   11\n",
       "     12  -99.0    7\n",
       "2017 1   -99.0    6\n",
       "     2   -99.0    6\n",
       "     3   -99.0   11\n",
       "     4   -99.0  266\n",
       "     5   -99.0  272\n",
       "     6   -99.0   19\n",
       "     7   -99.0   29\n",
       "     8   -99.0   46\n",
       "     9   -99.0   38\n",
       "     10  -99.0   46\n",
       "     11  -99.0   20\n",
       "     12  -99.0   33\n",
       "2018 1   -99.0   10\n",
       "     2   -99.0   32\n",
       "     3   -99.0   11\n",
       "     4   -99.0    4\n",
       "     5   -99.0   13\n",
       "     6   -99.0   19\n",
       "     7   -99.0   15\n",
       "     8   -99.0  286\n",
       "     9   -99.0  153\n",
       "     10  -99.0   25\n",
       "     11  -99.0   63\n",
       "     12  -99.0   18\n",
       "2019 1   -99.0  128\n",
       "     2   -99.0  207\n",
       "     3   -99.0   26\n",
       "     4   -99.0   40\n",
       "     5   -99.0   26\n",
       "     6   -99.0  643\n",
       "     7   -99.0  744\n",
       "     8   -99.0  744\n",
       "     9   -99.0  720\n",
       "     10  -99.0  744"
      ]
     },
     "execution_count": 57,
     "metadata": {},
     "output_type": "execute_result"
    }
   ],
   "source": [
    "df_miguel_v2[df_miguel_v2.MGH == -99.0].groupby([\"AÑO\",\"MES\"])['MGH'].value_counts().to_frame()"
   ]
  },
  {
   "cell_type": "code",
   "execution_count": 43,
   "metadata": {},
   "outputs": [],
   "source": [
    "df_miguel_v3=df_miguel_v2[df_miguel_v2.FECHA <= '2018-12-31']"
   ]
  },
  {
   "cell_type": "code",
   "execution_count": 44,
   "metadata": {},
   "outputs": [],
   "source": [
    "# Llenar con medias\n",
    "means = []\n",
    "for e in range(2015,2019):\n",
    "    means.append(df_miguel_v3.MGH[df_miguel_v3.AÑO == e].mean())\n",
    "\n",
    "means\n",
    "df_miguel_v3.MGH[(df_miguel_v3.AÑO == 2015) & (df_miguel_v3.MGH == -99.0)] = means[0]\n",
    "df_miguel_v3.MGH[(df_miguel_v3.AÑO == 2016) & (df_miguel_v3.MGH == -99.0)] = means[1]\n",
    "df_miguel_v3.MGH[(df_miguel_v3.AÑO == 2017) & (df_miguel_v3.MGH == -99.0)] = means[2]\n",
    "df_miguel_v3.MGH[(df_miguel_v3.AÑO == 2018) & (df_miguel_v3.MGH == -99.0)] = means[3]"
   ]
  },
  {
   "cell_type": "code",
   "execution_count": 45,
   "metadata": {},
   "outputs": [
    {
     "data": {
      "text/html": [
       "<div>\n",
       "<style scoped>\n",
       "    .dataframe tbody tr th:only-of-type {\n",
       "        vertical-align: middle;\n",
       "    }\n",
       "\n",
       "    .dataframe tbody tr th {\n",
       "        vertical-align: top;\n",
       "    }\n",
       "\n",
       "    .dataframe thead th {\n",
       "        text-align: right;\n",
       "    }\n",
       "</style>\n",
       "<table border=\"1\" class=\"dataframe\">\n",
       "  <thead>\n",
       "    <tr style=\"text-align: right;\">\n",
       "      <th></th>\n",
       "      <th>DATETIME</th>\n",
       "      <th>FECHA</th>\n",
       "      <th>HORA</th>\n",
       "      <th>MGH</th>\n",
       "      <th>AÑO</th>\n",
       "      <th>MES</th>\n",
       "    </tr>\n",
       "  </thead>\n",
       "  <tbody>\n",
       "  </tbody>\n",
       "</table>\n",
       "</div>"
      ],
      "text/plain": [
       "Empty DataFrame\n",
       "Columns: [DATETIME, FECHA, HORA, MGH, AÑO, MES]\n",
       "Index: []"
      ]
     },
     "execution_count": 45,
     "metadata": {},
     "output_type": "execute_result"
    }
   ],
   "source": [
    "df_miguel_v3[df_miguel_v3.MGH== -99.0] #Correcto"
   ]
  },
  {
   "cell_type": "code",
   "execution_count": 46,
   "metadata": {},
   "outputs": [],
   "source": [
    "df_miguel_v3.to_csv(\"data_clean/miguel_pm10_clean.csv\")\n",
    "df_cuauh_v3.to_csv(\"data_clean/cuauh_pm10_clean.csv\")\n",
    "df_benito_v3.to_csv(\"data_clean/benito_pm10_clean.csv\")"
   ]
  },
  {
   "cell_type": "code",
   "execution_count": 50,
   "metadata": {},
   "outputs": [
    {
     "data": {
      "text/html": [
       "<div>\n",
       "<style scoped>\n",
       "    .dataframe tbody tr th:only-of-type {\n",
       "        vertical-align: middle;\n",
       "    }\n",
       "\n",
       "    .dataframe tbody tr th {\n",
       "        vertical-align: top;\n",
       "    }\n",
       "\n",
       "    .dataframe thead th {\n",
       "        text-align: right;\n",
       "    }\n",
       "</style>\n",
       "<table border=\"1\" class=\"dataframe\">\n",
       "  <thead>\n",
       "    <tr style=\"text-align: right;\">\n",
       "      <th></th>\n",
       "      <th>DATETIME</th>\n",
       "      <th>FECHA</th>\n",
       "      <th>HORA</th>\n",
       "      <th>MGH</th>\n",
       "      <th>AÑO</th>\n",
       "      <th>MES</th>\n",
       "    </tr>\n",
       "  </thead>\n",
       "  <tbody>\n",
       "    <tr>\n",
       "      <th>131496</th>\n",
       "      <td>2015-01-01 01:00:00</td>\n",
       "      <td>2015-01-01</td>\n",
       "      <td>1</td>\n",
       "      <td>165.0</td>\n",
       "      <td>2015</td>\n",
       "      <td>1</td>\n",
       "    </tr>\n",
       "    <tr>\n",
       "      <th>131497</th>\n",
       "      <td>2015-01-01 02:00:00</td>\n",
       "      <td>2015-01-01</td>\n",
       "      <td>2</td>\n",
       "      <td>293.0</td>\n",
       "      <td>2015</td>\n",
       "      <td>1</td>\n",
       "    </tr>\n",
       "    <tr>\n",
       "      <th>131498</th>\n",
       "      <td>2015-01-01 03:00:00</td>\n",
       "      <td>2015-01-01</td>\n",
       "      <td>3</td>\n",
       "      <td>266.0</td>\n",
       "      <td>2015</td>\n",
       "      <td>1</td>\n",
       "    </tr>\n",
       "    <tr>\n",
       "      <th>131499</th>\n",
       "      <td>2015-01-01 04:00:00</td>\n",
       "      <td>2015-01-01</td>\n",
       "      <td>4</td>\n",
       "      <td>178.0</td>\n",
       "      <td>2015</td>\n",
       "      <td>1</td>\n",
       "    </tr>\n",
       "    <tr>\n",
       "      <th>131500</th>\n",
       "      <td>2015-01-01 05:00:00</td>\n",
       "      <td>2015-01-01</td>\n",
       "      <td>5</td>\n",
       "      <td>146.0</td>\n",
       "      <td>2015</td>\n",
       "      <td>1</td>\n",
       "    </tr>\n",
       "  </tbody>\n",
       "</table>\n",
       "</div>"
      ],
      "text/plain": [
       "                  DATETIME      FECHA  HORA    MGH   AÑO  MES\n",
       "131496 2015-01-01 01:00:00 2015-01-01     1  165.0  2015    1\n",
       "131497 2015-01-01 02:00:00 2015-01-01     2  293.0  2015    1\n",
       "131498 2015-01-01 03:00:00 2015-01-01     3  266.0  2015    1\n",
       "131499 2015-01-01 04:00:00 2015-01-01     4  178.0  2015    1\n",
       "131500 2015-01-01 05:00:00 2015-01-01     5  146.0  2015    1"
      ]
     },
     "execution_count": 50,
     "metadata": {},
     "output_type": "execute_result"
    }
   ],
   "source": [
    "df_miguel_v3.head()"
   ]
  }
 ],
 "metadata": {
  "kernelspec": {
   "display_name": "Python 3",
   "language": "python",
   "name": "python3"
  },
  "language_info": {
   "codemirror_mode": {
    "name": "ipython",
    "version": 3
   },
   "file_extension": ".py",
   "mimetype": "text/x-python",
   "name": "python",
   "nbconvert_exporter": "python",
   "pygments_lexer": "ipython3",
   "version": "3.7.3"
  }
 },
 "nbformat": 4,
 "nbformat_minor": 2
}
