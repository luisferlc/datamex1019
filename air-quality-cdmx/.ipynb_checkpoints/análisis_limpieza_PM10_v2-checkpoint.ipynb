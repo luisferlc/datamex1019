{
 "cells": [
  {
   "cell_type": "markdown",
   "metadata": {},
   "source": [
    "# Cambiando -99.0 a None, y removiendo outliers"
   ]
  },
  {
   "cell_type": "code",
   "execution_count": null,
   "metadata": {},
   "outputs": [],
   "source": [
    "import warnings\n",
    "warnings.simplefilter(\"ignore\")\n",
    "import pandas as pd\n",
    "import numpy as np\n",
    "import glob, os\n",
    "import datetime\n",
    "import matplotlib.pyplot as plt"
   ]
  },
  {
   "cell_type": "code",
   "execution_count": null,
   "metadata": {},
   "outputs": [],
   "source": [
    "## Importando los datos para PM10\n",
    "path = r'C:\\Users\\luisf\\Documents\\Python Projects\\datamex1019\\air-quality-cdmx\\data_aircdmx'                     # use your path\n",
    "all_files = glob.glob(os.path.join(path, \"*PM10.xls\"))     # advisable to use os.path.join as this makes concatenation OS independent\n",
    "all_files"
   ]
  },
  {
   "cell_type": "code",
   "execution_count": null,
   "metadata": {},
   "outputs": [],
   "source": [
    "df_from_each_file = (pd.read_excel(f) for f in all_files)\n",
    "df_from_each_file\n",
    "concatenated_df=pd.concat([i.set_index(['FECHA']+['HORA']) for i in df_from_each_file]).reset_index()"
   ]
  },
  {
   "cell_type": "code",
   "execution_count": null,
   "metadata": {},
   "outputs": [],
   "source": [
    "#Filtrando por las alcaldías dentro del alcance\n",
    "df=concatenated_df[[\"FECHA\",\"HORA\",\"BJU\",\"HGM\",\"MGH\"]]"
   ]
  },
  {
   "cell_type": "code",
   "execution_count": null,
   "metadata": {},
   "outputs": [],
   "source": [
    "df.HORA[df.HORA==24] = 00\n",
    "df.FECHA=df.FECHA.apply(str)\n",
    "df.FECHA=df.FECHA.apply(lambda x: x.replace(' 00:00:00',''))\n",
    "df['DATETIME']=df.FECHA + ' ' + df.HORA.apply(str)+':00:00'\n",
    "#df.DATETIME=df.DATETIME.apply(lambda x: x.replace(' 00:00:00',''))\n",
    "df.DATETIME=pd.to_datetime(df.DATETIME)\n",
    "df.DATETIME.head()"
   ]
  },
  {
   "cell_type": "code",
   "execution_count": null,
   "metadata": {},
   "outputs": [],
   "source": [
    "df_benito=df[[\"DATETIME\",\"FECHA\",\"HORA\",\"BJU\"]]\n",
    "df_cuauh=df[[\"DATETIME\",\"FECHA\",\"HORA\",\"HGM\"]]\n",
    "df_miguel=df[[\"DATETIME\",\"FECHA\",\"HORA\",\"MGH\"]]"
   ]
  },
  {
   "cell_type": "code",
   "execution_count": null,
   "metadata": {},
   "outputs": [],
   "source": [
    "df_benito_v2=df_benito[df_benito.FECHA >= '2015-01-01']\n",
    "df_cuauh_v2=df_cuauh[df_cuauh.FECHA >= '2012-01-01']\n",
    "df_miguel_v2=df_miguel[df_miguel.FECHA >= '2015-01-01']"
   ]
  },
  {
   "cell_type": "markdown",
   "metadata": {},
   "source": [
    "## Miguel"
   ]
  },
  {
   "cell_type": "code",
   "execution_count": null,
   "metadata": {},
   "outputs": [],
   "source": [
    "f, ax=plt.subplots(1)\n",
    "f.set_figheight(8)\n",
    "f.set_figwidth(20)\n",
    "ax.scatter(df_miguel_v2.DATETIME, df_miguel_v2.MGH, color='r');"
   ]
  }
 ],
 "metadata": {
  "kernelspec": {
   "display_name": "Python 3",
   "language": "python",
   "name": "python3"
  }
 },
 "nbformat": 4,
 "nbformat_minor": 2
}
