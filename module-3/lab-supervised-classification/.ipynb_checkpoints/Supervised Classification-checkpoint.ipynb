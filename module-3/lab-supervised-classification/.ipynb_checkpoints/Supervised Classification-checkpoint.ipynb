{
 "cells": [
  {
   "cell_type": "markdown",
   "metadata": {},
   "source": [
    "# Supervised classification\n",
    "\n",
    "In the data.csv there are letters (uppercases and lowercases) and numbers, 28x28 pixels in a row format.\n",
    "\n",
    "* First, you need to know which labels are which, meaning you need to visualize some data to realize which number labels represents a letter, or a number."
   ]
  },
  {
   "cell_type": "code",
   "execution_count": 3,
   "metadata": {},
   "outputs": [],
   "source": [
    "# Import libraries\n",
    "import pandas as pd\n",
    "import numpy as np\n",
    "import matplotlib.pyplot as plt\n",
    "from sklearn.metrics import accuracy_score\n",
    "import warnings\n",
    "warnings.simplefilter('ignore')"
   ]
  },
  {
   "cell_type": "code",
   "execution_count": 4,
   "metadata": {},
   "outputs": [
    {
     "data": {
      "text/html": [
       "<div>\n",
       "<style scoped>\n",
       "    .dataframe tbody tr th:only-of-type {\n",
       "        vertical-align: middle;\n",
       "    }\n",
       "\n",
       "    .dataframe tbody tr th {\n",
       "        vertical-align: top;\n",
       "    }\n",
       "\n",
       "    .dataframe thead th {\n",
       "        text-align: right;\n",
       "    }\n",
       "</style>\n",
       "<table border=\"1\" class=\"dataframe\">\n",
       "  <thead>\n",
       "    <tr style=\"text-align: right;\">\n",
       "      <th></th>\n",
       "      <th>e</th>\n",
       "      <th>1</th>\n",
       "      <th>2</th>\n",
       "      <th>3</th>\n",
       "      <th>4</th>\n",
       "      <th>5</th>\n",
       "      <th>6</th>\n",
       "      <th>7</th>\n",
       "      <th>8</th>\n",
       "      <th>9</th>\n",
       "      <th>...</th>\n",
       "      <th>775</th>\n",
       "      <th>776</th>\n",
       "      <th>777</th>\n",
       "      <th>778</th>\n",
       "      <th>779</th>\n",
       "      <th>780</th>\n",
       "      <th>781</th>\n",
       "      <th>782</th>\n",
       "      <th>783</th>\n",
       "      <th>784</th>\n",
       "    </tr>\n",
       "  </thead>\n",
       "  <tbody>\n",
       "    <tr>\n",
       "      <th>0</th>\n",
       "      <td>36.0</td>\n",
       "      <td>0.0</td>\n",
       "      <td>0.0</td>\n",
       "      <td>0.0</td>\n",
       "      <td>0.0</td>\n",
       "      <td>0.0</td>\n",
       "      <td>0.0</td>\n",
       "      <td>0.0</td>\n",
       "      <td>0.0</td>\n",
       "      <td>0.0</td>\n",
       "      <td>...</td>\n",
       "      <td>0.0</td>\n",
       "      <td>0.0</td>\n",
       "      <td>0.0</td>\n",
       "      <td>0.0</td>\n",
       "      <td>0.0</td>\n",
       "      <td>0.0</td>\n",
       "      <td>0.0</td>\n",
       "      <td>0.0</td>\n",
       "      <td>0.0</td>\n",
       "      <td>0.0</td>\n",
       "    </tr>\n",
       "    <tr>\n",
       "      <th>1</th>\n",
       "      <td>0.0</td>\n",
       "      <td>0.0</td>\n",
       "      <td>0.0</td>\n",
       "      <td>0.0</td>\n",
       "      <td>0.0</td>\n",
       "      <td>0.0</td>\n",
       "      <td>0.0</td>\n",
       "      <td>0.0</td>\n",
       "      <td>0.0</td>\n",
       "      <td>0.0</td>\n",
       "      <td>...</td>\n",
       "      <td>0.0</td>\n",
       "      <td>0.0</td>\n",
       "      <td>0.0</td>\n",
       "      <td>0.0</td>\n",
       "      <td>0.0</td>\n",
       "      <td>0.0</td>\n",
       "      <td>0.0</td>\n",
       "      <td>0.0</td>\n",
       "      <td>0.0</td>\n",
       "      <td>0.0</td>\n",
       "    </tr>\n",
       "    <tr>\n",
       "      <th>2</th>\n",
       "      <td>3.0</td>\n",
       "      <td>0.0</td>\n",
       "      <td>0.0</td>\n",
       "      <td>0.0</td>\n",
       "      <td>0.0</td>\n",
       "      <td>0.0</td>\n",
       "      <td>0.0</td>\n",
       "      <td>0.0</td>\n",
       "      <td>0.0</td>\n",
       "      <td>0.0</td>\n",
       "      <td>...</td>\n",
       "      <td>0.0</td>\n",
       "      <td>0.0</td>\n",
       "      <td>0.0</td>\n",
       "      <td>0.0</td>\n",
       "      <td>0.0</td>\n",
       "      <td>0.0</td>\n",
       "      <td>0.0</td>\n",
       "      <td>0.0</td>\n",
       "      <td>0.0</td>\n",
       "      <td>0.0</td>\n",
       "    </tr>\n",
       "    <tr>\n",
       "      <th>3</th>\n",
       "      <td>33.0</td>\n",
       "      <td>0.0</td>\n",
       "      <td>0.0</td>\n",
       "      <td>0.0</td>\n",
       "      <td>0.0</td>\n",
       "      <td>0.0</td>\n",
       "      <td>0.0</td>\n",
       "      <td>0.0</td>\n",
       "      <td>0.0</td>\n",
       "      <td>0.0</td>\n",
       "      <td>...</td>\n",
       "      <td>0.0</td>\n",
       "      <td>0.0</td>\n",
       "      <td>0.0</td>\n",
       "      <td>0.0</td>\n",
       "      <td>0.0</td>\n",
       "      <td>0.0</td>\n",
       "      <td>0.0</td>\n",
       "      <td>0.0</td>\n",
       "      <td>0.0</td>\n",
       "      <td>0.0</td>\n",
       "    </tr>\n",
       "    <tr>\n",
       "      <th>4</th>\n",
       "      <td>30.0</td>\n",
       "      <td>0.0</td>\n",
       "      <td>0.0</td>\n",
       "      <td>0.0</td>\n",
       "      <td>0.0</td>\n",
       "      <td>0.0</td>\n",
       "      <td>0.0</td>\n",
       "      <td>0.0</td>\n",
       "      <td>0.0</td>\n",
       "      <td>0.0</td>\n",
       "      <td>...</td>\n",
       "      <td>0.0</td>\n",
       "      <td>0.0</td>\n",
       "      <td>0.0</td>\n",
       "      <td>0.0</td>\n",
       "      <td>0.0</td>\n",
       "      <td>0.0</td>\n",
       "      <td>0.0</td>\n",
       "      <td>0.0</td>\n",
       "      <td>0.0</td>\n",
       "      <td>0.0</td>\n",
       "    </tr>\n",
       "  </tbody>\n",
       "</table>\n",
       "<p>5 rows × 785 columns</p>\n",
       "</div>"
      ],
      "text/plain": [
       "      e    1    2    3    4    5    6    7    8    9  ...  775  776  777  778  \\\n",
       "0  36.0  0.0  0.0  0.0  0.0  0.0  0.0  0.0  0.0  0.0  ...  0.0  0.0  0.0  0.0   \n",
       "1   0.0  0.0  0.0  0.0  0.0  0.0  0.0  0.0  0.0  0.0  ...  0.0  0.0  0.0  0.0   \n",
       "2   3.0  0.0  0.0  0.0  0.0  0.0  0.0  0.0  0.0  0.0  ...  0.0  0.0  0.0  0.0   \n",
       "3  33.0  0.0  0.0  0.0  0.0  0.0  0.0  0.0  0.0  0.0  ...  0.0  0.0  0.0  0.0   \n",
       "4  30.0  0.0  0.0  0.0  0.0  0.0  0.0  0.0  0.0  0.0  ...  0.0  0.0  0.0  0.0   \n",
       "\n",
       "   779  780  781  782  783  784  \n",
       "0  0.0  0.0  0.0  0.0  0.0  0.0  \n",
       "1  0.0  0.0  0.0  0.0  0.0  0.0  \n",
       "2  0.0  0.0  0.0  0.0  0.0  0.0  \n",
       "3  0.0  0.0  0.0  0.0  0.0  0.0  \n",
       "4  0.0  0.0  0.0  0.0  0.0  0.0  \n",
       "\n",
       "[5 rows x 785 columns]"
      ]
     },
     "execution_count": 4,
     "metadata": {},
     "output_type": "execute_result"
    }
   ],
   "source": [
    "df = pd.read_csv(\"data_all.csv\")\n",
    "df.head()"
   ]
  },
  {
   "cell_type": "code",
   "execution_count": 5,
   "metadata": {},
   "outputs": [
    {
     "data": {
      "text/plain": [
       "1.0     6330\n",
       "7.0     6139\n",
       "3.0     5969\n",
       "2.0     5869\n",
       "0.0     5778\n",
       "6.0     5705\n",
       "9.0     5686\n",
       "8.0     5633\n",
       "4.0     5619\n",
       "5.0     5190\n",
       "24.0    4156\n",
       "40.0    4092\n",
       "28.0    3508\n",
       "55.0    2965\n",
       "47.0    2535\n",
       "53.0    2320\n",
       "18.0    2047\n",
       "30.0    2002\n",
       "49.0    1898\n",
       "12.0    1739\n",
       "39.0    1683\n",
       "36.0    1644\n",
       "29.0    1576\n",
       "22.0    1485\n",
       "43.0    1479\n",
       "15.0    1440\n",
       "25.0    1397\n",
       "23.0    1351\n",
       "10.0    1062\n",
       "37.0     853\n",
       "        ... \n",
       "27.0     809\n",
       "32.0     806\n",
       "34.0     798\n",
       "31.0     796\n",
       "13.0     779\n",
       "11.0     648\n",
       "19.0     626\n",
       "42.0     589\n",
       "17.0     521\n",
       "52.0     505\n",
       "56.0     482\n",
       "59.0     470\n",
       "57.0     468\n",
       "58.0     467\n",
       "46.0     466\n",
       "50.0     466\n",
       "35.0     464\n",
       "48.0     464\n",
       "61.0     451\n",
       "16.0     447\n",
       "54.0     437\n",
       "38.0     432\n",
       "33.0     432\n",
       "44.0     427\n",
       "26.0     413\n",
       "41.0     400\n",
       "20.0     382\n",
       "60.0     381\n",
       "51.0     368\n",
       "45.0     317\n",
       "Name: e, Length: 62, dtype: int64"
      ]
     },
     "execution_count": 5,
     "metadata": {},
     "output_type": "execute_result"
    }
   ],
   "source": [
    "df.e.value_counts()"
   ]
  },
  {
   "cell_type": "code",
   "execution_count": 6,
   "metadata": {},
   "outputs": [
    {
     "data": {
      "text/plain": [
       "(116322, 785)"
      ]
     },
     "execution_count": 6,
     "metadata": {},
     "output_type": "execute_result"
    }
   ],
   "source": [
    "df.shape"
   ]
  },
  {
   "cell_type": "code",
   "execution_count": 7,
   "metadata": {},
   "outputs": [
    {
     "data": {
      "text/plain": [
       "1     0.0\n",
       "61    0.0\n",
       "69    0.0\n",
       "70    0.0\n",
       "76    0.0\n",
       "Name: e, dtype: float64"
      ]
     },
     "execution_count": 7,
     "metadata": {},
     "output_type": "execute_result"
    }
   ],
   "source": [
    "df.e[df.e == 0.0].head()"
   ]
  },
  {
   "cell_type": "code",
   "execution_count": 8,
   "metadata": {},
   "outputs": [
    {
     "data": {
      "image/png": "[encoded data removed]",
      "text/plain": [
       "<Figure size 360x360 with 3 Axes>"
      ]
     },
     "metadata": {
      "needs_background": "light"
     },
     "output_type": "display_data"
    }
   ],
   "source": [
    "df_plot=df.values\n",
    "plt.figure(figsize=(5,5))\n",
    "plt.subplot(1,3,1)\n",
    "plt.imshow(df_plot[1,1:].reshape(28,28))\n",
    "plt.subplot(1,3,2)\n",
    "plt.imshow(df_plot[61,1:].reshape(28,28))\n",
    "plt.subplot(1,3,3)\n",
    "plt.imshow(df_plot[76,1:].reshape(28,28))\n",
    "plt.show()"
   ]
  },
  {
   "cell_type": "code",
   "execution_count": 9,
   "metadata": {},
   "outputs": [
    {
     "data": {
      "text/plain": [
       "33     9.0\n",
       "53     9.0\n",
       "86     9.0\n",
       "104    9.0\n",
       "151    9.0\n",
       "Name: e, dtype: float64"
      ]
     },
     "execution_count": 9,
     "metadata": {},
     "output_type": "execute_result"
    }
   ],
   "source": [
    "df.e[df.e == 9.0].head()"
   ]
  },
  {
   "cell_type": "code",
   "execution_count": 10,
   "metadata": {},
   "outputs": [
    {
     "data": {
      "image/png": "[encoded data removed]",
      "text/plain": [
       "<Figure size 360x360 with 3 Axes>"
      ]
     },
     "metadata": {
      "needs_background": "light"
     },
     "output_type": "display_data"
    }
   ],
   "source": [
    "plt.figure(figsize=(5,5))\n",
    "plt.subplot(1,3,1)\n",
    "plt.imshow(df_plot[33,1:].reshape(28,28))\n",
    "plt.subplot(1,3,2)\n",
    "plt.imshow(df_plot[53,1:].reshape(28,28))\n",
    "plt.subplot(1,3,3)\n",
    "plt.imshow(df_plot[151,1:].reshape(28,28))\n",
    "plt.show()"
   ]
  },
  {
   "cell_type": "code",
   "execution_count": 11,
   "metadata": {},
   "outputs": [
    {
     "data": {
      "text/plain": [
       "194    10.0\n",
       "302    10.0\n",
       "496    10.0\n",
       "737    10.0\n",
       "790    10.0\n",
       "Name: e, dtype: float64"
      ]
     },
     "execution_count": 11,
     "metadata": {},
     "output_type": "execute_result"
    }
   ],
   "source": [
    "df.e[df.e == 10.0].head()"
   ]
  },
  {
   "cell_type": "code",
   "execution_count": 12,
   "metadata": {},
   "outputs": [
    {
     "data": {
      "image/png": "[encoded data removed]",
      "text/plain": [
       "<Figure size 360x360 with 3 Axes>"
      ]
     },
     "metadata": {
      "needs_background": "light"
     },
     "output_type": "display_data"
    }
   ],
   "source": [
    "plt.figure(figsize=(5,5))\n",
    "plt.subplot(1,3,1)\n",
    "plt.imshow(df_plot[194,1:].reshape(28,28))\n",
    "plt.subplot(1,3,2)\n",
    "plt.imshow(df_plot[302,1:].reshape(28,28))\n",
    "plt.subplot(1,3,3)\n",
    "plt.imshow(df_plot[737,1:].reshape(28,28))\n",
    "plt.show()"
   ]
  },
  {
   "cell_type": "code",
   "execution_count": 13,
   "metadata": {},
   "outputs": [
    {
     "data": {
      "text/plain": [
       "105    35.0\n",
       "391    35.0\n",
       "436    35.0\n",
       "536    35.0\n",
       "593    35.0\n",
       "Name: e, dtype: float64"
      ]
     },
     "execution_count": 13,
     "metadata": {},
     "output_type": "execute_result"
    }
   ],
   "source": [
    "df.e[df.e == 35.0].head()"
   ]
  },
  {
   "cell_type": "code",
   "execution_count": 14,
   "metadata": {},
   "outputs": [
    {
     "data": {
      "image/png": "[encoded data removed]",
      "text/plain": [
       "<Figure size 360x360 with 3 Axes>"
      ]
     },
     "metadata": {
      "needs_background": "light"
     },
     "output_type": "display_data"
    }
   ],
   "source": [
    "plt.figure(figsize=(5,5))\n",
    "plt.subplot(1,3,1)\n",
    "plt.imshow(df_plot[105,1:].reshape(28,28))\n",
    "plt.subplot(1,3,2)\n",
    "plt.imshow(df_plot[391,1:].reshape(28,28))\n",
    "plt.subplot(1,3,3)\n",
    "plt.imshow(df_plot[593,1:].reshape(28,28))\n",
    "plt.show()"
   ]
  },
  {
   "cell_type": "code",
   "execution_count": 15,
   "metadata": {},
   "outputs": [
    {
     "data": {
      "text/plain": [
       "0      36.0\n",
       "24     36.0\n",
       "165    36.0\n",
       "191    36.0\n",
       "336    36.0\n",
       "Name: e, dtype: float64"
      ]
     },
     "execution_count": 15,
     "metadata": {},
     "output_type": "execute_result"
    }
   ],
   "source": [
    "df.e[df.e == 36.0].head()"
   ]
  },
  {
   "cell_type": "code",
   "execution_count": 16,
   "metadata": {},
   "outputs": [
    {
     "data": {
      "image/png": "[encoded data removed]",
      "text/plain": [
       "<Figure size 360x360 with 3 Axes>"
      ]
     },
     "metadata": {
      "needs_background": "light"
     },
     "output_type": "display_data"
    }
   ],
   "source": [
    "plt.figure(figsize=(5,5))\n",
    "plt.subplot(1,3,1)\n",
    "plt.imshow(df_plot[0,1:].reshape(28,28))\n",
    "plt.subplot(1,3,2)\n",
    "plt.imshow(df_plot[165,1:].reshape(28,28))\n",
    "plt.subplot(1,3,3)\n",
    "plt.imshow(df_plot[191,1:].reshape(28,28))\n",
    "plt.show()"
   ]
  },
  {
   "cell_type": "markdown",
   "metadata": {},
   "source": [
    "#### Después de graficar varios valores, encontre que los dígitos van del 0 al 9, las letras minúsculas van del 10 al 35 (ya que son 26 letras en el abeceario gringo) y las mayúsculas van del 36 al 51"
   ]
  },
  {
   "cell_type": "markdown",
   "metadata": {},
   "source": [
    "# Etapa de creación y ejecución del modelo"
   ]
  },
  {
   "cell_type": "code",
   "execution_count": 17,
   "metadata": {},
   "outputs": [
    {
     "data": {
      "text/plain": [
       "((116322, 1), (116322, 784))"
      ]
     },
     "execution_count": 17,
     "metadata": {},
     "output_type": "execute_result"
    }
   ],
   "source": [
    "#Seleccionar tus datos para entrenar y tu columna a predecir:\n",
    "y=df.e\n",
    "X=df.iloc[:,1:]\n",
    "\n",
    "y.shape, X.shape\n",
    "#Pasar a array los datos para poder hacer un reshape de \"y\"\n",
    "y=y.to_numpy()\n",
    "X=X.to_numpy()\n",
    "y=y.reshape(-1,1)\n",
    "\n",
    "y.shape, X.shape"
   ]
  },
  {
   "cell_type": "code",
   "execution_count": 18,
   "metadata": {},
   "outputs": [
    {
     "data": {
      "text/plain": [
       "(116322, 749)"
      ]
     },
     "execution_count": 18,
     "metadata": {},
     "output_type": "execute_result"
    }
   ],
   "source": [
    "#Filtrar las columnas que tengan puros 0's\n",
    "X=X[:, X.sum(axis=0)!=0]\n",
    "X.shape\n",
    "#Se eliminaron 36 columnas"
   ]
  },
  {
   "cell_type": "code",
   "execution_count": 19,
   "metadata": {},
   "outputs": [],
   "source": [
    "## Modificar los valores a 0,1 o 2 de la columna y, para decir si es un número, lower o upper:\n",
    "## 0:número, 1:upper, 2:lower\n",
    "\n",
    "for e in range(len(y)):\n",
    "    if y[e] < 10:\n",
    "        y[e] = 0\n",
    "    elif 10 <= y[e] <= 35:\n",
    "        y[e] = 1\n",
    "    else:\n",
    "        y[e] = 2"
   ]
  },
  {
   "cell_type": "code",
   "execution_count": 20,
   "metadata": {},
   "outputs": [
    {
     "data": {
      "text/plain": [
       "0.0    57918\n",
       "1.0    31345\n",
       "2.0    27059\n",
       "Name: label, dtype: int64"
      ]
     },
     "execution_count": 20,
     "metadata": {},
     "output_type": "execute_result"
    }
   ],
   "source": [
    "pd.DataFrame(y,columns=[\"label\"]).label.value_counts()\n",
    "#Esto quiere decir que al rededor del 50% de los datos son números, el 30% son mayúsculas y el 20% son minúsculas, aproximadamente."
   ]
  },
  {
   "cell_type": "code",
   "execution_count": 21,
   "metadata": {},
   "outputs": [],
   "source": [
    "#Train/Test Split:\n",
    "from sklearn.model_selection import train_test_split\n",
    "X_train, X_test, y_train, y_test = train_test_split(X, y, test_size=.25, random_state=42)"
   ]
  },
  {
   "cell_type": "markdown",
   "metadata": {},
   "source": [
    "* Now, try to train a classifier model to predict the uppercases. Use every single model you know for classification."
   ]
  },
  {
   "cell_type": "code",
   "execution_count": 22,
   "metadata": {},
   "outputs": [],
   "source": [
    "def printing_results(model,x_tr,y_tr,x_ts,y_ts):\n",
    "    \n",
    "    print(\"El R-cuadrado del modelo entrenado es: \",model.score(x_tr,y_tr))\n",
    "    print(\"La precisión de clasificación (accuracy score) para el test es: \",accuracy_score(y_ts, model.predict(x_ts)))"
   ]
  },
  {
   "cell_type": "code",
   "execution_count": 23,
   "metadata": {},
   "outputs": [
    {
     "name": "stdout",
     "output_type": "stream",
     "text": [
      "El R-cuadrado del modelo entrenado es:  0.6474707992801549\n",
      "La precisión de clasificación (accuracy score) para el test es:  0.645851243079674\n"
     ]
    }
   ],
   "source": [
    "##### Regresión Logística:\n",
    "from sklearn.linear_model import LogisticRegression\n",
    "logreg=LogisticRegression(C=0.01, penalty='l2', tol=0.0001, max_iter=70, solver='lbfgs', multi_class='multinomial')\n",
    "logreg=logreg.fit(X_train,y_train)\n",
    "printing_results(logreg,X_train,y_train,X_test,y_test)\n"
   ]
  },
  {
   "cell_type": "code",
   "execution_count": 24,
   "metadata": {},
   "outputs": [
    {
     "name": "stdout",
     "output_type": "stream",
     "text": [
      "El R-cuadrado del modelo entrenado es:  1.0\n",
      "La precisión de clasificación (accuracy score) para el test es:  0.6712286372545648\n"
     ]
    }
   ],
   "source": [
    "##### Árbol de desición 1:\n",
    "from sklearn.tree import DecisionTreeClassifier as DTC\n",
    "dt=DTC()\n",
    "dt=dt.fit(X_train,y_train)\n",
    "printing_results(dt,X_train,y_train,X_test,y_test)"
   ]
  },
  {
   "cell_type": "code",
   "execution_count": 25,
   "metadata": {},
   "outputs": [
    {
     "name": "stdout",
     "output_type": "stream",
     "text": [
      "El R-cuadrado del modelo entrenado es:  0.9643745486640456\n",
      "La precisión de clasificación (accuracy score) para el test es:  0.6782435267012826\n"
     ]
    }
   ],
   "source": [
    "##### Árbol de desición 2:\n",
    "dt=DTC(min_samples_leaf=2)\n",
    "dt=dt.fit(X_train,y_train)\n",
    "printing_results(dt,X_train,y_train,X_test,y_test)"
   ]
  },
  {
   "cell_type": "code",
   "execution_count": 26,
   "metadata": {},
   "outputs": [
    {
     "name": "stdout",
     "output_type": "stream",
     "text": [
      "El R-cuadrado del modelo entrenado es:  1.0\n",
      "La precisión de clasificación (accuracy score) para el test es:  0.812592414291118\n"
     ]
    }
   ],
   "source": [
    "##### Bosque Aleatorio 1:\n",
    "from sklearn.ensemble import RandomForestClassifier as RFC\n",
    "rfc=RFC(n_estimators=100)\n",
    "rfc=rfc.fit(X_train,y_train)\n",
    "printing_results(rfc,X_train,y_train,X_test,y_test)"
   ]
  },
  {
   "cell_type": "code",
   "execution_count": 27,
   "metadata": {},
   "outputs": [
    {
     "name": "stdout",
     "output_type": "stream",
     "text": [
      "El R-cuadrado del modelo entrenado es:  0.9971458373929689\n",
      "La precisión de clasificación (accuracy score) para el test es:  0.8112169457721536\n"
     ]
    }
   ],
   "source": [
    "##### Bosque Aleatorio 2:\n",
    "rfc=RFC(n_estimators=90,min_samples_leaf=2)\n",
    "rfc=rfc.fit(X_train,y_train)\n",
    "printing_results(rfc,X_train,y_train,X_test,y_test)"
   ]
  },
  {
   "cell_type": "code",
   "execution_count": 28,
   "metadata": {},
   "outputs": [
    {
     "name": "stdout",
     "output_type": "stream",
     "text": [
      "El R-cuadrado del modelo entrenado es:  0.9677445237904196\n",
      "La precisión de clasificación (accuracy score) para el test es:  0.8086035555861215\n"
     ]
    }
   ],
   "source": [
    "##### Bosque Aleatorio 3:\n",
    "rfc=RFC(n_estimators=90,min_samples_leaf=4, min_samples_split=2)\n",
    "rfc=rfc.fit(X_train,y_train)\n",
    "printing_results(rfc,X_train,y_train,X_test,y_test)"
   ]
  },
  {
   "cell_type": "code",
   "execution_count": 29,
   "metadata": {},
   "outputs": [
    {
     "name": "stdout",
     "output_type": "stream",
     "text": [
      "El R-cuadrado del modelo entrenado es:  0.9965153998693275\n",
      "La precisión de clasificación (accuracy score) para el test es:  0.8106667583645679\n"
     ]
    }
   ],
   "source": [
    "##### Bosque Aleatorio 4:\n",
    "rfc=RFC(n_estimators=80,min_samples_leaf=2, min_samples_split=4)\n",
    "rfc=rfc.fit(X_train,y_train)\n",
    "printing_results(rfc,X_train,y_train,X_test,y_test)"
   ]
  },
  {
   "cell_type": "code",
   "execution_count": 1,
   "metadata": {},
   "outputs": [],
   "source": [
    "##### Bosque Aleatorio con RandomizedSearch:\n",
    "#from sklearn.model_selection import RandomizedSearchCV\n",
    "#\n",
    "#n_estimators = [int(x) for x in range(10,100,10)]\n",
    "#max_features = ['auto', 'sqrt']\n",
    "#min_samples_split = [2, 4, 8]\n",
    "#min_samples_leaf = [1, 2, 4]\n",
    "#\n",
    "#random_grid = {'n_estimators': n_estimators,\n",
    "#               'max_features': max_features,\n",
    "#               'min_samples_split': min_samples_split,\n",
    "#               'min_samples_leaf': min_samples_leaf\n",
    "#              }\n",
    "#\n",
    "#rfc_grid = RandomizedSearchCV(estimator = rfc, \n",
    "#                               param_distributions = random_grid, \n",
    "#                               n_iter = 100, \n",
    "#                               cv = 3, \n",
    "#                               verbose=10, \n",
    "#                               n_jobs = 1\n",
    "#                             )\n",
    "\n",
    "#Aborte este proceso ya que un random forest para más de 700 variables, además del proceso Randomized, es mucho tiempo de procesamiento.\n",
    "#Lo deje correr 1 hora y no acababa.."
   ]
  }
 ],
 "metadata": {
  "kernelspec": {
   "display_name": "Python 3",
   "language": "python",
   "name": "python3"
  },
  "language_info": {
   "codemirror_mode": {
    "name": "ipython",
    "version": 3
   },
   "file_extension": ".py",
   "mimetype": "text/x-python",
   "name": "python",
   "nbconvert_exporter": "python",
   "pygments_lexer": "ipython3",
   "version": "3.7.3"
  }
 },
 "nbformat": 4,
 "nbformat_minor": 2
}
