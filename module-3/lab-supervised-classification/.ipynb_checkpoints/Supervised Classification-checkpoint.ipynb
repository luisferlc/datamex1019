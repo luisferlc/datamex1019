{
 "cells": [
  {
   "cell_type": "markdown",
   "metadata": {},
   "source": [
    "# Supervised classification with Neural Network\n",
    "\n",
    "In the data.csv there are letters (uppercases and lowercases) and numbers, 28x28 pixels in a row format.\n",
    "\n",
    "* First, you need to know which labels are which, meaning you need to visualize some data to realize which number labels represents a letter, or a number."
   ]
  },
  {
   "cell_type": "code",
   "execution_count": 31,
   "metadata": {},
   "outputs": [],
   "source": [
    "import pandas as pd\n",
    "import numpy as np\n",
    "import matplotlib.pyplot as plt\n",
    "from sklearn.model_selection import train_test_split\n",
    "#import matplotlib.pyplot as plt\n",
    "#from sklearn.metrics import accuracy_score\n",
    "import warnings\n",
    "warnings.simplefilter('ignore')"
   ]
  },
  {
   "cell_type": "code",
   "execution_count": 2,
   "metadata": {},
   "outputs": [],
   "source": [
    "# los dígitos van del 0 al 9\n",
    "# las letras minúsculas van del 10 al 35 (ya que son 26 letras en el abeceario gringo) y\n",
    "# las mayúsculas van del 36 al 51"
   ]
  },
  {
   "cell_type": "code",
   "execution_count": 3,
   "metadata": {},
   "outputs": [
    {
     "data": {
      "text/html": [
       "<div>\n",
       "<style scoped>\n",
       "    .dataframe tbody tr th:only-of-type {\n",
       "        vertical-align: middle;\n",
       "    }\n",
       "\n",
       "    .dataframe tbody tr th {\n",
       "        vertical-align: top;\n",
       "    }\n",
       "\n",
       "    .dataframe thead th {\n",
       "        text-align: right;\n",
       "    }\n",
       "</style>\n",
       "<table border=\"1\" class=\"dataframe\">\n",
       "  <thead>\n",
       "    <tr style=\"text-align: right;\">\n",
       "      <th></th>\n",
       "      <th>e</th>\n",
       "      <th>1</th>\n",
       "      <th>2</th>\n",
       "      <th>3</th>\n",
       "      <th>4</th>\n",
       "      <th>5</th>\n",
       "      <th>6</th>\n",
       "      <th>7</th>\n",
       "      <th>8</th>\n",
       "      <th>9</th>\n",
       "      <th>...</th>\n",
       "      <th>775</th>\n",
       "      <th>776</th>\n",
       "      <th>777</th>\n",
       "      <th>778</th>\n",
       "      <th>779</th>\n",
       "      <th>780</th>\n",
       "      <th>781</th>\n",
       "      <th>782</th>\n",
       "      <th>783</th>\n",
       "      <th>784</th>\n",
       "    </tr>\n",
       "  </thead>\n",
       "  <tbody>\n",
       "    <tr>\n",
       "      <th>0</th>\n",
       "      <td>36.0</td>\n",
       "      <td>0.0</td>\n",
       "      <td>0.0</td>\n",
       "      <td>0.0</td>\n",
       "      <td>0.0</td>\n",
       "      <td>0.0</td>\n",
       "      <td>0.0</td>\n",
       "      <td>0.0</td>\n",
       "      <td>0.0</td>\n",
       "      <td>0.0</td>\n",
       "      <td>...</td>\n",
       "      <td>0.0</td>\n",
       "      <td>0.0</td>\n",
       "      <td>0.0</td>\n",
       "      <td>0.0</td>\n",
       "      <td>0.0</td>\n",
       "      <td>0.0</td>\n",
       "      <td>0.0</td>\n",
       "      <td>0.0</td>\n",
       "      <td>0.0</td>\n",
       "      <td>0.0</td>\n",
       "    </tr>\n",
       "    <tr>\n",
       "      <th>1</th>\n",
       "      <td>0.0</td>\n",
       "      <td>0.0</td>\n",
       "      <td>0.0</td>\n",
       "      <td>0.0</td>\n",
       "      <td>0.0</td>\n",
       "      <td>0.0</td>\n",
       "      <td>0.0</td>\n",
       "      <td>0.0</td>\n",
       "      <td>0.0</td>\n",
       "      <td>0.0</td>\n",
       "      <td>...</td>\n",
       "      <td>0.0</td>\n",
       "      <td>0.0</td>\n",
       "      <td>0.0</td>\n",
       "      <td>0.0</td>\n",
       "      <td>0.0</td>\n",
       "      <td>0.0</td>\n",
       "      <td>0.0</td>\n",
       "      <td>0.0</td>\n",
       "      <td>0.0</td>\n",
       "      <td>0.0</td>\n",
       "    </tr>\n",
       "    <tr>\n",
       "      <th>2</th>\n",
       "      <td>3.0</td>\n",
       "      <td>0.0</td>\n",
       "      <td>0.0</td>\n",
       "      <td>0.0</td>\n",
       "      <td>0.0</td>\n",
       "      <td>0.0</td>\n",
       "      <td>0.0</td>\n",
       "      <td>0.0</td>\n",
       "      <td>0.0</td>\n",
       "      <td>0.0</td>\n",
       "      <td>...</td>\n",
       "      <td>0.0</td>\n",
       "      <td>0.0</td>\n",
       "      <td>0.0</td>\n",
       "      <td>0.0</td>\n",
       "      <td>0.0</td>\n",
       "      <td>0.0</td>\n",
       "      <td>0.0</td>\n",
       "      <td>0.0</td>\n",
       "      <td>0.0</td>\n",
       "      <td>0.0</td>\n",
       "    </tr>\n",
       "    <tr>\n",
       "      <th>3</th>\n",
       "      <td>33.0</td>\n",
       "      <td>0.0</td>\n",
       "      <td>0.0</td>\n",
       "      <td>0.0</td>\n",
       "      <td>0.0</td>\n",
       "      <td>0.0</td>\n",
       "      <td>0.0</td>\n",
       "      <td>0.0</td>\n",
       "      <td>0.0</td>\n",
       "      <td>0.0</td>\n",
       "      <td>...</td>\n",
       "      <td>0.0</td>\n",
       "      <td>0.0</td>\n",
       "      <td>0.0</td>\n",
       "      <td>0.0</td>\n",
       "      <td>0.0</td>\n",
       "      <td>0.0</td>\n",
       "      <td>0.0</td>\n",
       "      <td>0.0</td>\n",
       "      <td>0.0</td>\n",
       "      <td>0.0</td>\n",
       "    </tr>\n",
       "    <tr>\n",
       "      <th>4</th>\n",
       "      <td>30.0</td>\n",
       "      <td>0.0</td>\n",
       "      <td>0.0</td>\n",
       "      <td>0.0</td>\n",
       "      <td>0.0</td>\n",
       "      <td>0.0</td>\n",
       "      <td>0.0</td>\n",
       "      <td>0.0</td>\n",
       "      <td>0.0</td>\n",
       "      <td>0.0</td>\n",
       "      <td>...</td>\n",
       "      <td>0.0</td>\n",
       "      <td>0.0</td>\n",
       "      <td>0.0</td>\n",
       "      <td>0.0</td>\n",
       "      <td>0.0</td>\n",
       "      <td>0.0</td>\n",
       "      <td>0.0</td>\n",
       "      <td>0.0</td>\n",
       "      <td>0.0</td>\n",
       "      <td>0.0</td>\n",
       "    </tr>\n",
       "  </tbody>\n",
       "</table>\n",
       "<p>5 rows × 785 columns</p>\n",
       "</div>"
      ],
      "text/plain": [
       "      e    1    2    3    4    5    6    7    8    9  ...  775  776  777  778  \\\n",
       "0  36.0  0.0  0.0  0.0  0.0  0.0  0.0  0.0  0.0  0.0  ...  0.0  0.0  0.0  0.0   \n",
       "1   0.0  0.0  0.0  0.0  0.0  0.0  0.0  0.0  0.0  0.0  ...  0.0  0.0  0.0  0.0   \n",
       "2   3.0  0.0  0.0  0.0  0.0  0.0  0.0  0.0  0.0  0.0  ...  0.0  0.0  0.0  0.0   \n",
       "3  33.0  0.0  0.0  0.0  0.0  0.0  0.0  0.0  0.0  0.0  ...  0.0  0.0  0.0  0.0   \n",
       "4  30.0  0.0  0.0  0.0  0.0  0.0  0.0  0.0  0.0  0.0  ...  0.0  0.0  0.0  0.0   \n",
       "\n",
       "   779  780  781  782  783  784  \n",
       "0  0.0  0.0  0.0  0.0  0.0  0.0  \n",
       "1  0.0  0.0  0.0  0.0  0.0  0.0  \n",
       "2  0.0  0.0  0.0  0.0  0.0  0.0  \n",
       "3  0.0  0.0  0.0  0.0  0.0  0.0  \n",
       "4  0.0  0.0  0.0  0.0  0.0  0.0  \n",
       "\n",
       "[5 rows x 785 columns]"
      ]
     },
     "execution_count": 3,
     "metadata": {},
     "output_type": "execute_result"
    }
   ],
   "source": [
    "df = pd.read_csv(\"data_all.csv\")\n",
    "df.head()"
   ]
  },
  {
   "cell_type": "code",
   "execution_count": 19,
   "metadata": {},
   "outputs": [],
   "source": [
    "import keras\n",
    "from keras.models import Sequential\n",
    "modelo=Sequential()\n",
    "from keras.layers import Dense, Flatten\n",
    "from keras.utils import to_categorical\n",
    "from keras.layers import Dropout, Conv2D, MaxPooling2D\n",
    "from keras.layers.normalization import BatchNormalization"
   ]
  },
  {
   "cell_type": "code",
   "execution_count": 5,
   "metadata": {},
   "outputs": [
    {
     "data": {
      "text/plain": [
       "((116322, 1), (116322, 784))"
      ]
     },
     "execution_count": 5,
     "metadata": {},
     "output_type": "execute_result"
    }
   ],
   "source": [
    "#Seleccionar tus datos para entrenar y tu columna a predecir:\n",
    "y=df.e\n",
    "X=df.iloc[:,1:]\n",
    "\n",
    "y.shape, X.shape\n",
    "#Pasar a array los datos para poder hacer un reshape de \"y\"\n",
    "y=y.to_numpy()\n",
    "X=X.to_numpy()\n",
    "y=y.reshape(-1,1)\n",
    "\n",
    "y.shape, X.shape"
   ]
  },
  {
   "cell_type": "code",
   "execution_count": 6,
   "metadata": {},
   "outputs": [],
   "source": [
    "## Modificar los valores a 0,1 o 2 de la columna y, para decir si es un número, lower o upper:\n",
    "## 0:número, 1:upper, 2:lower\n",
    "\n",
    "for e in range(len(y)):\n",
    "    if y[e] < 10:\n",
    "        y[e] = 0\n",
    "    elif 10 <= y[e] <= 35:\n",
    "        y[e] = 1\n",
    "    else:\n",
    "        y[e] = 2\n",
    "\n",
    "y=to_categorical(y)"
   ]
  },
  {
   "cell_type": "code",
   "execution_count": 7,
   "metadata": {},
   "outputs": [],
   "source": [
    "X_train, X_test, y_train, y_test=train_test_split(X, y, test_size=0.2)"
   ]
  },
  {
   "cell_type": "code",
   "execution_count": 9,
   "metadata": {},
   "outputs": [],
   "source": [
    "X_train=X_train.reshape(X_train.shape[0], 28, 28, 1)\n",
    "X_test=X_test.reshape(X_test.shape[0], 28, 28, 1)"
   ]
  },
  {
   "cell_type": "code",
   "execution_count": 10,
   "metadata": {},
   "outputs": [],
   "source": [
    "X_train=X_train.astype('float')/255\n",
    "X_test=X_test.astype('float')/255"
   ]
  },
  {
   "cell_type": "code",
   "execution_count": 24,
   "metadata": {},
   "outputs": [],
   "source": [
    "batch=256\n",
    "n_clases=3\n",
    "epocas=50\n",
    "input_shape=(28, 28, 1)"
   ]
  },
  {
   "cell_type": "code",
   "execution_count": 25,
   "metadata": {},
   "outputs": [],
   "source": [
    "modelo=Sequential()\n",
    "\n",
    "modelo.add(Conv2D(32, (3,3), activation='relu', kernel_initializer='he_normal', input_shape=input_shape))\n",
    "modelo.add(MaxPooling2D((2,2)))\n",
    "modelo.add(Dropout(0.25))\n",
    "\n",
    "modelo.add(Conv2D(64, (3,3), activation='relu'))\n",
    "modelo.add(MaxPooling2D((2,2)))\n",
    "modelo.add(Dropout(0.25))\n",
    "\n",
    "modelo.add(Conv2D(128, (3,3), activation='relu'))\n",
    "modelo.add(Dropout(0.4))\n",
    "modelo.add(Flatten())\n",
    "\n",
    "modelo.add(Dense(128, activation='relu'))\n",
    "modelo.add(Dropout(0.3))\n",
    "\n",
    "modelo.add(Dense(n_clases, activation='softmax'))\n",
    "\n",
    "modelo.compile(loss=keras.losses.categorical_crossentropy, optimizer=keras.optimizers.Adam(), metrics=['accuracy'])"
   ]
  },
  {
   "cell_type": "code",
   "execution_count": 26,
   "metadata": {},
   "outputs": [
    {
     "name": "stdout",
     "output_type": "stream",
     "text": [
      "Model: \"sequential_3\"\n",
      "_________________________________________________________________\n",
      "Layer (type)                 Output Shape              Param #   \n",
      "=================================================================\n",
      "conv2d_4 (Conv2D)            (None, 26, 26, 32)        320       \n",
      "_________________________________________________________________\n",
      "max_pooling2d_3 (MaxPooling2 (None, 13, 13, 32)        0         \n",
      "_________________________________________________________________\n",
      "dropout_5 (Dropout)          (None, 13, 13, 32)        0         \n",
      "_________________________________________________________________\n",
      "conv2d_5 (Conv2D)            (None, 11, 11, 64)        18496     \n",
      "_________________________________________________________________\n",
      "max_pooling2d_4 (MaxPooling2 (None, 5, 5, 64)          0         \n",
      "_________________________________________________________________\n",
      "dropout_6 (Dropout)          (None, 5, 5, 64)          0         \n",
      "_________________________________________________________________\n",
      "conv2d_6 (Conv2D)            (None, 3, 3, 128)         73856     \n",
      "_________________________________________________________________\n",
      "dropout_7 (Dropout)          (None, 3, 3, 128)         0         \n",
      "_________________________________________________________________\n",
      "flatten_2 (Flatten)          (None, 1152)              0         \n",
      "_________________________________________________________________\n",
      "dense_3 (Dense)              (None, 128)               147584    \n",
      "_________________________________________________________________\n",
      "dropout_8 (Dropout)          (None, 128)               0         \n",
      "_________________________________________________________________\n",
      "dense_4 (Dense)              (None, 3)                 387       \n",
      "=================================================================\n",
      "Total params: 240,643\n",
      "Trainable params: 240,643\n",
      "Non-trainable params: 0\n",
      "_________________________________________________________________\n"
     ]
    }
   ],
   "source": [
    "modelo.summary()"
   ]
  },
  {
   "cell_type": "code",
   "execution_count": 28,
   "metadata": {},
   "outputs": [
    {
     "name": "stdout",
     "output_type": "stream",
     "text": [
      "Perdida (testeo) 0.391559837214439\n",
      "Accuracy (testeo) 0.8397592902183533\n"
     ]
    }
   ],
   "source": [
    "score=modelo.evaluate(X_test, y_test, verbose=0)\n",
    "\n",
    "print ('Perdida (testeo)', score[0])\n",
    "print ('Accuracy (testeo)', score[1])"
   ]
  },
  {
   "cell_type": "code",
   "execution_count": 29,
   "metadata": {},
   "outputs": [
    {
     "name": "stdout",
     "output_type": "stream",
     "text": [
      "Epoch 1/50\n",
      "93057/93057 [==============================] - 47s 500us/step - loss: 0.4329 - accuracy: 0.8252\n",
      "Epoch 2/50\n",
      "93057/93057 [==============================] - 49s 531us/step - loss: 0.4161 - accuracy: 0.8306\n",
      "Epoch 3/50\n",
      "93057/93057 [==============================] - 49s 523us/step - loss: 0.4043 - accuracy: 0.8361\n",
      "Epoch 4/50\n",
      "93057/93057 [==============================] - 48s 520us/step - loss: 0.3947 - accuracy: 0.8401\n",
      "Epoch 5/50\n",
      "93057/93057 [==============================] - 49s 523us/step - loss: 0.3868 - accuracy: 0.8432\n",
      "Epoch 6/50\n",
      "93057/93057 [==============================] - 46s 498us/step - loss: 0.3801 - accuracy: 0.8453\n",
      "Epoch 7/50\n",
      "93057/93057 [==============================] - 46s 496us/step - loss: 0.3740 - accuracy: 0.8473\n",
      "Epoch 8/50\n",
      "93057/93057 [==============================] - 49s 522us/step - loss: 0.3682 - accuracy: 0.8499\n",
      "Epoch 9/50\n",
      "93057/93057 [==============================] - 51s 549us/step - loss: 0.3630 - accuracy: 0.8512\n",
      "Epoch 10/50\n",
      "93057/93057 [==============================] - 45s 488us/step - loss: 0.3590 - accuracy: 0.8537\n",
      "Epoch 11/50\n",
      "93057/93057 [==============================] - 46s 497us/step - loss: 0.3573 - accuracy: 0.8539\n",
      "Epoch 12/50\n",
      "93057/93057 [==============================] - 48s 518us/step - loss: 0.3549 - accuracy: 0.8546\n",
      "Epoch 13/50\n",
      "93057/93057 [==============================] - 46s 491us/step - loss: 0.3509 - accuracy: 0.8567\n",
      "Epoch 14/50\n",
      "93057/93057 [==============================] - 43s 465us/step - loss: 0.3483 - accuracy: 0.8562\n",
      "Epoch 15/50\n",
      "93057/93057 [==============================] - 44s 468us/step - loss: 0.3455 - accuracy: 0.8582\n",
      "Epoch 16/50\n",
      "93057/93057 [==============================] - 43s 464us/step - loss: 0.3425 - accuracy: 0.8603\n",
      "Epoch 17/50\n",
      "93057/93057 [==============================] - 42s 456us/step - loss: 0.3415 - accuracy: 0.8592\n",
      "Epoch 18/50\n",
      "93057/93057 [==============================] - 44s 471us/step - loss: 0.3383 - accuracy: 0.8604\n",
      "Epoch 19/50\n",
      "93057/93057 [==============================] - 47s 503us/step - loss: 0.3371 - accuracy: 0.8617\n",
      "Epoch 20/50\n",
      "93057/93057 [==============================] - 46s 493us/step - loss: 0.3358 - accuracy: 0.8621\n",
      "Epoch 21/50\n",
      "93057/93057 [==============================] - 46s 497us/step - loss: 0.3355 - accuracy: 0.8627\n",
      "Epoch 22/50\n",
      "93057/93057 [==============================] - 45s 484us/step - loss: 0.3328 - accuracy: 0.8620\n",
      "Epoch 23/50\n",
      "93057/93057 [==============================] - 51s 550us/step - loss: 0.3319 - accuracy: 0.8627\n",
      "Epoch 24/50\n",
      "93057/93057 [==============================] - 45s 487us/step - loss: 0.3300 - accuracy: 0.8632\n",
      "Epoch 25/50\n",
      "93057/93057 [==============================] - 46s 491us/step - loss: 0.3269 - accuracy: 0.8646\n",
      "Epoch 26/50\n",
      "93057/93057 [==============================] - 48s 518us/step - loss: 0.3271 - accuracy: 0.8658\n",
      "Epoch 27/50\n",
      "93057/93057 [==============================] - 46s 499us/step - loss: 0.3254 - accuracy: 0.8662\n",
      "Epoch 28/50\n",
      "93057/93057 [==============================] - 47s 504us/step - loss: 0.3223 - accuracy: 0.8670\n",
      "Epoch 29/50\n",
      "93057/93057 [==============================] - 47s 500us/step - loss: 0.3239 - accuracy: 0.8665\n",
      "Epoch 30/50\n",
      "93057/93057 [==============================] - 49s 522us/step - loss: 0.3233 - accuracy: 0.8660\n",
      "Epoch 31/50\n",
      "93057/93057 [==============================] - 56s 602us/step - loss: 0.3207 - accuracy: 0.8669\n",
      "Epoch 32/50\n",
      "93057/93057 [==============================] - 47s 503us/step - loss: 0.3198 - accuracy: 0.8665\n",
      "Epoch 33/50\n",
      "93057/93057 [==============================] - 49s 530us/step - loss: 0.3184 - accuracy: 0.8679\n",
      "Epoch 34/50\n",
      "93057/93057 [==============================] - 49s 529us/step - loss: 0.3194 - accuracy: 0.8681\n",
      "Epoch 35/50\n",
      "93057/93057 [==============================] - 45s 487us/step - loss: 0.3179 - accuracy: 0.8686\n",
      "Epoch 36/50\n",
      "93057/93057 [==============================] - 47s 501us/step - loss: 0.3148 - accuracy: 0.8699\n",
      "Epoch 37/50\n",
      "93057/93057 [==============================] - 47s 507us/step - loss: 0.3147 - accuracy: 0.8693\n",
      "Epoch 38/50\n",
      "93057/93057 [==============================] - 50s 536us/step - loss: 0.3145 - accuracy: 0.8695\n",
      "Epoch 39/50\n",
      "93057/93057 [==============================] - 48s 513us/step - loss: 0.3129 - accuracy: 0.8709\n",
      "Epoch 40/50\n",
      "93057/93057 [==============================] - 46s 494us/step - loss: 0.3141 - accuracy: 0.8697\n",
      "Epoch 41/50\n",
      "93057/93057 [==============================] - 44s 472us/step - loss: 0.3109 - accuracy: 0.8707\n",
      "Epoch 42/50\n",
      "93057/93057 [==============================] - 45s 482us/step - loss: 0.3121 - accuracy: 0.8699\n",
      "Epoch 43/50\n",
      "93057/93057 [==============================] - 50s 536us/step - loss: 0.3108 - accuracy: 0.8707\n",
      "Epoch 44/50\n",
      "93057/93057 [==============================] - 50s 535us/step - loss: 0.3102 - accuracy: 0.8710\n",
      "Epoch 45/50\n",
      "93057/93057 [==============================] - 48s 513us/step - loss: 0.3104 - accuracy: 0.8706\n",
      "Epoch 46/50\n",
      "93057/93057 [==============================] - 47s 503us/step - loss: 0.3093 - accuracy: 0.8711\n",
      "Epoch 47/50\n",
      "93057/93057 [==============================] - 47s 504us/step - loss: 0.3088 - accuracy: 0.8711\n",
      "Epoch 48/50\n",
      "93057/93057 [==============================] - 47s 508us/step - loss: 0.3070 - accuracy: 0.8735\n",
      "Epoch 49/50\n",
      "93057/93057 [==============================] - 49s 522us/step - loss: 0.3070 - accuracy: 0.8728\n",
      "Epoch 50/50\n",
      "93057/93057 [==============================] - 47s 502us/step - loss: 0.3084 - accuracy: 0.8733\n"
     ]
    }
   ],
   "source": [
    "historico=modelo.fit(X_train, y_train, batch_size=batch, epochs=epocas, verbose=1)"
   ]
  },
  {
   "cell_type": "code",
   "execution_count": 34,
   "metadata": {},
   "outputs": [
    {
     "data": {
      "image/png": "[encoded data removed]",
      "text/plain": [
       "<Figure size 432x288 with 1 Axes>"
      ]
     },
     "metadata": {
      "needs_background": "light"
     },
     "output_type": "display_data"
    }
   ],
   "source": [
    "acc=historico.history['accuracy']\n",
    "loss=historico.history['loss']\n",
    "epocas=range(len(acc))\n",
    "\n",
    "plt.plot(epocas, acc, 'bo', label='Train Accuracy')\n",
    "plt.plot(epocas, loss, 'ro', label='Train Loss')\n",
    "plt.legend();"
   ]
  }
 ],
 "metadata": {
  "kernelspec": {
   "display_name": "Python 3",
   "language": "python",
   "name": "python3"
  },
  "language_info": {
   "codemirror_mode": {
    "name": "ipython",
    "version": 3
   },
   "file_extension": ".py",
   "mimetype": "text/x-python",
   "name": "python",
   "nbconvert_exporter": "python",
   "pygments_lexer": "ipython3",
   "version": "3.7.3"
  }
 },
 "nbformat": 4,
 "nbformat_minor": 2
}
