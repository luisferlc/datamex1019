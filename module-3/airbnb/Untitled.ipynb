{
 "cells": [
  {
   "cell_type": "markdown",
   "metadata": {},
   "source": [
    "# Airbnb: predicción de precios de hosts"
   ]
  },
  {
   "cell_type": "code",
   "execution_count": 31,
   "metadata": {},
   "outputs": [],
   "source": [
    "import warnings\n",
    "warnings.simplefilter('ignore')\n",
    "import pandas as pd\n",
    "import numpy as np\n",
    "import seaborn as sns\n",
    "import matplotlib.pyplot as plt"
   ]
  },
  {
   "cell_type": "code",
   "execution_count": 3,
   "metadata": {},
   "outputs": [],
   "source": [
    "df= pd.read_csv(\"airbnb_data.csv\")"
   ]
  },
  {
   "cell_type": "code",
   "execution_count": 4,
   "metadata": {},
   "outputs": [
    {
     "data": {
      "text/html": [
       "<div>\n",
       "<style scoped>\n",
       "    .dataframe tbody tr th:only-of-type {\n",
       "        vertical-align: middle;\n",
       "    }\n",
       "\n",
       "    .dataframe tbody tr th {\n",
       "        vertical-align: top;\n",
       "    }\n",
       "\n",
       "    .dataframe thead th {\n",
       "        text-align: right;\n",
       "    }\n",
       "</style>\n",
       "<table border=\"1\" class=\"dataframe\">\n",
       "  <thead>\n",
       "    <tr style=\"text-align: right;\">\n",
       "      <th></th>\n",
       "      <th>property_type</th>\n",
       "      <th>room_type</th>\n",
       "      <th>amenities</th>\n",
       "      <th>accommodates</th>\n",
       "      <th>bathrooms</th>\n",
       "      <th>bed_type</th>\n",
       "      <th>cancellation_policy</th>\n",
       "      <th>cleaning_fee</th>\n",
       "      <th>city</th>\n",
       "      <th>description</th>\n",
       "      <th>...</th>\n",
       "      <th>longitude</th>\n",
       "      <th>name</th>\n",
       "      <th>neighbourhood</th>\n",
       "      <th>number_of_reviews</th>\n",
       "      <th>review_scores_rating</th>\n",
       "      <th>thumbnail_url</th>\n",
       "      <th>zipcode</th>\n",
       "      <th>bedrooms</th>\n",
       "      <th>beds</th>\n",
       "      <th>price</th>\n",
       "    </tr>\n",
       "  </thead>\n",
       "  <tbody>\n",
       "    <tr>\n",
       "      <th>0</th>\n",
       "      <td>Apartment</td>\n",
       "      <td>Entire home/apt</td>\n",
       "      <td>{\"Wireless Internet\",\"Air conditioning\",Kitche...</td>\n",
       "      <td>7</td>\n",
       "      <td>1.0</td>\n",
       "      <td>Real Bed</td>\n",
       "      <td>strict</td>\n",
       "      <td>True</td>\n",
       "      <td>NYC</td>\n",
       "      <td>Enjoy travelling during your stay in Manhattan...</td>\n",
       "      <td>...</td>\n",
       "      <td>-73.989040</td>\n",
       "      <td>Superb 3BR Apt Located Near Times Square</td>\n",
       "      <td>Hell's Kitchen</td>\n",
       "      <td>6</td>\n",
       "      <td>93.0</td>\n",
       "      <td>https://a0.muscache.com/im/pictures/348a55fe-4...</td>\n",
       "      <td>10019</td>\n",
       "      <td>3.0</td>\n",
       "      <td>3.0</td>\n",
       "      <td>169.0</td>\n",
       "    </tr>\n",
       "    <tr>\n",
       "      <th>1</th>\n",
       "      <td>Apartment</td>\n",
       "      <td>Private room</td>\n",
       "      <td>{TV,\"Wireless Internet\",Heating,\"Smoke detecto...</td>\n",
       "      <td>2</td>\n",
       "      <td>1.0</td>\n",
       "      <td>Real Bed</td>\n",
       "      <td>strict</td>\n",
       "      <td>True</td>\n",
       "      <td>SF</td>\n",
       "      <td>Beautiful private room overlooking scenic view...</td>\n",
       "      <td>...</td>\n",
       "      <td>-122.429526</td>\n",
       "      <td>Comfort Suite San Francisco</td>\n",
       "      <td>Noe Valley</td>\n",
       "      <td>3</td>\n",
       "      <td>100.0</td>\n",
       "      <td>https://a0.muscache.com/im/pictures/82509143-4...</td>\n",
       "      <td>94131</td>\n",
       "      <td>1.0</td>\n",
       "      <td>1.0</td>\n",
       "      <td>85.0</td>\n",
       "    </tr>\n",
       "    <tr>\n",
       "      <th>2</th>\n",
       "      <td>Condominium</td>\n",
       "      <td>Entire home/apt</td>\n",
       "      <td>{TV,\"Cable TV\",\"Wireless Internet\",\"Wheelchair...</td>\n",
       "      <td>2</td>\n",
       "      <td>1.0</td>\n",
       "      <td>Real Bed</td>\n",
       "      <td>moderate</td>\n",
       "      <td>True</td>\n",
       "      <td>LA</td>\n",
       "      <td>Arguably the best location (and safest) in dow...</td>\n",
       "      <td>...</td>\n",
       "      <td>-118.260439</td>\n",
       "      <td>Near LA Live, Staple's. Starbucks inside. OWN ...</td>\n",
       "      <td>Downtown</td>\n",
       "      <td>9</td>\n",
       "      <td>93.0</td>\n",
       "      <td>https://a0.muscache.com/im/pictures/61bd05d5-c...</td>\n",
       "      <td>90015</td>\n",
       "      <td>1.0</td>\n",
       "      <td>1.0</td>\n",
       "      <td>120.0</td>\n",
       "    </tr>\n",
       "    <tr>\n",
       "      <th>3</th>\n",
       "      <td>House</td>\n",
       "      <td>Private room</td>\n",
       "      <td>{TV,\"Cable TV\",\"Wireless Internet\",\"Pets live ...</td>\n",
       "      <td>2</td>\n",
       "      <td>1.0</td>\n",
       "      <td>Real Bed</td>\n",
       "      <td>moderate</td>\n",
       "      <td>True</td>\n",
       "      <td>SF</td>\n",
       "      <td>Garden Studio with private entrance from the s...</td>\n",
       "      <td>...</td>\n",
       "      <td>-122.501095</td>\n",
       "      <td>Cozy Garden Studio - Private Entry</td>\n",
       "      <td>Richmond District</td>\n",
       "      <td>159</td>\n",
       "      <td>99.0</td>\n",
       "      <td>https://a0.muscache.com/im/pictures/0ed6c128-7...</td>\n",
       "      <td>94121</td>\n",
       "      <td>1.0</td>\n",
       "      <td>1.0</td>\n",
       "      <td>120.0</td>\n",
       "    </tr>\n",
       "    <tr>\n",
       "      <th>4</th>\n",
       "      <td>Apartment</td>\n",
       "      <td>Private room</td>\n",
       "      <td>{Internet,\"Wireless Internet\",\"Air conditionin...</td>\n",
       "      <td>2</td>\n",
       "      <td>1.0</td>\n",
       "      <td>Real Bed</td>\n",
       "      <td>strict</td>\n",
       "      <td>True</td>\n",
       "      <td>NYC</td>\n",
       "      <td>This is a bright bedroom in an historic buildi...</td>\n",
       "      <td>...</td>\n",
       "      <td>-73.983880</td>\n",
       "      <td>Large East Village Bedroom To Let!</td>\n",
       "      <td>Alphabet City</td>\n",
       "      <td>82</td>\n",
       "      <td>93.0</td>\n",
       "      <td>https://a0.muscache.com/im/pictures/21726900/1...</td>\n",
       "      <td>10009.0</td>\n",
       "      <td>1.0</td>\n",
       "      <td>1.0</td>\n",
       "      <td>100.0</td>\n",
       "    </tr>\n",
       "  </tbody>\n",
       "</table>\n",
       "<p>5 rows × 28 columns</p>\n",
       "</div>"
      ],
      "text/plain": [
       "  property_type        room_type  \\\n",
       "0     Apartment  Entire home/apt   \n",
       "1     Apartment     Private room   \n",
       "2   Condominium  Entire home/apt   \n",
       "3         House     Private room   \n",
       "4     Apartment     Private room   \n",
       "\n",
       "                                           amenities  accommodates  bathrooms  \\\n",
       "0  {\"Wireless Internet\",\"Air conditioning\",Kitche...             7        1.0   \n",
       "1  {TV,\"Wireless Internet\",Heating,\"Smoke detecto...             2        1.0   \n",
       "2  {TV,\"Cable TV\",\"Wireless Internet\",\"Wheelchair...             2        1.0   \n",
       "3  {TV,\"Cable TV\",\"Wireless Internet\",\"Pets live ...             2        1.0   \n",
       "4  {Internet,\"Wireless Internet\",\"Air conditionin...             2        1.0   \n",
       "\n",
       "   bed_type cancellation_policy  cleaning_fee city  \\\n",
       "0  Real Bed              strict          True  NYC   \n",
       "1  Real Bed              strict          True   SF   \n",
       "2  Real Bed            moderate          True   LA   \n",
       "3  Real Bed            moderate          True   SF   \n",
       "4  Real Bed              strict          True  NYC   \n",
       "\n",
       "                                         description  ...   longitude  \\\n",
       "0  Enjoy travelling during your stay in Manhattan...  ...  -73.989040   \n",
       "1  Beautiful private room overlooking scenic view...  ... -122.429526   \n",
       "2  Arguably the best location (and safest) in dow...  ... -118.260439   \n",
       "3  Garden Studio with private entrance from the s...  ... -122.501095   \n",
       "4  This is a bright bedroom in an historic buildi...  ...  -73.983880   \n",
       "\n",
       "                                                name      neighbourhood  \\\n",
       "0           Superb 3BR Apt Located Near Times Square     Hell's Kitchen   \n",
       "1                        Comfort Suite San Francisco         Noe Valley   \n",
       "2  Near LA Live, Staple's. Starbucks inside. OWN ...           Downtown   \n",
       "3                 Cozy Garden Studio - Private Entry  Richmond District   \n",
       "4                 Large East Village Bedroom To Let!      Alphabet City   \n",
       "\n",
       "  number_of_reviews review_scores_rating  \\\n",
       "0                 6                 93.0   \n",
       "1                 3                100.0   \n",
       "2                 9                 93.0   \n",
       "3               159                 99.0   \n",
       "4                82                 93.0   \n",
       "\n",
       "                                       thumbnail_url  zipcode  bedrooms  beds  \\\n",
       "0  https://a0.muscache.com/im/pictures/348a55fe-4...    10019       3.0   3.0   \n",
       "1  https://a0.muscache.com/im/pictures/82509143-4...    94131       1.0   1.0   \n",
       "2  https://a0.muscache.com/im/pictures/61bd05d5-c...    90015       1.0   1.0   \n",
       "3  https://a0.muscache.com/im/pictures/0ed6c128-7...    94121       1.0   1.0   \n",
       "4  https://a0.muscache.com/im/pictures/21726900/1...  10009.0       1.0   1.0   \n",
       "\n",
       "   price  \n",
       "0  169.0  \n",
       "1   85.0  \n",
       "2  120.0  \n",
       "3  120.0  \n",
       "4  100.0  \n",
       "\n",
       "[5 rows x 28 columns]"
      ]
     },
     "execution_count": 4,
     "metadata": {},
     "output_type": "execute_result"
    }
   ],
   "source": [
    "df.head()"
   ]
  },
  {
   "cell_type": "code",
   "execution_count": 14,
   "metadata": {},
   "outputs": [
    {
     "data": {
      "text/plain": [
       "(28877, 28)"
      ]
     },
     "execution_count": 14,
     "metadata": {},
     "output_type": "execute_result"
    }
   ],
   "source": [
    "df.shape"
   ]
  },
  {
   "cell_type": "code",
   "execution_count": 20,
   "metadata": {},
   "outputs": [
    {
     "data": {
      "text/plain": [
       "Index(['property_type', 'room_type', 'amenities', 'accommodates', 'bathrooms',\n",
       "       'bed_type', 'cancellation_policy', 'cleaning_fee', 'city',\n",
       "       'description', 'first_review', 'host_has_profile_pic',\n",
       "       'host_identity_verified', 'host_response_rate', 'host_since',\n",
       "       'instant_bookable', 'last_review', 'latitude', 'longitude', 'name',\n",
       "       'neighbourhood', 'number_of_reviews', 'review_scores_rating',\n",
       "       'thumbnail_url', 'zipcode', 'bedrooms', 'beds', 'price'],\n",
       "      dtype='object')"
      ]
     },
     "execution_count": 20,
     "metadata": {},
     "output_type": "execute_result"
    }
   ],
   "source": [
    "df.columns"
   ]
  },
  {
   "cell_type": "code",
   "execution_count": 24,
   "metadata": {},
   "outputs": [
    {
     "data": {
      "text/html": [
       "<div>\n",
       "<style scoped>\n",
       "    .dataframe tbody tr th:only-of-type {\n",
       "        vertical-align: middle;\n",
       "    }\n",
       "\n",
       "    .dataframe tbody tr th {\n",
       "        vertical-align: top;\n",
       "    }\n",
       "\n",
       "    .dataframe thead th {\n",
       "        text-align: right;\n",
       "    }\n",
       "</style>\n",
       "<table border=\"1\" class=\"dataframe\">\n",
       "  <thead>\n",
       "    <tr style=\"text-align: right;\">\n",
       "      <th></th>\n",
       "      <th>first_review</th>\n",
       "      <th>host_has_profile_pic</th>\n",
       "      <th>host_identity_verified</th>\n",
       "      <th>host_response_rate</th>\n",
       "      <th>host_since</th>\n",
       "      <th>instant_bookable</th>\n",
       "      <th>last_review</th>\n",
       "    </tr>\n",
       "  </thead>\n",
       "  <tbody>\n",
       "    <tr>\n",
       "      <th>0</th>\n",
       "      <td>2017-08-05</td>\n",
       "      <td>t</td>\n",
       "      <td>f</td>\n",
       "      <td>100%</td>\n",
       "      <td>2017-06-19</td>\n",
       "      <td>t</td>\n",
       "      <td>2017-09-23</td>\n",
       "    </tr>\n",
       "    <tr>\n",
       "      <th>1</th>\n",
       "      <td>2017-08-27</td>\n",
       "      <td>t</td>\n",
       "      <td>t</td>\n",
       "      <td>100%</td>\n",
       "      <td>2017-06-07</td>\n",
       "      <td>t</td>\n",
       "      <td>2017-09-05</td>\n",
       "    </tr>\n",
       "    <tr>\n",
       "      <th>2</th>\n",
       "      <td>2016-12-16</td>\n",
       "      <td>t</td>\n",
       "      <td>t</td>\n",
       "      <td>100%</td>\n",
       "      <td>2013-05-18</td>\n",
       "      <td>f</td>\n",
       "      <td>2017-04-12</td>\n",
       "    </tr>\n",
       "    <tr>\n",
       "      <th>3</th>\n",
       "      <td>2016-02-13</td>\n",
       "      <td>t</td>\n",
       "      <td>f</td>\n",
       "      <td>100%</td>\n",
       "      <td>2015-06-04</td>\n",
       "      <td>f</td>\n",
       "      <td>2017-09-24</td>\n",
       "    </tr>\n",
       "    <tr>\n",
       "      <th>4</th>\n",
       "      <td>2013-04-28</td>\n",
       "      <td>t</td>\n",
       "      <td>t</td>\n",
       "      <td>100%</td>\n",
       "      <td>2013-03-27</td>\n",
       "      <td>f</td>\n",
       "      <td>2016-11-15</td>\n",
       "    </tr>\n",
       "  </tbody>\n",
       "</table>\n",
       "</div>"
      ],
      "text/plain": [
       "  first_review host_has_profile_pic host_identity_verified host_response_rate  \\\n",
       "0   2017-08-05                    t                      f               100%   \n",
       "1   2017-08-27                    t                      t               100%   \n",
       "2   2016-12-16                    t                      t               100%   \n",
       "3   2016-02-13                    t                      f               100%   \n",
       "4   2013-04-28                    t                      t               100%   \n",
       "\n",
       "   host_since instant_bookable last_review  \n",
       "0  2017-06-19                t  2017-09-23  \n",
       "1  2017-06-07                t  2017-09-05  \n",
       "2  2013-05-18                f  2017-04-12  \n",
       "3  2015-06-04                f  2017-09-24  \n",
       "4  2013-03-27                f  2016-11-15  "
      ]
     },
     "execution_count": 24,
     "metadata": {},
     "output_type": "execute_result"
    }
   ],
   "source": [
    "df[['first_review', 'host_has_profile_pic','host_identity_verified', 'host_response_rate', 'host_since','instant_bookable', 'last_review']].head()"
   ]
  },
  {
   "cell_type": "markdown",
   "metadata": {},
   "source": [
    "# Limpieza de los datos"
   ]
  },
  {
   "cell_type": "markdown",
   "metadata": {},
   "source": [
    "### Tareas por hacer:\n",
    "1. Ver colinealidades entre variables contínuas\n",
    "2. Limpieza de categóricas: property_type, room_type, bed_type, cancellation_policy, cleaning_fee, city,'first_review,host_has_profile_pic,host_identity_verified, host_response_rate, host_since,instant_bookable, last_review.\n",
    "3. Separar los valores de \"amenities\" en distintas columnas.\n",
    "4. Ver la manera de pasar a nominal la columna neighbourhood o dropearla.\n",
    "5. Dropear columna description, longitude?,name,thumbnail_url.\n",
    "6. De categóricas a nominal: One-Hot-Encoding, Label-encoding?\n",
    "6. NaN's"
   ]
  },
  {
   "cell_type": "markdown",
   "metadata": {},
   "source": [
    "## 1. Colinealidades"
   ]
  },
  {
   "cell_type": "code",
   "execution_count": 11,
   "metadata": {},
   "outputs": [
    {
     "data": {
      "image/png": "[encoded data removed]",
      "text/plain": [
       "<Figure size 864x720 with 2 Axes>"
      ]
     },
     "metadata": {
      "needs_background": "light"
     },
     "output_type": "display_data"
    }
   ],
   "source": [
    "plt.figure(figsize=(12,10))\n",
    "sns.heatmap(df.corr(), cmap='viridis');"
   ]
  },
  {
   "cell_type": "code",
   "execution_count": 28,
   "metadata": {},
   "outputs": [],
   "source": [
    "#En este momento, la única correlación alta que existe es entre latitud y longitud.\n",
    "#Como no usare estas columnas, las dropeare.\n",
    "df.drop(\"latitude\", axis=1, inplace=True)\n",
    "df.drop(\"longitude\", axis=1, inplace=True)"
   ]
  },
  {
   "cell_type": "code",
   "execution_count": 29,
   "metadata": {},
   "outputs": [
    {
     "data": {
      "text/plain": [
       "(28877, 26)"
      ]
     },
     "execution_count": 29,
     "metadata": {},
     "output_type": "execute_result"
    }
   ],
   "source": [
    "df.shape"
   ]
  },
  {
   "cell_type": "markdown",
   "metadata": {},
   "source": [
    "## 2. Limpieza de categóricas"
   ]
  },
  {
   "cell_type": "markdown",
   "metadata": {},
   "source": [
    "### property_type"
   ]
  },
  {
   "cell_type": "code",
   "execution_count": 8,
   "metadata": {},
   "outputs": [
    {
     "data": {
      "text/plain": [
       "Apartment             18543\n",
       "House                  6655\n",
       "Condominium            1081\n",
       "Townhouse               720\n",
       "Loft                    552\n",
       "Other                   260\n",
       "Guesthouse              248\n",
       "Bed & Breakfast         214\n",
       "Bungalow                166\n",
       "Guest suite              72\n",
       "Dorm                     61\n",
       "Villa                    54\n",
       "In-law                   44\n",
       "Hostel                   36\n",
       "Cabin                    32\n",
       "Timeshare                26\n",
       "Camper/RV                24\n",
       "Boat                     22\n",
       "Boutique hotel           20\n",
       "Castle                    9\n",
       "Serviced apartment        9\n",
       "Tent                      7\n",
       "Chalet                    4\n",
       "Vacation home             4\n",
       "Hut                       4\n",
       "Tipi                      3\n",
       "Treehouse                 2\n",
       "Cave                      2\n",
       "Earth House               2\n",
       "Yurt                      1\n",
       "Name: property_type, dtype: int64"
      ]
     },
     "execution_count": 8,
     "metadata": {},
     "output_type": "execute_result"
    }
   ],
   "source": [
    "df.property_type.value_counts()"
   ]
  },
  {
   "cell_type": "code",
   "execution_count": null,
   "metadata": {},
   "outputs": [],
   "source": [
    "#voy a tomar en cuenta los primeros 6 conceptos, ya que se llevan más del 90% de los datos. \n",
    "#A los demás los voy a clasificar como 'Others'"
   ]
  },
  {
   "cell_type": "code",
   "execution_count": 30,
   "metadata": {},
   "outputs": [
    {
     "name": "stderr",
     "output_type": "stream",
     "text": [
      "C:\\Users\\luisf\\Anaconda3\\lib\\site-packages\\ipykernel_launcher.py:3: SettingWithCopyWarning: \n",
      "A value is trying to be set on a copy of a slice from a DataFrame\n",
      "\n",
      "See the caveats in the documentation: http://pandas.pydata.org/pandas-docs/stable/indexing.html#indexing-view-versus-copy\n",
      "  This is separate from the ipykernel package so we can avoid doing imports until\n"
     ]
    }
   ],
   "source": [
    "for e in range(len(df)):\n",
    "    if df.property_type[e] not in ['Apartment','House','Condominium','Townhouse','Loft','Guesthouse']:\n",
    "        df.property_type[e] = \"Other\""
   ]
  },
  {
   "cell_type": "code",
   "execution_count": 32,
   "metadata": {},
   "outputs": [
    {
     "data": {
      "text/plain": [
       "Apartment      18543\n",
       "House           6655\n",
       "Condominium     1081\n",
       "Other           1078\n",
       "Townhouse        720\n",
       "Loft             552\n",
       "Guesthouse       248\n",
       "Name: property_type, dtype: int64"
      ]
     },
     "execution_count": 32,
     "metadata": {},
     "output_type": "execute_result"
    }
   ],
   "source": [
    "df.property_type.value_counts()"
   ]
  },
  {
   "cell_type": "markdown",
   "metadata": {},
   "source": [
    "### room_type"
   ]
  },
  {
   "cell_type": "code",
   "execution_count": 33,
   "metadata": {},
   "outputs": [
    {
     "data": {
      "text/plain": [
       "Entire home/apt    16158\n",
       "Private room       11993\n",
       "Shared room          726\n",
       "Name: room_type, dtype: int64"
      ]
     },
     "execution_count": 33,
     "metadata": {},
     "output_type": "execute_result"
    }
   ],
   "source": [
    "df.room_type.value_counts()"
   ]
  },
  {
   "cell_type": "markdown",
   "metadata": {},
   "source": [
    "### bed_type"
   ]
  },
  {
   "cell_type": "code",
   "execution_count": 34,
   "metadata": {},
   "outputs": [
    {
     "data": {
      "text/plain": [
       "Real Bed         28092\n",
       "Futon              319\n",
       "Pull-out Sofa      246\n",
       "Airbed             146\n",
       "Couch               74\n",
       "Name: bed_type, dtype: int64"
      ]
     },
     "execution_count": 34,
     "metadata": {},
     "output_type": "execute_result"
    }
   ],
   "source": [
    "df.bed_type.value_counts()\n",
    "#Casi el 100% de los datos estan concentrados en \"Real Bed\". No se si esto represente un sezgo para el modelo después.\n",
    "#Aun si pusiera como \"Others\" los demás valores, creo que no tiene mucho caso esta columna."
   ]
  },
  {
   "cell_type": "code",
   "execution_count": 35,
   "metadata": {},
   "outputs": [],
   "source": [
    "df.drop(\"bed_type\", axis=1, inplace=True)"
   ]
  },
  {
   "cell_type": "code",
   "execution_count": 36,
   "metadata": {},
   "outputs": [
    {
     "data": {
      "text/plain": [
       "(28877, 25)"
      ]
     },
     "execution_count": 36,
     "metadata": {},
     "output_type": "execute_result"
    }
   ],
   "source": [
    "df.shape"
   ]
  },
  {
   "cell_type": "markdown",
   "metadata": {},
   "source": [
    "### cancellation_policy"
   ]
  },
  {
   "cell_type": "code",
   "execution_count": 37,
   "metadata": {},
   "outputs": [
    {
     "data": {
      "text/plain": [
       "strict             14816\n",
       "moderate            8492\n",
       "flexible            5539\n",
       "super_strict_30       25\n",
       "super_strict_60        5\n",
       "Name: cancellation_policy, dtype: int64"
      ]
     },
     "execution_count": 37,
     "metadata": {},
     "output_type": "execute_result"
    }
   ],
   "source": [
    "df.cancellation_policy.value_counts()\n",
    "#Voy a integrar los valores \"super_strict\" como \"strict\""
   ]
  },
  {
   "cell_type": "code",
   "execution_count": 38,
   "metadata": {},
   "outputs": [],
   "source": [
    "for e in range(len(df)):\n",
    "    if \"super_\" in df.cancellation_policy[e]:\n",
    "        df.cancellation_policy[e] = \"strict\""
   ]
  },
  {
   "cell_type": "code",
   "execution_count": 39,
   "metadata": {},
   "outputs": [
    {
     "data": {
      "text/plain": [
       "strict      14846\n",
       "moderate     8492\n",
       "flexible     5539\n",
       "Name: cancellation_policy, dtype: int64"
      ]
     },
     "execution_count": 39,
     "metadata": {},
     "output_type": "execute_result"
    }
   ],
   "source": [
    "df.cancellation_policy.value_counts()"
   ]
  },
  {
   "cell_type": "markdown",
   "metadata": {},
   "source": [
    "### cleaning_fee"
   ]
  },
  {
   "cell_type": "code",
   "execution_count": 40,
   "metadata": {},
   "outputs": [
    {
     "data": {
      "text/plain": [
       "True     23693\n",
       "False     5184\n",
       "Name: cleaning_fee, dtype: int64"
      ]
     },
     "execution_count": 40,
     "metadata": {},
     "output_type": "execute_result"
    }
   ],
   "source": [
    "df.cleaning_fee.value_counts()\n",
    "#ya lista para pasar a contínua"
   ]
  },
  {
   "cell_type": "markdown",
   "metadata": {},
   "source": [
    "### city"
   ]
  },
  {
   "cell_type": "code",
   "execution_count": 42,
   "metadata": {},
   "outputs": [
    {
     "data": {
      "text/plain": [
       "NYC        13379\n",
       "LA          7571\n",
       "SF          2713\n",
       "DC          1815\n",
       "Boston      1776\n",
       "Chicago     1623\n",
       "Name: city, dtype: int64"
      ]
     },
     "execution_count": 42,
     "metadata": {},
     "output_type": "execute_result"
    }
   ],
   "source": [
    "df.city.value_counts()\n",
    "#ya lista para pasar a contínua"
   ]
  },
  {
   "cell_type": "markdown",
   "metadata": {},
   "source": [
    "### description"
   ]
  },
  {
   "cell_type": "code",
   "execution_count": 43,
   "metadata": {},
   "outputs": [
    {
     "data": {
      "text/plain": [
       "Hello, I've been running guest house for Koreans visiting U.S. for 3years, and recently decided to run this place for other travelers also. There are 10 room in the house. They are mostly dormitory rooms and couple of couple room and family room. This places are our women's dormitory in third floor. There are three rooms, but no doors. It is basically open space. There are 2 beds in two rooms and 4 in one room. I do not have closet in this room but there are hangers and mini shelves. My travelers usually put their baggage on the floor. There is one full bathroom only for women in 2nd floor, which you will be sharing with other women guests. Right next that bathroom, there is unisex half bathroom. All bathrooms have hair dryers. You cannot use kitchen, but you can use refrigerator.  I offer breakfast every morning from 7-10 am. Bread, cereal, fruits, coffee, milk and juice will be served. You can eat take-out food in the kitchen, but please wash dishes that you used and put trash in the    6\n",
       "Brand New 2017 Construction, Featuring 2 Bedrooms and 2 bathrooms . comfortable couch, coffee table, 50-inch TV in living room, with free Satellite Cable channel and internet Wi-Fi. Washer and Dryer in the building on each floor.This lovely Apartment is perfect for families, couples or four close friends! With over 900 square feet of living space.A short freeway ride to Westwood, Hollywood Bowl, Griffith Park, LA Zoo, and downtown venues such as Chinatown, LA Live, Staples Center and Olivera St. Enjoy the open entertainer floor plan featuring a gourmet kitchen with quartz counters w/natural mosaic stone and quartz back splash, Stainless Steel appliances, and designer cabinetry. All baths are tastefully done with tub/showers and sinks. Awesome living area, Enjoy those high ceilings! Terrific master suite with closet space. This is a \"smart home\" featuring an LED recessed lighting. Gated Garage is ready for two full sized cars all side by side.  A cozy retreat for your stay in Los Angele    4\n",
       "HUGE loft in converted factory, with in building: -COFFEE SHOP -YOGA STUDIO -ROOF DECK -FOOD CO/OP -TATTOO PARLOR -VAPE SHOP -CLOTHING STORES -SHIPPING AND PRINTING STORE -Located in vibrant Bushwick Brooklyn within walking distance to some of the best street art in the US. -Just 3 blocks to subway with easy access to Manhattan, Williamsburg and JFK airport. At your disposal is a comfortable lounge and dining area with a kitchen, and 2 bathrooms, that is all cleaned daily. There is also a HUGE ROOF DECK, as well as mini mall downstairs containing a yoga studio, coffee shop, art gallery, skate shop, and clothing store.  Right across the street are 2 of the biggest vintage shops in Brooklyn. Your room has a brand new super comfortable PILLOW TOP double bed, as well as your own air conditioner and space heater to combat extreme NYC temperatures. Free WIFI :)  We pay for extra for the really fast internet so stream video at ease. We also provide professionally laundered fresh sheets and to    4\n",
       "Private room in the heart of Little Italy with FREE PARKING :) You will have your own personal door code and may arrive at ANY time you would like and as late as you wish. You can store your luggage in the closet before check-in and after check-out times :) Price adapts to demand, my rates change constantly - every night is different! Put your dates in the calendar, with the number of guests, and what you see is what you'll pay :) The neighborhood is extremely safe even at night :) Restaurants and bars are right round the corner, both upscale and casual. This room is 6 minutes away by car or uber to Chicago's famous Willis (Sears) tower. Uber costs about $7. If you are arriving by car, I am providing free resident parking passes for anywhere in the area. (Yes, that means you can drive a few blocks and still park anywhere you want!) The room will be solely yours for the time you'll stay in the Windy City. Shall you have any concerns or need any tips from the local, I'll always be happy     4\n",
       "Our unique building is located in the Silicon Beach, directly across the street from (SENSITIVE CONTENTS HIDDEN) in Playa Vista. Fully remodeled designer-done 4-plex walking distance to the Playa Vista Runway, (SENSITIVE CONTENTS HIDDEN), YouTube, IMAX, Belkin, FOX, and (SENSITIVE CONTENTS HIDDEN). Two one-bedroom units and two studio units have all been remodeled by a high-end designer in 2015 Our place is good for couples, solo adventurers, and business travelers. Sorry, no pets. Units 1 & 2 are downstairs, 3 & 4 are upstairs. The building has one set of professional coin operated washer and dryer machines, shared by all four units. The laundry room is located towards the back of the building, near the back gate. You will have access to one (and only one) off-street parking spot in the back of the building. When confirming your booking, please inform the model, color and license plate of the car you will have throughout your stay - that way we can control who's illegally parked and s    4\n",
       "本地方是个两层楼townhouse温馨之家,一楼我们自己住,二楼五个房间做出租房,有两个洗手间和浴室供您们使用,每个房间都配备双人床 被子枕头床头柜 台灯 书桌椅 电视机Wi-Fi 热水壶 毛巾牙刷 牙膏 拖鞋 餐巾纸 房间干净卫生。大门进出有密码锁 每个房间也都有密码锁 走廊有安装电眼探头,厨房可以煮简单的食物,可以说是麻雀虽小五脏俱全。 地方位于纽约布鲁克林八大道华人集聚地,附近各种餐馆林立,地区治安好交通发达,走路2分钟到小巴站25分钟车程到达曼哈顿唐人街,门口有大巴站坐两站到地铁站也可以走路8分钟到N地铁站或走12分钟到D或R地铁站。 如果您开车过来白天很容易找到车位,晚上8点后如果找不到车位,您可以把车停在我们旁边8大道meter车位上直到第二天早晨7点半后就有很多车位了,欢迎您的到来!                                                                                                                                                                                                                                                                                                                                                                                                                                                                                                                                                                                                                                                                           4\n",
       "A very cozy house located in the heart of Hollywood between two famous streets: Beverly Blvd and Melrose Ave, within a safe and quiet neighborhood, 30 minutes from LAX, 15 minutes from Downtown LA, 15 minutes from Griffith Observatory, 15 minutes from Hollywood Walk of Fame, 15 minutes from Universal Studios, 5 minutes from Paramount Pictures. There are lots of restaurants and shops nearby. My favorite is Osteria La Buca:) A great house in the central area of Los Angeles suitable both for travelers and business trips. It is fully equipped with all you need and freshly renovated. FREE PARKING:)                                                                                                                                                                                                                                                                                                                                                                                                                    3\n",
       "Beautiful, comfortable, clean, cozy rooms near shopping mall, diner, and public transportation.                                                                                                                                                                                                                                                                                                                                                                                                                                                                                                                                                                                                                                                                                                                                                                                                                                                                                                                                             3\n",
       "Check in as early as 10am!  Discounts for long stays! Steps from the High Line, and a block from major transportation this immaculate, sunny room is perfectly situated in one of the most desirable downtown Manhattan neighborhoods! This is a private room in a four bedroom apartment.  The host who lives here is a designer at an international fashion brand.  The decor, over -sized windows and 11 foot ceilings represents the style, modernity, and warm feeling that the Chelsea has to offer. The bedroom is one in a four bedroom apartment that is in the heart of prime Chelsea.  Please note, the apartment does have a live in host, and other guests - but your bedroom is your private space and oasis in Chelsea.   The room has a high bed so you can store your luggage underneath, a sturdy shelf near the bed to store items under and place your laptop or other items on.  A small closet, and long mirror.  It's a quiet building on a quiet street, but within walking distance of some of the most popular    3\n",
       "Located in the heart of the Mission District, consider this your home away from home. Peaceful and comfortable, yet close enough to pretty much everything San Francisco is known & loved for, as well as some lesser known (equally loved by those who do) sights. You'll have a modern, cozy, private bedroom with a full/queen bed within this 4 bedroom, 2 bathroom house. (You'll be sharing the main areas of the house with Brian/Angela and two other guests, plus two small rescue dogs :) Your bedroom is equipped with a large, flat screen television set up with Chromecast and is decorated with paintings commissioned by a friend who dabbles as an artist. Jacques and Bijoux are sweet and playful pups who live here. If you want to play or cuddle with them, they'll love it. (If not, don't worry, they do not have access to the bedrooms or bathrooms.) A beautiful living space and shared backyard patio with a gas grill, premier location in the culturally rich Mission district (the famous Balmy Street m    3\n",
       "My Cozy West LA / Mar Vista 1BD 1BA Home just 15 Min from Venice Beach. Features a queen bed and living room with comfy sofa, TV with HD Cable, High Speed Wifi, Full Kitchen with Gas Stove, Fridge, Microwave. Completely Private Apt not shared. My Cozy West LA / Culver City 1BD 1BA Home. Features queen bed in bedroom and living room with comfy sofa, TV with HD Cable, High Speed Wifi, Full Kitchen with Gas Stove, Fridge, Microwave. Completely Private Apt not shared. Entire Apt is yours with no restrictions and is not shared in any way. Just take care of my home as if it were your own please and be respectful to the neighbors. I am accessible should you need anything, have any questions or if you would like some great restaurant/tourist tips. Otherwise enjoy your stay and the home as if it is yours! Super centrally located in the heart of West LA. 10 Min to Venice Beach (less than 5 miles) Downtown Santa Monica (5 miles) and walking distance to beautiful downtown Culver City where you wil    3\n",
       "Welcome to my home! It's a nice, newly renovated brownstone townhouse in the heart of Brooklyn. Close to major train lines: 1 minute to the J train and 4 minutes to the C train. Both trains will get you to manhattan in 15-20 minutes. My place is good for business travelers and tourists and has that wonderful feel-at-home ambience.                                                                                                                                                                                                                                                                                                                                                                                                                                                                                                                                                                                                                                                                                                3\n",
       "Loft Suite @ Henry Norman Hotel Located in Greenpoint, Brooklyn and housed in a converted 19th-century warehouse, the Henry Norman Hotel features modern lofts and suites with hardwood floors, antiques and contemporary art. The Loft Suite features a bedroom area with a Queen size bed and a comfortable pull-out sofa in the living room area, which in total can easily sleep up to 4 guests. The loft is equipped with 42\" LCD HD TVs in both the living and bedroom areas with premium cable channels (HBO, Showtime & more). There is a mini refrigerator plus tea and coffee making facilities for your convenience. There are hardwood floors throughout and a full bathroom with a shower/tub combination. Sleeps up to 4 guests. Guest will have access to common terraces, lounge area, business center with 2 iMac computers, fitness center with dry sauna and steam shower, and laundry room. Greenpoint is an artsy Brooklyn neighborhood filled with great restaurants, cafes, and shops.                               3\n",
       "Hello!! Thank you for checking our listing! We have 3 other listings available so please take the time to look at them to see which one better suit your needs. If you’re looking for a home away from home, look nowhere else! Our rooms are located in a cozy 3 bedroom apartment in a newly constructed building. We will be sharing the kitchen, which comes with a complete set of kitchenware and also the bathroom among the other roommates. The bedrooms are beautifully decorated and each one of them is unique with its own color theme and fragrance. Nice and clean bed sheets, towels and comforters are also provided during your stay.  Our location is in Elmhurst, also known as a tiny Chinatown in Queens. It is very convenient with only 5-10 minutes of walking distance to the Grand Ave Newtown Subway station (M, R trains), Buses, Shopping malls, Grocery stores, Restaurants, Bakeries, Laundromat and many more amenities.  We are looking forward to hosting you! Jackie & Tyas                             3\n",
       "* The home is calm, but house party the day of Sep 16 to celebrate the sheep arriving across the street. Just for that afternoon. * Comfortable queen-size bed in private room in a three-bedroom NoLiTa/SoHo apartment with 360 degree rooftop view. Lively but peaceful neighborhood with shopping and great restaurants. Less than 2 minute walk to 7 subway lines (B,D,F,M,6,N,R). Beautiful apartment with rooftop view. Shopping and restaurants and bars nearby.  7 subway lines less than two minutes away. Beautiful renovated building. The apartment has three private bedrooms. There are additionally two bathrooms, so access to a bathroom is never a problem. We have a rooftop deck with one of the best views in New York, from the World Trade Center to the Empire State Building and even the Williamsburg Bridge. Right in front of us is a 19th century cathedral with large trees and a pasture for sheep in a historical graveyard. Bedroom, kitchen, bathroom, private rooftop belonging just to my apartment,    3\n",
       "Remarkably located in the heart of Chelsea in Manhattan, within walking distance of Penn Station, Madison SquareGarden, High Line Park and Theater District our hostel type separate rooms are simple, cozy, and very clean. Although small in size they are centered around a spacious common lounge area with free WiFi. We are located in the heart of the historic Chelsea neighborhood, West Side Manhattan: between 28th and 29th Streets on 8th Avenue. The freshly renovated hostel rooms here are simple, cozy, and very clean. Our management crew is on-site 24/7 to make sure everybody is happy. There is free WiFi here. Fresh, clean sheets, pillows towels and blankets are there for you. Although small in size the retreat guest rooms here are centered around a spacious common area. As a friendly, peaceful atmosphere, the common room is a perfect getaway from your busy day in the city. There is also a small library of spiritual books that can keep your mind engaged during a respit from the busy stree    3\n",
       "I have other listings in the same apartment: https://www.airbnb.com/rooms/16191596?locale=en https://www.airbnb.com/rooms/16193259?locale=en https://www.airbnb.com/rooms/16191967?locale=en https://www.airbnb.com/rooms/16193729?locale=en Apt is 3 mins to subway station '59 Street' in Brooklyn, for N and R line. We are sharing a four bedroom apartment at sunset park of Brooklyn. This is a convenient and nice location 3 mins away from N/R train(59th St subway station) . You can take N (express) train to Manhanttan in 20-30 mins. In our apartment , Our kitchen is free to use, we have all basic cooking stuff. Our Living room, kitchen and bathroom will be shared.  For off limits, of course other bedrooms are not allowed to enter with out permission.  I will always be there in the apartment, at least twice a week to meet our guests and do the cleaning job. If you have any questions, also feel free to message, txt or call me. Just let me know, if you have any questions. The Apt is between the     3\n",
       "Located at Laurel Hights close to USF, Golden Gate Park, Golden Gate Bridge and Shopping Center. We are steps from MUNI station and 15 minutes Bus ride or Lyft/Uber ride to downtown. The room has a queen sized bed with incredible comfortable mattress which is perfect for a restful night after a day in the city. There is free parking on the street. Free fast Wi-Fi.                                                                                                                                                                                                                                                                                                                                                                                                                                                                                                                                                                                                                                                              3\n",
       "A handsome colonial house set on a tranquil side street. Fully furnished with spacious rooms. Easy commute to Downtown with nearest bus stop only a 5 minute walk away. Near restaurants, grocery and shopping arcade. Laundry and WiFi available.                                                                                                                                                                                                                                                                                                                                                                                                                                                                                                                                                                                                                                                                                                                                                                                          3\n",
       "Spacious 2 story 4000 sqft home Enjoy fruit trees swimming pool fountain & gardens lWalking distance to mall, grocery store, movie theater & restaurants. Centrally located to Malibu, Santa Monica,Venice,Hollywood, Beverly Hills, West LA This spacious 2 story 4000 sqft home is fully furnished and beautifully decorated! Coffee and donuts are served every morning;) Please keep in mind that this is a shared space, and that your large room consists of 2 bunk beds, your own dresser, hamper, and closet space. You will have full access to the rest of the home.  We provide a safe, clean, and positive environment, perfect for people relocating from out of state, students, and anyone else who needs a landing place while traveling. Near public transportation; ORANGELINE, 405, and 101 FREEWAYS. You will have full access to the rest of the home.  We do have private and 2 person and or couples rooms available in the same property. Full kitchen privileges  All Premium Cable and movie channels  Full se    3\n",
       "Luxury apartment refurbished in 2016, centrally located in between the West  End and Georgetown, fronting Pennsylvania Ave. Walkable to many bars, restaurants and nightlife, most major tourist attractions, GW University, World Bank and Embassies. While I am always happy to answer questions about the apartment and the local area I really appreciate it when guests take the time to read the detailed house manual (hard copy in apartment and also on the AirBnB site), and the other pieces of correspondence I will send you. The best way to contact me is through the AirBnB app as I like having all correspondence on one device. Its rare I will answer my phone when I can’t identify the number. I am very prompt at returning inquires through the app and will be happy to jump on a call when needed. I am very good at communicating with guests as you can see by my ratings and reviews so please be patient and give me a minute to reply. Enjoy your stay! The property is located directly in the cross sec    3\n",
       "The Brooklian is a sunny apartment with great views of the city, super conveniently located to public transportation .Clean, spacious, with low key furnishing  combined with all the conveniences needed. The Brooklian is within a pre-war building with those original interior design, still as they were! There are 3 queen bedrooms and a queen pull out couch in the living room, this listing is only for one room. Prospect park, Botanical Gardens, and the Brooklyn Mueseum are 10 mintues away. This add is in reference of one bedroom, if you want to reserve the all apartments or more bedrooms please write to me before booking. Brooklian is the best apartment in Brooklyn with an Italian touch to make it even better, the ambient is bright and spacious, furnished in a minimalist but essential way for your best experience! The kitchen is fully equiped with all the basic and more advanced kitchenware, microwave, coffee machine, toaster, food processor, nutribullet and electric grill sandwich press.    3\n",
       "Spacious bedroom in a large East Village apartment! Access to a massive-semiprivate backyard shared only with neighbors. Big screen TV in the living room, fully functional kitchen and grand piano if you happen to enjoy playing.                                                                                                                                                                                                                                                                                                                                                                                                                                                                                                                                                                                                                                                                                                                                                                                                         2\n",
       "Welcome to RMH, a co-ed hostel vibe home for exploring travelers or working individuals needing temporary housing. (Guests access is from 3pm to 11am daily). NON-SMOKERS ONLY! Host & small dog live on property. NOTE: Guests' bedroom is dog free. GUARANTEED In Our Home: *You receive a clean home in a safe neighborhood, clean sheets, pillow, towel and covers. **You MUST Read House Rules BEFORE Booking :) ***IMPORTANT ***SMOKERS who book: reservation cancelled upon arrival + NO Refund. The bedroom is very large with enough space for everyone (6 guests) to have peace and quiet. The kitchen and bath are very spacious. Guests will have their own keys and have access to the bedroom in which they stay, kitchen, bathroom, living room and deck. OPTIONAL: (Normal Check IN is 3pm, Check OUT is 10am) If you would like an EARLY CHECK IN before 3pm ($25 fee) Guests trying to check in after 10pm will need to get pre-approval from host and pay the late check in fee of $25. There is no key box and no gu    2\n",
       "Great apartment in East Williamsburg. Clean, spacious and sunny. Seven minute walk to the L train (Montrose) and JM trains (Lorimer). Double bed in the bedroom plus a convertible couch for up to two more people in the living area. Full kitchen. Full bathroom. Wifi. Near shops, restaurants and bars. This is a clean and spacious apartment with lots of natural light. A double bed in the bedroom comfortably sleeps two and the convertible sofa in the living space will sleep one or two more.  Full kitchen with a gas stove and full size refrigerator.  Full bathroom. Located on bustling Graham avenue, all your needs are within steps of the front door. This neighbourhood is a perfect blend of trendy restaurants, bars and coffee shops mixed in with the Brooklyn classics like take-out pizza and chinese food. There  is truly something for everyone. All the basics you need are also just steps away. From groceries and pharmacies to clothes and shoes, this street has it all! The apartment is a quick     2\n",
       "Located in the heart of the Westwood Village Shopping District and moments to the UCLA campus and Medical Center, our BlackExclusive  Accomodations offer endless choices and convenience! Surrounded by countless shops, restaurants, theaters, and museums. Guests are pampered year round with resort style amenities such as a olympic size heated pool, a private world class health spa and club, a state of the art fitness center (free fitness classes), and executive business center. FREE PARKING Parking is indeed very difficult in Westwood, so worry not :) Westwood Village is at the center of L.A. life. It is equal distance from the sunny beaches of Santa Monica to the skyscrapers of Downtown L.A. It is minutes from high-rise offices of Wilshire Blvd. and Century City, as well as to the classes on the UCLA campus. It is an urban oasis – seamlessly combining sleek, modern architecture with its 1920’s era Spanish design. Featuring the modern amenities of the new City Target, Trader Joe’s and fl    2\n",
       "我的房源适合独自旅行的冒险家。                                                                                                                                                                                                                                                                                                                                                                                                                                                                                                                                                                                                                                                                                                                                                                                                                                                                                                                                                                                                                             2\n",
       "Private room with queen bed in a beautiful luxurious house close to Topanga and Malibu. It's a chill luxury area on top of the hill surrounded by mountains.  You will have access to living room, kitchen, parking garage and bbq.  Free Wi-Fi                                                                                                                                                                                                                                                                                                                                                                                                                                                                                                                                                                                                                                                                                                                                                                                             2\n",
       "Hello! I’m an experienced host and I’ve never canceled a reservation, so your booking is 100% secure. My calendar is always up to date, so you're welcome to use Instant Book. Please read the full listing description before booking to learn everything you need to know about staying here. If you have any questions that aren't answered below, feel free to message me. Check out my excellent reviews from past guests for an idea of what it's like to stay here. I look forward to hosting you! This is a private room in a large 6 bedroom apartment in Williamsburg. I live here full-time and rent out the spare rooms to travelers (please note that you will be sharing the apartment with other guests).  Below are a few reasons why I think you should consider staying here:  ~One of the best things about this place is its proximity to the subway stations which will make getting anywhere in NYC very convenient. The L train (Montrose stop) is 5 blocks away and the J/M trains (Lorimer stop) is 4 blocks aw    2\n",
       "Prime location in the heart of Midtown! Steps to Times Square, Broadway shows, Restaurant Row, shopping, Central Park, and plenty of subway trains. Quiet and private room in two bedroom apartment. Bedroom is able to lock (you get your own key) and has it's own closet and personal air conditioner/heat. Access to shared bathroom and kitchen with complimentary coffee. Apartment is located in a secure, well-maintained elevator building.                                                                                                                                                                                                                                                                                                                                                                                                                                                                                                                                                                                        2\n",
       "                                                                                                                                                                                                                                                                                                                                                                                                                                                                                                                                                                                                                                                                                                                                                                                                                                                                                                                                                                                                                                           ..\n",
       "Remodeled light-filled beautiful home in Northeast LA. Close to Griffith Park, Echo Park, Los Feliz, Atwater Village, Hiking, and centrally located between Hollywood and Pasadena. My house is in an extremely convenient location to all LA has to offer, and Ubering to nearby nightlife is very reasonably priced. My home is good for couples, solo adventurers, and business travelers. Spend your day in the city and retreat to a spacious room in a quiet neighborhood with mountain views! You will have the master bedroom with a renovated bathroom. The whole house has great lighting, and the master bedroom features french doors that lead out to the backyard. Bed is a California King. All common areas in the house and backyard/front patio. If I'm here, I'm happy to assist. If not, I'm always a text/call away. I want you to enjoy your stay. I live at the bottom of a hill. There are great hiking trails nearby with spectacular views and interesting homes. Very quiet neighborhood, friendly people. I     1\n",
       "Our beautiful and colorful apartment is right next to a subway stop, beautiful Columbia University, tons of restaurants/bars, the Hudson River, and has views of downtown Manhattan, New Jersey, and the Hudson River with a 26th floor view and no tall buildings in front. We are currently renting out the studio room with a shared bathroom and the sofa bed as pictured. We can add an extra inflatable twin mattress if you prefer to have two beds or for a third person. Just let us know so we can be sure to have it ready for you! Our apartment has tons of space (unlike most NYC apartments) and we are a laid back couple.  We will give you keys to come and go as you please and only interact with you as much as you would like.  You are welcome to use our kitchen, refrigerator, and washing/dryer machines. You will have incredible high-rise views of the Hudson river and downtown Manhattan and be right next to the Hudson River (a great running/biking/walking spot), a fabulous organic supermarket (Fai    1\n",
       "Modern apartment in the heart of Boston. 2 bedrooms One queen bed Two twin beds 1 full bathroom  Full kitchen Free wifi Cable TV Walking distance from Chinatown, Theater District, shopping centers, Boston Commons, multiple subway stations, Tufts Medical Center, and more. Our apartment is newly renovated with new furniture and appliances. Decorated with a modern feel. There is 1 bedroom with a queen  (11\" memory foam mattress) and another bedroom with two twins, 1 bathroom, full kitchen and living room with a sofa bed. Max accommodation is 6 people. This is a 4 story apartment. Each floor is separated. This unit is on the third floor. Please email us if you need additional unit for extra people You can contact me via email, text, and phone and I will try my best to respond as soon as possible. Before your check in date, I will send you detailed information concerning your stay. The doors all have electronic locks and I will provide you with the passcode. If there is an emergency, I will    1\n",
       "Spacious private bedroom with it's own front door access, a full bathroom with stand up shower & amenities. Includes WiFi and equipped with TV for streaming services. Ideal space for couples or the solo traveler, and minutes away from the A/C train lines. This fully furnished newly renovated private bedroom is located in a Brownstone on a quiet tree lined block of Bedford Stuyvesant featuring a modern decor with natural light. Includes full-size bed, full bathroom w/ amenities, hardwood floors, full-size closet, and chair & ottoman. Guests will have access to the private bedroom and bathroom with comfortable privacy. Other rooms and basement are off limits. I live in the neighborhood so I'm pretty accessible. If you need help getting around or have any questions, SMS text or email works best. Please provide your email once you complete booking so that I can send you the access information. The neighborhood is trending with artists, designers, musicians, and young professionals.  It off    1\n",
       "Located in a historic Fort Greene residential neighborhood, this spacious apartment is right next to a beautiful park and 2 blocks away from multiple subway stations. Barclay Center and BAM are less than a 5 minute walk away. Spacious, clean, and quiet with a washer and dryer. Brand new hardwood floors were recently installed in this suite. Awesome view unique to Fort Greene, Brooklyn. 2 Queen beds, a large couch, loveseat, dining room table, and desk. Very spacious which is rare for an NYC apartment or hotel.  Brand new hardwood floors. Plenty of storage and closet space.  Kitchen and bathroom are both clean. Full kitchen, washer, dryer, dishwasher, refrigerator, and microwave.  Elevator building. Let me know if there's anything I can help you with like restaurant suggestions or where to go shopping. RELAX: CLOSE TO FORT GREENE PARK. PLAY: BROOKLYN’S CULTURAL DISTRICT WITH BAM, BRIC ARTS | MEDIA HOUSE, THEATER FOR A NEW AUDIENCE, MARK MORRIS DANCE, URBAN GLASS AND OTHER VENUES JUST DO    1\n",
       "Amazing loft in the Meatpacking District. The hottest neighborhood in NYC! Enjoy your own 1,100 square foot space within a 2,600 sq ft, two floor loft. Doorman, building, full sized bed (fits two) with true mattress and box frame (not an uncomfortable, thin, sleeper sofa mattress). Can sleep third guest on large sectional sofa, shared kitchen. Guests enjoy exclusive use of two bathrooms. The High Line starts just a few minutes away from our building. The neighborhood is lively and features some of the best restaurants, bars, clubs and stores in Manhattan. The Hudson River Park is ten minutes away; it's a great place to walk, run, picnic or just sit in, relax and people watch. The Chelsea Market is within two blocks of our home. Some of the most picturesque parts of the West Village are within a five minute walk of us. The 14th Street stop for the A,C,E and L subway lines is on the far corner of our block, about a five minute walk from the loft. Many additional subway lines are within a    1\n",
       "My home is an eccentric in-law apartment in a Victorian in the heart of the Mission.  While it's definitely not brand new, the space has lots of character and is in a fantastic location.  It's walking distance to 16th st. Bart and tons of restaurants and shops on Valencia St. Since this is also my cherished home, it's only available when I'm away for work.  It is private and has a cozy feel with a full kitchen and it comes with two bikes to tour the Mission! Either myself or my partner will be around to check you in and help out if you find that you need anything during your stay. Depending on our work hours and availability the day you check-in, the check-in time may be flexible if you need to arrive earlier. There are two flats above mine with tenants so I do ask that you respect the quiet hours and be conscious of my neighbors during your stay. The apartment is very close to Bart and an easy transit ride from either the Oakland or SF airport.  Upon confirming a reservation, I'll sen    1\n",
       "Walking distance to World Trade Center Memorial, Lower East Side, Soho and the Brooklyn and Manhattan Bridges. The apartment was recently renovated--newly remodeled kitchen and bathroom.  Please take a quick minute to read the full description. The apartment is on the third floor of a building located in the heart of lower Manhattan. The interior is newly renovated with marble counter tops and hard wood floors.  The guest bedroom is one of two bedrooms within the apartment. It's very  quiet and receives very little noise population from the street.  We have two bed types available: queen sized Japanese futon and a twin blow up mattress. Both are vary comfortable and come with fresh linens. Please let me know which you prefer. Although the exterior of the main building and the interior stair way could use some love, the apartment itself is very clean and well maintained. Guests have access to one bedroom (perfect for a solo traveler or a pair). Additionally there is social area and shar    1\n",
       "One bedroom located in a quiet building in the South Loop walking distance to McCormick Place, Soldier Field, Museum Campus, and the Lake. Large one bedroom, one bath unit with queen size bed and a queen sofa sleeper in the living room. The condo is located in a residential area but there are bars and restaurants a short walk or Uber ride away. It's away from the hustle and bustle of downtown but an easy bus, train, taxi, or Uber ride away (less than 10 mins for each). On a warm day, you might want to enjoy a relaxing walk into downtown via the lakefront path. I am available by phone/text/email 24hrs a day. This location is within walking distance to the Loop. However, there is easy access to the Red Line, Green Line, and CTA bus stops. There is limited, free on-street parking surrounding the building. However, I do have guest permits available ($8/day) to park on the street and that will open up your parking options as the area was just converted to zoned parking for residents and the    1\n",
       "Luminous 4rd floor. A perfect home base for exploring all that NYC has to offer. It is ideal for a couple with 1 child or to 4 adults and features one queen bed in the master bedroom and another queen bed or a crib (depend on you) in the smaller room.  The apartment is well divided between living/dining, open kitchen and sleeping quarters.  Kitchen full equipped. AC, Wi-Fi, dishwasher, no TV, Hardwood Floor.  Note that there is no elevator in the building. Roof Deck with Relaxation Beds with great views of the city, Gym/Fitness, Yoga Room, Laundry Room in Building. Awesome Lobby with Loaded Library, Pool Table, and Foosball Table. Local maps, travel guides, and suggestions for places to eat, drink, run, shop, etc. A perfect home base for exploring all that NYC has to offer. Great location, 20 min to Manhattan, Coffee shops, Banks, Grocery Stores and Restaurants Nearby. 1 Block from the G train, or 10 min to A. C trains. Close to multiple trains and buses. 3 Citi Bike spots nearby. Few     1\n",
       "My place is close to public transport, the airport, the city center, the Capitol, museums, parks, and nightlife. My place is good for couples, solo adventurers, business travelers, and families (with kids). Enjoy your time in a beautiful, brand new apartment. The appliances are top of the line, Samsung, and will make your stay just that much more comfortable. There is a full washer and dryer in the unit. Setup- There are two bedrooms with a queen sized bed in each room. There is also an air mattress for a 5th person. There is a small chaise in the living room, but it would probably not be comfortable for an adult to sleep on it. Parking- there is ample street parking available. The apartment is close to Eastern Market, H Street, Barracks Row, Navy Yard, and just a few metro stops from The US Capitol, The White House, DC Museums, The National Mall, etc.  The closest metro stations are Potomac Avenue (blue, orange, silver lines), Eastern Market (blue, orange, silver lines), Anacostia (gr    1\n",
       "Turn of the century styled one Bedroom with large Living room and Kitchen, one bath, 2 blocks from metro line, quiet neighborhood, one block from Figueroa St down town highland Park. Antique filled, back to the past decor with spiral stars. 2-4 ocup We try very hard to keep the house dust free, Douglas fir paneling, wood floors with Sweetish ski lodge decor and a fifties kitchen and dining area make this experience one to remember. Outside patio with table seating coy pond and (hot tub out of order) with help you enjoy your stay. A/C and heating. Up stars sleeps 2 (queen) or more with extra sleeping room. Large living room with roll away and couch that folds to a bed. Can have up to 6 occupants or more \"($10) each additional person  more then 2\" with air mattresses. Stove/oven, 50's fridge, large sink, washer/dryer if needed. The Dear head can be removed upon request. Washer/Dryer. One parking space in font with option form more. all previously described amenities. Back yard is off lim    1\n",
       "You're own suite in Santa Monica.  Private entrances, bedroom, living room, coffee room, full bathroom and kitchen.( Everything Without Sharing).  Three blocks from the beach. Close to Ocean Park's Main Street, the Venice Boardwalk, Santa Monica Pier and the 3rd Street Promenade. Cute and cozy! Garden is a private territory and is not available for guests. https://www.airbnb.com/things-to-do/los-angeles You will get a parking permit for your car.                                                                                                                                                                                                                                                                                                                                                                                                                                                                                                                                                                          1\n",
       "A great studio in the center of Manhattan  suitable both for travelers and businessmen. It is fully equipped with all you might need and freshly renovated. 7th  Floor ,Elevator , 24/7 Security . Entire Apartment . NEW Studio on Broadway.  You are on Herald square 34 street !!!!! Time Square 42 street . Broadway Shows . Macy's 34 street . Saks 5th Ave 51 street. Central Park 59 street .  Everything walking  distance . -Free WI-FI Wirless Internet.  -Air Conditioner . -QUEEN Size Bed.  -Twin size bed . -Clean Sheets.Pillow.  -Clean Towels.  -Hair Dryer.  -Shampoo.  -Soap.  -Iron.  -Iron board. -Micro oven.  -Full Kitchen,(lots,Pans,silverware, ex). -Landry Card . -Laundromat on the 1st floor.  Getting around Subway station 34th St Herald square ,trains Q,R,N,D,B,F,M. Other Things to Note Please print your Itinerary  You are on Herald square34 street !!!!! Time Square 42 street . Broadway Shows . Macy's 34 street . Saks 5th Ave 51 street. Central Park 59 street .  Everything walking  dist    1\n",
       "This destination  is close to Maverick Station. East Boston is a prime location for airport travelers/workers. THIS IS NOT A 5 STAR RESORT please book a hotel if that is what you seek. Other than that If your flight gets delayed, cancelled or if your an employee pulling a double  and want to be close to the airport for your morning shift, S.P would love to host you. In the bedroom: This is a beautiful room on the third floor. It has hardwood floors, a small additonal room with a desk and chair, has a built in ceiling fan and light. We supply 1 washcloth and 1 towel per person.  The common areas: The common areas are the kitchen, bathroom and small space in the entry way.  Bathroom: Shower, toilet, sink Kitchen: We have a kitchen table with 3 chairs, a fridge, freezer, stove, microwave and a few small pots and pans for light cooking. There is silverware and cooking spoons in the drawer and glasses in the cupboard as well.  Small entry area when you enter the home: Sometimes we allow gue    1\n",
       "Enjoy the benefits of peace and quiet in a lovely serene Brooklyn neighborhood, along with the proximity to the hustle and bustle of the world's most fascinating city. You will love this spacious but cozy home away from home near the heart of Brooklyn. ** To get the most out of your stay with us please be sure to read the ENTIRE listing before requesting to book** The room is a beautiful bedroom with original wood floors. Wake-up to the sunlight streaming into this very quiet bedroom. You will enjoy returning to our home after a day of sight seeing or an evening out on the town in New York. Visit Manhattan or stay in Brooklyn and enjoy the beauty, the history and the culture. *We are a shoe-free home. Please remove your shoes upon entering* Your bedroom has a full sized bed, 1 bedside table, 2 small dressers, a shelf and mirror. You can lock your door from the inside only. Shared access to the bathroom with tub and full kitchen including the washer/dryer.  TV with Chromecast and Roku b    1\n",
       "Come stay in the heart of the Mission with the best bars, shops, and restaurants at your doorstep! Bright, clean bedroom with a private wet bath perfect for travelers who are looking for a comfortable place to rest/work! 1 block from BART (with easy access to SFO airport, downtown SF, and East Bay), 2 min walk to the original Philz Coffee, and right on 24th Street where there are limitless options for restaurants, bars, coffee shops, art galleries, and other great things to do. Our place is a newly renovated, beautiful apartment with 12 foot ceilings. The room comes with a full-sized double bed, a desk that faces a bright sunny window, a full closet + dresser, and a TV (there's no cable TV, but there's a Chromecast you can use to stream movies/TV from your computer/phone). The room is perfect for the leisure or business traveler looking for a comfortable + clean space to rest or work. Others have loved staying at our place - just read our great reviews! You'll also have your own newly     1\n",
       "Brand new construction apartment, a 2 bedroom sanctuary from the noisy city with modern industrial floors, warm honey colored furniture and white Scandinavian touches. Large eat in kitchen and massive balcony with a beautiful view of downtown NYC. W/D in unit, gym in the building and private elevator access to the apartment. Just blocks away from Prospect Park and tons of restaurants and bars. Truly a find in the quiet neighborhood of Lefferts Garden. Nearby subways are the 2 and the 5 train. The neighborhood boasts some of the best Caribbean food around. Experience living in a brand new industrial modern luxury apartment with brilliant views of Brooklyn and downtown manhattan one world tower. You will have a cozy private room and access to all the amenities in the living area. A private elevator brings you straight into the apartment. The apartment is tastefully done with leather furniture and restored wood counters and work areas. Paintings by local artists from Brooklyn line the apa    1\n",
       "Stay at our french cottage style home, near California beaches! Ride our bicycles - less than 15 minutes to the beach (1.4 miles away).  Get musically inspired by your hosts (Paul-touring drummer Capital Records, Maria - songwriter credits - Christina Aguilera)  Great for families, business, or long term stays. Live like a local! 3 bedroom 2.5 bath. Full amenities, luxury kitchen, sleeps 6 - close to many So Cal attractions, beaches,  restaurants and entertainment. Did we mention COMFY BEDS? Our personal home is a french style cottage at a reasonable cost.  Located in a perfect area one mile from the beach and close to many California attractions.  We accommodate business travelers, vacationers, housing guests for special occasions, etc.  Let us know if children are coming, as we  take extra care to childproof the house so you do not have to worry, and also provide at no cost, 2 toddler strollers and an airbed if desired. Live like a beach local in our beautiful home.  Vaulted ceilings    1\n",
       "This is a large bedroom with its own private entrance downstairs. Shared kitchen and bathroom. Beautiful room with a view looking out into Glen Park.                                                                                                                                                                                                                                                                                                                                                                                                                                                                                                                                                                                                                                                                                                                                                                                                                                                                                       1\n",
       "This space is originally my art space, but perhaps you would like sleeping there instead... Maybe you'll have a spark of creativity! Th You have access to the kitchen, living room, and bathroom of course! When I am not at work I would be happy to help or you can shoot me a text. Super close to the train and 2 stops away from the Barclays center. Super close to the train 2 stops away from the Barclays center with plenty of bus options as well. The bus to JFK within walking distance. Lots of steps                                                                                                                                                                                                                                                                                                                                                                                                                                                                                                                        1\n",
       "This charming railroad apartment is located on the border of two historic neighborhoods-- Inwood & Washington Heights It is not a luxury listing. However, the quirky, old, pre-war apartment is clean, comfortable, and located in the hottest up-and-coming neighborhood in Manhattan! This listing is ideal for travelers who’ve been to Manhattan and have seen the classic sites but want to try something new. Fun Fact: Lin-Manuel Miranda, Kareem Abdul Jabbar & many others were inspired by Inwood. All accommodations include free WiFi and complimentary access to coffee and teas. If the host is home and preparing meals, you are welcome to join her for breakfast, lunch, dinner, snacks or a drink. Kitchen is equipped with a microwave, full-sized refrigerator, gas stove and oven. The living room, eating area, kitchen and bathroom are all shared. I am here to make your experience in New York a memorable one. I look forward to calling you my guest. Inwood and Washington Heights are located at Manhatta    1\n",
       "My place is close to My place is close to Downtown SF, SOMA, Chinatown, Caltrain Station, AT&T Park, Muni Train Stations, Safeway, Walgreen, Whole Foods, Philz Coffee, Nama Sushi, Ferry Building. It is good for couples, solo adventurers, business travelers, and coupleonly you stay in the room.                                                                                                                                                                                                                                                                                                                                                                                                                                                                                                                                                                                                                                                                                                                                      1\n",
       "Luxury apartment on the East River, this building is top-shelf everything. Located in prestigious Murray Hill one block from the river, this apartment brings pleasure to the senses at every turn. High design and a near obsessive attention to the finest detail make this building one of the few truly special and unique addresses in all of Manhattan. Complete with high-end amenities, including a state-of-the-art fitness center, newly renovated, and a rooftop haven with breath-taking views.                                                                                                                                                                                                                                                                                                                                                                                                                                                                                                                                 1\n",
       "Gorgeous room in a fantastic building, with a pool, and in a great neighborhood! Just a walk to lots of shops and restaurants.  The room is fully furnished and has a decent sized walk in closet!  Cute and cozy! My guest room is private and cozy. You will have access to the shared bathroom and Kitchen, I would be happy to help with any information about the neighborhood you need! I live in a safe and beautiful neighborhood.  There are lots of shops and restaurants near by as well as a mall and several parks and hiking trails.  Close to major freeways as well, so easy to get around. I live right off the main drag, Ventura Blvd, where you can find anything you may need as well as catch a bus, which connects to the train system:)  Street parking only.                                                                                                                                                                                                                                                       1\n",
       "Just updated 3.5 BR | 2 BA condo that features 3 Queen bedrooms, 2 twin beds, 2 spacious living rooms, spacious kitchen, high ceilings, hardwood floors throughout, and central air conditioning.  Condo has an incredible location in Beacon Hill. - Just renovated 3.5 bedroom / 2 bathroom penthouse duplex condo (two floors) that features two large living rooms, and brand-new kitchen spread across 2,100 Sqft. - Located on Charles Street in Boston's historic Beacon Hill neighborhood, between Cambridge Street and Beacon Street, and just steps from the Charles / MGH MBTA Stop (subway), the Charles River Esplanade, and everything else that Beacon Hill Boston has to offer. - Our very comfortable, well-appointed 3.5 bedroom condo features a brand new kitchen, updated bathrooms, high-end appliances, 10'+ high ceilings, and brand-new hardwood floors throughout. CONDO DETAILS: LOWER LEVEL: - The large lower living room has windows that look out over Charles Street and features a dining room table wi    1\n",
       "Cozy and clean studio style space in a 1 bedroom Brownstone in Crown Heights. 20 minutes from Manhattan by subway and just a 25 minute walk to Prospect Park, Brooklyn Museum, Botanical Gardens. Convenient, up and coming neighborhood in Brooklyn. A train (few blocks away) will also take you straight to JFK in 45min. Please note you'll be sharing the kitchen and bathroom. Please note there is a very friendly adorable cat that lives in the apartment Full size bed in the living room area with curtain for privacy.A shared bathroom and kitchen.   I have an adorable friendly cat who lives in the apartment. Access to shared kitchen and shared bathroom is included. I will be available by phone provided after booking. A working-class neighborhood at the heart of Brooklyn’s Caribbean community and cultural art institutions. Laguardia Airport: 30 minutes by cab without traffic JFK Airport: 25 minutes by cab without traffic, 45 min by train Wall Street / Financial District: 26 minutes by subway Tim    1\n",
       "Brand new bright cozy studio with central air condition, big closet, has queen size bed, free high speed wifi. Quiet street,  easy street parking, 2 minutes walking to beach, 3 minutes walking to A train take you directly to Manhattan within 40 minutes. Access to guest room, bathroom, living area, kitchen, balcony. I would like to help you as much as I can with all information you need during your stay. Quiet street,  easy street parking, 2 minutes walking to beach, 3 minutes walking to A train take you directly to Manhattan within 40 minutes. 3 minutes walking to A train, 10 miles away to JFK Has kitchen, all furniture                                                                                                                                                                                                                                                                                                                                                                                         1\n",
       "Wonderful 1 bed  1 bath 800 Sqft furnished  English basement  apartment  with great natural light in a secluded street in one of the best areas of DC : 5 min from Georgetown, 10 min from downtown, all utilities included & parking. Enjoy it! This  is an about  800 sqft  cozy English basement  apt with  separate  entrance in a no  end street in one of the best neighborhoods  of DC:   Fully   equipped  & furnished has  the sleep  capacity of 4 people   (1  bed  plus a full size futon) tons of  natural light,  make  this   dog friendly apartment ideal for a small  family  to stay  and enjoy the  Capital of the  US. Guest will have access to  WIFI,   cable ,  the entire  apartment  with  private bathroom,  shared laundry and parking . The  family of 5  lives  above the  apartment ,  sharing   the  parking  space  ( 1 reserved space   for the   guest)  and  the  laundry. Guest will have access to  WIFI,   cable ,  the entire  apartment  with  full kitchen , private bathroom,  shared laundry     1\n",
       "Spacious 2-bedroom 2-bath flat at downtown San Francisco Centrally located in SOMA of San Francisco, this brand new, spacious and beautiful 2 bedroom 2 bathroom flat is perfect for small families touring the city and business travelers working in town or attending conferences.  It is within walking distance to Downtown, union square, Financial District, Moscone Center, Westerfield, China Town, Fisherman's Wharf and other tourist attractions and world famous shopping and dinning destinations. Public transportation is very convenient and efficient in San Francisco. Bart and muni station is just 3 blocks away, bus lines are around the corner and take you to all over. For  those of you who travel with a car, it is so close to the major freeways that it literally takes just one minutes to get on highway 101 and Interstate 80. The flat has two bedrooms, each has a queen size bed with high quality memory foam mattress and beddings. There is also a designer Fulton that can be opened up for a t    1\n",
       "Name: description, Length: 28685, dtype: int64"
      ]
     },
     "execution_count": 43,
     "metadata": {},
     "output_type": "execute_result"
    }
   ],
   "source": [
    "df.description.value_counts()\n",
    "#Demasiado complicado utilizar esta variable para el modelo:\n",
    "    #diferentes idiomas\n",
    "    #tendrías que encontrar comunes palabras? o algún denominador que te permita clasificar la descripción en distintos niveles"
   ]
  },
  {
   "cell_type": "code",
   "execution_count": 44,
   "metadata": {},
   "outputs": [],
   "source": [
    "df.drop(\"description\", axis=1, inplace=True)"
   ]
  },
  {
   "cell_type": "code",
   "execution_count": 45,
   "metadata": {},
   "outputs": [
    {
     "data": {
      "text/plain": [
       "(28877, 24)"
      ]
     },
     "execution_count": 45,
     "metadata": {},
     "output_type": "execute_result"
    }
   ],
   "source": [
    "df.shape"
   ]
  },
  {
   "cell_type": "markdown",
   "metadata": {},
   "source": [
    "### name"
   ]
  },
  {
   "cell_type": "code",
   "execution_count": 46,
   "metadata": {},
   "outputs": [
    {
     "data": {
      "text/plain": [
       "Brooklyn Oasis                                        4\n",
       "SHARED ROOM in VENICE BEACH HOSTEL                    3\n",
       "Venice Beach Cottage                                  3\n",
       "East Village Gem                                      3\n",
       "Bunk bed in the Treat Street Clubhouse                3\n",
       "Spacious Private Room in Brooklyn                     3\n",
       "Make的小屋（地理位置好，交通方便，洛杉矶市中心，提供机场名牌店景点等接送，包车游玩等服务）       3\n",
       "Private 1 Bedroom Apartment                           3\n",
       "West Village 1 Bedroom Apartment                      2\n",
       "Spacious Apartment                                    2\n",
       "Beautiful Private Room near University of Chicago     2\n",
       "In the city!Central park!                             2\n",
       "Lux 2 BR in the Heart of Fenway w/WiFi                2\n",
       "Luxury Upper East Side Apartment                      2\n",
       "舒适双人房                                                 2\n",
       "Luxury Condo - JP/BU/Fenway/Longwood/downtown/MBTA    2\n",
       "Bright and spacious 1 bedroom                         2\n",
       "Comfortable shared room in Manhattan Chinatown        2\n",
       "Large entire apartment located in Lincoln Park        2\n",
       "Deluxe Loft Suite with Patio                          2\n",
       "Cozy room in great location                           2\n",
       "Beverly Hills Retreat                                 2\n",
       "Master bedroom close to Columbia University           2\n",
       "Downtown Crossing ARTlab, 1 Bed Apt, Boston           2\n",
       "Spacious 1-bedroom in Ditmas Park                     2\n",
       "Room rent for close to Manhattan                      2\n",
       "Luxurious Shared Apartment in NY                      2\n",
       "Venice Beach Modern Guest House                       2\n",
       "Private Room with Two Twin Beds                       2\n",
       "The Treehouse                                         2\n",
       "                                                     ..\n",
       "206 Exec Lux 1 Bedroom Near UCLA in WLA prime loc     1\n",
       "Fenway/BU/Backbay 6                                   1\n",
       "Newly Renovated 1BR  North End/Little Italy           1\n",
       "Rm #1 River view Hamilton Heights                     1\n",
       "Beautiful Williamsburg 1.5 BR-9 min to NYC!           1\n",
       "Central Park Sanctuary                                1\n",
       "Quiet 1br in a Mansion!                               1\n",
       "2 bedroom 1 bath Apt in Westwood                      1\n",
       "Bright 1BD Apt Downtown Manhattan                     1\n",
       "2br-1ba private guest-suite in Noe Valley             1\n",
       "Recently built standalone home close to downtown!     1\n",
       "Central Park - our kid friendly pad                   1\n",
       "Cozy West Harlem Abode                                1\n",
       "Spacious/Perfect4Families/15min2Universl/Hollywood    1\n",
       "LA Fashion District Penthouse Loft                    1\n",
       "Sun Drenched Master Bedroom in Brooklyn Apartment     1\n",
       "Peaceful bedroom with private deck.                   1\n",
       "Venice House! 20ft from the Beach!                    1\n",
       "Huge 2 Bedroom, Great Location, Express Metro         1\n",
       "Awesome Chelsea Manhattan Pad                         1\n",
       "BedStuy Parlor near A&J Trains JFK                    1\n",
       "Private Bedroom in Beautiful Astoria Apt              1\n",
       "Full Apartment for Rent                               1\n",
       "High Rise Apt on 5th Ave. Across from Central Park    1\n",
       "Wrigley XL Master Bedroom/Bath on SEPARATE FLOOR!     1\n",
       "Well located and charming 1bd in Manhattan            1\n",
       "Enormous 3-Bedroom Manhattan Duplex W/Garden!         1\n",
       "Natural light, quiet neighborhood                     1\n",
       "Cozy Room in Park Slope                               1\n",
       "2 Bedroom, Central San Francisco                      1\n",
       "Name: name, Length: 28765, dtype: int64"
      ]
     },
     "execution_count": 46,
     "metadata": {},
     "output_type": "execute_result"
    }
   ],
   "source": [
    "df.name.value_counts()\n",
    "#mismo tema con description"
   ]
  },
  {
   "cell_type": "code",
   "execution_count": 47,
   "metadata": {},
   "outputs": [],
   "source": [
    "df.drop(\"name\", axis=1, inplace=True)"
   ]
  },
  {
   "cell_type": "code",
   "execution_count": 48,
   "metadata": {},
   "outputs": [
    {
     "data": {
      "text/plain": [
       "(28877, 23)"
      ]
     },
     "execution_count": 48,
     "metadata": {},
     "output_type": "execute_result"
    }
   ],
   "source": [
    "df.shape"
   ]
  },
  {
   "cell_type": "markdown",
   "metadata": {},
   "source": [
    "### neighbourhood"
   ]
  },
  {
   "cell_type": "code",
   "execution_count": 19,
   "metadata": {},
   "outputs": [
    {
     "data": {
      "text/plain": [
       "Williamsburg                        1139\n",
       "Bedford-Stuyvesant                  1017\n",
       "Mid-Wilshire                         660\n",
       "Bushwick                             649\n",
       "Hell's Kitchen                       604\n",
       "Harlem                               592\n",
       "Hollywood                            568\n",
       "Upper West Side                      510\n",
       "Upper East Side                      501\n",
       "Venice                               495\n",
       "Crown Heights                        461\n",
       "Astoria                              368\n",
       "East Harlem                          363\n",
       "Mission District                     346\n",
       "Lower East Side                      337\n",
       "East Village                         314\n",
       "Chelsea                              289\n",
       "Long Beach                           278\n",
       "West Hollywood                       275\n",
       "Washington Heights                   269\n",
       "Hamilton Heights                     267\n",
       "Santa Monica                         261\n",
       "Greenpoint                           260\n",
       "Alphabet City                        251\n",
       "Clinton Hill                         246\n",
       "Park Slope                           244\n",
       "Flatbush                             236\n",
       "West Village                         231\n",
       "Downtown                             230\n",
       "Silver Lake                          210\n",
       "                                    ... \n",
       "The Castro                           132\n",
       "North Hollywood                      132\n",
       "Sunnyside                            131\n",
       "Financial District                   127\n",
       "Logan Square                         125\n",
       "Midtown                              124\n",
       "Outer Sunset                         119\n",
       "Lefferts Garden                      117\n",
       "Greenwich Village                    116\n",
       "Westwood                             116\n",
       "Kips Bay                             114\n",
       "Roxbury                              113\n",
       "Beacon Hill                          112\n",
       "Del Rey                              112\n",
       "West Los Angeles                     109\n",
       "Ridgewood                            107\n",
       "Prospect Heights                     106\n",
       "Columbia Heights                     105\n",
       "Mid-City                             104\n",
       "Westchester/Playa Del Rey            102\n",
       "Near Northeast/H Street Corridor     102\n",
       "Fort Greene                          101\n",
       "Glendale                             101\n",
       "Flushing                             101\n",
       "South LA                             101\n",
       "East New York                         97\n",
       "Lakeview                              96\n",
       "Fenway/Kenmore                        95\n",
       "Burbank                               94\n",
       "Marina Del Rey                        94\n",
       "Name: neighbourhood, Length: 80, dtype: int64"
      ]
     },
     "execution_count": 19,
     "metadata": {},
     "output_type": "execute_result"
    }
   ],
   "source": [
    "df.neighbourhood.value_counts().head(n=80)"
   ]
  },
  {
   "cell_type": "code",
   "execution_count": 58,
   "metadata": {},
   "outputs": [
    {
     "name": "stdout",
     "output_type": "stream",
     "text": [
      "13379 7571 2713 1815 1776 1623\n"
     ]
    }
   ],
   "source": [
    "print(len(df.neighbourhood[df.city == 'NYC']),\n",
    "        len(df.neighbourhood[df.city == 'LA']),\n",
    "        len(df.neighbourhood[df.city == 'SF']),\n",
    "        len(df.neighbourhood[df.city == 'DC']),\n",
    "        len(df.neighbourhood[df.city == 'Boston']),\n",
    "        len(df.neighbourhood[df.city == 'Chicago'])\n",
    "     )"
   ]
  },
  {
   "cell_type": "code",
   "execution_count": 56,
   "metadata": {},
   "outputs": [
    {
     "data": {
      "text/plain": [
       "Williamsburg          1139\n",
       "Bedford-Stuyvesant    1017\n",
       "Bushwick               649\n",
       "Hell's Kitchen         604\n",
       "Harlem                 592\n",
       "Upper West Side        510\n",
       "Upper East Side        501\n",
       "Crown Heights          461\n",
       "Astoria                368\n",
       "East Harlem            363\n",
       "Name: neighbourhood, dtype: int64"
      ]
     },
     "execution_count": 56,
     "metadata": {},
     "output_type": "execute_result"
    }
   ],
   "source": [
    "df.neighbourhood[df.city == 'NYC'].value_counts().head(n=10)"
   ]
  },
  {
   "cell_type": "code",
   "execution_count": 57,
   "metadata": {},
   "outputs": [
    {
     "data": {
      "text/plain": [
       "Mid-Wilshire      660\n",
       "Hollywood         568\n",
       "Venice            495\n",
       "Long Beach        278\n",
       "West Hollywood    275\n",
       "Santa Monica      261\n",
       "Silver Lake       210\n",
       "Echo Park         186\n",
       "Pasadena          170\n",
       "Downtown          167\n",
       "Name: neighbourhood, dtype: int64"
      ]
     },
     "execution_count": 57,
     "metadata": {},
     "output_type": "execute_result"
    }
   ],
   "source": [
    "df.neighbourhood[df.city == 'LA'].value_counts().head(n=10)"
   ]
  },
  {
   "cell_type": "code",
   "execution_count": 16,
   "metadata": {},
   "outputs": [
    {
     "data": {
      "text/plain": [
       "property_type             0\n",
       "room_type                 0\n",
       "amenities                 0\n",
       "accommodates              0\n",
       "bathrooms                 0\n",
       "bed_type                  0\n",
       "cancellation_policy       0\n",
       "cleaning_fee              0\n",
       "city                      0\n",
       "description               0\n",
       "first_review              0\n",
       "host_has_profile_pic      0\n",
       "host_identity_verified    0\n",
       "host_response_rate        0\n",
       "host_since                0\n",
       "instant_bookable          0\n",
       "last_review               0\n",
       "latitude                  0\n",
       "longitude                 0\n",
       "name                      0\n",
       "neighbourhood             0\n",
       "number_of_reviews         0\n",
       "review_scores_rating      0\n",
       "thumbnail_url             0\n",
       "zipcode                   0\n",
       "bedrooms                  0\n",
       "beds                      0\n",
       "price                     0\n",
       "dtype: int64"
      ]
     },
     "execution_count": 16,
     "metadata": {},
     "output_type": "execute_result"
    }
   ],
   "source": [
    "df.isnull().sum()"
   ]
  }
 ],
 "metadata": {
  "kernelspec": {
   "display_name": "Python 3",
   "language": "python",
   "name": "python3"
  },
  "language_info": {
   "codemirror_mode": {
    "name": "ipython",
    "version": 3
   },
   "file_extension": ".py",
   "mimetype": "text/x-python",
   "name": "python",
   "nbconvert_exporter": "python",
   "pygments_lexer": "ipython3",
   "version": "3.7.3"
  }
 },
 "nbformat": 4,
 "nbformat_minor": 2
}
