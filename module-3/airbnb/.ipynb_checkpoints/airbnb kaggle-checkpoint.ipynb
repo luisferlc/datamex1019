{
 "cells": [
  {
   "cell_type": "markdown",
   "metadata": {},
   "source": [
    "# Airbnb: predicción de precios de hosts"
   ]
  },
  {
   "cell_type": "code",
   "execution_count": 1,
   "metadata": {},
   "outputs": [],
   "source": [
    "import warnings\n",
    "warnings.simplefilter('ignore')\n",
    "import pandas as pd\n",
    "import numpy as np\n",
    "import seaborn as sns\n",
    "import matplotlib.pyplot as plt"
   ]
  },
  {
   "cell_type": "code",
   "execution_count": 2,
   "metadata": {},
   "outputs": [],
   "source": [
    "df= pd.read_csv(\"airbnb_data.csv\")"
   ]
  },
  {
   "cell_type": "code",
   "execution_count": 3,
   "metadata": {},
   "outputs": [
    {
     "data": {
      "text/html": [
       "<div>\n",
       "<style scoped>\n",
       "    .dataframe tbody tr th:only-of-type {\n",
       "        vertical-align: middle;\n",
       "    }\n",
       "\n",
       "    .dataframe tbody tr th {\n",
       "        vertical-align: top;\n",
       "    }\n",
       "\n",
       "    .dataframe thead th {\n",
       "        text-align: right;\n",
       "    }\n",
       "</style>\n",
       "<table border=\"1\" class=\"dataframe\">\n",
       "  <thead>\n",
       "    <tr style=\"text-align: right;\">\n",
       "      <th></th>\n",
       "      <th>property_type</th>\n",
       "      <th>room_type</th>\n",
       "      <th>amenities</th>\n",
       "      <th>accommodates</th>\n",
       "      <th>bathrooms</th>\n",
       "      <th>bed_type</th>\n",
       "      <th>cancellation_policy</th>\n",
       "      <th>cleaning_fee</th>\n",
       "      <th>city</th>\n",
       "      <th>description</th>\n",
       "      <th>...</th>\n",
       "      <th>longitude</th>\n",
       "      <th>name</th>\n",
       "      <th>neighbourhood</th>\n",
       "      <th>number_of_reviews</th>\n",
       "      <th>review_scores_rating</th>\n",
       "      <th>thumbnail_url</th>\n",
       "      <th>zipcode</th>\n",
       "      <th>bedrooms</th>\n",
       "      <th>beds</th>\n",
       "      <th>price</th>\n",
       "    </tr>\n",
       "  </thead>\n",
       "  <tbody>\n",
       "    <tr>\n",
       "      <th>0</th>\n",
       "      <td>Apartment</td>\n",
       "      <td>Entire home/apt</td>\n",
       "      <td>{\"Wireless Internet\",\"Air conditioning\",Kitche...</td>\n",
       "      <td>7</td>\n",
       "      <td>1.0</td>\n",
       "      <td>Real Bed</td>\n",
       "      <td>strict</td>\n",
       "      <td>True</td>\n",
       "      <td>NYC</td>\n",
       "      <td>Enjoy travelling during your stay in Manhattan...</td>\n",
       "      <td>...</td>\n",
       "      <td>-73.989040</td>\n",
       "      <td>Superb 3BR Apt Located Near Times Square</td>\n",
       "      <td>Hell's Kitchen</td>\n",
       "      <td>6</td>\n",
       "      <td>93.0</td>\n",
       "      <td>https://a0.muscache.com/im/pictures/348a55fe-4...</td>\n",
       "      <td>10019</td>\n",
       "      <td>3.0</td>\n",
       "      <td>3.0</td>\n",
       "      <td>169.0</td>\n",
       "    </tr>\n",
       "    <tr>\n",
       "      <th>1</th>\n",
       "      <td>Apartment</td>\n",
       "      <td>Private room</td>\n",
       "      <td>{TV,\"Wireless Internet\",Heating,\"Smoke detecto...</td>\n",
       "      <td>2</td>\n",
       "      <td>1.0</td>\n",
       "      <td>Real Bed</td>\n",
       "      <td>strict</td>\n",
       "      <td>True</td>\n",
       "      <td>SF</td>\n",
       "      <td>Beautiful private room overlooking scenic view...</td>\n",
       "      <td>...</td>\n",
       "      <td>-122.429526</td>\n",
       "      <td>Comfort Suite San Francisco</td>\n",
       "      <td>Noe Valley</td>\n",
       "      <td>3</td>\n",
       "      <td>100.0</td>\n",
       "      <td>https://a0.muscache.com/im/pictures/82509143-4...</td>\n",
       "      <td>94131</td>\n",
       "      <td>1.0</td>\n",
       "      <td>1.0</td>\n",
       "      <td>85.0</td>\n",
       "    </tr>\n",
       "    <tr>\n",
       "      <th>2</th>\n",
       "      <td>Condominium</td>\n",
       "      <td>Entire home/apt</td>\n",
       "      <td>{TV,\"Cable TV\",\"Wireless Internet\",\"Wheelchair...</td>\n",
       "      <td>2</td>\n",
       "      <td>1.0</td>\n",
       "      <td>Real Bed</td>\n",
       "      <td>moderate</td>\n",
       "      <td>True</td>\n",
       "      <td>LA</td>\n",
       "      <td>Arguably the best location (and safest) in dow...</td>\n",
       "      <td>...</td>\n",
       "      <td>-118.260439</td>\n",
       "      <td>Near LA Live, Staple's. Starbucks inside. OWN ...</td>\n",
       "      <td>Downtown</td>\n",
       "      <td>9</td>\n",
       "      <td>93.0</td>\n",
       "      <td>https://a0.muscache.com/im/pictures/61bd05d5-c...</td>\n",
       "      <td>90015</td>\n",
       "      <td>1.0</td>\n",
       "      <td>1.0</td>\n",
       "      <td>120.0</td>\n",
       "    </tr>\n",
       "    <tr>\n",
       "      <th>3</th>\n",
       "      <td>House</td>\n",
       "      <td>Private room</td>\n",
       "      <td>{TV,\"Cable TV\",\"Wireless Internet\",\"Pets live ...</td>\n",
       "      <td>2</td>\n",
       "      <td>1.0</td>\n",
       "      <td>Real Bed</td>\n",
       "      <td>moderate</td>\n",
       "      <td>True</td>\n",
       "      <td>SF</td>\n",
       "      <td>Garden Studio with private entrance from the s...</td>\n",
       "      <td>...</td>\n",
       "      <td>-122.501095</td>\n",
       "      <td>Cozy Garden Studio - Private Entry</td>\n",
       "      <td>Richmond District</td>\n",
       "      <td>159</td>\n",
       "      <td>99.0</td>\n",
       "      <td>https://a0.muscache.com/im/pictures/0ed6c128-7...</td>\n",
       "      <td>94121</td>\n",
       "      <td>1.0</td>\n",
       "      <td>1.0</td>\n",
       "      <td>120.0</td>\n",
       "    </tr>\n",
       "    <tr>\n",
       "      <th>4</th>\n",
       "      <td>Apartment</td>\n",
       "      <td>Private room</td>\n",
       "      <td>{Internet,\"Wireless Internet\",\"Air conditionin...</td>\n",
       "      <td>2</td>\n",
       "      <td>1.0</td>\n",
       "      <td>Real Bed</td>\n",
       "      <td>strict</td>\n",
       "      <td>True</td>\n",
       "      <td>NYC</td>\n",
       "      <td>This is a bright bedroom in an historic buildi...</td>\n",
       "      <td>...</td>\n",
       "      <td>-73.983880</td>\n",
       "      <td>Large East Village Bedroom To Let!</td>\n",
       "      <td>Alphabet City</td>\n",
       "      <td>82</td>\n",
       "      <td>93.0</td>\n",
       "      <td>https://a0.muscache.com/im/pictures/21726900/1...</td>\n",
       "      <td>10009.0</td>\n",
       "      <td>1.0</td>\n",
       "      <td>1.0</td>\n",
       "      <td>100.0</td>\n",
       "    </tr>\n",
       "  </tbody>\n",
       "</table>\n",
       "<p>5 rows × 28 columns</p>\n",
       "</div>"
      ],
      "text/plain": [
       "  property_type        room_type  \\\n",
       "0     Apartment  Entire home/apt   \n",
       "1     Apartment     Private room   \n",
       "2   Condominium  Entire home/apt   \n",
       "3         House     Private room   \n",
       "4     Apartment     Private room   \n",
       "\n",
       "                                           amenities  accommodates  bathrooms  \\\n",
       "0  {\"Wireless Internet\",\"Air conditioning\",Kitche...             7        1.0   \n",
       "1  {TV,\"Wireless Internet\",Heating,\"Smoke detecto...             2        1.0   \n",
       "2  {TV,\"Cable TV\",\"Wireless Internet\",\"Wheelchair...             2        1.0   \n",
       "3  {TV,\"Cable TV\",\"Wireless Internet\",\"Pets live ...             2        1.0   \n",
       "4  {Internet,\"Wireless Internet\",\"Air conditionin...             2        1.0   \n",
       "\n",
       "   bed_type cancellation_policy  cleaning_fee city  \\\n",
       "0  Real Bed              strict          True  NYC   \n",
       "1  Real Bed              strict          True   SF   \n",
       "2  Real Bed            moderate          True   LA   \n",
       "3  Real Bed            moderate          True   SF   \n",
       "4  Real Bed              strict          True  NYC   \n",
       "\n",
       "                                         description  ...   longitude  \\\n",
       "0  Enjoy travelling during your stay in Manhattan...  ...  -73.989040   \n",
       "1  Beautiful private room overlooking scenic view...  ... -122.429526   \n",
       "2  Arguably the best location (and safest) in dow...  ... -118.260439   \n",
       "3  Garden Studio with private entrance from the s...  ... -122.501095   \n",
       "4  This is a bright bedroom in an historic buildi...  ...  -73.983880   \n",
       "\n",
       "                                                name      neighbourhood  \\\n",
       "0           Superb 3BR Apt Located Near Times Square     Hell's Kitchen   \n",
       "1                        Comfort Suite San Francisco         Noe Valley   \n",
       "2  Near LA Live, Staple's. Starbucks inside. OWN ...           Downtown   \n",
       "3                 Cozy Garden Studio - Private Entry  Richmond District   \n",
       "4                 Large East Village Bedroom To Let!      Alphabet City   \n",
       "\n",
       "  number_of_reviews review_scores_rating  \\\n",
       "0                 6                 93.0   \n",
       "1                 3                100.0   \n",
       "2                 9                 93.0   \n",
       "3               159                 99.0   \n",
       "4                82                 93.0   \n",
       "\n",
       "                                       thumbnail_url  zipcode  bedrooms  beds  \\\n",
       "0  https://a0.muscache.com/im/pictures/348a55fe-4...    10019       3.0   3.0   \n",
       "1  https://a0.muscache.com/im/pictures/82509143-4...    94131       1.0   1.0   \n",
       "2  https://a0.muscache.com/im/pictures/61bd05d5-c...    90015       1.0   1.0   \n",
       "3  https://a0.muscache.com/im/pictures/0ed6c128-7...    94121       1.0   1.0   \n",
       "4  https://a0.muscache.com/im/pictures/21726900/1...  10009.0       1.0   1.0   \n",
       "\n",
       "   price  \n",
       "0  169.0  \n",
       "1   85.0  \n",
       "2  120.0  \n",
       "3  120.0  \n",
       "4  100.0  \n",
       "\n",
       "[5 rows x 28 columns]"
      ]
     },
     "execution_count": 3,
     "metadata": {},
     "output_type": "execute_result"
    }
   ],
   "source": [
    "df.head()"
   ]
  },
  {
   "cell_type": "code",
   "execution_count": 4,
   "metadata": {},
   "outputs": [
    {
     "data": {
      "text/plain": [
       "(28877, 28)"
      ]
     },
     "execution_count": 4,
     "metadata": {},
     "output_type": "execute_result"
    }
   ],
   "source": [
    "df.shape"
   ]
  },
  {
   "cell_type": "code",
   "execution_count": 5,
   "metadata": {},
   "outputs": [
    {
     "data": {
      "text/plain": [
       "Index(['property_type', 'room_type', 'amenities', 'accommodates', 'bathrooms',\n",
       "       'bed_type', 'cancellation_policy', 'cleaning_fee', 'city',\n",
       "       'description', 'first_review', 'host_has_profile_pic',\n",
       "       'host_identity_verified', 'host_response_rate', 'host_since',\n",
       "       'instant_bookable', 'last_review', 'latitude', 'longitude', 'name',\n",
       "       'neighbourhood', 'number_of_reviews', 'review_scores_rating',\n",
       "       'thumbnail_url', 'zipcode', 'bedrooms', 'beds', 'price'],\n",
       "      dtype='object')"
      ]
     },
     "execution_count": 5,
     "metadata": {},
     "output_type": "execute_result"
    }
   ],
   "source": [
    "df.columns"
   ]
  },
  {
   "cell_type": "code",
   "execution_count": 6,
   "metadata": {},
   "outputs": [
    {
     "data": {
      "text/html": [
       "<div>\n",
       "<style scoped>\n",
       "    .dataframe tbody tr th:only-of-type {\n",
       "        vertical-align: middle;\n",
       "    }\n",
       "\n",
       "    .dataframe tbody tr th {\n",
       "        vertical-align: top;\n",
       "    }\n",
       "\n",
       "    .dataframe thead th {\n",
       "        text-align: right;\n",
       "    }\n",
       "</style>\n",
       "<table border=\"1\" class=\"dataframe\">\n",
       "  <thead>\n",
       "    <tr style=\"text-align: right;\">\n",
       "      <th></th>\n",
       "      <th>first_review</th>\n",
       "      <th>host_has_profile_pic</th>\n",
       "      <th>host_identity_verified</th>\n",
       "      <th>host_response_rate</th>\n",
       "      <th>host_since</th>\n",
       "      <th>instant_bookable</th>\n",
       "      <th>last_review</th>\n",
       "    </tr>\n",
       "  </thead>\n",
       "  <tbody>\n",
       "    <tr>\n",
       "      <th>0</th>\n",
       "      <td>2017-08-05</td>\n",
       "      <td>t</td>\n",
       "      <td>f</td>\n",
       "      <td>100%</td>\n",
       "      <td>2017-06-19</td>\n",
       "      <td>t</td>\n",
       "      <td>2017-09-23</td>\n",
       "    </tr>\n",
       "    <tr>\n",
       "      <th>1</th>\n",
       "      <td>2017-08-27</td>\n",
       "      <td>t</td>\n",
       "      <td>t</td>\n",
       "      <td>100%</td>\n",
       "      <td>2017-06-07</td>\n",
       "      <td>t</td>\n",
       "      <td>2017-09-05</td>\n",
       "    </tr>\n",
       "    <tr>\n",
       "      <th>2</th>\n",
       "      <td>2016-12-16</td>\n",
       "      <td>t</td>\n",
       "      <td>t</td>\n",
       "      <td>100%</td>\n",
       "      <td>2013-05-18</td>\n",
       "      <td>f</td>\n",
       "      <td>2017-04-12</td>\n",
       "    </tr>\n",
       "    <tr>\n",
       "      <th>3</th>\n",
       "      <td>2016-02-13</td>\n",
       "      <td>t</td>\n",
       "      <td>f</td>\n",
       "      <td>100%</td>\n",
       "      <td>2015-06-04</td>\n",
       "      <td>f</td>\n",
       "      <td>2017-09-24</td>\n",
       "    </tr>\n",
       "    <tr>\n",
       "      <th>4</th>\n",
       "      <td>2013-04-28</td>\n",
       "      <td>t</td>\n",
       "      <td>t</td>\n",
       "      <td>100%</td>\n",
       "      <td>2013-03-27</td>\n",
       "      <td>f</td>\n",
       "      <td>2016-11-15</td>\n",
       "    </tr>\n",
       "  </tbody>\n",
       "</table>\n",
       "</div>"
      ],
      "text/plain": [
       "  first_review host_has_profile_pic host_identity_verified host_response_rate  \\\n",
       "0   2017-08-05                    t                      f               100%   \n",
       "1   2017-08-27                    t                      t               100%   \n",
       "2   2016-12-16                    t                      t               100%   \n",
       "3   2016-02-13                    t                      f               100%   \n",
       "4   2013-04-28                    t                      t               100%   \n",
       "\n",
       "   host_since instant_bookable last_review  \n",
       "0  2017-06-19                t  2017-09-23  \n",
       "1  2017-06-07                t  2017-09-05  \n",
       "2  2013-05-18                f  2017-04-12  \n",
       "3  2015-06-04                f  2017-09-24  \n",
       "4  2013-03-27                f  2016-11-15  "
      ]
     },
     "execution_count": 6,
     "metadata": {},
     "output_type": "execute_result"
    }
   ],
   "source": [
    "df[['first_review', 'host_has_profile_pic','host_identity_verified', 'host_response_rate', 'host_since','instant_bookable', 'last_review']].head()"
   ]
  },
  {
   "cell_type": "markdown",
   "metadata": {},
   "source": [
    "# Limpieza de los datos"
   ]
  },
  {
   "cell_type": "markdown",
   "metadata": {},
   "source": [
    "### Tareas por hacer:\n",
    "1. Ver colinealidades entre variables contínuas\n",
    "2. Limpieza de categóricas y datetimes.\n",
    "3. Extraer los valores de \"amenities\" en distintas columnas.\n",
    "4. Ver la manera de pasar a nominal la columna neighbourhood o dropearla.\n",
    "5. NaN's\n",
    "6. Outliers y normalización de variables contínuas.\n",
    "7. De categóricas a nominal: One-Hot-Encoding, Label-encoding?"
   ]
  },
  {
   "cell_type": "markdown",
   "metadata": {},
   "source": [
    "## 1. Colinealidades"
   ]
  },
  {
   "cell_type": "code",
   "execution_count": 7,
   "metadata": {},
   "outputs": [
    {
     "data": {
      "image/png": "[encoded data removed]",
      "text/plain": [
       "<Figure size 864x720 with 2 Axes>"
      ]
     },
     "metadata": {
      "needs_background": "light"
     },
     "output_type": "display_data"
    }
   ],
   "source": [
    "plt.figure(figsize=(12,10))\n",
    "sns.heatmap(df.corr(), cmap='viridis');"
   ]
  },
  {
   "cell_type": "code",
   "execution_count": 8,
   "metadata": {},
   "outputs": [],
   "source": [
    "#En este momento, la única correlación alta que existe es entre latitud y longitud.\n",
    "#Sin embargo, usare esta información para luego obtener las distancias entre zipcodes:\n",
    "#df.drop(\"latitude\", axis=1, inplace=True)\n",
    "#df.drop(\"longitude\", axis=1, inplace=True)"
   ]
  },
  {
   "cell_type": "markdown",
   "metadata": {},
   "source": [
    "## 2. Limpieza de categóricas y datetimes"
   ]
  },
  {
   "cell_type": "markdown",
   "metadata": {},
   "source": [
    "### property_type"
   ]
  },
  {
   "cell_type": "code",
   "execution_count": 9,
   "metadata": {},
   "outputs": [
    {
     "data": {
      "text/plain": [
       "Apartment             18543\n",
       "House                  6655\n",
       "Condominium            1081\n",
       "Townhouse               720\n",
       "Loft                    552\n",
       "Other                   260\n",
       "Guesthouse              248\n",
       "Bed & Breakfast         214\n",
       "Bungalow                166\n",
       "Guest suite              72\n",
       "Dorm                     61\n",
       "Villa                    54\n",
       "In-law                   44\n",
       "Hostel                   36\n",
       "Cabin                    32\n",
       "Timeshare                26\n",
       "Camper/RV                24\n",
       "Boat                     22\n",
       "Boutique hotel           20\n",
       "Castle                    9\n",
       "Serviced apartment        9\n",
       "Tent                      7\n",
       "Vacation home             4\n",
       "Hut                       4\n",
       "Chalet                    4\n",
       "Tipi                      3\n",
       "Cave                      2\n",
       "Treehouse                 2\n",
       "Earth House               2\n",
       "Yurt                      1\n",
       "Name: property_type, dtype: int64"
      ]
     },
     "execution_count": 9,
     "metadata": {},
     "output_type": "execute_result"
    }
   ],
   "source": [
    "df.property_type.value_counts()"
   ]
  },
  {
   "cell_type": "code",
   "execution_count": 10,
   "metadata": {},
   "outputs": [],
   "source": [
    "#voy a tomar en cuenta los primeros 6 conceptos, ya que se llevan más del 90% de los datos. \n",
    "#A los demás los voy a clasificar como 'Others'"
   ]
  },
  {
   "cell_type": "code",
   "execution_count": 11,
   "metadata": {},
   "outputs": [],
   "source": [
    "for e in range(len(df)):\n",
    "    if df.property_type[e] not in ['Apartment','House','Condominium','Townhouse','Loft','Guesthouse']:\n",
    "        df.property_type[e] = \"Other\""
   ]
  },
  {
   "cell_type": "code",
   "execution_count": 12,
   "metadata": {},
   "outputs": [
    {
     "data": {
      "text/plain": [
       "Apartment      18543\n",
       "House           6655\n",
       "Condominium     1081\n",
       "Other           1078\n",
       "Townhouse        720\n",
       "Loft             552\n",
       "Guesthouse       248\n",
       "Name: property_type, dtype: int64"
      ]
     },
     "execution_count": 12,
     "metadata": {},
     "output_type": "execute_result"
    }
   ],
   "source": [
    "df.property_type.value_counts()"
   ]
  },
  {
   "cell_type": "markdown",
   "metadata": {},
   "source": [
    "### room_type"
   ]
  },
  {
   "cell_type": "code",
   "execution_count": 13,
   "metadata": {},
   "outputs": [
    {
     "data": {
      "text/plain": [
       "Entire home/apt    16158\n",
       "Private room       11993\n",
       "Shared room          726\n",
       "Name: room_type, dtype: int64"
      ]
     },
     "execution_count": 13,
     "metadata": {},
     "output_type": "execute_result"
    }
   ],
   "source": [
    "df.room_type.value_counts()"
   ]
  },
  {
   "cell_type": "markdown",
   "metadata": {},
   "source": [
    "### bed_type"
   ]
  },
  {
   "cell_type": "code",
   "execution_count": 14,
   "metadata": {},
   "outputs": [
    {
     "data": {
      "text/plain": [
       "Real Bed         28092\n",
       "Futon              319\n",
       "Pull-out Sofa      246\n",
       "Airbed             146\n",
       "Couch               74\n",
       "Name: bed_type, dtype: int64"
      ]
     },
     "execution_count": 14,
     "metadata": {},
     "output_type": "execute_result"
    }
   ],
   "source": [
    "df.bed_type.value_counts()\n",
    "#Casi el 100% de los datos estan concentrados en \"Real Bed\". No se si esto represente un sezgo para el modelo después.\n",
    "#Aun si pusiera como \"Others\" los demás valores, creo que no tiene mucho caso esta columna."
   ]
  },
  {
   "cell_type": "code",
   "execution_count": 15,
   "metadata": {},
   "outputs": [],
   "source": [
    "df.drop(\"bed_type\", axis=1, inplace=True)"
   ]
  },
  {
   "cell_type": "code",
   "execution_count": 16,
   "metadata": {},
   "outputs": [
    {
     "data": {
      "text/plain": [
       "(28877, 27)"
      ]
     },
     "execution_count": 16,
     "metadata": {},
     "output_type": "execute_result"
    }
   ],
   "source": [
    "df.shape"
   ]
  },
  {
   "cell_type": "markdown",
   "metadata": {},
   "source": [
    "### cancellation_policy"
   ]
  },
  {
   "cell_type": "code",
   "execution_count": 17,
   "metadata": {},
   "outputs": [
    {
     "data": {
      "text/plain": [
       "strict             14816\n",
       "moderate            8492\n",
       "flexible            5539\n",
       "super_strict_30       25\n",
       "super_strict_60        5\n",
       "Name: cancellation_policy, dtype: int64"
      ]
     },
     "execution_count": 17,
     "metadata": {},
     "output_type": "execute_result"
    }
   ],
   "source": [
    "df.cancellation_policy.value_counts()\n",
    "#Voy a integrar los valores \"super_strict\" como \"strict\""
   ]
  },
  {
   "cell_type": "code",
   "execution_count": 18,
   "metadata": {},
   "outputs": [],
   "source": [
    "for e in range(len(df)):\n",
    "    if \"super_\" in df.cancellation_policy[e]:\n",
    "        df.cancellation_policy[e] = \"strict\""
   ]
  },
  {
   "cell_type": "code",
   "execution_count": 19,
   "metadata": {},
   "outputs": [
    {
     "data": {
      "text/plain": [
       "strict      14846\n",
       "moderate     8492\n",
       "flexible     5539\n",
       "Name: cancellation_policy, dtype: int64"
      ]
     },
     "execution_count": 19,
     "metadata": {},
     "output_type": "execute_result"
    }
   ],
   "source": [
    "df.cancellation_policy.value_counts()"
   ]
  },
  {
   "cell_type": "markdown",
   "metadata": {},
   "source": [
    "### cleaning_fee"
   ]
  },
  {
   "cell_type": "code",
   "execution_count": 20,
   "metadata": {},
   "outputs": [
    {
     "data": {
      "text/plain": [
       "True     23693\n",
       "False     5184\n",
       "Name: cleaning_fee, dtype: int64"
      ]
     },
     "execution_count": 20,
     "metadata": {},
     "output_type": "execute_result"
    }
   ],
   "source": [
    "df.cleaning_fee.value_counts()\n",
    "#ya lista para pasar a contínua"
   ]
  },
  {
   "cell_type": "markdown",
   "metadata": {},
   "source": [
    "### city"
   ]
  },
  {
   "cell_type": "code",
   "execution_count": 21,
   "metadata": {},
   "outputs": [
    {
     "data": {
      "text/plain": [
       "NYC        13379\n",
       "LA          7571\n",
       "SF          2713\n",
       "DC          1815\n",
       "Boston      1776\n",
       "Chicago     1623\n",
       "Name: city, dtype: int64"
      ]
     },
     "execution_count": 21,
     "metadata": {},
     "output_type": "execute_result"
    }
   ],
   "source": [
    "df.city.value_counts()\n",
    "#ya lista para pasar a contínua"
   ]
  },
  {
   "cell_type": "markdown",
   "metadata": {},
   "source": [
    "### description"
   ]
  },
  {
   "cell_type": "code",
   "execution_count": 22,
   "metadata": {},
   "outputs": [
    {
     "data": {
      "text/plain": [
       "Hello, I've been running guest house for Koreans visiting U.S. for 3years, and recently decided to run this place for other travelers also. There are 10 room in the house. They are mostly dormitory rooms and couple of couple room and family room. This places are our women's dormitory in third floor. There are three rooms, but no doors. It is basically open space. There are 2 beds in two rooms and 4 in one room. I do not have closet in this room but there are hangers and mini shelves. My travelers usually put their baggage on the floor. There is one full bathroom only for women in 2nd floor, which you will be sharing with other women guests. Right next that bathroom, there is unisex half bathroom. All bathrooms have hair dryers. You cannot use kitchen, but you can use refrigerator.  I offer breakfast every morning from 7-10 am. Bread, cereal, fruits, coffee, milk and juice will be served. You can eat take-out food in the kitchen, but please wash dishes that you used and put trash in the    6\n",
       "HUGE loft in converted factory, with in building: -COFFEE SHOP -YOGA STUDIO -ROOF DECK -FOOD CO/OP -TATTOO PARLOR -VAPE SHOP -CLOTHING STORES -SHIPPING AND PRINTING STORE -Located in vibrant Bushwick Brooklyn within walking distance to some of the best street art in the US. -Just 3 blocks to subway with easy access to Manhattan, Williamsburg and JFK airport. At your disposal is a comfortable lounge and dining area with a kitchen, and 2 bathrooms, that is all cleaned daily. There is also a HUGE ROOF DECK, as well as mini mall downstairs containing a yoga studio, coffee shop, art gallery, skate shop, and clothing store.  Right across the street are 2 of the biggest vintage shops in Brooklyn. Your room has a brand new super comfortable PILLOW TOP double bed, as well as your own air conditioner and space heater to combat extreme NYC temperatures. Free WIFI :)  We pay for extra for the really fast internet so stream video at ease. We also provide professionally laundered fresh sheets and to    4\n",
       "本地方是个两层楼townhouse温馨之家,一楼我们自己住,二楼五个房间做出租房,有两个洗手间和浴室供您们使用,每个房间都配备双人床 被子枕头床头柜 台灯 书桌椅 电视机Wi-Fi 热水壶 毛巾牙刷 牙膏 拖鞋 餐巾纸 房间干净卫生。大门进出有密码锁 每个房间也都有密码锁 走廊有安装电眼探头,厨房可以煮简单的食物,可以说是麻雀虽小五脏俱全。 地方位于纽约布鲁克林八大道华人集聚地,附近各种餐馆林立,地区治安好交通发达,走路2分钟到小巴站25分钟车程到达曼哈顿唐人街,门口有大巴站坐两站到地铁站也可以走路8分钟到N地铁站或走12分钟到D或R地铁站。 如果您开车过来白天很容易找到车位,晚上8点后如果找不到车位,您可以把车停在我们旁边8大道meter车位上直到第二天早晨7点半后就有很多车位了,欢迎您的到来!                                                                                                                                                                                                                                                                                                                                                                                                                                                                                                                                                                                                                                                                           4\n",
       "Private room in the heart of Little Italy with FREE PARKING :) You will have your own personal door code and may arrive at ANY time you would like and as late as you wish. You can store your luggage in the closet before check-in and after check-out times :) Price adapts to demand, my rates change constantly - every night is different! Put your dates in the calendar, with the number of guests, and what you see is what you'll pay :) The neighborhood is extremely safe even at night :) Restaurants and bars are right round the corner, both upscale and casual. This room is 6 minutes away by car or uber to Chicago's famous Willis (Sears) tower. Uber costs about $7. If you are arriving by car, I am providing free resident parking passes for anywhere in the area. (Yes, that means you can drive a few blocks and still park anywhere you want!) The room will be solely yours for the time you'll stay in the Windy City. Shall you have any concerns or need any tips from the local, I'll always be happy     4\n",
       "Our unique building is located in the Silicon Beach, directly across the street from (SENSITIVE CONTENTS HIDDEN) in Playa Vista. Fully remodeled designer-done 4-plex walking distance to the Playa Vista Runway, (SENSITIVE CONTENTS HIDDEN), YouTube, IMAX, Belkin, FOX, and (SENSITIVE CONTENTS HIDDEN). Two one-bedroom units and two studio units have all been remodeled by a high-end designer in 2015 Our place is good for couples, solo adventurers, and business travelers. Sorry, no pets. Units 1 & 2 are downstairs, 3 & 4 are upstairs. The building has one set of professional coin operated washer and dryer machines, shared by all four units. The laundry room is located towards the back of the building, near the back gate. You will have access to one (and only one) off-street parking spot in the back of the building. When confirming your booking, please inform the model, color and license plate of the car you will have throughout your stay - that way we can control who's illegally parked and s    4\n",
       "Brand New 2017 Construction, Featuring 2 Bedrooms and 2 bathrooms . comfortable couch, coffee table, 50-inch TV in living room, with free Satellite Cable channel and internet Wi-Fi. Washer and Dryer in the building on each floor.This lovely Apartment is perfect for families, couples or four close friends! With over 900 square feet of living space.A short freeway ride to Westwood, Hollywood Bowl, Griffith Park, LA Zoo, and downtown venues such as Chinatown, LA Live, Staples Center and Olivera St. Enjoy the open entertainer floor plan featuring a gourmet kitchen with quartz counters w/natural mosaic stone and quartz back splash, Stainless Steel appliances, and designer cabinetry. All baths are tastefully done with tub/showers and sinks. Awesome living area, Enjoy those high ceilings! Terrific master suite with closet space. This is a \"smart home\" featuring an LED recessed lighting. Gated Garage is ready for two full sized cars all side by side.  A cozy retreat for your stay in Los Angele    4\n",
       "Located at Laurel Hights close to USF, Golden Gate Park, Golden Gate Bridge and Shopping Center. We are steps from MUNI station and 15 minutes Bus ride or Lyft/Uber ride to downtown. The room has a queen sized bed with incredible comfortable mattress which is perfect for a restful night after a day in the city. There is free parking on the street. Free fast Wi-Fi.                                                                                                                                                                                                                                                                                                                                                                                                                                                                                                                                                                                                                                                              3\n",
       "I have other listings in the same apartment: https://www.airbnb.com/rooms/16191596?locale=en https://www.airbnb.com/rooms/16193259?locale=en https://www.airbnb.com/rooms/16191967?locale=en https://www.airbnb.com/rooms/16193729?locale=en Apt is 3 mins to subway station '59 Street' in Brooklyn, for N and R line. We are sharing a four bedroom apartment at sunset park of Brooklyn. This is a convenient and nice location 3 mins away from N/R train(59th St subway station) . You can take N (express) train to Manhanttan in 20-30 mins. In our apartment , Our kitchen is free to use, we have all basic cooking stuff. Our Living room, kitchen and bathroom will be shared.  For off limits, of course other bedrooms are not allowed to enter with out permission.  I will always be there in the apartment, at least twice a week to meet our guests and do the cleaning job. If you have any questions, also feel free to message, txt or call me. Just let me know, if you have any questions. The Apt is between the     3\n",
       "Loft Suite @ Henry Norman Hotel Located in Greenpoint, Brooklyn and housed in a converted 19th-century warehouse, the Henry Norman Hotel features modern lofts and suites with hardwood floors, antiques and contemporary art. The Loft Suite features a bedroom area with a Queen size bed and a comfortable pull-out sofa in the living room area, which in total can easily sleep up to 4 guests. The loft is equipped with 42\" LCD HD TVs in both the living and bedroom areas with premium cable channels (HBO, Showtime & more). There is a mini refrigerator plus tea and coffee making facilities for your convenience. There are hardwood floors throughout and a full bathroom with a shower/tub combination. Sleeps up to 4 guests. Guest will have access to common terraces, lounge area, business center with 2 iMac computers, fitness center with dry sauna and steam shower, and laundry room. Greenpoint is an artsy Brooklyn neighborhood filled with great restaurants, cafes, and shops.                               3\n",
       "Remarkably located in the heart of Chelsea in Manhattan, within walking distance of Penn Station, Madison SquareGarden, High Line Park and Theater District our hostel type separate rooms are simple, cozy, and very clean. Although small in size they are centered around a spacious common lounge area with free WiFi. We are located in the heart of the historic Chelsea neighborhood, West Side Manhattan: between 28th and 29th Streets on 8th Avenue. The freshly renovated hostel rooms here are simple, cozy, and very clean. Our management crew is on-site 24/7 to make sure everybody is happy. There is free WiFi here. Fresh, clean sheets, pillows towels and blankets are there for you. Although small in size the retreat guest rooms here are centered around a spacious common area. As a friendly, peaceful atmosphere, the common room is a perfect getaway from your busy day in the city. There is also a small library of spiritual books that can keep your mind engaged during a respit from the busy stree    3\n",
       "Luxury apartment refurbished in 2016, centrally located in between the West  End and Georgetown, fronting Pennsylvania Ave. Walkable to many bars, restaurants and nightlife, most major tourist attractions, GW University, World Bank and Embassies. While I am always happy to answer questions about the apartment and the local area I really appreciate it when guests take the time to read the detailed house manual (hard copy in apartment and also on the AirBnB site), and the other pieces of correspondence I will send you. The best way to contact me is through the AirBnB app as I like having all correspondence on one device. Its rare I will answer my phone when I can’t identify the number. I am very prompt at returning inquires through the app and will be happy to jump on a call when needed. I am very good at communicating with guests as you can see by my ratings and reviews so please be patient and give me a minute to reply. Enjoy your stay! The property is located directly in the cross sec    3\n",
       "* The home is calm, but house party the day of Sep 16 to celebrate the sheep arriving across the street. Just for that afternoon. * Comfortable queen-size bed in private room in a three-bedroom NoLiTa/SoHo apartment with 360 degree rooftop view. Lively but peaceful neighborhood with shopping and great restaurants. Less than 2 minute walk to 7 subway lines (B,D,F,M,6,N,R). Beautiful apartment with rooftop view. Shopping and restaurants and bars nearby.  7 subway lines less than two minutes away. Beautiful renovated building. The apartment has three private bedrooms. There are additionally two bathrooms, so access to a bathroom is never a problem. We have a rooftop deck with one of the best views in New York, from the World Trade Center to the Empire State Building and even the Williamsburg Bridge. Right in front of us is a 19th century cathedral with large trees and a pasture for sheep in a historical graveyard. Bedroom, kitchen, bathroom, private rooftop belonging just to my apartment,    3\n",
       "My Cozy West LA / Mar Vista 1BD 1BA Home just 15 Min from Venice Beach. Features a queen bed and living room with comfy sofa, TV with HD Cable, High Speed Wifi, Full Kitchen with Gas Stove, Fridge, Microwave. Completely Private Apt not shared. My Cozy West LA / Culver City 1BD 1BA Home. Features queen bed in bedroom and living room with comfy sofa, TV with HD Cable, High Speed Wifi, Full Kitchen with Gas Stove, Fridge, Microwave. Completely Private Apt not shared. Entire Apt is yours with no restrictions and is not shared in any way. Just take care of my home as if it were your own please and be respectful to the neighbors. I am accessible should you need anything, have any questions or if you would like some great restaurant/tourist tips. Otherwise enjoy your stay and the home as if it is yours! Super centrally located in the heart of West LA. 10 Min to Venice Beach (less than 5 miles) Downtown Santa Monica (5 miles) and walking distance to beautiful downtown Culver City where you wil    3\n",
       "A handsome colonial house set on a tranquil side street. Fully furnished with spacious rooms. Easy commute to Downtown with nearest bus stop only a 5 minute walk away. Near restaurants, grocery and shopping arcade. Laundry and WiFi available.                                                                                                                                                                                                                                                                                                                                                                                                                                                                                                                                                                                                                                                                                                                                                                                          3\n",
       "The Brooklian is a sunny apartment with great views of the city, super conveniently located to public transportation .Clean, spacious, with low key furnishing  combined with all the conveniences needed. The Brooklian is within a pre-war building with those original interior design, still as they were! There are 3 queen bedrooms and a queen pull out couch in the living room, this listing is only for one room. Prospect park, Botanical Gardens, and the Brooklyn Mueseum are 10 mintues away. This add is in reference of one bedroom, if you want to reserve the all apartments or more bedrooms please write to me before booking. Brooklian is the best apartment in Brooklyn with an Italian touch to make it even better, the ambient is bright and spacious, furnished in a minimalist but essential way for your best experience! The kitchen is fully equiped with all the basic and more advanced kitchenware, microwave, coffee machine, toaster, food processor, nutribullet and electric grill sandwich press.    3\n",
       "Hello!! Thank you for checking our listing! We have 3 other listings available so please take the time to look at them to see which one better suit your needs. If you’re looking for a home away from home, look nowhere else! Our rooms are located in a cozy 3 bedroom apartment in a newly constructed building. We will be sharing the kitchen, which comes with a complete set of kitchenware and also the bathroom among the other roommates. The bedrooms are beautifully decorated and each one of them is unique with its own color theme and fragrance. Nice and clean bed sheets, towels and comforters are also provided during your stay.  Our location is in Elmhurst, also known as a tiny Chinatown in Queens. It is very convenient with only 5-10 minutes of walking distance to the Grand Ave Newtown Subway station (M, R trains), Buses, Shopping malls, Grocery stores, Restaurants, Bakeries, Laundromat and many more amenities.  We are looking forward to hosting you! Jackie & Tyas                             3\n",
       "A very cozy house located in the heart of Hollywood between two famous streets: Beverly Blvd and Melrose Ave, within a safe and quiet neighborhood, 30 minutes from LAX, 15 minutes from Downtown LA, 15 minutes from Griffith Observatory, 15 minutes from Hollywood Walk of Fame, 15 minutes from Universal Studios, 5 minutes from Paramount Pictures. There are lots of restaurants and shops nearby. My favorite is Osteria La Buca:) A great house in the central area of Los Angeles suitable both for travelers and business trips. It is fully equipped with all you need and freshly renovated. FREE PARKING:)                                                                                                                                                                                                                                                                                                                                                                                                                    3\n",
       "Welcome to my home! It's a nice, newly renovated brownstone townhouse in the heart of Brooklyn. Close to major train lines: 1 minute to the J train and 4 minutes to the C train. Both trains will get you to manhattan in 15-20 minutes. My place is good for business travelers and tourists and has that wonderful feel-at-home ambience.                                                                                                                                                                                                                                                                                                                                                                                                                                                                                                                                                                                                                                                                                                3\n",
       "Beautiful, comfortable, clean, cozy rooms near shopping mall, diner, and public transportation.                                                                                                                                                                                                                                                                                                                                                                                                                                                                                                                                                                                                                                                                                                                                                                                                                                                                                                                                             3\n",
       "Spacious 2 story 4000 sqft home Enjoy fruit trees swimming pool fountain & gardens lWalking distance to mall, grocery store, movie theater & restaurants. Centrally located to Malibu, Santa Monica,Venice,Hollywood, Beverly Hills, West LA This spacious 2 story 4000 sqft home is fully furnished and beautifully decorated! Coffee and donuts are served every morning;) Please keep in mind that this is a shared space, and that your large room consists of 2 bunk beds, your own dresser, hamper, and closet space. You will have full access to the rest of the home.  We provide a safe, clean, and positive environment, perfect for people relocating from out of state, students, and anyone else who needs a landing place while traveling. Near public transportation; ORANGELINE, 405, and 101 FREEWAYS. You will have full access to the rest of the home.  We do have private and 2 person and or couples rooms available in the same property. Full kitchen privileges  All Premium Cable and movie channels  Full se    3\n",
       "Located in the heart of the Mission District, consider this your home away from home. Peaceful and comfortable, yet close enough to pretty much everything San Francisco is known & loved for, as well as some lesser known (equally loved by those who do) sights. You'll have a modern, cozy, private bedroom with a full/queen bed within this 4 bedroom, 2 bathroom house. (You'll be sharing the main areas of the house with Brian/Angela and two other guests, plus two small rescue dogs :) Your bedroom is equipped with a large, flat screen television set up with Chromecast and is decorated with paintings commissioned by a friend who dabbles as an artist. Jacques and Bijoux are sweet and playful pups who live here. If you want to play or cuddle with them, they'll love it. (If not, don't worry, they do not have access to the bedrooms or bathrooms.) A beautiful living space and shared backyard patio with a gas grill, premier location in the culturally rich Mission district (the famous Balmy Street m    3\n",
       "Check in as early as 10am!  Discounts for long stays! Steps from the High Line, and a block from major transportation this immaculate, sunny room is perfectly situated in one of the most desirable downtown Manhattan neighborhoods! This is a private room in a four bedroom apartment.  The host who lives here is a designer at an international fashion brand.  The decor, over -sized windows and 11 foot ceilings represents the style, modernity, and warm feeling that the Chelsea has to offer. The bedroom is one in a four bedroom apartment that is in the heart of prime Chelsea.  Please note, the apartment does have a live in host, and other guests - but your bedroom is your private space and oasis in Chelsea.   The room has a high bed so you can store your luggage underneath, a sturdy shelf near the bed to store items under and place your laptop or other items on.  A small closet, and long mirror.  It's a quiet building on a quiet street, but within walking distance of some of the most popular    3\n",
       "My place is within short walking distance from a park, Bank of America, In-N-Out, Jack in the Box and PCC Rosemead Campus.  Access to 10 Freeway is easy and short driving distance away. You’ll love my place because of convenient, comfy, clean and quite. My place has smart-locks and you can check in whenever it is convenient for you. My place is good for solo adventurers, and business travelers. Flexible Self Check-in: All my doors have smart locks.  Once booking is complete, I will program my doors to last 4 digits of your phone # or to your favorite password.  You can check in anytime and don't need a key to check-in. Please leave your shoes at the foyer. During your stay, if someone books the other room, you will need to share the bathroom. Your room is for 2 people, and it is NOT acceptable to bring 3rd person and have him/her sleep in the living room couch.  This has actually happened and it is NOT acceptable. Amenities offered are for you and your guest only. You have to be part o    2\n",
       "I have a big Sunny room available for rent in Manhattan. Totally furnished.  2-min walk from 3 express train .  15 min to Times square by train.  Close to grocery 24 hours store.                                                                                                                                                                                                                                                                                                                                                                                                                                                                                                                                                                                                                                                                                                                                                                                                                                                          2\n",
       "This is a large room located in the trendy Bushwick neighborhood of Brooklyn, NY.  The apartment is very nice. This particular room is to the front of the building so it does receive a significant amount of street noise, compensated by its low price. Please do not place a reservation without contacting me first as to inquire as to those dates. I may have conflicts that are not reflected in my calendar and might be forced to reject any reservations I did not clear beforehand. There are 2 permanent long term residents in the apartment and is thus this listing is legal under NYC law.  I am managing this listing. Due to local regulations the monthly rate requires a 30 day minimum reservation (not 28 as airbnb allows). Please confirm with me any dates before placing any reservation. On occasion I will reduce certain days' pricing to fill in small holes in this room's availability calendar.  Discounted prices may not be available for 1-2 or other very short term reservations except in certai    2\n",
       "Standard Loft @ Henry Norman Hotel Located in Greenpoint, Brooklyn and housed in a converted 19th-century warehouse, the Henry Norman Hotel features modern lofts and suites with hardwood floors, antiques and contemporary art. These loft units feature a comfortable Queen size bed, hardwood floors throughout, full bathroom with shower/tub combination. Lofts are equipped with 42\" LCD HD TV with premium cable channels including HBO & Showtime, mini refrigerator, coffee & tea making facilities. Sleeps 1 - 2 guests. Guest will have access to common terraces, lounge area, business center with 2 iMac computers, fitness center with dry sauna and steam shower, and laundry room.                                                                                                                                                                                                                                                                                                                                        2\n",
       "A private room in a beautiful 2br loft in the middle of it all. Prime location in heart of Williamsburg. Elevator and Laundry room. 1 bedroom, large living room.                                                                                                                                                                                                                                                                                                                                                                                                                                                                                                                                                                                                                                                                                                                                                                                                                                                                           2\n",
       "This room is located inside a big 4 bedroom house. The house has a big garden area with an indoor/outdoor living feel that is truly an oasis in busy Hollywood. You'll share a kitchen and several hangout spots with other guests and we even have laundry on site. We are located minutes away from all the attractions you would want to see in Hollywood, including Universal Studios, and The Hollywood Walk of Fame. Location is key in LA! In our classic Hollywood house you will be minutes away to all the places you'd like to visit day or night in the area. We are located 10 minutes away from universal, Warner bros studios, CBS studios, 15 minutes away from walk of fame and Mann's Chinese theater, and to get to the Hollywood sign or Griffith park it's only a 15 min uber ride away. If you feel like hitting the beach, Santa Monica and Venice is about 30 min away from our Hollywood location. Our bohemian meets roman villa enclosed space creates an indoor out door experience and a sanctuary of posit    2\n",
       "Gorgeous all original Venice Beach Craftsman Home located on one of the famous walk streets, 3 blocks to Abbott Kinney and a 5 min bike ride to the beach. Enjoy the charm of our home surrounded by nature with tons of natural light and modern decor. Our Venice Craftsman style home is a charming, bright oasis for those who want to be submerged in the Venice lifestyle but feel like they are surrounded by nature. Our home was built at the turn of the century with all real wood floors, large bay windows, and so many more charming details complete with updated appliances and a modern decor. We have tons of natural light flooding in all day long with porch swings, an outdoor grill and an al fresco dining table. Located on a walk-only street with lush landscaping and beautiful greenery you will enjoy the peace and quiet of being surrounded by nature while only being a stones throw away form some of the best shopping and restaurants in LA. More than your private light-filled bedroom and shared     2\n",
       "Thanks for checking out my awesome studio apartment! My place is fully loaded with ALL the essentials you'll need for a great stay in the Big Apple! Located in the heart of Chelsea, connecting you to the HighLine, Union Square and West Village neighborhoods, you're never more than a 5-minute walk from the best shops, restaurants and bars that New York City has to offer! Equipped with a comfy Queen-sized bed, and a convertible Queen-sized sofa bed; sleeps four (4)!                                                                                                                                                                                                                                                                                                                                                                                                                                                                                                                                                        2\n",
       "                                                                                                                                                                                                                                                                                                                                                                                                                                                                                                                                                                                                                                                                                                                                                                                                                                                                                                                                                                                                                                           ..\n",
       "Home for those who travel with family or friends:  Duplex in quiet area, fully equipped, minutes to subway, steps to bars/restaurants. You won't find other apt in New York with such a layout and the size: It's a huge duplex with 3 bedrooms ( queen size bed each), living room ( with sofabed), tons of closets, washer/dryer in the apt, fully equipped kitchen! We provide fresh bed sheets and towels. You will also find bodywash/shampoo and hair dryers, iron and ironing board.   WiFi included! The whole apt is for you - most of my stuff in the storage  - but some in one of the cabinets. If any questions/issues - please call/text me You will be surprised how quiet our area is - even though all the bars just around the corner! We are located in the old and famous neighborhood - yet , in a very new and comfortable building.Safe and nice ,  It's just  walking distance to most of the attractions in the area! Subway station is 3 min walking distance: Delancey/Essex trains: J, Z, M, F We do checkin    1\n",
       "My place is close to The Ivy Restaurant, Mastro's & BOA Steakhouse, Beverly Hills, Cedars-Sinai Medical Ctr, Sunset Blvd, Beverly Center, The Abbey, Four Season, Equinox, The Grove,  You’ll love my place because of the kitchen, the coziness, the high ceilings, the views, and the location. My place is good for couples, solo adventurers, business travelers, and families (with kids). Short Driving Distance to Venice Beach, Santa Monica Beach, West Wood, UCLA, Hollywood Blvd, Universal Studio.                                                                                                                                                                                                                                                                                                                                                                                                                                                                                                                              1\n",
       "5 mins away from the A,C, and 1 train. It's a 15 minutes commute to Columbus Circle and 17 mins to Times Square. Fully equipped apartment include a full kitchen and separate living room that are set up for your full comfort and entertaining needs. It is very close to fancy restaurants and well-known restaurant chains such as Mcdonalds, Chipotle, Starbucks, Taco Bell, Popeyes etc..) This space is great for short trips. If you are coming to NYC for a short term and just looking for a place to spend the night, this room is for you! That is actually why the pricing is so convenient! Wifi, kitchen Buses are right across the street and the A,C, and 1 trains are only 4 blocks away!                                                                                                                                                                                                                                                                                                                                 1\n",
       "Large bedroom for one person (extra fee of $30 for additional guest).  Room is located in rear of large fabulously decorated second-floor home and shares bathroom with host. You will be in the most exciting part of Harlem, near the A, B, C, D, 2 and 3 subway trains and just 7 minutes to midtown Manhattan. Home has all amenities, including kitchen privileges. Host lives alone and has home office in front of this large home, so you will have tons of privacy. Large and fabulously decorated 3-bedroom and 2 & 1/2 bath home that takes up entire 2nd floor of a classic brick building in Harlem. You will have your own large and private bedroom and use of a bathroom shared with just one other person (your host).  The home is well-maintained and clean. The rest of this large home is shared with the host. Aside from your private room and shared bathroom, you can use the powder room, living room, kitchen and washer/dryer. Host has lived in Manhattan for over 15 years and very familiar with location    1\n",
       "This place is quite cozy with a touch of understated class and heaps of comfort. Its like a hotel but with a kitchen added in. Its a cozy, classy, comfy 2 bedroom house all to yourself. Located in a quite section of Brooklyn yet not too far from main services like transport (just 2 blocks away), grocery stores, restaurants and pharmacies.                                                                                                                                                                                                                                                                                                                                                                                                                                                                                                                                                                                                                                                                                        1\n",
       "We have a lovely room with a  queen bed. Our place has the best of everything- minutes to downtown, minutes to the airport, very quiet, free breakfast. It has lots of natural sunlight. The location is perfect for travelers as well as business people. I provide a private clean, furnished bedroom. The queen bed can fit up to 2 people.  The bedroom is located next to our kitchen and bathroom.  It is large and very sunny as you have 2 large windows.  There is a large TV that has many cable TV channels in the bedroom.  We are a family of 3- husband, wife ( who is from Greece ) and our son who goes to the best high school in SF and plays soccer.  Easy Public transportation to San Francisco financial district, the  embarcadero, pier 39, union square, etc. We are  warm and  friendly hosts. I offer coffee/tea/cereal/yogurt/ granola  for breakfast .  I know the city pretty well, and can guide you to get from point A to point B, suggest great restaurants, places to see, etc.  I also have a privat    1\n",
       "This HUGE 1 bedroom apartment is so cosy and sleek, you will want to stay here all year long :-) It is on the 1st floor of a 5 stories building. Located on a very quiet street, there is a very cool Korean cafe and a supermarket at the end of the block and a deli 20 seconds away. Very convenient!  You also can wash your clothes at the laundromat down the block (or use the one in the building). The living room is very spacious with a TV+Sofa corner (XboxOne, DVD player) and a desk/office on the other side. There is wireless Wi-Fi and an Ipod/Iphone/CD dock player. Ceiling fan in the living room. The kitchen is so large that the dining table fits inside. You can accommodate 4 people or even extend the table to 8 (we have 8 chairs). Great dinner party possible! The kitchen has a big fridge, dishwasher (Yeahhhh! No dishes to do), microwave, juicer, coffee maker...and all the chinaware you need. It has a dimmer light so you can enjoy a romantic dinner too. The bedroom is neat and charming. T    1\n",
       "Come and enjoy a cozy warm private  bedroom with shared bath, I promise you wont be disappointed. Temporary and long term guests are welcome. Minimal: We are very busy with work and life, so you will be mostly on your own as you come and go. You can always reach us right away through Airbnb with any questions, concerns, etc. My place is: 4.6 miles from the White House 2.9 miles from the US Capitol 2.9 miles from Library of Congress  4.1 miles from Washington Monument  1.7 miles from Eastern Market 5 miles Vietnam Memorial 3.3 miles from National Mall 1.6 miles from Washington DC, Marin Barracks 5 miles from Lincoln Memorial 6.6 miles from Arlington National Cemetery 6.5 miles from George town DC 3.1 miles from Union Station 3.3 from Smithsonian Museums  6.2 miles from National Arboretum , 6.6 miles from Catholic University , Basilica of the National Shrine of the Immaculate Conception  8.8 miles from the National  Cathedral 7.4 from the National Zoo 3 blocks from Capitol bikes hare sta    1\n",
       "Eccentric modern beauty in a two unit building with tons of privacy, one stop into Brooklyn, a walk from Manhattan and in the heart of trendy (but unannoying) South Williamsburg. Master and smaller bedrooms plus comfy living room with fold out couch. Enormous outdoor deck for sunning, smoking and enjoying the weather. Key code entry for easy shared access. Metropolitan home with an incredible deck in a convenient location, good for cooking, hosting and resting from your days out in the city Entire space, including great deck with furniture, washer dryer and two sink kitchen When you're here I'm gone, though assistance is available 24/7 from neighbors All the conveniences of Brooklyn's hottest neighborhood next door to downtown Manhattan. Walking distance away from famous restaurants, bars and clubs of the area - plus only a 30 min walk over the historic Williamsburg bridge to Manhattan. One stop on most downtown trains to Manhattan. One block from J, M, Z trains at Marcy stop, 10 min w    1\n",
       "Completely re-modeled at the end of 2014, this modern, top-floor Williamsburg apartment has two bedrooms (one of which is listed here), a modern, fully-loaded kitchen, and a private balcony for hanging out. Located 1.5 blocks from the Grand L. Bedroom: - Very large by Brooklyn standards - Heat + AC unit in bedroom - Queen-size bed hand-crafted from redwood, extremely comfortable - Private access to balcony with herb garden and views of Manhattan Balcony: - Partial view of NYC, including Freedom Tower - Hammock for lounging Kitchen: - Gas range - Gas oven - Full-size fridge/freezer - All cooking + eating utensils and tools - Dishwasher - Espresso machine - Tea kettle for pour-over coffee Entire apartment except for personal stuff like closets, clothing drawers, etc. Other apartment resident is extraordinarily clean, is rarely in the apartment during the day, and has his own entrance / exit. Bathroom and kitchen/living area are considered shared space. The apartment is 1.5 blocks from th    1\n",
       "The  spacious suite is comprised of the entire floor  located on the lower level of the row house (800 square feet. )  It contains a  bedroom with double bed, full bath, kitchenette, living room,  access to backyard, free street parking or optional garage space (fee). The bedroom has a double bed, dresser, large closet. The living room  has  futon couch, table, desk; kitchenette. Public transportation is nearby: 1/2 block to 16th St bus lines to downtown DC, or two blocks to 14th St bus lines. Metro rail stops (Petworth, Columbia Heights)  are 1 mile away (bus lines connects to the rail stops). Guest will have their private suite, backyard access. Host is long-time DC resident, knows the City well, especially the art scene as she is an artist. The neighborbood is North Columbia Heights, a block of two-story row houses built in the 1920's,  nearby renovated DC  library, restaurants, houses of worship on 16th Street, tennis center, Rock Creek Park for wonderful hiking or just simply  enj    1\n",
       "Cozy Colorful Room Upstairs in a 6 Bedroom Rustic Home. Live with a males and females in  warm family like space.  Not big partiers, We occasionally have a glass of wine with our housemates- but all have busy work lives.  Super friendly!       We have a quaint room upstairs in a huge two story, rustic home in Mid-Wilshire/Koreatown (Central LA). Perfect for a self employed person or a person on the go!  The home is very large, creative and unique.  Perfect for a single person who wants to live with others but have loads of privacy. This room is located in an upstairs (2 other rooms upstairs as well) private quiet area. Very creative space. There is a spacious shared bathroom living room with a couch, coffee table, artwork and candles. There is also a fridge with a pantry along with the downstairs living room and kitchen with fully stocked appliances.  The bedroom and the bathrooms are furnished...Available short or long term (security deposit required) Linens, twin size bed, closet, 6     1\n",
       "Our apartment is located in fabulous Upper East Side next to historical Gracie Mansion, in a beautiful Carl Shulz Park. It’s close to two subway lines that will take you both downtown and across town. The apartment has a backyard! And you will have your own FLOOR with a private bathroom. Living room is shared but we are home only at night time. We know everything about New York so if you want to experience the city as an insider we will provide the info for you to do just that! This is a very cozy apartment with a brick wall, outdoor space, very private and quite. The room is located downstairs in the basement, but has two windows and a door leading up to the backyard. You have to go down a spiral stair to get to the room. Guests will have access to all the amenities, kitchen, living room, 2 bathrooms. We are happy to suggest local restaurants, bars, museums and exhibitions. We are easily reachable by phone at any time. This is one of the best and safest neighborhoods in New York. Muse    1\n",
       "You’ll love my place because of the location and the cozy, comfortable space to recharge your batteries. My place is good for couples, solo adventurers, and business travelers.  Smoking Allowed Outside Only. I have been an airbnb host for more than 3 years and have hosted hundreds of travelers from around the world.  I have over 200 positive airbnb reviews and pride myself on being an ambassador to the City of Angels!  I look forward to hosting you and making your stay in LA a comfortable one that is also conveniently located to get you around the city. Full Access CHECK-IN IS ANYTIME AFTER 3PM EARLY CHECK-IN AND EARLY BAG DROP IS AVAILABLE WITH APPROVED REQUEST As much or as little as needed.  Don't feel obligated to engage in conversation but if you feel so inclined please do.  I want my guests to feel \"at home\" during their stay, whether it's just for 1 night or more. When I'm available I will help in any way I can, give recommendations, give you a ride or help you plan your trip. O    1\n",
       "This space has easy access to all the best parts of the city. There are huge windows and tons of natural light.  Includes full kitchen, queen bed, air mattress, and washer/dryer.  There's also a locally owned bakery on 1st floor of the building! Easy access to all the best parts of DC!  14th Street, DuPont Circle, and Adams Morgan are all within a five-ten minute walking radius.  There is a bus stop about 20 feet from the front door that provides access to the National Mall, the Capitol, and more.  Also, you can catch the green/yellow or the red metro lines at stops that are about a five minute walk away. Unfortunately, there is no handicap access.  You must be able to climb two flights of stairs to access the apartment.                                                                                                                                                                                                                                                                                  1\n",
       "Located in the popular Los Angeles neighborhood of Eagle Rock, my house is a recently renovated space with three great patios that have great views and are perfect for using the great California weather for outdoor living, entertaining and dining. The house is located in Eagle Rock area of Los Angeles. Its a warm and spacious 3 bedroom and boasts great outdoor living spaces with all the amenities such as free WIFI. It has and outdoor BBQ grill and music entertainment system should you want to relax outdoors and listen to your favorite tunes while sipping your favorite wine. All areas of the home are accessible with the exception of the garage and rear storage Since we live and work in the neighborhood we are available on short notice should you need us by phone or text. Eagle Rock is home to some of the tastiest restaurants and cool places to eat just minutes away. Very nice and friendly people and you can find whatever food you are looking for depending on your mood. A cool wine bar i    1\n",
       "3-Story home in heart of Noe. Sweeping city views. Master king suite has 800 thread count sheets & quality pillows. Modern kitchen & great room & wood fireplace on 2nd floor. 1st floor has queen bed, bath & TV den. Redwood hot tub in garden. Parking 3-Story home in heart of lovely Noe Valley. Relax in 1600 sq feet of living space. Top floor master king suite has 800 thread count sheets, quality allergy-sensitive pillows, and sweeping city views. Washer/dryer. Modern chef kitchen, great room, with wood-burning fireplace on 2nd floor. 1st floor has a queen bed, bath, and TV den. 2.5 Bathrooms in total. Large redwood hot tub in garden retreat. Parking. A few steps to public transit, with Muni bus stop only 1/2 block away, to take you directly to the Castro, Market St., and beyond. Quick car access to Hwy 80/101, the airport,  Silicon Valley, and the Bay/Golden Gate Bridges that lead to the wine country. You will have complete and private access to all three levels of this home (with the e    1\n",
       "In Heart of DC: Beautiful room in luxury townhome is ideal for a visit to enjoy the sites of the District. A queen-sized bed, a shared sitting area and deck are all here for your enjoyment. You'll love the location, because the Smithsonian museums, the monuments, the Capitol, and the White House are all within walking distance. For the rest of the city, the metro (L’Enfant Plaza) is just 1 blocks away from the home. This large room is tastefully decorated and features a comfortable queen-size bed made up with nice sheets and cozy comforter, a dresser and closet. Attached bathroom has a toilet, shower and toilettries - towels and sheets included.  This room is located on the ground floor of my four-story townhome.  Shared kitchen and sitting area with TV/cable is upstairs. The room is located on the first floor of the home with easy access from the front entrance.  You have access to WiFi and to the laundry room should you need it. Your host, Kim, works during the day, but is available     1\n",
       "A cozy apartment in the heart of Soho, New York. Located in a quiet, tree-lined, residential street.  The area is known for being the location of many artists' lofts and art galleries, as well as it's variety of shops, ranging from trendy upscale boutiques to national and international chain store outlets. All the best restaurants, bars and shopping stores are within walking distance. Subway station is 1/2 block away. Check-ins and -outs are flexible. Fully furnished, sunny and cozy living room, full functioning kitchen and bathroom. There is a great view on the Empire State Building. Fast internet and cable television are included. I am always available through text, phone or E-mail. You will receive an e-mail after booking on how to check-in, Wi-Fi log-in and all other information. Feel free to ask me any questions. 4th Floor.                                                                                                                                                                    1\n",
       "This beautiful spacious two bedroom apartment is located just 15 mins from JFK, 20 mins from Barclays center. Minutes away from Manhattan & Brooklyn bridge. 1 BLOCK AWAY from New York's main subway line. Entertainment, shopping & transportation are endless. This property has two bedrooms a sofabed in the living room & can accommodate up to 6 guests Unique large two bedroom Apartment with large Queen bed & full size bed in separate bedroom.  Bright and sunny space with separate kitchen fully equipped. Great for large groups or a family getaway. Located 1 block away from the C train that can get you to and from the city in minutes. Wifi, AC units, street parking, Roku TV Guests can reach me anytime. I live close by so can be available within minutes. We are located on a main road in a residential neighborhood that mostly has small 1-2 family homes. There's a laundromat on the same block, as well as a Supermarket across the street just 2 blocks away but best of all is the Spanish Cafe loc    1\n",
       "A nice and comfy random bunk bed in a random shared room for a traveler on a buget. Student dormitory like property Clean, cozy, and comfy. Big rooms. FREE WIFI, AC, Big TV, UNLIMITED NETFLIX !! Just 3 min to CONVENTION CENTER, 5 min to Downtown, couple of miles to Hollywood, just 20 min to Universal Studios !  Lots of Buses, Stores, Restaurants, where you can get a full meal for JUST $5 !! FREE Towels, Shampoo, Soap. 420 FRIENDLY LGBT FRIENDLY BOOK IT NOW ! :) Clean and nice ! Call me anytime ! Safe and nice ! Uber, metro, busses                                                                                                                                                                                                                                                                                                                                                                                                                                                                                    1\n",
       "Small guest room in lovely Park Slope. Many restaurants and live music venues make this a coveted area to all Brooklynites. 5 subway lines make it easy to Manhattan. One block to Prospect Park (runners). Brooklyn Museum (art lovers). Much more!!! The small, cozy room contains a full-size bed, which can fold into a couch for extra space during the day, a small desk and a chair. In addition, the shelf space above the bed maybe used for storage or, with a twin-size futon, can be used as a bed for a second guest. Guard-rail available for children sleeping in the upper bunk. We keep a clean place, however bathroom fixtures are original and about 100 years old. This can be quite beautiful Guests have full access to: - The main living area - The kitchen (dishes, cookware, fridge, appliances) - Two full-size bathrooms We are a friendly bunch, with four languages spoken between us and a willingness to communicate above all! You are welcome to ask us whatever you need. We do not have guide maps     1\n",
       "Brand new Inner Sunset apartment with fabulous amenities.  Great for families, friends, couples and business travelers.  This excellent, central location is steps to a long list of restaurants, cafes, pubs, shops and more.  A short walk to Golden Gate Park opens up another long list of attractions.  1-Block from the N-Judah transit, which becomes a subway that goes right down town.  NO SMOKING;  Three small children live upstairs;  We cannot have loud groups who are up late.  Six people MAX. This newly constructed apartment has three well separated bedrooms, each with a queen bed.  There's a small patio and yard, and the location is truly excellent in terms of immediate urban amenities and transportation.  Please see the Neighborhood info about the 40+ restaurants that are a one-to-five  minute walk from the front door. You will have a private, self-contained 3BR/2BA apartment with a private entrance.  The owner and three small children live above you. All arrangements are managed by c    1\n",
       "My place is close to Williamsburg Cinemas, L Train, Bedford Ave, G Train , Union Pool, Waterfront. My place is good for couples, solo adventurers, and business travelers.                                                                                                                                                                                                                                                                                                                                                                                                                                                                                                                                                                                                                                                                                                                                                                                                                                                                  1\n",
       "This room is great for guests that are relocating to the area or are looking for a furnished rental option without having to deal with long-term commitment or expensive security deposit. This is a private bedroom in our five bedroom, 4500 sq. ft. house. It features tall ceilings, a double-door patio and spacious living space. The bathroom is shared with the room pictured across the hall and has a shower/tub as seen in the picutres. Guests will have access to the room, shared bathroom, kitchen, and some living areas. We prefer guests with full schedules as we are not home during the day. We provide coffee, tea, fruit, bagels and light breakfast choices. We're super friendly hosts and will interact with guests as much as desired. We respect personal space and are not intrusive. We are looking to host similar people who are friendly and courteous as well. Our suburban neighborhood is very safe, quiet, and peaceful. It is full of wide and long streets that easily connect to the 101 freeway    1\n",
       "Beautiful, private resort-style home in the much sought after Hollywood Hills.  Walk and hike at nearby Runyon Canyon. Minutes from Universal Studios and Hollywood.  You will enjoy this cozy, peaceful home.  Perfect for couples, solo adventurers, and business travelers. This unique space is like a luxury apartment.  You will have all you need to feel at home in Hollywood. You will have access to the entire first floor and the backyard. We will be onsite and available if needed. This is the most sought after part of Los Angeles in which many celebrities live.  Though close to Hollywood, it is still peaceful and quiet. Because we are in the Hills, you will need transportation.  Uber or Lyft are great alternatives.                                                                                                                                                                                                                                                                                           1\n",
       "My place is close to Reggae Cafe. You’ll love my place because of the coziness. My place is good for couples, solo adventurers, and business travelers.                                                                                                                                                                                                                                                                                                                                                                                                                                                                                                                                                                                                                                                                                                                                                                                                                                                                                     1\n",
       "Large Studio Apt in the Richmond District of San Francisco with REDUCED rate for cat care=(change litter 2x week, give a Lil love and let her sleep in same bed.)  Walking distance to beautiful Baker Beach, China Beach, Lands End.  Quiet building for someone that keeps early to bed/rise schedule. 1 block from public transportation downtown.  Reason for quietude in eve past 9:30-10 p.m. is main room is above neighbors bedroom and noise carries when they are trying to sleep (voices, hard walking) Tons of natural light and views out of main room and kitchen. There are even windows in the bathroom and closet. Decorative a bit eclectic with artwork from various countries including Africa. Extremely clean. Cooking ware, gas stove, toaster oven, rice cooker, crockpot, iron, coffee-single filters. Enough towels and linen for full stay. Up to 8 towels if there for 3 weeks, 3 sets of spare sheets. Already noted there is not layndry, but laundromat 2 blocks away- With linen and towels simply put i    1\n",
       "Well lit and clean room in a beautiful shared Apartment with two other friendly housemates in the heart of Astoria, New York. Room includes: Queen bed, storage for clothes, Wifi, A/C, Heat. Fully furnished Kitchen and living area. Shower/Bath right beside bedroom. - 1 minute walk to the corner store.  - 5 minute walk to popular bars & restaurants in Astoria.  - 12 minute walk to the subway.  - 15 minutes in a cab to the city with no traffic.                                                                                                                                                                                                                                                                                                                                                                                                                                                                                                                                                                               1\n",
       "Great location at corner of Harvard and Georgia in Columbia Heights with lots of restaurants and bars close by. Blocks from the 14th St Corridor. 10-15 minute walk to two metros (Columbia Heights Metro and Petworth Metro). Easy access to Mt. Pleasant, Adams Morgan, and the Circulator bus. Rock Creek Park near by.                                                                                                                                                                                                                                                                                                                                                                                                                                                                                                                                                                                                                                                                                                                  1\n",
       "Name: description, Length: 28685, dtype: int64"
      ]
     },
     "execution_count": 22,
     "metadata": {},
     "output_type": "execute_result"
    }
   ],
   "source": [
    "df.description.value_counts()\n",
    "#Demasiado complicado utilizar esta variable para el modelo:\n",
    "    #diferentes idiomas\n",
    "    #tendrías que encontrar comunes palabras? o algún denominador que te permita clasificar la descripción en distintos niveles"
   ]
  },
  {
   "cell_type": "code",
   "execution_count": 23,
   "metadata": {},
   "outputs": [],
   "source": [
    "df.drop(\"description\", axis=1, inplace=True)"
   ]
  },
  {
   "cell_type": "code",
   "execution_count": 24,
   "metadata": {},
   "outputs": [
    {
     "data": {
      "text/plain": [
       "(28877, 26)"
      ]
     },
     "execution_count": 24,
     "metadata": {},
     "output_type": "execute_result"
    }
   ],
   "source": [
    "df.shape"
   ]
  },
  {
   "cell_type": "markdown",
   "metadata": {},
   "source": [
    "### name"
   ]
  },
  {
   "cell_type": "code",
   "execution_count": 25,
   "metadata": {},
   "outputs": [
    {
     "data": {
      "text/plain": [
       "Brooklyn Oasis                                        4\n",
       "Venice Beach Cottage                                  3\n",
       "Private 1 Bedroom Apartment                           3\n",
       "Bunk bed in the Treat Street Clubhouse                3\n",
       "East Village Gem                                      3\n",
       "Spacious Private Room in Brooklyn                     3\n",
       "SHARED ROOM in VENICE BEACH HOSTEL                    3\n",
       "Make的小屋（地理位置好，交通方便，洛杉矶市中心，提供机场名牌店景点等接送，包车游玩等服务）       3\n",
       "Beverly Hills Retreat                                 2\n",
       "AMAZING 2BD CHELSEA/MEATPACKING. BEST LOCATION!!!     2\n",
       "East Village Studio                                   2\n",
       "HOLLYWOOD BIG 3 BEDS 2 BATH/BEST LOCATION!!!          2\n",
       "Cosy room in Bushwick                                 2\n",
       "One bedroom                                           2\n",
       "Brooklyn Gem                                          2\n",
       "Charming Studio                                       2\n",
       "beautiful artist's home / los feliz                   2\n",
       "Charming bedroom in Astoria                           2\n",
       "Cozy room in great location                           2\n",
       "Amazing View over Fenway                              2\n",
       "Harlem Gem                                            2\n",
       "Private room in Reseda, Los Angeles                   2\n",
       "Cozy Cottage With Fire Pit In The Mission             2\n",
       "Lux 3 Bedroom in Seaport Square w/wifi                2\n",
       "Beautiful Victorian House                             2\n",
       "Studio                                                2\n",
       "Craftsman Bungalow near DTLA & USC                    2\n",
       "Large entire apartment located in Lincoln Park        2\n",
       "Adorable Apt in LA/West Hollywood!                    2\n",
       "Sunny Williamsburg Apartment                          2\n",
       "                                                     ..\n",
       "Brooklyn Riad, Easy to the City 2                     1\n",
       "Privacy in a Chic Lincoln Park condo                  1\n",
       "Nice room Convenient to Manhattan D                   1\n",
       "Cozy House, Free parking, 8 Minutes to DC JazzFest    1\n",
       "2 Bedroom in Brooklyn. 5 minutes to Subway            1\n",
       "CA mountain retreat with Pool                         1\n",
       "Artist Loft-McCarren Park-Williamsburg-BrooklynNYC    1\n",
       "Mod Telegraph Hill Apartment!                         1\n",
       "Spacious Downtown NYC 2Bd *Prime Location*            1\n",
       "TOP 5 Airbnb: HEART OF LA !! AMAZING LOCATION !       1\n",
       "Large Private Room in Perfect Area (Park Slope)       1\n",
       "Manhattan Uptown Crashpad                             1\n",
       "One bedroom in Times Square                           1\n",
       "Luxurious Victorian Flat                              1\n",
       "Bachelor Apartment near UCLA                          1\n",
       "Outer Sunset Gem                                      1\n",
       "CONVENTION AREA WITH PRIVATE BATH                     1\n",
       "Elegant Brooklyn Studio in Luxury Amenity Building    1\n",
       "Super fun, updated 2 bed, in \"little Italy\" Boston    1\n",
       "Beautiful Apartment with 2 cats!                      1\n",
       "Spectacular TwinPeaks View Home                       1\n",
       "Location! Chic North Beach 3bdrm.                     1\n",
       "4bd/2.5b Pacific Hts.New & Unique Top Flr Flat!       1\n",
       "Private Urban Harlem Apartment in Manhattan           1\n",
       "Cozy BR | Private Floor & Terrace                     1\n",
       "Million Dollar Views, Modern Condo                    1\n",
       "Welcome to a Great Place In NY!                       1\n",
       "#8 self check-in guesthouse room late arrivals OK     1\n",
       "Palace For Dreams & Memories                          1\n",
       "Private Comfortable Room 15min to Central Park        1\n",
       "Name: name, Length: 28765, dtype: int64"
      ]
     },
     "execution_count": 25,
     "metadata": {},
     "output_type": "execute_result"
    }
   ],
   "source": [
    "df.name.value_counts()\n",
    "#mismo tema con description"
   ]
  },
  {
   "cell_type": "code",
   "execution_count": 26,
   "metadata": {},
   "outputs": [],
   "source": [
    "df.drop(\"name\", axis=1, inplace=True)"
   ]
  },
  {
   "cell_type": "code",
   "execution_count": 27,
   "metadata": {},
   "outputs": [
    {
     "data": {
      "text/plain": [
       "(28877, 25)"
      ]
     },
     "execution_count": 27,
     "metadata": {},
     "output_type": "execute_result"
    }
   ],
   "source": [
    "df.shape"
   ]
  },
  {
   "cell_type": "code",
   "execution_count": 28,
   "metadata": {},
   "outputs": [
    {
     "data": {
      "text/html": [
       "<div>\n",
       "<style scoped>\n",
       "    .dataframe tbody tr th:only-of-type {\n",
       "        vertical-align: middle;\n",
       "    }\n",
       "\n",
       "    .dataframe tbody tr th {\n",
       "        vertical-align: top;\n",
       "    }\n",
       "\n",
       "    .dataframe thead th {\n",
       "        text-align: right;\n",
       "    }\n",
       "</style>\n",
       "<table border=\"1\" class=\"dataframe\">\n",
       "  <thead>\n",
       "    <tr style=\"text-align: right;\">\n",
       "      <th></th>\n",
       "      <th>property_type</th>\n",
       "      <th>room_type</th>\n",
       "      <th>amenities</th>\n",
       "      <th>accommodates</th>\n",
       "      <th>bathrooms</th>\n",
       "      <th>cancellation_policy</th>\n",
       "      <th>cleaning_fee</th>\n",
       "      <th>city</th>\n",
       "      <th>first_review</th>\n",
       "      <th>host_has_profile_pic</th>\n",
       "      <th>...</th>\n",
       "      <th>latitude</th>\n",
       "      <th>longitude</th>\n",
       "      <th>neighbourhood</th>\n",
       "      <th>number_of_reviews</th>\n",
       "      <th>review_scores_rating</th>\n",
       "      <th>thumbnail_url</th>\n",
       "      <th>zipcode</th>\n",
       "      <th>bedrooms</th>\n",
       "      <th>beds</th>\n",
       "      <th>price</th>\n",
       "    </tr>\n",
       "  </thead>\n",
       "  <tbody>\n",
       "    <tr>\n",
       "      <th>0</th>\n",
       "      <td>Apartment</td>\n",
       "      <td>Entire home/apt</td>\n",
       "      <td>{\"Wireless Internet\",\"Air conditioning\",Kitche...</td>\n",
       "      <td>7</td>\n",
       "      <td>1.0</td>\n",
       "      <td>strict</td>\n",
       "      <td>True</td>\n",
       "      <td>NYC</td>\n",
       "      <td>2017-08-05</td>\n",
       "      <td>t</td>\n",
       "      <td>...</td>\n",
       "      <td>40.766115</td>\n",
       "      <td>-73.989040</td>\n",
       "      <td>Hell's Kitchen</td>\n",
       "      <td>6</td>\n",
       "      <td>93.0</td>\n",
       "      <td>https://a0.muscache.com/im/pictures/348a55fe-4...</td>\n",
       "      <td>10019</td>\n",
       "      <td>3.0</td>\n",
       "      <td>3.0</td>\n",
       "      <td>169.0</td>\n",
       "    </tr>\n",
       "    <tr>\n",
       "      <th>1</th>\n",
       "      <td>Apartment</td>\n",
       "      <td>Private room</td>\n",
       "      <td>{TV,\"Wireless Internet\",Heating,\"Smoke detecto...</td>\n",
       "      <td>2</td>\n",
       "      <td>1.0</td>\n",
       "      <td>strict</td>\n",
       "      <td>True</td>\n",
       "      <td>SF</td>\n",
       "      <td>2017-08-27</td>\n",
       "      <td>t</td>\n",
       "      <td>...</td>\n",
       "      <td>37.753164</td>\n",
       "      <td>-122.429526</td>\n",
       "      <td>Noe Valley</td>\n",
       "      <td>3</td>\n",
       "      <td>100.0</td>\n",
       "      <td>https://a0.muscache.com/im/pictures/82509143-4...</td>\n",
       "      <td>94131</td>\n",
       "      <td>1.0</td>\n",
       "      <td>1.0</td>\n",
       "      <td>85.0</td>\n",
       "    </tr>\n",
       "    <tr>\n",
       "      <th>2</th>\n",
       "      <td>Condominium</td>\n",
       "      <td>Entire home/apt</td>\n",
       "      <td>{TV,\"Cable TV\",\"Wireless Internet\",\"Wheelchair...</td>\n",
       "      <td>2</td>\n",
       "      <td>1.0</td>\n",
       "      <td>moderate</td>\n",
       "      <td>True</td>\n",
       "      <td>LA</td>\n",
       "      <td>2016-12-16</td>\n",
       "      <td>t</td>\n",
       "      <td>...</td>\n",
       "      <td>34.046737</td>\n",
       "      <td>-118.260439</td>\n",
       "      <td>Downtown</td>\n",
       "      <td>9</td>\n",
       "      <td>93.0</td>\n",
       "      <td>https://a0.muscache.com/im/pictures/61bd05d5-c...</td>\n",
       "      <td>90015</td>\n",
       "      <td>1.0</td>\n",
       "      <td>1.0</td>\n",
       "      <td>120.0</td>\n",
       "    </tr>\n",
       "    <tr>\n",
       "      <th>3</th>\n",
       "      <td>House</td>\n",
       "      <td>Private room</td>\n",
       "      <td>{TV,\"Cable TV\",\"Wireless Internet\",\"Pets live ...</td>\n",
       "      <td>2</td>\n",
       "      <td>1.0</td>\n",
       "      <td>moderate</td>\n",
       "      <td>True</td>\n",
       "      <td>SF</td>\n",
       "      <td>2016-02-13</td>\n",
       "      <td>t</td>\n",
       "      <td>...</td>\n",
       "      <td>37.781128</td>\n",
       "      <td>-122.501095</td>\n",
       "      <td>Richmond District</td>\n",
       "      <td>159</td>\n",
       "      <td>99.0</td>\n",
       "      <td>https://a0.muscache.com/im/pictures/0ed6c128-7...</td>\n",
       "      <td>94121</td>\n",
       "      <td>1.0</td>\n",
       "      <td>1.0</td>\n",
       "      <td>120.0</td>\n",
       "    </tr>\n",
       "    <tr>\n",
       "      <th>4</th>\n",
       "      <td>Apartment</td>\n",
       "      <td>Private room</td>\n",
       "      <td>{Internet,\"Wireless Internet\",\"Air conditionin...</td>\n",
       "      <td>2</td>\n",
       "      <td>1.0</td>\n",
       "      <td>strict</td>\n",
       "      <td>True</td>\n",
       "      <td>NYC</td>\n",
       "      <td>2013-04-28</td>\n",
       "      <td>t</td>\n",
       "      <td>...</td>\n",
       "      <td>40.723883</td>\n",
       "      <td>-73.983880</td>\n",
       "      <td>Alphabet City</td>\n",
       "      <td>82</td>\n",
       "      <td>93.0</td>\n",
       "      <td>https://a0.muscache.com/im/pictures/21726900/1...</td>\n",
       "      <td>10009.0</td>\n",
       "      <td>1.0</td>\n",
       "      <td>1.0</td>\n",
       "      <td>100.0</td>\n",
       "    </tr>\n",
       "  </tbody>\n",
       "</table>\n",
       "<p>5 rows × 25 columns</p>\n",
       "</div>"
      ],
      "text/plain": [
       "  property_type        room_type  \\\n",
       "0     Apartment  Entire home/apt   \n",
       "1     Apartment     Private room   \n",
       "2   Condominium  Entire home/apt   \n",
       "3         House     Private room   \n",
       "4     Apartment     Private room   \n",
       "\n",
       "                                           amenities  accommodates  bathrooms  \\\n",
       "0  {\"Wireless Internet\",\"Air conditioning\",Kitche...             7        1.0   \n",
       "1  {TV,\"Wireless Internet\",Heating,\"Smoke detecto...             2        1.0   \n",
       "2  {TV,\"Cable TV\",\"Wireless Internet\",\"Wheelchair...             2        1.0   \n",
       "3  {TV,\"Cable TV\",\"Wireless Internet\",\"Pets live ...             2        1.0   \n",
       "4  {Internet,\"Wireless Internet\",\"Air conditionin...             2        1.0   \n",
       "\n",
       "  cancellation_policy  cleaning_fee city first_review host_has_profile_pic  \\\n",
       "0              strict          True  NYC   2017-08-05                    t   \n",
       "1              strict          True   SF   2017-08-27                    t   \n",
       "2            moderate          True   LA   2016-12-16                    t   \n",
       "3            moderate          True   SF   2016-02-13                    t   \n",
       "4              strict          True  NYC   2013-04-28                    t   \n",
       "\n",
       "   ...   latitude   longitude      neighbourhood number_of_reviews  \\\n",
       "0  ...  40.766115  -73.989040     Hell's Kitchen                 6   \n",
       "1  ...  37.753164 -122.429526         Noe Valley                 3   \n",
       "2  ...  34.046737 -118.260439           Downtown                 9   \n",
       "3  ...  37.781128 -122.501095  Richmond District               159   \n",
       "4  ...  40.723883  -73.983880      Alphabet City                82   \n",
       "\n",
       "  review_scores_rating                                      thumbnail_url  \\\n",
       "0                 93.0  https://a0.muscache.com/im/pictures/348a55fe-4...   \n",
       "1                100.0  https://a0.muscache.com/im/pictures/82509143-4...   \n",
       "2                 93.0  https://a0.muscache.com/im/pictures/61bd05d5-c...   \n",
       "3                 99.0  https://a0.muscache.com/im/pictures/0ed6c128-7...   \n",
       "4                 93.0  https://a0.muscache.com/im/pictures/21726900/1...   \n",
       "\n",
       "   zipcode bedrooms  beds  price  \n",
       "0    10019      3.0   3.0  169.0  \n",
       "1    94131      1.0   1.0   85.0  \n",
       "2    90015      1.0   1.0  120.0  \n",
       "3    94121      1.0   1.0  120.0  \n",
       "4  10009.0      1.0   1.0  100.0  \n",
       "\n",
       "[5 rows x 25 columns]"
      ]
     },
     "execution_count": 28,
     "metadata": {},
     "output_type": "execute_result"
    }
   ],
   "source": [
    "#first_review host_has_profile_pic host_identity_verified host_response_rate host_since instant_bookable last_review\n",
    "df.head()"
   ]
  },
  {
   "cell_type": "markdown",
   "metadata": {},
   "source": [
    "### first_review"
   ]
  },
  {
   "cell_type": "code",
   "execution_count": 29,
   "metadata": {},
   "outputs": [
    {
     "data": {
      "text/plain": [
       "2017-01-01    147\n",
       "2017-09-04    138\n",
       "2017-01-02    107\n",
       "2017-01-22    105\n",
       "2017-04-16     95\n",
       "2017-04-09     88\n",
       "2017-03-19     88\n",
       "2016-01-03     86\n",
       "2016-10-09     83\n",
       "2016-01-02     80\n",
       "2017-07-16     77\n",
       "2017-09-03     76\n",
       "2017-09-10     75\n",
       "2017-03-12     75\n",
       "2016-10-16     74\n",
       "2016-09-05     73\n",
       "2017-08-13     71\n",
       "2017-07-30     69\n",
       "2017-03-26     69\n",
       "2015-09-21     67\n",
       "2016-11-06     67\n",
       "2017-04-02     65\n",
       "2016-11-13     65\n",
       "2017-04-23     63\n",
       "2016-01-05     61\n",
       "2017-03-05     61\n",
       "2017-07-31     61\n",
       "2016-10-30     61\n",
       "2017-09-17     60\n",
       "2017-08-27     60\n",
       "             ... \n",
       "2011-05-17      1\n",
       "2013-06-05      1\n",
       "2009-08-25      1\n",
       "2009-10-01      1\n",
       "2013-11-14      1\n",
       "2013-02-28      1\n",
       "2010-07-17      1\n",
       "2012-04-22      1\n",
       "2014-02-04      1\n",
       "2010-07-12      1\n",
       "2012-09-30      1\n",
       "2013-02-17      1\n",
       "2012-11-10      1\n",
       "2013-03-20      1\n",
       "2010-10-29      1\n",
       "2011-07-20      1\n",
       "2011-03-12      1\n",
       "2009-11-15      1\n",
       "2014-01-31      1\n",
       "2012-04-16      1\n",
       "2012-07-03      1\n",
       "2010-11-23      1\n",
       "2010-06-26      1\n",
       "2011-08-25      1\n",
       "2011-06-11      1\n",
       "2013-05-10      1\n",
       "2010-07-06      1\n",
       "2010-05-13      1\n",
       "2009-06-24      1\n",
       "2011-08-08      1\n",
       "Name: first_review, Length: 2339, dtype: int64"
      ]
     },
     "execution_count": 29,
     "metadata": {},
     "output_type": "execute_result"
    }
   ],
   "source": [
    "df.first_review.value_counts()\n",
    "#Demasiados valores únicos"
   ]
  },
  {
   "cell_type": "code",
   "execution_count": 30,
   "metadata": {},
   "outputs": [
    {
     "data": {
      "text/plain": [
       "(28877, 25)"
      ]
     },
     "execution_count": 30,
     "metadata": {},
     "output_type": "execute_result"
    }
   ],
   "source": [
    "df.shape"
   ]
  },
  {
   "cell_type": "code",
   "execution_count": 31,
   "metadata": {},
   "outputs": [
    {
     "data": {
      "text/plain": [
       "(28877, 24)"
      ]
     },
     "execution_count": 31,
     "metadata": {},
     "output_type": "execute_result"
    }
   ],
   "source": [
    "df.drop(\"first_review\", axis=1, inplace=True)\n",
    "df.shape"
   ]
  },
  {
   "cell_type": "markdown",
   "metadata": {},
   "source": [
    "### host_has_profile_pic"
   ]
  },
  {
   "cell_type": "code",
   "execution_count": 32,
   "metadata": {},
   "outputs": [
    {
     "data": {
      "text/plain": [
       "t    28829\n",
       "f       48\n",
       "Name: host_has_profile_pic, dtype: int64"
      ]
     },
     "execution_count": 32,
     "metadata": {},
     "output_type": "execute_result"
    }
   ],
   "source": [
    "df.host_has_profile_pic.value_counts()\n",
    "#practicamente el 100% de los datos son \"true\", no tiene sentido meter esta columna al modelo."
   ]
  },
  {
   "cell_type": "code",
   "execution_count": 33,
   "metadata": {},
   "outputs": [
    {
     "data": {
      "text/plain": [
       "(28877, 24)"
      ]
     },
     "execution_count": 33,
     "metadata": {},
     "output_type": "execute_result"
    }
   ],
   "source": [
    "df.shape"
   ]
  },
  {
   "cell_type": "code",
   "execution_count": 34,
   "metadata": {},
   "outputs": [
    {
     "data": {
      "text/plain": [
       "(28877, 23)"
      ]
     },
     "execution_count": 34,
     "metadata": {},
     "output_type": "execute_result"
    }
   ],
   "source": [
    "df.drop(\"host_has_profile_pic\", axis=1, inplace=True)\n",
    "df.shape"
   ]
  },
  {
   "cell_type": "markdown",
   "metadata": {},
   "source": [
    "### host_identity_verified"
   ]
  },
  {
   "cell_type": "code",
   "execution_count": 35,
   "metadata": {},
   "outputs": [
    {
     "data": {
      "text/plain": [
       "t    20923\n",
       "f     7954\n",
       "Name: host_identity_verified, dtype: int64"
      ]
     },
     "execution_count": 35,
     "metadata": {},
     "output_type": "execute_result"
    }
   ],
   "source": [
    "df.host_identity_verified.value_counts()\n",
    "#Si vale la pena conservar esta columna, además, ya estan listos los datos para pasarlos a contínuos."
   ]
  },
  {
   "cell_type": "markdown",
   "metadata": {},
   "source": [
    "### host_response_rate"
   ]
  },
  {
   "cell_type": "code",
   "execution_count": 36,
   "metadata": {},
   "outputs": [],
   "source": [
    "#If you respond to all new inquiries and requests within 24 hours, then you have nothing to worry about; \n",
    "#your response rate should be 100%. Of course, if your response rate begins to falter for whatever reason, \n",
    "#your percentage will start to dip.\n",
    "#http://darebnb.com/use-airbnbs-response-rate-to-your-advantage/\n",
    "#https://www.hostyapp.com/airbnb-response-rate/\n",
    "\n",
    "#Es decir, si un host siempre ha respondido a las solicitudes de los clientes dentro de 24 horas, su hot_response_rate sera 100%\n",
    "#De lo contrario, el porcentaje ira disminuyendo."
   ]
  },
  {
   "cell_type": "code",
   "execution_count": 37,
   "metadata": {},
   "outputs": [
    {
     "data": {
      "text/plain": [
       "0     100%\n",
       "1     100%\n",
       "2     100%\n",
       "3     100%\n",
       "4     100%\n",
       "5     100%\n",
       "6     100%\n",
       "7     100%\n",
       "8     100%\n",
       "9      90%\n",
       "10    100%\n",
       "11     86%\n",
       "12    100%\n",
       "13    100%\n",
       "14    100%\n",
       "Name: host_response_rate, dtype: object"
      ]
     },
     "execution_count": 37,
     "metadata": {},
     "output_type": "execute_result"
    }
   ],
   "source": [
    "df.host_response_rate.head(n=15)"
   ]
  },
  {
   "cell_type": "code",
   "execution_count": 38,
   "metadata": {},
   "outputs": [
    {
     "data": {
      "text/plain": [
       "100%    23319\n",
       "90%      1241\n",
       "80%       540\n",
       "70%       252\n",
       "50%       219\n",
       "99%       197\n",
       "97%       180\n",
       "94%       178\n",
       "96%       174\n",
       "98%       170\n",
       "0%        165\n",
       "92%       165\n",
       "67%       158\n",
       "93%       154\n",
       "60%       152\n",
       "95%       151\n",
       "89%       151\n",
       "88%       139\n",
       "83%       137\n",
       "75%       134\n",
       "86%       123\n",
       "91%       123\n",
       "78%        48\n",
       "71%        45\n",
       "87%        44\n",
       "33%        42\n",
       "40%        37\n",
       "82%        37\n",
       "85%        32\n",
       "81%        29\n",
       "        ...  \n",
       "44%         9\n",
       "64%         8\n",
       "43%         7\n",
       "53%         7\n",
       "76%         7\n",
       "29%         7\n",
       "69%         7\n",
       "55%         7\n",
       "10%         7\n",
       "74%         6\n",
       "72%         6\n",
       "65%         4\n",
       "38%         4\n",
       "62%         3\n",
       "52%         3\n",
       "17%         3\n",
       "46%         2\n",
       "42%         2\n",
       "36%         2\n",
       "47%         2\n",
       "22%         2\n",
       "35%         1\n",
       "14%         1\n",
       "59%         1\n",
       "61%         1\n",
       "11%         1\n",
       "31%         1\n",
       "15%         1\n",
       "26%         1\n",
       "21%         1\n",
       "Name: host_response_rate, Length: 73, dtype: int64"
      ]
     },
     "execution_count": 38,
     "metadata": {},
     "output_type": "execute_result"
    }
   ],
   "source": [
    "df.host_response_rate.value_counts()\n",
    "#La mayoría de los huéspedes tienen un 100% de rate, sin embargo, no es un porcentaje tan grande como para dropear esta columna.\n",
    "#Voy a reemplazar esta columna como boleano, que sea, 1: 100% rate, 0: >100% rate. Algo como HOT y NO HOT"
   ]
  },
  {
   "cell_type": "code",
   "execution_count": 39,
   "metadata": {},
   "outputs": [
    {
     "data": {
      "text/plain": [
       "pandas.core.series.Series"
      ]
     },
     "execution_count": 39,
     "metadata": {},
     "output_type": "execute_result"
    }
   ],
   "source": [
    "type(df.host_response_rate)"
   ]
  },
  {
   "cell_type": "code",
   "execution_count": 40,
   "metadata": {},
   "outputs": [
    {
     "data": {
      "text/plain": [
       "HOT        23319\n",
       "NOT HOT     5558\n",
       "Name: host_response, dtype: int64"
      ]
     },
     "execution_count": 40,
     "metadata": {},
     "output_type": "execute_result"
    }
   ],
   "source": [
    "df['host_response']=pd.DataFrame(np.where(df.host_response_rate == '100%','HOT','NOT HOT'))\n",
    "df.host_response.value_counts()"
   ]
  },
  {
   "cell_type": "code",
   "execution_count": 41,
   "metadata": {},
   "outputs": [
    {
     "data": {
      "text/plain": [
       "(28877, 24)"
      ]
     },
     "execution_count": 41,
     "metadata": {},
     "output_type": "execute_result"
    }
   ],
   "source": [
    "df.shape"
   ]
  },
  {
   "cell_type": "code",
   "execution_count": 42,
   "metadata": {},
   "outputs": [
    {
     "data": {
      "text/plain": [
       "(28877, 23)"
      ]
     },
     "execution_count": 42,
     "metadata": {},
     "output_type": "execute_result"
    }
   ],
   "source": [
    "df.drop(\"host_response_rate\", axis=1, inplace=True)\n",
    "df.shape"
   ]
  },
  {
   "cell_type": "markdown",
   "metadata": {},
   "source": [
    "### host_since"
   ]
  },
  {
   "cell_type": "code",
   "execution_count": 43,
   "metadata": {},
   "outputs": [
    {
     "data": {
      "text/plain": [
       "2014-02-14    110\n",
       "2015-03-30     68\n",
       "2014-09-02     41\n",
       "2014-03-17     38\n",
       "2014-07-29     37\n",
       "2016-01-18     37\n",
       "2016-08-23     37\n",
       "2015-08-19     36\n",
       "2015-03-05     36\n",
       "2014-09-10     35\n",
       "2014-04-30     35\n",
       "2012-08-27     34\n",
       "2013-08-07     34\n",
       "2015-10-27     34\n",
       "2014-06-24     31\n",
       "2015-06-18     31\n",
       "2015-07-29     31\n",
       "2014-07-02     30\n",
       "2014-07-31     30\n",
       "2014-05-19     30\n",
       "2015-07-06     30\n",
       "2015-11-23     29\n",
       "2016-02-10     29\n",
       "2014-06-02     28\n",
       "2012-11-14     28\n",
       "2013-06-12     28\n",
       "2016-11-10     28\n",
       "2014-09-17     28\n",
       "2014-03-10     27\n",
       "2013-08-02     27\n",
       "             ... \n",
       "2011-02-12      1\n",
       "2009-09-06      1\n",
       "2009-05-17      1\n",
       "2009-09-15      1\n",
       "2009-05-28      1\n",
       "2010-02-23      1\n",
       "2009-06-11      1\n",
       "2009-06-14      1\n",
       "2012-01-14      1\n",
       "2010-01-29      1\n",
       "2008-12-26      1\n",
       "2009-12-29      1\n",
       "2009-08-19      1\n",
       "2008-11-19      1\n",
       "2010-06-06      1\n",
       "2009-08-23      1\n",
       "2009-12-24      1\n",
       "2008-08-27      1\n",
       "2011-01-22      1\n",
       "2008-12-31      1\n",
       "2010-11-06      1\n",
       "2009-11-23      1\n",
       "2009-07-17      1\n",
       "2010-10-28      1\n",
       "2009-10-12      1\n",
       "2010-04-18      1\n",
       "2010-05-10      1\n",
       "2009-01-03      1\n",
       "2010-08-29      1\n",
       "2009-07-02      1\n",
       "Name: host_since, Length: 2910, dtype: int64"
      ]
     },
     "execution_count": 43,
     "metadata": {},
     "output_type": "execute_result"
    }
   ],
   "source": [
    "df.host_since.value_counts()\n",
    "#Demasiados valores unicos"
   ]
  },
  {
   "cell_type": "code",
   "execution_count": 44,
   "metadata": {},
   "outputs": [
    {
     "data": {
      "text/plain": [
       "(28877, 23)"
      ]
     },
     "execution_count": 44,
     "metadata": {},
     "output_type": "execute_result"
    }
   ],
   "source": [
    "df.shape"
   ]
  },
  {
   "cell_type": "code",
   "execution_count": 45,
   "metadata": {},
   "outputs": [
    {
     "data": {
      "text/plain": [
       "(28877, 22)"
      ]
     },
     "execution_count": 45,
     "metadata": {},
     "output_type": "execute_result"
    }
   ],
   "source": [
    "df.drop(\"host_since\", axis=1, inplace=True)\n",
    "df.shape"
   ]
  },
  {
   "cell_type": "markdown",
   "metadata": {},
   "source": [
    "### instant_bookable"
   ]
  },
  {
   "cell_type": "code",
   "execution_count": 46,
   "metadata": {},
   "outputs": [
    {
     "data": {
      "text/plain": [
       "f    20005\n",
       "t     8872\n",
       "Name: instant_bookable, dtype: int64"
      ]
     },
     "execution_count": 46,
     "metadata": {},
     "output_type": "execute_result"
    }
   ],
   "source": [
    "df.instant_bookable.value_counts()\n",
    "#lista para pasar a nominal"
   ]
  },
  {
   "cell_type": "markdown",
   "metadata": {},
   "source": [
    "### last_review"
   ]
  },
  {
   "cell_type": "code",
   "execution_count": 47,
   "metadata": {},
   "outputs": [
    {
     "data": {
      "text/plain": [
       "2017-09-24    916\n",
       "2017-09-17    862\n",
       "2017-04-30    689\n",
       "2017-09-18    590\n",
       "2017-09-25    585\n",
       "2017-04-23    521\n",
       "2017-10-01    518\n",
       "2017-09-16    485\n",
       "2017-09-28    481\n",
       "2017-09-04    469\n",
       "2017-09-15    454\n",
       "2017-09-29    437\n",
       "2017-09-30    435\n",
       "2017-09-23    422\n",
       "2017-09-26    404\n",
       "2017-09-22    401\n",
       "2017-09-10    393\n",
       "2017-09-27    377\n",
       "2017-05-07    371\n",
       "2017-05-01    361\n",
       "2017-04-16    361\n",
       "2017-09-14    353\n",
       "2017-09-21    346\n",
       "2017-09-20    323\n",
       "2017-04-24    320\n",
       "2017-09-19    317\n",
       "2017-04-29    285\n",
       "2017-09-13    270\n",
       "2017-09-11    265\n",
       "2017-09-12    240\n",
       "             ... \n",
       "2014-11-29      1\n",
       "2015-07-05      1\n",
       "2014-05-27      1\n",
       "2015-03-16      1\n",
       "2014-10-18      1\n",
       "2014-11-19      1\n",
       "2016-07-09      1\n",
       "2015-09-14      1\n",
       "2015-01-25      1\n",
       "2015-11-16      1\n",
       "2016-03-06      1\n",
       "2015-05-27      1\n",
       "2015-07-02      1\n",
       "2015-03-28      1\n",
       "2015-12-20      1\n",
       "2016-01-11      1\n",
       "2015-04-13      1\n",
       "2013-08-10      1\n",
       "2016-05-09      1\n",
       "2016-04-13      1\n",
       "2014-12-11      1\n",
       "2015-05-16      1\n",
       "2016-04-03      1\n",
       "2013-04-25      1\n",
       "2014-10-27      1\n",
       "2016-01-10      1\n",
       "2015-05-23      1\n",
       "2015-09-24      1\n",
       "2014-10-12      1\n",
       "2015-11-23      1\n",
       "Name: last_review, Length: 916, dtype: int64"
      ]
     },
     "execution_count": 47,
     "metadata": {},
     "output_type": "execute_result"
    }
   ],
   "source": [
    "df.last_review.value_counts()\n",
    "#Si existiera una variable que te diga la fecha en la que fueron recolectados los datos, prodrías sacar cuántos días\n",
    "# han pasado entre el last_review y la fecha actual. Así, se puede hacer una clasificación por rangos y posiblemente sacarle\n",
    "# provecho a esta variable.\n",
    "#Por lo pronto: DROP"
   ]
  },
  {
   "cell_type": "code",
   "execution_count": 48,
   "metadata": {},
   "outputs": [
    {
     "data": {
      "text/plain": [
       "(28877, 22)"
      ]
     },
     "execution_count": 48,
     "metadata": {},
     "output_type": "execute_result"
    }
   ],
   "source": [
    "df.shape"
   ]
  },
  {
   "cell_type": "code",
   "execution_count": 49,
   "metadata": {},
   "outputs": [
    {
     "data": {
      "text/plain": [
       "(28877, 21)"
      ]
     },
     "execution_count": 49,
     "metadata": {},
     "output_type": "execute_result"
    }
   ],
   "source": [
    "df.drop(\"last_review\", axis=1, inplace=True)\n",
    "df.shape"
   ]
  },
  {
   "cell_type": "markdown",
   "metadata": {},
   "source": [
    "### thumbnail_url"
   ]
  },
  {
   "cell_type": "code",
   "execution_count": 50,
   "metadata": {},
   "outputs": [
    {
     "data": {
      "text/plain": [
       "https://a0.muscache.com/im/pictures/70087089/bc66229a_original.jpg?aki_policy=small              2\n",
       "https://a0.muscache.com/im/pictures/23033013/54d62516_original.jpg?aki_policy=small              2\n",
       "https://a0.muscache.com/im/pictures/61042471/5543b0e0_original.jpg?aki_policy=small              2\n",
       "https://a0.muscache.com/im/pictures/104667326/a7a2b145_original.jpg?aki_policy=small             2\n",
       "https://a0.muscache.com/im/pictures/88681133-8c22-4139-b6fb-1987c206ce33.jpg?aki_policy=small    1\n",
       "https://a0.muscache.com/im/pictures/37299165/3b8714f9_original.jpg?aki_policy=small              1\n",
       "https://a0.muscache.com/im/pictures/802f8623-e7a4-4354-bb6c-eae2a190d018.jpg?aki_policy=small    1\n",
       "https://a0.muscache.com/im/pictures/5ffd9705-8e3f-4fca-834f-e6dab03a1722.jpg?aki_policy=small    1\n",
       "https://a0.muscache.com/im/pictures/35971753/9640ff8a_original.jpg?aki_policy=small              1\n",
       "https://a0.muscache.com/im/pictures/a2f9d55a-b6bb-4b5e-974b-445638ea7b74.jpg?aki_policy=small    1\n",
       "https://a0.muscache.com/im/pictures/008e82d9-76c5-47ab-af47-ecc255ca76a1.jpg?aki_policy=small    1\n",
       "https://a0.muscache.com/im/pictures/2500c58f-bb63-4a6b-ac21-482f90b12b27.jpg?aki_policy=small    1\n",
       "https://a0.muscache.com/im/pictures/02f47ff6-c197-4c42-bee9-b96edc4c4342.jpg?aki_policy=small    1\n",
       "https://a0.muscache.com/im/pictures/01c881f9-333b-43e7-a026-139a33a81b0f.jpg?aki_policy=small    1\n",
       "https://a0.muscache.com/im/pictures/81959001/f36b5843_original.jpg?aki_policy=small              1\n",
       "https://a0.muscache.com/im/pictures/5cd9b9b3-3157-4d0e-900a-6e33d7c3493a.jpg?aki_policy=small    1\n",
       "https://a0.muscache.com/im/pictures/82a6a137-ed54-4501-8804-dadf30c3b88f.jpg?aki_policy=small    1\n",
       "https://a0.muscache.com/im/pictures/492b4ebe-1fc2-49d7-b1f7-f6d67aaa7630.jpg?aki_policy=small    1\n",
       "https://a0.muscache.com/im/pictures/1dda9f1d-ce18-4379-a835-f134236bfcc3.jpg?aki_policy=small    1\n",
       "https://a0.muscache.com/im/pictures/f1767f38-bf76-43f1-a6ce-b27401ada249.jpg?aki_policy=small    1\n",
       "https://a0.muscache.com/im/pictures/63909197/1ba48a2f_original.jpg?aki_policy=small              1\n",
       "https://a0.muscache.com/im/pictures/ee50befe-c54a-4431-9b7f-955e943b2111.jpg?aki_policy=small    1\n",
       "https://a0.muscache.com/im/pictures/5fe80f52-d1fb-4d26-8678-f5376a85e18a.jpg?aki_policy=small    1\n",
       "https://a0.muscache.com/im/pictures/9c73a1ce-a6b3-41df-9406-e4fa1bb24f2b.jpg?aki_policy=small    1\n",
       "https://a0.muscache.com/im/pictures/2a06ba6a-a488-4214-aea5-0e834c36ce3a.jpg?aki_policy=small    1\n",
       "https://a0.muscache.com/im/pictures/89c5087b-93ef-4fb0-9070-e65ff4c6d056.jpg?aki_policy=small    1\n",
       "https://a0.muscache.com/im/pictures/afcf5d12-6b28-4441-b793-ab1e328f2922.jpg?aki_policy=small    1\n",
       "https://a0.muscache.com/im/pictures/f615e173-111c-4b8c-ad52-1cee58498fed.jpg?aki_policy=small    1\n",
       "https://a0.muscache.com/im/pictures/69894ae9-85ee-4193-ae8e-342258561c2d.jpg?aki_policy=small    1\n",
       "https://a0.muscache.com/im/pictures/83742807/da77f07f_original.jpg?aki_policy=small              1\n",
       "                                                                                                ..\n",
       "https://a0.muscache.com/im/pictures/a497142c-6ccd-4919-a084-7ae0e75cd1f6.jpg?aki_policy=small    1\n",
       "https://a0.muscache.com/im/pictures/30611430/a9ce4788_original.jpg?aki_policy=small              1\n",
       "https://a0.muscache.com/im/pictures/105079418/1c98d236_original.jpg?aki_policy=small             1\n",
       "https://a0.muscache.com/im/pictures/7201322a-303c-4ec6-9112-1c491c0f6936.jpg?aki_policy=small    1\n",
       "https://a0.muscache.com/im/pictures/fa277f9b-104b-452e-ba7e-e0f5c7f0de65.jpg?aki_policy=small    1\n",
       "https://a0.muscache.com/im/pictures/ba2c44a4-1393-4214-b84f-01d86cdc569f.jpg?aki_policy=small    1\n",
       "https://a0.muscache.com/im/pictures/7968289/21f78b36_original.jpg?aki_policy=small               1\n",
       "https://a0.muscache.com/im/pictures/b1528c33-3c7d-4a51-8a36-d52056118184.jpg?aki_policy=small    1\n",
       "https://a0.muscache.com/im/pictures/bf2cf102-ce39-41f2-8634-965351f6c9c4.jpg?aki_policy=small    1\n",
       "https://a0.muscache.com/im/pictures/27514473/5ef00bb4_original.jpg?aki_policy=small              1\n",
       "https://a0.muscache.com/im/pictures/d83e5f84-530e-4e58-a000-e5fd4a7998c6.jpg?aki_policy=small    1\n",
       "https://a0.muscache.com/im/pictures/a79dcb51-ff31-498f-82cb-733a97ede0ad.jpg?aki_policy=small    1\n",
       "https://a0.muscache.com/im/pictures/1fde5135-bfdb-4dbe-b219-3d7208210e3b.jpg?aki_policy=small    1\n",
       "https://a0.muscache.com/im/pictures/081595f3-d5a9-4216-b926-4b3a864b47c7.jpg?aki_policy=small    1\n",
       "https://a0.muscache.com/im/pictures/b2a191f1-0787-4460-941b-507fb50fe863.jpg?aki_policy=small    1\n",
       "https://a0.muscache.com/im/pictures/70850695/7926bd52_original.jpg?aki_policy=small              1\n",
       "https://a0.muscache.com/im/pictures/485d1ae8-98e6-4122-93b0-a2d8a5816f16.jpg?aki_policy=small    1\n",
       "https://a0.muscache.com/im/pictures/98566497/83c994b0_original.jpg?aki_policy=small              1\n",
       "https://a0.muscache.com/im/pictures/79806017/48a6ed66_original.jpg?aki_policy=small              1\n",
       "https://a0.muscache.com/im/pictures/3e7edbc9-1cf4-4a00-8fa8-8be57cbacc84.jpg?aki_policy=small    1\n",
       "https://a0.muscache.com/im/pictures/a11c1986-ac31-4a85-9904-e394d9b27d6e.jpg?aki_policy=small    1\n",
       "https://a0.muscache.com/im/pictures/2229d6be-33bb-4bd2-8711-648ed47db7d3.jpg?aki_policy=small    1\n",
       "https://a0.muscache.com/im/pictures/15122807/06b3ebdd_original.jpg?aki_policy=small              1\n",
       "https://a0.muscache.com/im/pictures/14052b1b-8db4-4138-be21-acd1e5cb8895.jpg?aki_policy=small    1\n",
       "https://a0.muscache.com/im/pictures/cfb0dc67-850d-4bf3-91ed-0ed778ff02c8.jpg?aki_policy=small    1\n",
       "https://a0.muscache.com/im/pictures/ff9fdc04-ef05-4002-ba71-8311aa88277b.jpg?aki_policy=small    1\n",
       "https://a0.muscache.com/im/pictures/fb2a64e2-0aa8-4cde-b04f-6052104f79fa.jpg?aki_policy=small    1\n",
       "https://a0.muscache.com/im/pictures/17005789/dfa32d47_original.jpg?aki_policy=small              1\n",
       "https://a0.muscache.com/im/pictures/04b16653-4a27-45f4-a215-5b205fa937fe.jpg?aki_policy=small    1\n",
       "https://a0.muscache.com/im/pictures/10742508/8317a305_original.jpg?aki_policy=small              1\n",
       "Name: thumbnail_url, Length: 28873, dtype: int64"
      ]
     },
     "execution_count": 50,
     "metadata": {},
     "output_type": "execute_result"
    }
   ],
   "source": [
    "df.thumbnail_url.value_counts()"
   ]
  },
  {
   "cell_type": "code",
   "execution_count": 51,
   "metadata": {},
   "outputs": [
    {
     "data": {
      "text/plain": [
       "(28877, 21)"
      ]
     },
     "execution_count": 51,
     "metadata": {},
     "output_type": "execute_result"
    }
   ],
   "source": [
    "df.shape"
   ]
  },
  {
   "cell_type": "code",
   "execution_count": 52,
   "metadata": {},
   "outputs": [
    {
     "data": {
      "text/plain": [
       "(28877, 20)"
      ]
     },
     "execution_count": 52,
     "metadata": {},
     "output_type": "execute_result"
    }
   ],
   "source": [
    "df.drop(\"thumbnail_url\", axis=1, inplace=True)\n",
    "df.shape"
   ]
  },
  {
   "cell_type": "markdown",
   "metadata": {},
   "source": [
    "## 3. Extraer los valores de \"amenities\""
   ]
  },
  {
   "cell_type": "code",
   "execution_count": 53,
   "metadata": {},
   "outputs": [
    {
     "data": {
      "text/plain": [
       "0    {\"Wireless Internet\",\"Air conditioning\",Kitche...\n",
       "1    {TV,\"Wireless Internet\",Heating,\"Smoke detecto...\n",
       "2    {TV,\"Cable TV\",\"Wireless Internet\",\"Wheelchair...\n",
       "3    {TV,\"Cable TV\",\"Wireless Internet\",\"Pets live ...\n",
       "4    {Internet,\"Wireless Internet\",\"Air conditionin...\n",
       "Name: amenities, dtype: object"
      ]
     },
     "execution_count": 53,
     "metadata": {},
     "output_type": "execute_result"
    }
   ],
   "source": [
    "df.amenities.head()"
   ]
  },
  {
   "cell_type": "code",
   "execution_count": 54,
   "metadata": {},
   "outputs": [],
   "source": [
    "#Crear una lista de los elementos:\n",
    "#df.amenities[6].replace(\"{\",\"\").replace(\"}\",\"\").replace('\"','').split(sep=',')\n",
    "\n",
    "#for e in range(len(df)):\n",
    "    #df.amenities[e]=df.amenities[e].replace(\"{\",\"\").replace(\"}\",\"\").replace('\"','').split(sep=',')\n",
    "#este ciclo no terminó de correr, no se realmente por qué. Pero recuerdo que Yona muchas veces nos ha dicho que evitemos los ciclos.\n",
    "\n",
    "df.amenities= df.amenities.apply(lambda x: x.replace(\"{\",\"\").replace(\"}\",\"\").replace('\"','').split(sep=','))\n",
    "#es por lo anterior que aplique un lambda"
   ]
  },
  {
   "cell_type": "code",
   "execution_count": 55,
   "metadata": {},
   "outputs": [],
   "source": [
    "#Voy a crear un radio de amenities: obtendré el max(len) de amenities que existe y voy a utilizarlo para obtener un radio de \n",
    "# los demás valores. El registro que tenga este radio = 1 es el que tiene el 100% de amenidades.\n",
    "temp=[len(e) for e in df.amenities]\n",
    "amenities_ratio=[e/max(temp) for e in temp]"
   ]
  },
  {
   "cell_type": "code",
   "execution_count": 56,
   "metadata": {},
   "outputs": [],
   "source": [
    "df['amenities_ratio']=pd.DataFrame(amenities_ratio)"
   ]
  },
  {
   "cell_type": "code",
   "execution_count": 57,
   "metadata": {},
   "outputs": [
    {
     "data": {
      "text/plain": [
       "(28877, 21)"
      ]
     },
     "execution_count": 57,
     "metadata": {},
     "output_type": "execute_result"
    }
   ],
   "source": [
    "df.shape"
   ]
  },
  {
   "cell_type": "code",
   "execution_count": 58,
   "metadata": {},
   "outputs": [
    {
     "data": {
      "text/plain": [
       "(28877, 20)"
      ]
     },
     "execution_count": 58,
     "metadata": {},
     "output_type": "execute_result"
    }
   ],
   "source": [
    "df.drop(\"amenities\", axis=1, inplace=True)\n",
    "df.shape"
   ]
  },
  {
   "cell_type": "markdown",
   "metadata": {},
   "source": [
    "## 4. neighbourhood"
   ]
  },
  {
   "cell_type": "code",
   "execution_count": 59,
   "metadata": {},
   "outputs": [
    {
     "data": {
      "text/plain": [
       "Williamsburg                        1139\n",
       "Bedford-Stuyvesant                  1017\n",
       "Mid-Wilshire                         660\n",
       "Bushwick                             649\n",
       "Hell's Kitchen                       604\n",
       "Harlem                               592\n",
       "Hollywood                            568\n",
       "Upper West Side                      510\n",
       "Upper East Side                      501\n",
       "Venice                               495\n",
       "Crown Heights                        461\n",
       "Astoria                              368\n",
       "East Harlem                          363\n",
       "Mission District                     346\n",
       "Lower East Side                      337\n",
       "East Village                         314\n",
       "Chelsea                              289\n",
       "Long Beach                           278\n",
       "West Hollywood                       275\n",
       "Washington Heights                   269\n",
       "Hamilton Heights                     267\n",
       "Santa Monica                         261\n",
       "Greenpoint                           260\n",
       "Alphabet City                        251\n",
       "Clinton Hill                         246\n",
       "Park Slope                           244\n",
       "Flatbush                             236\n",
       "West Village                         231\n",
       "Downtown                             230\n",
       "Silver Lake                          210\n",
       "                                    ... \n",
       "North Hollywood                      132\n",
       "The Castro                           132\n",
       "Sunnyside                            131\n",
       "Financial District                   127\n",
       "Logan Square                         125\n",
       "Midtown                              124\n",
       "Outer Sunset                         119\n",
       "Lefferts Garden                      117\n",
       "Westwood                             116\n",
       "Greenwich Village                    116\n",
       "Kips Bay                             114\n",
       "Roxbury                              113\n",
       "Beacon Hill                          112\n",
       "Del Rey                              112\n",
       "West Los Angeles                     109\n",
       "Ridgewood                            107\n",
       "Prospect Heights                     106\n",
       "Columbia Heights                     105\n",
       "Mid-City                             104\n",
       "Near Northeast/H Street Corridor     102\n",
       "Westchester/Playa Del Rey            102\n",
       "South LA                             101\n",
       "Glendale                             101\n",
       "Fort Greene                          101\n",
       "Flushing                             101\n",
       "East New York                         97\n",
       "Lakeview                              96\n",
       "Fenway/Kenmore                        95\n",
       "Marina Del Rey                        94\n",
       "Burbank                               94\n",
       "Name: neighbourhood, Length: 80, dtype: int64"
      ]
     },
     "execution_count": 59,
     "metadata": {},
     "output_type": "execute_result"
    }
   ],
   "source": [
    "df.neighbourhood.value_counts().head(n=80)"
   ]
  },
  {
   "cell_type": "code",
   "execution_count": 60,
   "metadata": {},
   "outputs": [
    {
     "name": "stdout",
     "output_type": "stream",
     "text": [
      "13379 7571 2713 1815 1776 1623\n"
     ]
    }
   ],
   "source": [
    "print(len(df.neighbourhood[df.city == 'NYC']),\n",
    "        len(df.neighbourhood[df.city == 'LA']),\n",
    "        len(df.neighbourhood[df.city == 'SF']),\n",
    "        len(df.neighbourhood[df.city == 'DC']),\n",
    "        len(df.neighbourhood[df.city == 'Boston']),\n",
    "        len(df.neighbourhood[df.city == 'Chicago'])\n",
    "     )"
   ]
  },
  {
   "cell_type": "code",
   "execution_count": 61,
   "metadata": {},
   "outputs": [
    {
     "data": {
      "text/plain": [
       "Williamsburg          1139\n",
       "Bedford-Stuyvesant    1017\n",
       "Bushwick               649\n",
       "Hell's Kitchen         604\n",
       "Harlem                 592\n",
       "Upper West Side        510\n",
       "Upper East Side        501\n",
       "Crown Heights          461\n",
       "Astoria                368\n",
       "East Harlem            363\n",
       "Lower East Side        337\n",
       "East Village           314\n",
       "Chelsea                289\n",
       "Washington Heights     268\n",
       "Hamilton Heights       267\n",
       "Name: neighbourhood, dtype: int64"
      ]
     },
     "execution_count": 61,
     "metadata": {},
     "output_type": "execute_result"
    }
   ],
   "source": [
    "df.neighbourhood[df.city == 'NYC'].value_counts().head(n=15)"
   ]
  },
  {
   "cell_type": "code",
   "execution_count": 62,
   "metadata": {},
   "outputs": [
    {
     "data": {
      "text/plain": [
       "Mid-Wilshire                 660\n",
       "Hollywood                    568\n",
       "Venice                       495\n",
       "Long Beach                   278\n",
       "West Hollywood               275\n",
       "Santa Monica                 261\n",
       "Silver Lake                  210\n",
       "Echo Park                    186\n",
       "Pasadena                     170\n",
       "Downtown                     167\n",
       "Hollywood Hills              163\n",
       "Mar Vista                    149\n",
       "Westlake                     137\n",
       "North Hollywood              132\n",
       "Westwood                     116\n",
       "Del Rey                      112\n",
       "West Los Angeles             109\n",
       "Mid-City                     104\n",
       "Westchester/Playa Del Rey    102\n",
       "South LA                     101\n",
       "Marina Del Rey                94\n",
       "Glendale                      94\n",
       "Burbank                       94\n",
       "Sherman Oaks                  93\n",
       "Culver City                   85\n",
       "Redondo Beach                 82\n",
       "Malibu                        81\n",
       "Los Feliz                     80\n",
       "Highland Park                 80\n",
       "East Hollywood                79\n",
       "                            ... \n",
       "Bellflower                     4\n",
       "Porter Ranch                   3\n",
       "Chatsworth                     3\n",
       "Bradbury                       3\n",
       "Pacoima                        3\n",
       "Sierra Madre                   3\n",
       "South Whittier                 3\n",
       "North Hills East               3\n",
       "Montebello                     3\n",
       "West Athens                    2\n",
       "Lynwood                        2\n",
       "Monterey Hills                 2\n",
       "Westmont                       2\n",
       "Norwalk                        2\n",
       "West Puente Valley             2\n",
       "San Marino                     2\n",
       "Willowbrook                    2\n",
       "Huntington Park                2\n",
       "Rolling Hills                  1\n",
       "Hawaiian Gardens               1\n",
       "East San Gabriel               1\n",
       "Irwindale                      1\n",
       "South El Monte                 1\n",
       "La Puente                      1\n",
       "Santa Fe Springs               1\n",
       "Paramount                      1\n",
       "Baldwin Park                   1\n",
       "Bell                           1\n",
       "Commerce                       1\n",
       "Rolling Hills Estates          1\n",
       "Name: neighbourhood, Length: 147, dtype: int64"
      ]
     },
     "execution_count": 62,
     "metadata": {},
     "output_type": "execute_result"
    }
   ],
   "source": [
    "df.neighbourhood[df.city == 'LA'].value_counts()"
   ]
  },
  {
   "cell_type": "code",
   "execution_count": 63,
   "metadata": {},
   "outputs": [
    {
     "data": {
      "text/plain": [
       "Mission District         346\n",
       "Richmond District        167\n",
       "Bernal Heights           156\n",
       "Western Addition/NOPA    149\n",
       "Noe Valley               148\n",
       "SoMa                     144\n",
       "The Castro               132\n",
       "Outer Sunset             119\n",
       "Potrero Hill              82\n",
       "Nob Hill                  76\n",
       "Pacific Heights           73\n",
       "Haight-Ashbury            64\n",
       "Downtown                  55\n",
       "Duboce Triangle           54\n",
       "Marina                    53\n",
       "Bayview                   52\n",
       "Inner Sunset              51\n",
       "Alamo Square              47\n",
       "Excelsior                 44\n",
       "Lower Haight              43\n",
       "Russian Hill              41\n",
       "Parkside                  39\n",
       "Sunnyside                 37\n",
       "Glen Park                 34\n",
       "South Beach               34\n",
       "Cole Valley               34\n",
       "Mission Terrace           33\n",
       "Twin Peaks                31\n",
       "Hayes Valley              28\n",
       "North Beach               27\n",
       "Telegraph Hill            26\n",
       "Crocker Amazon            26\n",
       "Tenderloin                25\n",
       "Cow Hollow                24\n",
       "Visitacion Valley         23\n",
       "Chinatown                 22\n",
       "Ingleside                 18\n",
       "Balboa Terrace            17\n",
       "Oceanview                 16\n",
       "Lakeshore                 15\n",
       "Union Square              14\n",
       "Fisherman's Wharf         14\n",
       "Diamond Heights           11\n",
       "Forest Hill               10\n",
       "Portola                   10\n",
       "Civic Center               9\n",
       "Presidio Heights           9\n",
       "Financial District         8\n",
       "Dogpatch                   8\n",
       "Mission Bay                7\n",
       "West Portal                6\n",
       "Japantown                  1\n",
       "Sea Cliff                  1\n",
       "Name: neighbourhood, dtype: int64"
      ]
     },
     "execution_count": 63,
     "metadata": {},
     "output_type": "execute_result"
    }
   ],
   "source": [
    "df.neighbourhood[df.city == 'SF'].value_counts()"
   ]
  },
  {
   "cell_type": "code",
   "execution_count": 64,
   "metadata": {},
   "outputs": [
    {
     "data": {
      "text/plain": [
       "(28877, 20)"
      ]
     },
     "execution_count": 64,
     "metadata": {},
     "output_type": "execute_result"
    }
   ],
   "source": [
    "#Voy a optar por borrar la variable neighborhood, ya que hay demasiados valores unicos para cada ciudad.\n",
    "#Además, ya se tiene una columna con el código postal, que puede ayudar a sustituir esta info.\n",
    "df.shape"
   ]
  },
  {
   "cell_type": "code",
   "execution_count": 65,
   "metadata": {},
   "outputs": [
    {
     "data": {
      "text/plain": [
       "(28877, 19)"
      ]
     },
     "execution_count": 65,
     "metadata": {},
     "output_type": "execute_result"
    }
   ],
   "source": [
    "df.drop(\"neighbourhood\", axis=1, inplace=True)\n",
    "df.shape"
   ]
  },
  {
   "cell_type": "markdown",
   "metadata": {},
   "source": [
    "## 5. Na's"
   ]
  },
  {
   "cell_type": "markdown",
   "metadata": {},
   "source": [
    "df.isnull().sum()"
   ]
  },
  {
   "cell_type": "code",
   "execution_count": 66,
   "metadata": {},
   "outputs": [
    {
     "data": {
      "text/html": [
       "<div>\n",
       "<style scoped>\n",
       "    .dataframe tbody tr th:only-of-type {\n",
       "        vertical-align: middle;\n",
       "    }\n",
       "\n",
       "    .dataframe tbody tr th {\n",
       "        vertical-align: top;\n",
       "    }\n",
       "\n",
       "    .dataframe thead th {\n",
       "        text-align: right;\n",
       "    }\n",
       "</style>\n",
       "<table border=\"1\" class=\"dataframe\">\n",
       "  <thead>\n",
       "    <tr style=\"text-align: right;\">\n",
       "      <th></th>\n",
       "      <th>property_type</th>\n",
       "      <th>room_type</th>\n",
       "      <th>accommodates</th>\n",
       "      <th>bathrooms</th>\n",
       "      <th>cancellation_policy</th>\n",
       "      <th>cleaning_fee</th>\n",
       "      <th>city</th>\n",
       "      <th>host_identity_verified</th>\n",
       "      <th>instant_bookable</th>\n",
       "      <th>latitude</th>\n",
       "      <th>longitude</th>\n",
       "      <th>number_of_reviews</th>\n",
       "      <th>review_scores_rating</th>\n",
       "      <th>zipcode</th>\n",
       "      <th>bedrooms</th>\n",
       "      <th>beds</th>\n",
       "      <th>price</th>\n",
       "      <th>host_response</th>\n",
       "      <th>amenities_ratio</th>\n",
       "    </tr>\n",
       "  </thead>\n",
       "  <tbody>\n",
       "    <tr>\n",
       "      <th>0</th>\n",
       "      <td>Apartment</td>\n",
       "      <td>Entire home/apt</td>\n",
       "      <td>7</td>\n",
       "      <td>1.0</td>\n",
       "      <td>strict</td>\n",
       "      <td>True</td>\n",
       "      <td>NYC</td>\n",
       "      <td>f</td>\n",
       "      <td>t</td>\n",
       "      <td>40.766115</td>\n",
       "      <td>-73.989040</td>\n",
       "      <td>6</td>\n",
       "      <td>93.0</td>\n",
       "      <td>10019</td>\n",
       "      <td>3.0</td>\n",
       "      <td>3.0</td>\n",
       "      <td>169.0</td>\n",
       "      <td>HOT</td>\n",
       "      <td>0.194805</td>\n",
       "    </tr>\n",
       "    <tr>\n",
       "      <th>1</th>\n",
       "      <td>Apartment</td>\n",
       "      <td>Private room</td>\n",
       "      <td>2</td>\n",
       "      <td>1.0</td>\n",
       "      <td>strict</td>\n",
       "      <td>True</td>\n",
       "      <td>SF</td>\n",
       "      <td>t</td>\n",
       "      <td>t</td>\n",
       "      <td>37.753164</td>\n",
       "      <td>-122.429526</td>\n",
       "      <td>3</td>\n",
       "      <td>100.0</td>\n",
       "      <td>94131</td>\n",
       "      <td>1.0</td>\n",
       "      <td>1.0</td>\n",
       "      <td>85.0</td>\n",
       "      <td>HOT</td>\n",
       "      <td>0.129870</td>\n",
       "    </tr>\n",
       "    <tr>\n",
       "      <th>2</th>\n",
       "      <td>Condominium</td>\n",
       "      <td>Entire home/apt</td>\n",
       "      <td>2</td>\n",
       "      <td>1.0</td>\n",
       "      <td>moderate</td>\n",
       "      <td>True</td>\n",
       "      <td>LA</td>\n",
       "      <td>t</td>\n",
       "      <td>f</td>\n",
       "      <td>34.046737</td>\n",
       "      <td>-118.260439</td>\n",
       "      <td>9</td>\n",
       "      <td>93.0</td>\n",
       "      <td>90015</td>\n",
       "      <td>1.0</td>\n",
       "      <td>1.0</td>\n",
       "      <td>120.0</td>\n",
       "      <td>HOT</td>\n",
       "      <td>0.337662</td>\n",
       "    </tr>\n",
       "    <tr>\n",
       "      <th>3</th>\n",
       "      <td>House</td>\n",
       "      <td>Private room</td>\n",
       "      <td>2</td>\n",
       "      <td>1.0</td>\n",
       "      <td>moderate</td>\n",
       "      <td>True</td>\n",
       "      <td>SF</td>\n",
       "      <td>f</td>\n",
       "      <td>f</td>\n",
       "      <td>37.781128</td>\n",
       "      <td>-122.501095</td>\n",
       "      <td>159</td>\n",
       "      <td>99.0</td>\n",
       "      <td>94121</td>\n",
       "      <td>1.0</td>\n",
       "      <td>1.0</td>\n",
       "      <td>120.0</td>\n",
       "      <td>HOT</td>\n",
       "      <td>0.272727</td>\n",
       "    </tr>\n",
       "    <tr>\n",
       "      <th>4</th>\n",
       "      <td>Apartment</td>\n",
       "      <td>Private room</td>\n",
       "      <td>2</td>\n",
       "      <td>1.0</td>\n",
       "      <td>strict</td>\n",
       "      <td>True</td>\n",
       "      <td>NYC</td>\n",
       "      <td>t</td>\n",
       "      <td>f</td>\n",
       "      <td>40.723883</td>\n",
       "      <td>-73.983880</td>\n",
       "      <td>82</td>\n",
       "      <td>93.0</td>\n",
       "      <td>10009.0</td>\n",
       "      <td>1.0</td>\n",
       "      <td>1.0</td>\n",
       "      <td>100.0</td>\n",
       "      <td>HOT</td>\n",
       "      <td>0.194805</td>\n",
       "    </tr>\n",
       "  </tbody>\n",
       "</table>\n",
       "</div>"
      ],
      "text/plain": [
       "  property_type        room_type  accommodates  bathrooms cancellation_policy  \\\n",
       "0     Apartment  Entire home/apt             7        1.0              strict   \n",
       "1     Apartment     Private room             2        1.0              strict   \n",
       "2   Condominium  Entire home/apt             2        1.0            moderate   \n",
       "3         House     Private room             2        1.0            moderate   \n",
       "4     Apartment     Private room             2        1.0              strict   \n",
       "\n",
       "   cleaning_fee city host_identity_verified instant_bookable   latitude  \\\n",
       "0          True  NYC                      f                t  40.766115   \n",
       "1          True   SF                      t                t  37.753164   \n",
       "2          True   LA                      t                f  34.046737   \n",
       "3          True   SF                      f                f  37.781128   \n",
       "4          True  NYC                      t                f  40.723883   \n",
       "\n",
       "    longitude  number_of_reviews  review_scores_rating  zipcode  bedrooms  \\\n",
       "0  -73.989040                  6                  93.0    10019       3.0   \n",
       "1 -122.429526                  3                 100.0    94131       1.0   \n",
       "2 -118.260439                  9                  93.0    90015       1.0   \n",
       "3 -122.501095                159                  99.0    94121       1.0   \n",
       "4  -73.983880                 82                  93.0  10009.0       1.0   \n",
       "\n",
       "   beds  price host_response  amenities_ratio  \n",
       "0   3.0  169.0           HOT         0.194805  \n",
       "1   1.0   85.0           HOT         0.129870  \n",
       "2   1.0  120.0           HOT         0.337662  \n",
       "3   1.0  120.0           HOT         0.272727  \n",
       "4   1.0  100.0           HOT         0.194805  "
      ]
     },
     "execution_count": 66,
     "metadata": {},
     "output_type": "execute_result"
    }
   ],
   "source": [
    "df.head()"
   ]
  },
  {
   "cell_type": "markdown",
   "metadata": {},
   "source": [
    "## 6. Outliers y normalización de variables contínuas."
   ]
  },
  {
   "cell_type": "markdown",
   "metadata": {},
   "source": [
    "### accomodates"
   ]
  },
  {
   "cell_type": "code",
   "execution_count": 67,
   "metadata": {},
   "outputs": [
    {
     "data": {
      "text/plain": [
       "2     12713\n",
       "4      4915\n",
       "3      3135\n",
       "1      2861\n",
       "6      2050\n",
       "5      1373\n",
       "8       719\n",
       "7       405\n",
       "10      282\n",
       "9       111\n",
       "16       98\n",
       "12       95\n",
       "14       49\n",
       "11       40\n",
       "15       17\n",
       "13       14\n",
       "Name: accommodates, dtype: int64"
      ]
     },
     "execution_count": 67,
     "metadata": {},
     "output_type": "execute_result"
    }
   ],
   "source": [
    "df.accommodates.value_counts()"
   ]
  },
  {
   "cell_type": "code",
   "execution_count": 68,
   "metadata": {},
   "outputs": [
    {
     "data": {
      "image/png": "[encoded data removed]",
      "text/plain": [
       "<Figure size 432x288 with 1 Axes>"
      ]
     },
     "metadata": {
      "needs_background": "light"
     },
     "output_type": "display_data"
    }
   ],
   "source": [
    "plt.hist(df.accommodates,bins=15);"
   ]
  },
  {
   "cell_type": "markdown",
   "metadata": {},
   "source": [
    "### bathrooms"
   ]
  },
  {
   "cell_type": "code",
   "execution_count": 69,
   "metadata": {},
   "outputs": [
    {
     "data": {
      "text/plain": [
       "1.0    23105\n",
       "2.0     2929\n",
       "1.5     1475\n",
       "2.5      502\n",
       "3.0      378\n",
       "3.5      134\n",
       "4.0       97\n",
       "0.0       84\n",
       "0.5       67\n",
       "4.5       35\n",
       "5.0       25\n",
       "8.0       20\n",
       "5.5       13\n",
       "6.0        6\n",
       "6.5        3\n",
       "7.0        2\n",
       "7.5        2\n",
       "Name: bathrooms, dtype: int64"
      ]
     },
     "execution_count": 69,
     "metadata": {},
     "output_type": "execute_result"
    }
   ],
   "source": [
    "df.bathrooms.value_counts()\n",
    "#hace sentido que existan \"mitades\" de un baño? \n",
    "#Si lo tiene para airbnb: https://twitter.com/airbnbhelp/status/684855675265101825?lang=en"
   ]
  },
  {
   "cell_type": "code",
   "execution_count": 70,
   "metadata": {},
   "outputs": [
    {
     "data": {
      "image/png": "[encoded data removed]",
      "text/plain": [
       "<Figure size 432x288 with 1 Axes>"
      ]
     },
     "metadata": {
      "needs_background": "light"
     },
     "output_type": "display_data"
    }
   ],
   "source": [
    "plt.hist(df.bathrooms);"
   ]
  },
  {
   "cell_type": "markdown",
   "metadata": {},
   "source": [
    "### number_of_reviews"
   ]
  },
  {
   "cell_type": "code",
   "execution_count": 71,
   "metadata": {},
   "outputs": [
    {
     "data": {
      "text/plain": [
       "1      2079\n",
       "2      1740\n",
       "3      1550\n",
       "4      1257\n",
       "5      1177\n",
       "6       932\n",
       "7       881\n",
       "8       830\n",
       "9       717\n",
       "10      662\n",
       "11      585\n",
       "12      535\n",
       "14      534\n",
       "13      515\n",
       "15      494\n",
       "16      482\n",
       "18      433\n",
       "19      403\n",
       "17      388\n",
       "20      357\n",
       "22      347\n",
       "21      341\n",
       "23      316\n",
       "24      297\n",
       "26      292\n",
       "28      283\n",
       "25      269\n",
       "27      261\n",
       "29      257\n",
       "31      255\n",
       "       ... \n",
       "349       1\n",
       "525       1\n",
       "254       1\n",
       "286       1\n",
       "382       1\n",
       "303       1\n",
       "360       1\n",
       "328       1\n",
       "327       1\n",
       "311       1\n",
       "338       1\n",
       "354       1\n",
       "370       1\n",
       "291       1\n",
       "451       1\n",
       "260       1\n",
       "388       1\n",
       "532       1\n",
       "229       1\n",
       "277       1\n",
       "309       1\n",
       "341       1\n",
       "389       1\n",
       "453       1\n",
       "469       1\n",
       "326       1\n",
       "374       1\n",
       "383       1\n",
       "295       1\n",
       "279       1\n",
       "Name: number_of_reviews, Length: 347, dtype: int64"
      ]
     },
     "execution_count": 71,
     "metadata": {},
     "output_type": "execute_result"
    }
   ],
   "source": [
    "df.number_of_reviews.value_counts()\n",
    "#No se cómo esta columna me ayude.\n",
    "#Podría generar rangos de clasificación, pero mi primer rango se llevaría la mayoría de los datos..."
   ]
  },
  {
   "cell_type": "code",
   "execution_count": 72,
   "metadata": {},
   "outputs": [
    {
     "data": {
      "image/png": "[encoded data removed]",
      "text/plain": [
       "<Figure size 432x288 with 1 Axes>"
      ]
     },
     "metadata": {
      "needs_background": "light"
     },
     "output_type": "display_data"
    }
   ],
   "source": [
    "plt.hist(df.number_of_reviews,bins=30);"
   ]
  },
  {
   "cell_type": "markdown",
   "metadata": {},
   "source": [
    "### review_scores_rating"
   ]
  },
  {
   "cell_type": "code",
   "execution_count": 73,
   "metadata": {},
   "outputs": [
    {
     "data": {
      "text/plain": [
       "100.0    7007\n",
       "98.0     2512\n",
       "97.0     2314\n",
       "96.0     2286\n",
       "95.0     2036\n",
       "93.0     1872\n",
       "99.0     1587\n",
       "94.0     1508\n",
       "90.0     1269\n",
       "92.0     1143\n",
       "91.0      903\n",
       "80.0      753\n",
       "89.0      659\n",
       "88.0      574\n",
       "87.0      513\n",
       "85.0      340\n",
       "86.0      274\n",
       "84.0      246\n",
       "83.0      208\n",
       "60.0      137\n",
       "82.0      106\n",
       "81.0       83\n",
       "70.0       73\n",
       "73.0       63\n",
       "79.0       53\n",
       "78.0       52\n",
       "75.0       50\n",
       "77.0       38\n",
       "76.0       36\n",
       "20.0       27\n",
       "67.0       27\n",
       "74.0       21\n",
       "40.0       21\n",
       "65.0       16\n",
       "72.0       16\n",
       "50.0       10\n",
       "68.0       10\n",
       "47.0        5\n",
       "64.0        5\n",
       "71.0        5\n",
       "69.0        4\n",
       "63.0        3\n",
       "53.0        3\n",
       "57.0        1\n",
       "54.0        1\n",
       "62.0        1\n",
       "27.0        1\n",
       "35.0        1\n",
       "56.0        1\n",
       "55.0        1\n",
       "49.0        1\n",
       "66.0        1\n",
       "Name: review_scores_rating, dtype: int64"
      ]
     },
     "execution_count": 73,
     "metadata": {},
     "output_type": "execute_result"
    }
   ],
   "source": [
    "df.review_scores_rating.value_counts()\n",
    "#datos limpios\n",
    "#genero rangos de clasificación?"
   ]
  },
  {
   "cell_type": "code",
   "execution_count": 74,
   "metadata": {},
   "outputs": [
    {
     "data": {
      "image/png": "[encoded data removed]",
      "text/plain": [
       "<Figure size 432x288 with 1 Axes>"
      ]
     },
     "metadata": {
      "needs_background": "light"
     },
     "output_type": "display_data"
    }
   ],
   "source": [
    "plt.hist(df.review_scores_rating,bins=20);"
   ]
  },
  {
   "cell_type": "markdown",
   "metadata": {},
   "source": [
    "### zipcode"
   ]
  },
  {
   "cell_type": "code",
   "execution_count": 75,
   "metadata": {},
   "outputs": [
    {
     "data": {
      "text/plain": [
       "11221         536\n",
       "11211.0       523\n",
       "90291         465\n",
       "94110         440\n",
       "20002         356\n",
       "10019         334\n",
       "10002         308\n",
       "90046         303\n",
       "10009.0       299\n",
       "10036         291\n",
       "11216         289\n",
       "90026         274\n",
       "11222         270\n",
       "20001         270\n",
       "94114         269\n",
       "20009         262\n",
       "10029.0       259\n",
       "10031         259\n",
       "90028         257\n",
       "10027         257\n",
       "11237         256\n",
       "11215         254\n",
       "11233         242\n",
       "10025         237\n",
       "11206         236\n",
       "10014         225\n",
       "10012         222\n",
       "90036         216\n",
       "90066         210\n",
       "11249.0       209\n",
       "             ... \n",
       "20001-4044      1\n",
       "11385-2308      1\n",
       "91040           1\n",
       "91775           1\n",
       "11412.0         1\n",
       "10012.0         1\n",
       "02143           1\n",
       "60639           1\n",
       "90039-2715      1\n",
       "90059           1\n",
       "10467.0         1\n",
       "90067           1\n",
       "90036-2514      1\n",
       "10048           1\n",
       "90071           1\n",
       "11219.0         1\n",
       "11366           1\n",
       "90723           1\n",
       "90220           1\n",
       "90222           1\n",
       "10270           1\n",
       "20004           1\n",
       "90044           1\n",
       "10007.0         1\n",
       "10309           1\n",
       "10550.0         1\n",
       "90304           1\n",
       "20816           1\n",
       "91733           1\n",
       "90716           1\n",
       "Name: zipcode, Length: 629, dtype: int64"
      ]
     },
     "execution_count": 75,
     "metadata": {},
     "output_type": "execute_result"
    }
   ],
   "source": [
    "df.zipcode.value_counts()"
   ]
  },
  {
   "cell_type": "code",
   "execution_count": 76,
   "metadata": {},
   "outputs": [],
   "source": [
    "df.zipcode=df.zipcode.apply(lambda x: x[0:5])"
   ]
  },
  {
   "cell_type": "code",
   "execution_count": 77,
   "metadata": {},
   "outputs": [
    {
     "data": {
      "text/plain": [
       "11211    630\n",
       "11221    538\n",
       "90291    465\n",
       "94110    440\n",
       "11216    429\n",
       "11206    403\n",
       "10002    398\n",
       "20002    356\n",
       "10009    352\n",
       "11238    342\n",
       "10019    335\n",
       "90046    303\n",
       "10003    298\n",
       "11237    297\n",
       "10036    291\n",
       "11233    289\n",
       "11222    280\n",
       "90026    274\n",
       "94114    271\n",
       "20001    271\n",
       "20009    262\n",
       "10027    262\n",
       "10029    261\n",
       "10031    259\n",
       "90028    257\n",
       "11215    254\n",
       "10011    248\n",
       "10025    237\n",
       "11249    235\n",
       "94117    235\n",
       "        ... \n",
       "90604      1\n",
       "10302      1\n",
       "95202      1\n",
       "90723      1\n",
       "90061      1\n",
       "91706      1\n",
       "20782      1\n",
       "90222      1\n",
       "90716      1\n",
       "90002      1\n",
       "91775      1\n",
       "20052      1\n",
       "10470      1\n",
       "91340      1\n",
       "90071      1\n",
       "90201      1\n",
       "60619      1\n",
       "10550      1\n",
       "90044      1\n",
       "90040      1\n",
       "91040      1\n",
       "20004      1\n",
       "91744      1\n",
       "20815      1\n",
       "02143      1\n",
       "90220      1\n",
       "10119      1\n",
       "10309      1\n",
       "02199      1\n",
       "90059      1\n",
       "Name: zipcode, Length: 545, dtype: int64"
      ]
     },
     "execution_count": 77,
     "metadata": {},
     "output_type": "execute_result"
    }
   ],
   "source": [
    "df.zipcode.value_counts()"
   ]
  },
  {
   "cell_type": "code",
   "execution_count": 78,
   "metadata": {},
   "outputs": [
    {
     "data": {
      "text/plain": [
       "11211    630\n",
       "11221    538\n",
       "11216    429\n",
       "11206    403\n",
       "10002    398\n",
       "10009    352\n",
       "11238    342\n",
       "10019    335\n",
       "10003    298\n",
       "11237    297\n",
       "10036    291\n",
       "11233    289\n",
       "11222    280\n",
       "10027    262\n",
       "10029    261\n",
       "10031    259\n",
       "11215    254\n",
       "10011    248\n",
       "10025    237\n",
       "11249    235\n",
       "10014    230\n",
       "10012    223\n",
       "11205    208\n",
       "11226    206\n",
       "10016    182\n",
       "11225    178\n",
       "11217    170\n",
       "10001    152\n",
       "11213    151\n",
       "10024    147\n",
       "        ... \n",
       "10475      5\n",
       "10069      5\n",
       "11356      5\n",
       "11109      4\n",
       "11414      4\n",
       "11428      4\n",
       "10471      3\n",
       "10474      3\n",
       "10312      3\n",
       "10280      2\n",
       "10282      2\n",
       "11411      2\n",
       "11357      2\n",
       "11423      2\n",
       "11427      2\n",
       "10308      2\n",
       "10307      2\n",
       "11426      2\n",
       "11694      2\n",
       "10550      1\n",
       "10119      1\n",
       "10309      1\n",
       "10279      1\n",
       "11366      1\n",
       "10048      1\n",
       "10270      1\n",
       "10470      1\n",
       "10129      1\n",
       "10302      1\n",
       "1m         1\n",
       "Name: zipcode, Length: 180, dtype: int64"
      ]
     },
     "execution_count": 78,
     "metadata": {},
     "output_type": "execute_result"
    }
   ],
   "source": [
    "df.zipcode[df.city == 'NYC'].value_counts()"
   ]
  },
  {
   "cell_type": "code",
   "execution_count": 79,
   "metadata": {},
   "outputs": [
    {
     "data": {
      "text/plain": [
       "90291    465\n",
       "90046    303\n",
       "90026    274\n",
       "90028    257\n",
       "90036    217\n",
       "90066    210\n",
       "90068    172\n",
       "90038    171\n",
       "90048    142\n",
       "90292    140\n",
       "90019    139\n",
       "90027    138\n",
       "90039    128\n",
       "90025    127\n",
       "90069    120\n",
       "90034    118\n",
       "90024    113\n",
       "90004    108\n",
       "90042    105\n",
       "90029    104\n",
       "90405    102\n",
       "90006     96\n",
       "90802     87\n",
       "90265     81\n",
       "90065     79\n",
       "90290     71\n",
       "90005     69\n",
       "90017     66\n",
       "90035     63\n",
       "90277     62\n",
       "        ... \n",
       "90255      2\n",
       "90242      2\n",
       "91311      2\n",
       "90262      2\n",
       "90650      2\n",
       "91790      2\n",
       "91210      2\n",
       "90221      2\n",
       "90716      1\n",
       "90713      1\n",
       "90059      1\n",
       "90604      1\n",
       "90304      1\n",
       "90222      1\n",
       "90220      1\n",
       "91744      1\n",
       "90040      1\n",
       "91775      1\n",
       "90067      1\n",
       "90201      1\n",
       "90061      1\n",
       "91706      1\n",
       "91040      1\n",
       "91340      1\n",
       "90071      1\n",
       "90723      1\n",
       "91733      1\n",
       "90044      1\n",
       "90670      1\n",
       "90002      1\n",
       "Name: zipcode, Length: 230, dtype: int64"
      ]
     },
     "execution_count": 79,
     "metadata": {},
     "output_type": "execute_result"
    }
   ],
   "source": [
    "df.zipcode[df.city == 'LA'].value_counts()"
   ]
  },
  {
   "cell_type": "code",
   "execution_count": 80,
   "metadata": {},
   "outputs": [
    {
     "data": {
      "text/plain": [
       "60622    179\n",
       "60647    174\n",
       "60614    108\n",
       "60618     88\n",
       "60608     85\n",
       "60657     79\n",
       "60613     74\n",
       "60640     69\n",
       "60642     66\n",
       "60610     65\n",
       "60626     53\n",
       "60612     48\n",
       "60615     42\n",
       "60660     41\n",
       "60653     40\n",
       "60616     40\n",
       "60625     39\n",
       "60641     28\n",
       "60611     27\n",
       "60605     27\n",
       "60637     27\n",
       "60645     22\n",
       "60607     22\n",
       "60602     20\n",
       "60623     19\n",
       "60654     17\n",
       "60601     14\n",
       "60661     12\n",
       "60624     12\n",
       "60651      9\n",
       "60630      9\n",
       "60649      9\n",
       "60659      7\n",
       "60634      6\n",
       "60609      6\n",
       "60643      5\n",
       "60621      5\n",
       "60632      4\n",
       "60629      4\n",
       "60644      4\n",
       "60646      3\n",
       "60631      3\n",
       "60638      3\n",
       "60656      3\n",
       "60620      2\n",
       "60707      1\n",
       "60639      1\n",
       "60619      1\n",
       "60652      1\n",
       "Name: zipcode, dtype: int64"
      ]
     },
     "execution_count": 80,
     "metadata": {},
     "output_type": "execute_result"
    }
   ],
   "source": [
    "df.zipcode[df.city == 'Chicago'].value_counts()"
   ]
  }
 ],
 "metadata": {
  "kernelspec": {
   "display_name": "Python 3",
   "language": "python",
   "name": "python3"
  },
  "language_info": {
   "codemirror_mode": {
    "name": "ipython",
    "version": 3
   },
   "file_extension": ".py",
   "mimetype": "text/x-python",
   "name": "python",
   "nbconvert_exporter": "python",
   "pygments_lexer": "ipython3",
   "version": "3.7.3"
  }
 },
 "nbformat": 4,
 "nbformat_minor": 2
}
