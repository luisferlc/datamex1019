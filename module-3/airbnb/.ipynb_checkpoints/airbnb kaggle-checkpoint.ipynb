{
 "cells": [
  {
   "cell_type": "markdown",
   "metadata": {},
   "source": [
    "# Airbnb: predicción de precios de hosts"
   ]
  },
  {
   "cell_type": "code",
   "execution_count": 1,
   "metadata": {},
   "outputs": [],
   "source": [
    "import warnings\n",
    "warnings.simplefilter('ignore')\n",
    "import pandas as pd\n",
    "import numpy as np\n",
    "import seaborn as sns\n",
    "import matplotlib.pyplot as plt"
   ]
  },
  {
   "cell_type": "code",
   "execution_count": 2,
   "metadata": {},
   "outputs": [],
   "source": [
    "df= pd.read_csv(\"airbnb_data.csv\")"
   ]
  },
  {
   "cell_type": "code",
   "execution_count": 3,
   "metadata": {},
   "outputs": [
    {
     "data": {
      "text/html": [
       "<div>\n",
       "<style scoped>\n",
       "    .dataframe tbody tr th:only-of-type {\n",
       "        vertical-align: middle;\n",
       "    }\n",
       "\n",
       "    .dataframe tbody tr th {\n",
       "        vertical-align: top;\n",
       "    }\n",
       "\n",
       "    .dataframe thead th {\n",
       "        text-align: right;\n",
       "    }\n",
       "</style>\n",
       "<table border=\"1\" class=\"dataframe\">\n",
       "  <thead>\n",
       "    <tr style=\"text-align: right;\">\n",
       "      <th></th>\n",
       "      <th>property_type</th>\n",
       "      <th>room_type</th>\n",
       "      <th>amenities</th>\n",
       "      <th>accommodates</th>\n",
       "      <th>bathrooms</th>\n",
       "      <th>bed_type</th>\n",
       "      <th>cancellation_policy</th>\n",
       "      <th>cleaning_fee</th>\n",
       "      <th>city</th>\n",
       "      <th>description</th>\n",
       "      <th>...</th>\n",
       "      <th>longitude</th>\n",
       "      <th>name</th>\n",
       "      <th>neighbourhood</th>\n",
       "      <th>number_of_reviews</th>\n",
       "      <th>review_scores_rating</th>\n",
       "      <th>thumbnail_url</th>\n",
       "      <th>zipcode</th>\n",
       "      <th>bedrooms</th>\n",
       "      <th>beds</th>\n",
       "      <th>price</th>\n",
       "    </tr>\n",
       "  </thead>\n",
       "  <tbody>\n",
       "    <tr>\n",
       "      <th>0</th>\n",
       "      <td>Apartment</td>\n",
       "      <td>Entire home/apt</td>\n",
       "      <td>{\"Wireless Internet\",\"Air conditioning\",Kitche...</td>\n",
       "      <td>7</td>\n",
       "      <td>1.0</td>\n",
       "      <td>Real Bed</td>\n",
       "      <td>strict</td>\n",
       "      <td>True</td>\n",
       "      <td>NYC</td>\n",
       "      <td>Enjoy travelling during your stay in Manhattan...</td>\n",
       "      <td>...</td>\n",
       "      <td>-73.989040</td>\n",
       "      <td>Superb 3BR Apt Located Near Times Square</td>\n",
       "      <td>Hell's Kitchen</td>\n",
       "      <td>6</td>\n",
       "      <td>93.0</td>\n",
       "      <td>https://a0.muscache.com/im/pictures/348a55fe-4...</td>\n",
       "      <td>10019</td>\n",
       "      <td>3.0</td>\n",
       "      <td>3.0</td>\n",
       "      <td>169.0</td>\n",
       "    </tr>\n",
       "    <tr>\n",
       "      <th>1</th>\n",
       "      <td>Apartment</td>\n",
       "      <td>Private room</td>\n",
       "      <td>{TV,\"Wireless Internet\",Heating,\"Smoke detecto...</td>\n",
       "      <td>2</td>\n",
       "      <td>1.0</td>\n",
       "      <td>Real Bed</td>\n",
       "      <td>strict</td>\n",
       "      <td>True</td>\n",
       "      <td>SF</td>\n",
       "      <td>Beautiful private room overlooking scenic view...</td>\n",
       "      <td>...</td>\n",
       "      <td>-122.429526</td>\n",
       "      <td>Comfort Suite San Francisco</td>\n",
       "      <td>Noe Valley</td>\n",
       "      <td>3</td>\n",
       "      <td>100.0</td>\n",
       "      <td>https://a0.muscache.com/im/pictures/82509143-4...</td>\n",
       "      <td>94131</td>\n",
       "      <td>1.0</td>\n",
       "      <td>1.0</td>\n",
       "      <td>85.0</td>\n",
       "    </tr>\n",
       "    <tr>\n",
       "      <th>2</th>\n",
       "      <td>Condominium</td>\n",
       "      <td>Entire home/apt</td>\n",
       "      <td>{TV,\"Cable TV\",\"Wireless Internet\",\"Wheelchair...</td>\n",
       "      <td>2</td>\n",
       "      <td>1.0</td>\n",
       "      <td>Real Bed</td>\n",
       "      <td>moderate</td>\n",
       "      <td>True</td>\n",
       "      <td>LA</td>\n",
       "      <td>Arguably the best location (and safest) in dow...</td>\n",
       "      <td>...</td>\n",
       "      <td>-118.260439</td>\n",
       "      <td>Near LA Live, Staple's. Starbucks inside. OWN ...</td>\n",
       "      <td>Downtown</td>\n",
       "      <td>9</td>\n",
       "      <td>93.0</td>\n",
       "      <td>https://a0.muscache.com/im/pictures/61bd05d5-c...</td>\n",
       "      <td>90015</td>\n",
       "      <td>1.0</td>\n",
       "      <td>1.0</td>\n",
       "      <td>120.0</td>\n",
       "    </tr>\n",
       "    <tr>\n",
       "      <th>3</th>\n",
       "      <td>House</td>\n",
       "      <td>Private room</td>\n",
       "      <td>{TV,\"Cable TV\",\"Wireless Internet\",\"Pets live ...</td>\n",
       "      <td>2</td>\n",
       "      <td>1.0</td>\n",
       "      <td>Real Bed</td>\n",
       "      <td>moderate</td>\n",
       "      <td>True</td>\n",
       "      <td>SF</td>\n",
       "      <td>Garden Studio with private entrance from the s...</td>\n",
       "      <td>...</td>\n",
       "      <td>-122.501095</td>\n",
       "      <td>Cozy Garden Studio - Private Entry</td>\n",
       "      <td>Richmond District</td>\n",
       "      <td>159</td>\n",
       "      <td>99.0</td>\n",
       "      <td>https://a0.muscache.com/im/pictures/0ed6c128-7...</td>\n",
       "      <td>94121</td>\n",
       "      <td>1.0</td>\n",
       "      <td>1.0</td>\n",
       "      <td>120.0</td>\n",
       "    </tr>\n",
       "    <tr>\n",
       "      <th>4</th>\n",
       "      <td>Apartment</td>\n",
       "      <td>Private room</td>\n",
       "      <td>{Internet,\"Wireless Internet\",\"Air conditionin...</td>\n",
       "      <td>2</td>\n",
       "      <td>1.0</td>\n",
       "      <td>Real Bed</td>\n",
       "      <td>strict</td>\n",
       "      <td>True</td>\n",
       "      <td>NYC</td>\n",
       "      <td>This is a bright bedroom in an historic buildi...</td>\n",
       "      <td>...</td>\n",
       "      <td>-73.983880</td>\n",
       "      <td>Large East Village Bedroom To Let!</td>\n",
       "      <td>Alphabet City</td>\n",
       "      <td>82</td>\n",
       "      <td>93.0</td>\n",
       "      <td>https://a0.muscache.com/im/pictures/21726900/1...</td>\n",
       "      <td>10009.0</td>\n",
       "      <td>1.0</td>\n",
       "      <td>1.0</td>\n",
       "      <td>100.0</td>\n",
       "    </tr>\n",
       "  </tbody>\n",
       "</table>\n",
       "<p>5 rows × 28 columns</p>\n",
       "</div>"
      ],
      "text/plain": [
       "  property_type        room_type  \\\n",
       "0     Apartment  Entire home/apt   \n",
       "1     Apartment     Private room   \n",
       "2   Condominium  Entire home/apt   \n",
       "3         House     Private room   \n",
       "4     Apartment     Private room   \n",
       "\n",
       "                                           amenities  accommodates  bathrooms  \\\n",
       "0  {\"Wireless Internet\",\"Air conditioning\",Kitche...             7        1.0   \n",
       "1  {TV,\"Wireless Internet\",Heating,\"Smoke detecto...             2        1.0   \n",
       "2  {TV,\"Cable TV\",\"Wireless Internet\",\"Wheelchair...             2        1.0   \n",
       "3  {TV,\"Cable TV\",\"Wireless Internet\",\"Pets live ...             2        1.0   \n",
       "4  {Internet,\"Wireless Internet\",\"Air conditionin...             2        1.0   \n",
       "\n",
       "   bed_type cancellation_policy  cleaning_fee city  \\\n",
       "0  Real Bed              strict          True  NYC   \n",
       "1  Real Bed              strict          True   SF   \n",
       "2  Real Bed            moderate          True   LA   \n",
       "3  Real Bed            moderate          True   SF   \n",
       "4  Real Bed              strict          True  NYC   \n",
       "\n",
       "                                         description  ...   longitude  \\\n",
       "0  Enjoy travelling during your stay in Manhattan...  ...  -73.989040   \n",
       "1  Beautiful private room overlooking scenic view...  ... -122.429526   \n",
       "2  Arguably the best location (and safest) in dow...  ... -118.260439   \n",
       "3  Garden Studio with private entrance from the s...  ... -122.501095   \n",
       "4  This is a bright bedroom in an historic buildi...  ...  -73.983880   \n",
       "\n",
       "                                                name      neighbourhood  \\\n",
       "0           Superb 3BR Apt Located Near Times Square     Hell's Kitchen   \n",
       "1                        Comfort Suite San Francisco         Noe Valley   \n",
       "2  Near LA Live, Staple's. Starbucks inside. OWN ...           Downtown   \n",
       "3                 Cozy Garden Studio - Private Entry  Richmond District   \n",
       "4                 Large East Village Bedroom To Let!      Alphabet City   \n",
       "\n",
       "  number_of_reviews review_scores_rating  \\\n",
       "0                 6                 93.0   \n",
       "1                 3                100.0   \n",
       "2                 9                 93.0   \n",
       "3               159                 99.0   \n",
       "4                82                 93.0   \n",
       "\n",
       "                                       thumbnail_url  zipcode  bedrooms  beds  \\\n",
       "0  https://a0.muscache.com/im/pictures/348a55fe-4...    10019       3.0   3.0   \n",
       "1  https://a0.muscache.com/im/pictures/82509143-4...    94131       1.0   1.0   \n",
       "2  https://a0.muscache.com/im/pictures/61bd05d5-c...    90015       1.0   1.0   \n",
       "3  https://a0.muscache.com/im/pictures/0ed6c128-7...    94121       1.0   1.0   \n",
       "4  https://a0.muscache.com/im/pictures/21726900/1...  10009.0       1.0   1.0   \n",
       "\n",
       "   price  \n",
       "0  169.0  \n",
       "1   85.0  \n",
       "2  120.0  \n",
       "3  120.0  \n",
       "4  100.0  \n",
       "\n",
       "[5 rows x 28 columns]"
      ]
     },
     "execution_count": 3,
     "metadata": {},
     "output_type": "execute_result"
    }
   ],
   "source": [
    "df.head()"
   ]
  },
  {
   "cell_type": "code",
   "execution_count": 4,
   "metadata": {},
   "outputs": [
    {
     "data": {
      "text/plain": [
       "(28877, 28)"
      ]
     },
     "execution_count": 4,
     "metadata": {},
     "output_type": "execute_result"
    }
   ],
   "source": [
    "df.shape"
   ]
  },
  {
   "cell_type": "code",
   "execution_count": 5,
   "metadata": {},
   "outputs": [
    {
     "data": {
      "text/plain": [
       "Index(['property_type', 'room_type', 'amenities', 'accommodates', 'bathrooms',\n",
       "       'bed_type', 'cancellation_policy', 'cleaning_fee', 'city',\n",
       "       'description', 'first_review', 'host_has_profile_pic',\n",
       "       'host_identity_verified', 'host_response_rate', 'host_since',\n",
       "       'instant_bookable', 'last_review', 'latitude', 'longitude', 'name',\n",
       "       'neighbourhood', 'number_of_reviews', 'review_scores_rating',\n",
       "       'thumbnail_url', 'zipcode', 'bedrooms', 'beds', 'price'],\n",
       "      dtype='object')"
      ]
     },
     "execution_count": 5,
     "metadata": {},
     "output_type": "execute_result"
    }
   ],
   "source": [
    "df.columns"
   ]
  },
  {
   "cell_type": "code",
   "execution_count": 6,
   "metadata": {},
   "outputs": [
    {
     "data": {
      "text/html": [
       "<div>\n",
       "<style scoped>\n",
       "    .dataframe tbody tr th:only-of-type {\n",
       "        vertical-align: middle;\n",
       "    }\n",
       "\n",
       "    .dataframe tbody tr th {\n",
       "        vertical-align: top;\n",
       "    }\n",
       "\n",
       "    .dataframe thead th {\n",
       "        text-align: right;\n",
       "    }\n",
       "</style>\n",
       "<table border=\"1\" class=\"dataframe\">\n",
       "  <thead>\n",
       "    <tr style=\"text-align: right;\">\n",
       "      <th></th>\n",
       "      <th>first_review</th>\n",
       "      <th>host_has_profile_pic</th>\n",
       "      <th>host_identity_verified</th>\n",
       "      <th>host_response_rate</th>\n",
       "      <th>host_since</th>\n",
       "      <th>instant_bookable</th>\n",
       "      <th>last_review</th>\n",
       "    </tr>\n",
       "  </thead>\n",
       "  <tbody>\n",
       "    <tr>\n",
       "      <th>0</th>\n",
       "      <td>2017-08-05</td>\n",
       "      <td>t</td>\n",
       "      <td>f</td>\n",
       "      <td>100%</td>\n",
       "      <td>2017-06-19</td>\n",
       "      <td>t</td>\n",
       "      <td>2017-09-23</td>\n",
       "    </tr>\n",
       "    <tr>\n",
       "      <th>1</th>\n",
       "      <td>2017-08-27</td>\n",
       "      <td>t</td>\n",
       "      <td>t</td>\n",
       "      <td>100%</td>\n",
       "      <td>2017-06-07</td>\n",
       "      <td>t</td>\n",
       "      <td>2017-09-05</td>\n",
       "    </tr>\n",
       "    <tr>\n",
       "      <th>2</th>\n",
       "      <td>2016-12-16</td>\n",
       "      <td>t</td>\n",
       "      <td>t</td>\n",
       "      <td>100%</td>\n",
       "      <td>2013-05-18</td>\n",
       "      <td>f</td>\n",
       "      <td>2017-04-12</td>\n",
       "    </tr>\n",
       "    <tr>\n",
       "      <th>3</th>\n",
       "      <td>2016-02-13</td>\n",
       "      <td>t</td>\n",
       "      <td>f</td>\n",
       "      <td>100%</td>\n",
       "      <td>2015-06-04</td>\n",
       "      <td>f</td>\n",
       "      <td>2017-09-24</td>\n",
       "    </tr>\n",
       "    <tr>\n",
       "      <th>4</th>\n",
       "      <td>2013-04-28</td>\n",
       "      <td>t</td>\n",
       "      <td>t</td>\n",
       "      <td>100%</td>\n",
       "      <td>2013-03-27</td>\n",
       "      <td>f</td>\n",
       "      <td>2016-11-15</td>\n",
       "    </tr>\n",
       "  </tbody>\n",
       "</table>\n",
       "</div>"
      ],
      "text/plain": [
       "  first_review host_has_profile_pic host_identity_verified host_response_rate  \\\n",
       "0   2017-08-05                    t                      f               100%   \n",
       "1   2017-08-27                    t                      t               100%   \n",
       "2   2016-12-16                    t                      t               100%   \n",
       "3   2016-02-13                    t                      f               100%   \n",
       "4   2013-04-28                    t                      t               100%   \n",
       "\n",
       "   host_since instant_bookable last_review  \n",
       "0  2017-06-19                t  2017-09-23  \n",
       "1  2017-06-07                t  2017-09-05  \n",
       "2  2013-05-18                f  2017-04-12  \n",
       "3  2015-06-04                f  2017-09-24  \n",
       "4  2013-03-27                f  2016-11-15  "
      ]
     },
     "execution_count": 6,
     "metadata": {},
     "output_type": "execute_result"
    }
   ],
   "source": [
    "df[['first_review', 'host_has_profile_pic','host_identity_verified', 'host_response_rate', 'host_since','instant_bookable', 'last_review']].head()"
   ]
  },
  {
   "cell_type": "markdown",
   "metadata": {},
   "source": [
    "# Limpieza de los datos"
   ]
  },
  {
   "cell_type": "markdown",
   "metadata": {},
   "source": [
    "### Tareas por hacer:\n",
    "1. Ver colinealidades entre variables contínuas\n",
    "2. Limpieza de categóricas y datetimes.\n",
    "3. Extraer los valores de \"amenities\" en distintas columnas.\n",
    "4. Ver la manera de pasar a nominal la columna neighbourhood o dropearla.\n",
    "5. NaN's\n",
    "6. Outliers y normalización de variables contínuas.\n",
    "7. De categóricas a nominal: One-Hot-Encoding, Label-encoding?"
   ]
  },
  {
   "cell_type": "markdown",
   "metadata": {},
   "source": [
    "## 1. Colinealidades"
   ]
  },
  {
   "cell_type": "code",
   "execution_count": 7,
   "metadata": {},
   "outputs": [
    {
     "data": {
      "image/png": "[encoded data removed]",
      "text/plain": [
       "<Figure size 864x720 with 2 Axes>"
      ]
     },
     "metadata": {
      "needs_background": "light"
     },
     "output_type": "display_data"
    }
   ],
   "source": [
    "plt.figure(figsize=(12,10))\n",
    "sns.heatmap(df.corr(), cmap='viridis');"
   ]
  },
  {
   "cell_type": "code",
   "execution_count": 8,
   "metadata": {},
   "outputs": [],
   "source": [
    "#En este momento, la única correlación alta que existe es entre latitud y longitud.\n",
    "#Como no usare estas columnas, las dropeare.\n",
    "df.drop(\"latitude\", axis=1, inplace=True)\n",
    "df.drop(\"longitude\", axis=1, inplace=True)"
   ]
  },
  {
   "cell_type": "code",
   "execution_count": 9,
   "metadata": {},
   "outputs": [
    {
     "data": {
      "text/plain": [
       "(28877, 26)"
      ]
     },
     "execution_count": 9,
     "metadata": {},
     "output_type": "execute_result"
    }
   ],
   "source": [
    "df.shape"
   ]
  },
  {
   "cell_type": "markdown",
   "metadata": {},
   "source": [
    "## 2. Limpieza de categóricas y datetimes"
   ]
  },
  {
   "cell_type": "markdown",
   "metadata": {},
   "source": [
    "### property_type"
   ]
  },
  {
   "cell_type": "code",
   "execution_count": 10,
   "metadata": {},
   "outputs": [
    {
     "data": {
      "text/plain": [
       "Apartment             18543\n",
       "House                  6655\n",
       "Condominium            1081\n",
       "Townhouse               720\n",
       "Loft                    552\n",
       "Other                   260\n",
       "Guesthouse              248\n",
       "Bed & Breakfast         214\n",
       "Bungalow                166\n",
       "Guest suite              72\n",
       "Dorm                     61\n",
       "Villa                    54\n",
       "In-law                   44\n",
       "Hostel                   36\n",
       "Cabin                    32\n",
       "Timeshare                26\n",
       "Camper/RV                24\n",
       "Boat                     22\n",
       "Boutique hotel           20\n",
       "Serviced apartment        9\n",
       "Castle                    9\n",
       "Tent                      7\n",
       "Vacation home             4\n",
       "Hut                       4\n",
       "Chalet                    4\n",
       "Tipi                      3\n",
       "Cave                      2\n",
       "Earth House               2\n",
       "Treehouse                 2\n",
       "Yurt                      1\n",
       "Name: property_type, dtype: int64"
      ]
     },
     "execution_count": 10,
     "metadata": {},
     "output_type": "execute_result"
    }
   ],
   "source": [
    "df.property_type.value_counts()"
   ]
  },
  {
   "cell_type": "code",
   "execution_count": 11,
   "metadata": {},
   "outputs": [],
   "source": [
    "#voy a tomar en cuenta los primeros 6 conceptos, ya que se llevan más del 90% de los datos. \n",
    "#A los demás los voy a clasificar como 'Others'"
   ]
  },
  {
   "cell_type": "code",
   "execution_count": 12,
   "metadata": {},
   "outputs": [],
   "source": [
    "for e in range(len(df)):\n",
    "    if df.property_type[e] not in ['Apartment','House','Condominium','Townhouse','Loft','Guesthouse']:\n",
    "        df.property_type[e] = \"Other\""
   ]
  },
  {
   "cell_type": "code",
   "execution_count": 13,
   "metadata": {},
   "outputs": [
    {
     "data": {
      "text/plain": [
       "Apartment      18543\n",
       "House           6655\n",
       "Condominium     1081\n",
       "Other           1078\n",
       "Townhouse        720\n",
       "Loft             552\n",
       "Guesthouse       248\n",
       "Name: property_type, dtype: int64"
      ]
     },
     "execution_count": 13,
     "metadata": {},
     "output_type": "execute_result"
    }
   ],
   "source": [
    "df.property_type.value_counts()"
   ]
  },
  {
   "cell_type": "markdown",
   "metadata": {},
   "source": [
    "### room_type"
   ]
  },
  {
   "cell_type": "code",
   "execution_count": 14,
   "metadata": {},
   "outputs": [
    {
     "data": {
      "text/plain": [
       "Entire home/apt    16158\n",
       "Private room       11993\n",
       "Shared room          726\n",
       "Name: room_type, dtype: int64"
      ]
     },
     "execution_count": 14,
     "metadata": {},
     "output_type": "execute_result"
    }
   ],
   "source": [
    "df.room_type.value_counts()"
   ]
  },
  {
   "cell_type": "markdown",
   "metadata": {},
   "source": [
    "### bed_type"
   ]
  },
  {
   "cell_type": "code",
   "execution_count": 15,
   "metadata": {},
   "outputs": [
    {
     "data": {
      "text/plain": [
       "Real Bed         28092\n",
       "Futon              319\n",
       "Pull-out Sofa      246\n",
       "Airbed             146\n",
       "Couch               74\n",
       "Name: bed_type, dtype: int64"
      ]
     },
     "execution_count": 15,
     "metadata": {},
     "output_type": "execute_result"
    }
   ],
   "source": [
    "df.bed_type.value_counts()\n",
    "#Casi el 100% de los datos estan concentrados en \"Real Bed\". No se si esto represente un sezgo para el modelo después.\n",
    "#Aun si pusiera como \"Others\" los demás valores, creo que no tiene mucho caso esta columna."
   ]
  },
  {
   "cell_type": "code",
   "execution_count": 16,
   "metadata": {},
   "outputs": [],
   "source": [
    "df.drop(\"bed_type\", axis=1, inplace=True)"
   ]
  },
  {
   "cell_type": "code",
   "execution_count": 17,
   "metadata": {},
   "outputs": [
    {
     "data": {
      "text/plain": [
       "(28877, 25)"
      ]
     },
     "execution_count": 17,
     "metadata": {},
     "output_type": "execute_result"
    }
   ],
   "source": [
    "df.shape"
   ]
  },
  {
   "cell_type": "markdown",
   "metadata": {},
   "source": [
    "### cancellation_policy"
   ]
  },
  {
   "cell_type": "code",
   "execution_count": 18,
   "metadata": {},
   "outputs": [
    {
     "data": {
      "text/plain": [
       "strict             14816\n",
       "moderate            8492\n",
       "flexible            5539\n",
       "super_strict_30       25\n",
       "super_strict_60        5\n",
       "Name: cancellation_policy, dtype: int64"
      ]
     },
     "execution_count": 18,
     "metadata": {},
     "output_type": "execute_result"
    }
   ],
   "source": [
    "df.cancellation_policy.value_counts()\n",
    "#Voy a integrar los valores \"super_strict\" como \"strict\""
   ]
  },
  {
   "cell_type": "code",
   "execution_count": 19,
   "metadata": {},
   "outputs": [],
   "source": [
    "for e in range(len(df)):\n",
    "    if \"super_\" in df.cancellation_policy[e]:\n",
    "        df.cancellation_policy[e] = \"strict\""
   ]
  },
  {
   "cell_type": "code",
   "execution_count": 20,
   "metadata": {},
   "outputs": [
    {
     "data": {
      "text/plain": [
       "strict      14846\n",
       "moderate     8492\n",
       "flexible     5539\n",
       "Name: cancellation_policy, dtype: int64"
      ]
     },
     "execution_count": 20,
     "metadata": {},
     "output_type": "execute_result"
    }
   ],
   "source": [
    "df.cancellation_policy.value_counts()"
   ]
  },
  {
   "cell_type": "markdown",
   "metadata": {},
   "source": [
    "### cleaning_fee"
   ]
  },
  {
   "cell_type": "code",
   "execution_count": 21,
   "metadata": {},
   "outputs": [
    {
     "data": {
      "text/plain": [
       "True     23693\n",
       "False     5184\n",
       "Name: cleaning_fee, dtype: int64"
      ]
     },
     "execution_count": 21,
     "metadata": {},
     "output_type": "execute_result"
    }
   ],
   "source": [
    "df.cleaning_fee.value_counts()\n",
    "#ya lista para pasar a contínua"
   ]
  },
  {
   "cell_type": "markdown",
   "metadata": {},
   "source": [
    "### city"
   ]
  },
  {
   "cell_type": "code",
   "execution_count": 22,
   "metadata": {},
   "outputs": [
    {
     "data": {
      "text/plain": [
       "NYC        13379\n",
       "LA          7571\n",
       "SF          2713\n",
       "DC          1815\n",
       "Boston      1776\n",
       "Chicago     1623\n",
       "Name: city, dtype: int64"
      ]
     },
     "execution_count": 22,
     "metadata": {},
     "output_type": "execute_result"
    }
   ],
   "source": [
    "df.city.value_counts()\n",
    "#ya lista para pasar a contínua"
   ]
  },
  {
   "cell_type": "markdown",
   "metadata": {},
   "source": [
    "### description"
   ]
  },
  {
   "cell_type": "code",
   "execution_count": 23,
   "metadata": {},
   "outputs": [
    {
     "data": {
      "text/plain": [
       "Hello, I've been running guest house for Koreans visiting U.S. for 3years, and recently decided to run this place for other travelers also. There are 10 room in the house. They are mostly dormitory rooms and couple of couple room and family room. This places are our women's dormitory in third floor. There are three rooms, but no doors. It is basically open space. There are 2 beds in two rooms and 4 in one room. I do not have closet in this room but there are hangers and mini shelves. My travelers usually put their baggage on the floor. There is one full bathroom only for women in 2nd floor, which you will be sharing with other women guests. Right next that bathroom, there is unisex half bathroom. All bathrooms have hair dryers. You cannot use kitchen, but you can use refrigerator.  I offer breakfast every morning from 7-10 am. Bread, cereal, fruits, coffee, milk and juice will be served. You can eat take-out food in the kitchen, but please wash dishes that you used and put trash in the    6\n",
       "Brand New 2017 Construction, Featuring 2 Bedrooms and 2 bathrooms . comfortable couch, coffee table, 50-inch TV in living room, with free Satellite Cable channel and internet Wi-Fi. Washer and Dryer in the building on each floor.This lovely Apartment is perfect for families, couples or four close friends! With over 900 square feet of living space.A short freeway ride to Westwood, Hollywood Bowl, Griffith Park, LA Zoo, and downtown venues such as Chinatown, LA Live, Staples Center and Olivera St. Enjoy the open entertainer floor plan featuring a gourmet kitchen with quartz counters w/natural mosaic stone and quartz back splash, Stainless Steel appliances, and designer cabinetry. All baths are tastefully done with tub/showers and sinks. Awesome living area, Enjoy those high ceilings! Terrific master suite with closet space. This is a \"smart home\" featuring an LED recessed lighting. Gated Garage is ready for two full sized cars all side by side.  A cozy retreat for your stay in Los Angele    4\n",
       "本地方是个两层楼townhouse温馨之家,一楼我们自己住,二楼五个房间做出租房,有两个洗手间和浴室供您们使用,每个房间都配备双人床 被子枕头床头柜 台灯 书桌椅 电视机Wi-Fi 热水壶 毛巾牙刷 牙膏 拖鞋 餐巾纸 房间干净卫生。大门进出有密码锁 每个房间也都有密码锁 走廊有安装电眼探头,厨房可以煮简单的食物,可以说是麻雀虽小五脏俱全。 地方位于纽约布鲁克林八大道华人集聚地,附近各种餐馆林立,地区治安好交通发达,走路2分钟到小巴站25分钟车程到达曼哈顿唐人街,门口有大巴站坐两站到地铁站也可以走路8分钟到N地铁站或走12分钟到D或R地铁站。 如果您开车过来白天很容易找到车位,晚上8点后如果找不到车位,您可以把车停在我们旁边8大道meter车位上直到第二天早晨7点半后就有很多车位了,欢迎您的到来!                                                                                                                                                                                                                                                                                                                                                                                                                                                                                                                                                                                                                                                                           4\n",
       "Our unique building is located in the Silicon Beach, directly across the street from (SENSITIVE CONTENTS HIDDEN) in Playa Vista. Fully remodeled designer-done 4-plex walking distance to the Playa Vista Runway, (SENSITIVE CONTENTS HIDDEN), YouTube, IMAX, Belkin, FOX, and (SENSITIVE CONTENTS HIDDEN). Two one-bedroom units and two studio units have all been remodeled by a high-end designer in 2015 Our place is good for couples, solo adventurers, and business travelers. Sorry, no pets. Units 1 & 2 are downstairs, 3 & 4 are upstairs. The building has one set of professional coin operated washer and dryer machines, shared by all four units. The laundry room is located towards the back of the building, near the back gate. You will have access to one (and only one) off-street parking spot in the back of the building. When confirming your booking, please inform the model, color and license plate of the car you will have throughout your stay - that way we can control who's illegally parked and s    4\n",
       "HUGE loft in converted factory, with in building: -COFFEE SHOP -YOGA STUDIO -ROOF DECK -FOOD CO/OP -TATTOO PARLOR -VAPE SHOP -CLOTHING STORES -SHIPPING AND PRINTING STORE -Located in vibrant Bushwick Brooklyn within walking distance to some of the best street art in the US. -Just 3 blocks to subway with easy access to Manhattan, Williamsburg and JFK airport. At your disposal is a comfortable lounge and dining area with a kitchen, and 2 bathrooms, that is all cleaned daily. There is also a HUGE ROOF DECK, as well as mini mall downstairs containing a yoga studio, coffee shop, art gallery, skate shop, and clothing store.  Right across the street are 2 of the biggest vintage shops in Brooklyn. Your room has a brand new super comfortable PILLOW TOP double bed, as well as your own air conditioner and space heater to combat extreme NYC temperatures. Free WIFI :)  We pay for extra for the really fast internet so stream video at ease. We also provide professionally laundered fresh sheets and to    4\n",
       "Private room in the heart of Little Italy with FREE PARKING :) You will have your own personal door code and may arrive at ANY time you would like and as late as you wish. You can store your luggage in the closet before check-in and after check-out times :) Price adapts to demand, my rates change constantly - every night is different! Put your dates in the calendar, with the number of guests, and what you see is what you'll pay :) The neighborhood is extremely safe even at night :) Restaurants and bars are right round the corner, both upscale and casual. This room is 6 minutes away by car or uber to Chicago's famous Willis (Sears) tower. Uber costs about $7. If you are arriving by car, I am providing free resident parking passes for anywhere in the area. (Yes, that means you can drive a few blocks and still park anywhere you want!) The room will be solely yours for the time you'll stay in the Windy City. Shall you have any concerns or need any tips from the local, I'll always be happy     4\n",
       "Hello!! Thank you for checking our listing! We have 3 other listings available so please take the time to look at them to see which one better suit your needs. If you’re looking for a home away from home, look nowhere else! Our rooms are located in a cozy 3 bedroom apartment in a newly constructed building. We will be sharing the kitchen, which comes with a complete set of kitchenware and also the bathroom among the other roommates. The bedrooms are beautifully decorated and each one of them is unique with its own color theme and fragrance. Nice and clean bed sheets, towels and comforters are also provided during your stay.  Our location is in Elmhurst, also known as a tiny Chinatown in Queens. It is very convenient with only 5-10 minutes of walking distance to the Grand Ave Newtown Subway station (M, R trains), Buses, Shopping malls, Grocery stores, Restaurants, Bakeries, Laundromat and many more amenities.  We are looking forward to hosting you! Jackie & Tyas                             3\n",
       "Luxury apartment refurbished in 2016, centrally located in between the West  End and Georgetown, fronting Pennsylvania Ave. Walkable to many bars, restaurants and nightlife, most major tourist attractions, GW University, World Bank and Embassies. While I am always happy to answer questions about the apartment and the local area I really appreciate it when guests take the time to read the detailed house manual (hard copy in apartment and also on the AirBnB site), and the other pieces of correspondence I will send you. The best way to contact me is through the AirBnB app as I like having all correspondence on one device. Its rare I will answer my phone when I can’t identify the number. I am very prompt at returning inquires through the app and will be happy to jump on a call when needed. I am very good at communicating with guests as you can see by my ratings and reviews so please be patient and give me a minute to reply. Enjoy your stay! The property is located directly in the cross sec    3\n",
       "Located in the heart of the Mission District, consider this your home away from home. Peaceful and comfortable, yet close enough to pretty much everything San Francisco is known & loved for, as well as some lesser known (equally loved by those who do) sights. You'll have a modern, cozy, private bedroom with a full/queen bed within this 4 bedroom, 2 bathroom house. (You'll be sharing the main areas of the house with Brian/Angela and two other guests, plus two small rescue dogs :) Your bedroom is equipped with a large, flat screen television set up with Chromecast and is decorated with paintings commissioned by a friend who dabbles as an artist. Jacques and Bijoux are sweet and playful pups who live here. If you want to play or cuddle with them, they'll love it. (If not, don't worry, they do not have access to the bedrooms or bathrooms.) A beautiful living space and shared backyard patio with a gas grill, premier location in the culturally rich Mission district (the famous Balmy Street m    3\n",
       "Located at Laurel Hights close to USF, Golden Gate Park, Golden Gate Bridge and Shopping Center. We are steps from MUNI station and 15 minutes Bus ride or Lyft/Uber ride to downtown. The room has a queen sized bed with incredible comfortable mattress which is perfect for a restful night after a day in the city. There is free parking on the street. Free fast Wi-Fi.                                                                                                                                                                                                                                                                                                                                                                                                                                                                                                                                                                                                                                                              3\n",
       "I have other listings in the same apartment: https://www.airbnb.com/rooms/16191596?locale=en https://www.airbnb.com/rooms/16193259?locale=en https://www.airbnb.com/rooms/16191967?locale=en https://www.airbnb.com/rooms/16193729?locale=en Apt is 3 mins to subway station '59 Street' in Brooklyn, for N and R line. We are sharing a four bedroom apartment at sunset park of Brooklyn. This is a convenient and nice location 3 mins away from N/R train(59th St subway station) . You can take N (express) train to Manhanttan in 20-30 mins. In our apartment , Our kitchen is free to use, we have all basic cooking stuff. Our Living room, kitchen and bathroom will be shared.  For off limits, of course other bedrooms are not allowed to enter with out permission.  I will always be there in the apartment, at least twice a week to meet our guests and do the cleaning job. If you have any questions, also feel free to message, txt or call me. Just let me know, if you have any questions. The Apt is between the     3\n",
       "The Brooklian is a sunny apartment with great views of the city, super conveniently located to public transportation .Clean, spacious, with low key furnishing  combined with all the conveniences needed. The Brooklian is within a pre-war building with those original interior design, still as they were! There are 3 queen bedrooms and a queen pull out couch in the living room, this listing is only for one room. Prospect park, Botanical Gardens, and the Brooklyn Mueseum are 10 mintues away. This add is in reference of one bedroom, if you want to reserve the all apartments or more bedrooms please write to me before booking. Brooklian is the best apartment in Brooklyn with an Italian touch to make it even better, the ambient is bright and spacious, furnished in a minimalist but essential way for your best experience! The kitchen is fully equiped with all the basic and more advanced kitchenware, microwave, coffee machine, toaster, food processor, nutribullet and electric grill sandwich press.    3\n",
       "Welcome to my home! It's a nice, newly renovated brownstone townhouse in the heart of Brooklyn. Close to major train lines: 1 minute to the J train and 4 minutes to the C train. Both trains will get you to manhattan in 15-20 minutes. My place is good for business travelers and tourists and has that wonderful feel-at-home ambience.                                                                                                                                                                                                                                                                                                                                                                                                                                                                                                                                                                                                                                                                                                3\n",
       "* The home is calm, but house party the day of Sep 16 to celebrate the sheep arriving across the street. Just for that afternoon. * Comfortable queen-size bed in private room in a three-bedroom NoLiTa/SoHo apartment with 360 degree rooftop view. Lively but peaceful neighborhood with shopping and great restaurants. Less than 2 minute walk to 7 subway lines (B,D,F,M,6,N,R). Beautiful apartment with rooftop view. Shopping and restaurants and bars nearby.  7 subway lines less than two minutes away. Beautiful renovated building. The apartment has three private bedrooms. There are additionally two bathrooms, so access to a bathroom is never a problem. We have a rooftop deck with one of the best views in New York, from the World Trade Center to the Empire State Building and even the Williamsburg Bridge. Right in front of us is a 19th century cathedral with large trees and a pasture for sheep in a historical graveyard. Bedroom, kitchen, bathroom, private rooftop belonging just to my apartment,    3\n",
       "Spacious 2 story 4000 sqft home Enjoy fruit trees swimming pool fountain & gardens lWalking distance to mall, grocery store, movie theater & restaurants. Centrally located to Malibu, Santa Monica,Venice,Hollywood, Beverly Hills, West LA This spacious 2 story 4000 sqft home is fully furnished and beautifully decorated! Coffee and donuts are served every morning;) Please keep in mind that this is a shared space, and that your large room consists of 2 bunk beds, your own dresser, hamper, and closet space. You will have full access to the rest of the home.  We provide a safe, clean, and positive environment, perfect for people relocating from out of state, students, and anyone else who needs a landing place while traveling. Near public transportation; ORANGELINE, 405, and 101 FREEWAYS. You will have full access to the rest of the home.  We do have private and 2 person and or couples rooms available in the same property. Full kitchen privileges  All Premium Cable and movie channels  Full se    3\n",
       "Check in as early as 10am!  Discounts for long stays! Steps from the High Line, and a block from major transportation this immaculate, sunny room is perfectly situated in one of the most desirable downtown Manhattan neighborhoods! This is a private room in a four bedroom apartment.  The host who lives here is a designer at an international fashion brand.  The decor, over -sized windows and 11 foot ceilings represents the style, modernity, and warm feeling that the Chelsea has to offer. The bedroom is one in a four bedroom apartment that is in the heart of prime Chelsea.  Please note, the apartment does have a live in host, and other guests - but your bedroom is your private space and oasis in Chelsea.   The room has a high bed so you can store your luggage underneath, a sturdy shelf near the bed to store items under and place your laptop or other items on.  A small closet, and long mirror.  It's a quiet building on a quiet street, but within walking distance of some of the most popular    3\n",
       "Beautiful, comfortable, clean, cozy rooms near shopping mall, diner, and public transportation.                                                                                                                                                                                                                                                                                                                                                                                                                                                                                                                                                                                                                                                                                                                                                                                                                                                                                                                                             3\n",
       "Loft Suite @ Henry Norman Hotel Located in Greenpoint, Brooklyn and housed in a converted 19th-century warehouse, the Henry Norman Hotel features modern lofts and suites with hardwood floors, antiques and contemporary art. The Loft Suite features a bedroom area with a Queen size bed and a comfortable pull-out sofa in the living room area, which in total can easily sleep up to 4 guests. The loft is equipped with 42\" LCD HD TVs in both the living and bedroom areas with premium cable channels (HBO, Showtime & more). There is a mini refrigerator plus tea and coffee making facilities for your convenience. There are hardwood floors throughout and a full bathroom with a shower/tub combination. Sleeps up to 4 guests. Guest will have access to common terraces, lounge area, business center with 2 iMac computers, fitness center with dry sauna and steam shower, and laundry room. Greenpoint is an artsy Brooklyn neighborhood filled with great restaurants, cafes, and shops.                               3\n",
       "Remarkably located in the heart of Chelsea in Manhattan, within walking distance of Penn Station, Madison SquareGarden, High Line Park and Theater District our hostel type separate rooms are simple, cozy, and very clean. Although small in size they are centered around a spacious common lounge area with free WiFi. We are located in the heart of the historic Chelsea neighborhood, West Side Manhattan: between 28th and 29th Streets on 8th Avenue. The freshly renovated hostel rooms here are simple, cozy, and very clean. Our management crew is on-site 24/7 to make sure everybody is happy. There is free WiFi here. Fresh, clean sheets, pillows towels and blankets are there for you. Although small in size the retreat guest rooms here are centered around a spacious common area. As a friendly, peaceful atmosphere, the common room is a perfect getaway from your busy day in the city. There is also a small library of spiritual books that can keep your mind engaged during a respit from the busy stree    3\n",
       "A handsome colonial house set on a tranquil side street. Fully furnished with spacious rooms. Easy commute to Downtown with nearest bus stop only a 5 minute walk away. Near restaurants, grocery and shopping arcade. Laundry and WiFi available.                                                                                                                                                                                                                                                                                                                                                                                                                                                                                                                                                                                                                                                                                                                                                                                          3\n",
       "My Cozy West LA / Mar Vista 1BD 1BA Home just 15 Min from Venice Beach. Features a queen bed and living room with comfy sofa, TV with HD Cable, High Speed Wifi, Full Kitchen with Gas Stove, Fridge, Microwave. Completely Private Apt not shared. My Cozy West LA / Culver City 1BD 1BA Home. Features queen bed in bedroom and living room with comfy sofa, TV with HD Cable, High Speed Wifi, Full Kitchen with Gas Stove, Fridge, Microwave. Completely Private Apt not shared. Entire Apt is yours with no restrictions and is not shared in any way. Just take care of my home as if it were your own please and be respectful to the neighbors. I am accessible should you need anything, have any questions or if you would like some great restaurant/tourist tips. Otherwise enjoy your stay and the home as if it is yours! Super centrally located in the heart of West LA. 10 Min to Venice Beach (less than 5 miles) Downtown Santa Monica (5 miles) and walking distance to beautiful downtown Culver City where you wil    3\n",
       "A very cozy house located in the heart of Hollywood between two famous streets: Beverly Blvd and Melrose Ave, within a safe and quiet neighborhood, 30 minutes from LAX, 15 minutes from Downtown LA, 15 minutes from Griffith Observatory, 15 minutes from Hollywood Walk of Fame, 15 minutes from Universal Studios, 5 minutes from Paramount Pictures. There are lots of restaurants and shops nearby. My favorite is Osteria La Buca:) A great house in the central area of Los Angeles suitable both for travelers and business trips. It is fully equipped with all you need and freshly renovated. FREE PARKING:)                                                                                                                                                                                                                                                                                                                                                                                                                    3\n",
       "Beautiful exposed brick. This apartment's location can't be beat - South Williamsburg gives easy access to Williamsburg's good life, but maintains the flavor of the neighborhood's roots absent from the north side - right around the corner from vintage boutiques, Michelin restaurants, nightlife, a thriving music scene, food trucks and great transit. Your room has a full sized bed. You have your own radiator and air conditioner, and a hair dryer for your room. There is also a full closet and a small side table, in addition to the couch and dining seating in the common area. There is a fully equipped kitchen with an oven, stove, microwave, coffee maker (bring your own grounds etc.), toaster, and electric kettle in addition to pots/pans and utensils at your disposal. The lounge/kitchen space and 2 bathrooms are shared with myself and other guests of this air b&b. Clean sheets/ towels are provided.  Washer and Dryer in the unit. Functional points of interest within a few blocks: 4 blocks to    2\n",
       "The Wyndham Midtown 45 is a serene, sophisticated oasis in the heart of midtown Manhattan. Located on 45th Street between 2nd and 3rd Avenues, Wyndham Midtown 45 is within walking distance of many of New York City’s major attractions and business centers! This space is situated close to Grand Central Terminal, 5th Ave (shopping!!!) and the New York Public Library. A perfect destination for couples, solo adventurers, families and big groups!! An intimate lobby, serene surroundings, limestone baths, rain showers, and plush bedding are just a few of the amenities you'll enjoy at my Wyndham Midtown 45 condo. Guest amenities and services include:       Business Center     Enjoy spectacular views from the 33rd Floor Sky Lounge, featuring indoor and outdoor seating. Open daily from 7AM- 11PM     Complimentary coffee, tea, and infused water served throughout the day in the lobby     Flat Screen HD televisions in every living room, bedroom, and bathroom     Complimentary Wifi Internet in all gu    2\n",
       "Amazing listing from an experienced SUPER host! Modern, contemporary luxury. Experience the best of downtown Los Angeles just outside your door! We have 100% guest satisfaction! This place is just a few steps to L.A. Live, Nokia Theatre, L.A. LIVE, Convention Center, Ralph's Market, Whole Foods, 2 Metro stations, Regal movie theaters & FIDM. There are tons of restaurants, bars, shopping, etc. This place is ideal for couples, solo adventurers, business travelers, and families. Experience what Downtown LA living is all about in your very own, luxurious loft-style 1 bedroom apartment. This newly listed unit has been remodeled with all-new appliances, high-end furniture, quality kitchen-ware, all of the essential supplies, and a bed you'll want to sleep in! Please note that this unit is used solely for rentals - it is not someone's living space; so you can make yourself at home and not feel as if you're intruding on anyone else's personal living space! Included in this unit, you will find:    2\n",
       "The Treat Street Clubhouse is a home you'll never forget. It's more than an Airbnb -- it's a collective of adventurers and unique individuals. We're creating a place that you can't wait to come back to. You'll have your own bunk bed in a shared room. This is a friendly atmosphere with many people and privacy will be a little sparse. With so many people, it may get rowdy at times. Make yourself at home here. There's a stocked kitchen, comfy loft, fridge, speakers, couches, sous vide machines, and the usual stuff. You'll be sharing the home with Duncan, a rugged cartographer, and Zain, a high-powered business tycoon -- both of whom have a proclivity for hyperbole. We also have a resident mascot: Roux, our loving, courageous, part-dingo pooch. We love going on adventures with guests and frequently organize events and outings. We're in the best part of the Mission with a rock climbing gym, incredible food, and the best coffee, all under a 5 minute walk. We're happy to show you the best loc    2\n",
       "This spacious room has a full size bed and a mini fridge for your needs. Our house is located in LA near the main freeways. We are a few blocks from Korea Town and there are bus stops on either side of our street. The spacious room is located upstairs in our house. You are welcome to use the kitchen which is right next to the living room downstairs. Although the room has its own full size bed, if you need another [floor] mattress for extra guests you are welcome to ask! While you are here you will have access to: -Stable WiFi  -Mini fridge inside your bedroom -Air conditioner to keep you cool! -Coin laundry machine (in our property next to our backyard) -Weekly housekeeping for monthly guests  -Use of the kitchen, silverware, plates, etc along with filtered water -Buses on either side of the block and street that will give you access to LA city -Very close to the (PHONE NUMBER HIDDEN) freeway -We are about 10 minutes away from USC by car! I [Jane] am always available via text messaging    2\n",
       "Simple and clean, very quite and safe guesthouse. Spiritual shelter for full time yogis. Take off your shoes when you enter and feel right at home. We have a large kitchen and dining area where you can have breakfast anytime, and a roof deck with a beautiful view of the city. Vegetarian, no drinking or smoking. Free WiFi. You can contact me by phone, text or airbnb msgs whether or not I'm present at this location. I'm usually in my room working on the computer or tending to the common areas of this location when I'm here, so I'm not hard to find. We do not give out keys to the front door of this property. They are too expensive and the host does not have clearance to make more copies in the event that guests lose their keys. You'll be given a PIN via text to enter through a second door just before or shortly after CHECK-IN depending on the circumstances of your arrival.                                                                                                                          2\n",
       "This is a MIXED SHARED Apartment in a Cozy 1 bedroom apartment. Our guest will be staying in bunk bed style arrangements. All of our guests are guaranteed clean and fresh queen size microfiber blanket, bed sheet, pillow and shower towels. It’s a one of a kind upscale experience at an affordable price!  KEY Points to note: - MESSAGE FOR AVAILABILITY BEFORE INSTANT BOOKING FOR MORE THAN 2 GUESTS - SHARED room and there may be other guests in the apartment - Apartment is located on the third floor This Victorian style Apartment is a wonderful place and location to stay while visiting DC. Guests will have full peace of mind when checking in and out of the Apartment as it is all key less and automated. Guest will be given Bluetooth key less access with the August Lock and all rooms will have a unique and secured number code to access in and out of the rooms. We are centrally located in Washington DC in the SHAW neighborhood.  Transportation: - Metro/ Subway: Shaw- Howard University Station     2\n",
       "My place is close to 5 minutes walk to Hollywood Blvd and very close to the walk of fame, short distance to Griffith park including the Hollywood sign, universal studios ,downtown LA & all the other major attractions. towels along the with kitchen & bathroom essentials are provided. Our place offers you a cozy living area so you can relax and watch TV equipped with Netflix where you can access thousands of movies and other shows. We have a full kitchen with coffee and tea, utensils, and a few pots and pans. bedroom offer a full size bed and closet.  The 101 Freeway is just minutes away with easy access to many main attractions. Hollywood Area: Come visit the many sites of Hollywood! Hollywood and Vine is less than 2 miles away where you can visit the Walk of Fame, Kodak Theater, Manns Chinese Theater, The Pantages Theater, Hollywood Bowl, The Magic Castle, Griffith Park Observatory, Hollywood Sign, Runyon Canyon, The Grove, Paramount Studios, Larchmont Village, Universal Studios Hollyw    2\n",
       "                                                                                                                                                                                                                                                                                                                                                                                                                                                                                                                                                                                                                                                                                                                                                                                                                                                                                                                                                                                                                                           ..\n",
       "Quiet, peaceful room with pvt bath on your own floor. Located in the center of fun and funky JP with a great view over the rooftops--a block to Jamaica Pond, 2 bl to JP Ctr and lots of shops & restaurants, yards to the 39 bus, easy walk to the T.  Onsite parking available. The room is the master suite in a 3 BR townhouse in hoppin' JP, a very desirable part of Boston.  The townhouse is built on a hill on ledge, and the 3d floor bedroom looks over the rooftops of JP through the branches of the trees.  The moon sometimes shines through the skylight.  It's a comfy queen bed -- very quiet for sleeping, with some city sounds far below, and the birds sharing the air. The townhouse is 3 floors so the bedroom is up two flights.  The kitchen and living room are on the first floor and there's room in the refrigerator if you need to keep something cold. I'll have light breakfast of coffee, tea, cereal, fruit and yogurt for you.  There's a nice patio and table and chairs in the back for morning co    1\n",
       "Cozy lofted bedroom with comfy couch nook beneath. This is a private room which has been decorated with items from my travels (Turkish carpets and Thai trinkets etc). Close to Central Park and all major train lines, with only a 17 minute ride to downtown. Also close to amazing Harlem bars, restaurants and clubs. Shelved closet AND a foot massager also included :) First floor apartment, very quiet private room. I live with two roommates in their mid 30s, both professional and out of the house or traveling often.  They are amazing and should feel like your family while your here! All kitchen appliances are free to be used, and all house duties are split between you and the roommates. Not chores...just be neat and clean up after yourself. Shared living room, shared kitchen with attached island table with barstool seating. Shared bathroom, also always clean and smelling like roses. I work in film and depending on the week I'll either be around if you need me or have my roommate (another ex    1\n",
       "Looking to spend some quality relaxation time outside and enjoy the magnificent Southern California weather? How about three separate backyards, custom pool, spa, waterfall, cabana, and a complete outdoor kitchen... All on beautiful travertine floors! City light views and beyond at 4250 Alonzo Avenue in Encino, California. Resort-style environment with beautiful, spacious, private, bedrooms and bathrooms available for rent. Access to pool, spa, kitchen and outdoor BBQ for tenants. The property is centrally located and has access to shopping malls, movie theaters, and fine dining in the Los Angeles area. There is also quick access to major Los Angeles freeways where tenants could go and see major attractions such as Universal Studios, Disney Land, museums, and concert halls in Los Angeles.Minimum stay is one week, but we can offer a special deal if there is a need to stay a shorter duration.  The Barcelona room is connected to Jack & Jill bathroom which is shared with the Tuscany room i    1\n",
       "Large room in spacious apt. with great natural light, huge kitchen/living room area and fabulous balcony. An oasis in the middle of Manhattan. The room can be fitted with one or two inflatable beds. No elevator. Guests will have access to the common area including a fully equipped kitchen, the balcony and a sofa arrangement. The apartment is very close to public transportation - both busses and the metro are only two blocks away.                                                                                                                                                                                                                                                                                                                                                                                                                                                                                                                                                                                           1\n",
       "This bright sunny studio is located in the heart of the Mission one block from 24th St BART. Pick up a morning pastry from Arizmendi Bakery; stroll over to Philz or Ritual for a world-class cup of coffee; and walk up Bernal Hill to take in the view.  This is my home, and I've set it up to be a peaceful haven. You'll enjoy coming here after a long day. And if you decide to go out, you're steps from some of the best restaurants and bars in SF. Recently updated studio in a well-maintained apartment building dating to the 1930s - perfect for those who appreciate period details. You are welcome to use the the kitchen to cook. Please be respectful and treat as you would your own! I will be available via phone in case you need assistance. One block from BART: 25 minutes to SFO, 5-10 minutes to downtown SF. Conveniently located to buses and Uber/Lyft as well. The studio is a 3rd-floor walkup.  I am close to the main drag, so there are city-level noises. I have a white noise machine which you a    1\n",
       "The room is a charming queen sized bedroom in a brand new, renovated apartment! There is an elevator for all your heavy bags! Quiet, tree-lined block.  Short walk to the Metropolitan Museum of Art, Central Park, MoMa, The East River Promenade, and lots of trendy bars, lounges, restaurants, and cafes! My place is great for solo/duo adventurers and business travelers! The bedroom has a queen-sized bed and a large double-closet with plenty of hanging storage for your clothes. Renovated kitchen stocked with tea & coffee. Renovated bathroom with very hot, powerful shower! The apartment is a 2 bedroom and I will be your roommate. You are welcome to use the kitchen, bathroom and bedroom. I'll be living in the apartment with you, and will be available to help with any of your needs. Just knock on my door or call/text me! Quiet, tree-lined block.  Short walk to the Metropolitan Museum of Art, Central Park, MoMa, The East River Promenade, and lots of trendy bars, lounges, restaurants, and cafes!    1\n",
       "El apartamento está ubicado a la izquierda del elevador, la entrada está iluminada el Pasillo del edificio está iluminado y el apartamento también . Solamente hablo español entiendo muy poco inglés . Atención en español si tiene alguna pregunta por favor escríbame por la aplicación para poder traducir. Supermercados, tiendas , buses, tre(URL HIDDEN)restaurante, cafeterías y más... Por acá hay de todo para moverse tren, bus y taxi todo está fácil pero yo recomiendo usar taxi si es muy tarde de la noche.                                                                                                                                                                                                                                                                                                                                                                                                                                                                                                                 1\n",
       "Located in the heart of San Francisco, in a walkable residential neighborhood of tree-lined streets known as Duboce Triangle close to \"the Castro\", this comfortable private room is on the second floor of a historic San Francisco Queen Anne style Victorian built in 1889. \"SAN FRANCISCO SHORT-TERM RESIDENTIAL RENTAL REGISTRATION NUMBER: STR-(PHONE NUMBER HIDDEN)  Possession of a San Francisco Short-Term Rental Registration Certificate certifies that the registration certificate holder has agreed to comply with the terms of the San Francisco Short-Term Residential Rental Ordinance (San Francisco Administrative Code Section 41A). This ordinance does not require an inspection of the unity by the City for potential Building, Housing, Fire, or other Code Violations.\"  The preceding text is provided by the City and County of San Francisco and is required to be displayed here in the listing for legally registered short term rentals. Private room and private bath.  No access to kitchen or other     1\n",
       "Cozy 1 BR Guesthouse beneath deck. Malibu De-Luxe VIP treatment for a zen experience. This stay includes a private Yoga session on the main deck. Ocean + mountain view competing for each other. White Water beach view. My place is close to ocean, parks, restaurants, bars and great views. You’ll love my place because of the location, the ambiance, the outdoors space, the zen, and the neighborhood. Pet friendly. Could sleep 4 if needed. This cute romantic 1 BR bungalow looks out the ocean and mountain right from inside your kitchen, bedroom (mountain view) or living room (ocean). It has the most amazing natural light inside, brand new floors and paint.  The cozy bedroom hugs you with mountain views when waking up and has a comfy  queen bed.  Malibu De-Luxe VIP treatment, consisting of:  - Welcome drink - Yoga session on deck with view  - Night at the bungalow/guesthouse (not main house) If you plan to bring a 3rd or 4th guest, we have a sofa bed and a smaller sofa for the 4th person. Dogs    1\n",
       "This cozy home is on a quiet tree-lined street walking distance to everything.   1st floor is all hardwood with a living room, office, powder room, dining room and fully equipped kitchen. Large deck off back with built in picnic table and Weber gas grill plus small area good for dogs The 2nd level has 2 bdrms(tandem), sitting area and 1 full bath. The home is a 1920's brick cottage that has been rehabbed/reconfigured several times during its existance.  The wide pine floors and the maple floors are original as well as a few interior doors.  The stairs going up have open risers so please be careful going up and down especially if there are children with you.  The 2 bedrooms are tandem which means you have to walk through the large bedroom to get to the 2nd bedroom.  They both have doors on them but neither lock.  If you need complete privacy this space might not work.  This is a cozy home with a few little quirks due to its age but thats what we love about it and hope you will too You c    1\n",
       "\"Wow!\"  NYC Floor-through apartment in 1910 brownstone, luxe, updated, original charm, and  architectural bones, extraordinary  Manhattan location. 98% five star reviews.  Walk score: 100. Strict compliance with NYC short-term rental rules!  Contact us please if you are looking for a place for an extended stay.  Our friends, of course, can stay for shorter stays. This is a large one bedroom apartment 700 ft.² plus, (or 66+ sq. meters,) with separate attached maid's quarters, (square footage not included,) custom finished with marble, granite, designer lighting, a built in office nook, new or newer appliances-built in modern shelving to store your clothes, all manners of built-in usable space.  The updated granite bath has a  rainfall shower, with marble finishes and spa products.  Ample closet space provided: The bedroom has a closet, an armoire and a basket system for your belongings. They are all left empty for you, hotel-style. It comfortably sleeps two.  There is a European washer/    1\n",
       "The apartment is spacious and bright with lots of windows, high ceilings and artistic vibe. A block from the park, the apartment is steps away from popular bars, restaurants, and neighborhoods of Wicker Park and Logan Square. 30-40 mins to downtown. -Your room is a medium size, with an AC unit in summer--good for one to two people.   -There is one other room in the apartment that is usually also rented to other travelers.  -Please note that this is an older apartment. It has a few quirks, like creaky spots on the floor, and in the winter the radiator heaters make some noise. The bathroom is cleaned very regularly, but there are signs of an old apartment. The place is taken care of and loved. *if you expect hotel setting, this is not the place for you!* Come and go as you please I am available to help you/answer questions about Chicago if you like. There are popular bars and restaurants close by, including the California Clipper. 15-minute's walk away is Chicago's new 606 Trail, great f    1\n",
       "Room for 1 person $55/night(3-nIght min) ONLY 5-min drive to Rose Bowl! CENTRAL LA Canyon View RETREAT! Great for USC Medical Students on rotation EASY FREEWAY ACCESS - 5 min to 110/101 /I-5   5-10 min from LA,Rose Bowl,Pasadena,Monterey Park,USC 1 Person Room Rental (no guests)  $95 per night (3-night minimum)!  ONLY 5-min drive to Rose Bowl!  CENTRAL LOS ANGELES Canyon View RETREAT! - EASY FREEWAY ACCESS...5 min from (phone number hidden) freeways - 5 min from Highland Park, downtown LA, Dodgers Stadium, Los Felis, Eaglerock, Hollywood,  Rose Bowl, Pasadena, Monterey Park, USC (University of Southern California - Go Trojans!), ART College, Little Tokyo, Chinatown, Nokia LIVE, Staples Center, Dodger Stadium, Amtrak Union Train Station...  - 15-20 min from Burbank studios, Griffith Park Observatory, Universal Studios, Hollywood - Very quiet, safe neighborhood across from Canyon Preserve. - FREE parking, WIFI internet - PRIVATE BATHROOM, kitchen/living room privileges - Public transport    1\n",
       "Beautiful & spacious 1 bedroom + den loft located in the heart of the south loop.  My loft is located close to all the famous attractions of Chicago.  One room has a California King bed mattress, and the den has a full sized bed. License Number: City registration pending I greet my guests upon arrival, explain any instructions, then then the apartment is all to themselves! My place is close to Grant Park, Millennium Park, Willis Tower, etc.  (perfect for the Chicago Marathon).  Museum Campus, Public transportation, many stores, restaurants, bars, etc. are located just a few blocks away!  There is also a movie theater and park right outside your door! The bus stops and trains are all within five minute walking distance! Wifi/Blu-ray available 10/15/15.                                                                                                                                                                                                                                                   1\n",
       ".                                                                                                                                                                                                                                                                                                                                                                                                                                                                                                                                                                                                                                                                                                                                                                                                                                                                                                                                                                                                                                           1\n",
       "Fully furnished studio apt steps from Wrigley, dozens of bars & restaurants, & the Addison red line CTA stop. Full kitchen is ready to go for the traveling chef. Quiet building in a great neighborhood perfect for those who want a private space. Quiet building offers a perfect work space for those traveling on business. With the Queen bed, 2 futons, and available air-mattress sleeping 7 is no problem. We have internet/wifi in the apartment as well as cable & HBO on a 42' flat screen. A full kitchen includes: dishware, cookware, Keurig with plenty of K-Cups, Toaster, Microwave, and some basic in the fridge like bottled water, milk, creamer & eggs. Help yourself to whatever you like; just be sure to clean up. Please be sure to check out the amazing stone patio! Guests love this area for eating outside or just hanging out to have a few cocktails. Studio apartment, laundry room, backyard/patio. This space offers total privacy for guests. If nothing is needed you can be left alone completely    1\n",
       "Absolutely new, renovated room with a queen size bed! The apartment is very clean, all furniture is new. The area is safe and very quite. The room has a balcony with a great view to Hollywood sing. From the other side of the apartment, there is a beautiful view to downtown (especially at night).  The apartment is very close to all touristic places. It's a 30 mins drive from the LAX airpot. If you are looking for a clean, comfortable bed to relax, you are welcome to my house! Hey everyone! This is my up-to-date house manual. First, I want to thank you for considering my room to accommodate your traveling needs. I respect all walks of life and welcome anyone who considers my place fitting. This cozy private bedroom is designed for the travelers who come to visit LA. There is a queen bed in the private room. Additionally, we can provide a sleeping place for a third guest (a single mattress, ask for details).  Place is clean and comfortable. Clean towels will be given.  We will share one b    1\n",
       "Large, sunny three-level apartment that easily sleeps four with Central Park just steps away!  World famous gourmet food markets and high end shopping around the corner.  Best cinema in city two blocks away (often hosts red carpet premieres).  Two blocks from the West 72nd St. subway station which is a major hub on the 1/2/3 lines.  Horse and carriages, pedicabs, finest reviewed restaurants--all within walking distance!   Beautiful, outrageously sunny, three-level studio (which could probably be billed as a one bedroom) in the heart of Manhattan's Upper West Side.  The apartment has a large, south-facing picture window in full sun all day overlooking our charming street which is very quiet at night.  The apartment has a fully equipped eat-in kitchen.   The unit is a 4th story walk-up with no doorman, in a lovely little townhouse.  It is a full-time rental by owners that live in our friendly, family-oriented building.  The apartment was fully renovated about five years ago and is quite     1\n",
       "Equidistant 7 minute walk to Lorimer L/G and J/M in Williamsburg. In perfect center location close to all the best venues, bars and resteraunts of Williamsburg and Bushwick. 1 private bedroom with Futon bed, Dyson air blade fan, closet. Kitchen available for use. 2 blocks from tons of bars, coffee shops and restaurants on Grand Street. Laundry and Post Office a block away. Internet, amazing big backyard with grill and hang out table.                                                                                                                                                                                                                                                                                                                                                                                                                                                                                                                                                                                       1\n",
       "Enjoy the best of luxury, privacy, and magnificent city views in this spectacular Hollywood high-rise complex.  This modern high-rise apartment is complete with a large windows, high ceilings, a flat screen TV, and access to the gym and media room. Step into this lavish loft and experience and take in views of Los Angeles. My Hollywood highrise is designed to provide perfect access to all the excitement of Hollywood. Featuring an open-room loft layout with contemporary design, there is room to sleep up to 5 guests comfortably. Two queen size bed face the wide windows that provide spectacular views. There is additional bedding available in the living room with a queen sized sleeper sofa. There is plenty of space for storage with a huge closet. This amazing high-rise is complete with a gourmet kitchen featuring granite countertops, stainless steel appliances, fine cabinetry, and hardwood floors. The dining area is perfect for a dinner party of 5. The living room was designed to entertain    1\n",
       "My place is close to Euclid av/Pitkin av. You’ll love my place because of the ambiance and the light. My place is good for couples, solo adventurers, business travelers, and families (with kids).                                                                                                                                                                                                                                                                                                                                                                                                                                                                                                                                                                                                                                                                                                                                                                                                                                         1\n",
       "My place is close to Prospect Park, Brooklyn Museum, Franklin Park, Barboncino Pizza, Brooklyn Public Library, and The Breukelen Coffee House. You’ll love my place because of the comfy beds, the Smart TVs, the modern bathroom and kitchen. My place is good for couples, solo adventurers, and business travelers. Everything is brand new and luxurious. There's a rooftop and balcony. There's laundry in the building. I'm always available. Text, call, or email me anytime! I love that this neighborhood is convenient and quiet!!! Express 2 & 5 train two short blocks away!  Arrive in lower Manhattan in 15 min. Times Square in 30-35 minutes. Smart TVs in each bedroom with free Netflix. Living room TV has cable 200+channels.                                                                                                                                                                                                                                                                                           1\n",
       "Spacious room with private bathroom and queen size bed, 3 windows overlooking the garden and the walk to the beach behind the house. Nearby parks, 8 minutes to the Red Line then 12 minutes to downtown, 25 minutes to Cambridge, off street parking. We live in an 18 room 160 year old house that was once occupied by just one family! Barney has lived here all of his life, our 4 children grew up here, and we like the combination of a small town dynamic, living on the beach while 20 minutes from the center of the city. There is a full kitchen on the first floor for guests to make meals, as well as a back porch to enjoy, weather permitting. A laundry room is available and reliable wifi access is provided to all guests. We interact with guests when we are around, which is usually in the evenings. We're happy to offer conversation and guidance about Boston and New England. We are available to meet and facilitate our guests' visits and can be around as much, or as little, as needed. We will provi    1\n",
       "Beautiful artistic home with private backyard, dishwasher & skylights in cool, safe Brooklyn neighborhood. Large bedroom and spacious space - great kitchen. Steps away from Park Slope - lots of cute bars and restaurants nearby. Come explore the hood! Sunny, spacious home with a large bedroom and kitchen. You have access to the private bedroom located at the front of the apt.  (The other two bedrooms are on the opposite side of the apt so you have lots of privacy) You have access to the living room, kitchen, dining room, bathroom and private backyard. I'll be reachable, and am more than happy to help you with anything you need - subway navigation, restaurant recommendations etc. Nice, quiet neighborhood.  It has lots to do in terms of thrift shops, local restaurants, cafes and bars, but is not as built up as some of its neighboring areas.  Good access to Park Slope and some other Brooklyn neighborhoods like Cobble Hill.  Also, it's about a 15 min walk to Prospect Park. Lots of fun local    1\n",
       "This shared room is perfect for students and  budget travelers. A great way to meet people. You must call me before you arrive.                                                                                                                                                                                                                                                                                                                                                                                                                                                                                                                                                                                                                                                                                                                                                                                                                                                                                                             1\n",
       "This charming 2 bedroom, 2 bath house is centrally located a short drive from Santa Monica, Beverly Hills & Downtown LA.  A quiet oasis in hot PicFair Village, enjoy your holiday and relax in style in this adorable little house. Visit LA in the comfort of a home equipped with a cook's kitchen and located very centrally to make celebrating with others easy. Master bedroom has a queen size bed and second bedroom has twin bunk beds.  An air mattress is also available as well as a travel crib and other baby items.  House has an electric gate and alarm system to make you feel extra safe. I am available by text or email or phone. There are several great restaurants and shops within walking distance.  The street is quiet, but you will see plenty of neighbors out and about. There is a bus stop within walking distance and the LA Metro is a quick drive or short bike ride away. Guests are welcome to bikes, gas grill and full kitchen with basic staples available to use.                                1\n",
       "Have you ever desired to sleep inside a Cloud?!...(perhaps as would a Carebear).. You will wake in a serene room with contemporary accents!...With your own Private Entrance and Gated Parking just two feet from your door, it's the perfect Hollywood spot to begin your LA explorations from! Have you ever desired to sleep inside a Cloud?!...(perhaps as would a Carebear).. You will wake in a serene room with contemporary accents!...With your own Private Entrance and Gated Parking just two feet from your door, it's the perfect Hollywood spot to begin your LA explorations from! The interior of my entire 1920s 4bd home/post-production studio is painted a light sky blue, and in recently redecorating this room I figured to work off of the \"Sky\" theme and call this the Cloud Room...I wanted to create an experience that approached \"living within a cloud.\" This serene room has it's own private entrance, a new high quality queen mattress with an Italian designed Contemporary bed frame, blue and whit    1\n",
       "ADULTS ONLY   NOT FAMILY FRIENDLY Registration #(PHONE NUMBER HIDDEN) NO children or grandchildren of any age under 18 years old are allowed on the property at any time. Includes infants,  NO KIDS of any age! The Lookout is a private studio with a private entrance and private everything else! You will have your own bathroom/ bedroom/ small coffee bar with fridge, microwave, toaster, and tea kettle. You can relax knowing that the Lookout is all yours. ADULTS ONLY    \"Coolest Place to Stay in San Francisco\"-  California Home and Garden Magazine.    ADULTS ONLY  The Lookout is a private studio and was designed with the quiet and mature adult in mind, the guest who is looking for a respite in the City, for a place to catch up on much needed sleep and restoration between working, visiting relatives, or exploring San Francisco. You will have complete privacy in the Lookout!  No smoking. Two adults maximum. No parties. No one under 18 on the property. No pets.  Garden Lookout details: The Loo    1\n",
       "Discover an exclusive 3BR/1BA that embraces the charm of New York City.  This perfect getaway has a new furnished interior and is just steps away from top Soho attractions! Brand new hardwood floors, modern furniture, skylight, and more. Come enjoy the perfect Soho getaway and experience rich culture in one of New York City’s best neighborhoods. This luxurious 3 bedroom, 1 bathroom unit captures the essence of city life situated adjacent to a true shopper’s haven!  With maximum space in mind, this apartment was designed with an open-room layout and can sleep up to 7 guests comfortably (a rare find in NYC!). Inside, there is a queen-size bed in each of the 3 bedrooms and an additional rollaway bed in the living room.  The generous well-lit living room invites comfort with skylights and offers plenty of space with a plush leather sofa and 2 arm chairs on a multi-color rug which faces a smart TV. Take advantage of the large gourmet kitchen complete with stainless steel appliances, glossy     1\n",
       "Get $50 dollars off your first booking with this link: www.airbnb.com/c/kdo1 Experience New York like a local by staying in our downtown Flat.  You'll be close to SOHO, Little Italy, and East Village. -You will stay in a BRAND NEW building complex in one of the oldest neighborhood in lower Manhattan.  -It is a 3 bedroom and 2 bathroom apartment -Our neighborhood, the Lower East Side, is filled with amazing restaurants, night life, retail shops, and art.  -It is authentic, energetic, gritty, charming, and safe! -Walking distance to Chinatown, Little Italy, Soho, and East Village -Several train stations within a short 2  minute walk -We are very confident that you will love it as much as we do.  We ask that you treat our home and our neighbors as you would with yours. My girlfriend and I travel frequently for business and pleasure so we open up our home to other wanderlusts. We've stayed in many Airbnbs around the world and love the local feeling that it offers so we decided to provide t    1\n",
       "Name: description, Length: 28685, dtype: int64"
      ]
     },
     "execution_count": 23,
     "metadata": {},
     "output_type": "execute_result"
    }
   ],
   "source": [
    "df.description.value_counts()\n",
    "#Demasiado complicado utilizar esta variable para el modelo:\n",
    "    #diferentes idiomas\n",
    "    #tendrías que encontrar comunes palabras? o algún denominador que te permita clasificar la descripción en distintos niveles"
   ]
  },
  {
   "cell_type": "code",
   "execution_count": 24,
   "metadata": {},
   "outputs": [],
   "source": [
    "df.drop(\"description\", axis=1, inplace=True)"
   ]
  },
  {
   "cell_type": "code",
   "execution_count": 25,
   "metadata": {},
   "outputs": [
    {
     "data": {
      "text/plain": [
       "(28877, 24)"
      ]
     },
     "execution_count": 25,
     "metadata": {},
     "output_type": "execute_result"
    }
   ],
   "source": [
    "df.shape"
   ]
  },
  {
   "cell_type": "markdown",
   "metadata": {},
   "source": [
    "### name"
   ]
  },
  {
   "cell_type": "code",
   "execution_count": 26,
   "metadata": {},
   "outputs": [
    {
     "data": {
      "text/plain": [
       "Brooklyn Oasis                                        4\n",
       "Venice Beach Cottage                                  3\n",
       "East Village Gem                                      3\n",
       "Private 1 Bedroom Apartment                           3\n",
       "Make的小屋（地理位置好，交通方便，洛杉矶市中心，提供机场名牌店景点等接送，包车游玩等服务）       3\n",
       "Spacious Private Room in Brooklyn                     3\n",
       "Bunk bed in the Treat Street Clubhouse                3\n",
       "SHARED ROOM in VENICE BEACH HOSTEL                    3\n",
       "Luxurious Shared Apartment in NY                      2\n",
       "Cozy Private Room                                     2\n",
       "Higher Suites                                         2\n",
       "Silver Lake Guest House                               2\n",
       "A beautiful 2-bedroom in Bay Ridge                    2\n",
       "Room in heart of Williamsburg                         2\n",
       "Private Room in the Heart of Boston                   2\n",
       "One bedroom                                           2\n",
       "Amazing View over Fenway                              2\n",
       "GREAT studio in Los Feliz!                            2\n",
       "The Blue Room                                         2\n",
       "2000sq $2 million 3 story townhouse                   2\n",
       "Harlem Gem                                            2\n",
       "Echo Park Hills                                       2\n",
       "In the city!Central park!                             2\n",
       "Craftsman Bungalow near DTLA & USC                    2\n",
       "Charming Brownstone Apartment                         2\n",
       "Lux 3 Bedroom in Seaport Square w/wifi                2\n",
       "Sunny Williamsburg Apartment                          2\n",
       "Lux 2 Bedroom in Seaport Square w/wifi                2\n",
       "8 Bed Mix                                             2\n",
       "Room with 2 single beds & shared bathroom in Hotel    2\n",
       "                                                     ..\n",
       "W. 80's Central Park 3 Blocks Walk                    1\n",
       "Cozy Boho Nook in Columbia Heights                    1\n",
       "Master bdr. in NEW Sunny 3 bdr. apt                   1\n",
       "West Hills Studio Private Room-Bath-Kitchen-Entry     1\n",
       "Private & Comfortable NoMa Studio                     1\n",
       "Oceanfront Townhouse on Quiet Malibu Road             1\n",
       "Staples Center & Convention Center                    1\n",
       "Exclusive Runyon Canyon Vintage RV Getaway            1\n",
       "Gorgeous 1 Bedroom Steps to Central Park              1\n",
       "New Modern Luxury Beach Condo                         1\n",
       "the Buda Mini Apartment by Hollywood                  1\n",
       "Best Location in Hollywood! (Over 150 reviews)        1\n",
       "Cozy Private BR in PERFECT West Village Apt           1\n",
       "Gorgeous Harlem Studio                                1\n",
       "Comfortable Small Room with wifi                      1\n",
       "DOWNTOWN BROOKLYN LOFT                                1\n",
       "Awesome Comfortable Room in Prime TriBeCa Location    1\n",
       "Family-Friendly 3-Bedroom Apartment                   1\n",
       "Large Oasis by the Beach                              1\n",
       "Private room in 2bedroom apartment @ East Village     1\n",
       "Charming place to stay in Arcadia                     1\n",
       "Beautiful Sunlight Studio Apt                         1\n",
       "Luxury 2BR apt- Pool, Skyline, Gym, Staples Center    1\n",
       "Carroll Gardens Brownstone Flat                       1\n",
       "Fresh Modern 4 Bedroom 3 Bath Apt!!                   1\n",
       "Charming Two Bedroom in Chelsea                       1\n",
       "1 BR and a sleeper sofa                               1\n",
       "Nice Studio Heart of West Hollywood                   1\n",
       "Beautiful 1 bdrm Brownstone Apt                       1\n",
       "Sunny Room in Santa Monica                            1\n",
       "Name: name, Length: 28765, dtype: int64"
      ]
     },
     "execution_count": 26,
     "metadata": {},
     "output_type": "execute_result"
    }
   ],
   "source": [
    "df.name.value_counts()\n",
    "#mismo tema con description"
   ]
  },
  {
   "cell_type": "code",
   "execution_count": 27,
   "metadata": {},
   "outputs": [],
   "source": [
    "df.drop(\"name\", axis=1, inplace=True)"
   ]
  },
  {
   "cell_type": "code",
   "execution_count": 28,
   "metadata": {},
   "outputs": [
    {
     "data": {
      "text/plain": [
       "(28877, 23)"
      ]
     },
     "execution_count": 28,
     "metadata": {},
     "output_type": "execute_result"
    }
   ],
   "source": [
    "df.shape"
   ]
  },
  {
   "cell_type": "code",
   "execution_count": 29,
   "metadata": {},
   "outputs": [
    {
     "data": {
      "text/html": [
       "<div>\n",
       "<style scoped>\n",
       "    .dataframe tbody tr th:only-of-type {\n",
       "        vertical-align: middle;\n",
       "    }\n",
       "\n",
       "    .dataframe tbody tr th {\n",
       "        vertical-align: top;\n",
       "    }\n",
       "\n",
       "    .dataframe thead th {\n",
       "        text-align: right;\n",
       "    }\n",
       "</style>\n",
       "<table border=\"1\" class=\"dataframe\">\n",
       "  <thead>\n",
       "    <tr style=\"text-align: right;\">\n",
       "      <th></th>\n",
       "      <th>property_type</th>\n",
       "      <th>room_type</th>\n",
       "      <th>amenities</th>\n",
       "      <th>accommodates</th>\n",
       "      <th>bathrooms</th>\n",
       "      <th>cancellation_policy</th>\n",
       "      <th>cleaning_fee</th>\n",
       "      <th>city</th>\n",
       "      <th>first_review</th>\n",
       "      <th>host_has_profile_pic</th>\n",
       "      <th>...</th>\n",
       "      <th>instant_bookable</th>\n",
       "      <th>last_review</th>\n",
       "      <th>neighbourhood</th>\n",
       "      <th>number_of_reviews</th>\n",
       "      <th>review_scores_rating</th>\n",
       "      <th>thumbnail_url</th>\n",
       "      <th>zipcode</th>\n",
       "      <th>bedrooms</th>\n",
       "      <th>beds</th>\n",
       "      <th>price</th>\n",
       "    </tr>\n",
       "  </thead>\n",
       "  <tbody>\n",
       "    <tr>\n",
       "      <th>0</th>\n",
       "      <td>Apartment</td>\n",
       "      <td>Entire home/apt</td>\n",
       "      <td>{\"Wireless Internet\",\"Air conditioning\",Kitche...</td>\n",
       "      <td>7</td>\n",
       "      <td>1.0</td>\n",
       "      <td>strict</td>\n",
       "      <td>True</td>\n",
       "      <td>NYC</td>\n",
       "      <td>2017-08-05</td>\n",
       "      <td>t</td>\n",
       "      <td>...</td>\n",
       "      <td>t</td>\n",
       "      <td>2017-09-23</td>\n",
       "      <td>Hell's Kitchen</td>\n",
       "      <td>6</td>\n",
       "      <td>93.0</td>\n",
       "      <td>https://a0.muscache.com/im/pictures/348a55fe-4...</td>\n",
       "      <td>10019</td>\n",
       "      <td>3.0</td>\n",
       "      <td>3.0</td>\n",
       "      <td>169.0</td>\n",
       "    </tr>\n",
       "    <tr>\n",
       "      <th>1</th>\n",
       "      <td>Apartment</td>\n",
       "      <td>Private room</td>\n",
       "      <td>{TV,\"Wireless Internet\",Heating,\"Smoke detecto...</td>\n",
       "      <td>2</td>\n",
       "      <td>1.0</td>\n",
       "      <td>strict</td>\n",
       "      <td>True</td>\n",
       "      <td>SF</td>\n",
       "      <td>2017-08-27</td>\n",
       "      <td>t</td>\n",
       "      <td>...</td>\n",
       "      <td>t</td>\n",
       "      <td>2017-09-05</td>\n",
       "      <td>Noe Valley</td>\n",
       "      <td>3</td>\n",
       "      <td>100.0</td>\n",
       "      <td>https://a0.muscache.com/im/pictures/82509143-4...</td>\n",
       "      <td>94131</td>\n",
       "      <td>1.0</td>\n",
       "      <td>1.0</td>\n",
       "      <td>85.0</td>\n",
       "    </tr>\n",
       "    <tr>\n",
       "      <th>2</th>\n",
       "      <td>Condominium</td>\n",
       "      <td>Entire home/apt</td>\n",
       "      <td>{TV,\"Cable TV\",\"Wireless Internet\",\"Wheelchair...</td>\n",
       "      <td>2</td>\n",
       "      <td>1.0</td>\n",
       "      <td>moderate</td>\n",
       "      <td>True</td>\n",
       "      <td>LA</td>\n",
       "      <td>2016-12-16</td>\n",
       "      <td>t</td>\n",
       "      <td>...</td>\n",
       "      <td>f</td>\n",
       "      <td>2017-04-12</td>\n",
       "      <td>Downtown</td>\n",
       "      <td>9</td>\n",
       "      <td>93.0</td>\n",
       "      <td>https://a0.muscache.com/im/pictures/61bd05d5-c...</td>\n",
       "      <td>90015</td>\n",
       "      <td>1.0</td>\n",
       "      <td>1.0</td>\n",
       "      <td>120.0</td>\n",
       "    </tr>\n",
       "    <tr>\n",
       "      <th>3</th>\n",
       "      <td>House</td>\n",
       "      <td>Private room</td>\n",
       "      <td>{TV,\"Cable TV\",\"Wireless Internet\",\"Pets live ...</td>\n",
       "      <td>2</td>\n",
       "      <td>1.0</td>\n",
       "      <td>moderate</td>\n",
       "      <td>True</td>\n",
       "      <td>SF</td>\n",
       "      <td>2016-02-13</td>\n",
       "      <td>t</td>\n",
       "      <td>...</td>\n",
       "      <td>f</td>\n",
       "      <td>2017-09-24</td>\n",
       "      <td>Richmond District</td>\n",
       "      <td>159</td>\n",
       "      <td>99.0</td>\n",
       "      <td>https://a0.muscache.com/im/pictures/0ed6c128-7...</td>\n",
       "      <td>94121</td>\n",
       "      <td>1.0</td>\n",
       "      <td>1.0</td>\n",
       "      <td>120.0</td>\n",
       "    </tr>\n",
       "    <tr>\n",
       "      <th>4</th>\n",
       "      <td>Apartment</td>\n",
       "      <td>Private room</td>\n",
       "      <td>{Internet,\"Wireless Internet\",\"Air conditionin...</td>\n",
       "      <td>2</td>\n",
       "      <td>1.0</td>\n",
       "      <td>strict</td>\n",
       "      <td>True</td>\n",
       "      <td>NYC</td>\n",
       "      <td>2013-04-28</td>\n",
       "      <td>t</td>\n",
       "      <td>...</td>\n",
       "      <td>f</td>\n",
       "      <td>2016-11-15</td>\n",
       "      <td>Alphabet City</td>\n",
       "      <td>82</td>\n",
       "      <td>93.0</td>\n",
       "      <td>https://a0.muscache.com/im/pictures/21726900/1...</td>\n",
       "      <td>10009.0</td>\n",
       "      <td>1.0</td>\n",
       "      <td>1.0</td>\n",
       "      <td>100.0</td>\n",
       "    </tr>\n",
       "  </tbody>\n",
       "</table>\n",
       "<p>5 rows × 23 columns</p>\n",
       "</div>"
      ],
      "text/plain": [
       "  property_type        room_type  \\\n",
       "0     Apartment  Entire home/apt   \n",
       "1     Apartment     Private room   \n",
       "2   Condominium  Entire home/apt   \n",
       "3         House     Private room   \n",
       "4     Apartment     Private room   \n",
       "\n",
       "                                           amenities  accommodates  bathrooms  \\\n",
       "0  {\"Wireless Internet\",\"Air conditioning\",Kitche...             7        1.0   \n",
       "1  {TV,\"Wireless Internet\",Heating,\"Smoke detecto...             2        1.0   \n",
       "2  {TV,\"Cable TV\",\"Wireless Internet\",\"Wheelchair...             2        1.0   \n",
       "3  {TV,\"Cable TV\",\"Wireless Internet\",\"Pets live ...             2        1.0   \n",
       "4  {Internet,\"Wireless Internet\",\"Air conditionin...             2        1.0   \n",
       "\n",
       "  cancellation_policy  cleaning_fee city first_review host_has_profile_pic  \\\n",
       "0              strict          True  NYC   2017-08-05                    t   \n",
       "1              strict          True   SF   2017-08-27                    t   \n",
       "2            moderate          True   LA   2016-12-16                    t   \n",
       "3            moderate          True   SF   2016-02-13                    t   \n",
       "4              strict          True  NYC   2013-04-28                    t   \n",
       "\n",
       "   ... instant_bookable last_review      neighbourhood number_of_reviews  \\\n",
       "0  ...                t  2017-09-23     Hell's Kitchen                 6   \n",
       "1  ...                t  2017-09-05         Noe Valley                 3   \n",
       "2  ...                f  2017-04-12           Downtown                 9   \n",
       "3  ...                f  2017-09-24  Richmond District               159   \n",
       "4  ...                f  2016-11-15      Alphabet City                82   \n",
       "\n",
       "  review_scores_rating                                      thumbnail_url  \\\n",
       "0                 93.0  https://a0.muscache.com/im/pictures/348a55fe-4...   \n",
       "1                100.0  https://a0.muscache.com/im/pictures/82509143-4...   \n",
       "2                 93.0  https://a0.muscache.com/im/pictures/61bd05d5-c...   \n",
       "3                 99.0  https://a0.muscache.com/im/pictures/0ed6c128-7...   \n",
       "4                 93.0  https://a0.muscache.com/im/pictures/21726900/1...   \n",
       "\n",
       "   zipcode  bedrooms beds  price  \n",
       "0    10019       3.0  3.0  169.0  \n",
       "1    94131       1.0  1.0   85.0  \n",
       "2    90015       1.0  1.0  120.0  \n",
       "3    94121       1.0  1.0  120.0  \n",
       "4  10009.0       1.0  1.0  100.0  \n",
       "\n",
       "[5 rows x 23 columns]"
      ]
     },
     "execution_count": 29,
     "metadata": {},
     "output_type": "execute_result"
    }
   ],
   "source": [
    "#first_review host_has_profile_pic host_identity_verified host_response_rate host_since instant_bookable last_review\n",
    "df.head()"
   ]
  },
  {
   "cell_type": "markdown",
   "metadata": {},
   "source": [
    "### first_review"
   ]
  },
  {
   "cell_type": "code",
   "execution_count": 30,
   "metadata": {},
   "outputs": [
    {
     "data": {
      "text/plain": [
       "2017-01-01    147\n",
       "2017-09-04    138\n",
       "2017-01-02    107\n",
       "2017-01-22    105\n",
       "2017-04-16     95\n",
       "2017-03-19     88\n",
       "2017-04-09     88\n",
       "2016-01-03     86\n",
       "2016-10-09     83\n",
       "2016-01-02     80\n",
       "2017-07-16     77\n",
       "2017-09-03     76\n",
       "2017-09-10     75\n",
       "2017-03-12     75\n",
       "2016-10-16     74\n",
       "2016-09-05     73\n",
       "2017-08-13     71\n",
       "2017-07-30     69\n",
       "2017-03-26     69\n",
       "2015-09-21     67\n",
       "2016-11-06     67\n",
       "2017-04-02     65\n",
       "2016-11-13     65\n",
       "2017-04-23     63\n",
       "2017-07-31     61\n",
       "2016-01-05     61\n",
       "2016-10-30     61\n",
       "2017-03-05     61\n",
       "2017-09-17     60\n",
       "2017-08-27     60\n",
       "             ... \n",
       "2011-06-08      1\n",
       "2012-02-02      1\n",
       "2011-10-14      1\n",
       "2010-05-13      1\n",
       "2011-11-11      1\n",
       "2012-12-05      1\n",
       "2011-03-18      1\n",
       "2012-10-06      1\n",
       "2010-10-16      1\n",
       "2010-07-04      1\n",
       "2012-03-01      1\n",
       "2012-03-07      1\n",
       "2012-07-25      1\n",
       "2012-11-03      1\n",
       "2009-05-08      1\n",
       "2011-05-29      1\n",
       "2012-06-14      1\n",
       "2012-02-13      1\n",
       "2011-05-17      1\n",
       "2012-12-13      1\n",
       "2009-08-25      1\n",
       "2010-03-16      1\n",
       "2011-12-23      1\n",
       "2011-04-19      1\n",
       "2011-03-21      1\n",
       "2012-07-09      1\n",
       "2012-10-07      1\n",
       "2011-11-23      1\n",
       "2013-01-15      1\n",
       "2014-01-28      1\n",
       "Name: first_review, Length: 2339, dtype: int64"
      ]
     },
     "execution_count": 30,
     "metadata": {},
     "output_type": "execute_result"
    }
   ],
   "source": [
    "df.first_review.value_counts()\n",
    "#Demasiados valores únicos"
   ]
  },
  {
   "cell_type": "code",
   "execution_count": 31,
   "metadata": {},
   "outputs": [
    {
     "data": {
      "text/plain": [
       "(28877, 23)"
      ]
     },
     "execution_count": 31,
     "metadata": {},
     "output_type": "execute_result"
    }
   ],
   "source": [
    "df.shape"
   ]
  },
  {
   "cell_type": "code",
   "execution_count": 32,
   "metadata": {},
   "outputs": [
    {
     "data": {
      "text/plain": [
       "(28877, 22)"
      ]
     },
     "execution_count": 32,
     "metadata": {},
     "output_type": "execute_result"
    }
   ],
   "source": [
    "df.drop(\"first_review\", axis=1, inplace=True)\n",
    "df.shape"
   ]
  },
  {
   "cell_type": "markdown",
   "metadata": {},
   "source": [
    "### host_has_profile_pic"
   ]
  },
  {
   "cell_type": "code",
   "execution_count": 33,
   "metadata": {},
   "outputs": [
    {
     "data": {
      "text/plain": [
       "t    28829\n",
       "f       48\n",
       "Name: host_has_profile_pic, dtype: int64"
      ]
     },
     "execution_count": 33,
     "metadata": {},
     "output_type": "execute_result"
    }
   ],
   "source": [
    "df.host_has_profile_pic.value_counts()\n",
    "#practicamente el 100% de los datos son \"true\", no tiene sentido meter esta columna al modelo."
   ]
  },
  {
   "cell_type": "code",
   "execution_count": 34,
   "metadata": {},
   "outputs": [
    {
     "data": {
      "text/plain": [
       "(28877, 22)"
      ]
     },
     "execution_count": 34,
     "metadata": {},
     "output_type": "execute_result"
    }
   ],
   "source": [
    "df.shape"
   ]
  },
  {
   "cell_type": "code",
   "execution_count": 35,
   "metadata": {},
   "outputs": [
    {
     "data": {
      "text/plain": [
       "(28877, 21)"
      ]
     },
     "execution_count": 35,
     "metadata": {},
     "output_type": "execute_result"
    }
   ],
   "source": [
    "df.drop(\"host_has_profile_pic\", axis=1, inplace=True)\n",
    "df.shape"
   ]
  },
  {
   "cell_type": "markdown",
   "metadata": {},
   "source": [
    "### host_identity_verified"
   ]
  },
  {
   "cell_type": "code",
   "execution_count": 36,
   "metadata": {},
   "outputs": [
    {
     "data": {
      "text/plain": [
       "t    20923\n",
       "f     7954\n",
       "Name: host_identity_verified, dtype: int64"
      ]
     },
     "execution_count": 36,
     "metadata": {},
     "output_type": "execute_result"
    }
   ],
   "source": [
    "df.host_identity_verified.value_counts()\n",
    "#Si vale la pena conservar esta columna, además, ya estan listos los datos para pasarlos a contínuos."
   ]
  },
  {
   "cell_type": "markdown",
   "metadata": {},
   "source": [
    "### host_response_rate"
   ]
  },
  {
   "cell_type": "code",
   "execution_count": 37,
   "metadata": {},
   "outputs": [],
   "source": [
    "#If you respond to all new inquiries and requests within 24 hours, then you have nothing to worry about; \n",
    "#your response rate should be 100%. Of course, if your response rate begins to falter for whatever reason, \n",
    "#your percentage will start to dip.\n",
    "#http://darebnb.com/use-airbnbs-response-rate-to-your-advantage/\n",
    "#https://www.hostyapp.com/airbnb-response-rate/\n",
    "\n",
    "#Es decir, si un host siempre ha respondido a las solicitudes de los clientes dentro de 24 horas, su hot_response_rate sera 100%\n",
    "#De lo contrario, el porcentaje ira disminuyendo."
   ]
  },
  {
   "cell_type": "code",
   "execution_count": 38,
   "metadata": {},
   "outputs": [
    {
     "data": {
      "text/plain": [
       "0     100%\n",
       "1     100%\n",
       "2     100%\n",
       "3     100%\n",
       "4     100%\n",
       "5     100%\n",
       "6     100%\n",
       "7     100%\n",
       "8     100%\n",
       "9      90%\n",
       "10    100%\n",
       "11     86%\n",
       "12    100%\n",
       "13    100%\n",
       "14    100%\n",
       "Name: host_response_rate, dtype: object"
      ]
     },
     "execution_count": 38,
     "metadata": {},
     "output_type": "execute_result"
    }
   ],
   "source": [
    "df.host_response_rate.head(n=15)"
   ]
  },
  {
   "cell_type": "code",
   "execution_count": 39,
   "metadata": {},
   "outputs": [
    {
     "data": {
      "text/plain": [
       "100%    23319\n",
       "90%      1241\n",
       "80%       540\n",
       "70%       252\n",
       "50%       219\n",
       "99%       197\n",
       "97%       180\n",
       "94%       178\n",
       "96%       174\n",
       "98%       170\n",
       "92%       165\n",
       "0%        165\n",
       "67%       158\n",
       "93%       154\n",
       "60%       152\n",
       "89%       151\n",
       "95%       151\n",
       "88%       139\n",
       "83%       137\n",
       "75%       134\n",
       "86%       123\n",
       "91%       123\n",
       "78%        48\n",
       "71%        45\n",
       "87%        44\n",
       "33%        42\n",
       "40%        37\n",
       "82%        37\n",
       "85%        32\n",
       "81%        29\n",
       "        ...  \n",
       "44%         9\n",
       "64%         8\n",
       "43%         7\n",
       "53%         7\n",
       "29%         7\n",
       "76%         7\n",
       "55%         7\n",
       "69%         7\n",
       "10%         7\n",
       "74%         6\n",
       "72%         6\n",
       "38%         4\n",
       "65%         4\n",
       "62%         3\n",
       "17%         3\n",
       "52%         3\n",
       "46%         2\n",
       "47%         2\n",
       "22%         2\n",
       "42%         2\n",
       "36%         2\n",
       "14%         1\n",
       "35%         1\n",
       "61%         1\n",
       "21%         1\n",
       "15%         1\n",
       "11%         1\n",
       "59%         1\n",
       "26%         1\n",
       "31%         1\n",
       "Name: host_response_rate, Length: 73, dtype: int64"
      ]
     },
     "execution_count": 39,
     "metadata": {},
     "output_type": "execute_result"
    }
   ],
   "source": [
    "df.host_response_rate.value_counts()\n",
    "#La mayoría de los huéspedes tienen un 100% de rate, sin embargo, no es un porcentaje tan grande como para dropear esta columna.\n",
    "#Voy a reemplazar esta columna como boleano, que sea, 1: 100% rate, 0: >100% rate. Algo como HOT y NO HOT"
   ]
  },
  {
   "cell_type": "code",
   "execution_count": 40,
   "metadata": {},
   "outputs": [
    {
     "data": {
      "text/plain": [
       "pandas.core.series.Series"
      ]
     },
     "execution_count": 40,
     "metadata": {},
     "output_type": "execute_result"
    }
   ],
   "source": [
    "type(df.host_response_rate)"
   ]
  },
  {
   "cell_type": "code",
   "execution_count": 41,
   "metadata": {},
   "outputs": [
    {
     "data": {
      "text/plain": [
       "HOT        23319\n",
       "NOT HOT     5558\n",
       "Name: host_response, dtype: int64"
      ]
     },
     "execution_count": 41,
     "metadata": {},
     "output_type": "execute_result"
    }
   ],
   "source": [
    "df['host_response']=pd.DataFrame(np.where(df.host_response_rate == '100%','HOT','NOT HOT'))\n",
    "df.host_response.value_counts()"
   ]
  },
  {
   "cell_type": "code",
   "execution_count": 42,
   "metadata": {},
   "outputs": [
    {
     "data": {
      "text/plain": [
       "(28877, 22)"
      ]
     },
     "execution_count": 42,
     "metadata": {},
     "output_type": "execute_result"
    }
   ],
   "source": [
    "df.shape"
   ]
  },
  {
   "cell_type": "code",
   "execution_count": 43,
   "metadata": {},
   "outputs": [
    {
     "data": {
      "text/plain": [
       "(28877, 21)"
      ]
     },
     "execution_count": 43,
     "metadata": {},
     "output_type": "execute_result"
    }
   ],
   "source": [
    "df.drop(\"host_response_rate\", axis=1, inplace=True)\n",
    "df.shape"
   ]
  },
  {
   "cell_type": "markdown",
   "metadata": {},
   "source": [
    "### host_since"
   ]
  },
  {
   "cell_type": "code",
   "execution_count": 44,
   "metadata": {},
   "outputs": [
    {
     "data": {
      "text/plain": [
       "2014-02-14    110\n",
       "2015-03-30     68\n",
       "2014-09-02     41\n",
       "2014-03-17     38\n",
       "2016-01-18     37\n",
       "2014-07-29     37\n",
       "2016-08-23     37\n",
       "2015-03-05     36\n",
       "2015-08-19     36\n",
       "2014-09-10     35\n",
       "2014-04-30     35\n",
       "2015-10-27     34\n",
       "2012-08-27     34\n",
       "2013-08-07     34\n",
       "2015-07-29     31\n",
       "2014-06-24     31\n",
       "2015-06-18     31\n",
       "2014-05-19     30\n",
       "2015-07-06     30\n",
       "2014-07-31     30\n",
       "2014-07-02     30\n",
       "2015-11-23     29\n",
       "2016-02-10     29\n",
       "2016-11-10     28\n",
       "2014-06-02     28\n",
       "2012-11-14     28\n",
       "2014-09-17     28\n",
       "2013-06-12     28\n",
       "2015-08-10     27\n",
       "2016-08-18     27\n",
       "             ... \n",
       "2010-04-22      1\n",
       "2011-03-13      1\n",
       "2008-09-23      1\n",
       "2010-07-23      1\n",
       "2009-11-16      1\n",
       "2010-08-15      1\n",
       "2010-03-22      1\n",
       "2011-07-22      1\n",
       "2009-03-09      1\n",
       "2010-05-29      1\n",
       "2011-03-31      1\n",
       "2010-06-18      1\n",
       "2008-12-08      1\n",
       "2010-11-06      1\n",
       "2010-03-01      1\n",
       "2010-08-11      1\n",
       "2010-07-07      1\n",
       "2010-06-09      1\n",
       "2009-08-25      1\n",
       "2010-07-21      1\n",
       "2008-09-17      1\n",
       "2010-06-24      1\n",
       "2008-07-31      1\n",
       "2010-09-05      1\n",
       "2008-09-25      1\n",
       "2009-07-25      1\n",
       "2009-11-23      1\n",
       "2009-11-20      1\n",
       "2009-09-23      1\n",
       "2010-02-06      1\n",
       "Name: host_since, Length: 2910, dtype: int64"
      ]
     },
     "execution_count": 44,
     "metadata": {},
     "output_type": "execute_result"
    }
   ],
   "source": [
    "df.host_since.value_counts()\n",
    "#Demasiados valores unicos"
   ]
  },
  {
   "cell_type": "code",
   "execution_count": 45,
   "metadata": {},
   "outputs": [
    {
     "data": {
      "text/plain": [
       "(28877, 21)"
      ]
     },
     "execution_count": 45,
     "metadata": {},
     "output_type": "execute_result"
    }
   ],
   "source": [
    "df.shape"
   ]
  },
  {
   "cell_type": "code",
   "execution_count": 46,
   "metadata": {},
   "outputs": [
    {
     "data": {
      "text/plain": [
       "(28877, 20)"
      ]
     },
     "execution_count": 46,
     "metadata": {},
     "output_type": "execute_result"
    }
   ],
   "source": [
    "df.drop(\"host_since\", axis=1, inplace=True)\n",
    "df.shape"
   ]
  },
  {
   "cell_type": "markdown",
   "metadata": {},
   "source": [
    "### instant_bookable"
   ]
  },
  {
   "cell_type": "code",
   "execution_count": 47,
   "metadata": {},
   "outputs": [
    {
     "data": {
      "text/plain": [
       "f    20005\n",
       "t     8872\n",
       "Name: instant_bookable, dtype: int64"
      ]
     },
     "execution_count": 47,
     "metadata": {},
     "output_type": "execute_result"
    }
   ],
   "source": [
    "df.instant_bookable.value_counts()\n",
    "#lista para pasar a nominal"
   ]
  },
  {
   "cell_type": "markdown",
   "metadata": {},
   "source": [
    "### last_review"
   ]
  },
  {
   "cell_type": "code",
   "execution_count": 48,
   "metadata": {},
   "outputs": [
    {
     "data": {
      "text/plain": [
       "2017-09-24    916\n",
       "2017-09-17    862\n",
       "2017-04-30    689\n",
       "2017-09-18    590\n",
       "2017-09-25    585\n",
       "2017-04-23    521\n",
       "2017-10-01    518\n",
       "2017-09-16    485\n",
       "2017-09-28    481\n",
       "2017-09-04    469\n",
       "2017-09-15    454\n",
       "2017-09-29    437\n",
       "2017-09-30    435\n",
       "2017-09-23    422\n",
       "2017-09-26    404\n",
       "2017-09-22    401\n",
       "2017-09-10    393\n",
       "2017-09-27    377\n",
       "2017-05-07    371\n",
       "2017-05-01    361\n",
       "2017-04-16    361\n",
       "2017-09-14    353\n",
       "2017-09-21    346\n",
       "2017-09-20    323\n",
       "2017-04-24    320\n",
       "2017-09-19    317\n",
       "2017-04-29    285\n",
       "2017-09-13    270\n",
       "2017-09-11    265\n",
       "2017-09-12    240\n",
       "             ... \n",
       "2015-05-27      1\n",
       "2016-03-21      1\n",
       "2014-09-22      1\n",
       "2014-12-22      1\n",
       "2014-09-28      1\n",
       "2012-02-14      1\n",
       "2013-12-16      1\n",
       "2014-08-23      1\n",
       "2013-04-21      1\n",
       "2011-03-28      1\n",
       "2014-01-25      1\n",
       "2014-09-09      1\n",
       "2015-06-27      1\n",
       "2015-09-15      1\n",
       "2015-04-10      1\n",
       "2014-06-15      1\n",
       "2014-09-30      1\n",
       "2015-03-22      1\n",
       "2016-02-08      1\n",
       "2015-11-21      1\n",
       "2015-08-02      1\n",
       "2016-03-19      1\n",
       "2013-01-26      1\n",
       "2015-12-06      1\n",
       "2015-01-31      1\n",
       "2012-10-20      1\n",
       "2013-09-30      1\n",
       "2013-10-16      1\n",
       "2015-08-09      1\n",
       "2013-09-17      1\n",
       "Name: last_review, Length: 916, dtype: int64"
      ]
     },
     "execution_count": 48,
     "metadata": {},
     "output_type": "execute_result"
    }
   ],
   "source": [
    "df.last_review.value_counts()\n",
    "#Si existiera una variable que te diga la fecha en la que fueron recolectados los datos, prodrías sacar cuántos días\n",
    "# han pasado entre el last_review y la fecha actual. Así, se puede hacer una clasificación por rangos y posiblemente sacarle\n",
    "# provecho a esta variable.\n",
    "#Por lo pronto: DROP"
   ]
  },
  {
   "cell_type": "code",
   "execution_count": 49,
   "metadata": {},
   "outputs": [
    {
     "data": {
      "text/plain": [
       "(28877, 20)"
      ]
     },
     "execution_count": 49,
     "metadata": {},
     "output_type": "execute_result"
    }
   ],
   "source": [
    "df.shape"
   ]
  },
  {
   "cell_type": "code",
   "execution_count": 50,
   "metadata": {},
   "outputs": [
    {
     "data": {
      "text/plain": [
       "(28877, 19)"
      ]
     },
     "execution_count": 50,
     "metadata": {},
     "output_type": "execute_result"
    }
   ],
   "source": [
    "df.drop(\"last_review\", axis=1, inplace=True)\n",
    "df.shape"
   ]
  },
  {
   "cell_type": "markdown",
   "metadata": {},
   "source": [
    "### thumbnail_url"
   ]
  },
  {
   "cell_type": "code",
   "execution_count": 51,
   "metadata": {},
   "outputs": [
    {
     "data": {
      "text/plain": [
       "https://a0.muscache.com/im/pictures/104667326/a7a2b145_original.jpg?aki_policy=small             2\n",
       "https://a0.muscache.com/im/pictures/61042471/5543b0e0_original.jpg?aki_policy=small              2\n",
       "https://a0.muscache.com/im/pictures/23033013/54d62516_original.jpg?aki_policy=small              2\n",
       "https://a0.muscache.com/im/pictures/70087089/bc66229a_original.jpg?aki_policy=small              2\n",
       "https://a0.muscache.com/im/pictures/88737244-f1f6-424a-a399-a67317facedd.jpg?aki_policy=small    1\n",
       "https://a0.muscache.com/im/pictures/c3c3bc22-607c-4e8c-a1c5-25dcc09ebc38.jpg?aki_policy=small    1\n",
       "https://a0.muscache.com/im/pictures/c19e6819-198e-4e41-8eb6-ea6092c30237.jpg?aki_policy=small    1\n",
       "https://a0.muscache.com/im/pictures/93143386/0f612a2d_original.jpg?aki_policy=small              1\n",
       "https://a0.muscache.com/im/pictures/1ed4ddc7-2461-407a-8bfc-4350b1eb23ca.jpg?aki_policy=small    1\n",
       "https://a0.muscache.com/im/pictures/bacfbebc-2d29-4e3c-ac3d-94cadc8d1390.jpg?aki_policy=small    1\n",
       "https://a0.muscache.com/im/pictures/84d17d15-d4cb-4b85-988a-2a4bd695a6e7.jpg?aki_policy=small    1\n",
       "https://a0.muscache.com/im/pictures/b8951306-cdd6-43be-b2fd-95f25335bcac.jpg?aki_policy=small    1\n",
       "https://a0.muscache.com/im/pictures/bc3f8373-5173-4b9b-a2dc-1ffe7e7d14fa.jpg?aki_policy=small    1\n",
       "https://a0.muscache.com/im/pictures/cd63e549-3025-4086-b16e-bb89f387a126.jpg?aki_policy=small    1\n",
       "https://a0.muscache.com/im/pictures/62085366/0edc6d8b_original.jpg?aki_policy=small              1\n",
       "https://a0.muscache.com/im/pictures/fa0c08f4-64f5-4f34-a9ff-90bf56045bc1.jpg?aki_policy=small    1\n",
       "https://a0.muscache.com/im/pictures/43083ef5-7db5-412a-9379-d958c37fdcc9.jpg?aki_policy=small    1\n",
       "https://a0.muscache.com/im/pictures/4d1a6a2b-83af-4660-b641-4261813a3ac1.jpg?aki_policy=small    1\n",
       "https://a0.muscache.com/im/pictures/3b190050-c1b7-4475-b9e7-4608670e69ea.jpg?aki_policy=small    1\n",
       "https://a0.muscache.com/im/pictures/101826150/b343d246_original.jpg?aki_policy=small             1\n",
       "https://a0.muscache.com/im/pictures/9a5fb57b-79ea-4f4f-b20b-938df21f1ad5.jpg?aki_policy=small    1\n",
       "https://a0.muscache.com/im/pictures/39940243/7dd8dc41_original.jpg?aki_policy=small              1\n",
       "https://a0.muscache.com/im/pictures/6397842/54d25860_original.jpg?aki_policy=small               1\n",
       "https://a0.muscache.com/im/pictures/46602403/a7e239f3_original.jpg?aki_policy=small              1\n",
       "https://a0.muscache.com/im/pictures/bc7b520b-b266-4bac-8c1c-d6093868c852.jpg?aki_policy=small    1\n",
       "https://a0.muscache.com/im/pictures/106522029/5b3cad1a_original.jpg?aki_policy=small             1\n",
       "https://a0.muscache.com/im/pictures/644c5e39-991b-4913-b308-97d2927f4df9.jpg?aki_policy=small    1\n",
       "https://a0.muscache.com/im/pictures/c249d89c-e80f-43b1-bfa6-045b1b56ac06.jpg?aki_policy=small    1\n",
       "https://a0.muscache.com/im/pictures/1e8dad92-08f2-4a0a-b99b-4ea1137373a6.jpg?aki_policy=small    1\n",
       "https://a0.muscache.com/im/pictures/995c4b42-bdb5-4285-aa6c-b1f037b85050.jpg?aki_policy=small    1\n",
       "                                                                                                ..\n",
       "https://a0.muscache.com/im/pictures/110061655/e64ea830_original.jpg?aki_policy=small             1\n",
       "https://a0.muscache.com/im/pictures/cdac6c63-e6ea-4ac7-aa86-eea39aeba6b1.jpg?aki_policy=small    1\n",
       "https://a0.muscache.com/im/pictures/674307ee-9255-4304-a9c0-55345a4f77ef.jpg?aki_policy=small    1\n",
       "https://a0.muscache.com/im/pictures/6da3f532-cf01-4ab5-8751-1b9c65b6b7ce.jpg?aki_policy=small    1\n",
       "https://a0.muscache.com/im/pictures/44c5b5c5-e9ed-419d-8ddf-4b48b4366f12.jpg?aki_policy=small    1\n",
       "https://a0.muscache.com/im/pictures/45e493e8-d546-4857-9949-333640871fb7.jpg?aki_policy=small    1\n",
       "https://a0.muscache.com/im/pictures/70fe68e7-3544-4146-abdb-704dff1a7645.jpg?aki_policy=small    1\n",
       "https://a0.muscache.com/im/pictures/51884080/fa586c03_original.jpg?aki_policy=small              1\n",
       "https://a0.muscache.com/im/pictures/53f3e615-d05d-4e9f-83f5-14051c859190.jpg?aki_policy=small    1\n",
       "https://a0.muscache.com/im/pictures/83bffb49-4345-4a30-86fe-2fcfa1323d39.jpg?aki_policy=small    1\n",
       "https://a0.muscache.com/im/pictures/9193b4e6-4b07-473f-af98-2169bf29d4d1.jpg?aki_policy=small    1\n",
       "https://a0.muscache.com/im/pictures/325db7a5-04f7-49c8-b70f-00ec6a7a0fd4.jpg?aki_policy=small    1\n",
       "https://a0.muscache.com/im/pictures/93004551/13135fa2_original.jpg?aki_policy=small              1\n",
       "https://a0.muscache.com/im/pictures/108966461/a215d891_original.jpg?aki_policy=small             1\n",
       "https://a0.muscache.com/im/pictures/6ae23693-5094-4557-8920-695ce06ff9e8.jpg?aki_policy=small    1\n",
       "https://a0.muscache.com/im/pictures/9af1350d-51c9-4cf8-97bf-946b7cbed077.jpg?aki_policy=small    1\n",
       "https://a0.muscache.com/im/pictures/44cc488b-0daa-4b7f-8e41-cc368ce67ba9.jpg?aki_policy=small    1\n",
       "https://a0.muscache.com/im/pictures/087f38f1-0213-471e-94ef-6fb93115274e.jpg?aki_policy=small    1\n",
       "https://a0.muscache.com/im/pictures/71d8a752-3f5c-4a45-9587-59dbdc895eab.jpg?aki_policy=small    1\n",
       "https://a0.muscache.com/im/pictures/7f2d593a-08de-4253-a1aa-92074ec9dbc8.jpg?aki_policy=small    1\n",
       "https://a0.muscache.com/im/pictures/65812211/014ad361_original.jpg?aki_policy=small              1\n",
       "https://a0.muscache.com/im/pictures/ec4d49d9-8a82-4af9-b67e-2370622718d0.jpg?aki_policy=small    1\n",
       "https://a0.muscache.com/im/pictures/c82f127b-96a0-453d-be40-ad498bca26c4.jpg?aki_policy=small    1\n",
       "https://a0.muscache.com/im/pictures/3541fe41-4de5-40a2-b9b7-1c3aae405f7b.jpg?aki_policy=small    1\n",
       "https://a0.muscache.com/im/pictures/ea260ea0-2ce6-44e1-ba78-103e2a48a7c3.jpg?aki_policy=small    1\n",
       "https://a0.muscache.com/im/pictures/7a0297c1-6f5e-4c98-9f80-8fd8c745a578.jpg?aki_policy=small    1\n",
       "https://a0.muscache.com/im/pictures/61d0dc3c-524a-4da6-aca8-dfbae1e90cb9.jpg?aki_policy=small    1\n",
       "https://a0.muscache.com/im/pictures/6a7de279-57aa-4293-8b4e-343abe511c10.jpg?aki_policy=small    1\n",
       "https://a0.muscache.com/im/pictures/bb6f91f1-7f5f-4246-9d4f-488cb7a10bc2.jpg?aki_policy=small    1\n",
       "https://a0.muscache.com/im/pictures/022e1b7c-c854-4e69-b03f-991391eef6bb.jpg?aki_policy=small    1\n",
       "Name: thumbnail_url, Length: 28873, dtype: int64"
      ]
     },
     "execution_count": 51,
     "metadata": {},
     "output_type": "execute_result"
    }
   ],
   "source": [
    "df.thumbnail_url.value_counts()"
   ]
  },
  {
   "cell_type": "code",
   "execution_count": 52,
   "metadata": {},
   "outputs": [
    {
     "data": {
      "text/plain": [
       "(28877, 19)"
      ]
     },
     "execution_count": 52,
     "metadata": {},
     "output_type": "execute_result"
    }
   ],
   "source": [
    "df.shape"
   ]
  },
  {
   "cell_type": "code",
   "execution_count": 53,
   "metadata": {},
   "outputs": [
    {
     "data": {
      "text/plain": [
       "(28877, 18)"
      ]
     },
     "execution_count": 53,
     "metadata": {},
     "output_type": "execute_result"
    }
   ],
   "source": [
    "df.drop(\"thumbnail_url\", axis=1, inplace=True)\n",
    "df.shape"
   ]
  },
  {
   "cell_type": "markdown",
   "metadata": {},
   "source": [
    "## 3. Extraer los valores de \"amenities\""
   ]
  },
  {
   "cell_type": "code",
   "execution_count": 54,
   "metadata": {},
   "outputs": [
    {
     "data": {
      "text/plain": [
       "0    {\"Wireless Internet\",\"Air conditioning\",Kitche...\n",
       "1    {TV,\"Wireless Internet\",Heating,\"Smoke detecto...\n",
       "2    {TV,\"Cable TV\",\"Wireless Internet\",\"Wheelchair...\n",
       "3    {TV,\"Cable TV\",\"Wireless Internet\",\"Pets live ...\n",
       "4    {Internet,\"Wireless Internet\",\"Air conditionin...\n",
       "Name: amenities, dtype: object"
      ]
     },
     "execution_count": 54,
     "metadata": {},
     "output_type": "execute_result"
    }
   ],
   "source": [
    "df.amenities.head()"
   ]
  },
  {
   "cell_type": "code",
   "execution_count": 55,
   "metadata": {},
   "outputs": [],
   "source": [
    "#Crear una lista de los elementos:\n",
    "#df.amenities[6].replace(\"{\",\"\").replace(\"}\",\"\").replace('\"','').split(sep=',')\n",
    "\n",
    "#for e in range(len(df)):\n",
    "    #df.amenities[e]=df.amenities[e].replace(\"{\",\"\").replace(\"}\",\"\").replace('\"','').split(sep=',')\n",
    "#este ciclo no terminó de correr, no se realmente por qué. Pero recuerdo que Yona muchas veces nos ha dicho que evitemos los ciclos.\n",
    "\n",
    "df.amenities= df.amenities.apply(lambda x: x.replace(\"{\",\"\").replace(\"}\",\"\").replace('\"','').split(sep=','))\n",
    "#es por lo anterior que aplique un lambda"
   ]
  },
  {
   "cell_type": "code",
   "execution_count": 56,
   "metadata": {},
   "outputs": [],
   "source": [
    "#Voy a crear un radio de amenities: obtendré el max(len) de amenities que existe y voy a utilizarlo para obtener un radio de \n",
    "# los demás valores. El registro que tenga este radio = 1 es el que tiene el 100% de amenidades.\n",
    "temp=[len(e) for e in df.amenities]\n",
    "amenities_ratio=[e/max(temp) for e in temp]"
   ]
  },
  {
   "cell_type": "code",
   "execution_count": 57,
   "metadata": {},
   "outputs": [],
   "source": [
    "df['amenities_ratio']=pd.DataFrame(amenities_ratio)"
   ]
  },
  {
   "cell_type": "code",
   "execution_count": 58,
   "metadata": {},
   "outputs": [
    {
     "data": {
      "text/plain": [
       "(28877, 19)"
      ]
     },
     "execution_count": 58,
     "metadata": {},
     "output_type": "execute_result"
    }
   ],
   "source": [
    "df.shape"
   ]
  },
  {
   "cell_type": "code",
   "execution_count": 59,
   "metadata": {},
   "outputs": [
    {
     "data": {
      "text/plain": [
       "(28877, 18)"
      ]
     },
     "execution_count": 59,
     "metadata": {},
     "output_type": "execute_result"
    }
   ],
   "source": [
    "df.drop(\"amenities\", axis=1, inplace=True)\n",
    "df.shape"
   ]
  },
  {
   "cell_type": "markdown",
   "metadata": {},
   "source": [
    "## 4. neighbourhood"
   ]
  },
  {
   "cell_type": "code",
   "execution_count": 60,
   "metadata": {},
   "outputs": [
    {
     "data": {
      "text/plain": [
       "Williamsburg                        1139\n",
       "Bedford-Stuyvesant                  1017\n",
       "Mid-Wilshire                         660\n",
       "Bushwick                             649\n",
       "Hell's Kitchen                       604\n",
       "Harlem                               592\n",
       "Hollywood                            568\n",
       "Upper West Side                      510\n",
       "Upper East Side                      501\n",
       "Venice                               495\n",
       "Crown Heights                        461\n",
       "Astoria                              368\n",
       "East Harlem                          363\n",
       "Mission District                     346\n",
       "Lower East Side                      337\n",
       "East Village                         314\n",
       "Chelsea                              289\n",
       "Long Beach                           278\n",
       "West Hollywood                       275\n",
       "Washington Heights                   269\n",
       "Hamilton Heights                     267\n",
       "Santa Monica                         261\n",
       "Greenpoint                           260\n",
       "Alphabet City                        251\n",
       "Clinton Hill                         246\n",
       "Park Slope                           244\n",
       "Flatbush                             236\n",
       "West Village                         231\n",
       "Downtown                             230\n",
       "Silver Lake                          210\n",
       "                                    ... \n",
       "The Castro                           132\n",
       "North Hollywood                      132\n",
       "Sunnyside                            131\n",
       "Financial District                   127\n",
       "Logan Square                         125\n",
       "Midtown                              124\n",
       "Outer Sunset                         119\n",
       "Lefferts Garden                      117\n",
       "Westwood                             116\n",
       "Greenwich Village                    116\n",
       "Kips Bay                             114\n",
       "Roxbury                              113\n",
       "Del Rey                              112\n",
       "Beacon Hill                          112\n",
       "West Los Angeles                     109\n",
       "Ridgewood                            107\n",
       "Prospect Heights                     106\n",
       "Columbia Heights                     105\n",
       "Mid-City                             104\n",
       "Near Northeast/H Street Corridor     102\n",
       "Westchester/Playa Del Rey            102\n",
       "Fort Greene                          101\n",
       "South LA                             101\n",
       "Flushing                             101\n",
       "Glendale                             101\n",
       "East New York                         97\n",
       "Lakeview                              96\n",
       "Fenway/Kenmore                        95\n",
       "Burbank                               94\n",
       "Marina Del Rey                        94\n",
       "Name: neighbourhood, Length: 80, dtype: int64"
      ]
     },
     "execution_count": 60,
     "metadata": {},
     "output_type": "execute_result"
    }
   ],
   "source": [
    "df.neighbourhood.value_counts().head(n=80)"
   ]
  },
  {
   "cell_type": "code",
   "execution_count": 61,
   "metadata": {},
   "outputs": [
    {
     "name": "stdout",
     "output_type": "stream",
     "text": [
      "13379 7571 2713 1815 1776 1623\n"
     ]
    }
   ],
   "source": [
    "print(len(df.neighbourhood[df.city == 'NYC']),\n",
    "        len(df.neighbourhood[df.city == 'LA']),\n",
    "        len(df.neighbourhood[df.city == 'SF']),\n",
    "        len(df.neighbourhood[df.city == 'DC']),\n",
    "        len(df.neighbourhood[df.city == 'Boston']),\n",
    "        len(df.neighbourhood[df.city == 'Chicago'])\n",
    "     )"
   ]
  },
  {
   "cell_type": "code",
   "execution_count": 62,
   "metadata": {},
   "outputs": [
    {
     "data": {
      "text/plain": [
       "Williamsburg          1139\n",
       "Bedford-Stuyvesant    1017\n",
       "Bushwick               649\n",
       "Hell's Kitchen         604\n",
       "Harlem                 592\n",
       "Upper West Side        510\n",
       "Upper East Side        501\n",
       "Crown Heights          461\n",
       "Astoria                368\n",
       "East Harlem            363\n",
       "Lower East Side        337\n",
       "East Village           314\n",
       "Chelsea                289\n",
       "Washington Heights     268\n",
       "Hamilton Heights       267\n",
       "Name: neighbourhood, dtype: int64"
      ]
     },
     "execution_count": 62,
     "metadata": {},
     "output_type": "execute_result"
    }
   ],
   "source": [
    "df.neighbourhood[df.city == 'NYC'].value_counts().head(n=15)"
   ]
  },
  {
   "cell_type": "code",
   "execution_count": 63,
   "metadata": {},
   "outputs": [
    {
     "data": {
      "text/plain": [
       "Mid-Wilshire                 660\n",
       "Hollywood                    568\n",
       "Venice                       495\n",
       "Long Beach                   278\n",
       "West Hollywood               275\n",
       "Santa Monica                 261\n",
       "Silver Lake                  210\n",
       "Echo Park                    186\n",
       "Pasadena                     170\n",
       "Downtown                     167\n",
       "Hollywood Hills              163\n",
       "Mar Vista                    149\n",
       "Westlake                     137\n",
       "North Hollywood              132\n",
       "Westwood                     116\n",
       "Del Rey                      112\n",
       "West Los Angeles             109\n",
       "Mid-City                     104\n",
       "Westchester/Playa Del Rey    102\n",
       "South LA                     101\n",
       "Marina Del Rey                94\n",
       "Burbank                       94\n",
       "Glendale                      94\n",
       "Sherman Oaks                  93\n",
       "Culver City                   85\n",
       "Redondo Beach                 82\n",
       "Malibu                        81\n",
       "Los Feliz                     80\n",
       "Highland Park                 80\n",
       "East Hollywood                79\n",
       "                            ... \n",
       "Palos Verdes                   4\n",
       "Bradbury                       3\n",
       "Pacoima                        3\n",
       "North Hills East               3\n",
       "Sierra Madre                   3\n",
       "Montebello                     3\n",
       "Porter Ranch                   3\n",
       "Chatsworth                     3\n",
       "South Whittier                 3\n",
       "Huntington Park                2\n",
       "Westmont                       2\n",
       "West Athens                    2\n",
       "West Puente Valley             2\n",
       "Norwalk                        2\n",
       "Lynwood                        2\n",
       "Willowbrook                    2\n",
       "San Marino                     2\n",
       "Monterey Hills                 2\n",
       "Commerce                       1\n",
       "Rolling Hills Estates          1\n",
       "Baldwin Park                   1\n",
       "South El Monte                 1\n",
       "Santa Fe Springs               1\n",
       "Paramount                      1\n",
       "Irwindale                      1\n",
       "Bell                           1\n",
       "La Puente                      1\n",
       "Rolling Hills                  1\n",
       "Hawaiian Gardens               1\n",
       "East San Gabriel               1\n",
       "Name: neighbourhood, Length: 147, dtype: int64"
      ]
     },
     "execution_count": 63,
     "metadata": {},
     "output_type": "execute_result"
    }
   ],
   "source": [
    "df.neighbourhood[df.city == 'LA'].value_counts()"
   ]
  },
  {
   "cell_type": "code",
   "execution_count": 64,
   "metadata": {},
   "outputs": [
    {
     "data": {
      "text/plain": [
       "Mission District         346\n",
       "Richmond District        167\n",
       "Bernal Heights           156\n",
       "Western Addition/NOPA    149\n",
       "Noe Valley               148\n",
       "SoMa                     144\n",
       "The Castro               132\n",
       "Outer Sunset             119\n",
       "Potrero Hill              82\n",
       "Nob Hill                  76\n",
       "Pacific Heights           73\n",
       "Haight-Ashbury            64\n",
       "Downtown                  55\n",
       "Duboce Triangle           54\n",
       "Marina                    53\n",
       "Bayview                   52\n",
       "Inner Sunset              51\n",
       "Alamo Square              47\n",
       "Excelsior                 44\n",
       "Lower Haight              43\n",
       "Russian Hill              41\n",
       "Parkside                  39\n",
       "Sunnyside                 37\n",
       "Cole Valley               34\n",
       "South Beach               34\n",
       "Glen Park                 34\n",
       "Mission Terrace           33\n",
       "Twin Peaks                31\n",
       "Hayes Valley              28\n",
       "North Beach               27\n",
       "Telegraph Hill            26\n",
       "Crocker Amazon            26\n",
       "Tenderloin                25\n",
       "Cow Hollow                24\n",
       "Visitacion Valley         23\n",
       "Chinatown                 22\n",
       "Ingleside                 18\n",
       "Balboa Terrace            17\n",
       "Oceanview                 16\n",
       "Lakeshore                 15\n",
       "Union Square              14\n",
       "Fisherman's Wharf         14\n",
       "Diamond Heights           11\n",
       "Forest Hill               10\n",
       "Portola                   10\n",
       "Presidio Heights           9\n",
       "Civic Center               9\n",
       "Financial District         8\n",
       "Dogpatch                   8\n",
       "Mission Bay                7\n",
       "West Portal                6\n",
       "Japantown                  1\n",
       "Sea Cliff                  1\n",
       "Name: neighbourhood, dtype: int64"
      ]
     },
     "execution_count": 64,
     "metadata": {},
     "output_type": "execute_result"
    }
   ],
   "source": [
    "df.neighbourhood[df.city == 'SF'].value_counts()"
   ]
  },
  {
   "cell_type": "code",
   "execution_count": 65,
   "metadata": {},
   "outputs": [
    {
     "data": {
      "text/plain": [
       "(28877, 18)"
      ]
     },
     "execution_count": 65,
     "metadata": {},
     "output_type": "execute_result"
    }
   ],
   "source": [
    "#Voy a optar por borrar la variable neighborhood, ya que hay demasiados valores unicos para cada ciudad.\n",
    "#Además, ya se tiene una columna con el código postal, que puede ayudar a sustituir esta info.\n",
    "df.shape"
   ]
  },
  {
   "cell_type": "code",
   "execution_count": 66,
   "metadata": {},
   "outputs": [
    {
     "data": {
      "text/plain": [
       "(28877, 17)"
      ]
     },
     "execution_count": 66,
     "metadata": {},
     "output_type": "execute_result"
    }
   ],
   "source": [
    "df.drop(\"neighbourhood\", axis=1, inplace=True)\n",
    "df.shape"
   ]
  },
  {
   "cell_type": "markdown",
   "metadata": {},
   "source": [
    "## 5. Na's"
   ]
  },
  {
   "cell_type": "markdown",
   "metadata": {},
   "source": [
    "df.isnull().sum()"
   ]
  },
  {
   "cell_type": "code",
   "execution_count": 68,
   "metadata": {},
   "outputs": [
    {
     "data": {
      "text/html": [
       "<div>\n",
       "<style scoped>\n",
       "    .dataframe tbody tr th:only-of-type {\n",
       "        vertical-align: middle;\n",
       "    }\n",
       "\n",
       "    .dataframe tbody tr th {\n",
       "        vertical-align: top;\n",
       "    }\n",
       "\n",
       "    .dataframe thead th {\n",
       "        text-align: right;\n",
       "    }\n",
       "</style>\n",
       "<table border=\"1\" class=\"dataframe\">\n",
       "  <thead>\n",
       "    <tr style=\"text-align: right;\">\n",
       "      <th></th>\n",
       "      <th>property_type</th>\n",
       "      <th>room_type</th>\n",
       "      <th>accommodates</th>\n",
       "      <th>bathrooms</th>\n",
       "      <th>cancellation_policy</th>\n",
       "      <th>cleaning_fee</th>\n",
       "      <th>city</th>\n",
       "      <th>host_identity_verified</th>\n",
       "      <th>instant_bookable</th>\n",
       "      <th>number_of_reviews</th>\n",
       "      <th>review_scores_rating</th>\n",
       "      <th>zipcode</th>\n",
       "      <th>bedrooms</th>\n",
       "      <th>beds</th>\n",
       "      <th>price</th>\n",
       "      <th>host_response</th>\n",
       "      <th>amenities_ratio</th>\n",
       "    </tr>\n",
       "  </thead>\n",
       "  <tbody>\n",
       "    <tr>\n",
       "      <th>0</th>\n",
       "      <td>Apartment</td>\n",
       "      <td>Entire home/apt</td>\n",
       "      <td>7</td>\n",
       "      <td>1.0</td>\n",
       "      <td>strict</td>\n",
       "      <td>True</td>\n",
       "      <td>NYC</td>\n",
       "      <td>f</td>\n",
       "      <td>t</td>\n",
       "      <td>6</td>\n",
       "      <td>93.0</td>\n",
       "      <td>10019</td>\n",
       "      <td>3.0</td>\n",
       "      <td>3.0</td>\n",
       "      <td>169.0</td>\n",
       "      <td>HOT</td>\n",
       "      <td>0.194805</td>\n",
       "    </tr>\n",
       "    <tr>\n",
       "      <th>1</th>\n",
       "      <td>Apartment</td>\n",
       "      <td>Private room</td>\n",
       "      <td>2</td>\n",
       "      <td>1.0</td>\n",
       "      <td>strict</td>\n",
       "      <td>True</td>\n",
       "      <td>SF</td>\n",
       "      <td>t</td>\n",
       "      <td>t</td>\n",
       "      <td>3</td>\n",
       "      <td>100.0</td>\n",
       "      <td>94131</td>\n",
       "      <td>1.0</td>\n",
       "      <td>1.0</td>\n",
       "      <td>85.0</td>\n",
       "      <td>HOT</td>\n",
       "      <td>0.129870</td>\n",
       "    </tr>\n",
       "    <tr>\n",
       "      <th>2</th>\n",
       "      <td>Condominium</td>\n",
       "      <td>Entire home/apt</td>\n",
       "      <td>2</td>\n",
       "      <td>1.0</td>\n",
       "      <td>moderate</td>\n",
       "      <td>True</td>\n",
       "      <td>LA</td>\n",
       "      <td>t</td>\n",
       "      <td>f</td>\n",
       "      <td>9</td>\n",
       "      <td>93.0</td>\n",
       "      <td>90015</td>\n",
       "      <td>1.0</td>\n",
       "      <td>1.0</td>\n",
       "      <td>120.0</td>\n",
       "      <td>HOT</td>\n",
       "      <td>0.337662</td>\n",
       "    </tr>\n",
       "    <tr>\n",
       "      <th>3</th>\n",
       "      <td>House</td>\n",
       "      <td>Private room</td>\n",
       "      <td>2</td>\n",
       "      <td>1.0</td>\n",
       "      <td>moderate</td>\n",
       "      <td>True</td>\n",
       "      <td>SF</td>\n",
       "      <td>f</td>\n",
       "      <td>f</td>\n",
       "      <td>159</td>\n",
       "      <td>99.0</td>\n",
       "      <td>94121</td>\n",
       "      <td>1.0</td>\n",
       "      <td>1.0</td>\n",
       "      <td>120.0</td>\n",
       "      <td>HOT</td>\n",
       "      <td>0.272727</td>\n",
       "    </tr>\n",
       "    <tr>\n",
       "      <th>4</th>\n",
       "      <td>Apartment</td>\n",
       "      <td>Private room</td>\n",
       "      <td>2</td>\n",
       "      <td>1.0</td>\n",
       "      <td>strict</td>\n",
       "      <td>True</td>\n",
       "      <td>NYC</td>\n",
       "      <td>t</td>\n",
       "      <td>f</td>\n",
       "      <td>82</td>\n",
       "      <td>93.0</td>\n",
       "      <td>10009.0</td>\n",
       "      <td>1.0</td>\n",
       "      <td>1.0</td>\n",
       "      <td>100.0</td>\n",
       "      <td>HOT</td>\n",
       "      <td>0.194805</td>\n",
       "    </tr>\n",
       "  </tbody>\n",
       "</table>\n",
       "</div>"
      ],
      "text/plain": [
       "  property_type        room_type  accommodates  bathrooms cancellation_policy  \\\n",
       "0     Apartment  Entire home/apt             7        1.0              strict   \n",
       "1     Apartment     Private room             2        1.0              strict   \n",
       "2   Condominium  Entire home/apt             2        1.0            moderate   \n",
       "3         House     Private room             2        1.0            moderate   \n",
       "4     Apartment     Private room             2        1.0              strict   \n",
       "\n",
       "   cleaning_fee city host_identity_verified instant_bookable  \\\n",
       "0          True  NYC                      f                t   \n",
       "1          True   SF                      t                t   \n",
       "2          True   LA                      t                f   \n",
       "3          True   SF                      f                f   \n",
       "4          True  NYC                      t                f   \n",
       "\n",
       "   number_of_reviews  review_scores_rating  zipcode  bedrooms  beds  price  \\\n",
       "0                  6                  93.0    10019       3.0   3.0  169.0   \n",
       "1                  3                 100.0    94131       1.0   1.0   85.0   \n",
       "2                  9                  93.0    90015       1.0   1.0  120.0   \n",
       "3                159                  99.0    94121       1.0   1.0  120.0   \n",
       "4                 82                  93.0  10009.0       1.0   1.0  100.0   \n",
       "\n",
       "  host_response  amenities_ratio  \n",
       "0           HOT         0.194805  \n",
       "1           HOT         0.129870  \n",
       "2           HOT         0.337662  \n",
       "3           HOT         0.272727  \n",
       "4           HOT         0.194805  "
      ]
     },
     "execution_count": 68,
     "metadata": {},
     "output_type": "execute_result"
    }
   ],
   "source": [
    "df.head()"
   ]
  },
  {
   "cell_type": "markdown",
   "metadata": {},
   "source": [
    "## 6. Outliers y normalización de variables contínuas."
   ]
  },
  {
   "cell_type": "code",
   "execution_count": null,
   "metadata": {},
   "outputs": [],
   "source": []
  }
 ],
 "metadata": {
  "kernelspec": {
   "display_name": "Python 3",
   "language": "python",
   "name": "python3"
  },
  "language_info": {
   "codemirror_mode": {
    "name": "ipython",
    "version": 3
   },
   "file_extension": ".py",
   "mimetype": "text/x-python",
   "name": "python",
   "nbconvert_exporter": "python",
   "pygments_lexer": "ipython3",
   "version": "3.7.3"
  }
 },
 "nbformat": 4,
 "nbformat_minor": 2
}
