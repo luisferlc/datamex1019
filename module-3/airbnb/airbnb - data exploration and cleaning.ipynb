{
 "cells": [
  {
   "cell_type": "markdown",
   "metadata": {},
   "source": [
    "# Airbnb: predicción de precios de hosts"
   ]
  },
  {
   "cell_type": "code",
   "execution_count": 1,
   "metadata": {},
   "outputs": [],
   "source": [
    "import warnings\n",
    "warnings.simplefilter('ignore')\n",
    "import pandas as pd\n",
    "import numpy as np\n",
    "import seaborn as sns\n",
    "import matplotlib.pyplot as plt"
   ]
  },
  {
   "cell_type": "code",
   "execution_count": 2,
   "metadata": {},
   "outputs": [],
   "source": [
    "df= pd.read_csv(\"airbnb_data.csv\")"
   ]
  },
  {
   "cell_type": "code",
   "execution_count": 3,
   "metadata": {},
   "outputs": [
    {
     "data": {
      "text/html": [
       "<div>\n",
       "<style scoped>\n",
       "    .dataframe tbody tr th:only-of-type {\n",
       "        vertical-align: middle;\n",
       "    }\n",
       "\n",
       "    .dataframe tbody tr th {\n",
       "        vertical-align: top;\n",
       "    }\n",
       "\n",
       "    .dataframe thead th {\n",
       "        text-align: right;\n",
       "    }\n",
       "</style>\n",
       "<table border=\"1\" class=\"dataframe\">\n",
       "  <thead>\n",
       "    <tr style=\"text-align: right;\">\n",
       "      <th></th>\n",
       "      <th>property_type</th>\n",
       "      <th>room_type</th>\n",
       "      <th>amenities</th>\n",
       "      <th>accommodates</th>\n",
       "      <th>bathrooms</th>\n",
       "      <th>bed_type</th>\n",
       "      <th>cancellation_policy</th>\n",
       "      <th>cleaning_fee</th>\n",
       "      <th>city</th>\n",
       "      <th>description</th>\n",
       "      <th>...</th>\n",
       "      <th>longitude</th>\n",
       "      <th>name</th>\n",
       "      <th>neighbourhood</th>\n",
       "      <th>number_of_reviews</th>\n",
       "      <th>review_scores_rating</th>\n",
       "      <th>thumbnail_url</th>\n",
       "      <th>zipcode</th>\n",
       "      <th>bedrooms</th>\n",
       "      <th>beds</th>\n",
       "      <th>price</th>\n",
       "    </tr>\n",
       "  </thead>\n",
       "  <tbody>\n",
       "    <tr>\n",
       "      <th>0</th>\n",
       "      <td>Apartment</td>\n",
       "      <td>Entire home/apt</td>\n",
       "      <td>{\"Wireless Internet\",\"Air conditioning\",Kitche...</td>\n",
       "      <td>7</td>\n",
       "      <td>1.0</td>\n",
       "      <td>Real Bed</td>\n",
       "      <td>strict</td>\n",
       "      <td>True</td>\n",
       "      <td>NYC</td>\n",
       "      <td>Enjoy travelling during your stay in Manhattan...</td>\n",
       "      <td>...</td>\n",
       "      <td>-73.989040</td>\n",
       "      <td>Superb 3BR Apt Located Near Times Square</td>\n",
       "      <td>Hell's Kitchen</td>\n",
       "      <td>6</td>\n",
       "      <td>93.0</td>\n",
       "      <td>https://a0.muscache.com/im/pictures/348a55fe-4...</td>\n",
       "      <td>10019</td>\n",
       "      <td>3.0</td>\n",
       "      <td>3.0</td>\n",
       "      <td>169.0</td>\n",
       "    </tr>\n",
       "    <tr>\n",
       "      <th>1</th>\n",
       "      <td>Apartment</td>\n",
       "      <td>Private room</td>\n",
       "      <td>{TV,\"Wireless Internet\",Heating,\"Smoke detecto...</td>\n",
       "      <td>2</td>\n",
       "      <td>1.0</td>\n",
       "      <td>Real Bed</td>\n",
       "      <td>strict</td>\n",
       "      <td>True</td>\n",
       "      <td>SF</td>\n",
       "      <td>Beautiful private room overlooking scenic view...</td>\n",
       "      <td>...</td>\n",
       "      <td>-122.429526</td>\n",
       "      <td>Comfort Suite San Francisco</td>\n",
       "      <td>Noe Valley</td>\n",
       "      <td>3</td>\n",
       "      <td>100.0</td>\n",
       "      <td>https://a0.muscache.com/im/pictures/82509143-4...</td>\n",
       "      <td>94131</td>\n",
       "      <td>1.0</td>\n",
       "      <td>1.0</td>\n",
       "      <td>85.0</td>\n",
       "    </tr>\n",
       "    <tr>\n",
       "      <th>2</th>\n",
       "      <td>Condominium</td>\n",
       "      <td>Entire home/apt</td>\n",
       "      <td>{TV,\"Cable TV\",\"Wireless Internet\",\"Wheelchair...</td>\n",
       "      <td>2</td>\n",
       "      <td>1.0</td>\n",
       "      <td>Real Bed</td>\n",
       "      <td>moderate</td>\n",
       "      <td>True</td>\n",
       "      <td>LA</td>\n",
       "      <td>Arguably the best location (and safest) in dow...</td>\n",
       "      <td>...</td>\n",
       "      <td>-118.260439</td>\n",
       "      <td>Near LA Live, Staple's. Starbucks inside. OWN ...</td>\n",
       "      <td>Downtown</td>\n",
       "      <td>9</td>\n",
       "      <td>93.0</td>\n",
       "      <td>https://a0.muscache.com/im/pictures/61bd05d5-c...</td>\n",
       "      <td>90015</td>\n",
       "      <td>1.0</td>\n",
       "      <td>1.0</td>\n",
       "      <td>120.0</td>\n",
       "    </tr>\n",
       "    <tr>\n",
       "      <th>3</th>\n",
       "      <td>House</td>\n",
       "      <td>Private room</td>\n",
       "      <td>{TV,\"Cable TV\",\"Wireless Internet\",\"Pets live ...</td>\n",
       "      <td>2</td>\n",
       "      <td>1.0</td>\n",
       "      <td>Real Bed</td>\n",
       "      <td>moderate</td>\n",
       "      <td>True</td>\n",
       "      <td>SF</td>\n",
       "      <td>Garden Studio with private entrance from the s...</td>\n",
       "      <td>...</td>\n",
       "      <td>-122.501095</td>\n",
       "      <td>Cozy Garden Studio - Private Entry</td>\n",
       "      <td>Richmond District</td>\n",
       "      <td>159</td>\n",
       "      <td>99.0</td>\n",
       "      <td>https://a0.muscache.com/im/pictures/0ed6c128-7...</td>\n",
       "      <td>94121</td>\n",
       "      <td>1.0</td>\n",
       "      <td>1.0</td>\n",
       "      <td>120.0</td>\n",
       "    </tr>\n",
       "    <tr>\n",
       "      <th>4</th>\n",
       "      <td>Apartment</td>\n",
       "      <td>Private room</td>\n",
       "      <td>{Internet,\"Wireless Internet\",\"Air conditionin...</td>\n",
       "      <td>2</td>\n",
       "      <td>1.0</td>\n",
       "      <td>Real Bed</td>\n",
       "      <td>strict</td>\n",
       "      <td>True</td>\n",
       "      <td>NYC</td>\n",
       "      <td>This is a bright bedroom in an historic buildi...</td>\n",
       "      <td>...</td>\n",
       "      <td>-73.983880</td>\n",
       "      <td>Large East Village Bedroom To Let!</td>\n",
       "      <td>Alphabet City</td>\n",
       "      <td>82</td>\n",
       "      <td>93.0</td>\n",
       "      <td>https://a0.muscache.com/im/pictures/21726900/1...</td>\n",
       "      <td>10009.0</td>\n",
       "      <td>1.0</td>\n",
       "      <td>1.0</td>\n",
       "      <td>100.0</td>\n",
       "    </tr>\n",
       "  </tbody>\n",
       "</table>\n",
       "<p>5 rows × 28 columns</p>\n",
       "</div>"
      ],
      "text/plain": [
       "  property_type        room_type  \\\n",
       "0     Apartment  Entire home/apt   \n",
       "1     Apartment     Private room   \n",
       "2   Condominium  Entire home/apt   \n",
       "3         House     Private room   \n",
       "4     Apartment     Private room   \n",
       "\n",
       "                                           amenities  accommodates  bathrooms  \\\n",
       "0  {\"Wireless Internet\",\"Air conditioning\",Kitche...             7        1.0   \n",
       "1  {TV,\"Wireless Internet\",Heating,\"Smoke detecto...             2        1.0   \n",
       "2  {TV,\"Cable TV\",\"Wireless Internet\",\"Wheelchair...             2        1.0   \n",
       "3  {TV,\"Cable TV\",\"Wireless Internet\",\"Pets live ...             2        1.0   \n",
       "4  {Internet,\"Wireless Internet\",\"Air conditionin...             2        1.0   \n",
       "\n",
       "   bed_type cancellation_policy  cleaning_fee city  \\\n",
       "0  Real Bed              strict          True  NYC   \n",
       "1  Real Bed              strict          True   SF   \n",
       "2  Real Bed            moderate          True   LA   \n",
       "3  Real Bed            moderate          True   SF   \n",
       "4  Real Bed              strict          True  NYC   \n",
       "\n",
       "                                         description  ...   longitude  \\\n",
       "0  Enjoy travelling during your stay in Manhattan...  ...  -73.989040   \n",
       "1  Beautiful private room overlooking scenic view...  ... -122.429526   \n",
       "2  Arguably the best location (and safest) in dow...  ... -118.260439   \n",
       "3  Garden Studio with private entrance from the s...  ... -122.501095   \n",
       "4  This is a bright bedroom in an historic buildi...  ...  -73.983880   \n",
       "\n",
       "                                                name      neighbourhood  \\\n",
       "0           Superb 3BR Apt Located Near Times Square     Hell's Kitchen   \n",
       "1                        Comfort Suite San Francisco         Noe Valley   \n",
       "2  Near LA Live, Staple's. Starbucks inside. OWN ...           Downtown   \n",
       "3                 Cozy Garden Studio - Private Entry  Richmond District   \n",
       "4                 Large East Village Bedroom To Let!      Alphabet City   \n",
       "\n",
       "  number_of_reviews review_scores_rating  \\\n",
       "0                 6                 93.0   \n",
       "1                 3                100.0   \n",
       "2                 9                 93.0   \n",
       "3               159                 99.0   \n",
       "4                82                 93.0   \n",
       "\n",
       "                                       thumbnail_url  zipcode  bedrooms  beds  \\\n",
       "0  https://a0.muscache.com/im/pictures/348a55fe-4...    10019       3.0   3.0   \n",
       "1  https://a0.muscache.com/im/pictures/82509143-4...    94131       1.0   1.0   \n",
       "2  https://a0.muscache.com/im/pictures/61bd05d5-c...    90015       1.0   1.0   \n",
       "3  https://a0.muscache.com/im/pictures/0ed6c128-7...    94121       1.0   1.0   \n",
       "4  https://a0.muscache.com/im/pictures/21726900/1...  10009.0       1.0   1.0   \n",
       "\n",
       "   price  \n",
       "0  169.0  \n",
       "1   85.0  \n",
       "2  120.0  \n",
       "3  120.0  \n",
       "4  100.0  \n",
       "\n",
       "[5 rows x 28 columns]"
      ]
     },
     "execution_count": 3,
     "metadata": {},
     "output_type": "execute_result"
    }
   ],
   "source": [
    "df.head()"
   ]
  },
  {
   "cell_type": "code",
   "execution_count": 4,
   "metadata": {},
   "outputs": [
    {
     "data": {
      "text/plain": [
       "(28877, 28)"
      ]
     },
     "execution_count": 4,
     "metadata": {},
     "output_type": "execute_result"
    }
   ],
   "source": [
    "df.shape"
   ]
  },
  {
   "cell_type": "code",
   "execution_count": 5,
   "metadata": {},
   "outputs": [
    {
     "data": {
      "text/plain": [
       "Index(['property_type', 'room_type', 'amenities', 'accommodates', 'bathrooms',\n",
       "       'bed_type', 'cancellation_policy', 'cleaning_fee', 'city',\n",
       "       'description', 'first_review', 'host_has_profile_pic',\n",
       "       'host_identity_verified', 'host_response_rate', 'host_since',\n",
       "       'instant_bookable', 'last_review', 'latitude', 'longitude', 'name',\n",
       "       'neighbourhood', 'number_of_reviews', 'review_scores_rating',\n",
       "       'thumbnail_url', 'zipcode', 'bedrooms', 'beds', 'price'],\n",
       "      dtype='object')"
      ]
     },
     "execution_count": 5,
     "metadata": {},
     "output_type": "execute_result"
    }
   ],
   "source": [
    "df.columns"
   ]
  },
  {
   "cell_type": "code",
   "execution_count": 6,
   "metadata": {},
   "outputs": [
    {
     "data": {
      "text/html": [
       "<div>\n",
       "<style scoped>\n",
       "    .dataframe tbody tr th:only-of-type {\n",
       "        vertical-align: middle;\n",
       "    }\n",
       "\n",
       "    .dataframe tbody tr th {\n",
       "        vertical-align: top;\n",
       "    }\n",
       "\n",
       "    .dataframe thead th {\n",
       "        text-align: right;\n",
       "    }\n",
       "</style>\n",
       "<table border=\"1\" class=\"dataframe\">\n",
       "  <thead>\n",
       "    <tr style=\"text-align: right;\">\n",
       "      <th></th>\n",
       "      <th>first_review</th>\n",
       "      <th>host_has_profile_pic</th>\n",
       "      <th>host_identity_verified</th>\n",
       "      <th>host_response_rate</th>\n",
       "      <th>host_since</th>\n",
       "      <th>instant_bookable</th>\n",
       "      <th>last_review</th>\n",
       "    </tr>\n",
       "  </thead>\n",
       "  <tbody>\n",
       "    <tr>\n",
       "      <th>0</th>\n",
       "      <td>2017-08-05</td>\n",
       "      <td>t</td>\n",
       "      <td>f</td>\n",
       "      <td>100%</td>\n",
       "      <td>2017-06-19</td>\n",
       "      <td>t</td>\n",
       "      <td>2017-09-23</td>\n",
       "    </tr>\n",
       "    <tr>\n",
       "      <th>1</th>\n",
       "      <td>2017-08-27</td>\n",
       "      <td>t</td>\n",
       "      <td>t</td>\n",
       "      <td>100%</td>\n",
       "      <td>2017-06-07</td>\n",
       "      <td>t</td>\n",
       "      <td>2017-09-05</td>\n",
       "    </tr>\n",
       "    <tr>\n",
       "      <th>2</th>\n",
       "      <td>2016-12-16</td>\n",
       "      <td>t</td>\n",
       "      <td>t</td>\n",
       "      <td>100%</td>\n",
       "      <td>2013-05-18</td>\n",
       "      <td>f</td>\n",
       "      <td>2017-04-12</td>\n",
       "    </tr>\n",
       "    <tr>\n",
       "      <th>3</th>\n",
       "      <td>2016-02-13</td>\n",
       "      <td>t</td>\n",
       "      <td>f</td>\n",
       "      <td>100%</td>\n",
       "      <td>2015-06-04</td>\n",
       "      <td>f</td>\n",
       "      <td>2017-09-24</td>\n",
       "    </tr>\n",
       "    <tr>\n",
       "      <th>4</th>\n",
       "      <td>2013-04-28</td>\n",
       "      <td>t</td>\n",
       "      <td>t</td>\n",
       "      <td>100%</td>\n",
       "      <td>2013-03-27</td>\n",
       "      <td>f</td>\n",
       "      <td>2016-11-15</td>\n",
       "    </tr>\n",
       "  </tbody>\n",
       "</table>\n",
       "</div>"
      ],
      "text/plain": [
       "  first_review host_has_profile_pic host_identity_verified host_response_rate  \\\n",
       "0   2017-08-05                    t                      f               100%   \n",
       "1   2017-08-27                    t                      t               100%   \n",
       "2   2016-12-16                    t                      t               100%   \n",
       "3   2016-02-13                    t                      f               100%   \n",
       "4   2013-04-28                    t                      t               100%   \n",
       "\n",
       "   host_since instant_bookable last_review  \n",
       "0  2017-06-19                t  2017-09-23  \n",
       "1  2017-06-07                t  2017-09-05  \n",
       "2  2013-05-18                f  2017-04-12  \n",
       "3  2015-06-04                f  2017-09-24  \n",
       "4  2013-03-27                f  2016-11-15  "
      ]
     },
     "execution_count": 6,
     "metadata": {},
     "output_type": "execute_result"
    }
   ],
   "source": [
    "df[['first_review', 'host_has_profile_pic','host_identity_verified', 'host_response_rate', 'host_since','instant_bookable', 'last_review']].head()"
   ]
  },
  {
   "cell_type": "markdown",
   "metadata": {},
   "source": [
    "# Limpieza de los datos"
   ]
  },
  {
   "cell_type": "markdown",
   "metadata": {},
   "source": [
    "### Tareas por hacer:\n",
    "1. Ver colinealidades entre variables contínuas\n",
    "2. Limpieza de categóricas y datetimes.\n",
    "3. Extraer los valores de \"amenities\" en distintas columnas.\n",
    "4. Ver la manera de pasar a nominal la columna neighbourhood o dropearla.\n",
    "5. NaN's\n",
    "6. Outliers y normalización de variables contínuas.\n",
    "7. Clasificación de zipcode.\n",
    "8. De categóricas a nominal: One-Hot-Encoding, Label-encoding?"
   ]
  },
  {
   "cell_type": "markdown",
   "metadata": {},
   "source": [
    "## 1. Colinealidades"
   ]
  },
  {
   "cell_type": "code",
   "execution_count": 7,
   "metadata": {},
   "outputs": [
    {
     "data": {
      "image/png": "[encoded data removed]",
      "text/plain": [
       "<Figure size 864x720 with 2 Axes>"
      ]
     },
     "metadata": {
      "needs_background": "light"
     },
     "output_type": "display_data"
    }
   ],
   "source": [
    "plt.figure(figsize=(12,10))\n",
    "sns.heatmap(df.corr(), cmap='viridis');"
   ]
  },
  {
   "cell_type": "code",
   "execution_count": 8,
   "metadata": {},
   "outputs": [],
   "source": [
    "#En este momento, la única correlación alta que existe es entre latitud y longitud.\n",
    "#No usare esta información, así que dropeo estas variables:\n",
    "df.drop(\"latitude\", axis=1, inplace=True)\n",
    "df.drop(\"longitude\", axis=1, inplace=True)"
   ]
  },
  {
   "cell_type": "markdown",
   "metadata": {},
   "source": [
    "## 2. Limpieza de categóricas y datetimes"
   ]
  },
  {
   "cell_type": "markdown",
   "metadata": {},
   "source": [
    "### property_type"
   ]
  },
  {
   "cell_type": "code",
   "execution_count": 9,
   "metadata": {},
   "outputs": [
    {
     "data": {
      "text/plain": [
       "Apartment             18543\n",
       "House                  6655\n",
       "Condominium            1081\n",
       "Townhouse               720\n",
       "Loft                    552\n",
       "Other                   260\n",
       "Guesthouse              248\n",
       "Bed & Breakfast         214\n",
       "Bungalow                166\n",
       "Guest suite              72\n",
       "Dorm                     61\n",
       "Villa                    54\n",
       "In-law                   44\n",
       "Hostel                   36\n",
       "Cabin                    32\n",
       "Timeshare                26\n",
       "Camper/RV                24\n",
       "Boat                     22\n",
       "Boutique hotel           20\n",
       "Castle                    9\n",
       "Serviced apartment        9\n",
       "Tent                      7\n",
       "Hut                       4\n",
       "Chalet                    4\n",
       "Vacation home             4\n",
       "Tipi                      3\n",
       "Treehouse                 2\n",
       "Earth House               2\n",
       "Cave                      2\n",
       "Yurt                      1\n",
       "Name: property_type, dtype: int64"
      ]
     },
     "execution_count": 9,
     "metadata": {},
     "output_type": "execute_result"
    }
   ],
   "source": [
    "df.property_type.value_counts()"
   ]
  },
  {
   "cell_type": "code",
   "execution_count": 10,
   "metadata": {},
   "outputs": [],
   "source": [
    "#voy a tomar en cuenta los primeros 6 conceptos, ya que se llevan más del 90% de los datos. \n",
    "#A los demás los voy a clasificar como 'Others'"
   ]
  },
  {
   "cell_type": "code",
   "execution_count": 11,
   "metadata": {},
   "outputs": [],
   "source": [
    "for e in range(len(df)):\n",
    "    if df.property_type[e] not in ['Apartment','House','Condominium','Townhouse','Loft','Guesthouse']:\n",
    "        df.property_type[e] = \"Other\""
   ]
  },
  {
   "cell_type": "code",
   "execution_count": 12,
   "metadata": {},
   "outputs": [
    {
     "data": {
      "text/plain": [
       "Apartment      18543\n",
       "House           6655\n",
       "Condominium     1081\n",
       "Other           1078\n",
       "Townhouse        720\n",
       "Loft             552\n",
       "Guesthouse       248\n",
       "Name: property_type, dtype: int64"
      ]
     },
     "execution_count": 12,
     "metadata": {},
     "output_type": "execute_result"
    }
   ],
   "source": [
    "df.property_type.value_counts()"
   ]
  },
  {
   "cell_type": "markdown",
   "metadata": {},
   "source": [
    "### room_type"
   ]
  },
  {
   "cell_type": "code",
   "execution_count": 13,
   "metadata": {},
   "outputs": [
    {
     "data": {
      "text/plain": [
       "Entire home/apt    16158\n",
       "Private room       11993\n",
       "Shared room          726\n",
       "Name: room_type, dtype: int64"
      ]
     },
     "execution_count": 13,
     "metadata": {},
     "output_type": "execute_result"
    }
   ],
   "source": [
    "df.room_type.value_counts()"
   ]
  },
  {
   "cell_type": "markdown",
   "metadata": {},
   "source": [
    "### bed_type"
   ]
  },
  {
   "cell_type": "code",
   "execution_count": 14,
   "metadata": {},
   "outputs": [
    {
     "data": {
      "text/plain": [
       "Real Bed         28092\n",
       "Futon              319\n",
       "Pull-out Sofa      246\n",
       "Airbed             146\n",
       "Couch               74\n",
       "Name: bed_type, dtype: int64"
      ]
     },
     "execution_count": 14,
     "metadata": {},
     "output_type": "execute_result"
    }
   ],
   "source": [
    "df.bed_type.value_counts()\n",
    "#Casi el 100% de los datos estan concentrados en \"Real Bed\". No se si esto represente un sezgo para el modelo después.\n",
    "#Aun si pusiera como \"Others\" los demás valores, creo que no tiene mucho caso esta columna."
   ]
  },
  {
   "cell_type": "code",
   "execution_count": 15,
   "metadata": {},
   "outputs": [],
   "source": [
    "df.drop(\"bed_type\", axis=1, inplace=True)"
   ]
  },
  {
   "cell_type": "code",
   "execution_count": 16,
   "metadata": {},
   "outputs": [
    {
     "data": {
      "text/plain": [
       "(28877, 25)"
      ]
     },
     "execution_count": 16,
     "metadata": {},
     "output_type": "execute_result"
    }
   ],
   "source": [
    "df.shape"
   ]
  },
  {
   "cell_type": "markdown",
   "metadata": {},
   "source": [
    "### cancellation_policy"
   ]
  },
  {
   "cell_type": "code",
   "execution_count": 17,
   "metadata": {},
   "outputs": [
    {
     "data": {
      "text/plain": [
       "strict             14816\n",
       "moderate            8492\n",
       "flexible            5539\n",
       "super_strict_30       25\n",
       "super_strict_60        5\n",
       "Name: cancellation_policy, dtype: int64"
      ]
     },
     "execution_count": 17,
     "metadata": {},
     "output_type": "execute_result"
    }
   ],
   "source": [
    "df.cancellation_policy.value_counts()\n",
    "#Voy a integrar los valores \"super_strict\" como \"strict\""
   ]
  },
  {
   "cell_type": "code",
   "execution_count": 18,
   "metadata": {},
   "outputs": [],
   "source": [
    "for e in range(len(df)):\n",
    "    if \"super_\" in df.cancellation_policy[e]:\n",
    "        df.cancellation_policy[e] = \"strict\""
   ]
  },
  {
   "cell_type": "code",
   "execution_count": 19,
   "metadata": {},
   "outputs": [
    {
     "data": {
      "text/plain": [
       "strict      14846\n",
       "moderate     8492\n",
       "flexible     5539\n",
       "Name: cancellation_policy, dtype: int64"
      ]
     },
     "execution_count": 19,
     "metadata": {},
     "output_type": "execute_result"
    }
   ],
   "source": [
    "df.cancellation_policy.value_counts()"
   ]
  },
  {
   "cell_type": "markdown",
   "metadata": {},
   "source": [
    "### cleaning_fee"
   ]
  },
  {
   "cell_type": "code",
   "execution_count": 20,
   "metadata": {},
   "outputs": [
    {
     "data": {
      "text/plain": [
       "True     23693\n",
       "False     5184\n",
       "Name: cleaning_fee, dtype: int64"
      ]
     },
     "execution_count": 20,
     "metadata": {},
     "output_type": "execute_result"
    }
   ],
   "source": [
    "df.cleaning_fee.value_counts()\n",
    "#ya lista para pasar a contínua"
   ]
  },
  {
   "cell_type": "markdown",
   "metadata": {},
   "source": [
    "### city"
   ]
  },
  {
   "cell_type": "code",
   "execution_count": 21,
   "metadata": {},
   "outputs": [
    {
     "data": {
      "text/plain": [
       "NYC        13379\n",
       "LA          7571\n",
       "SF          2713\n",
       "DC          1815\n",
       "Boston      1776\n",
       "Chicago     1623\n",
       "Name: city, dtype: int64"
      ]
     },
     "execution_count": 21,
     "metadata": {},
     "output_type": "execute_result"
    }
   ],
   "source": [
    "df.city.value_counts()\n",
    "#ya lista para pasar a contínua"
   ]
  },
  {
   "cell_type": "markdown",
   "metadata": {},
   "source": [
    "### description"
   ]
  },
  {
   "cell_type": "code",
   "execution_count": 22,
   "metadata": {},
   "outputs": [
    {
     "data": {
      "text/plain": [
       "Hello, I've been running guest house for Koreans visiting U.S. for 3years, and recently decided to run this place for other travelers also. There are 10 room in the house. They are mostly dormitory rooms and couple of couple room and family room. This places are our women's dormitory in third floor. There are three rooms, but no doors. It is basically open space. There are 2 beds in two rooms and 4 in one room. I do not have closet in this room but there are hangers and mini shelves. My travelers usually put their baggage on the floor. There is one full bathroom only for women in 2nd floor, which you will be sharing with other women guests. Right next that bathroom, there is unisex half bathroom. All bathrooms have hair dryers. You cannot use kitchen, but you can use refrigerator.  I offer breakfast every morning from 7-10 am. Bread, cereal, fruits, coffee, milk and juice will be served. You can eat take-out food in the kitchen, but please wash dishes that you used and put trash in the    6\n",
       "Our unique building is located in the Silicon Beach, directly across the street from (SENSITIVE CONTENTS HIDDEN) in Playa Vista. Fully remodeled designer-done 4-plex walking distance to the Playa Vista Runway, (SENSITIVE CONTENTS HIDDEN), YouTube, IMAX, Belkin, FOX, and (SENSITIVE CONTENTS HIDDEN). Two one-bedroom units and two studio units have all been remodeled by a high-end designer in 2015 Our place is good for couples, solo adventurers, and business travelers. Sorry, no pets. Units 1 & 2 are downstairs, 3 & 4 are upstairs. The building has one set of professional coin operated washer and dryer machines, shared by all four units. The laundry room is located towards the back of the building, near the back gate. You will have access to one (and only one) off-street parking spot in the back of the building. When confirming your booking, please inform the model, color and license plate of the car you will have throughout your stay - that way we can control who's illegally parked and s    4\n",
       "Private room in the heart of Little Italy with FREE PARKING :) You will have your own personal door code and may arrive at ANY time you would like and as late as you wish. You can store your luggage in the closet before check-in and after check-out times :) Price adapts to demand, my rates change constantly - every night is different! Put your dates in the calendar, with the number of guests, and what you see is what you'll pay :) The neighborhood is extremely safe even at night :) Restaurants and bars are right round the corner, both upscale and casual. This room is 6 minutes away by car or uber to Chicago's famous Willis (Sears) tower. Uber costs about $7. If you are arriving by car, I am providing free resident parking passes for anywhere in the area. (Yes, that means you can drive a few blocks and still park anywhere you want!) The room will be solely yours for the time you'll stay in the Windy City. Shall you have any concerns or need any tips from the local, I'll always be happy     4\n",
       "本地方是个两层楼townhouse温馨之家,一楼我们自己住,二楼五个房间做出租房,有两个洗手间和浴室供您们使用,每个房间都配备双人床 被子枕头床头柜 台灯 书桌椅 电视机Wi-Fi 热水壶 毛巾牙刷 牙膏 拖鞋 餐巾纸 房间干净卫生。大门进出有密码锁 每个房间也都有密码锁 走廊有安装电眼探头,厨房可以煮简单的食物,可以说是麻雀虽小五脏俱全。 地方位于纽约布鲁克林八大道华人集聚地,附近各种餐馆林立,地区治安好交通发达,走路2分钟到小巴站25分钟车程到达曼哈顿唐人街,门口有大巴站坐两站到地铁站也可以走路8分钟到N地铁站或走12分钟到D或R地铁站。 如果您开车过来白天很容易找到车位,晚上8点后如果找不到车位,您可以把车停在我们旁边8大道meter车位上直到第二天早晨7点半后就有很多车位了,欢迎您的到来!                                                                                                                                                                                                                                                                                                                                                                                                                                                                                                                                                                                                                                                                           4\n",
       "HUGE loft in converted factory, with in building: -COFFEE SHOP -YOGA STUDIO -ROOF DECK -FOOD CO/OP -TATTOO PARLOR -VAPE SHOP -CLOTHING STORES -SHIPPING AND PRINTING STORE -Located in vibrant Bushwick Brooklyn within walking distance to some of the best street art in the US. -Just 3 blocks to subway with easy access to Manhattan, Williamsburg and JFK airport. At your disposal is a comfortable lounge and dining area with a kitchen, and 2 bathrooms, that is all cleaned daily. There is also a HUGE ROOF DECK, as well as mini mall downstairs containing a yoga studio, coffee shop, art gallery, skate shop, and clothing store.  Right across the street are 2 of the biggest vintage shops in Brooklyn. Your room has a brand new super comfortable PILLOW TOP double bed, as well as your own air conditioner and space heater to combat extreme NYC temperatures. Free WIFI :)  We pay for extra for the really fast internet so stream video at ease. We also provide professionally laundered fresh sheets and to    4\n",
       "Brand New 2017 Construction, Featuring 2 Bedrooms and 2 bathrooms . comfortable couch, coffee table, 50-inch TV in living room, with free Satellite Cable channel and internet Wi-Fi. Washer and Dryer in the building on each floor.This lovely Apartment is perfect for families, couples or four close friends! With over 900 square feet of living space.A short freeway ride to Westwood, Hollywood Bowl, Griffith Park, LA Zoo, and downtown venues such as Chinatown, LA Live, Staples Center and Olivera St. Enjoy the open entertainer floor plan featuring a gourmet kitchen with quartz counters w/natural mosaic stone and quartz back splash, Stainless Steel appliances, and designer cabinetry. All baths are tastefully done with tub/showers and sinks. Awesome living area, Enjoy those high ceilings! Terrific master suite with closet space. This is a \"smart home\" featuring an LED recessed lighting. Gated Garage is ready for two full sized cars all side by side.  A cozy retreat for your stay in Los Angele    4\n",
       "Loft Suite @ Henry Norman Hotel Located in Greenpoint, Brooklyn and housed in a converted 19th-century warehouse, the Henry Norman Hotel features modern lofts and suites with hardwood floors, antiques and contemporary art. The Loft Suite features a bedroom area with a Queen size bed and a comfortable pull-out sofa in the living room area, which in total can easily sleep up to 4 guests. The loft is equipped with 42\" LCD HD TVs in both the living and bedroom areas with premium cable channels (HBO, Showtime & more). There is a mini refrigerator plus tea and coffee making facilities for your convenience. There are hardwood floors throughout and a full bathroom with a shower/tub combination. Sleeps up to 4 guests. Guest will have access to common terraces, lounge area, business center with 2 iMac computers, fitness center with dry sauna and steam shower, and laundry room. Greenpoint is an artsy Brooklyn neighborhood filled with great restaurants, cafes, and shops.                               3\n",
       "My Cozy West LA / Mar Vista 1BD 1BA Home just 15 Min from Venice Beach. Features a queen bed and living room with comfy sofa, TV with HD Cable, High Speed Wifi, Full Kitchen with Gas Stove, Fridge, Microwave. Completely Private Apt not shared. My Cozy West LA / Culver City 1BD 1BA Home. Features queen bed in bedroom and living room with comfy sofa, TV with HD Cable, High Speed Wifi, Full Kitchen with Gas Stove, Fridge, Microwave. Completely Private Apt not shared. Entire Apt is yours with no restrictions and is not shared in any way. Just take care of my home as if it were your own please and be respectful to the neighbors. I am accessible should you need anything, have any questions or if you would like some great restaurant/tourist tips. Otherwise enjoy your stay and the home as if it is yours! Super centrally located in the heart of West LA. 10 Min to Venice Beach (less than 5 miles) Downtown Santa Monica (5 miles) and walking distance to beautiful downtown Culver City where you wil    3\n",
       "Remarkably located in the heart of Chelsea in Manhattan, within walking distance of Penn Station, Madison SquareGarden, High Line Park and Theater District our hostel type separate rooms are simple, cozy, and very clean. Although small in size they are centered around a spacious common lounge area with free WiFi. We are located in the heart of the historic Chelsea neighborhood, West Side Manhattan: between 28th and 29th Streets on 8th Avenue. The freshly renovated hostel rooms here are simple, cozy, and very clean. Our management crew is on-site 24/7 to make sure everybody is happy. There is free WiFi here. Fresh, clean sheets, pillows towels and blankets are there for you. Although small in size the retreat guest rooms here are centered around a spacious common area. As a friendly, peaceful atmosphere, the common room is a perfect getaway from your busy day in the city. There is also a small library of spiritual books that can keep your mind engaged during a respit from the busy stree    3\n",
       "Hello!! Thank you for checking our listing! We have 3 other listings available so please take the time to look at them to see which one better suit your needs. If you’re looking for a home away from home, look nowhere else! Our rooms are located in a cozy 3 bedroom apartment in a newly constructed building. We will be sharing the kitchen, which comes with a complete set of kitchenware and also the bathroom among the other roommates. The bedrooms are beautifully decorated and each one of them is unique with its own color theme and fragrance. Nice and clean bed sheets, towels and comforters are also provided during your stay.  Our location is in Elmhurst, also known as a tiny Chinatown in Queens. It is very convenient with only 5-10 minutes of walking distance to the Grand Ave Newtown Subway station (M, R trains), Buses, Shopping malls, Grocery stores, Restaurants, Bakeries, Laundromat and many more amenities.  We are looking forward to hosting you! Jackie & Tyas                             3\n",
       "Luxury apartment refurbished in 2016, centrally located in between the West  End and Georgetown, fronting Pennsylvania Ave. Walkable to many bars, restaurants and nightlife, most major tourist attractions, GW University, World Bank and Embassies. While I am always happy to answer questions about the apartment and the local area I really appreciate it when guests take the time to read the detailed house manual (hard copy in apartment and also on the AirBnB site), and the other pieces of correspondence I will send you. The best way to contact me is through the AirBnB app as I like having all correspondence on one device. Its rare I will answer my phone when I can’t identify the number. I am very prompt at returning inquires through the app and will be happy to jump on a call when needed. I am very good at communicating with guests as you can see by my ratings and reviews so please be patient and give me a minute to reply. Enjoy your stay! The property is located directly in the cross sec    3\n",
       "I have other listings in the same apartment: https://www.airbnb.com/rooms/16191596?locale=en https://www.airbnb.com/rooms/16193259?locale=en https://www.airbnb.com/rooms/16191967?locale=en https://www.airbnb.com/rooms/16193729?locale=en Apt is 3 mins to subway station '59 Street' in Brooklyn, for N and R line. We are sharing a four bedroom apartment at sunset park of Brooklyn. This is a convenient and nice location 3 mins away from N/R train(59th St subway station) . You can take N (express) train to Manhanttan in 20-30 mins. In our apartment , Our kitchen is free to use, we have all basic cooking stuff. Our Living room, kitchen and bathroom will be shared.  For off limits, of course other bedrooms are not allowed to enter with out permission.  I will always be there in the apartment, at least twice a week to meet our guests and do the cleaning job. If you have any questions, also feel free to message, txt or call me. Just let me know, if you have any questions. The Apt is between the     3\n",
       "Check in as early as 10am!  Discounts for long stays! Steps from the High Line, and a block from major transportation this immaculate, sunny room is perfectly situated in one of the most desirable downtown Manhattan neighborhoods! This is a private room in a four bedroom apartment.  The host who lives here is a designer at an international fashion brand.  The decor, over -sized windows and 11 foot ceilings represents the style, modernity, and warm feeling that the Chelsea has to offer. The bedroom is one in a four bedroom apartment that is in the heart of prime Chelsea.  Please note, the apartment does have a live in host, and other guests - but your bedroom is your private space and oasis in Chelsea.   The room has a high bed so you can store your luggage underneath, a sturdy shelf near the bed to store items under and place your laptop or other items on.  A small closet, and long mirror.  It's a quiet building on a quiet street, but within walking distance of some of the most popular    3\n",
       "A very cozy house located in the heart of Hollywood between two famous streets: Beverly Blvd and Melrose Ave, within a safe and quiet neighborhood, 30 minutes from LAX, 15 minutes from Downtown LA, 15 minutes from Griffith Observatory, 15 minutes from Hollywood Walk of Fame, 15 minutes from Universal Studios, 5 minutes from Paramount Pictures. There are lots of restaurants and shops nearby. My favorite is Osteria La Buca:) A great house in the central area of Los Angeles suitable both for travelers and business trips. It is fully equipped with all you need and freshly renovated. FREE PARKING:)                                                                                                                                                                                                                                                                                                                                                                                                                    3\n",
       "A handsome colonial house set on a tranquil side street. Fully furnished with spacious rooms. Easy commute to Downtown with nearest bus stop only a 5 minute walk away. Near restaurants, grocery and shopping arcade. Laundry and WiFi available.                                                                                                                                                                                                                                                                                                                                                                                                                                                                                                                                                                                                                                                                                                                                                                                          3\n",
       "Located in the heart of the Mission District, consider this your home away from home. Peaceful and comfortable, yet close enough to pretty much everything San Francisco is known & loved for, as well as some lesser known (equally loved by those who do) sights. You'll have a modern, cozy, private bedroom with a full/queen bed within this 4 bedroom, 2 bathroom house. (You'll be sharing the main areas of the house with Brian/Angela and two other guests, plus two small rescue dogs :) Your bedroom is equipped with a large, flat screen television set up with Chromecast and is decorated with paintings commissioned by a friend who dabbles as an artist. Jacques and Bijoux are sweet and playful pups who live here. If you want to play or cuddle with them, they'll love it. (If not, don't worry, they do not have access to the bedrooms or bathrooms.) A beautiful living space and shared backyard patio with a gas grill, premier location in the culturally rich Mission district (the famous Balmy Street m    3\n",
       "Spacious 2 story 4000 sqft home Enjoy fruit trees swimming pool fountain & gardens lWalking distance to mall, grocery store, movie theater & restaurants. Centrally located to Malibu, Santa Monica,Venice,Hollywood, Beverly Hills, West LA This spacious 2 story 4000 sqft home is fully furnished and beautifully decorated! Coffee and donuts are served every morning;) Please keep in mind that this is a shared space, and that your large room consists of 2 bunk beds, your own dresser, hamper, and closet space. You will have full access to the rest of the home.  We provide a safe, clean, and positive environment, perfect for people relocating from out of state, students, and anyone else who needs a landing place while traveling. Near public transportation; ORANGELINE, 405, and 101 FREEWAYS. You will have full access to the rest of the home.  We do have private and 2 person and or couples rooms available in the same property. Full kitchen privileges  All Premium Cable and movie channels  Full se    3\n",
       "* The home is calm, but house party the day of Sep 16 to celebrate the sheep arriving across the street. Just for that afternoon. * Comfortable queen-size bed in private room in a three-bedroom NoLiTa/SoHo apartment with 360 degree rooftop view. Lively but peaceful neighborhood with shopping and great restaurants. Less than 2 minute walk to 7 subway lines (B,D,F,M,6,N,R). Beautiful apartment with rooftop view. Shopping and restaurants and bars nearby.  7 subway lines less than two minutes away. Beautiful renovated building. The apartment has three private bedrooms. There are additionally two bathrooms, so access to a bathroom is never a problem. We have a rooftop deck with one of the best views in New York, from the World Trade Center to the Empire State Building and even the Williamsburg Bridge. Right in front of us is a 19th century cathedral with large trees and a pasture for sheep in a historical graveyard. Bedroom, kitchen, bathroom, private rooftop belonging just to my apartment,    3\n",
       "Beautiful, comfortable, clean, cozy rooms near shopping mall, diner, and public transportation.                                                                                                                                                                                                                                                                                                                                                                                                                                                                                                                                                                                                                                                                                                                                                                                                                                                                                                                                             3\n",
       "The Brooklian is a sunny apartment with great views of the city, super conveniently located to public transportation .Clean, spacious, with low key furnishing  combined with all the conveniences needed. The Brooklian is within a pre-war building with those original interior design, still as they were! There are 3 queen bedrooms and a queen pull out couch in the living room, this listing is only for one room. Prospect park, Botanical Gardens, and the Brooklyn Mueseum are 10 mintues away. This add is in reference of one bedroom, if you want to reserve the all apartments or more bedrooms please write to me before booking. Brooklian is the best apartment in Brooklyn with an Italian touch to make it even better, the ambient is bright and spacious, furnished in a minimalist but essential way for your best experience! The kitchen is fully equiped with all the basic and more advanced kitchenware, microwave, coffee machine, toaster, food processor, nutribullet and electric grill sandwich press.    3\n",
       "Located at Laurel Hights close to USF, Golden Gate Park, Golden Gate Bridge and Shopping Center. We are steps from MUNI station and 15 minutes Bus ride or Lyft/Uber ride to downtown. The room has a queen sized bed with incredible comfortable mattress which is perfect for a restful night after a day in the city. There is free parking on the street. Free fast Wi-Fi.                                                                                                                                                                                                                                                                                                                                                                                                                                                                                                                                                                                                                                                              3\n",
       "Welcome to my home! It's a nice, newly renovated brownstone townhouse in the heart of Brooklyn. Close to major train lines: 1 minute to the J train and 4 minutes to the C train. Both trains will get you to manhattan in 15-20 minutes. My place is good for business travelers and tourists and has that wonderful feel-at-home ambience.                                                                                                                                                                                                                                                                                                                                                                                                                                                                                                                                                                                                                                                                                                3\n",
       "Private bedroom in Temple City, close to Arcadia, Pasadena area including kitchen, laundry room, dining room, living room; convenient location, walking distance to bus stop/main street, restaurants and Ralphs supermarket                                                                                                                                                                                                                                                                                                                                                                                                                                                                                                                                                                                                                                                                                                                                                                                                                2\n",
       "Standard Loft @ Henry Norman Hotel Located in Greenpoint, Brooklyn and housed in a converted 19th-century warehouse, the Henry Norman Hotel features modern lofts and suites with hardwood floors, antiques and contemporary art. These loft units feature a comfortable Queen size bed, hardwood floors throughout, full bathroom with shower/tub combination. Lofts are equipped with 42\" LCD HD TV with premium cable channels including HBO & Showtime, mini refrigerator, coffee & tea making facilities. Sleeps 1 - 2 guests. Guest will have access to common terraces, lounge area, business center with 2 iMac computers, fitness center with dry sauna and steam shower, and laundry room.                                                                                                                                                                                                                                                                                                                                        2\n",
       "This relaxing 2 bedroom 2 bathroom is a short walk to the world famous Santa Monica Pier & the Third Street Promenade. The space is perfect for a family on vacation or those traveling for business.  Central AC, high speed wifi & in unit washer/dryer, large bathtub, large shower, balcony, 2 private parking spot in the garage, 2 queen beds and 1 sofa bed. Just remodeled! - 2 bedrooms with queen sized beds  - 2 bathrooms  - Twin Sized pull out sleeper sofa, - 32\" LCD Smart TV in the living room - Coffee Maker - Blender  - Kitchen stocked with all the essentials to cook and eat at home.  - High speed internet - Central Air Conditioning - In Unit washer/dryer  - Secured underground garage parking (2 spaces) Guests can access the entire property Just send me a message on Airbnb and we will be happy to answer Named one of the Top 10 Beach Cities in the World by National Geographic, Santa Monica is one of L.A.'s most popular destinations for domestic and international visitors alike. The iconi    2\n",
       "Our social and vibrant hostel in downtown SF is the place to stay! Each room has 2 full size beds, or one full size bed and 2 single beds . We focus on creating a community where  guests can gather together, share a meal and exchange travel stories! Each room has 2 double beds bunk bed style. This is a shared room and there will be another two guests in the other double bed.   We provide a complimentary hair dryer and $1 towel rental from the front desk. There are five bathrooms on each floor, each with complimentary Essential Oil organic lavender shampoo, conditioner, and shower gel. We also have a free sauna on the top floor and massage chairs in the lobby for your every relaxation need. Our Grand Ballroom is the heart of the hostel where people play music, make friends and unforgettable memories, fall in love with the city and each other, and raise glasses in celebration. The ballroom, where musicians are always invited to play, has a pool table, foosball table, books, games, and co    2\n",
       "Cozy room in a spacious 3BR apartment. Stay in a beautifully preserved 19th century building on Lincoln Park's historic Armitage Avenue. Countless food/shopping options! We're next to a CTA train stop, so getting around Chicago couldn't be easier! Thanks so much for your interest in staying with us! We've hosted hundreds of guests over the last few years and are very proud of the excellent feedback we've received. We know that the key to our success has been setting proper expectations for our guests; each listing on Airbnb is unique and every host has a different hosting style. We ask that you read through our entire listing to make sure that we're a good fit for you. Our lovely home is the perfect place for you to stay in while you explore all that the city has to offer. We're conveniently located next to a CTA \"L\" train stop, so making your way around Chicago is incredibly easy. The Loop (downtown) is a short 15 minute train ride away. PLEASE NOTE: this room is adjacent to the \"L\" t    2\n",
       "Apartment is located near 7 (N and W, 2 blocks) trains all 2 to 4 short blocks away. Living room has a skylight allowing plenty of natural light into the apt. The kitchen is a large open eat-in kitchen. Two full bathrooms are shared among 3 bedrooms. Room has a full size bed, its own small refrigerator and two large closets. Room has its own lock and access to all common spaces.                                                                                                                                                                                                                                                                                                                                                                                                                                                                                                                                                                                                                                               2\n",
       "Simple and clean, very quite and safe guesthouse. Spiritual shelter for full time yogis. Take off your shoes when you entire and feel right at home. We have a large kitchen and dining area where you can have breakfast anytime, and a roof deck with a beautiful view of the city. Vegetarian, no drinking or smoking. Free WiFi. You can contact me by phone, text or airbnb msgs whether or not I'm present at this location. I'm usually in my room working on the computer or tending to the common areas of this location when I'm here, so I'm not hard to find. We do not give out keys to the front door of this property. They are too expensive and the host does not have clearance to make more copies in the event that guests lose their keys. You'll be given a PIN via text to enter through a second door just before or shortly after CHECK-IN depending on the circumstances of your arrival.                                                                                                                         2\n",
       "Convenient access to highway and airports (JFK & LGA). Newly renovated modern luxury apartment. Located in suburban area within close proximity to coffee shop, grocery stores and bus stop twenty feet from doorsteps. Parking available on site.My place is good for couples, solo adventurers, business travelers, families (with kids), and big groups. Two spacious bedrooms, sealy mattresses with mattress and pillow protectors, 400 thread count sheets and quilt set. Two closets in first bedroom, one closet in second room, linen, broom and coat closet. Updated bathroom with tub and luxurious bath towels. Eat-in kitchen with serve ware, kitchen utensils, keurig with k-cups and tea bags (sugar and creamer available) pots and pans. Spacious common area with two sofas and television (roku/hbo/cnn/hgtv/food network/cbs etc.) Access to entire apartment. -Bus stop just twenty feet from doorsteps! (14 minutes via bus to train station which gets you quick and easy access to Manhattan and the rest of NY    2\n",
       "                                                                                                                                                                                                                                                                                                                                                                                                                                                                                                                                                                                                                                                                                                                                                                                                                                                                                                                                                                                                                                           ..\n",
       "Welcome to the cozy little room with your own bathroom on a separate floor. As the first guests perfectly put it: “It's a perfect place to escape from the hustle and bustle but is still close enough to be right in with the action.” Welcome to your temporary home!  + Separate room located on the second floor of our duplex loft. (The ceiling is 6'3\" (1.9 meters) It's not the hugest, but it is cozy!)   + FULL BATHROOM and a closet for your private use also on the second floor. + Full bed, night table with a lamp, a cabinet. + AIR CONDITIONER/ HEATER  + Clean linen, two fresh towels. + WI-FI.   + GREAT LOCATION 20 min to Manhattan and 3 minutes away from the closest subway station  + FULL ACCESS TO THE KITCHEN and space in the refrigerator. + Full balcony rights :) Welcome once again! Check in is no later than 1pm - we have to leave for work unfortunately (of course we can arrange for key pick up at my work, if you are flying in late!) Check-out is no later than 10am - we have to clean the    1\n",
       "Located on an exclusive street in Greenwich Village, this elegant apartment offers comfort, location, and privacy. Nestled in between Washington Square Park (NYU) and Union Square, there is never a need to leave a 5 block radius. Large Living Room w/ Dining Room. Plenty of natural light. Large bedroom with tons of closet and storage space. Beautiful fashion photographs line the hallways. Full Kitchen.  Full bathroom w/ Tub. Flat Screen TV Fios  Free Wifi Cooking supplies Toiletries always stocked In-town host will help you with everything and will usually meet you for both key exchanges. Guests staying for one month or longer are required to employee my house Houskeeper bimonthly (very other week).  The $125,00 per visit fee can be paid directly to the housekeeper. This doesn't not include supplies and washing machine and dryer cost.  No personal laundry unless discussed with housekeeper The best part about the neighborhood is it FEELS like a neighborhood amongst the bustling city. And    1\n",
       "Our apartment is located in the South End, Boston; a vibrant area famous for its Victorian brick row houses and the best restaurants in Boston! Catch a Red Sox game at Fenway Park, only a 35 minute walk or get some dinner, drinks & shop at Newbury Street, Back Bay, Copley, & Prudential, all located within 1 mile. The Silver Line is only a 6 minute walk, the Orange & Green Line Subway are both only a 15 minute walk and the bus stop to Harvard & MIT is only 250 feet from our doorstep. Our beautifully furnished first floor, 2 bedroom 2 bathroom apartment is the perfect place for families, friends, couples, professionals and groups up to 6 people. Located in a beautiful brownstone building, the living room boasts large bay windows, high ceilings and is an open concept living room and kitchen. The living room is furnished with a new sofa, which pulls out into a comfy queen-sized Posturepedic memory foam bed. There is a 50\" television with full cable and also Netflix and Showtime. The kitche    1\n",
       "Our place is good for couples, solo adventurers, and business travelers. We have a lovely, quiet 1st floor flat in West Town with great restaurants and bars a block away! Close, easy access to public transportation to reach any destination in Chicago. Street parking within a block is usually no problem. Enjoy a very comfortable night's sleep on our tall, queen size air mattress which you can easily adjust for firmness. (We have slept very comfortably on it ourselves!) Your private bathroom has a tub and shower, and we provide towels. My partner Jeff and I are both artists so we have some artwork of ours and other professional artist friends displayed throughout our home. Feel free to make coffee or tea and use the kitchen if you like. We have a dishwasher so please just clean up after yourselves. We have a gas stove, microwave, tea pot, coffee maker, toaster, and large refrigerator freezer. We do have a laundry room downstairs if you need to do some wash. It takes quarters, but they ar    1\n",
       "My large comfortable one bedroom is steps to Central Park, Times Sq., the Theater District and convenient to all subways. Walking distance to great restaurants and night life. The bedroom has a comfortable Queen bed, and the apartment is stocked with everything you may need.  Reservations of 30 days or longer are accepted.                                                                                                                                                                                                                                                                                                                                                                                                                                                                                                                                                                                                                                                                                                        1\n",
       "Rent 1 or two rooms which sleepts 2 or 4. Big screen TV, day bed and pull-out bed. Microwave, coffee maker and fridge. Bikes on request. Beautiful new home with granite tile. Entire bottom floor of house available for rent with 2 bedrooms and 1 bath. Sleeps 4. Master bedroom has queen bed. Other bedroom has day bed and pull out bed and can double as living room with games and big screen TV. Rooms are secured with personal keys and are equipped with fridge, microwave, coffee maker, a set of crook wear and eating utensils. Garage parking is available upon request. Access through garage and front door. Common hallway downstairs. Owner lives upstairs in a private space, accessed through stairway from the front door entrance..  Owner and guest would share front door, and hallway access to garage. Owner is happy to show guests around or even drive to local amenities if works for our schedules. Will provide tips and information on local activities, restaurants and other amenities. Redondo is     1\n",
       "Best location in Boston!  Our village is the smallest in Boston, with quaint little parks, small café, and intimate restaurants.  We are minutes (3 blocks) from the Boston Public Garden, shopping on Newbury St., trendy Tremont St., the T (our metro), and the theaters! A great pied a terre in Boston.  Small space with great hardwood floors & modern amenities.  Walk to EVERYTHING: the Public Garden, the Freedom Trail, Back Bay, South End (gay & trendy), North End (Italian), Seaport. There are TWO RED DOORS to this building.  You want the one on the left (when you are facing the building). Only access to the unit (and of course the entryway).  We will leave they keys in the key lock box on the door, and will message you the code before you arrive.  If you would like a Charlie Card (for a free bus ride to the area from the airport, and to use the T (our metro) I would be happy to mail that to you. Just let me know! We will be away during your stay. (We only list our place on Airbnb while w    1\n",
       "Welcome to our home in the Haight Ashbury!  Our historic home is right in the heart of the \"Summer of Love\" San Francisco.  It is large, comfortable, and tastefully furnished. We're close to the best that San Francisco has to offer: walk to parks, museums, shops, cafes, and restaurants, and at your door step are a number of bus routes to take you anywhere in the city.   We're right in between Buena Vista Park, the Panhandle, Cole Valley, and Golden Gate Park. Our flat is a middle unit, with neighbors above and below, and there are about 20 stairs to reach it.  The floors are hardwood with rugs.  There's a flat-screen TV with minimal cable and HBO.  Beds all have down pillows and down comforters.  We've had excellent nights of sleep on all three!  This is our home, not a museum piece, but we still ask that you treat it with care. Guests will have access to the whole home, including the TV, Wi-Fi, laundry, and kitchen appliances (including dishwasher).  There's a small \"library\" of books    1\n",
       "Great for solo traveler who wants modern luxury, ease of convenience and city + Silicon Valley access.  Unpack, unwind in your own private city oasis with sweeping city views.  This is the master bedroom with your private en-suite master bath.  The unit is a 2br/2ba 1200sq foot corner condo shared with one other person. Spacious Master bedroom in spectacular corner view condo with en-suite Master bathroom. The condo boasts sleek modern appliances, hardwood floors, spacious baths and a gourmand's dream for chef's kitchen. Your private Masterbedroom is fully furnished with a huge plush, queen bed, closet with built-ins, floor to ceiling windows with views of the Ball park, San Francisco city skyline and Twin Peaks to the West. Your room and the rest of the unit gets flooding and abundant natural light. Gourmet chef's kitchen, living room, dining room, outdoor patio I like to give guests privacy and space but available for questions and recommendations as needed! Restaurants, cafes, bars,    1\n",
       "Large duplex ,with 2 large bedrooms ,walking closets ,living and dinning rooms ,kitchen,sun roof,1-1/2 (URL HIDDEN) up stairs fully furnished. Towels are provides if needed.The bedroom upstairs has 2 full beds with walk-in  and small  closets, carpet . Guest  can expect a clean  safe  and quiet home . Bedstuy as it's called  is a very artsy well mixed neighborhood,about 7mins from the A and C train station at Utica ave .The 26 , 52,25 buses are close by  for easy access to Downtown Brooklyn. The 46 bus to Kings Plaza shopping Mall. 20min into Manhattan by train.There  are plenty of restaurants in the area. Public Library minutes away . Living and dinning room ,Kitchen  When home i'm always willing to have conversations with my guest and answer any questions they may have . I love the homes and my neighbors the block is usually quiet .Everyone takes good care of their homes. Public transportation is easy there are about 5 bus lines in the area and the local train runs all day and night     1\n",
       "Remodeled 1BR apt. with a separate entrance is located half block from GG Park and next to multiple transportation options. Many great restaurants, two major museums in GG Park are walking distance. Other SF attractions are within easy reach by bus. Our house is perfectly located for visitors. There are multiple transportation options within 1/2 -2 blocks to Downtown. A bus that goes to Golden Gate Bridge, Marina District and the Bay is 2 blocks away. All major SF attractions are within easy reach by bus. Golden Gate Park is next door.  There is access to the patio and backyard from the bedroom that guests can use. We will greet you upon arrival, but otherwise you'll have complete privacy. Half block from the house, there are many  great restaurants for any taste. Supermarket and various produce markets are all walking distance. Also half a block from the house is the entrance to the famous Golden Gate Park with many attractions. Guests don't even need to have a car to get around. Publ    1\n",
       "Our Home is Bright and Sunny and Very Spacious. Just need to bring your bags, it is a fully furnished private second floor in our home. Cable and Internet is included..The neighborhood is very nice and most important it is a safe neighborhood.  Great place for extended stays..A home away from Home. Subway D line is just a few blocks away. 2 bedrooms: 2 twin size bunk beds and one queen size bed. *Great, Safe Neighborhood. Banks, Grocery Stores, Restaurants, Coffee Shop, pharmacy and etc..., all within walking distance.  *Easy street parking available.  *15 minute walk from walking/running trail by the water and parks nearby.  *15 minute drive to local beaches * D train 3 blocks away.  * Buses on the avenue (1/2 block away) Private Second floor in Our Home. *Great, safe neighborhood. Banks, Grocery stores, restaurants, book stores, pharmacy etc all within walking distance.  *Easy street parking available.  *15 minute walk from walking/running trail by the water and parks nearby.  *15 mi    1\n",
       "Bright, spacious room in Bed-Stuy, short walk away from the JMZ line and the G train, with many buses nearby. A block away from a great coffee shop and laundry, quick bus ride or walk away from Speedy Romeo Pizza, Baron's, Black Swan and much more. A park nearby and right across the street from basketball courts. Two roommates, one often out of the apartment traveling and the other very kind and respectful. NO drugs Sizable room for Brooklyn, with large desk, closet space available, AC, Heat, blankets, clean sheets and towels. No use of drugs in the apartment please                                                                                                                                                                                                                                                                                                                                                                                                                                                1\n",
       "Clean and comfortable single private room in a 2 bedroom apartment. Just 25 minutes from Times Square and steps away from the best restaurants, bars and shopping Astoria has to offer! The room has a comfortable twin bed and space to unpack and relax. There is no closet but it has room to hang clothes.  I will provide clean linens, towels and shampoo. The living room, kitchen and bathroom are all shared space. Please make yourself at home but clean up after yourself. You are able to use your bedroom, the living room, kitchen and bathroom. Feel free to use all of the amenities in the kitchen and bathroom, just put them away after use. I give you a Welcome Packet when you check in with all of the information you will need about how to get to Manhattan and around Manhattan, food, bars, laundry, etc. I will also be available to make recommendations around the city. I work but will be in and out of the apartment during your stay. Astoria is a fun neighborhood, bustling with energy and lots t    1\n",
       "Gorgeous room in a fantastic building, with a pool, and in a great neighborhood! Just a walk to lots of shops and restaurants.  The room is fully furnished and has a decent sized walk in closet!  Cute and cozy! My guest room is private and cozy. You will have access to the shared bathroom and Kitchen, I would be happy to help with any information about the neighborhood you need! I live in a safe and beautiful neighborhood.  There are lots of shops and restaurants near by as well as a mall and several parks and hiking trails.  Close to major freeways as well, so easy to get around. I live right off the main drag, Ventura Blvd, where you can find anything you may need as well as catch a bus, which connects to the train system:)  Street parking only.                                                                                                                                                                                                                                                       1\n",
       "Memorable experience in NYC. Private bathroom, large room fits 3, safe and lively neighbourhood. Good karma host 1 love. Gourmet restaurants, live band bars, excellent coffees, galleries, Juice bars, walking distance to Soho, Nolita, Tribeca, little Italy, chinatown. To share with nature loving people in a relaxed atmosphere. Our vibe and chemistry makes a unique experience. Not for profit. Proper sleep and rested for NYC adventures. Your hospitality is personal. Your room is very private and the largest fit for 3 people in an L.E.S flat, Extra comfortable, minimal style..  Exclusive 242 sqft size Bedroom with BUILT- IN FULL BATHROOM on the best and safe block of the Lower East Side. Most convenient In most sought out Neighborhood. The apartment is a 2 flight of stairs walk-up in a 5 story building. I design by profession, the decor is simple to allow open space, and relax. The room is bright and spacious with a table installed for planning your day in private. I am approachable, so I     1\n",
       "My place is close to Father's Office, Kreation Kafe, Pavilions, Art's Table, and Caffe Luxxe. You’ll love my place because of the neighborhood, the light, the comfy bed, the coziness, the location to everything. My place is good for couples, solo adventurers, and business travelers.                                                                                                                                                                                                                                                                                                                                                                                                                                                                                                                                                                                                                                                                                                                                                 1\n",
       "Private English Basement apartment perfectly located to easily access all the highlights of D.C.! This is the place to be if you want to spend your vacation seeing the sights and not stuck in traffic or taking long rides on the metro.  All the advantages of being in the city while also getting to experience living like a local. Close to the major attractions in DC including the National Mall, Smithsonian Museums, U.S. Capitol Building, Eastern Market, National's Stadium and H Street restaurants. This is a newly renovated English basement apartment with full amenities.  There is a 7 foot ceiling so unlike many basement apartments in DC the apartment is able to accommodate most people not in the NBA.  The kitchen is fully equipped with everything you need to stay in in cook if you want.  There is a Keurig coffee maker with K-cups provided for your morning cup of Joe.  There is a good sized reach in closet available in the bedroom.  There is a small patio outside and a little yard space t    1\n",
       "Located in the desirable neighborhood of Soho this modern, recently renovated 3BR/2BA apartment is ideally suited for a group of 5 or 6 guests. The apartment is located on the second floor of a walk-up building on a residential street near the subway The apartment has 3 private bedrooms with a queen bed in two of the bedrooms and a full bed in the third bedroom.  All bedrooms have closets for your use.   There are two full bathrooms, a queen sleeper sofa and a washer and dryer in the apt. The kitchen has been recently renovated with modern appliances, a wine fridge and more. The whole apartment. A key greeter will meet you at the apartment when you arrive. Soho is a destination neighborhood with many designer shops, cafes, galleries, museums, restaurants and nightlife. The subway is a few blocks away.  It's easy to walk to the East Village, West Village, Tribeca, and Union Square from this location.                                                                                            1\n",
       "Practical cute private room in a two bedroom apt, clean and quiet, safe and vibrant neighborhood with deli next door, bars, jazz, cute coffee shops laundry, park overlooking Hudson River 5 min walk, just awesome It is my lovely room. It is very spacious ( for New York City standards I believe :) lots of natural light, 2 windows, AC in the living room, giant FAN in the room if you need it) You can use two closets, plenty of space to hang stuff.. I am pretty confident you will like it :D Kitchen, bathroom... Ask me everything you need, I know almost every corner of Manhattan, and I get along well with other boroughs :) Very vibrant, west side-uptown Manhattan, walking distance to the bars, restaurants, coffee shops, supermarkets, laundry, Riverside Park overviewing the Hudson river, 5 min train ride to the Central Park, 10 min to Midtown... Friendly neighborhood, super safe. 2 SUBWAY STOPS:  1 TRAIN: (on Broadway - 5 min walking distance) 145th street subway sto(URL HIDDEN)TRAINS (on St.    1\n",
       "Stay across the street from The Bean and Millennium Park! Walk to the Magnificent Mile, Grant Park, Soldier Field and museums, theater and L train! 4 beds total: 1 queen bed in the first bedroom, 2 more queen beds in the second bedroom, and queen sofa sleeper in the living room! 2 bathrooms and a kitchenette! Ideal spot in the city! Exclusive tower location, feet from The Bean and the Loop L Train! Local guidebook telling you what to hit and skip! We're from Chicago. We live here. We know the place, and we have an opinion! This is your best option for an amazing base to explore Chicago, with 7 others!   First bedroom: 1 queen bed. Second bedroom: 2 queen beds. Living room: queen sofa sleeper. 2 bathrooms, each with a shower! Towels, soap, shampoo, and hair dryer provided! Living room with HDTV with cable, wifi throughout the apartment! Full kitchenette! Pots and pans, silverware, plates and dishes are here for you! Oversized windows! Extra-high ceilings! In-building laundry! My rates a    1\n",
       "Why stay at a hotel when you could have the WHOLE place to yourself? Save yourself the hassle of daily hotel/parking fees & stay in a beautiful, NEWLY renovated unit in an amazing location!  Occidental College - 5 min The Americana at Brand Mall - 5 min Dodgers Stadium - 10 min Downtown LA/Staples Center - 15 min Hollywood - 15 min Universal Studios - 20 min.  Beverly Hills/Rodeo Drive - 25 min Disneyland/Disney California Adventures - 35 min-1 hr This duplex has everything you need! It can accommodate four people, with one queen bed and one queen sofabed. All appliances are brand new and stainless steel! This unit also includes a washer and dryer in the garage, as well as two AC units (one in the living room, and one in the bedroom). There is parking on the street as well as additional parking at the garage!  As a courtesy, we leave our guests with coffee, tea, creamer, shampoo, body wash, bar soap, toothpaste and towels! OUR goal is to make YOU feel at home. Guests can easily check i    1\n",
       "Studio style bungalow with kitchenette, private bathroom detached from main house. Close to beach and LAX. Free wifi, cable tv + hbo, street parking.  Centrally located, perfect for new comers to LA, peaceful work environment. Close proximity to Loyola Marymount University. Exits into an oasis style backyard with koi pond. Access to koi pond, back and side patio, bbq, and studio stocked with full amenities.                                                                                                                                                                                                                                                                                                                                                                                                                                                                                                                                                                                                                  1\n",
       "Second floor, one bedroom apartment, with an additional queen pullout couch located in a beautiful historic district in Lakeview.  Just steps away from Halsted street/Boystown/Wrigley field.  Conveniently located to shopping, restaurants, subway (EL) and grocery stores.  Twenty minutes by EL to the loop (city center) and other popular locations.  Close to lakefront, jogging path and bike path.  Complementary street parking passes available.                                                                                                                                                                                                                                                                                                                                                                                                                                                                                                                                                                                1\n",
       "Private room and shared bath 1 block north of USC. Free breakfast + business center. Car/bicycles if available. Parking $5/day. Great international USC community. 1 block to USC GYM/pool $15/day. Near bus/rail/downtown/venues.                                                                                                                                                                                                                                                                                                                                                                                                                                                                                                                                                                                                                                                                                                                                                                                                          1\n",
       "Our 2 bed, 1 bath cottage has an eclectic feel. Newly renovated bath, large yard with BBQ and fire. It's a quiet, family oriented neighborhood.  It fits 4 comfortably: 1 full bed in master and 2 twin beds in 2nd room. We are close to shops and food.                                                                                                                                                                                                                                                                                                                                                                                                                                                                                                                                                                                                                                                                                                                                                                                   1\n",
       "This studio is a reasonable get away near the Beach and Downtown.  We are located in the East Arts District which has a lot of activities to offer on it's own, nonetheless we are visited by tourists around the world who come to Los Angeles to visit. laundry, common area, balcony                                                                                                                                                                                                                                                                                                                                                                                                                                                                                                                                                                                                                                                                                                                                                     1\n",
       "Furnished 1 bdrm Private Guest Unit with attached bathroom, air condition, mini fridge & microwave.. Private entrance. It opens up to a large shared back yard with an outdoor bar and fire-pit. Walking distance to shopping center and bus lines.                                                                                                                                                                                                                                                                                                                                                                                                                                                                                                                                                                                                                                                                                                                                                                                         1\n",
       "Pre-war buildings and post-college co-eds fill the streets in Murray Hill. Although this boisterous locale is known for its raucous nightlife and hip cafes, Murray Hill offers more than just countless places to party.  Pre-war buildings and post-college co-eds fill the streets in Murray Hill. Although this boisterous locale is known for its raucous nightlife and hip cafes, Murray Hill offers more than just countless places to party.  Well furnished, 600 sq ft open space apartment with elevator, located in the center of NYC.  Huge windows that overlook a beautiful courtyard letting you experience the season no matter what time of year.  Great heat and AC. Hotel sized bathroom and fully equipped kitchen.   Walk out the front door and you are a few blocks from the subway (email hidden)ly neighborhood.  Either going uptown or downtown it's 15 minutes and yet walking distance to the Empire State Building.  It's a perfect home base for your New York City vacation.  For business travelers the    1\n",
       "Situated in a calm and picturesque neighborhood, this private home comes with everything you need for a delightful stay in Los Angeles. Great location  Minutes away from form museums and attractions. Situated in a beautiful quiet neighborhood, this private Urban Sanctuary is a great place to call home base while you go out and explore all that Los Angeles has to offer. Large one bedroom one bath home comes with a  fully equipped kitchen which will allow you to make your own home cooked meals.  Bright and airy, this home has lots of windows with hardwood floors. Included are some great amenities including free internet. The house does not come with parking, but there plenty of street parking and we have never had any problems finding parking. You will have access to the whole house. We strive to give our guest plenty of privacy and space to enjoy their stay. Should you need anything we are here to assist you. The house is centrally located to almost everything you could want to see and     1\n",
       "Name: description, Length: 28685, dtype: int64"
      ]
     },
     "execution_count": 22,
     "metadata": {},
     "output_type": "execute_result"
    }
   ],
   "source": [
    "df.description.value_counts()\n",
    "#Demasiado complicado utilizar esta variable para el modelo:\n",
    "    #diferentes idiomas\n",
    "    #tendrías que encontrar comunes palabras? o algún denominador que te permita clasificar la descripción en distintos niveles"
   ]
  },
  {
   "cell_type": "code",
   "execution_count": 23,
   "metadata": {},
   "outputs": [],
   "source": [
    "df.drop(\"description\", axis=1, inplace=True)"
   ]
  },
  {
   "cell_type": "code",
   "execution_count": 24,
   "metadata": {},
   "outputs": [
    {
     "data": {
      "text/plain": [
       "(28877, 24)"
      ]
     },
     "execution_count": 24,
     "metadata": {},
     "output_type": "execute_result"
    }
   ],
   "source": [
    "df.shape"
   ]
  },
  {
   "cell_type": "markdown",
   "metadata": {},
   "source": [
    "### name"
   ]
  },
  {
   "cell_type": "code",
   "execution_count": 25,
   "metadata": {},
   "outputs": [
    {
     "data": {
      "text/plain": [
       "Brooklyn Oasis                                        4\n",
       "Make的小屋（地理位置好，交通方便，洛杉矶市中心，提供机场名牌店景点等接送，包车游玩等服务）       3\n",
       "Private 1 Bedroom Apartment                           3\n",
       "Bunk bed in the Treat Street Clubhouse                3\n",
       "Spacious Private Room in Brooklyn                     3\n",
       "East Village Gem                                      3\n",
       "Venice Beach Cottage                                  3\n",
       "SHARED ROOM in VENICE BEACH HOSTEL                    3\n",
       "Cozy room in great location                           2\n",
       "East Village 2 Bedroom Apartment                      2\n",
       "Room in heart of Williamsburg                         2\n",
       "The Treehouse                                         2\n",
       "Quiet,Comfy&Spacious Room near F/G train              2\n",
       "Private Room with Two Twin Beds                       2\n",
       "Charming Brownstone Apartment                         2\n",
       "One bedroom                                           2\n",
       "Lux 2 Bedroom in Seaport Square w/wifi                2\n",
       "HOLLYWOOD BIG 3 BEDS 2 BATH/BEST LOCATION!!!          2\n",
       " Super convenience LUXURY 3BE/3BA                     2\n",
       "8 Bed Mix                                             2\n",
       "Kanmore Guest House                                   2\n",
       "Cozy Private Room                                     2\n",
       "2000sq $2 million 3 story townhouse                   2\n",
       "Downtown Crossing ARTlab, 1 Bed Apt, Boston           2\n",
       "Fun unique escape-Beacon Hill cave-Walk everywhere    2\n",
       "Sunny Williamsburg Apartment                          2\n",
       "Room with Private Bathroom in the Mission!            2\n",
       "Entire Apartment in Great Location                    2\n",
       "Brooklyn Modern Home                                  2\n",
       "In the city!Central park!                             2\n",
       "                                                     ..\n",
       "Modern 4BR, Boston w/Parking, BCEC, Seaport, Beach    1\n",
       "Large Modern Shangrila close to Manhattan Sleeps16    1\n",
       "Fabulous Los Feliz Garden House                       1\n",
       "Unique NYC Loft - Guest Room                          1\n",
       "Contemporary House  - Walking Distance to AU          1\n",
       "Comfortable Chevy Chase, DC Home                      1\n",
       "Superhost Queen Room in Best Neighborhood             1\n",
       "2 Bedroom Duplex w/Private Garden in Ft. Green, BK    1\n",
       "Lower Level Apartment near Metro                      1\n",
       "Awesome Mt views near Rose Bowl                       1\n",
       "Modern High-End Studio w/ amenities                   1\n",
       "Heart of the Big Apple! Private Small Bdrm & Bath     1\n",
       "Amazing Townhouse Close to DC's Highlights            1\n",
       "Lovely Prime Hells Kitchen Apt!                       1\n",
       "Vibrant 1BR in Venice                                 1\n",
       "1 bedroom in Heart of Chelsea                         1\n",
       "Peaceful room in single family home near Fordham      1\n",
       "bright/beautiful/trendy: room in Williamsburg loft    1\n",
       "Private Guest House in Arcadia                        1\n",
       "Private Room in Prospect Park South / Kensington      1\n",
       "Rm #1 River view Hamilton Heights                     1\n",
       "Family Home: Flat, Outer Sunset                       1\n",
       "Williamsburg style + balcony (at Bedford L stop)      1\n",
       "Spacious Designer Apartment :)                        1\n",
       "Spacious Gem to Entertain or Relax                    1\n",
       "Beautiful Spacious DC Studio                          1\n",
       "Perfect 1 bedroom - Heart of Lower East Side!         1\n",
       "Centrally located sunny bedroom in Harlem             1\n",
       "Our Newly Renovated Sunny Bedroom + 1 Bathroom        1\n",
       "Hardwood Haven                                        1\n",
       "Name: name, Length: 28765, dtype: int64"
      ]
     },
     "execution_count": 25,
     "metadata": {},
     "output_type": "execute_result"
    }
   ],
   "source": [
    "df.name.value_counts()\n",
    "#mismo tema con description"
   ]
  },
  {
   "cell_type": "code",
   "execution_count": 26,
   "metadata": {},
   "outputs": [],
   "source": [
    "df.drop(\"name\", axis=1, inplace=True)"
   ]
  },
  {
   "cell_type": "code",
   "execution_count": 27,
   "metadata": {},
   "outputs": [
    {
     "data": {
      "text/plain": [
       "(28877, 23)"
      ]
     },
     "execution_count": 27,
     "metadata": {},
     "output_type": "execute_result"
    }
   ],
   "source": [
    "df.shape"
   ]
  },
  {
   "cell_type": "code",
   "execution_count": 28,
   "metadata": {},
   "outputs": [
    {
     "data": {
      "text/html": [
       "<div>\n",
       "<style scoped>\n",
       "    .dataframe tbody tr th:only-of-type {\n",
       "        vertical-align: middle;\n",
       "    }\n",
       "\n",
       "    .dataframe tbody tr th {\n",
       "        vertical-align: top;\n",
       "    }\n",
       "\n",
       "    .dataframe thead th {\n",
       "        text-align: right;\n",
       "    }\n",
       "</style>\n",
       "<table border=\"1\" class=\"dataframe\">\n",
       "  <thead>\n",
       "    <tr style=\"text-align: right;\">\n",
       "      <th></th>\n",
       "      <th>property_type</th>\n",
       "      <th>room_type</th>\n",
       "      <th>amenities</th>\n",
       "      <th>accommodates</th>\n",
       "      <th>bathrooms</th>\n",
       "      <th>cancellation_policy</th>\n",
       "      <th>cleaning_fee</th>\n",
       "      <th>city</th>\n",
       "      <th>first_review</th>\n",
       "      <th>host_has_profile_pic</th>\n",
       "      <th>...</th>\n",
       "      <th>instant_bookable</th>\n",
       "      <th>last_review</th>\n",
       "      <th>neighbourhood</th>\n",
       "      <th>number_of_reviews</th>\n",
       "      <th>review_scores_rating</th>\n",
       "      <th>thumbnail_url</th>\n",
       "      <th>zipcode</th>\n",
       "      <th>bedrooms</th>\n",
       "      <th>beds</th>\n",
       "      <th>price</th>\n",
       "    </tr>\n",
       "  </thead>\n",
       "  <tbody>\n",
       "    <tr>\n",
       "      <th>0</th>\n",
       "      <td>Apartment</td>\n",
       "      <td>Entire home/apt</td>\n",
       "      <td>{\"Wireless Internet\",\"Air conditioning\",Kitche...</td>\n",
       "      <td>7</td>\n",
       "      <td>1.0</td>\n",
       "      <td>strict</td>\n",
       "      <td>True</td>\n",
       "      <td>NYC</td>\n",
       "      <td>2017-08-05</td>\n",
       "      <td>t</td>\n",
       "      <td>...</td>\n",
       "      <td>t</td>\n",
       "      <td>2017-09-23</td>\n",
       "      <td>Hell's Kitchen</td>\n",
       "      <td>6</td>\n",
       "      <td>93.0</td>\n",
       "      <td>https://a0.muscache.com/im/pictures/348a55fe-4...</td>\n",
       "      <td>10019</td>\n",
       "      <td>3.0</td>\n",
       "      <td>3.0</td>\n",
       "      <td>169.0</td>\n",
       "    </tr>\n",
       "    <tr>\n",
       "      <th>1</th>\n",
       "      <td>Apartment</td>\n",
       "      <td>Private room</td>\n",
       "      <td>{TV,\"Wireless Internet\",Heating,\"Smoke detecto...</td>\n",
       "      <td>2</td>\n",
       "      <td>1.0</td>\n",
       "      <td>strict</td>\n",
       "      <td>True</td>\n",
       "      <td>SF</td>\n",
       "      <td>2017-08-27</td>\n",
       "      <td>t</td>\n",
       "      <td>...</td>\n",
       "      <td>t</td>\n",
       "      <td>2017-09-05</td>\n",
       "      <td>Noe Valley</td>\n",
       "      <td>3</td>\n",
       "      <td>100.0</td>\n",
       "      <td>https://a0.muscache.com/im/pictures/82509143-4...</td>\n",
       "      <td>94131</td>\n",
       "      <td>1.0</td>\n",
       "      <td>1.0</td>\n",
       "      <td>85.0</td>\n",
       "    </tr>\n",
       "    <tr>\n",
       "      <th>2</th>\n",
       "      <td>Condominium</td>\n",
       "      <td>Entire home/apt</td>\n",
       "      <td>{TV,\"Cable TV\",\"Wireless Internet\",\"Wheelchair...</td>\n",
       "      <td>2</td>\n",
       "      <td>1.0</td>\n",
       "      <td>moderate</td>\n",
       "      <td>True</td>\n",
       "      <td>LA</td>\n",
       "      <td>2016-12-16</td>\n",
       "      <td>t</td>\n",
       "      <td>...</td>\n",
       "      <td>f</td>\n",
       "      <td>2017-04-12</td>\n",
       "      <td>Downtown</td>\n",
       "      <td>9</td>\n",
       "      <td>93.0</td>\n",
       "      <td>https://a0.muscache.com/im/pictures/61bd05d5-c...</td>\n",
       "      <td>90015</td>\n",
       "      <td>1.0</td>\n",
       "      <td>1.0</td>\n",
       "      <td>120.0</td>\n",
       "    </tr>\n",
       "    <tr>\n",
       "      <th>3</th>\n",
       "      <td>House</td>\n",
       "      <td>Private room</td>\n",
       "      <td>{TV,\"Cable TV\",\"Wireless Internet\",\"Pets live ...</td>\n",
       "      <td>2</td>\n",
       "      <td>1.0</td>\n",
       "      <td>moderate</td>\n",
       "      <td>True</td>\n",
       "      <td>SF</td>\n",
       "      <td>2016-02-13</td>\n",
       "      <td>t</td>\n",
       "      <td>...</td>\n",
       "      <td>f</td>\n",
       "      <td>2017-09-24</td>\n",
       "      <td>Richmond District</td>\n",
       "      <td>159</td>\n",
       "      <td>99.0</td>\n",
       "      <td>https://a0.muscache.com/im/pictures/0ed6c128-7...</td>\n",
       "      <td>94121</td>\n",
       "      <td>1.0</td>\n",
       "      <td>1.0</td>\n",
       "      <td>120.0</td>\n",
       "    </tr>\n",
       "    <tr>\n",
       "      <th>4</th>\n",
       "      <td>Apartment</td>\n",
       "      <td>Private room</td>\n",
       "      <td>{Internet,\"Wireless Internet\",\"Air conditionin...</td>\n",
       "      <td>2</td>\n",
       "      <td>1.0</td>\n",
       "      <td>strict</td>\n",
       "      <td>True</td>\n",
       "      <td>NYC</td>\n",
       "      <td>2013-04-28</td>\n",
       "      <td>t</td>\n",
       "      <td>...</td>\n",
       "      <td>f</td>\n",
       "      <td>2016-11-15</td>\n",
       "      <td>Alphabet City</td>\n",
       "      <td>82</td>\n",
       "      <td>93.0</td>\n",
       "      <td>https://a0.muscache.com/im/pictures/21726900/1...</td>\n",
       "      <td>10009.0</td>\n",
       "      <td>1.0</td>\n",
       "      <td>1.0</td>\n",
       "      <td>100.0</td>\n",
       "    </tr>\n",
       "  </tbody>\n",
       "</table>\n",
       "<p>5 rows × 23 columns</p>\n",
       "</div>"
      ],
      "text/plain": [
       "  property_type        room_type  \\\n",
       "0     Apartment  Entire home/apt   \n",
       "1     Apartment     Private room   \n",
       "2   Condominium  Entire home/apt   \n",
       "3         House     Private room   \n",
       "4     Apartment     Private room   \n",
       "\n",
       "                                           amenities  accommodates  bathrooms  \\\n",
       "0  {\"Wireless Internet\",\"Air conditioning\",Kitche...             7        1.0   \n",
       "1  {TV,\"Wireless Internet\",Heating,\"Smoke detecto...             2        1.0   \n",
       "2  {TV,\"Cable TV\",\"Wireless Internet\",\"Wheelchair...             2        1.0   \n",
       "3  {TV,\"Cable TV\",\"Wireless Internet\",\"Pets live ...             2        1.0   \n",
       "4  {Internet,\"Wireless Internet\",\"Air conditionin...             2        1.0   \n",
       "\n",
       "  cancellation_policy  cleaning_fee city first_review host_has_profile_pic  \\\n",
       "0              strict          True  NYC   2017-08-05                    t   \n",
       "1              strict          True   SF   2017-08-27                    t   \n",
       "2            moderate          True   LA   2016-12-16                    t   \n",
       "3            moderate          True   SF   2016-02-13                    t   \n",
       "4              strict          True  NYC   2013-04-28                    t   \n",
       "\n",
       "   ... instant_bookable last_review      neighbourhood number_of_reviews  \\\n",
       "0  ...                t  2017-09-23     Hell's Kitchen                 6   \n",
       "1  ...                t  2017-09-05         Noe Valley                 3   \n",
       "2  ...                f  2017-04-12           Downtown                 9   \n",
       "3  ...                f  2017-09-24  Richmond District               159   \n",
       "4  ...                f  2016-11-15      Alphabet City                82   \n",
       "\n",
       "  review_scores_rating                                      thumbnail_url  \\\n",
       "0                 93.0  https://a0.muscache.com/im/pictures/348a55fe-4...   \n",
       "1                100.0  https://a0.muscache.com/im/pictures/82509143-4...   \n",
       "2                 93.0  https://a0.muscache.com/im/pictures/61bd05d5-c...   \n",
       "3                 99.0  https://a0.muscache.com/im/pictures/0ed6c128-7...   \n",
       "4                 93.0  https://a0.muscache.com/im/pictures/21726900/1...   \n",
       "\n",
       "   zipcode  bedrooms beds  price  \n",
       "0    10019       3.0  3.0  169.0  \n",
       "1    94131       1.0  1.0   85.0  \n",
       "2    90015       1.0  1.0  120.0  \n",
       "3    94121       1.0  1.0  120.0  \n",
       "4  10009.0       1.0  1.0  100.0  \n",
       "\n",
       "[5 rows x 23 columns]"
      ]
     },
     "execution_count": 28,
     "metadata": {},
     "output_type": "execute_result"
    }
   ],
   "source": [
    "#first_review host_has_profile_pic host_identity_verified host_response_rate host_since instant_bookable last_review\n",
    "df.head()"
   ]
  },
  {
   "cell_type": "markdown",
   "metadata": {},
   "source": [
    "### first_review"
   ]
  },
  {
   "cell_type": "code",
   "execution_count": 29,
   "metadata": {},
   "outputs": [
    {
     "data": {
      "text/plain": [
       "2017-01-01    147\n",
       "2017-09-04    138\n",
       "2017-01-02    107\n",
       "2017-01-22    105\n",
       "2017-04-16     95\n",
       "2017-04-09     88\n",
       "2017-03-19     88\n",
       "2016-01-03     86\n",
       "2016-10-09     83\n",
       "2016-01-02     80\n",
       "2017-07-16     77\n",
       "2017-09-03     76\n",
       "2017-09-10     75\n",
       "2017-03-12     75\n",
       "2016-10-16     74\n",
       "2016-09-05     73\n",
       "2017-08-13     71\n",
       "2017-07-30     69\n",
       "2017-03-26     69\n",
       "2015-09-21     67\n",
       "2016-11-06     67\n",
       "2017-04-02     65\n",
       "2016-11-13     65\n",
       "2017-04-23     63\n",
       "2016-10-30     61\n",
       "2017-07-31     61\n",
       "2016-01-05     61\n",
       "2017-03-05     61\n",
       "2017-08-27     60\n",
       "2017-09-17     60\n",
       "             ... \n",
       "2011-07-28      1\n",
       "2010-09-21      1\n",
       "2009-05-08      1\n",
       "2011-07-21      1\n",
       "2014-01-10      1\n",
       "2011-10-17      1\n",
       "2011-12-19      1\n",
       "2011-01-25      1\n",
       "2010-05-31      1\n",
       "2011-03-21      1\n",
       "2011-07-02      1\n",
       "2011-06-08      1\n",
       "2011-07-07      1\n",
       "2012-06-22      1\n",
       "2013-01-24      1\n",
       "2009-04-20      1\n",
       "2011-02-10      1\n",
       "2012-01-20      1\n",
       "2011-07-30      1\n",
       "2010-04-06      1\n",
       "2011-05-12      1\n",
       "2010-12-18      1\n",
       "2012-07-22      1\n",
       "2013-03-12      1\n",
       "2010-06-08      1\n",
       "2012-02-09      1\n",
       "2011-03-16      1\n",
       "2010-07-18      1\n",
       "2011-11-28      1\n",
       "2011-12-26      1\n",
       "Name: first_review, Length: 2339, dtype: int64"
      ]
     },
     "execution_count": 29,
     "metadata": {},
     "output_type": "execute_result"
    }
   ],
   "source": [
    "df.first_review.value_counts()\n",
    "#Demasiados valores únicos"
   ]
  },
  {
   "cell_type": "code",
   "execution_count": 30,
   "metadata": {},
   "outputs": [
    {
     "data": {
      "text/plain": [
       "(28877, 23)"
      ]
     },
     "execution_count": 30,
     "metadata": {},
     "output_type": "execute_result"
    }
   ],
   "source": [
    "df.shape"
   ]
  },
  {
   "cell_type": "code",
   "execution_count": 31,
   "metadata": {},
   "outputs": [
    {
     "data": {
      "text/plain": [
       "(28877, 22)"
      ]
     },
     "execution_count": 31,
     "metadata": {},
     "output_type": "execute_result"
    }
   ],
   "source": [
    "df.drop(\"first_review\", axis=1, inplace=True)\n",
    "df.shape"
   ]
  },
  {
   "cell_type": "markdown",
   "metadata": {},
   "source": [
    "### host_has_profile_pic"
   ]
  },
  {
   "cell_type": "code",
   "execution_count": 32,
   "metadata": {},
   "outputs": [
    {
     "data": {
      "text/plain": [
       "t    28829\n",
       "f       48\n",
       "Name: host_has_profile_pic, dtype: int64"
      ]
     },
     "execution_count": 32,
     "metadata": {},
     "output_type": "execute_result"
    }
   ],
   "source": [
    "df.host_has_profile_pic.value_counts()\n",
    "#practicamente el 100% de los datos son \"true\", no tiene sentido meter esta columna al modelo."
   ]
  },
  {
   "cell_type": "code",
   "execution_count": 33,
   "metadata": {},
   "outputs": [
    {
     "data": {
      "text/plain": [
       "(28877, 22)"
      ]
     },
     "execution_count": 33,
     "metadata": {},
     "output_type": "execute_result"
    }
   ],
   "source": [
    "df.shape"
   ]
  },
  {
   "cell_type": "code",
   "execution_count": 34,
   "metadata": {},
   "outputs": [
    {
     "data": {
      "text/plain": [
       "(28877, 21)"
      ]
     },
     "execution_count": 34,
     "metadata": {},
     "output_type": "execute_result"
    }
   ],
   "source": [
    "df.drop(\"host_has_profile_pic\", axis=1, inplace=True)\n",
    "df.shape"
   ]
  },
  {
   "cell_type": "markdown",
   "metadata": {},
   "source": [
    "### host_identity_verified"
   ]
  },
  {
   "cell_type": "code",
   "execution_count": 35,
   "metadata": {},
   "outputs": [
    {
     "data": {
      "text/plain": [
       "t    20923\n",
       "f     7954\n",
       "Name: host_identity_verified, dtype: int64"
      ]
     },
     "execution_count": 35,
     "metadata": {},
     "output_type": "execute_result"
    }
   ],
   "source": [
    "df.host_identity_verified.value_counts()\n",
    "#Si vale la pena conservar esta columna, además, ya estan listos los datos para pasarlos a contínuos."
   ]
  },
  {
   "cell_type": "markdown",
   "metadata": {},
   "source": [
    "### host_response_rate"
   ]
  },
  {
   "cell_type": "code",
   "execution_count": 36,
   "metadata": {},
   "outputs": [],
   "source": [
    "#If you respond to all new inquiries and requests within 24 hours, then you have nothing to worry about; \n",
    "#your response rate should be 100%. Of course, if your response rate begins to falter for whatever reason, \n",
    "#your percentage will start to dip.\n",
    "#http://darebnb.com/use-airbnbs-response-rate-to-your-advantage/\n",
    "#https://www.hostyapp.com/airbnb-response-rate/\n",
    "\n",
    "#Es decir, si un host siempre ha respondido a las solicitudes de los clientes dentro de 24 horas, su hot_response_rate sera 100%\n",
    "#De lo contrario, el porcentaje ira disminuyendo."
   ]
  },
  {
   "cell_type": "code",
   "execution_count": 37,
   "metadata": {},
   "outputs": [
    {
     "data": {
      "text/plain": [
       "0     100%\n",
       "1     100%\n",
       "2     100%\n",
       "3     100%\n",
       "4     100%\n",
       "5     100%\n",
       "6     100%\n",
       "7     100%\n",
       "8     100%\n",
       "9      90%\n",
       "10    100%\n",
       "11     86%\n",
       "12    100%\n",
       "13    100%\n",
       "14    100%\n",
       "Name: host_response_rate, dtype: object"
      ]
     },
     "execution_count": 37,
     "metadata": {},
     "output_type": "execute_result"
    }
   ],
   "source": [
    "df.host_response_rate.head(n=15)"
   ]
  },
  {
   "cell_type": "code",
   "execution_count": 38,
   "metadata": {},
   "outputs": [
    {
     "data": {
      "text/plain": [
       "100%    23319\n",
       "90%      1241\n",
       "80%       540\n",
       "70%       252\n",
       "50%       219\n",
       "99%       197\n",
       "97%       180\n",
       "94%       178\n",
       "96%       174\n",
       "98%       170\n",
       "0%        165\n",
       "92%       165\n",
       "67%       158\n",
       "93%       154\n",
       "60%       152\n",
       "89%       151\n",
       "95%       151\n",
       "88%       139\n",
       "83%       137\n",
       "75%       134\n",
       "91%       123\n",
       "86%       123\n",
       "78%        48\n",
       "71%        45\n",
       "87%        44\n",
       "33%        42\n",
       "82%        37\n",
       "40%        37\n",
       "85%        32\n",
       "81%        29\n",
       "        ...  \n",
       "54%         9\n",
       "64%         8\n",
       "69%         7\n",
       "53%         7\n",
       "29%         7\n",
       "43%         7\n",
       "10%         7\n",
       "76%         7\n",
       "55%         7\n",
       "74%         6\n",
       "72%         6\n",
       "38%         4\n",
       "65%         4\n",
       "17%         3\n",
       "62%         3\n",
       "52%         3\n",
       "22%         2\n",
       "46%         2\n",
       "42%         2\n",
       "36%         2\n",
       "47%         2\n",
       "14%         1\n",
       "35%         1\n",
       "11%         1\n",
       "61%         1\n",
       "59%         1\n",
       "31%         1\n",
       "15%         1\n",
       "21%         1\n",
       "26%         1\n",
       "Name: host_response_rate, Length: 73, dtype: int64"
      ]
     },
     "execution_count": 38,
     "metadata": {},
     "output_type": "execute_result"
    }
   ],
   "source": [
    "df.host_response_rate.value_counts()\n",
    "#La mayoría de los huéspedes tienen un 100% de rate, sin embargo, no es un porcentaje tan grande como para dropear esta columna.\n",
    "#Voy a reemplazar esta columna como boleano, que sea, 1: 100% rate, 0: >100% rate. Algo como HOT y NO HOT"
   ]
  },
  {
   "cell_type": "code",
   "execution_count": 39,
   "metadata": {},
   "outputs": [
    {
     "data": {
      "text/plain": [
       "pandas.core.series.Series"
      ]
     },
     "execution_count": 39,
     "metadata": {},
     "output_type": "execute_result"
    }
   ],
   "source": [
    "type(df.host_response_rate)"
   ]
  },
  {
   "cell_type": "code",
   "execution_count": 40,
   "metadata": {},
   "outputs": [
    {
     "data": {
      "text/plain": [
       "HOT        23319\n",
       "NOT HOT     5558\n",
       "Name: host_response, dtype: int64"
      ]
     },
     "execution_count": 40,
     "metadata": {},
     "output_type": "execute_result"
    }
   ],
   "source": [
    "df['host_response']=pd.DataFrame(np.where(df.host_response_rate == '100%','HOT','NOT HOT'))\n",
    "df.host_response.value_counts()"
   ]
  },
  {
   "cell_type": "code",
   "execution_count": 41,
   "metadata": {},
   "outputs": [
    {
     "data": {
      "text/plain": [
       "(28877, 22)"
      ]
     },
     "execution_count": 41,
     "metadata": {},
     "output_type": "execute_result"
    }
   ],
   "source": [
    "df.shape"
   ]
  },
  {
   "cell_type": "code",
   "execution_count": 42,
   "metadata": {},
   "outputs": [
    {
     "data": {
      "text/plain": [
       "(28877, 21)"
      ]
     },
     "execution_count": 42,
     "metadata": {},
     "output_type": "execute_result"
    }
   ],
   "source": [
    "df.drop(\"host_response_rate\", axis=1, inplace=True)\n",
    "df.shape"
   ]
  },
  {
   "cell_type": "markdown",
   "metadata": {},
   "source": [
    "### host_since"
   ]
  },
  {
   "cell_type": "code",
   "execution_count": 43,
   "metadata": {},
   "outputs": [
    {
     "data": {
      "text/plain": [
       "2014-02-14    110\n",
       "2015-03-30     68\n",
       "2014-09-02     41\n",
       "2014-03-17     38\n",
       "2014-07-29     37\n",
       "2016-01-18     37\n",
       "2016-08-23     37\n",
       "2015-08-19     36\n",
       "2015-03-05     36\n",
       "2014-09-10     35\n",
       "2014-04-30     35\n",
       "2012-08-27     34\n",
       "2013-08-07     34\n",
       "2015-10-27     34\n",
       "2015-07-29     31\n",
       "2014-06-24     31\n",
       "2015-06-18     31\n",
       "2015-07-06     30\n",
       "2014-05-19     30\n",
       "2014-07-31     30\n",
       "2014-07-02     30\n",
       "2016-02-10     29\n",
       "2015-11-23     29\n",
       "2014-06-02     28\n",
       "2016-11-10     28\n",
       "2012-11-14     28\n",
       "2013-06-12     28\n",
       "2014-09-17     28\n",
       "2013-08-02     27\n",
       "2015-08-10     27\n",
       "             ... \n",
       "2010-07-07      1\n",
       "2009-01-02      1\n",
       "2010-04-12      1\n",
       "2009-03-09      1\n",
       "2009-07-02      1\n",
       "2010-10-08      1\n",
       "2011-03-10      1\n",
       "2009-12-06      1\n",
       "2010-12-29      1\n",
       "2009-02-23      1\n",
       "2010-06-24      1\n",
       "2010-09-11      1\n",
       "2009-11-23      1\n",
       "2009-09-26      1\n",
       "2009-02-10      1\n",
       "2011-01-22      1\n",
       "2010-06-17      1\n",
       "2010-04-04      1\n",
       "2011-09-24      1\n",
       "2011-02-18      1\n",
       "2010-01-23      1\n",
       "2008-12-31      1\n",
       "2009-08-19      1\n",
       "2010-05-02      1\n",
       "2009-01-03      1\n",
       "2015-02-28      1\n",
       "2009-02-03      1\n",
       "2010-03-25      1\n",
       "2013-03-31      1\n",
       "2010-12-17      1\n",
       "Name: host_since, Length: 2910, dtype: int64"
      ]
     },
     "execution_count": 43,
     "metadata": {},
     "output_type": "execute_result"
    }
   ],
   "source": [
    "df.host_since.value_counts()\n",
    "#Demasiados valores unicos"
   ]
  },
  {
   "cell_type": "code",
   "execution_count": 44,
   "metadata": {},
   "outputs": [
    {
     "data": {
      "text/plain": [
       "(28877, 21)"
      ]
     },
     "execution_count": 44,
     "metadata": {},
     "output_type": "execute_result"
    }
   ],
   "source": [
    "df.shape"
   ]
  },
  {
   "cell_type": "code",
   "execution_count": 45,
   "metadata": {},
   "outputs": [
    {
     "data": {
      "text/plain": [
       "(28877, 20)"
      ]
     },
     "execution_count": 45,
     "metadata": {},
     "output_type": "execute_result"
    }
   ],
   "source": [
    "df.drop(\"host_since\", axis=1, inplace=True)\n",
    "df.shape"
   ]
  },
  {
   "cell_type": "markdown",
   "metadata": {},
   "source": [
    "### instant_bookable"
   ]
  },
  {
   "cell_type": "code",
   "execution_count": 46,
   "metadata": {},
   "outputs": [
    {
     "data": {
      "text/plain": [
       "f    20005\n",
       "t     8872\n",
       "Name: instant_bookable, dtype: int64"
      ]
     },
     "execution_count": 46,
     "metadata": {},
     "output_type": "execute_result"
    }
   ],
   "source": [
    "df.instant_bookable.value_counts()\n",
    "#lista para pasar a nominal"
   ]
  },
  {
   "cell_type": "markdown",
   "metadata": {},
   "source": [
    "### last_review"
   ]
  },
  {
   "cell_type": "code",
   "execution_count": 47,
   "metadata": {},
   "outputs": [
    {
     "data": {
      "text/plain": [
       "2017-09-24    916\n",
       "2017-09-17    862\n",
       "2017-04-30    689\n",
       "2017-09-18    590\n",
       "2017-09-25    585\n",
       "2017-04-23    521\n",
       "2017-10-01    518\n",
       "2017-09-16    485\n",
       "2017-09-28    481\n",
       "2017-09-04    469\n",
       "2017-09-15    454\n",
       "2017-09-29    437\n",
       "2017-09-30    435\n",
       "2017-09-23    422\n",
       "2017-09-26    404\n",
       "2017-09-22    401\n",
       "2017-09-10    393\n",
       "2017-09-27    377\n",
       "2017-05-07    371\n",
       "2017-04-16    361\n",
       "2017-05-01    361\n",
       "2017-09-14    353\n",
       "2017-09-21    346\n",
       "2017-09-20    323\n",
       "2017-04-24    320\n",
       "2017-09-19    317\n",
       "2017-04-29    285\n",
       "2017-09-13    270\n",
       "2017-09-11    265\n",
       "2017-09-12    240\n",
       "             ... \n",
       "2015-11-20      1\n",
       "2015-12-20      1\n",
       "2014-09-14      1\n",
       "2015-02-26      1\n",
       "2016-04-03      1\n",
       "2014-11-11      1\n",
       "2014-11-19      1\n",
       "2015-07-22      1\n",
       "2014-05-30      1\n",
       "2014-12-26      1\n",
       "2014-09-22      1\n",
       "2014-08-22      1\n",
       "2013-09-01      1\n",
       "2014-01-21      1\n",
       "2016-06-11      1\n",
       "2015-06-27      1\n",
       "2013-10-29      1\n",
       "2016-01-29      1\n",
       "2015-05-19      1\n",
       "2015-09-02      1\n",
       "2016-04-18      1\n",
       "2014-08-23      1\n",
       "2015-03-22      1\n",
       "2015-09-17      1\n",
       "2014-08-28      1\n",
       "2015-10-27      1\n",
       "2013-01-05      1\n",
       "2015-06-13      1\n",
       "2015-07-05      1\n",
       "2013-08-10      1\n",
       "Name: last_review, Length: 916, dtype: int64"
      ]
     },
     "execution_count": 47,
     "metadata": {},
     "output_type": "execute_result"
    }
   ],
   "source": [
    "df.last_review.value_counts()\n",
    "#Si existiera una variable que te diga la fecha en la que fueron recolectados los datos, prodrías sacar cuántos días\n",
    "# han pasado entre el last_review y la fecha actual. Así, se puede hacer una clasificación por rangos y posiblemente sacarle\n",
    "# provecho a esta variable.\n",
    "#Por lo pronto: DROP"
   ]
  },
  {
   "cell_type": "code",
   "execution_count": 48,
   "metadata": {},
   "outputs": [
    {
     "data": {
      "text/plain": [
       "(28877, 20)"
      ]
     },
     "execution_count": 48,
     "metadata": {},
     "output_type": "execute_result"
    }
   ],
   "source": [
    "df.shape"
   ]
  },
  {
   "cell_type": "code",
   "execution_count": 49,
   "metadata": {},
   "outputs": [
    {
     "data": {
      "text/plain": [
       "(28877, 19)"
      ]
     },
     "execution_count": 49,
     "metadata": {},
     "output_type": "execute_result"
    }
   ],
   "source": [
    "df.drop(\"last_review\", axis=1, inplace=True)\n",
    "df.shape"
   ]
  },
  {
   "cell_type": "markdown",
   "metadata": {},
   "source": [
    "### thumbnail_url"
   ]
  },
  {
   "cell_type": "code",
   "execution_count": 50,
   "metadata": {},
   "outputs": [
    {
     "data": {
      "text/plain": [
       "https://a0.muscache.com/im/pictures/23033013/54d62516_original.jpg?aki_policy=small              2\n",
       "https://a0.muscache.com/im/pictures/70087089/bc66229a_original.jpg?aki_policy=small              2\n",
       "https://a0.muscache.com/im/pictures/104667326/a7a2b145_original.jpg?aki_policy=small             2\n",
       "https://a0.muscache.com/im/pictures/61042471/5543b0e0_original.jpg?aki_policy=small              2\n",
       "https://a0.muscache.com/im/pictures/4960f23e-1029-49ed-8b4f-af1cfd3db910.jpg?aki_policy=small    1\n",
       "https://a0.muscache.com/im/pictures/b4cfb8b7-dc26-4373-8c3e-494827b120c6.jpg?aki_policy=small    1\n",
       "https://a0.muscache.com/im/pictures/8933387/74a1e683_original.jpg?aki_policy=small               1\n",
       "https://a0.muscache.com/im/pictures/7661b73c-07fe-4ee4-96ec-b67b1bba3a91.jpg?aki_policy=small    1\n",
       "https://a0.muscache.com/im/pictures/08790ea6-d825-4c00-a106-b4952de3fe90.jpg?aki_policy=small    1\n",
       "https://a0.muscache.com/im/pictures/30cad971-db27-4c5e-abe6-81c7c16c37b1.jpg?aki_policy=small    1\n",
       "https://a0.muscache.com/im/pictures/9eb424af-7502-48bf-9bec-d3a6881b502e.jpg?aki_policy=small    1\n",
       "https://a0.muscache.com/im/pictures/82574562/e5fb7ff2_original.jpg?aki_policy=small              1\n",
       "https://a0.muscache.com/im/pictures/776cd664-c499-4449-940b-09fb216c1d35.jpg?aki_policy=small    1\n",
       "https://a0.muscache.com/im/pictures/108885790/48ac2872_original.jpg?aki_policy=small             1\n",
       "https://a0.muscache.com/im/pictures/b8d14660-2977-4275-b283-d7e30c8506fa.jpg?aki_policy=small    1\n",
       "https://a0.muscache.com/im/pictures/f25c4b11-cb6d-4503-aa06-b6077a1669b9.jpg?aki_policy=small    1\n",
       "https://a0.muscache.com/im/pictures/7e7dcbe6-64bb-4194-a3c6-6777e5abadc0.jpg?aki_policy=small    1\n",
       "https://a0.muscache.com/im/pictures/60304584/058c85f8_original.jpg?aki_policy=small              1\n",
       "https://a0.muscache.com/im/pictures/85096335-1c53-46c8-b510-c8a2fd6b69a8.jpg?aki_policy=small    1\n",
       "https://a0.muscache.com/im/pictures/a9a7fe1f-8993-4ba1-8424-1357e3a55121.jpg?aki_policy=small    1\n",
       "https://a0.muscache.com/im/pictures/c17273b9-e49d-4fa8-9e95-47ea2419e3fd.jpg?aki_policy=small    1\n",
       "https://a0.muscache.com/im/pictures/10766253/55b5f1a4_original.jpg?aki_policy=small              1\n",
       "https://a0.muscache.com/im/pictures/7b2035ef-7153-4eb1-850a-1e2448b8599a.jpg?aki_policy=small    1\n",
       "https://a0.muscache.com/im/pictures/6c116617-b586-44cb-87bc-a5119b9cafb9.jpg?aki_policy=small    1\n",
       "https://a0.muscache.com/im/pictures/975c435d-a988-4fb5-9036-f8bc73fb5e44.jpg?aki_policy=small    1\n",
       "https://a0.muscache.com/im/pictures/98790f44-35e3-4b69-87c1-ceed5381de09.jpg?aki_policy=small    1\n",
       "https://a0.muscache.com/im/pictures/b96b0762-a069-4e17-a1b7-1ab5cda0daeb.jpg?aki_policy=small    1\n",
       "https://a0.muscache.com/im/pictures/713f59a7-04df-49c6-aaae-11524ac5ef09.jpg?aki_policy=small    1\n",
       "https://a0.muscache.com/im/pictures/c22b9a4c-8365-4f93-ab44-a072794f1481.jpg?aki_policy=small    1\n",
       "https://a0.muscache.com/im/pictures/111389365/eb1fc6f9_original.jpg?aki_policy=small             1\n",
       "                                                                                                ..\n",
       "https://a0.muscache.com/im/pictures/0216701f-5cb4-4190-a437-0f01c930ff48.jpg?aki_policy=small    1\n",
       "https://a0.muscache.com/im/pictures/21591123/9a3f64d0_original.jpg?aki_policy=small              1\n",
       "https://a0.muscache.com/im/pictures/1667c38e-21b5-4b03-bcb2-d6fcd5ca7e95.jpg?aki_policy=small    1\n",
       "https://a0.muscache.com/im/pictures/78153012/535d57ef_original.jpg?aki_policy=small              1\n",
       "https://a0.muscache.com/im/pictures/6a36ab03-1b87-4da9-9231-6cd85d9332c7.jpg?aki_policy=small    1\n",
       "https://a0.muscache.com/im/pictures/25580766/5818dd50_original.jpg?aki_policy=small              1\n",
       "https://a0.muscache.com/im/pictures/273036d0-d301-4be3-addc-9a1b1e713554.jpg?aki_policy=small    1\n",
       "https://a0.muscache.com/im/pictures/e6a678b8-eb88-40d7-a9a3-287e7504d58f.jpg?aki_policy=small    1\n",
       "https://a0.muscache.com/im/pictures/bc124c7c-279c-45f1-8da2-c6b5cc17d37a.jpg?aki_policy=small    1\n",
       "https://a0.muscache.com/im/pictures/04de1168-781c-4b2c-8752-345c59c22765.jpg?aki_policy=small    1\n",
       "https://a0.muscache.com/im/pictures/e9863412-cf93-470e-9549-1bbfffd12dd3.jpg?aki_policy=small    1\n",
       "https://a0.muscache.com/im/pictures/cd6433d2-c232-4451-86d8-5c57ea9eeea0.jpg?aki_policy=small    1\n",
       "https://a0.muscache.com/im/pictures/3d28ce01-0bc2-45af-836c-5edf25aa1ffd.jpg?aki_policy=small    1\n",
       "https://a0.muscache.com/im/pictures/e61e6afd-bef0-40f4-9815-b92f6f50ddc0.jpg?aki_policy=small    1\n",
       "https://a0.muscache.com/im/pictures/78521349/94f11bad_original.jpg?aki_policy=small              1\n",
       "https://a0.muscache.com/im/pictures/e628cca8-e4f5-4620-94b7-f3e755a2dc92.jpg?aki_policy=small    1\n",
       "https://a0.muscache.com/im/pictures/70986424/10aaedaf_original.jpg?aki_policy=small              1\n",
       "https://a0.muscache.com/im/pictures/4461f386-5718-44ee-a6ed-e2fe73bc9612.jpg?aki_policy=small    1\n",
       "https://a0.muscache.com/im/pictures/5df77442-094a-47cd-be61-49e50c170899.jpg?aki_policy=small    1\n",
       "https://a0.muscache.com/im/pictures/248719/874ce81d_original.jpg?aki_policy=small                1\n",
       "https://a0.muscache.com/im/pictures/87919163/55c6e862_original.jpg?aki_policy=small              1\n",
       "https://a0.muscache.com/im/pictures/c4943833-d1b6-4082-80c4-af3df957c734.jpg?aki_policy=small    1\n",
       "https://a0.muscache.com/im/pictures/97319530/3128d613_original.jpg?aki_policy=small              1\n",
       "https://a0.muscache.com/im/pictures/d8293ecc-4f29-4cad-b5cb-1cd2321e310b.jpg?aki_policy=small    1\n",
       "https://a0.muscache.com/im/pictures/36653629/ae890659_original.jpg?aki_policy=small              1\n",
       "https://a0.muscache.com/im/pictures/932e97fc-668b-4a88-8a1a-2a364419b0ae.jpg?aki_policy=small    1\n",
       "https://a0.muscache.com/im/pictures/dcf8eb0e-4a6e-4ead-bb98-90791433face.jpg?aki_policy=small    1\n",
       "https://a0.muscache.com/im/pictures/108909957/db1eec6f_original.jpg?aki_policy=small             1\n",
       "https://a0.muscache.com/im/pictures/18e6bd80-1239-410e-a84b-19d526fca72c.jpg?aki_policy=small    1\n",
       "https://a0.muscache.com/im/pictures/104161602/ad367666_original.jpg?aki_policy=small             1\n",
       "Name: thumbnail_url, Length: 28873, dtype: int64"
      ]
     },
     "execution_count": 50,
     "metadata": {},
     "output_type": "execute_result"
    }
   ],
   "source": [
    "df.thumbnail_url.value_counts()"
   ]
  },
  {
   "cell_type": "code",
   "execution_count": 51,
   "metadata": {},
   "outputs": [
    {
     "data": {
      "text/plain": [
       "(28877, 19)"
      ]
     },
     "execution_count": 51,
     "metadata": {},
     "output_type": "execute_result"
    }
   ],
   "source": [
    "df.shape"
   ]
  },
  {
   "cell_type": "code",
   "execution_count": 52,
   "metadata": {},
   "outputs": [
    {
     "data": {
      "text/plain": [
       "(28877, 18)"
      ]
     },
     "execution_count": 52,
     "metadata": {},
     "output_type": "execute_result"
    }
   ],
   "source": [
    "df.drop(\"thumbnail_url\", axis=1, inplace=True)\n",
    "df.shape"
   ]
  },
  {
   "cell_type": "markdown",
   "metadata": {},
   "source": [
    "## 3. Extraer los valores de \"amenities\""
   ]
  },
  {
   "cell_type": "code",
   "execution_count": 53,
   "metadata": {},
   "outputs": [
    {
     "data": {
      "text/plain": [
       "0    {\"Wireless Internet\",\"Air conditioning\",Kitche...\n",
       "1    {TV,\"Wireless Internet\",Heating,\"Smoke detecto...\n",
       "2    {TV,\"Cable TV\",\"Wireless Internet\",\"Wheelchair...\n",
       "3    {TV,\"Cable TV\",\"Wireless Internet\",\"Pets live ...\n",
       "4    {Internet,\"Wireless Internet\",\"Air conditionin...\n",
       "Name: amenities, dtype: object"
      ]
     },
     "execution_count": 53,
     "metadata": {},
     "output_type": "execute_result"
    }
   ],
   "source": [
    "df.amenities.head()"
   ]
  },
  {
   "cell_type": "code",
   "execution_count": 54,
   "metadata": {},
   "outputs": [],
   "source": [
    "#Crear una lista de los elementos:\n",
    "#df.amenities[6].replace(\"{\",\"\").replace(\"}\",\"\").replace('\"','').split(sep=',')\n",
    "\n",
    "#for e in range(len(df)):\n",
    "    #df.amenities[e]=df.amenities[e].replace(\"{\",\"\").replace(\"}\",\"\").replace('\"','').split(sep=',')\n",
    "#este ciclo no terminó de correr, no se realmente por qué. Pero recuerdo que Yona muchas veces nos ha dicho que evitemos los ciclos.\n",
    "\n",
    "df.amenities= df.amenities.apply(lambda x: x.replace(\"{\",\"\").replace(\"}\",\"\").replace('\"','').split(sep=','))\n",
    "#es por lo anterior que aplique un lambda"
   ]
  },
  {
   "cell_type": "code",
   "execution_count": 55,
   "metadata": {},
   "outputs": [],
   "source": [
    "#Voy a crear un radio de amenities: obtendré el max(len) de amenities que existe y voy a utilizarlo para obtener un radio de \n",
    "# los demás valores. El registro que tenga este radio = 1 es el que tiene el 100% de amenidades.\n",
    "temp=[len(e) for e in df.amenities]\n",
    "amenities_ratio=[e/max(temp) for e in temp]"
   ]
  },
  {
   "cell_type": "code",
   "execution_count": 56,
   "metadata": {},
   "outputs": [],
   "source": [
    "df['amenities_ratio']=pd.DataFrame(amenities_ratio)"
   ]
  },
  {
   "cell_type": "code",
   "execution_count": 57,
   "metadata": {},
   "outputs": [
    {
     "data": {
      "text/plain": [
       "(28877, 19)"
      ]
     },
     "execution_count": 57,
     "metadata": {},
     "output_type": "execute_result"
    }
   ],
   "source": [
    "df.shape"
   ]
  },
  {
   "cell_type": "code",
   "execution_count": 58,
   "metadata": {},
   "outputs": [
    {
     "data": {
      "text/plain": [
       "(28877, 18)"
      ]
     },
     "execution_count": 58,
     "metadata": {},
     "output_type": "execute_result"
    }
   ],
   "source": [
    "df.drop(\"amenities\", axis=1, inplace=True)\n",
    "df.shape"
   ]
  },
  {
   "cell_type": "markdown",
   "metadata": {},
   "source": [
    "## 4. neighbourhood"
   ]
  },
  {
   "cell_type": "code",
   "execution_count": 59,
   "metadata": {},
   "outputs": [
    {
     "data": {
      "text/plain": [
       "Williamsburg                        1139\n",
       "Bedford-Stuyvesant                  1017\n",
       "Mid-Wilshire                         660\n",
       "Bushwick                             649\n",
       "Hell's Kitchen                       604\n",
       "Harlem                               592\n",
       "Hollywood                            568\n",
       "Upper West Side                      510\n",
       "Upper East Side                      501\n",
       "Venice                               495\n",
       "Crown Heights                        461\n",
       "Astoria                              368\n",
       "East Harlem                          363\n",
       "Mission District                     346\n",
       "Lower East Side                      337\n",
       "East Village                         314\n",
       "Chelsea                              289\n",
       "Long Beach                           278\n",
       "West Hollywood                       275\n",
       "Washington Heights                   269\n",
       "Hamilton Heights                     267\n",
       "Santa Monica                         261\n",
       "Greenpoint                           260\n",
       "Alphabet City                        251\n",
       "Clinton Hill                         246\n",
       "Park Slope                           244\n",
       "Flatbush                             236\n",
       "West Village                         231\n",
       "Downtown                             230\n",
       "Silver Lake                          210\n",
       "                                    ... \n",
       "The Castro                           132\n",
       "North Hollywood                      132\n",
       "Sunnyside                            131\n",
       "Financial District                   127\n",
       "Logan Square                         125\n",
       "Midtown                              124\n",
       "Outer Sunset                         119\n",
       "Lefferts Garden                      117\n",
       "Westwood                             116\n",
       "Greenwich Village                    116\n",
       "Kips Bay                             114\n",
       "Roxbury                              113\n",
       "Del Rey                              112\n",
       "Beacon Hill                          112\n",
       "West Los Angeles                     109\n",
       "Ridgewood                            107\n",
       "Prospect Heights                     106\n",
       "Columbia Heights                     105\n",
       "Mid-City                             104\n",
       "Westchester/Playa Del Rey            102\n",
       "Near Northeast/H Street Corridor     102\n",
       "Glendale                             101\n",
       "Fort Greene                          101\n",
       "Flushing                             101\n",
       "South LA                             101\n",
       "East New York                         97\n",
       "Lakeview                              96\n",
       "Fenway/Kenmore                        95\n",
       "Marina Del Rey                        94\n",
       "Burbank                               94\n",
       "Name: neighbourhood, Length: 80, dtype: int64"
      ]
     },
     "execution_count": 59,
     "metadata": {},
     "output_type": "execute_result"
    }
   ],
   "source": [
    "df.neighbourhood.value_counts().head(n=80)"
   ]
  },
  {
   "cell_type": "code",
   "execution_count": 60,
   "metadata": {},
   "outputs": [
    {
     "name": "stdout",
     "output_type": "stream",
     "text": [
      "13379 7571 2713 1815 1776 1623\n"
     ]
    }
   ],
   "source": [
    "print(len(df.neighbourhood[df.city == 'NYC']),\n",
    "        len(df.neighbourhood[df.city == 'LA']),\n",
    "        len(df.neighbourhood[df.city == 'SF']),\n",
    "        len(df.neighbourhood[df.city == 'DC']),\n",
    "        len(df.neighbourhood[df.city == 'Boston']),\n",
    "        len(df.neighbourhood[df.city == 'Chicago'])\n",
    "     )"
   ]
  },
  {
   "cell_type": "code",
   "execution_count": 61,
   "metadata": {},
   "outputs": [
    {
     "data": {
      "text/plain": [
       "Williamsburg          1139\n",
       "Bedford-Stuyvesant    1017\n",
       "Bushwick               649\n",
       "Hell's Kitchen         604\n",
       "Harlem                 592\n",
       "Upper West Side        510\n",
       "Upper East Side        501\n",
       "Crown Heights          461\n",
       "Astoria                368\n",
       "East Harlem            363\n",
       "Lower East Side        337\n",
       "East Village           314\n",
       "Chelsea                289\n",
       "Washington Heights     268\n",
       "Hamilton Heights       267\n",
       "Name: neighbourhood, dtype: int64"
      ]
     },
     "execution_count": 61,
     "metadata": {},
     "output_type": "execute_result"
    }
   ],
   "source": [
    "df.neighbourhood[df.city == 'NYC'].value_counts().head(n=15)"
   ]
  },
  {
   "cell_type": "code",
   "execution_count": 62,
   "metadata": {},
   "outputs": [
    {
     "data": {
      "text/plain": [
       "Mid-Wilshire                 660\n",
       "Hollywood                    568\n",
       "Venice                       495\n",
       "Long Beach                   278\n",
       "West Hollywood               275\n",
       "Santa Monica                 261\n",
       "Silver Lake                  210\n",
       "Echo Park                    186\n",
       "Pasadena                     170\n",
       "Downtown                     167\n",
       "Hollywood Hills              163\n",
       "Mar Vista                    149\n",
       "Westlake                     137\n",
       "North Hollywood              132\n",
       "Westwood                     116\n",
       "Del Rey                      112\n",
       "West Los Angeles             109\n",
       "Mid-City                     104\n",
       "Westchester/Playa Del Rey    102\n",
       "South LA                     101\n",
       "Marina Del Rey                94\n",
       "Glendale                      94\n",
       "Burbank                       94\n",
       "Sherman Oaks                  93\n",
       "Culver City                   85\n",
       "Redondo Beach                 82\n",
       "Malibu                        81\n",
       "Los Feliz                     80\n",
       "Highland Park                 80\n",
       "East Hollywood                79\n",
       "                            ... \n",
       "Palos Verdes                   4\n",
       "Montebello                     3\n",
       "Chatsworth                     3\n",
       "Pacoima                        3\n",
       "Sierra Madre                   3\n",
       "South Whittier                 3\n",
       "Porter Ranch                   3\n",
       "Bradbury                       3\n",
       "North Hills East               3\n",
       "Norwalk                        2\n",
       "West Athens                    2\n",
       "San Marino                     2\n",
       "Huntington Park                2\n",
       "West Puente Valley             2\n",
       "Lynwood                        2\n",
       "Willowbrook                    2\n",
       "Monterey Hills                 2\n",
       "Westmont                       2\n",
       "Rolling Hills Estates          1\n",
       "Paramount                      1\n",
       "Commerce                       1\n",
       "La Puente                      1\n",
       "Baldwin Park                   1\n",
       "Rolling Hills                  1\n",
       "Santa Fe Springs               1\n",
       "South El Monte                 1\n",
       "East San Gabriel               1\n",
       "Irwindale                      1\n",
       "Hawaiian Gardens               1\n",
       "Bell                           1\n",
       "Name: neighbourhood, Length: 147, dtype: int64"
      ]
     },
     "execution_count": 62,
     "metadata": {},
     "output_type": "execute_result"
    }
   ],
   "source": [
    "df.neighbourhood[df.city == 'LA'].value_counts()"
   ]
  },
  {
   "cell_type": "code",
   "execution_count": 63,
   "metadata": {},
   "outputs": [
    {
     "data": {
      "text/plain": [
       "Mission District         346\n",
       "Richmond District        167\n",
       "Bernal Heights           156\n",
       "Western Addition/NOPA    149\n",
       "Noe Valley               148\n",
       "SoMa                     144\n",
       "The Castro               132\n",
       "Outer Sunset             119\n",
       "Potrero Hill              82\n",
       "Nob Hill                  76\n",
       "Pacific Heights           73\n",
       "Haight-Ashbury            64\n",
       "Downtown                  55\n",
       "Duboce Triangle           54\n",
       "Marina                    53\n",
       "Bayview                   52\n",
       "Inner Sunset              51\n",
       "Alamo Square              47\n",
       "Excelsior                 44\n",
       "Lower Haight              43\n",
       "Russian Hill              41\n",
       "Parkside                  39\n",
       "Sunnyside                 37\n",
       "South Beach               34\n",
       "Cole Valley               34\n",
       "Glen Park                 34\n",
       "Mission Terrace           33\n",
       "Twin Peaks                31\n",
       "Hayes Valley              28\n",
       "North Beach               27\n",
       "Crocker Amazon            26\n",
       "Telegraph Hill            26\n",
       "Tenderloin                25\n",
       "Cow Hollow                24\n",
       "Visitacion Valley         23\n",
       "Chinatown                 22\n",
       "Ingleside                 18\n",
       "Balboa Terrace            17\n",
       "Oceanview                 16\n",
       "Lakeshore                 15\n",
       "Fisherman's Wharf         14\n",
       "Union Square              14\n",
       "Diamond Heights           11\n",
       "Portola                   10\n",
       "Forest Hill               10\n",
       "Presidio Heights           9\n",
       "Civic Center               9\n",
       "Financial District         8\n",
       "Dogpatch                   8\n",
       "Mission Bay                7\n",
       "West Portal                6\n",
       "Japantown                  1\n",
       "Sea Cliff                  1\n",
       "Name: neighbourhood, dtype: int64"
      ]
     },
     "execution_count": 63,
     "metadata": {},
     "output_type": "execute_result"
    }
   ],
   "source": [
    "df.neighbourhood[df.city == 'SF'].value_counts()"
   ]
  },
  {
   "cell_type": "code",
   "execution_count": 64,
   "metadata": {},
   "outputs": [
    {
     "data": {
      "text/plain": [
       "(28877, 18)"
      ]
     },
     "execution_count": 64,
     "metadata": {},
     "output_type": "execute_result"
    }
   ],
   "source": [
    "#Voy a optar por borrar la variable neighborhood, ya que hay demasiados valores unicos para cada ciudad.\n",
    "#Además, ya se tiene una columna con el código postal, que puede ayudar a sustituir esta info.\n",
    "df.shape"
   ]
  },
  {
   "cell_type": "code",
   "execution_count": 65,
   "metadata": {},
   "outputs": [
    {
     "data": {
      "text/plain": [
       "(28877, 17)"
      ]
     },
     "execution_count": 65,
     "metadata": {},
     "output_type": "execute_result"
    }
   ],
   "source": [
    "df.drop(\"neighbourhood\", axis=1, inplace=True)\n",
    "df.shape"
   ]
  },
  {
   "cell_type": "markdown",
   "metadata": {},
   "source": [
    "## 5. Na's"
   ]
  },
  {
   "cell_type": "code",
   "execution_count": 66,
   "metadata": {},
   "outputs": [
    {
     "data": {
      "text/plain": [
       "property_type             0\n",
       "room_type                 0\n",
       "accommodates              0\n",
       "bathrooms                 0\n",
       "cancellation_policy       0\n",
       "cleaning_fee              0\n",
       "city                      0\n",
       "host_identity_verified    0\n",
       "instant_bookable          0\n",
       "number_of_reviews         0\n",
       "review_scores_rating      0\n",
       "zipcode                   0\n",
       "bedrooms                  0\n",
       "beds                      0\n",
       "price                     0\n",
       "host_response             0\n",
       "amenities_ratio           0\n",
       "dtype: int64"
      ]
     },
     "execution_count": 66,
     "metadata": {},
     "output_type": "execute_result"
    }
   ],
   "source": [
    "df.isnull().sum()"
   ]
  },
  {
   "cell_type": "code",
   "execution_count": 67,
   "metadata": {},
   "outputs": [
    {
     "data": {
      "text/html": [
       "<div>\n",
       "<style scoped>\n",
       "    .dataframe tbody tr th:only-of-type {\n",
       "        vertical-align: middle;\n",
       "    }\n",
       "\n",
       "    .dataframe tbody tr th {\n",
       "        vertical-align: top;\n",
       "    }\n",
       "\n",
       "    .dataframe thead th {\n",
       "        text-align: right;\n",
       "    }\n",
       "</style>\n",
       "<table border=\"1\" class=\"dataframe\">\n",
       "  <thead>\n",
       "    <tr style=\"text-align: right;\">\n",
       "      <th></th>\n",
       "      <th>property_type</th>\n",
       "      <th>room_type</th>\n",
       "      <th>accommodates</th>\n",
       "      <th>bathrooms</th>\n",
       "      <th>cancellation_policy</th>\n",
       "      <th>cleaning_fee</th>\n",
       "      <th>city</th>\n",
       "      <th>host_identity_verified</th>\n",
       "      <th>instant_bookable</th>\n",
       "      <th>number_of_reviews</th>\n",
       "      <th>review_scores_rating</th>\n",
       "      <th>zipcode</th>\n",
       "      <th>bedrooms</th>\n",
       "      <th>beds</th>\n",
       "      <th>price</th>\n",
       "      <th>host_response</th>\n",
       "      <th>amenities_ratio</th>\n",
       "    </tr>\n",
       "  </thead>\n",
       "  <tbody>\n",
       "    <tr>\n",
       "      <th>0</th>\n",
       "      <td>Apartment</td>\n",
       "      <td>Entire home/apt</td>\n",
       "      <td>7</td>\n",
       "      <td>1.0</td>\n",
       "      <td>strict</td>\n",
       "      <td>True</td>\n",
       "      <td>NYC</td>\n",
       "      <td>f</td>\n",
       "      <td>t</td>\n",
       "      <td>6</td>\n",
       "      <td>93.0</td>\n",
       "      <td>10019</td>\n",
       "      <td>3.0</td>\n",
       "      <td>3.0</td>\n",
       "      <td>169.0</td>\n",
       "      <td>HOT</td>\n",
       "      <td>0.194805</td>\n",
       "    </tr>\n",
       "    <tr>\n",
       "      <th>1</th>\n",
       "      <td>Apartment</td>\n",
       "      <td>Private room</td>\n",
       "      <td>2</td>\n",
       "      <td>1.0</td>\n",
       "      <td>strict</td>\n",
       "      <td>True</td>\n",
       "      <td>SF</td>\n",
       "      <td>t</td>\n",
       "      <td>t</td>\n",
       "      <td>3</td>\n",
       "      <td>100.0</td>\n",
       "      <td>94131</td>\n",
       "      <td>1.0</td>\n",
       "      <td>1.0</td>\n",
       "      <td>85.0</td>\n",
       "      <td>HOT</td>\n",
       "      <td>0.129870</td>\n",
       "    </tr>\n",
       "    <tr>\n",
       "      <th>2</th>\n",
       "      <td>Condominium</td>\n",
       "      <td>Entire home/apt</td>\n",
       "      <td>2</td>\n",
       "      <td>1.0</td>\n",
       "      <td>moderate</td>\n",
       "      <td>True</td>\n",
       "      <td>LA</td>\n",
       "      <td>t</td>\n",
       "      <td>f</td>\n",
       "      <td>9</td>\n",
       "      <td>93.0</td>\n",
       "      <td>90015</td>\n",
       "      <td>1.0</td>\n",
       "      <td>1.0</td>\n",
       "      <td>120.0</td>\n",
       "      <td>HOT</td>\n",
       "      <td>0.337662</td>\n",
       "    </tr>\n",
       "    <tr>\n",
       "      <th>3</th>\n",
       "      <td>House</td>\n",
       "      <td>Private room</td>\n",
       "      <td>2</td>\n",
       "      <td>1.0</td>\n",
       "      <td>moderate</td>\n",
       "      <td>True</td>\n",
       "      <td>SF</td>\n",
       "      <td>f</td>\n",
       "      <td>f</td>\n",
       "      <td>159</td>\n",
       "      <td>99.0</td>\n",
       "      <td>94121</td>\n",
       "      <td>1.0</td>\n",
       "      <td>1.0</td>\n",
       "      <td>120.0</td>\n",
       "      <td>HOT</td>\n",
       "      <td>0.272727</td>\n",
       "    </tr>\n",
       "    <tr>\n",
       "      <th>4</th>\n",
       "      <td>Apartment</td>\n",
       "      <td>Private room</td>\n",
       "      <td>2</td>\n",
       "      <td>1.0</td>\n",
       "      <td>strict</td>\n",
       "      <td>True</td>\n",
       "      <td>NYC</td>\n",
       "      <td>t</td>\n",
       "      <td>f</td>\n",
       "      <td>82</td>\n",
       "      <td>93.0</td>\n",
       "      <td>10009.0</td>\n",
       "      <td>1.0</td>\n",
       "      <td>1.0</td>\n",
       "      <td>100.0</td>\n",
       "      <td>HOT</td>\n",
       "      <td>0.194805</td>\n",
       "    </tr>\n",
       "  </tbody>\n",
       "</table>\n",
       "</div>"
      ],
      "text/plain": [
       "  property_type        room_type  accommodates  bathrooms cancellation_policy  \\\n",
       "0     Apartment  Entire home/apt             7        1.0              strict   \n",
       "1     Apartment     Private room             2        1.0              strict   \n",
       "2   Condominium  Entire home/apt             2        1.0            moderate   \n",
       "3         House     Private room             2        1.0            moderate   \n",
       "4     Apartment     Private room             2        1.0              strict   \n",
       "\n",
       "   cleaning_fee city host_identity_verified instant_bookable  \\\n",
       "0          True  NYC                      f                t   \n",
       "1          True   SF                      t                t   \n",
       "2          True   LA                      t                f   \n",
       "3          True   SF                      f                f   \n",
       "4          True  NYC                      t                f   \n",
       "\n",
       "   number_of_reviews  review_scores_rating  zipcode  bedrooms  beds  price  \\\n",
       "0                  6                  93.0    10019       3.0   3.0  169.0   \n",
       "1                  3                 100.0    94131       1.0   1.0   85.0   \n",
       "2                  9                  93.0    90015       1.0   1.0  120.0   \n",
       "3                159                  99.0    94121       1.0   1.0  120.0   \n",
       "4                 82                  93.0  10009.0       1.0   1.0  100.0   \n",
       "\n",
       "  host_response  amenities_ratio  \n",
       "0           HOT         0.194805  \n",
       "1           HOT         0.129870  \n",
       "2           HOT         0.337662  \n",
       "3           HOT         0.272727  \n",
       "4           HOT         0.194805  "
      ]
     },
     "execution_count": 67,
     "metadata": {},
     "output_type": "execute_result"
    }
   ],
   "source": [
    "df.head()"
   ]
  },
  {
   "cell_type": "markdown",
   "metadata": {},
   "source": [
    "## 6. Outliers y normalización de variables contínuas."
   ]
  },
  {
   "cell_type": "markdown",
   "metadata": {},
   "source": [
    "### accomodates"
   ]
  },
  {
   "cell_type": "code",
   "execution_count": 68,
   "metadata": {},
   "outputs": [
    {
     "data": {
      "text/plain": [
       "2     12713\n",
       "4      4915\n",
       "3      3135\n",
       "1      2861\n",
       "6      2050\n",
       "5      1373\n",
       "8       719\n",
       "7       405\n",
       "10      282\n",
       "9       111\n",
       "16       98\n",
       "12       95\n",
       "14       49\n",
       "11       40\n",
       "15       17\n",
       "13       14\n",
       "Name: accommodates, dtype: int64"
      ]
     },
     "execution_count": 68,
     "metadata": {},
     "output_type": "execute_result"
    }
   ],
   "source": [
    "df.accommodates.value_counts()"
   ]
  },
  {
   "cell_type": "code",
   "execution_count": 69,
   "metadata": {},
   "outputs": [
    {
     "data": {
      "image/png": "[encoded data removed]",
      "text/plain": [
       "<Figure size 432x288 with 1 Axes>"
      ]
     },
     "metadata": {
      "needs_background": "light"
     },
     "output_type": "display_data"
    }
   ],
   "source": [
    "plt.hist(df.accommodates,bins=15);"
   ]
  },
  {
   "cell_type": "markdown",
   "metadata": {},
   "source": [
    "### bathrooms"
   ]
  },
  {
   "cell_type": "code",
   "execution_count": 70,
   "metadata": {},
   "outputs": [
    {
     "data": {
      "text/plain": [
       "1.0    23105\n",
       "2.0     2929\n",
       "1.5     1475\n",
       "2.5      502\n",
       "3.0      378\n",
       "3.5      134\n",
       "4.0       97\n",
       "0.0       84\n",
       "0.5       67\n",
       "4.5       35\n",
       "5.0       25\n",
       "8.0       20\n",
       "5.5       13\n",
       "6.0        6\n",
       "6.5        3\n",
       "7.0        2\n",
       "7.5        2\n",
       "Name: bathrooms, dtype: int64"
      ]
     },
     "execution_count": 70,
     "metadata": {},
     "output_type": "execute_result"
    }
   ],
   "source": [
    "df.bathrooms.value_counts()\n",
    "#hace sentido que existan \"mitades\" de un baño? \n",
    "#Si lo tiene para airbnb: https://twitter.com/airbnbhelp/status/684855675265101825?lang=en"
   ]
  },
  {
   "cell_type": "code",
   "execution_count": 71,
   "metadata": {},
   "outputs": [
    {
     "data": {
      "image/png": "[encoded data removed]",
      "text/plain": [
       "<Figure size 432x288 with 1 Axes>"
      ]
     },
     "metadata": {
      "needs_background": "light"
     },
     "output_type": "display_data"
    }
   ],
   "source": [
    "plt.hist(df.bathrooms);"
   ]
  },
  {
   "cell_type": "markdown",
   "metadata": {},
   "source": [
    "### number_of_reviews"
   ]
  },
  {
   "cell_type": "code",
   "execution_count": 72,
   "metadata": {},
   "outputs": [
    {
     "data": {
      "text/plain": [
       "1      2079\n",
       "2      1740\n",
       "3      1550\n",
       "4      1257\n",
       "5      1177\n",
       "6       932\n",
       "7       881\n",
       "8       830\n",
       "9       717\n",
       "10      662\n",
       "11      585\n",
       "12      535\n",
       "14      534\n",
       "13      515\n",
       "15      494\n",
       "16      482\n",
       "18      433\n",
       "19      403\n",
       "17      388\n",
       "20      357\n",
       "22      347\n",
       "21      341\n",
       "23      316\n",
       "24      297\n",
       "26      292\n",
       "28      283\n",
       "25      269\n",
       "27      261\n",
       "29      257\n",
       "31      255\n",
       "       ... \n",
       "349       1\n",
       "525       1\n",
       "254       1\n",
       "286       1\n",
       "382       1\n",
       "303       1\n",
       "360       1\n",
       "328       1\n",
       "327       1\n",
       "311       1\n",
       "338       1\n",
       "354       1\n",
       "370       1\n",
       "291       1\n",
       "451       1\n",
       "260       1\n",
       "388       1\n",
       "532       1\n",
       "229       1\n",
       "277       1\n",
       "309       1\n",
       "341       1\n",
       "389       1\n",
       "453       1\n",
       "469       1\n",
       "326       1\n",
       "374       1\n",
       "383       1\n",
       "295       1\n",
       "279       1\n",
       "Name: number_of_reviews, Length: 347, dtype: int64"
      ]
     },
     "execution_count": 72,
     "metadata": {},
     "output_type": "execute_result"
    }
   ],
   "source": [
    "df.number_of_reviews.value_counts()\n",
    "#No se cómo esta columna me ayude.\n",
    "#Podría generar rangos de clasificación, pero mi primer rango se llevaría la mayoría de los datos..."
   ]
  },
  {
   "cell_type": "code",
   "execution_count": 73,
   "metadata": {},
   "outputs": [
    {
     "data": {
      "image/png": "[encoded data removed]",
      "text/plain": [
       "<Figure size 432x288 with 1 Axes>"
      ]
     },
     "metadata": {
      "needs_background": "light"
     },
     "output_type": "display_data"
    }
   ],
   "source": [
    "plt.hist(df.number_of_reviews,bins=30);"
   ]
  },
  {
   "cell_type": "markdown",
   "metadata": {},
   "source": [
    "### review_scores_rating"
   ]
  },
  {
   "cell_type": "code",
   "execution_count": 74,
   "metadata": {},
   "outputs": [
    {
     "data": {
      "text/plain": [
       "100.0    7007\n",
       "98.0     2512\n",
       "97.0     2314\n",
       "96.0     2286\n",
       "95.0     2036\n",
       "93.0     1872\n",
       "99.0     1587\n",
       "94.0     1508\n",
       "90.0     1269\n",
       "92.0     1143\n",
       "91.0      903\n",
       "80.0      753\n",
       "89.0      659\n",
       "88.0      574\n",
       "87.0      513\n",
       "85.0      340\n",
       "86.0      274\n",
       "84.0      246\n",
       "83.0      208\n",
       "60.0      137\n",
       "82.0      106\n",
       "81.0       83\n",
       "70.0       73\n",
       "73.0       63\n",
       "79.0       53\n",
       "78.0       52\n",
       "75.0       50\n",
       "77.0       38\n",
       "76.0       36\n",
       "20.0       27\n",
       "67.0       27\n",
       "74.0       21\n",
       "40.0       21\n",
       "65.0       16\n",
       "72.0       16\n",
       "50.0       10\n",
       "68.0       10\n",
       "47.0        5\n",
       "64.0        5\n",
       "71.0        5\n",
       "69.0        4\n",
       "63.0        3\n",
       "53.0        3\n",
       "57.0        1\n",
       "54.0        1\n",
       "62.0        1\n",
       "27.0        1\n",
       "35.0        1\n",
       "56.0        1\n",
       "55.0        1\n",
       "49.0        1\n",
       "66.0        1\n",
       "Name: review_scores_rating, dtype: int64"
      ]
     },
     "execution_count": 74,
     "metadata": {},
     "output_type": "execute_result"
    }
   ],
   "source": [
    "df.review_scores_rating.value_counts()\n",
    "#datos limpios\n",
    "#genero rangos de clasificación?"
   ]
  },
  {
   "cell_type": "code",
   "execution_count": 75,
   "metadata": {},
   "outputs": [
    {
     "data": {
      "image/png": "[encoded data removed]",
      "text/plain": [
       "<Figure size 432x288 with 1 Axes>"
      ]
     },
     "metadata": {
      "needs_background": "light"
     },
     "output_type": "display_data"
    }
   ],
   "source": [
    "plt.hist(df.review_scores_rating,bins=20);"
   ]
  },
  {
   "cell_type": "markdown",
   "metadata": {},
   "source": [
    "### bedrooms"
   ]
  },
  {
   "cell_type": "code",
   "execution_count": 76,
   "metadata": {},
   "outputs": [
    {
     "data": {
      "text/plain": [
       "1.0     19309\n",
       "2.0      4534\n",
       "0.0      2758\n",
       "3.0      1618\n",
       "4.0       478\n",
       "5.0       119\n",
       "6.0        36\n",
       "7.0        15\n",
       "8.0         5\n",
       "10.0        3\n",
       "9.0         2\n",
       "Name: bedrooms, dtype: int64"
      ]
     },
     "execution_count": 76,
     "metadata": {},
     "output_type": "execute_result"
    }
   ],
   "source": [
    "df.bedrooms.value_counts()\n",
    "#datos limpios"
   ]
  },
  {
   "cell_type": "code",
   "execution_count": 77,
   "metadata": {},
   "outputs": [
    {
     "data": {
      "image/png": "[encoded data removed]",
      "text/plain": [
       "<Figure size 432x288 with 1 Axes>"
      ]
     },
     "metadata": {
      "needs_background": "light"
     },
     "output_type": "display_data"
    }
   ],
   "source": [
    "plt.hist(df.bedrooms);"
   ]
  },
  {
   "cell_type": "markdown",
   "metadata": {},
   "source": [
    "### beds"
   ]
  },
  {
   "cell_type": "code",
   "execution_count": 78,
   "metadata": {},
   "outputs": [
    {
     "data": {
      "text/plain": [
       "1.0     16991\n",
       "2.0      6786\n",
       "3.0      2724\n",
       "4.0      1288\n",
       "5.0       536\n",
       "6.0       263\n",
       "8.0        87\n",
       "7.0        81\n",
       "10.0       38\n",
       "9.0        36\n",
       "16.0       13\n",
       "12.0       12\n",
       "11.0       10\n",
       "13.0        7\n",
       "15.0        2\n",
       "18.0        1\n",
       "14.0        1\n",
       "0.0         1\n",
       "Name: beds, dtype: int64"
      ]
     },
     "execution_count": 78,
     "metadata": {},
     "output_type": "execute_result"
    }
   ],
   "source": [
    "df.beds.value_counts()\n",
    "#datos limpios"
   ]
  },
  {
   "cell_type": "code",
   "execution_count": 79,
   "metadata": {},
   "outputs": [
    {
     "data": {
      "image/png": "[encoded data removed]",
      "text/plain": [
       "<Figure size 432x288 with 1 Axes>"
      ]
     },
     "metadata": {
      "needs_background": "light"
     },
     "output_type": "display_data"
    }
   ],
   "source": [
    "plt.hist(df.beds, bins=15);"
   ]
  },
  {
   "cell_type": "markdown",
   "metadata": {},
   "source": [
    "### price"
   ]
  },
  {
   "cell_type": "code",
   "execution_count": 80,
   "metadata": {},
   "outputs": [
    {
     "data": {
      "text/plain": [
       "150.0     961\n",
       "100.0     891\n",
       "75.0      782\n",
       "99.0      717\n",
       "65.0      695\n",
       "125.0     683\n",
       "60.0      662\n",
       "50.0      646\n",
       "200.0     621\n",
       "120.0     616\n",
       "80.0      607\n",
       "70.0      599\n",
       "90.0      585\n",
       "85.0      568\n",
       "95.0      543\n",
       "55.0      486\n",
       "250.0     485\n",
       "110.0     449\n",
       "175.0     430\n",
       "45.0      406\n",
       "130.0     337\n",
       "89.0      334\n",
       "115.0     330\n",
       "69.0      328\n",
       "140.0     314\n",
       "199.0     307\n",
       "79.0      307\n",
       "135.0     295\n",
       "40.0      287\n",
       "300.0     280\n",
       "         ... \n",
       "459.0       1\n",
       "1285.0      1\n",
       "615.0       1\n",
       "352.0       1\n",
       "496.0       1\n",
       "760.0       1\n",
       "436.0       1\n",
       "377.0       1\n",
       "970.0       1\n",
       "301.0       1\n",
       "993.0       1\n",
       "848.0       1\n",
       "1150.0      1\n",
       "1300.0      1\n",
       "504.0       1\n",
       "334.0       1\n",
       "417.0       1\n",
       "539.0       1\n",
       "358.0       1\n",
       "354.0       1\n",
       "1450.0      1\n",
       "1750.0      1\n",
       "1195.0      1\n",
       "530.0       1\n",
       "338.0       1\n",
       "262.0       1\n",
       "482.0       1\n",
       "266.0       1\n",
       "509.0       1\n",
       "1040.0      1\n",
       "Name: price, Length: 564, dtype: int64"
      ]
     },
     "execution_count": 80,
     "metadata": {},
     "output_type": "execute_result"
    }
   ],
   "source": [
    "df.price.value_counts()\n",
    "#datos limpios"
   ]
  },
  {
   "cell_type": "code",
   "execution_count": 81,
   "metadata": {},
   "outputs": [
    {
     "data": {
      "image/png": "[encoded data removed]",
      "text/plain": [
       "<Figure size 432x288 with 1 Axes>"
      ]
     },
     "metadata": {
      "needs_background": "light"
     },
     "output_type": "display_data"
    }
   ],
   "source": [
    "plt.hist(df.price, bins=15);"
   ]
  },
  {
   "cell_type": "markdown",
   "metadata": {},
   "source": [
    "## 7. Generación de clasificaciones de zipcode"
   ]
  },
  {
   "cell_type": "code",
   "execution_count": 82,
   "metadata": {},
   "outputs": [
    {
     "data": {
      "text/plain": [
       "11221                                                   536\n",
       "11211.0                                                 523\n",
       "90291                                                   465\n",
       "94110                                                   440\n",
       "20002                                                   356\n",
       "10019                                                   334\n",
       "10002                                                   308\n",
       "90046                                                   303\n",
       "10009.0                                                 299\n",
       "10036                                                   291\n",
       "11216                                                   289\n",
       "90026                                                   274\n",
       "11222                                                   270\n",
       "20001                                                   270\n",
       "94114                                                   269\n",
       "20009                                                   262\n",
       "10031                                                   259\n",
       "10029.0                                                 259\n",
       "10027                                                   257\n",
       "90028                                                   257\n",
       "11237                                                   256\n",
       "11215                                                   254\n",
       "11233                                                   242\n",
       "10025                                                   237\n",
       "11206                                                   236\n",
       "10014                                                   225\n",
       "10012                                                   222\n",
       "90036                                                   216\n",
       "90066                                                   210\n",
       "11249.0                                                 209\n",
       "                                                       ... \n",
       "02143                                                     1\n",
       "11366                                                     1\n",
       "90604                                                     1\n",
       "90071                                                     1\n",
       "10301.0                                                   1\n",
       "90036-2514                                                1\n",
       "10048                                                     1\n",
       "90670                                                     1\n",
       "91744                                                     1\n",
       "90222                                                     1\n",
       "90716                                                     1\n",
       "10467.0                                                   1\n",
       "20815                                                     1\n",
       "90201                                                     1\n",
       "91606-1412                                                1\n",
       "94104.0                                                   1\n",
       "90039-2715                                                1\n",
       "60639                                                     1\n",
       "60619                                                     1\n",
       "20004                                                     1\n",
       "60652                                                     1\n",
       "95202\\r\\r\\r\\r\\r\\r\\n\\r\\r\\r\\r\\r\\r\\n\\r\\r\\r\\r\\r\\r\\n94158      1\n",
       "11377.0                                                   1\n",
       "10471                                                     1\n",
       "11219.0                                                   1\n",
       "10302                                                     1\n",
       "10003-8623                                                1\n",
       "20052                                                     1\n",
       "90002                                                     1\n",
       "11412.0                                                   1\n",
       "Name: zipcode, Length: 629, dtype: int64"
      ]
     },
     "execution_count": 82,
     "metadata": {},
     "output_type": "execute_result"
    }
   ],
   "source": [
    "df.zipcode.value_counts()"
   ]
  },
  {
   "cell_type": "code",
   "execution_count": 83,
   "metadata": {},
   "outputs": [],
   "source": [
    "df.zipcode=df.zipcode.apply(lambda x: x[0:5])"
   ]
  },
  {
   "cell_type": "code",
   "execution_count": 84,
   "metadata": {},
   "outputs": [
    {
     "data": {
      "text/plain": [
       "11211    630\n",
       "11221    538\n",
       "90291    465\n",
       "94110    440\n",
       "11216    429\n",
       "11206    403\n",
       "10002    398\n",
       "20002    356\n",
       "10009    352\n",
       "11238    342\n",
       "10019    335\n",
       "90046    303\n",
       "10003    298\n",
       "11237    297\n",
       "10036    291\n",
       "11233    289\n",
       "11222    280\n",
       "90026    274\n",
       "94114    271\n",
       "20001    271\n",
       "10027    262\n",
       "20009    262\n",
       "10029    261\n",
       "10031    259\n",
       "90028    257\n",
       "11215    254\n",
       "10011    248\n",
       "10025    237\n",
       "94117    235\n",
       "11249    235\n",
       "        ... \n",
       "91733      1\n",
       "20782      1\n",
       "10550      1\n",
       "10279      1\n",
       "60652      1\n",
       "90220      1\n",
       "10270      1\n",
       "10309      1\n",
       "60639      1\n",
       "91706      1\n",
       "95202      1\n",
       "20815      1\n",
       "20004      1\n",
       "90201      1\n",
       "90604      1\n",
       "10129      1\n",
       "90040      1\n",
       "90713      1\n",
       "90222      1\n",
       "90059      1\n",
       "90071      1\n",
       "90061      1\n",
       "1m         1\n",
       "11366      1\n",
       "90044      1\n",
       "02143      1\n",
       "60619      1\n",
       "02199      1\n",
       "60707      1\n",
       "91775      1\n",
       "Name: zipcode, Length: 545, dtype: int64"
      ]
     },
     "execution_count": 84,
     "metadata": {},
     "output_type": "execute_result"
    }
   ],
   "source": [
    "df.zipcode.value_counts()"
   ]
  },
  {
   "cell_type": "code",
   "execution_count": 85,
   "metadata": {},
   "outputs": [
    {
     "data": {
      "text/plain": [
       "0    0\n",
       "1    0\n",
       "2    0\n",
       "3    0\n",
       "4    0\n",
       "Name: regions, dtype: int64"
      ]
     },
     "execution_count": 85,
     "metadata": {},
     "output_type": "execute_result"
    }
   ],
   "source": [
    "#Voy a clasificar los zipcodes por region o 'sectional center facility':\n",
    "#https://en.wikipedia.org/wiki/ZIP_Code#By_geography:\n",
    "    #ZIP Codes are numbered with the first digit representing a certain group of U.S. states, the second and third digits \n",
    "    #together representing a region in that group (or perhaps a large city) and the fourth and fifth digits representing a group \n",
    "    #of delivery addresses within that region.\n",
    "#https://en.wikipedia.org/wiki/Sectional_center_facility\n",
    "\n",
    "#Pondre estos nuevos valores en una nueva variable:\n",
    "df['regions'] = 0\n",
    "df.regions.head()"
   ]
  },
  {
   "cell_type": "code",
   "execution_count": 86,
   "metadata": {},
   "outputs": [],
   "source": [
    "#¿Cómo no loopear todo el DATAFRAME y llenar los valores indicados de Regions?\n",
    "#for e in df.zipcode[df.city==\"NYC\"].index:\n",
    "#    print(df.zipcode[e])\n",
    "\n",
    "#Loopear el índice específico de cada City y llenar ese índice específico con el nuevo valor en Regions"
   ]
  },
  {
   "cell_type": "code",
   "execution_count": 87,
   "metadata": {},
   "outputs": [],
   "source": [
    "#######  NUEVA YORK  ##########\n",
    "'''\n",
    "New York (100-102; 104 The Bronx) Morgan General Mail Facility, 341 Ninth Avenue, New York, NY 10199[4]\n",
    "Brooklyn (103 Staten Island; 112 Brooklyn; 116 Far Rockaway) 1050 Forbell Street #2005, Brooklyn, NY 11256[4]\n",
    "Westchester (105-109; Connecticut 066, 068, 069) 1000 Westchester Avenue, White Plains, NY 10610[4]\n",
    "Queens (110 Floral Park; 111 Long Island City; 113 Flushing; 114 Jamaica) 142-02 20th Avenue, College Point, NY 11356[4][5]\n",
    "Western Nassau (115) 830 Stewart Avenue, Garden City[4]\n",
    "Mid-Island (117-119, IRS 005) 160 Duryea Road, Melville[4]\n",
    "Albany (120-123, 128, 129), 30 Old Karner Road, Albany\n",
    "Mid-Hudson (124-127), 99 Enterprise Drive, Newburgh\n",
    "Syracuse (130-139), 5640 E. Taft Road, Syracuse\n",
    "Buffalo (140-143, 147), 1200 William Street, Buffalo\n",
    "Rochester (144-146, 148, 149, Pennsylvania 167), 1335 Jefferson Road, Rochester\n",
    "'''\n",
    "for e in df.zipcode[df.city==\"NYC\"].index:\n",
    "    if df.zipcode[e].startswith((\"100\",\"101\",\"102\",\"104\")):\n",
    "        df.regions[e] = \"New York Mains\"\n",
    "    elif df.zipcode[e].startswith((\"103\",\"112\",\"116\")):\n",
    "        df.regions[e] = \"Brooklyn\"\n",
    "    elif df.zipcode[e].startswith((\"105\",\"106\",\"107\",\"108\",\"109\")):\n",
    "        df.regions[e] = \"Westchester\"\n",
    "    elif df.zipcode[e].startswith((\"110\",\"111\",\"113\",\"114\")):\n",
    "        df.regions[e] = \"Queens\"\n",
    "#    elif df.zipcode[e].startswith((\"115\")):\n",
    "#        df.regions[e] = \"Western Nassau\"\n",
    "#    elif df.zipcode[e].startswith((\"117\",\"118\",\"119\",\"160\")):\n",
    "#        df.regions[e] = \"Mid-Island\"\n",
    "#    elif df.zipcode[e].startswith((\"120\",\"121\",\"122\",\"123\",\"128\",\"129\")):\n",
    "#        df.regions[e] = \"Albany\"\n",
    "#    elif df.zipcode[e].startswith((\"124\",\"125\",\"126\",\"127\")):\n",
    "#        df.regions[e] = \"Mid-Hudson\"\n",
    "#    elif df.zipcode[e].startswith((\"130\",\"131\",\"132\",\"133\",\"134\",\"135\",\"136\",\"137\",\"138\",\"139\")):\n",
    "#        df.regions[e] = \"Syracuse\"\n",
    "#    elif df.zipcode[e].startswith((\"140\",\"141\",\"142\",\"143\",\"147\")):\n",
    "#        df.regions[e] = \"Buffalo\"\n",
    "#    elif df.zipcode[e].startswith((\"144\",\"145\",\"146\",\"148\",\"149\")):\n",
    "#        df.regions[e] = \"Rochester\""
   ]
  },
  {
   "cell_type": "code",
   "execution_count": 88,
   "metadata": {},
   "outputs": [
    {
     "data": {
      "text/plain": [
       "0                 15499\n",
       "New York Mains     6262\n",
       "Brooklyn           5714\n",
       "Queens             1401\n",
       "Westchester           1\n",
       "Name: regions, dtype: int64"
      ]
     },
     "execution_count": 88,
     "metadata": {},
     "output_type": "execute_result"
    }
   ],
   "source": [
    "df.regions.value_counts()"
   ]
  },
  {
   "cell_type": "code",
   "execution_count": 89,
   "metadata": {},
   "outputs": [
    {
     "data": {
      "text/plain": [
       "New York Mains    6262\n",
       "Brooklyn          5714\n",
       "Queens            1401\n",
       "Westchester          1\n",
       "0                    1\n",
       "Name: regions, dtype: int64"
      ]
     },
     "execution_count": 89,
     "metadata": {},
     "output_type": "execute_result"
    }
   ],
   "source": [
    "df.regions[df.city == 'NYC'].value_counts()\n",
    "#Hay dos valores que no fueron cubiertos por los elifs...pendiente!!!!"
   ]
  },
  {
   "cell_type": "code",
   "execution_count": 90,
   "metadata": {},
   "outputs": [],
   "source": [
    "#######  LA  ##########\n",
    "'''\n",
    "Los Angeles (900-905, 907, 908) 7001 S. Central Ave., Los Angeles, CA 90052-9998\n",
    "Industry (906, 917, 918) 15421 E Gale Ave., City of Industry, CA 91715-9608\n",
    "Santa Clarita (910-916) 28201 Franklin Pkwy., Santa Clarita, CA 91383-9998[2]\n",
    "San Diego (919-921) 11251 Rancho Carmel Drive, San Diego, CA 92199-9998\n",
    "San Bernardino (922-925) 1900 W Redlands Blvd., San Bernardino, CA 92403-9997\n",
    "Santa Ana (926-927) 3101 W. Sunflower Ave., Santa Ana, CA 92799-0101\n",
    "Anaheim (928) 5335 E. La Palma Ave., Anaheim, CA 92899-9002\n",
    "Santa Barbara (930-931, 934) 400 Storke Road, Goleta, CA 93117\n",
    "Bakersfield (932-933, 935)\n",
    "Fresno (936-937, IRS 938)\n",
    "San Jose (939, 950-951) 1750 Lundy Avenue, San Jose, CA 95101-9998\n",
    "San Francisco (940-941, 943-944, 949, 954)\n",
    "Sacramento (942, 952-953, 956-959) 3775 Industrial Blvd., West Sacramento, CA 95799-9998\n",
    "Oakland (945-948) 1675 7th St, Oakland, CA 94615\n",
    "Eureka (955)\n",
    "Redding (960)\n",
    "'''\n",
    "for e in df.zipcode[df.city==\"LA\"].index:\n",
    "    if df.zipcode[e].startswith((\"900\",\"901\",\"902\")):\n",
    "        df.regions[e] = \"LA Mains\"\n",
    "    elif df.zipcode[e].startswith((\"903\")):\n",
    "        df.regions[e] = \"Inglewood\"\n",
    "    elif df.zipcode[e].startswith((\"904\")):\n",
    "        df.regions[e] = \"Santa Monica\"\n",
    "    elif df.zipcode[e].startswith((\"905\")):\n",
    "        df.regions[e] = \"Torrance\"\n",
    "    elif df.zipcode[e].startswith((\"907\",\"908\")):\n",
    "        df.regions[e] = \"Long Beach\"\n",
    "    elif df.zipcode[e].startswith((\"906\",\"917\",\"918\")):\n",
    "        df.regions[e] = \"Industry\"\n",
    "    elif df.zipcode[e].startswith((\"910\",\"911\",\"912\",\"913\",\"914\",\"915\",\"916\")):\n",
    "        df.regions[e] = \"Santa Clarita\"\n",
    "#    elif df.zipcode[e].startswith((\"919\",\"920\",\"921\")):\n",
    "#        df.regions[e] = \"San Diego\"\n",
    "#    elif df.zipcode[e].startswith((\"922\",\"923\",\"924\",\"925\",\"147\")):\n",
    "#        df.regions[e] = \"San Bernardino\""
   ]
  },
  {
   "cell_type": "code",
   "execution_count": 91,
   "metadata": {},
   "outputs": [
    {
     "data": {
      "text/plain": [
       "0                 7928\n",
       "New York Mains    6262\n",
       "Brooklyn          5714\n",
       "LA Mains          5420\n",
       "Queens            1401\n",
       "Santa Clarita     1190\n",
       "Long Beach         356\n",
       "Santa Monica       273\n",
       "Industry           235\n",
       "Inglewood           55\n",
       "Torrance            42\n",
       "Westchester          1\n",
       "Name: regions, dtype: int64"
      ]
     },
     "execution_count": 91,
     "metadata": {},
     "output_type": "execute_result"
    }
   ],
   "source": [
    "df.regions.value_counts()"
   ]
  },
  {
   "cell_type": "code",
   "execution_count": 92,
   "metadata": {},
   "outputs": [
    {
     "data": {
      "text/plain": [
       "LA Mains         5420\n",
       "Santa Clarita    1190\n",
       "Long Beach        356\n",
       "Santa Monica      273\n",
       "Industry          235\n",
       "Inglewood          55\n",
       "Torrance           42\n",
       "Name: regions, dtype: int64"
      ]
     },
     "execution_count": 92,
     "metadata": {},
     "output_type": "execute_result"
    }
   ],
   "source": [
    "df.regions[df.city == 'LA'].value_counts()\n",
    "#Los elifs que agregue son necesarios para cubrir todos los zipcodes de esta cuidad"
   ]
  },
  {
   "cell_type": "code",
   "execution_count": 93,
   "metadata": {},
   "outputs": [
    {
     "data": {
      "text/plain": [
       "60622    179\n",
       "60647    174\n",
       "60614    108\n",
       "60618     88\n",
       "60608     85\n",
       "60657     79\n",
       "60613     74\n",
       "60640     69\n",
       "60642     66\n",
       "60610     65\n",
       "60626     53\n",
       "60612     48\n",
       "60615     42\n",
       "60660     41\n",
       "60653     40\n",
       "60616     40\n",
       "60625     39\n",
       "60641     28\n",
       "60637     27\n",
       "60611     27\n",
       "60605     27\n",
       "60645     22\n",
       "60607     22\n",
       "60602     20\n",
       "60623     19\n",
       "60654     17\n",
       "60601     14\n",
       "60624     12\n",
       "60661     12\n",
       "60651      9\n",
       "60649      9\n",
       "60630      9\n",
       "60659      7\n",
       "60609      6\n",
       "60634      6\n",
       "60643      5\n",
       "60621      5\n",
       "60629      4\n",
       "60644      4\n",
       "60632      4\n",
       "60638      3\n",
       "60646      3\n",
       "60631      3\n",
       "60656      3\n",
       "60620      2\n",
       "60652      1\n",
       "60707      1\n",
       "60639      1\n",
       "60619      1\n",
       "Name: zipcode, dtype: int64"
      ]
     },
     "execution_count": 93,
     "metadata": {},
     "output_type": "execute_result"
    }
   ],
   "source": [
    "#######  Chicago  ##########\n",
    "df.zipcode[df.city == 'Chicago'].value_counts()\n",
    "#Chicago es una región por si mismo, y los únicas regiones que tienen sus valores son 606 o 607."
   ]
  },
  {
   "cell_type": "code",
   "execution_count": 94,
   "metadata": {},
   "outputs": [],
   "source": [
    "for e in df.zipcode[df.city==\"Chicago\"].index:\n",
    "        df.regions[e] = \"Chicago\""
   ]
  },
  {
   "cell_type": "code",
   "execution_count": 95,
   "metadata": {},
   "outputs": [
    {
     "data": {
      "text/plain": [
       "0                 6305\n",
       "New York Mains    6262\n",
       "Brooklyn          5714\n",
       "LA Mains          5420\n",
       "Chicago           1623\n",
       "Queens            1401\n",
       "Santa Clarita     1190\n",
       "Long Beach         356\n",
       "Santa Monica       273\n",
       "Industry           235\n",
       "Inglewood           55\n",
       "Torrance            42\n",
       "Westchester          1\n",
       "Name: regions, dtype: int64"
      ]
     },
     "execution_count": 95,
     "metadata": {},
     "output_type": "execute_result"
    }
   ],
   "source": [
    "df.regions.value_counts()"
   ]
  },
  {
   "cell_type": "code",
   "execution_count": 96,
   "metadata": {},
   "outputs": [
    {
     "data": {
      "text/plain": [
       "array(['NYC', 'SF', 'LA', 'Boston', 'DC', 'Chicago'], dtype=object)"
      ]
     },
     "execution_count": 96,
     "metadata": {},
     "output_type": "execute_result"
    }
   ],
   "source": [
    "df.city.unique()"
   ]
  },
  {
   "cell_type": "code",
   "execution_count": 97,
   "metadata": {},
   "outputs": [
    {
     "data": {
      "text/plain": [
       "94110    440\n",
       "94114    271\n",
       "94117    235\n",
       "94109    158\n",
       "94103    144\n",
       "94107    143\n",
       "94115    137\n",
       "94112    135\n",
       "94131    134\n",
       "94122    127\n",
       "94118    102\n",
       "94123    101\n",
       "94133     86\n",
       "94102     82\n",
       "94116     78\n",
       "94121     72\n",
       "94124     51\n",
       "94127     51\n",
       "94108     49\n",
       "94134     38\n",
       "94105     33\n",
       "94132     24\n",
       "94158      8\n",
       "94014      6\n",
       "94111      4\n",
       "94104      3\n",
       "95202      1\n",
       "Name: zipcode, dtype: int64"
      ]
     },
     "execution_count": 97,
     "metadata": {},
     "output_type": "execute_result"
    }
   ],
   "source": [
    "#######  SF  ##########\n",
    "df.zipcode[df.city == 'SF'].value_counts()\n",
    "#Mismo caso de Chicago para San Francisco"
   ]
  },
  {
   "cell_type": "code",
   "execution_count": 98,
   "metadata": {},
   "outputs": [],
   "source": [
    "for e in df.zipcode[df.city==\"SF\"].index:\n",
    "        df.regions[e] = \"San Francisco\""
   ]
  },
  {
   "cell_type": "code",
   "execution_count": 99,
   "metadata": {},
   "outputs": [
    {
     "data": {
      "text/plain": [
       "New York Mains    6262\n",
       "Brooklyn          5714\n",
       "LA Mains          5420\n",
       "0                 3592\n",
       "San Francisco     2713\n",
       "Chicago           1623\n",
       "Queens            1401\n",
       "Santa Clarita     1190\n",
       "Long Beach         356\n",
       "Santa Monica       273\n",
       "Industry           235\n",
       "Inglewood           55\n",
       "Torrance            42\n",
       "Westchester          1\n",
       "Name: regions, dtype: int64"
      ]
     },
     "execution_count": 99,
     "metadata": {},
     "output_type": "execute_result"
    }
   ],
   "source": [
    "df.regions.value_counts()"
   ]
  },
  {
   "cell_type": "code",
   "execution_count": 100,
   "metadata": {},
   "outputs": [
    {
     "data": {
      "text/plain": [
       "02116    179\n",
       "02130    151\n",
       "02127    121\n",
       "02118    109\n",
       "02135    103\n",
       "02134     99\n",
       "02114     99\n",
       "02128     81\n",
       "02215     80\n",
       "02125     80\n",
       "02115     69\n",
       "02119     67\n",
       "02113     60\n",
       "02129     54\n",
       "02124     51\n",
       "02131     51\n",
       "02111     48\n",
       "02108     45\n",
       "02122     44\n",
       "02109     29\n",
       "02121     27\n",
       "02132     26\n",
       "02120     23\n",
       "02136     20\n",
       "02110     18\n",
       "02210     18\n",
       "02126     15\n",
       "02467      5\n",
       "02145      2\n",
       "02199      1\n",
       "02143      1\n",
       "Name: zipcode, dtype: int64"
      ]
     },
     "execution_count": 100,
     "metadata": {},
     "output_type": "execute_result"
    }
   ],
   "source": [
    "#######  Boston  ##########\n",
    "df.zipcode[df.city == 'Boston'].value_counts()\n",
    "#Mismo caso de Chicago y SF para Boston"
   ]
  },
  {
   "cell_type": "code",
   "execution_count": 101,
   "metadata": {},
   "outputs": [],
   "source": [
    "for e in df.zipcode[df.city==\"Boston\"].index:\n",
    "        df.regions[e] = \"Boston\""
   ]
  },
  {
   "cell_type": "code",
   "execution_count": 102,
   "metadata": {},
   "outputs": [
    {
     "data": {
      "text/plain": [
       "New York Mains    6262\n",
       "Brooklyn          5714\n",
       "LA Mains          5420\n",
       "San Francisco     2713\n",
       "0                 1816\n",
       "Boston            1776\n",
       "Chicago           1623\n",
       "Queens            1401\n",
       "Santa Clarita     1190\n",
       "Long Beach         356\n",
       "Santa Monica       273\n",
       "Industry           235\n",
       "Inglewood           55\n",
       "Torrance            42\n",
       "Westchester          1\n",
       "Name: regions, dtype: int64"
      ]
     },
     "execution_count": 102,
     "metadata": {},
     "output_type": "execute_result"
    }
   ],
   "source": [
    "df.regions.value_counts()"
   ]
  },
  {
   "cell_type": "code",
   "execution_count": 103,
   "metadata": {},
   "outputs": [
    {
     "data": {
      "text/plain": [
       "20002    356\n",
       "20001    271\n",
       "20009    262\n",
       "20003    136\n",
       "20011    126\n",
       "20010    115\n",
       "20007     74\n",
       "20024     55\n",
       "20020     53\n",
       "20017     48\n",
       "20008     48\n",
       "20037     43\n",
       "20019     42\n",
       "20018     39\n",
       "20005     34\n",
       "20016     30\n",
       "20012     27\n",
       "20036     18\n",
       "20015     15\n",
       "20032      7\n",
       "20006      6\n",
       "20712      3\n",
       "20910      2\n",
       "20052      1\n",
       "20782      1\n",
       "20815      1\n",
       "20816      1\n",
       "20004      1\n",
       "Name: zipcode, dtype: int64"
      ]
     },
     "execution_count": 103,
     "metadata": {},
     "output_type": "execute_result"
    }
   ],
   "source": [
    "#######  Boston  ##########\n",
    "df.zipcode[df.city == 'DC'].value_counts()\n",
    "#Mismo caso de Chicago/SF/Boston para DC"
   ]
  },
  {
   "cell_type": "code",
   "execution_count": 104,
   "metadata": {},
   "outputs": [],
   "source": [
    "for e in df.zipcode[df.city==\"DC\"].index:\n",
    "        df.regions[e] = \"Washington\""
   ]
  },
  {
   "cell_type": "code",
   "execution_count": 105,
   "metadata": {},
   "outputs": [
    {
     "data": {
      "text/plain": [
       "New York Mains    6262\n",
       "Brooklyn          5714\n",
       "LA Mains          5420\n",
       "San Francisco     2713\n",
       "Washington        1815\n",
       "Boston            1776\n",
       "Chicago           1623\n",
       "Queens            1401\n",
       "Santa Clarita     1190\n",
       "Long Beach         356\n",
       "Santa Monica       273\n",
       "Industry           235\n",
       "Inglewood           55\n",
       "Torrance            42\n",
       "Westchester          1\n",
       "0                    1\n",
       "Name: regions, dtype: int64"
      ]
     },
     "execution_count": 105,
     "metadata": {},
     "output_type": "execute_result"
    }
   ],
   "source": [
    "df.regions.value_counts()\n",
    "#Con esta nueva clasificación, puedo dropear la columna ZipCode y City, y usar esta en su lugar.\n",
    "#Voy a clasificar como others a todos menos a los primeros 9"
   ]
  },
  {
   "cell_type": "code",
   "execution_count": 106,
   "metadata": {},
   "outputs": [],
   "source": [
    "for e in range(len(df.regions)):\n",
    "    if df.regions[e] not in ['New York Mains','Brooklyn','LA Mains','San Francisco','Washington','Boston','Chicago','Queens','Santa Clarita']:\n",
    "        df.regions[e] = \"Other\""
   ]
  },
  {
   "cell_type": "code",
   "execution_count": 107,
   "metadata": {},
   "outputs": [
    {
     "data": {
      "text/plain": [
       "New York Mains    6262\n",
       "Brooklyn          5714\n",
       "LA Mains          5420\n",
       "San Francisco     2713\n",
       "Washington        1815\n",
       "Boston            1776\n",
       "Chicago           1623\n",
       "Queens            1401\n",
       "Santa Clarita     1190\n",
       "Other              963\n",
       "Name: regions, dtype: int64"
      ]
     },
     "execution_count": 107,
     "metadata": {},
     "output_type": "execute_result"
    }
   ],
   "source": [
    "df.regions.value_counts()"
   ]
  },
  {
   "cell_type": "code",
   "execution_count": 108,
   "metadata": {},
   "outputs": [],
   "source": [
    "df.drop(\"zipcode\", axis=1, inplace=True)\n",
    "df.drop(\"city\", axis=1, inplace=True)\n",
    "#df.shape"
   ]
  },
  {
   "cell_type": "markdown",
   "metadata": {},
   "source": [
    "## 8. De categóricas a nominal"
   ]
  },
  {
   "cell_type": "code",
   "execution_count": 109,
   "metadata": {},
   "outputs": [
    {
     "data": {
      "text/plain": [
       "property_type              object\n",
       "room_type                  object\n",
       "accommodates                int64\n",
       "bathrooms                 float64\n",
       "cancellation_policy        object\n",
       "cleaning_fee                 bool\n",
       "host_identity_verified     object\n",
       "instant_bookable           object\n",
       "number_of_reviews           int64\n",
       "review_scores_rating      float64\n",
       "bedrooms                  float64\n",
       "beds                      float64\n",
       "price                     float64\n",
       "host_response              object\n",
       "amenities_ratio           float64\n",
       "regions                    object\n",
       "dtype: object"
      ]
     },
     "execution_count": 109,
     "metadata": {},
     "output_type": "execute_result"
    }
   ],
   "source": [
    "df.dtypes"
   ]
  },
  {
   "cell_type": "code",
   "execution_count": 110,
   "metadata": {},
   "outputs": [
    {
     "data": {
      "text/html": [
       "<div>\n",
       "<style scoped>\n",
       "    .dataframe tbody tr th:only-of-type {\n",
       "        vertical-align: middle;\n",
       "    }\n",
       "\n",
       "    .dataframe tbody tr th {\n",
       "        vertical-align: top;\n",
       "    }\n",
       "\n",
       "    .dataframe thead th {\n",
       "        text-align: right;\n",
       "    }\n",
       "</style>\n",
       "<table border=\"1\" class=\"dataframe\">\n",
       "  <thead>\n",
       "    <tr style=\"text-align: right;\">\n",
       "      <th></th>\n",
       "      <th>property_type</th>\n",
       "      <th>room_type</th>\n",
       "      <th>accommodates</th>\n",
       "      <th>bathrooms</th>\n",
       "      <th>cancellation_policy</th>\n",
       "      <th>cleaning_fee</th>\n",
       "      <th>host_identity_verified</th>\n",
       "      <th>instant_bookable</th>\n",
       "      <th>number_of_reviews</th>\n",
       "      <th>review_scores_rating</th>\n",
       "      <th>bedrooms</th>\n",
       "      <th>beds</th>\n",
       "      <th>price</th>\n",
       "      <th>host_response</th>\n",
       "      <th>amenities_ratio</th>\n",
       "      <th>regions</th>\n",
       "    </tr>\n",
       "  </thead>\n",
       "  <tbody>\n",
       "    <tr>\n",
       "      <th>0</th>\n",
       "      <td>Apartment</td>\n",
       "      <td>Entire home/apt</td>\n",
       "      <td>7</td>\n",
       "      <td>1.0</td>\n",
       "      <td>strict</td>\n",
       "      <td>True</td>\n",
       "      <td>f</td>\n",
       "      <td>t</td>\n",
       "      <td>6</td>\n",
       "      <td>93.0</td>\n",
       "      <td>3.0</td>\n",
       "      <td>3.0</td>\n",
       "      <td>169.0</td>\n",
       "      <td>HOT</td>\n",
       "      <td>0.194805</td>\n",
       "      <td>New York Mains</td>\n",
       "    </tr>\n",
       "    <tr>\n",
       "      <th>1</th>\n",
       "      <td>Apartment</td>\n",
       "      <td>Private room</td>\n",
       "      <td>2</td>\n",
       "      <td>1.0</td>\n",
       "      <td>strict</td>\n",
       "      <td>True</td>\n",
       "      <td>t</td>\n",
       "      <td>t</td>\n",
       "      <td>3</td>\n",
       "      <td>100.0</td>\n",
       "      <td>1.0</td>\n",
       "      <td>1.0</td>\n",
       "      <td>85.0</td>\n",
       "      <td>HOT</td>\n",
       "      <td>0.129870</td>\n",
       "      <td>San Francisco</td>\n",
       "    </tr>\n",
       "    <tr>\n",
       "      <th>2</th>\n",
       "      <td>Condominium</td>\n",
       "      <td>Entire home/apt</td>\n",
       "      <td>2</td>\n",
       "      <td>1.0</td>\n",
       "      <td>moderate</td>\n",
       "      <td>True</td>\n",
       "      <td>t</td>\n",
       "      <td>f</td>\n",
       "      <td>9</td>\n",
       "      <td>93.0</td>\n",
       "      <td>1.0</td>\n",
       "      <td>1.0</td>\n",
       "      <td>120.0</td>\n",
       "      <td>HOT</td>\n",
       "      <td>0.337662</td>\n",
       "      <td>LA Mains</td>\n",
       "    </tr>\n",
       "    <tr>\n",
       "      <th>3</th>\n",
       "      <td>House</td>\n",
       "      <td>Private room</td>\n",
       "      <td>2</td>\n",
       "      <td>1.0</td>\n",
       "      <td>moderate</td>\n",
       "      <td>True</td>\n",
       "      <td>f</td>\n",
       "      <td>f</td>\n",
       "      <td>159</td>\n",
       "      <td>99.0</td>\n",
       "      <td>1.0</td>\n",
       "      <td>1.0</td>\n",
       "      <td>120.0</td>\n",
       "      <td>HOT</td>\n",
       "      <td>0.272727</td>\n",
       "      <td>San Francisco</td>\n",
       "    </tr>\n",
       "    <tr>\n",
       "      <th>4</th>\n",
       "      <td>Apartment</td>\n",
       "      <td>Private room</td>\n",
       "      <td>2</td>\n",
       "      <td>1.0</td>\n",
       "      <td>strict</td>\n",
       "      <td>True</td>\n",
       "      <td>t</td>\n",
       "      <td>f</td>\n",
       "      <td>82</td>\n",
       "      <td>93.0</td>\n",
       "      <td>1.0</td>\n",
       "      <td>1.0</td>\n",
       "      <td>100.0</td>\n",
       "      <td>HOT</td>\n",
       "      <td>0.194805</td>\n",
       "      <td>New York Mains</td>\n",
       "    </tr>\n",
       "  </tbody>\n",
       "</table>\n",
       "</div>"
      ],
      "text/plain": [
       "  property_type        room_type  accommodates  bathrooms cancellation_policy  \\\n",
       "0     Apartment  Entire home/apt             7        1.0              strict   \n",
       "1     Apartment     Private room             2        1.0              strict   \n",
       "2   Condominium  Entire home/apt             2        1.0            moderate   \n",
       "3         House     Private room             2        1.0            moderate   \n",
       "4     Apartment     Private room             2        1.0              strict   \n",
       "\n",
       "   cleaning_fee host_identity_verified instant_bookable  number_of_reviews  \\\n",
       "0          True                      f                t                  6   \n",
       "1          True                      t                t                  3   \n",
       "2          True                      t                f                  9   \n",
       "3          True                      f                f                159   \n",
       "4          True                      t                f                 82   \n",
       "\n",
       "   review_scores_rating  bedrooms  beds  price host_response  amenities_ratio  \\\n",
       "0                  93.0       3.0   3.0  169.0           HOT         0.194805   \n",
       "1                 100.0       1.0   1.0   85.0           HOT         0.129870   \n",
       "2                  93.0       1.0   1.0  120.0           HOT         0.337662   \n",
       "3                  99.0       1.0   1.0  120.0           HOT         0.272727   \n",
       "4                  93.0       1.0   1.0  100.0           HOT         0.194805   \n",
       "\n",
       "          regions  \n",
       "0  New York Mains  \n",
       "1   San Francisco  \n",
       "2        LA Mains  \n",
       "3   San Francisco  \n",
       "4  New York Mains  "
      ]
     },
     "execution_count": 110,
     "metadata": {},
     "output_type": "execute_result"
    }
   ],
   "source": [
    "df.head()"
   ]
  },
  {
   "cell_type": "code",
   "execution_count": 111,
   "metadata": {},
   "outputs": [],
   "source": [
    "###### Los valores que son booleanos, los convertire con un label-encoding  #####################\n",
    "#cleaning_fee, host_identity_verified, instant_bookable, host_response"
   ]
  },
  {
   "cell_type": "code",
   "execution_count": 112,
   "metadata": {},
   "outputs": [
    {
     "data": {
      "text/plain": [
       "True     23693\n",
       "False     5184\n",
       "Name: cleaning_fee, dtype: int64"
      ]
     },
     "execution_count": 112,
     "metadata": {},
     "output_type": "execute_result"
    }
   ],
   "source": [
    "df.cleaning_fee.value_counts()"
   ]
  },
  {
   "cell_type": "code",
   "execution_count": 113,
   "metadata": {},
   "outputs": [
    {
     "data": {
      "text/plain": [
       "t    20923\n",
       "f     7954\n",
       "Name: host_identity_verified, dtype: int64"
      ]
     },
     "execution_count": 113,
     "metadata": {},
     "output_type": "execute_result"
    }
   ],
   "source": [
    "df.host_identity_verified.value_counts()"
   ]
  },
  {
   "cell_type": "code",
   "execution_count": 114,
   "metadata": {},
   "outputs": [
    {
     "data": {
      "text/plain": [
       "f    20005\n",
       "t     8872\n",
       "Name: instant_bookable, dtype: int64"
      ]
     },
     "execution_count": 114,
     "metadata": {},
     "output_type": "execute_result"
    }
   ],
   "source": [
    "df.instant_bookable.value_counts()"
   ]
  },
  {
   "cell_type": "code",
   "execution_count": 115,
   "metadata": {},
   "outputs": [
    {
     "data": {
      "text/plain": [
       "HOT        23319\n",
       "NOT HOT     5558\n",
       "Name: host_response, dtype: int64"
      ]
     },
     "execution_count": 115,
     "metadata": {},
     "output_type": "execute_result"
    }
   ],
   "source": [
    "df.host_response.value_counts()"
   ]
  },
  {
   "cell_type": "code",
   "execution_count": 116,
   "metadata": {},
   "outputs": [
    {
     "data": {
      "text/plain": [
       "1    23693\n",
       "0     5184\n",
       "Name: value, dtype: int64"
      ]
     },
     "execution_count": 116,
     "metadata": {},
     "output_type": "execute_result"
    }
   ],
   "source": [
    "from sklearn import preprocessing\n",
    "le = preprocessing.LabelEncoder()\n",
    "\n",
    "pd.DataFrame(le.fit_transform(df.cleaning_fee), columns=[\"value\"]).value.value_counts() #CORRECTO para cleaning_fee"
   ]
  },
  {
   "cell_type": "code",
   "execution_count": 117,
   "metadata": {},
   "outputs": [
    {
     "data": {
      "text/plain": [
       "1    23693\n",
       "0     5184\n",
       "Name: cleaning_fee, dtype: int64"
      ]
     },
     "execution_count": 117,
     "metadata": {},
     "output_type": "execute_result"
    }
   ],
   "source": [
    "df.cleaning_fee=pd.DataFrame(le.fit_transform(df.cleaning_fee))\n",
    "df.cleaning_fee.value_counts()"
   ]
  },
  {
   "cell_type": "code",
   "execution_count": 118,
   "metadata": {},
   "outputs": [
    {
     "data": {
      "text/plain": [
       "1    20923\n",
       "0     7954\n",
       "Name: value, dtype: int64"
      ]
     },
     "execution_count": 118,
     "metadata": {},
     "output_type": "execute_result"
    }
   ],
   "source": [
    "pd.DataFrame(le.fit_transform(df.host_identity_verified), columns=[\"value\"]).value.value_counts() #CORRECTO para host_identity_verified"
   ]
  },
  {
   "cell_type": "code",
   "execution_count": 119,
   "metadata": {},
   "outputs": [
    {
     "data": {
      "text/plain": [
       "1    20923\n",
       "0     7954\n",
       "Name: host_identity_verified, dtype: int64"
      ]
     },
     "execution_count": 119,
     "metadata": {},
     "output_type": "execute_result"
    }
   ],
   "source": [
    "df.host_identity_verified=pd.DataFrame(le.fit_transform(df.host_identity_verified))\n",
    "df.host_identity_verified.value_counts()"
   ]
  },
  {
   "cell_type": "code",
   "execution_count": 120,
   "metadata": {},
   "outputs": [
    {
     "data": {
      "text/plain": [
       "0    20005\n",
       "1     8872\n",
       "Name: value, dtype: int64"
      ]
     },
     "execution_count": 120,
     "metadata": {},
     "output_type": "execute_result"
    }
   ],
   "source": [
    "pd.DataFrame(le.fit_transform(df.instant_bookable), columns=[\"value\"]).value.value_counts() #CORRECTO para instant_bookable"
   ]
  },
  {
   "cell_type": "code",
   "execution_count": 121,
   "metadata": {},
   "outputs": [
    {
     "data": {
      "text/plain": [
       "0    20005\n",
       "1     8872\n",
       "Name: instant_bookable, dtype: int64"
      ]
     },
     "execution_count": 121,
     "metadata": {},
     "output_type": "execute_result"
    }
   ],
   "source": [
    "df.instant_bookable=pd.DataFrame(le.fit_transform(df.instant_bookable))\n",
    "df.instant_bookable.value_counts()"
   ]
  },
  {
   "cell_type": "code",
   "execution_count": 122,
   "metadata": {},
   "outputs": [
    {
     "data": {
      "text/plain": [
       "1    23319\n",
       "0     5558\n",
       "Name: host_response, dtype: int64"
      ]
     },
     "execution_count": 122,
     "metadata": {},
     "output_type": "execute_result"
    }
   ],
   "source": [
    "df.host_response=np.where(df.host_response == \"HOT\",1,0)\n",
    "df.host_response.value_counts()"
   ]
  },
  {
   "cell_type": "code",
   "execution_count": 123,
   "metadata": {},
   "outputs": [
    {
     "data": {
      "text/html": [
       "<div>\n",
       "<style scoped>\n",
       "    .dataframe tbody tr th:only-of-type {\n",
       "        vertical-align: middle;\n",
       "    }\n",
       "\n",
       "    .dataframe tbody tr th {\n",
       "        vertical-align: top;\n",
       "    }\n",
       "\n",
       "    .dataframe thead th {\n",
       "        text-align: right;\n",
       "    }\n",
       "</style>\n",
       "<table border=\"1\" class=\"dataframe\">\n",
       "  <thead>\n",
       "    <tr style=\"text-align: right;\">\n",
       "      <th></th>\n",
       "      <th>property_type</th>\n",
       "      <th>room_type</th>\n",
       "      <th>accommodates</th>\n",
       "      <th>bathrooms</th>\n",
       "      <th>cancellation_policy</th>\n",
       "      <th>cleaning_fee</th>\n",
       "      <th>host_identity_verified</th>\n",
       "      <th>instant_bookable</th>\n",
       "      <th>number_of_reviews</th>\n",
       "      <th>review_scores_rating</th>\n",
       "      <th>bedrooms</th>\n",
       "      <th>beds</th>\n",
       "      <th>price</th>\n",
       "      <th>host_response</th>\n",
       "      <th>amenities_ratio</th>\n",
       "      <th>regions</th>\n",
       "    </tr>\n",
       "  </thead>\n",
       "  <tbody>\n",
       "    <tr>\n",
       "      <th>0</th>\n",
       "      <td>Apartment</td>\n",
       "      <td>Entire home/apt</td>\n",
       "      <td>7</td>\n",
       "      <td>1.0</td>\n",
       "      <td>strict</td>\n",
       "      <td>1</td>\n",
       "      <td>0</td>\n",
       "      <td>1</td>\n",
       "      <td>6</td>\n",
       "      <td>93.0</td>\n",
       "      <td>3.0</td>\n",
       "      <td>3.0</td>\n",
       "      <td>169.0</td>\n",
       "      <td>1</td>\n",
       "      <td>0.194805</td>\n",
       "      <td>New York Mains</td>\n",
       "    </tr>\n",
       "    <tr>\n",
       "      <th>1</th>\n",
       "      <td>Apartment</td>\n",
       "      <td>Private room</td>\n",
       "      <td>2</td>\n",
       "      <td>1.0</td>\n",
       "      <td>strict</td>\n",
       "      <td>1</td>\n",
       "      <td>1</td>\n",
       "      <td>1</td>\n",
       "      <td>3</td>\n",
       "      <td>100.0</td>\n",
       "      <td>1.0</td>\n",
       "      <td>1.0</td>\n",
       "      <td>85.0</td>\n",
       "      <td>1</td>\n",
       "      <td>0.129870</td>\n",
       "      <td>San Francisco</td>\n",
       "    </tr>\n",
       "    <tr>\n",
       "      <th>2</th>\n",
       "      <td>Condominium</td>\n",
       "      <td>Entire home/apt</td>\n",
       "      <td>2</td>\n",
       "      <td>1.0</td>\n",
       "      <td>moderate</td>\n",
       "      <td>1</td>\n",
       "      <td>1</td>\n",
       "      <td>0</td>\n",
       "      <td>9</td>\n",
       "      <td>93.0</td>\n",
       "      <td>1.0</td>\n",
       "      <td>1.0</td>\n",
       "      <td>120.0</td>\n",
       "      <td>1</td>\n",
       "      <td>0.337662</td>\n",
       "      <td>LA Mains</td>\n",
       "    </tr>\n",
       "    <tr>\n",
       "      <th>3</th>\n",
       "      <td>House</td>\n",
       "      <td>Private room</td>\n",
       "      <td>2</td>\n",
       "      <td>1.0</td>\n",
       "      <td>moderate</td>\n",
       "      <td>1</td>\n",
       "      <td>0</td>\n",
       "      <td>0</td>\n",
       "      <td>159</td>\n",
       "      <td>99.0</td>\n",
       "      <td>1.0</td>\n",
       "      <td>1.0</td>\n",
       "      <td>120.0</td>\n",
       "      <td>1</td>\n",
       "      <td>0.272727</td>\n",
       "      <td>San Francisco</td>\n",
       "    </tr>\n",
       "    <tr>\n",
       "      <th>4</th>\n",
       "      <td>Apartment</td>\n",
       "      <td>Private room</td>\n",
       "      <td>2</td>\n",
       "      <td>1.0</td>\n",
       "      <td>strict</td>\n",
       "      <td>1</td>\n",
       "      <td>1</td>\n",
       "      <td>0</td>\n",
       "      <td>82</td>\n",
       "      <td>93.0</td>\n",
       "      <td>1.0</td>\n",
       "      <td>1.0</td>\n",
       "      <td>100.0</td>\n",
       "      <td>1</td>\n",
       "      <td>0.194805</td>\n",
       "      <td>New York Mains</td>\n",
       "    </tr>\n",
       "  </tbody>\n",
       "</table>\n",
       "</div>"
      ],
      "text/plain": [
       "  property_type        room_type  accommodates  bathrooms cancellation_policy  \\\n",
       "0     Apartment  Entire home/apt             7        1.0              strict   \n",
       "1     Apartment     Private room             2        1.0              strict   \n",
       "2   Condominium  Entire home/apt             2        1.0            moderate   \n",
       "3         House     Private room             2        1.0            moderate   \n",
       "4     Apartment     Private room             2        1.0              strict   \n",
       "\n",
       "   cleaning_fee  host_identity_verified  instant_bookable  number_of_reviews  \\\n",
       "0             1                       0                 1                  6   \n",
       "1             1                       1                 1                  3   \n",
       "2             1                       1                 0                  9   \n",
       "3             1                       0                 0                159   \n",
       "4             1                       1                 0                 82   \n",
       "\n",
       "   review_scores_rating  bedrooms  beds  price  host_response  \\\n",
       "0                  93.0       3.0   3.0  169.0              1   \n",
       "1                 100.0       1.0   1.0   85.0              1   \n",
       "2                  93.0       1.0   1.0  120.0              1   \n",
       "3                  99.0       1.0   1.0  120.0              1   \n",
       "4                  93.0       1.0   1.0  100.0              1   \n",
       "\n",
       "   amenities_ratio         regions  \n",
       "0         0.194805  New York Mains  \n",
       "1         0.129870   San Francisco  \n",
       "2         0.337662        LA Mains  \n",
       "3         0.272727   San Francisco  \n",
       "4         0.194805  New York Mains  "
      ]
     },
     "execution_count": 123,
     "metadata": {},
     "output_type": "execute_result"
    }
   ],
   "source": [
    "df.head()"
   ]
  },
  {
   "cell_type": "code",
   "execution_count": 124,
   "metadata": {},
   "outputs": [
    {
     "data": {
      "text/plain": [
       "property_type              object\n",
       "room_type                  object\n",
       "accommodates                int64\n",
       "bathrooms                 float64\n",
       "cancellation_policy        object\n",
       "cleaning_fee                int64\n",
       "host_identity_verified      int32\n",
       "instant_bookable            int32\n",
       "number_of_reviews           int64\n",
       "review_scores_rating      float64\n",
       "bedrooms                  float64\n",
       "beds                      float64\n",
       "price                     float64\n",
       "host_response               int32\n",
       "amenities_ratio           float64\n",
       "regions                    object\n",
       "dtype: object"
      ]
     },
     "execution_count": 124,
     "metadata": {},
     "output_type": "execute_result"
    }
   ],
   "source": [
    "#### Ahora solo hay 3 columnas para pasar a nominal\n",
    "df.dtypes"
   ]
  },
  {
   "cell_type": "code",
   "execution_count": 125,
   "metadata": {},
   "outputs": [
    {
     "data": {
      "text/plain": [
       "accommodates                      int64\n",
       "bathrooms                       float64\n",
       "cleaning_fee                      int64\n",
       "host_identity_verified            int32\n",
       "instant_bookable                  int32\n",
       "number_of_reviews                 int64\n",
       "review_scores_rating            float64\n",
       "bedrooms                        float64\n",
       "beds                            float64\n",
       "price                           float64\n",
       "host_response                     int32\n",
       "amenities_ratio                 float64\n",
       "property_type_Condominium         uint8\n",
       "property_type_Guesthouse          uint8\n",
       "property_type_House               uint8\n",
       "property_type_Loft                uint8\n",
       "property_type_Other               uint8\n",
       "property_type_Townhouse           uint8\n",
       "room_type_Private room            uint8\n",
       "room_type_Shared room             uint8\n",
       "cancellation_policy_moderate      uint8\n",
       "cancellation_policy_strict        uint8\n",
       "regions_Brooklyn                  uint8\n",
       "regions_Chicago                   uint8\n",
       "regions_LA Mains                  uint8\n",
       "regions_New York Mains            uint8\n",
       "regions_Other                     uint8\n",
       "regions_Queens                    uint8\n",
       "regions_San Francisco             uint8\n",
       "regions_Santa Clarita             uint8\n",
       "regions_Washington                uint8\n",
       "dtype: object"
      ]
     },
     "execution_count": 125,
     "metadata": {},
     "output_type": "execute_result"
    }
   ],
   "source": [
    "### DUMMIES\n",
    "df_dummie=pd.get_dummies(df,drop_first=True)\n",
    "df_dummie.dtypes"
   ]
  },
  {
   "cell_type": "code",
   "execution_count": 126,
   "metadata": {},
   "outputs": [
    {
     "data": {
      "text/plain": [
       "(28877, 31)"
      ]
     },
     "execution_count": 126,
     "metadata": {},
     "output_type": "execute_result"
    }
   ],
   "source": [
    "df_dummie.shape"
   ]
  },
  {
   "cell_type": "code",
   "execution_count": 128,
   "metadata": {},
   "outputs": [
    {
     "data": {
      "text/plain": [
       "Apartment      18543\n",
       "House           6655\n",
       "Condominium     1081\n",
       "Other           1078\n",
       "Townhouse        720\n",
       "Loft             552\n",
       "Guesthouse       248\n",
       "Name: property_type, dtype: int64"
      ]
     },
     "execution_count": 128,
     "metadata": {},
     "output_type": "execute_result"
    }
   ],
   "source": [
    "##### SIMPLE ENCODING\n",
    "#property_type              object\n",
    "#room_type                  object\n",
    "#cancellation_policy        object\n",
    "#regions                    object\n",
    "df.property_type.value_counts()"
   ]
  },
  {
   "cell_type": "code",
   "execution_count": 129,
   "metadata": {},
   "outputs": [
    {
     "data": {
      "text/plain": [
       "Entire home/apt    16158\n",
       "Private room       11993\n",
       "Shared room          726\n",
       "Name: room_type, dtype: int64"
      ]
     },
     "execution_count": 129,
     "metadata": {},
     "output_type": "execute_result"
    }
   ],
   "source": [
    "df.room_type.value_counts()"
   ]
  },
  {
   "cell_type": "code",
   "execution_count": 130,
   "metadata": {},
   "outputs": [
    {
     "data": {
      "text/plain": [
       "strict      14846\n",
       "moderate     8492\n",
       "flexible     5539\n",
       "Name: cancellation_policy, dtype: int64"
      ]
     },
     "execution_count": 130,
     "metadata": {},
     "output_type": "execute_result"
    }
   ],
   "source": [
    "df.cancellation_policy.value_counts()"
   ]
  },
  {
   "cell_type": "code",
   "execution_count": 138,
   "metadata": {},
   "outputs": [
    {
     "data": {
      "text/plain": [
       "New York Mains    6262\n",
       "Brooklyn          5714\n",
       "LA Mains          5420\n",
       "San Francisco     2713\n",
       "Washington        1815\n",
       "Boston            1776\n",
       "Chicago           1623\n",
       "Queens            1401\n",
       "Santa Clarita     1190\n",
       "Other              963\n",
       "Name: regions, dtype: int64"
      ]
     },
     "execution_count": 138,
     "metadata": {},
     "output_type": "execute_result"
    }
   ],
   "source": [
    "df.regions.value_counts()"
   ]
  },
  {
   "cell_type": "code",
   "execution_count": 139,
   "metadata": {},
   "outputs": [],
   "source": [
    "property_type={'Apartment':6, 'House':5, 'Condominium':4, 'Other':3, 'Townhouse':2, 'Loft':1, 'Guesthouse':0}\n",
    "\n",
    "room_type={'Entire home/apt':2, 'Private room':1, 'Shared room':0}\n",
    "\n",
    "cancellation_policy={'strict':2, 'moderate':1, 'flexible':0}\n",
    "\n",
    "regions={'New York Mains':9, 'Brooklyn':8, 'LA Mains':7, 'San Francisco':6, 'Washington':5, 'Boston':4, 'Chicago':3, 'Queens':2, 'Santa Clarita':1, 'Other':0}\n",
    "\n",
    "def labeling(s, dic):\n",
    "    return dic[s]"
   ]
  },
  {
   "cell_type": "code",
   "execution_count": 136,
   "metadata": {},
   "outputs": [],
   "source": [
    "df.property_type=df.property_type.apply(lambda x: labeling(x, property_type))\n",
    "\n",
    "df.room_type=df.room_type.apply(lambda x: labeling(x, room_type))\n",
    "\n",
    "df.cancellation_policy=df.cancellation_policy.apply(lambda x: labeling(x, cancellation_policy))\n",
    "\n",
    "df.regions=df.regions.apply(lambda x: labeling(x, regions))"
   ]
  },
  {
   "cell_type": "code",
   "execution_count": 140,
   "metadata": {},
   "outputs": [
    {
     "data": {
      "text/html": [
       "<div>\n",
       "<style scoped>\n",
       "    .dataframe tbody tr th:only-of-type {\n",
       "        vertical-align: middle;\n",
       "    }\n",
       "\n",
       "    .dataframe tbody tr th {\n",
       "        vertical-align: top;\n",
       "    }\n",
       "\n",
       "    .dataframe thead th {\n",
       "        text-align: right;\n",
       "    }\n",
       "</style>\n",
       "<table border=\"1\" class=\"dataframe\">\n",
       "  <thead>\n",
       "    <tr style=\"text-align: right;\">\n",
       "      <th></th>\n",
       "      <th>property_type</th>\n",
       "      <th>room_type</th>\n",
       "      <th>accommodates</th>\n",
       "      <th>bathrooms</th>\n",
       "      <th>cancellation_policy</th>\n",
       "      <th>cleaning_fee</th>\n",
       "      <th>host_identity_verified</th>\n",
       "      <th>instant_bookable</th>\n",
       "      <th>number_of_reviews</th>\n",
       "      <th>review_scores_rating</th>\n",
       "      <th>bedrooms</th>\n",
       "      <th>beds</th>\n",
       "      <th>price</th>\n",
       "      <th>host_response</th>\n",
       "      <th>amenities_ratio</th>\n",
       "      <th>regions</th>\n",
       "    </tr>\n",
       "  </thead>\n",
       "  <tbody>\n",
       "    <tr>\n",
       "      <th>0</th>\n",
       "      <td>6</td>\n",
       "      <td>2</td>\n",
       "      <td>7</td>\n",
       "      <td>1.0</td>\n",
       "      <td>2</td>\n",
       "      <td>1</td>\n",
       "      <td>0</td>\n",
       "      <td>1</td>\n",
       "      <td>6</td>\n",
       "      <td>93.0</td>\n",
       "      <td>3.0</td>\n",
       "      <td>3.0</td>\n",
       "      <td>169.0</td>\n",
       "      <td>1</td>\n",
       "      <td>0.194805</td>\n",
       "      <td>9</td>\n",
       "    </tr>\n",
       "    <tr>\n",
       "      <th>1</th>\n",
       "      <td>6</td>\n",
       "      <td>1</td>\n",
       "      <td>2</td>\n",
       "      <td>1.0</td>\n",
       "      <td>2</td>\n",
       "      <td>1</td>\n",
       "      <td>1</td>\n",
       "      <td>1</td>\n",
       "      <td>3</td>\n",
       "      <td>100.0</td>\n",
       "      <td>1.0</td>\n",
       "      <td>1.0</td>\n",
       "      <td>85.0</td>\n",
       "      <td>1</td>\n",
       "      <td>0.129870</td>\n",
       "      <td>6</td>\n",
       "    </tr>\n",
       "    <tr>\n",
       "      <th>2</th>\n",
       "      <td>4</td>\n",
       "      <td>2</td>\n",
       "      <td>2</td>\n",
       "      <td>1.0</td>\n",
       "      <td>1</td>\n",
       "      <td>1</td>\n",
       "      <td>1</td>\n",
       "      <td>0</td>\n",
       "      <td>9</td>\n",
       "      <td>93.0</td>\n",
       "      <td>1.0</td>\n",
       "      <td>1.0</td>\n",
       "      <td>120.0</td>\n",
       "      <td>1</td>\n",
       "      <td>0.337662</td>\n",
       "      <td>7</td>\n",
       "    </tr>\n",
       "    <tr>\n",
       "      <th>3</th>\n",
       "      <td>5</td>\n",
       "      <td>1</td>\n",
       "      <td>2</td>\n",
       "      <td>1.0</td>\n",
       "      <td>1</td>\n",
       "      <td>1</td>\n",
       "      <td>0</td>\n",
       "      <td>0</td>\n",
       "      <td>159</td>\n",
       "      <td>99.0</td>\n",
       "      <td>1.0</td>\n",
       "      <td>1.0</td>\n",
       "      <td>120.0</td>\n",
       "      <td>1</td>\n",
       "      <td>0.272727</td>\n",
       "      <td>6</td>\n",
       "    </tr>\n",
       "    <tr>\n",
       "      <th>4</th>\n",
       "      <td>6</td>\n",
       "      <td>1</td>\n",
       "      <td>2</td>\n",
       "      <td>1.0</td>\n",
       "      <td>2</td>\n",
       "      <td>1</td>\n",
       "      <td>1</td>\n",
       "      <td>0</td>\n",
       "      <td>82</td>\n",
       "      <td>93.0</td>\n",
       "      <td>1.0</td>\n",
       "      <td>1.0</td>\n",
       "      <td>100.0</td>\n",
       "      <td>1</td>\n",
       "      <td>0.194805</td>\n",
       "      <td>9</td>\n",
       "    </tr>\n",
       "  </tbody>\n",
       "</table>\n",
       "</div>"
      ],
      "text/plain": [
       "   property_type  room_type  accommodates  bathrooms  cancellation_policy  \\\n",
       "0              6          2             7        1.0                    2   \n",
       "1              6          1             2        1.0                    2   \n",
       "2              4          2             2        1.0                    1   \n",
       "3              5          1             2        1.0                    1   \n",
       "4              6          1             2        1.0                    2   \n",
       "\n",
       "   cleaning_fee  host_identity_verified  instant_bookable  number_of_reviews  \\\n",
       "0             1                       0                 1                  6   \n",
       "1             1                       1                 1                  3   \n",
       "2             1                       1                 0                  9   \n",
       "3             1                       0                 0                159   \n",
       "4             1                       1                 0                 82   \n",
       "\n",
       "   review_scores_rating  bedrooms  beds  price  host_response  \\\n",
       "0                  93.0       3.0   3.0  169.0              1   \n",
       "1                 100.0       1.0   1.0   85.0              1   \n",
       "2                  93.0       1.0   1.0  120.0              1   \n",
       "3                  99.0       1.0   1.0  120.0              1   \n",
       "4                  93.0       1.0   1.0  100.0              1   \n",
       "\n",
       "   amenities_ratio  regions  \n",
       "0         0.194805        9  \n",
       "1         0.129870        6  \n",
       "2         0.337662        7  \n",
       "3         0.272727        6  \n",
       "4         0.194805        9  "
      ]
     },
     "execution_count": 140,
     "metadata": {},
     "output_type": "execute_result"
    }
   ],
   "source": [
    "df.head()"
   ]
  },
  {
   "cell_type": "code",
   "execution_count": 142,
   "metadata": {},
   "outputs": [],
   "source": [
    "df.to_csv(path_or_buf=\"df_encoded.csv\",index=False)"
   ]
  },
  {
   "cell_type": "code",
   "execution_count": 127,
   "metadata": {},
   "outputs": [],
   "source": [
    "#df_dummie.to_csv(path_or_buf=\"df_dummie.csv\",index=False)"
   ]
  }
 ],
 "metadata": {
  "kernelspec": {
   "display_name": "Python 3",
   "language": "python",
   "name": "python3"
  },
  "language_info": {
   "codemirror_mode": {
    "name": "ipython",
    "version": 3
   },
   "file_extension": ".py",
   "mimetype": "text/x-python",
   "name": "python",
   "nbconvert_exporter": "python",
   "pygments_lexer": "ipython3",
   "version": "3.7.3"
  }
 },
 "nbformat": 4,
 "nbformat_minor": 2
}
