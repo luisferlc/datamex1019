{
 "cells": [
  {
   "cell_type": "markdown",
   "metadata": {},
   "source": [
    "# Airbnb: predicción de precios de hosts"
   ]
  },
  {
   "cell_type": "code",
   "execution_count": 1,
   "metadata": {},
   "outputs": [],
   "source": [
    "import warnings\n",
    "warnings.simplefilter('ignore')\n",
    "import pandas as pd\n",
    "import numpy as np\n",
    "import seaborn as sns\n",
    "import matplotlib.pyplot as plt"
   ]
  },
  {
   "cell_type": "code",
   "execution_count": 2,
   "metadata": {},
   "outputs": [],
   "source": [
    "df= pd.read_csv(\"airbnb_data.csv\")"
   ]
  },
  {
   "cell_type": "code",
   "execution_count": 3,
   "metadata": {},
   "outputs": [
    {
     "data": {
      "text/html": [
       "<div>\n",
       "<style scoped>\n",
       "    .dataframe tbody tr th:only-of-type {\n",
       "        vertical-align: middle;\n",
       "    }\n",
       "\n",
       "    .dataframe tbody tr th {\n",
       "        vertical-align: top;\n",
       "    }\n",
       "\n",
       "    .dataframe thead th {\n",
       "        text-align: right;\n",
       "    }\n",
       "</style>\n",
       "<table border=\"1\" class=\"dataframe\">\n",
       "  <thead>\n",
       "    <tr style=\"text-align: right;\">\n",
       "      <th></th>\n",
       "      <th>property_type</th>\n",
       "      <th>room_type</th>\n",
       "      <th>amenities</th>\n",
       "      <th>accommodates</th>\n",
       "      <th>bathrooms</th>\n",
       "      <th>bed_type</th>\n",
       "      <th>cancellation_policy</th>\n",
       "      <th>cleaning_fee</th>\n",
       "      <th>city</th>\n",
       "      <th>description</th>\n",
       "      <th>...</th>\n",
       "      <th>longitude</th>\n",
       "      <th>name</th>\n",
       "      <th>neighbourhood</th>\n",
       "      <th>number_of_reviews</th>\n",
       "      <th>review_scores_rating</th>\n",
       "      <th>thumbnail_url</th>\n",
       "      <th>zipcode</th>\n",
       "      <th>bedrooms</th>\n",
       "      <th>beds</th>\n",
       "      <th>price</th>\n",
       "    </tr>\n",
       "  </thead>\n",
       "  <tbody>\n",
       "    <tr>\n",
       "      <th>0</th>\n",
       "      <td>Apartment</td>\n",
       "      <td>Entire home/apt</td>\n",
       "      <td>{\"Wireless Internet\",\"Air conditioning\",Kitche...</td>\n",
       "      <td>7</td>\n",
       "      <td>1.0</td>\n",
       "      <td>Real Bed</td>\n",
       "      <td>strict</td>\n",
       "      <td>True</td>\n",
       "      <td>NYC</td>\n",
       "      <td>Enjoy travelling during your stay in Manhattan...</td>\n",
       "      <td>...</td>\n",
       "      <td>-73.989040</td>\n",
       "      <td>Superb 3BR Apt Located Near Times Square</td>\n",
       "      <td>Hell's Kitchen</td>\n",
       "      <td>6</td>\n",
       "      <td>93.0</td>\n",
       "      <td>https://a0.muscache.com/im/pictures/348a55fe-4...</td>\n",
       "      <td>10019</td>\n",
       "      <td>3.0</td>\n",
       "      <td>3.0</td>\n",
       "      <td>169.0</td>\n",
       "    </tr>\n",
       "    <tr>\n",
       "      <th>1</th>\n",
       "      <td>Apartment</td>\n",
       "      <td>Private room</td>\n",
       "      <td>{TV,\"Wireless Internet\",Heating,\"Smoke detecto...</td>\n",
       "      <td>2</td>\n",
       "      <td>1.0</td>\n",
       "      <td>Real Bed</td>\n",
       "      <td>strict</td>\n",
       "      <td>True</td>\n",
       "      <td>SF</td>\n",
       "      <td>Beautiful private room overlooking scenic view...</td>\n",
       "      <td>...</td>\n",
       "      <td>-122.429526</td>\n",
       "      <td>Comfort Suite San Francisco</td>\n",
       "      <td>Noe Valley</td>\n",
       "      <td>3</td>\n",
       "      <td>100.0</td>\n",
       "      <td>https://a0.muscache.com/im/pictures/82509143-4...</td>\n",
       "      <td>94131</td>\n",
       "      <td>1.0</td>\n",
       "      <td>1.0</td>\n",
       "      <td>85.0</td>\n",
       "    </tr>\n",
       "    <tr>\n",
       "      <th>2</th>\n",
       "      <td>Condominium</td>\n",
       "      <td>Entire home/apt</td>\n",
       "      <td>{TV,\"Cable TV\",\"Wireless Internet\",\"Wheelchair...</td>\n",
       "      <td>2</td>\n",
       "      <td>1.0</td>\n",
       "      <td>Real Bed</td>\n",
       "      <td>moderate</td>\n",
       "      <td>True</td>\n",
       "      <td>LA</td>\n",
       "      <td>Arguably the best location (and safest) in dow...</td>\n",
       "      <td>...</td>\n",
       "      <td>-118.260439</td>\n",
       "      <td>Near LA Live, Staple's. Starbucks inside. OWN ...</td>\n",
       "      <td>Downtown</td>\n",
       "      <td>9</td>\n",
       "      <td>93.0</td>\n",
       "      <td>https://a0.muscache.com/im/pictures/61bd05d5-c...</td>\n",
       "      <td>90015</td>\n",
       "      <td>1.0</td>\n",
       "      <td>1.0</td>\n",
       "      <td>120.0</td>\n",
       "    </tr>\n",
       "    <tr>\n",
       "      <th>3</th>\n",
       "      <td>House</td>\n",
       "      <td>Private room</td>\n",
       "      <td>{TV,\"Cable TV\",\"Wireless Internet\",\"Pets live ...</td>\n",
       "      <td>2</td>\n",
       "      <td>1.0</td>\n",
       "      <td>Real Bed</td>\n",
       "      <td>moderate</td>\n",
       "      <td>True</td>\n",
       "      <td>SF</td>\n",
       "      <td>Garden Studio with private entrance from the s...</td>\n",
       "      <td>...</td>\n",
       "      <td>-122.501095</td>\n",
       "      <td>Cozy Garden Studio - Private Entry</td>\n",
       "      <td>Richmond District</td>\n",
       "      <td>159</td>\n",
       "      <td>99.0</td>\n",
       "      <td>https://a0.muscache.com/im/pictures/0ed6c128-7...</td>\n",
       "      <td>94121</td>\n",
       "      <td>1.0</td>\n",
       "      <td>1.0</td>\n",
       "      <td>120.0</td>\n",
       "    </tr>\n",
       "    <tr>\n",
       "      <th>4</th>\n",
       "      <td>Apartment</td>\n",
       "      <td>Private room</td>\n",
       "      <td>{Internet,\"Wireless Internet\",\"Air conditionin...</td>\n",
       "      <td>2</td>\n",
       "      <td>1.0</td>\n",
       "      <td>Real Bed</td>\n",
       "      <td>strict</td>\n",
       "      <td>True</td>\n",
       "      <td>NYC</td>\n",
       "      <td>This is a bright bedroom in an historic buildi...</td>\n",
       "      <td>...</td>\n",
       "      <td>-73.983880</td>\n",
       "      <td>Large East Village Bedroom To Let!</td>\n",
       "      <td>Alphabet City</td>\n",
       "      <td>82</td>\n",
       "      <td>93.0</td>\n",
       "      <td>https://a0.muscache.com/im/pictures/21726900/1...</td>\n",
       "      <td>10009.0</td>\n",
       "      <td>1.0</td>\n",
       "      <td>1.0</td>\n",
       "      <td>100.0</td>\n",
       "    </tr>\n",
       "  </tbody>\n",
       "</table>\n",
       "<p>5 rows × 28 columns</p>\n",
       "</div>"
      ],
      "text/plain": [
       "  property_type        room_type  \\\n",
       "0     Apartment  Entire home/apt   \n",
       "1     Apartment     Private room   \n",
       "2   Condominium  Entire home/apt   \n",
       "3         House     Private room   \n",
       "4     Apartment     Private room   \n",
       "\n",
       "                                           amenities  accommodates  bathrooms  \\\n",
       "0  {\"Wireless Internet\",\"Air conditioning\",Kitche...             7        1.0   \n",
       "1  {TV,\"Wireless Internet\",Heating,\"Smoke detecto...             2        1.0   \n",
       "2  {TV,\"Cable TV\",\"Wireless Internet\",\"Wheelchair...             2        1.0   \n",
       "3  {TV,\"Cable TV\",\"Wireless Internet\",\"Pets live ...             2        1.0   \n",
       "4  {Internet,\"Wireless Internet\",\"Air conditionin...             2        1.0   \n",
       "\n",
       "   bed_type cancellation_policy  cleaning_fee city  \\\n",
       "0  Real Bed              strict          True  NYC   \n",
       "1  Real Bed              strict          True   SF   \n",
       "2  Real Bed            moderate          True   LA   \n",
       "3  Real Bed            moderate          True   SF   \n",
       "4  Real Bed              strict          True  NYC   \n",
       "\n",
       "                                         description  ...   longitude  \\\n",
       "0  Enjoy travelling during your stay in Manhattan...  ...  -73.989040   \n",
       "1  Beautiful private room overlooking scenic view...  ... -122.429526   \n",
       "2  Arguably the best location (and safest) in dow...  ... -118.260439   \n",
       "3  Garden Studio with private entrance from the s...  ... -122.501095   \n",
       "4  This is a bright bedroom in an historic buildi...  ...  -73.983880   \n",
       "\n",
       "                                                name      neighbourhood  \\\n",
       "0           Superb 3BR Apt Located Near Times Square     Hell's Kitchen   \n",
       "1                        Comfort Suite San Francisco         Noe Valley   \n",
       "2  Near LA Live, Staple's. Starbucks inside. OWN ...           Downtown   \n",
       "3                 Cozy Garden Studio - Private Entry  Richmond District   \n",
       "4                 Large East Village Bedroom To Let!      Alphabet City   \n",
       "\n",
       "  number_of_reviews review_scores_rating  \\\n",
       "0                 6                 93.0   \n",
       "1                 3                100.0   \n",
       "2                 9                 93.0   \n",
       "3               159                 99.0   \n",
       "4                82                 93.0   \n",
       "\n",
       "                                       thumbnail_url  zipcode  bedrooms  beds  \\\n",
       "0  https://a0.muscache.com/im/pictures/348a55fe-4...    10019       3.0   3.0   \n",
       "1  https://a0.muscache.com/im/pictures/82509143-4...    94131       1.0   1.0   \n",
       "2  https://a0.muscache.com/im/pictures/61bd05d5-c...    90015       1.0   1.0   \n",
       "3  https://a0.muscache.com/im/pictures/0ed6c128-7...    94121       1.0   1.0   \n",
       "4  https://a0.muscache.com/im/pictures/21726900/1...  10009.0       1.0   1.0   \n",
       "\n",
       "   price  \n",
       "0  169.0  \n",
       "1   85.0  \n",
       "2  120.0  \n",
       "3  120.0  \n",
       "4  100.0  \n",
       "\n",
       "[5 rows x 28 columns]"
      ]
     },
     "execution_count": 3,
     "metadata": {},
     "output_type": "execute_result"
    }
   ],
   "source": [
    "df.head()"
   ]
  },
  {
   "cell_type": "code",
   "execution_count": 4,
   "metadata": {},
   "outputs": [
    {
     "data": {
      "text/plain": [
       "(28877, 28)"
      ]
     },
     "execution_count": 4,
     "metadata": {},
     "output_type": "execute_result"
    }
   ],
   "source": [
    "df.shape"
   ]
  },
  {
   "cell_type": "code",
   "execution_count": 5,
   "metadata": {},
   "outputs": [
    {
     "data": {
      "text/plain": [
       "Index(['property_type', 'room_type', 'amenities', 'accommodates', 'bathrooms',\n",
       "       'bed_type', 'cancellation_policy', 'cleaning_fee', 'city',\n",
       "       'description', 'first_review', 'host_has_profile_pic',\n",
       "       'host_identity_verified', 'host_response_rate', 'host_since',\n",
       "       'instant_bookable', 'last_review', 'latitude', 'longitude', 'name',\n",
       "       'neighbourhood', 'number_of_reviews', 'review_scores_rating',\n",
       "       'thumbnail_url', 'zipcode', 'bedrooms', 'beds', 'price'],\n",
       "      dtype='object')"
      ]
     },
     "execution_count": 5,
     "metadata": {},
     "output_type": "execute_result"
    }
   ],
   "source": [
    "df.columns"
   ]
  },
  {
   "cell_type": "code",
   "execution_count": 6,
   "metadata": {},
   "outputs": [
    {
     "data": {
      "text/html": [
       "<div>\n",
       "<style scoped>\n",
       "    .dataframe tbody tr th:only-of-type {\n",
       "        vertical-align: middle;\n",
       "    }\n",
       "\n",
       "    .dataframe tbody tr th {\n",
       "        vertical-align: top;\n",
       "    }\n",
       "\n",
       "    .dataframe thead th {\n",
       "        text-align: right;\n",
       "    }\n",
       "</style>\n",
       "<table border=\"1\" class=\"dataframe\">\n",
       "  <thead>\n",
       "    <tr style=\"text-align: right;\">\n",
       "      <th></th>\n",
       "      <th>first_review</th>\n",
       "      <th>host_has_profile_pic</th>\n",
       "      <th>host_identity_verified</th>\n",
       "      <th>host_response_rate</th>\n",
       "      <th>host_since</th>\n",
       "      <th>instant_bookable</th>\n",
       "      <th>last_review</th>\n",
       "    </tr>\n",
       "  </thead>\n",
       "  <tbody>\n",
       "    <tr>\n",
       "      <th>0</th>\n",
       "      <td>2017-08-05</td>\n",
       "      <td>t</td>\n",
       "      <td>f</td>\n",
       "      <td>100%</td>\n",
       "      <td>2017-06-19</td>\n",
       "      <td>t</td>\n",
       "      <td>2017-09-23</td>\n",
       "    </tr>\n",
       "    <tr>\n",
       "      <th>1</th>\n",
       "      <td>2017-08-27</td>\n",
       "      <td>t</td>\n",
       "      <td>t</td>\n",
       "      <td>100%</td>\n",
       "      <td>2017-06-07</td>\n",
       "      <td>t</td>\n",
       "      <td>2017-09-05</td>\n",
       "    </tr>\n",
       "    <tr>\n",
       "      <th>2</th>\n",
       "      <td>2016-12-16</td>\n",
       "      <td>t</td>\n",
       "      <td>t</td>\n",
       "      <td>100%</td>\n",
       "      <td>2013-05-18</td>\n",
       "      <td>f</td>\n",
       "      <td>2017-04-12</td>\n",
       "    </tr>\n",
       "    <tr>\n",
       "      <th>3</th>\n",
       "      <td>2016-02-13</td>\n",
       "      <td>t</td>\n",
       "      <td>f</td>\n",
       "      <td>100%</td>\n",
       "      <td>2015-06-04</td>\n",
       "      <td>f</td>\n",
       "      <td>2017-09-24</td>\n",
       "    </tr>\n",
       "    <tr>\n",
       "      <th>4</th>\n",
       "      <td>2013-04-28</td>\n",
       "      <td>t</td>\n",
       "      <td>t</td>\n",
       "      <td>100%</td>\n",
       "      <td>2013-03-27</td>\n",
       "      <td>f</td>\n",
       "      <td>2016-11-15</td>\n",
       "    </tr>\n",
       "  </tbody>\n",
       "</table>\n",
       "</div>"
      ],
      "text/plain": [
       "  first_review host_has_profile_pic host_identity_verified host_response_rate  \\\n",
       "0   2017-08-05                    t                      f               100%   \n",
       "1   2017-08-27                    t                      t               100%   \n",
       "2   2016-12-16                    t                      t               100%   \n",
       "3   2016-02-13                    t                      f               100%   \n",
       "4   2013-04-28                    t                      t               100%   \n",
       "\n",
       "   host_since instant_bookable last_review  \n",
       "0  2017-06-19                t  2017-09-23  \n",
       "1  2017-06-07                t  2017-09-05  \n",
       "2  2013-05-18                f  2017-04-12  \n",
       "3  2015-06-04                f  2017-09-24  \n",
       "4  2013-03-27                f  2016-11-15  "
      ]
     },
     "execution_count": 6,
     "metadata": {},
     "output_type": "execute_result"
    }
   ],
   "source": [
    "df[['first_review', 'host_has_profile_pic','host_identity_verified', 'host_response_rate', 'host_since','instant_bookable', 'last_review']].head()"
   ]
  },
  {
   "cell_type": "markdown",
   "metadata": {},
   "source": [
    "# Limpieza de los datos"
   ]
  },
  {
   "cell_type": "markdown",
   "metadata": {},
   "source": [
    "### Tareas por hacer:\n",
    "1. Ver colinealidades entre variables contínuas\n",
    "2. Limpieza de categóricas y datetimes.\n",
    "3. Extraer los valores de \"amenities\" en distintas columnas.\n",
    "4. Ver la manera de pasar a nominal la columna neighbourhood o dropearla.\n",
    "5. NaN's\n",
    "6. Outliers y normalización de variables contínuas.\n",
    "7. De categóricas a nominal: One-Hot-Encoding, Label-encoding?"
   ]
  },
  {
   "cell_type": "markdown",
   "metadata": {},
   "source": [
    "## 1. Colinealidades"
   ]
  },
  {
   "cell_type": "code",
   "execution_count": 7,
   "metadata": {},
   "outputs": [
    {
     "data": {
      "image/png": "[encoded data removed]",
      "text/plain": [
       "<Figure size 864x720 with 2 Axes>"
      ]
     },
     "metadata": {
      "needs_background": "light"
     },
     "output_type": "display_data"
    }
   ],
   "source": [
    "plt.figure(figsize=(12,10))\n",
    "sns.heatmap(df.corr(), cmap='viridis');"
   ]
  },
  {
   "cell_type": "code",
   "execution_count": 8,
   "metadata": {},
   "outputs": [],
   "source": [
    "#En este momento, la única correlación alta que existe es entre latitud y longitud.\n",
    "#Sin embargo, usare esta información para luego obtener las distancias entre zipcodes:\n",
    "#df.drop(\"latitude\", axis=1, inplace=True)\n",
    "#df.drop(\"longitude\", axis=1, inplace=True)"
   ]
  },
  {
   "cell_type": "markdown",
   "metadata": {},
   "source": [
    "## 2. Limpieza de categóricas y datetimes"
   ]
  },
  {
   "cell_type": "markdown",
   "metadata": {},
   "source": [
    "### property_type"
   ]
  },
  {
   "cell_type": "code",
   "execution_count": 9,
   "metadata": {},
   "outputs": [
    {
     "data": {
      "text/plain": [
       "Apartment             18543\n",
       "House                  6655\n",
       "Condominium            1081\n",
       "Townhouse               720\n",
       "Loft                    552\n",
       "Other                   260\n",
       "Guesthouse              248\n",
       "Bed & Breakfast         214\n",
       "Bungalow                166\n",
       "Guest suite              72\n",
       "Dorm                     61\n",
       "Villa                    54\n",
       "In-law                   44\n",
       "Hostel                   36\n",
       "Cabin                    32\n",
       "Timeshare                26\n",
       "Camper/RV                24\n",
       "Boat                     22\n",
       "Boutique hotel           20\n",
       "Castle                    9\n",
       "Serviced apartment        9\n",
       "Tent                      7\n",
       "Vacation home             4\n",
       "Chalet                    4\n",
       "Hut                       4\n",
       "Tipi                      3\n",
       "Treehouse                 2\n",
       "Earth House               2\n",
       "Cave                      2\n",
       "Yurt                      1\n",
       "Name: property_type, dtype: int64"
      ]
     },
     "execution_count": 9,
     "metadata": {},
     "output_type": "execute_result"
    }
   ],
   "source": [
    "df.property_type.value_counts()"
   ]
  },
  {
   "cell_type": "code",
   "execution_count": 10,
   "metadata": {},
   "outputs": [],
   "source": [
    "#voy a tomar en cuenta los primeros 6 conceptos, ya que se llevan más del 90% de los datos. \n",
    "#A los demás los voy a clasificar como 'Others'"
   ]
  },
  {
   "cell_type": "code",
   "execution_count": 11,
   "metadata": {},
   "outputs": [],
   "source": [
    "for e in range(len(df)):\n",
    "    if df.property_type[e] not in ['Apartment','House','Condominium','Townhouse','Loft','Guesthouse']:\n",
    "        df.property_type[e] = \"Other\""
   ]
  },
  {
   "cell_type": "code",
   "execution_count": 12,
   "metadata": {},
   "outputs": [
    {
     "data": {
      "text/plain": [
       "Apartment      18543\n",
       "House           6655\n",
       "Condominium     1081\n",
       "Other           1078\n",
       "Townhouse        720\n",
       "Loft             552\n",
       "Guesthouse       248\n",
       "Name: property_type, dtype: int64"
      ]
     },
     "execution_count": 12,
     "metadata": {},
     "output_type": "execute_result"
    }
   ],
   "source": [
    "df.property_type.value_counts()"
   ]
  },
  {
   "cell_type": "markdown",
   "metadata": {},
   "source": [
    "### room_type"
   ]
  },
  {
   "cell_type": "code",
   "execution_count": 13,
   "metadata": {},
   "outputs": [
    {
     "data": {
      "text/plain": [
       "Entire home/apt    16158\n",
       "Private room       11993\n",
       "Shared room          726\n",
       "Name: room_type, dtype: int64"
      ]
     },
     "execution_count": 13,
     "metadata": {},
     "output_type": "execute_result"
    }
   ],
   "source": [
    "df.room_type.value_counts()"
   ]
  },
  {
   "cell_type": "markdown",
   "metadata": {},
   "source": [
    "### bed_type"
   ]
  },
  {
   "cell_type": "code",
   "execution_count": 14,
   "metadata": {},
   "outputs": [
    {
     "data": {
      "text/plain": [
       "Real Bed         28092\n",
       "Futon              319\n",
       "Pull-out Sofa      246\n",
       "Airbed             146\n",
       "Couch               74\n",
       "Name: bed_type, dtype: int64"
      ]
     },
     "execution_count": 14,
     "metadata": {},
     "output_type": "execute_result"
    }
   ],
   "source": [
    "df.bed_type.value_counts()\n",
    "#Casi el 100% de los datos estan concentrados en \"Real Bed\". No se si esto represente un sezgo para el modelo después.\n",
    "#Aun si pusiera como \"Others\" los demás valores, creo que no tiene mucho caso esta columna."
   ]
  },
  {
   "cell_type": "code",
   "execution_count": 15,
   "metadata": {},
   "outputs": [],
   "source": [
    "df.drop(\"bed_type\", axis=1, inplace=True)"
   ]
  },
  {
   "cell_type": "code",
   "execution_count": 16,
   "metadata": {},
   "outputs": [
    {
     "data": {
      "text/plain": [
       "(28877, 27)"
      ]
     },
     "execution_count": 16,
     "metadata": {},
     "output_type": "execute_result"
    }
   ],
   "source": [
    "df.shape"
   ]
  },
  {
   "cell_type": "markdown",
   "metadata": {},
   "source": [
    "### cancellation_policy"
   ]
  },
  {
   "cell_type": "code",
   "execution_count": 17,
   "metadata": {},
   "outputs": [
    {
     "data": {
      "text/plain": [
       "strict             14816\n",
       "moderate            8492\n",
       "flexible            5539\n",
       "super_strict_30       25\n",
       "super_strict_60        5\n",
       "Name: cancellation_policy, dtype: int64"
      ]
     },
     "execution_count": 17,
     "metadata": {},
     "output_type": "execute_result"
    }
   ],
   "source": [
    "df.cancellation_policy.value_counts()\n",
    "#Voy a integrar los valores \"super_strict\" como \"strict\""
   ]
  },
  {
   "cell_type": "code",
   "execution_count": 18,
   "metadata": {},
   "outputs": [],
   "source": [
    "for e in range(len(df)):\n",
    "    if \"super_\" in df.cancellation_policy[e]:\n",
    "        df.cancellation_policy[e] = \"strict\""
   ]
  },
  {
   "cell_type": "code",
   "execution_count": 19,
   "metadata": {},
   "outputs": [
    {
     "data": {
      "text/plain": [
       "strict      14846\n",
       "moderate     8492\n",
       "flexible     5539\n",
       "Name: cancellation_policy, dtype: int64"
      ]
     },
     "execution_count": 19,
     "metadata": {},
     "output_type": "execute_result"
    }
   ],
   "source": [
    "df.cancellation_policy.value_counts()"
   ]
  },
  {
   "cell_type": "markdown",
   "metadata": {},
   "source": [
    "### cleaning_fee"
   ]
  },
  {
   "cell_type": "code",
   "execution_count": 20,
   "metadata": {},
   "outputs": [
    {
     "data": {
      "text/plain": [
       "True     23693\n",
       "False     5184\n",
       "Name: cleaning_fee, dtype: int64"
      ]
     },
     "execution_count": 20,
     "metadata": {},
     "output_type": "execute_result"
    }
   ],
   "source": [
    "df.cleaning_fee.value_counts()\n",
    "#ya lista para pasar a contínua"
   ]
  },
  {
   "cell_type": "markdown",
   "metadata": {},
   "source": [
    "### city"
   ]
  },
  {
   "cell_type": "code",
   "execution_count": 21,
   "metadata": {},
   "outputs": [
    {
     "data": {
      "text/plain": [
       "NYC        13379\n",
       "LA          7571\n",
       "SF          2713\n",
       "DC          1815\n",
       "Boston      1776\n",
       "Chicago     1623\n",
       "Name: city, dtype: int64"
      ]
     },
     "execution_count": 21,
     "metadata": {},
     "output_type": "execute_result"
    }
   ],
   "source": [
    "df.city.value_counts()\n",
    "#ya lista para pasar a contínua"
   ]
  },
  {
   "cell_type": "markdown",
   "metadata": {},
   "source": [
    "### description"
   ]
  },
  {
   "cell_type": "code",
   "execution_count": 22,
   "metadata": {},
   "outputs": [
    {
     "data": {
      "text/plain": [
       "Hello, I've been running guest house for Koreans visiting U.S. for 3years, and recently decided to run this place for other travelers also. There are 10 room in the house. They are mostly dormitory rooms and couple of couple room and family room. This places are our women's dormitory in third floor. There are three rooms, but no doors. It is basically open space. There are 2 beds in two rooms and 4 in one room. I do not have closet in this room but there are hangers and mini shelves. My travelers usually put their baggage on the floor. There is one full bathroom only for women in 2nd floor, which you will be sharing with other women guests. Right next that bathroom, there is unisex half bathroom. All bathrooms have hair dryers. You cannot use kitchen, but you can use refrigerator.  I offer breakfast every morning from 7-10 am. Bread, cereal, fruits, coffee, milk and juice will be served. You can eat take-out food in the kitchen, but please wash dishes that you used and put trash in the    6\n",
       "Brand New 2017 Construction, Featuring 2 Bedrooms and 2 bathrooms . comfortable couch, coffee table, 50-inch TV in living room, with free Satellite Cable channel and internet Wi-Fi. Washer and Dryer in the building on each floor.This lovely Apartment is perfect for families, couples or four close friends! With over 900 square feet of living space.A short freeway ride to Westwood, Hollywood Bowl, Griffith Park, LA Zoo, and downtown venues such as Chinatown, LA Live, Staples Center and Olivera St. Enjoy the open entertainer floor plan featuring a gourmet kitchen with quartz counters w/natural mosaic stone and quartz back splash, Stainless Steel appliances, and designer cabinetry. All baths are tastefully done with tub/showers and sinks. Awesome living area, Enjoy those high ceilings! Terrific master suite with closet space. This is a \"smart home\" featuring an LED recessed lighting. Gated Garage is ready for two full sized cars all side by side.  A cozy retreat for your stay in Los Angele    4\n",
       "HUGE loft in converted factory, with in building: -COFFEE SHOP -YOGA STUDIO -ROOF DECK -FOOD CO/OP -TATTOO PARLOR -VAPE SHOP -CLOTHING STORES -SHIPPING AND PRINTING STORE -Located in vibrant Bushwick Brooklyn within walking distance to some of the best street art in the US. -Just 3 blocks to subway with easy access to Manhattan, Williamsburg and JFK airport. At your disposal is a comfortable lounge and dining area with a kitchen, and 2 bathrooms, that is all cleaned daily. There is also a HUGE ROOF DECK, as well as mini mall downstairs containing a yoga studio, coffee shop, art gallery, skate shop, and clothing store.  Right across the street are 2 of the biggest vintage shops in Brooklyn. Your room has a brand new super comfortable PILLOW TOP double bed, as well as your own air conditioner and space heater to combat extreme NYC temperatures. Free WIFI :)  We pay for extra for the really fast internet so stream video at ease. We also provide professionally laundered fresh sheets and to    4\n",
       "本地方是个两层楼townhouse温馨之家,一楼我们自己住,二楼五个房间做出租房,有两个洗手间和浴室供您们使用,每个房间都配备双人床 被子枕头床头柜 台灯 书桌椅 电视机Wi-Fi 热水壶 毛巾牙刷 牙膏 拖鞋 餐巾纸 房间干净卫生。大门进出有密码锁 每个房间也都有密码锁 走廊有安装电眼探头,厨房可以煮简单的食物,可以说是麻雀虽小五脏俱全。 地方位于纽约布鲁克林八大道华人集聚地,附近各种餐馆林立,地区治安好交通发达,走路2分钟到小巴站25分钟车程到达曼哈顿唐人街,门口有大巴站坐两站到地铁站也可以走路8分钟到N地铁站或走12分钟到D或R地铁站。 如果您开车过来白天很容易找到车位,晚上8点后如果找不到车位,您可以把车停在我们旁边8大道meter车位上直到第二天早晨7点半后就有很多车位了,欢迎您的到来!                                                                                                                                                                                                                                                                                                                                                                                                                                                                                                                                                                                                                                                                           4\n",
       "Our unique building is located in the Silicon Beach, directly across the street from (SENSITIVE CONTENTS HIDDEN) in Playa Vista. Fully remodeled designer-done 4-plex walking distance to the Playa Vista Runway, (SENSITIVE CONTENTS HIDDEN), YouTube, IMAX, Belkin, FOX, and (SENSITIVE CONTENTS HIDDEN). Two one-bedroom units and two studio units have all been remodeled by a high-end designer in 2015 Our place is good for couples, solo adventurers, and business travelers. Sorry, no pets. Units 1 & 2 are downstairs, 3 & 4 are upstairs. The building has one set of professional coin operated washer and dryer machines, shared by all four units. The laundry room is located towards the back of the building, near the back gate. You will have access to one (and only one) off-street parking spot in the back of the building. When confirming your booking, please inform the model, color and license plate of the car you will have throughout your stay - that way we can control who's illegally parked and s    4\n",
       "Private room in the heart of Little Italy with FREE PARKING :) You will have your own personal door code and may arrive at ANY time you would like and as late as you wish. You can store your luggage in the closet before check-in and after check-out times :) Price adapts to demand, my rates change constantly - every night is different! Put your dates in the calendar, with the number of guests, and what you see is what you'll pay :) The neighborhood is extremely safe even at night :) Restaurants and bars are right round the corner, both upscale and casual. This room is 6 minutes away by car or uber to Chicago's famous Willis (Sears) tower. Uber costs about $7. If you are arriving by car, I am providing free resident parking passes for anywhere in the area. (Yes, that means you can drive a few blocks and still park anywhere you want!) The room will be solely yours for the time you'll stay in the Windy City. Shall you have any concerns or need any tips from the local, I'll always be happy     4\n",
       "Spacious 2 story 4000 sqft home Enjoy fruit trees swimming pool fountain & gardens lWalking distance to mall, grocery store, movie theater & restaurants. Centrally located to Malibu, Santa Monica,Venice,Hollywood, Beverly Hills, West LA This spacious 2 story 4000 sqft home is fully furnished and beautifully decorated! Coffee and donuts are served every morning;) Please keep in mind that this is a shared space, and that your large room consists of 2 bunk beds, your own dresser, hamper, and closet space. You will have full access to the rest of the home.  We provide a safe, clean, and positive environment, perfect for people relocating from out of state, students, and anyone else who needs a landing place while traveling. Near public transportation; ORANGELINE, 405, and 101 FREEWAYS. You will have full access to the rest of the home.  We do have private and 2 person and or couples rooms available in the same property. Full kitchen privileges  All Premium Cable and movie channels  Full se    3\n",
       "I have other listings in the same apartment: https://www.airbnb.com/rooms/16191596?locale=en https://www.airbnb.com/rooms/16193259?locale=en https://www.airbnb.com/rooms/16191967?locale=en https://www.airbnb.com/rooms/16193729?locale=en Apt is 3 mins to subway station '59 Street' in Brooklyn, for N and R line. We are sharing a four bedroom apartment at sunset park of Brooklyn. This is a convenient and nice location 3 mins away from N/R train(59th St subway station) . You can take N (express) train to Manhanttan in 20-30 mins. In our apartment , Our kitchen is free to use, we have all basic cooking stuff. Our Living room, kitchen and bathroom will be shared.  For off limits, of course other bedrooms are not allowed to enter with out permission.  I will always be there in the apartment, at least twice a week to meet our guests and do the cleaning job. If you have any questions, also feel free to message, txt or call me. Just let me know, if you have any questions. The Apt is between the     3\n",
       "Hello!! Thank you for checking our listing! We have 3 other listings available so please take the time to look at them to see which one better suit your needs. If you’re looking for a home away from home, look nowhere else! Our rooms are located in a cozy 3 bedroom apartment in a newly constructed building. We will be sharing the kitchen, which comes with a complete set of kitchenware and also the bathroom among the other roommates. The bedrooms are beautifully decorated and each one of them is unique with its own color theme and fragrance. Nice and clean bed sheets, towels and comforters are also provided during your stay.  Our location is in Elmhurst, also known as a tiny Chinatown in Queens. It is very convenient with only 5-10 minutes of walking distance to the Grand Ave Newtown Subway station (M, R trains), Buses, Shopping malls, Grocery stores, Restaurants, Bakeries, Laundromat and many more amenities.  We are looking forward to hosting you! Jackie & Tyas                             3\n",
       "Located in the heart of the Mission District, consider this your home away from home. Peaceful and comfortable, yet close enough to pretty much everything San Francisco is known & loved for, as well as some lesser known (equally loved by those who do) sights. You'll have a modern, cozy, private bedroom with a full/queen bed within this 4 bedroom, 2 bathroom house. (You'll be sharing the main areas of the house with Brian/Angela and two other guests, plus two small rescue dogs :) Your bedroom is equipped with a large, flat screen television set up with Chromecast and is decorated with paintings commissioned by a friend who dabbles as an artist. Jacques and Bijoux are sweet and playful pups who live here. If you want to play or cuddle with them, they'll love it. (If not, don't worry, they do not have access to the bedrooms or bathrooms.) A beautiful living space and shared backyard patio with a gas grill, premier location in the culturally rich Mission district (the famous Balmy Street m    3\n",
       "A handsome colonial house set on a tranquil side street. Fully furnished with spacious rooms. Easy commute to Downtown with nearest bus stop only a 5 minute walk away. Near restaurants, grocery and shopping arcade. Laundry and WiFi available.                                                                                                                                                                                                                                                                                                                                                                                                                                                                                                                                                                                                                                                                                                                                                                                          3\n",
       "* The home is calm, but house party the day of Sep 16 to celebrate the sheep arriving across the street. Just for that afternoon. * Comfortable queen-size bed in private room in a three-bedroom NoLiTa/SoHo apartment with 360 degree rooftop view. Lively but peaceful neighborhood with shopping and great restaurants. Less than 2 minute walk to 7 subway lines (B,D,F,M,6,N,R). Beautiful apartment with rooftop view. Shopping and restaurants and bars nearby.  7 subway lines less than two minutes away. Beautiful renovated building. The apartment has three private bedrooms. There are additionally two bathrooms, so access to a bathroom is never a problem. We have a rooftop deck with one of the best views in New York, from the World Trade Center to the Empire State Building and even the Williamsburg Bridge. Right in front of us is a 19th century cathedral with large trees and a pasture for sheep in a historical graveyard. Bedroom, kitchen, bathroom, private rooftop belonging just to my apartment,    3\n",
       "Remarkably located in the heart of Chelsea in Manhattan, within walking distance of Penn Station, Madison SquareGarden, High Line Park and Theater District our hostel type separate rooms are simple, cozy, and very clean. Although small in size they are centered around a spacious common lounge area with free WiFi. We are located in the heart of the historic Chelsea neighborhood, West Side Manhattan: between 28th and 29th Streets on 8th Avenue. The freshly renovated hostel rooms here are simple, cozy, and very clean. Our management crew is on-site 24/7 to make sure everybody is happy. There is free WiFi here. Fresh, clean sheets, pillows towels and blankets are there for you. Although small in size the retreat guest rooms here are centered around a spacious common area. As a friendly, peaceful atmosphere, the common room is a perfect getaway from your busy day in the city. There is also a small library of spiritual books that can keep your mind engaged during a respit from the busy stree    3\n",
       "The Brooklian is a sunny apartment with great views of the city, super conveniently located to public transportation .Clean, spacious, with low key furnishing  combined with all the conveniences needed. The Brooklian is within a pre-war building with those original interior design, still as they were! There are 3 queen bedrooms and a queen pull out couch in the living room, this listing is only for one room. Prospect park, Botanical Gardens, and the Brooklyn Mueseum are 10 mintues away. This add is in reference of one bedroom, if you want to reserve the all apartments or more bedrooms please write to me before booking. Brooklian is the best apartment in Brooklyn with an Italian touch to make it even better, the ambient is bright and spacious, furnished in a minimalist but essential way for your best experience! The kitchen is fully equiped with all the basic and more advanced kitchenware, microwave, coffee machine, toaster, food processor, nutribullet and electric grill sandwich press.    3\n",
       "A very cozy house located in the heart of Hollywood between two famous streets: Beverly Blvd and Melrose Ave, within a safe and quiet neighborhood, 30 minutes from LAX, 15 minutes from Downtown LA, 15 minutes from Griffith Observatory, 15 minutes from Hollywood Walk of Fame, 15 minutes from Universal Studios, 5 minutes from Paramount Pictures. There are lots of restaurants and shops nearby. My favorite is Osteria La Buca:) A great house in the central area of Los Angeles suitable both for travelers and business trips. It is fully equipped with all you need and freshly renovated. FREE PARKING:)                                                                                                                                                                                                                                                                                                                                                                                                                    3\n",
       "Welcome to my home! It's a nice, newly renovated brownstone townhouse in the heart of Brooklyn. Close to major train lines: 1 minute to the J train and 4 minutes to the C train. Both trains will get you to manhattan in 15-20 minutes. My place is good for business travelers and tourists and has that wonderful feel-at-home ambience.                                                                                                                                                                                                                                                                                                                                                                                                                                                                                                                                                                                                                                                                                                3\n",
       "Beautiful, comfortable, clean, cozy rooms near shopping mall, diner, and public transportation.                                                                                                                                                                                                                                                                                                                                                                                                                                                                                                                                                                                                                                                                                                                                                                                                                                                                                                                                             3\n",
       "Located at Laurel Hights close to USF, Golden Gate Park, Golden Gate Bridge and Shopping Center. We are steps from MUNI station and 15 minutes Bus ride or Lyft/Uber ride to downtown. The room has a queen sized bed with incredible comfortable mattress which is perfect for a restful night after a day in the city. There is free parking on the street. Free fast Wi-Fi.                                                                                                                                                                                                                                                                                                                                                                                                                                                                                                                                                                                                                                                              3\n",
       "Luxury apartment refurbished in 2016, centrally located in between the West  End and Georgetown, fronting Pennsylvania Ave. Walkable to many bars, restaurants and nightlife, most major tourist attractions, GW University, World Bank and Embassies. While I am always happy to answer questions about the apartment and the local area I really appreciate it when guests take the time to read the detailed house manual (hard copy in apartment and also on the AirBnB site), and the other pieces of correspondence I will send you. The best way to contact me is through the AirBnB app as I like having all correspondence on one device. Its rare I will answer my phone when I can’t identify the number. I am very prompt at returning inquires through the app and will be happy to jump on a call when needed. I am very good at communicating with guests as you can see by my ratings and reviews so please be patient and give me a minute to reply. Enjoy your stay! The property is located directly in the cross sec    3\n",
       "Loft Suite @ Henry Norman Hotel Located in Greenpoint, Brooklyn and housed in a converted 19th-century warehouse, the Henry Norman Hotel features modern lofts and suites with hardwood floors, antiques and contemporary art. The Loft Suite features a bedroom area with a Queen size bed and a comfortable pull-out sofa in the living room area, which in total can easily sleep up to 4 guests. The loft is equipped with 42\" LCD HD TVs in both the living and bedroom areas with premium cable channels (HBO, Showtime & more). There is a mini refrigerator plus tea and coffee making facilities for your convenience. There are hardwood floors throughout and a full bathroom with a shower/tub combination. Sleeps up to 4 guests. Guest will have access to common terraces, lounge area, business center with 2 iMac computers, fitness center with dry sauna and steam shower, and laundry room. Greenpoint is an artsy Brooklyn neighborhood filled with great restaurants, cafes, and shops.                               3\n",
       "My Cozy West LA / Mar Vista 1BD 1BA Home just 15 Min from Venice Beach. Features a queen bed and living room with comfy sofa, TV with HD Cable, High Speed Wifi, Full Kitchen with Gas Stove, Fridge, Microwave. Completely Private Apt not shared. My Cozy West LA / Culver City 1BD 1BA Home. Features queen bed in bedroom and living room with comfy sofa, TV with HD Cable, High Speed Wifi, Full Kitchen with Gas Stove, Fridge, Microwave. Completely Private Apt not shared. Entire Apt is yours with no restrictions and is not shared in any way. Just take care of my home as if it were your own please and be respectful to the neighbors. I am accessible should you need anything, have any questions or if you would like some great restaurant/tourist tips. Otherwise enjoy your stay and the home as if it is yours! Super centrally located in the heart of West LA. 10 Min to Venice Beach (less than 5 miles) Downtown Santa Monica (5 miles) and walking distance to beautiful downtown Culver City where you wil    3\n",
       "Check in as early as 10am!  Discounts for long stays! Steps from the High Line, and a block from major transportation this immaculate, sunny room is perfectly situated in one of the most desirable downtown Manhattan neighborhoods! This is a private room in a four bedroom apartment.  The host who lives here is a designer at an international fashion brand.  The decor, over -sized windows and 11 foot ceilings represents the style, modernity, and warm feeling that the Chelsea has to offer. The bedroom is one in a four bedroom apartment that is in the heart of prime Chelsea.  Please note, the apartment does have a live in host, and other guests - but your bedroom is your private space and oasis in Chelsea.   The room has a high bed so you can store your luggage underneath, a sturdy shelf near the bed to store items under and place your laptop or other items on.  A small closet, and long mirror.  It's a quiet building on a quiet street, but within walking distance of some of the most popular    3\n",
       "THINGS TO NOTE: This is room 2 of 2, both of which are on the lower floor of a multi-floor apartment space.  I and my co-host will be upstairs if you need anything, so you will practically have the entire space downstairs to yourselves IF YOU RENT BOTH ROOMS.  Otherwise, you will be sharing the space with us or another guest.  If you need anything, simply knock on our door upstairs! - There's a SECURITY CAMERA aimed at the entrance/exit to this unit as part of our business insurance. PermaGO® is focused on delivering a quality travel experience! For the first time ever, we are giving NON-members a chance to experience our exclusive network of Home Bridges®, or SHARED International Guesthouses in New York City. Learn more! THE SPACE You know that feeling you get when you stumble upon something simply amazing and you don't exactly know how to proceed?  By now, you've seen what our PermaGO Home Bridges look like: they're clean, modern, and amazingly comfortable. If you've done some resear    2\n",
       "Private bedroom in Temple City, close to Arcadia, Pasadena area including kitchen, laundry room, dining room, living room; convenient location, walking distance to bus stop/main street, restaurants and Ralphs supermarket                                                                                                                                                                                                                                                                                                                                                                                                                                                                                                                                                                                                                                                                                                                                                                                                                2\n",
       "RAMS game 1.07 miles at LA Coliseum only 7-10 minutes from our attractive 3-bdrm 2-bath Home-Away-From-Home of Comfort & Relaxation. Contemporary/Country rooms w/2 porches, back-yard and parking. Located on Palm Tree lined, quiet neighborhood, fenced yard w/Surveillance/Alarm System for added security and protection.  Also close to Expo Park, USC, LA Live, Staples/Convention, Fashion/Jewelry Districts, The Forum, Hollywood Park Casino, Hollywood, Beverly Hills and other attractions & businesses. You will find yourself in a home-away-from-home atmosphere that is quite comfortable, clean and uncluttered, providing you a serene stay. There is a flat screen television and DVD unit in your private room as well as one in the living room. There is a surveillance system covering all common areas inside the home and all outside areas of the property (not in bedrooms and bathrooms). There is also an active ADT alarm and emergency system (Code will be provided for your usage). WIFI is also includ    2\n",
       "My place is close to family-friendly activities, public transport, the airport, and nightlife. My place is good for couples, solo adventurers, business travelers, and furry friends (pets).  Home is located on a cul-de-sac with plenty of parking.                                                                                                                                                                                                                                                                                                                                                                                                                                                                                                                                                                                                                                                                                                                                                                                       2\n",
       "This newly renovated 2 bedroom apartment in the the Boston Financial District is perfect for your trip. A short walk away from the Boston Waterfront, you’ll be in the heart of everything including amazing shops and restaurants! The apartment features modern decor, open space, and huge windows that provide great views of the neighborhood. If you’re looking to see some of the best parts of American culture, this is a great place to stay. We have all the essentials you need including WiFi and A/C. Enjoy your stay in the heart of Boston. This 2 bedroom apartment is located in the center of the Financial District, close to the Boston Waterfront and Freedom Trail. Explore. Walk the streets to see the historical Boston Harbor, or walk the path that Paul Revere took. If you’re a sports fan, catch a Celtics or Bruins game at TD Bank or see the Red Sox play in Fenway, the oldest ballpark in baseball. Everywhere you look will remind you of American history as you will be in the center of it all.     2\n",
       "Our social and vibrant hostel in downtown SF is the place to stay! Each room has 2 full size beds, or one full size bed and 2 single beds . We focus on creating a community where  guests can gather together, share a meal and exchange travel stories! Each room has 2 double beds bunk bed style. This is a shared room and there will be another two guests in the other double bed.   We provide a complimentary hair dryer and $1 towel rental from the front desk. There are five bathrooms on each floor, each with complimentary Essential Oil organic lavender shampoo, conditioner, and shower gel. We also have a free sauna on the top floor and massage chairs in the lobby for your every relaxation need. Our Grand Ballroom is the heart of the hostel where people play music, make friends and unforgettable memories, fall in love with the city and each other, and raise glasses in celebration. The ballroom, where musicians are always invited to play, has a pool table, foosball table, books, games, and co    2\n",
       "Good for couples,  adventurers, business travelers, and families. This apartment has 3 private lockable BR, each with 1 queen bed. Each of the 3 rooms has a separate listing and can be reserved separately for larger groups or by other guests. Common kitchen, bath, dining rm, living rm. Plenty of free on-street parking available. Urban location 7mi south of downtown, easy trip. Uber costs about $15 or about half that if ride-share can be used.  uber to the train station is about $5 then $2.25 ea each Bedroom has a keyless lock that can be locked from the outside for extra security. Guests have access to a private lockable bedroom. In addition, guests in the 3 bedrooms share a common bathroom, kitchen, living room and dining room. This is a second floor unit. Free street parking available                                                                                                                                                                                                               2\n",
       "We are located near the center of Flushing, the transportation is very convenient. The neighboring restaurants are great, if you love Asian food, definitely try it out :) - 120 sq. feet - 1 Queen bed - 1 window Kitchen: Fridge, Microwave, Kettle, Disposable Tableware I would love to answer all your inquiries and i speak English, Mandarin, and Cantonese. Nearby Shops/Restaurants/etc.:  Down the block for for take out, grocery, etc. Downtown Flushing for restaurants, shops, delis, bakeries, groceries Recommended restaurants: Sentosa (Malaysian, Chinese, Vietnamese), Joe's Shanghai, Grand Restaurant (Dim Sum), Kum Gang San (Korean), Little Sheep Mongolian Hot Pot, Coco Bubble Tea, there are a ton everywhere, take a walk through downtown Flushing! Nearby colleges: This is the perfect location when visiting St. John's University, Queensborough Community College, Queens College, Hofstra University, Long Island University, Adelphi University and several in Manhattan: John Jay, Hunter, City Co    2\n",
       "                                                                                                                                                                                                                                                                                                                                                                                                                                                                                                                                                                                                                                                                                                                                                                                                                                                                                                                                                                                                                                           ..\n",
       "My partner and I are offering a wonderful bedroom & private bath in our 2-bedroom condo. 5-15 minute walk to anything you may need. The space includes a gorgeous outdoor patio, great work space, comfy chair & mid-century modern decor. We have a large 1400 square foot 2-bedroom 2-bath condo in the heart of West Hollywood with an additional 300 square foot outdoor living space. We are renting the extra private bedroom and bathroom. Your bedroom is very large and has a full-size bed, comfy chair for reading/working, a desk with large work space, dresser and closet space. We also have Apple TV in this room to stream anything from your computer or use our Netflix & Hulu accounts. The floor to ceiling glass doors looks out onto a beautifully peaceful outdoor space. Make yourself at home! There is a couch, lounging area and dining table in the outdoor space. It is fully covered and on the rare days it rains in LA you couldn't ask for a better spot to read a book. The building has a gorgeous p    1\n",
       "Come enjoy our comfortable guest bedroom with private bath, and access to a lovely living area, laundry, back garden, and kitchen for some basics (you can store stuff in the fridge and use the microwave, but can't use the stove/oven for bigger meals), as you explore charming Bernal Heights and the rest of San Francisco and the Bay Area. The house is an original 1907 cottage, built just after San Francisco's 1906 earthquake and fire, when Bernal Heights started growing. In the bedroom there's a dedicated closet for your clothing, and the full bathroom will be all yours, except for our daughter's nightly bath at 6 pm, including a very large linen closet/medicine cabinet. There will be limited access to the living/dining areas, kitchen (for light use only, as we'll be cooking our dinners), laundry, and back patio/garden. The bed is a pull-out sofa, but it's the most comfortable one we've ever seen - one of the queen size beds from American Leather. We'll provide some tips on exploring the    1\n",
       "In the heart of Venice, here is a charming pool house which has all of the basics needed to have a wonderful time exploring LA. Must love dogs (I have 2!) and shower/bathroom is rustic and outdoors with a cool surf board door. See photos! Welcome to the best spot in Venice 7 blocks to the beach and Abbot Kinney Blvd! With your own private entrance, you have a charming pool house in the back of my house with all of the amenities necessary to spend most of your time exploring the city.  You have your own private entrance with two twin beds (one pulls out and they can be put together to make a king bed), TV, Wi-Fi, access to beautiful outdoor seating , the kitchenette has  a refrigerator with separate freezer, coffee & espresso maker, toaster oven and microwave, filtered water dispenser, but no full kitchen, washer/dryer and access to my bikes, boogie boards & skateboards! The shower/bathroom is located outside in a fenced-in area with a surf board door. I will provide the basics: shampoo    1\n",
       "Our clean and modern studio is essentially like a whole unit with a separate entrance. We are in a great location between The Castro and Noe Valley. This studio is perfect for two people and close to public transportation and great restaurants. This studio is essentially a separate unit. There is a separate entrance and locked doors between the rest of the house. It is ideal for the traveler that wants the Airbnb experience of being in a neighborhood, but wants more privacy. The studio is ideally suited for 1-2 people. The kitchen is equipped to make a quick breakfast on the go or a simple home cooked meal. Internet access and cable TV are also provided. The central beam in the ceiling is a little on the low side so anyone over 6 feet tall, may not like the space. This unit is located beneath a single family home. It has a separate entrance and you will have the entire unit to yourself. There is no access to laundry or outdoor space. My family lives upstairs so we can be a resource for    1\n",
       "My place is close to Lower East Side, The Box, New Museum, Soho, Apple Store, Chinatown, South Street Seaport, Financial District, Battery Park, East River Bikeway. You’ll love my place because of the people, the neighborhood, the balcony, the view of the water, the proximity to night life, the quiet. Private bedroom with shared balcony, kitchen, bathroom. Bright natural  light. Large common area, bathroom and kitchen. Futon in the living room. Creative space for yoga, movement, art. We are a new age family in our thirties with a 5 month old son. We're involved in the sacred arts, yoga, hip hop and healing modalities. We love hosting visionary, kind, eclectic folks from all around the world. We make art and practice yoga in the common area. Occasional ecstatic dance parties and mantra meditation are a must! We often bring home extra green juice to share with guests. Trendy eats, sightseeing, bars, art galleries, shopping boutiques, river promenade, sea port, yoga studios and more all w    1\n",
       "Live like a true New Yorker in the heart of Manhattan! Beautifully renovated 3 bedroom / 1.5 bathroom apartment in Midtown Manhattan walking distance to everything (Empire State, Times Sq, Madison Square Garden, Grand Central, Macy's, Restaurants, etc...) 3 bedrooms each with a Queen bed, large living room, air conditioning, heat and TV in every room. This spacious modern apartment is located in the heart of bustling midtown and minutes from some of New York City's most famous attractions, including the Empire State Building, Grand Central, and Times Square! The apartment is newly renovated and features high ceilings, beautiful wood floors, a big open living room, fully stocked kitchen, roomy bedrooms, and a washer/dryer in unit.  There are 2 bathrooms and 1 shower for your convenience. Since the apartment is in the heart of Manhattan, there is something to do in every direction. Walking: - 8 min walk to the Empire State Building (west) - 18 minute walk to Times Square (west) - 15 minu    1\n",
       "This unit is not lived in. It is only for our most welcomed guests. Have breakfast on your balcony, sporting one of the best 180° views in LA. Watch the sun rise over the downtown skyline in the East, then toast to life and your accomplishments while watching the red sky and beautiful sun set to the West, as it bids a lovely farewell behind the buildings of Century City. See the shimmer of the ocean and sometimes on a clear day, Catalina Island! Enjoy cable TV and high-speed internet. This apartment is part of a Triplex that is behind an electric wooden gate. Your door key opens the gate. The house in built into the crest of a hill so, from the deck you will look over and out onto the rest of the world. ( ;  Two blocks below you lies Sunset Junction. In this sleek yet cozy apartment you will find a full size high end washer, dryer, stove/oven, dishwasher, wine captain, coffee maker, pots, pans, dishes, heater, air conditioner, microwave, a small couch that folds down perhaps for a chil    1\n",
       "Located in a prime location near Dupont Circle/AdMo, this English basement apartment will make you feel right at home. Recently renovated and fully furnished with a queen size bed and a full kitchen and bath, as well as in-house washer and dryer.  Apartment is directly behind the Washington Hilton. You will be close to everything you want to see in DC!  Walk to AdMo, DuPont, Georgetown, U Street.  Metro trains are less than a 10 minute walk to either Red or Green lines; very close to numerous Metrobus lines.   Clean, private apartment with its own entrance separate from the main house. There are two sleeping spaces, one bed in the bedroom and a sleeper sofa in the living room.  Each can fit two people. You'll have your own full kitchen, including a dishwasher, stove, oven, fridge, coffemaker, and also access to the washer & dryer. I'm a long time DC resident and live upstairs, so I'm available and happy to suggest things to do around the city.  You won't see me unless you want to, howe    1\n",
       "Sunny, unique home with a treehouse theme in the center of the Bay Area's attractions. A 15 minute walk get you to the attractions of the Castro, Mission District and SOMA. With public transportation you can quickly get everywhere else.  If you find ladders, levels, wood and little nooks fun you are going to love the Mission Treehouse. We treat everyone in the Airbnb community—regardless of their race, religion, national origin, ethnicity, disability, sex, gender identity, sexual orientation, or age—with respect, kindness and compassion, and without judgment or bias. This is an LGBTQIA friendly household.  .: About the Mission Treehouse :. * 2 bedroom and 2 FULL Bathrooms * Excellent Location - The Mission District! * Near Downtown, Moscone, Castro, Soma and the Sights * Parking - Private Attached Garage * Full Kitchen * Wonderful Details and Decor I have lovingly crafted my 3 story modern condo into a romantic playground of my dreams and I'm happy to share it with you. Both bedrooms h    1\n",
       "2 BR Apt in very convenient Location. This place is perfect size for a family group or two couples. There are so many good restaurants & bars & cafes & rooftops in couple of blocks! Famous tour sites are all in walking distance, Bryan's Park, Madison SQ Park, Empire State Building and much much more! Small But Cozy Two bedroom Apt in one of the best neighborhoods! It is located on 4th Floor in walk up building. There are one double bed and two singles, also a couch that can be converted to bed in the living room. It isn't really suited for full cooking, however there are full size fridge, microwave and electric stove for your needs thru airbnb Herald Sq has everything that NYC has to offer! Great location for Sightseeing and touring around! Great bars & restaurants are available in couple blocks away! Macys, Empire state building is around the corner! Yellow (N,G,R) and Orange (F,D,M,B) Trains are available                                                                                    1\n",
       "My place is close to the Subway Station ( 1 min walk) ,  Local Restaurants, (Sip N Chat Cafe) (Suede NYC) (Footprints) and many more.   Target, Brooklyn College, for the health nut Healthy Blendz Juice Bar, all in walking distance.  The Kings Theater is a five minute cab ride away; and we are a few train stops from Brooklyn Museum, Botanical Gardens, Prospect Park, Barclay Center and the Brooklyn Academy of Music (BAM) To ensure that my guest have the most comfortable stay the space is decorated in a elegant hotel style. No access to the linen closet, which is locked.  Guest will have open access to every other apace in the apartment. Arrangements can be made,should our guest need assistance during their stay. Guest who wants the space clean during their stay can also request for the service. Beautiful people, Restaurants, Theaters, Shopping, Bars you will find it all in the neighborhood.   Feel like dancing to soca or reggae music, located on 29 Street and Avenue D, Sip n Chat is the     1\n",
       "Walk to most New York Hot-Spots: Union/Time Square, Grand Central, Penn Station LIRR, PATH, Airport Shuttles.. United Nations, Korea Town, Flatiron-Madison Park also Subway Trains, CitiBikes, Buses, Car Parking round the corner. Long Term Inquiries Welcome (3 to 6 moths or longer +30% less:) Area known as Murray/Curry Hill:) Kips Bay, NeoMad (North East of Madison)  Sunny Walk-Up; Cozy Room/Apartment got basics covered (not like Hotel) simple, nothing fancy. ALL welcome to grace my humble home. Sunny own room with tall window, own fireplace and AC, share cozy living room also with own fireplace and AC .. simple functional homely apartment- scholarly, books, arts-crafts, green plants around..  old walk-up building (no lift/elevator, no doorman/concierge, nothing fancy, all the basic needs- furniture, amenities, wi-fi, pots-pans etc etc available.. it's a 3 bedroom 1100 square feet apartment entire 3rd floor and all hardwood flooring (except kitchen and bath with stone tiles) it's a humb    1\n",
       "A spacious and beautiful apt in Washington Heights in Manhattan, NYC. 2 blocks away from the express A train right by the George Washington Bridge. Under 30 minutes to Midtown Manhattan. Elevator, washer dryer in building, coffee &wifi.                                                                                                                                                                                                                                                                                                                                                                                                                                                                                                                                                                                                                                                                                                                                                                                                1\n",
       "Comfortable 1-bedroom apartment on 26th St. btn Park and Lex; close to Madison Square and Union Square Parks; 2 blocks from 6-train. Perfect for mom, dad and a few kids.                                                                                                                                                                                                                                                                                                                                                                                                                                                                                                                                                                                                                                                                                                                                                                                                                                                                   1\n",
       "We invite you into our spacious 1-bedroom apartment located in the center of the East Village - the most happening neighborhood in NYC. With nearby parks, bars, and restaurants, you'll never be searching for something to do. Welcome to our charming, true one bedroom in the East Village!   Our apartment is in a pre-war building on the 5th floor of a south-facing walk-up (plenty of light!)  The space has lots of character with original floors and french molded walls and ceilings.  It doesn't get more authentic than this!  It has a living room, dining room and separate kitchen; quite a rare feature for the neighborhood. Each bedroom includes a queen bed with fresh linens and brand new furniture.  Each room sleeps two people, and are of equal size.  The bathroom features a shower and bathtub.  There is a dry cleaner in our basement. Check-in and check-out times are always flexible. Included:  - Fresh linens & towels  - WiFi Internet  - Flat screen HDTV with basic cable and Apple TV - Fridg    1\n",
       "The apartment is furnished with modern amenities, close to restaurants, bars, and shopping on Clement street. It is set off the street so it's very quiet with no street noise at all. The only noise you'll hear is the fog horns from ships passing under the Golden Gate bridge. It's a very relaxing space. I love San Francisco and have lived here since 2009. Happy to provide recommendations to my guests! I hope you love the apartment and neighborhood as much as I do! The condo comes fully furnished in a recently renovated six unit building near the Presidio. The kitchen comes stocked with modern appliances including a dishwasher and cooking materials. Two large couches in the living room for lounging, with a view of neighboring houses and the University of San Francisco! Guests will have access to the entire unit, including the kitchen, two bedrooms, dining and living area. I am pretty hands off during your stay.  I will check in to make sure everything is going well and you are having a g    1\n",
       "Come stay in our beautiful house. Free parking, 2 bedrooms with comfortable beds, 1.5 bath, great kitchen, large living room (2 couches sleep 2 people) and dining room. Close to the red line and commuter rails which take you to Boston Center in no time. Grocery stores around the corner. Renovated Dutch Colonial house, 2000 sq ft of space in a safe and quiet neighborhood. The Red line is on an 8 min walk and takes you to the city center in no time. The house has all amenities you need for a great family stay in Boston. There are two queen beds, and 2 comfortable couches in the living room. There is one and a half bathroom, towels and everything provided. Laundry and dryer are available as well. The kitchen is fully equipped and is a great place for cooking and socializing. The dining table sits 8 people comfortably. The living room is cozy and has a fireplace. There is a separate apartment on the top floor of the house, where a young couple of friends lives. They do have to walk through    1\n",
       "My place is close to Los Angeles County Museum of Art, La Brea Tar Pits, Starbucks, Urth Caffé, and The Counter. You’ll love my place because of the light, the comfy bed, the kitchen, the coziness, and the high ceilings. My place is good for couples, business travelers, families (with kids), big groups, and furry friends (pets).                                                                                                                                                                                                                                                                                                                                                                                                                                                                                                                                                                                                                                                                                                  1\n",
       "1.5 BDR's  800 SF High-end build apartment with a big bedroom with a queen size bed and another smaller one, good for one person with a twin size bed. The living room kitchen area is the space you will spend most of your time and most likely you will not want to leave home some times.  Short walk to Soho, Little Italy, East Village. Many great restaurants, bars and shops nearby. It has 1 1/2 bathrooms. It is very comfortable for 3 or 4 people at maximum. Very comfortable custom-built and designed by an architect 1 and 1/2 bedrooms apartment with high end appliances lighting done by a lighting designer and hidden fans to keep you cool in the summer.  Please note, the second bedroom is separated from the master bedroom by tall wooden doors. That is resulting the sound proof between the two rooms not to be very good. The apartments is located in a diverse area with many bars restaurants and coffee shops, very close to many great neighborhoods such as SOHO, Little Italy, Chinatown, East Vi    1\n",
       "BRAND NEW LISTING! This is the ultimate place to stay in LA in an upscale neighborhood with amazing features. Ideal for tourists, traveling business professionals, small families, and anyone who needs quality accommodation. Accommodates up to 4! This is a beautiful, stylish, top-floor, high-ceiling apartment in the heart of Hollywood in an upscale neighborhood. This 1 bedroom 1 bath apartment can accommodate up to 4 people comfortably. In the bedroom you can find two twin size beds, that can also serve as one king size bed when pushed together (there's no gap). In the living-room, a sleeper sofa can also accommodate up to two people on a queen size mattress. Wifi, cable TV, Netflix, YouTube are ready to use for your entertainment. The kitchen is fully equipped, so you're welcome to prepare your own meals. You will have the entire apartment for yourself, and all the amenities in the building like a large, temperature controlled pool, a hot tub, a rooftop sundeck, and a gym, and free wif    1\n",
       "Beautiful and spacious living room and loft of 1-bedroom parlor floor loft apartment with 13 foot ceilings and a brick wall on one side. Includes two futon beds -- one in the living room and one upstairs in the loft. Beautiful and spacious living room and loft of 1-bedroom parlor floor loft apartment with 13 foot ceilings and a brick wall on one side. Includes two futon beds -- one in the living room and one upstairs in the loft. *** NOTE: The living room will essentially be yours as your own room during your stay, and we will just share the bathroom and kitchen. I will not be using the room to play piano or make music during your visit. *** Located in the heart of the Upper West Side, this charming brownstone apartment overlooks a lush garden below. Cafes, museums and shops are literally right on the corner when you step outside. Historic Central Park is one block away and Riverside Park / The Hudson River is just a few blocks away. The Museum of Natural History is just up the block a    1\n",
       "Stunning apartment in the most desirable neighborhood of central DC.   1BR studio apartment in the brand new Atlantic Plumbing building in the north end of the Shaw neighborhood. (URL HIDDEN) 3 blocks from Metro.  1.5 blocks from the bars and restaurants of popular U St. Washer-dryer in the apartment. The building features a full gym, pool table, rooftop lounge, view of downtown. Spectacular ramen restaurant, movie theater, and music venue on the block. Dog-friendly. There is no tv in the apartment yet, but there is one in a common space lounge on my floor. This is an apartment that I live in most of the time and rent out when I am traveling.  Please leave it as clean as you found it.                                                                                                                                                                                                                                                                                                                       1\n",
       "Lovely, fully furnished and newly renovated two bed/two bath Victorian townhome.   Feel right at home in the South End near Back Bay! This tastefully renovated and decorated condominium in the South End is fully furnished and ideal for 1-4 guests looking for a convenient and comfortable home-away-from-home in the heart of Boston. The two bedroom / two bathroom condo occupies two full floors (1,200 sq feet) of a 1895 Victorian townhome.  It comes with everything you need for a comfortable stay including high speed wi-fi, 48 inch TV, central air conditioning, washer/dryer, and spacious private back patio.  The space was renovated in 2014 and all furniture is brand new as of 2016.  You enter the apartment from a quiet tree lined street of Victorian brownstones.  The entrance to the condo is to the left of the main staircase down 3 steps with a large 54A next to the door. The main street level includes a bedroom, bathroom, and combined living and kitchen area.   The living area has a sofa,    1\n",
       "My place is 2 minutes' walk to subway redline (the L), bus station right downstairs, 5 minutes' walk to the lake. You’ll love my place because of the amazing location, in the heart of gold coast, right next to Rush Street with 10+ restaurants, and 10 minutes walk to the Magnificent Mile.  Cozy space with all essentials you need for a long weekend.. My place is good for couples, solo adventurers, and business travelers. You will have complete privacy during your stay. Most likely I won't be in town but will put you in touch with highly rated co-host (recommended by airbnb, fee covered by me). Enjoy Chicago!                                                                                                                                                                                                                                                                                                                                                                                                       1\n",
       "Our beautiful and colorful apartment is right next to a subway stop, beautiful Columbia University, tons of restaurants/bars, the Hudson River, and has views of downtown Manhattan, New Jersey, and the Hudson River with a 26th floor view and no tall buildings in front. We are currently renting out the studio room with a shared bathroom and the sofa bed as pictured. We can add an extra inflatable twin mattress if you prefer to have two beds or for a third person. Just let us know so we can be sure to have it ready for you! Our apartment has tons of space (unlike most NYC apartments) and we are a laid back couple.  We will give you keys to come and go as you please and only interact with you as much as you would like.  You are welcome to use our kitchen, refrigerator, and washing/dryer machines. You will have incredible high-rise views of the Hudson river and downtown Manhattan and be right next to the Hudson River (a great running/biking/walking spot), a fabulous organic supermarket (Fai    1\n",
       "Located about 11 minutes drive from the city, this is one of the best places to  live if you're looking for a short-term housing (30-day minimum stay).                                                                                                                                                                                                                                                                                                                                                                                                                                                                                                                                                                                                                                                                                                                                                                                                                                                                                     1\n",
       "Beautiful and bright East Williamsburg, Brooklyn apartment, very clean. Nice living space. AMAZING ROOFTOP. Laundry. Full Kitchen. Big (NYC standards) Private room, 2 min walk to L train (10 mins to Manhattan). Great Location - walk over to Williamsburg or go out in Bushwick. The apartment is a newly renovated, modern, Private 2-bedroom apt with exposed brick, hardwood floors throughout, 10 foot ceilings, and south-facing windows with a lot of natural light. You will have access to the rooftop with a 360 view of Manhattan/Brooklyn. The building is very safe and secure and the neighborhood is walkable anytime day or night. You are only sharing the space with myself (Matt) You will have full access to the common areas (living room, full bathroom, kitchen, roof deck). I live in the other bedroom but it is located on the opposite side of the layout.  Wifi is available and works great! I work late most nights and will certainly be available via texts for anything, without being in your way.    1\n",
       "A clean, well-designed room, with a comfy bed for 2.  It's Artistic and a Home at the same time. PRIME W'burg! Safe & secure location.  Central to both Manhattan & Brooklyn.  Easy to get anywhere in the city! WELCOME!    I've lived in Williamsburg for 10+ years and can help you with all kinds of tips :)   I'm officially registered with the state as \"Bridge Seal\" B&B; and have hosted over 700 guests since 2012, so you can know that I help you in any way! We have everything you'll need to make yourselves comfortable and enjoy the space!   We have for you: --Fresh and clean sheets and towels. --An elegant & plush Cherry-wood Queen bed. --Plenty of storage: A closet big enough for 2-3 suitcases/backpacks and 2 solid oak dressers. --Amazing morning light and airy vibe! --Newly installed light & sound blocking window drapery for the light sleepers and people suffering jet-lag.   --Your own Air Conditioning and/or Heater.   --Your bedroom has secure keyed locks. **Early check-ins (before 2pm)    1\n",
       "A comfy bunk bed in a shared room for a traveler on a buget :) Student dormitory like property Allways clean and comfy. Big rooms. FREE WIFI, AC, CABLE TV, UNLIMITED NETFLIX !! Lots of Buses, Stores, Restaurants, where you can get a full meal for JUST $5 !! Just 2 min to CONVENTION CENTER !!  3 min to Downtown, couple of miles to Hollywood, just 20 min to Universal Studios !  FREE Towels, Shampoo, Soap. 420 FRIENDLY LGBT FRIENDLY Why wait ? BOOK IT NOW ! :) nice and clean call me anytime ncie and safe                                                                                                                                                                                                                                                                                                                                                                                                                                                                                                                  1\n",
       "This private, cozy guest house feels like a cabin in the woods, but is only a few miles from Hollywood. Decorated like an enchanted forest cabin, we've created a place to get away to work, recharge & rest your head. NOTE: The full bathroom is in the main house. Our guesthouse is somewhat like a cabin. Nestled among beautiful trees, flowers and plants, it is a great getaway from the city of LA, while still being in LA. There is a kitchenette in the guesthouse, but the bathroom and full kitchen are inside the mainhouse. You will find yourself comfortable and at home here; in a creative, welcoming and peaceful space. We have tried to think of everything you may need, so you have a coffeemaker, microwave, refrigerator, towels, shampoo, robe and flip flops for the jacuzzi in your space, and a patio area outside so you can eat and enjoy the weather. We have a library in the guesthouse and you are free to read anything you like of course! We have a dog, Grover, a kitten, Willow, and a bunny,     1\n",
       "Name: description, Length: 28685, dtype: int64"
      ]
     },
     "execution_count": 22,
     "metadata": {},
     "output_type": "execute_result"
    }
   ],
   "source": [
    "df.description.value_counts()\n",
    "#Demasiado complicado utilizar esta variable para el modelo:\n",
    "    #diferentes idiomas\n",
    "    #tendrías que encontrar comunes palabras? o algún denominador que te permita clasificar la descripción en distintos niveles"
   ]
  },
  {
   "cell_type": "code",
   "execution_count": 23,
   "metadata": {},
   "outputs": [],
   "source": [
    "df.drop(\"description\", axis=1, inplace=True)"
   ]
  },
  {
   "cell_type": "code",
   "execution_count": 24,
   "metadata": {},
   "outputs": [
    {
     "data": {
      "text/plain": [
       "(28877, 26)"
      ]
     },
     "execution_count": 24,
     "metadata": {},
     "output_type": "execute_result"
    }
   ],
   "source": [
    "df.shape"
   ]
  },
  {
   "cell_type": "markdown",
   "metadata": {},
   "source": [
    "### name"
   ]
  },
  {
   "cell_type": "code",
   "execution_count": 25,
   "metadata": {},
   "outputs": [
    {
     "data": {
      "text/plain": [
       "Brooklyn Oasis                                        4\n",
       "Bunk bed in the Treat Street Clubhouse                3\n",
       "SHARED ROOM in VENICE BEACH HOSTEL                    3\n",
       "Private 1 Bedroom Apartment                           3\n",
       "Make的小屋（地理位置好，交通方便，洛杉矶市中心，提供机场名牌店景点等接送，包车游玩等服务）       3\n",
       "East Village Gem                                      3\n",
       "Spacious Private Room in Brooklyn                     3\n",
       "Venice Beach Cottage                                  3\n",
       "GREAT studio in Los Feliz!                            2\n",
       "Entire Apartment in Great Location                    2\n",
       "Cozy room in East Williamsburg                        2\n",
       "Brooklyn Modern Home                                  2\n",
       "West Village 1 Bedroom Apartment                      2\n",
       "Private room in Reseda, Los Angeles                   2\n",
       "Lux 3 Bedroom in Seaport Square w/wifi                2\n",
       "Adorable Apt in LA/West Hollywood!                    2\n",
       "Deluxe Loft Suite                                     2\n",
       "Newly Renovated Apartment in the Heart of Brooklyn    2\n",
       "Beautiful brownstone apartment                        2\n",
       "Beverly Hills Retreat                                 2\n",
       "Charming East Village Apartment                       2\n",
       "Sunny Williamsburg Apartment                          2\n",
       "Charming Studio                                       2\n",
       "Williamsburg Oasis                                    2\n",
       "Kanmore Guest House                                   2\n",
       "Echo Park Hills                                       2\n",
       "Room in heart of Williamsburg                         2\n",
       "Spacious Apartment                                    2\n",
       "Large Bedroom                                         2\n",
       "Spacious Loft 5 min to Union Square                   2\n",
       "                                                     ..\n",
       "Cozy BB #1                                            1\n",
       "Private room in exciting NYC                          1\n",
       "Hollywood Adjacent! Our Home is Yours!                1\n",
       "Clean sweet space in Bernal Heights                   1\n",
       "Incredible Views of Manhattan!                        1\n",
       "Charming Small Private Bed in 2 Floor Walkup          1\n",
       "Cozy Room near Casino and Metro                       1\n",
       "Charming Studio in Mt. Pleasant                       1\n",
       "Studio Russian Hill San Francisco                     1\n",
       "Studio with Loft bed by the river                     1\n",
       "Big light airy lovely condo!                          1\n",
       "Spectacular Telegr. Hill Townhouse                    1\n",
       "Quaint Guest House                                    1\n",
       "Hollywood Townhouse Apartment                         1\n",
       "Cozy private  room                                    1\n",
       "Location ! Hollywood Chic Apartment                   1\n",
       "Charming Boston Residential                           1\n",
       "Super large room                                      1\n",
       "Private Sunny Hyde Park Room & Bath                   1\n",
       "Quiet Room 20 min from times sq! Sunny,convenient!    1\n",
       "Upper East Side Studio - Close to Met Museum          1\n",
       "Big Gramercy - 3 Bedroom                              1\n",
       "Modern, private apartment near Metro                  1\n",
       "Sunny 1 BR Columbia/Central Park                      1\n",
       "Straight outta Compton-Cozy Place to stay!            1\n",
       "Great location! Room - 2 single beds                  1\n",
       "[1279] 2 BR/1.5 BA, Bi-Level Suite                    1\n",
       "Charming garden home in Echo Park                     1\n",
       "Cozy apartment in Astoria                             1\n",
       "Affordable 2BD/2BA Apt w. all amenities/free WIFI     1\n",
       "Name: name, Length: 28765, dtype: int64"
      ]
     },
     "execution_count": 25,
     "metadata": {},
     "output_type": "execute_result"
    }
   ],
   "source": [
    "df.name.value_counts()\n",
    "#mismo tema con description"
   ]
  },
  {
   "cell_type": "code",
   "execution_count": 26,
   "metadata": {},
   "outputs": [],
   "source": [
    "df.drop(\"name\", axis=1, inplace=True)"
   ]
  },
  {
   "cell_type": "code",
   "execution_count": 27,
   "metadata": {},
   "outputs": [
    {
     "data": {
      "text/plain": [
       "(28877, 25)"
      ]
     },
     "execution_count": 27,
     "metadata": {},
     "output_type": "execute_result"
    }
   ],
   "source": [
    "df.shape"
   ]
  },
  {
   "cell_type": "code",
   "execution_count": 28,
   "metadata": {},
   "outputs": [
    {
     "data": {
      "text/html": [
       "<div>\n",
       "<style scoped>\n",
       "    .dataframe tbody tr th:only-of-type {\n",
       "        vertical-align: middle;\n",
       "    }\n",
       "\n",
       "    .dataframe tbody tr th {\n",
       "        vertical-align: top;\n",
       "    }\n",
       "\n",
       "    .dataframe thead th {\n",
       "        text-align: right;\n",
       "    }\n",
       "</style>\n",
       "<table border=\"1\" class=\"dataframe\">\n",
       "  <thead>\n",
       "    <tr style=\"text-align: right;\">\n",
       "      <th></th>\n",
       "      <th>property_type</th>\n",
       "      <th>room_type</th>\n",
       "      <th>amenities</th>\n",
       "      <th>accommodates</th>\n",
       "      <th>bathrooms</th>\n",
       "      <th>cancellation_policy</th>\n",
       "      <th>cleaning_fee</th>\n",
       "      <th>city</th>\n",
       "      <th>first_review</th>\n",
       "      <th>host_has_profile_pic</th>\n",
       "      <th>...</th>\n",
       "      <th>latitude</th>\n",
       "      <th>longitude</th>\n",
       "      <th>neighbourhood</th>\n",
       "      <th>number_of_reviews</th>\n",
       "      <th>review_scores_rating</th>\n",
       "      <th>thumbnail_url</th>\n",
       "      <th>zipcode</th>\n",
       "      <th>bedrooms</th>\n",
       "      <th>beds</th>\n",
       "      <th>price</th>\n",
       "    </tr>\n",
       "  </thead>\n",
       "  <tbody>\n",
       "    <tr>\n",
       "      <th>0</th>\n",
       "      <td>Apartment</td>\n",
       "      <td>Entire home/apt</td>\n",
       "      <td>{\"Wireless Internet\",\"Air conditioning\",Kitche...</td>\n",
       "      <td>7</td>\n",
       "      <td>1.0</td>\n",
       "      <td>strict</td>\n",
       "      <td>True</td>\n",
       "      <td>NYC</td>\n",
       "      <td>2017-08-05</td>\n",
       "      <td>t</td>\n",
       "      <td>...</td>\n",
       "      <td>40.766115</td>\n",
       "      <td>-73.989040</td>\n",
       "      <td>Hell's Kitchen</td>\n",
       "      <td>6</td>\n",
       "      <td>93.0</td>\n",
       "      <td>https://a0.muscache.com/im/pictures/348a55fe-4...</td>\n",
       "      <td>10019</td>\n",
       "      <td>3.0</td>\n",
       "      <td>3.0</td>\n",
       "      <td>169.0</td>\n",
       "    </tr>\n",
       "    <tr>\n",
       "      <th>1</th>\n",
       "      <td>Apartment</td>\n",
       "      <td>Private room</td>\n",
       "      <td>{TV,\"Wireless Internet\",Heating,\"Smoke detecto...</td>\n",
       "      <td>2</td>\n",
       "      <td>1.0</td>\n",
       "      <td>strict</td>\n",
       "      <td>True</td>\n",
       "      <td>SF</td>\n",
       "      <td>2017-08-27</td>\n",
       "      <td>t</td>\n",
       "      <td>...</td>\n",
       "      <td>37.753164</td>\n",
       "      <td>-122.429526</td>\n",
       "      <td>Noe Valley</td>\n",
       "      <td>3</td>\n",
       "      <td>100.0</td>\n",
       "      <td>https://a0.muscache.com/im/pictures/82509143-4...</td>\n",
       "      <td>94131</td>\n",
       "      <td>1.0</td>\n",
       "      <td>1.0</td>\n",
       "      <td>85.0</td>\n",
       "    </tr>\n",
       "    <tr>\n",
       "      <th>2</th>\n",
       "      <td>Condominium</td>\n",
       "      <td>Entire home/apt</td>\n",
       "      <td>{TV,\"Cable TV\",\"Wireless Internet\",\"Wheelchair...</td>\n",
       "      <td>2</td>\n",
       "      <td>1.0</td>\n",
       "      <td>moderate</td>\n",
       "      <td>True</td>\n",
       "      <td>LA</td>\n",
       "      <td>2016-12-16</td>\n",
       "      <td>t</td>\n",
       "      <td>...</td>\n",
       "      <td>34.046737</td>\n",
       "      <td>-118.260439</td>\n",
       "      <td>Downtown</td>\n",
       "      <td>9</td>\n",
       "      <td>93.0</td>\n",
       "      <td>https://a0.muscache.com/im/pictures/61bd05d5-c...</td>\n",
       "      <td>90015</td>\n",
       "      <td>1.0</td>\n",
       "      <td>1.0</td>\n",
       "      <td>120.0</td>\n",
       "    </tr>\n",
       "    <tr>\n",
       "      <th>3</th>\n",
       "      <td>House</td>\n",
       "      <td>Private room</td>\n",
       "      <td>{TV,\"Cable TV\",\"Wireless Internet\",\"Pets live ...</td>\n",
       "      <td>2</td>\n",
       "      <td>1.0</td>\n",
       "      <td>moderate</td>\n",
       "      <td>True</td>\n",
       "      <td>SF</td>\n",
       "      <td>2016-02-13</td>\n",
       "      <td>t</td>\n",
       "      <td>...</td>\n",
       "      <td>37.781128</td>\n",
       "      <td>-122.501095</td>\n",
       "      <td>Richmond District</td>\n",
       "      <td>159</td>\n",
       "      <td>99.0</td>\n",
       "      <td>https://a0.muscache.com/im/pictures/0ed6c128-7...</td>\n",
       "      <td>94121</td>\n",
       "      <td>1.0</td>\n",
       "      <td>1.0</td>\n",
       "      <td>120.0</td>\n",
       "    </tr>\n",
       "    <tr>\n",
       "      <th>4</th>\n",
       "      <td>Apartment</td>\n",
       "      <td>Private room</td>\n",
       "      <td>{Internet,\"Wireless Internet\",\"Air conditionin...</td>\n",
       "      <td>2</td>\n",
       "      <td>1.0</td>\n",
       "      <td>strict</td>\n",
       "      <td>True</td>\n",
       "      <td>NYC</td>\n",
       "      <td>2013-04-28</td>\n",
       "      <td>t</td>\n",
       "      <td>...</td>\n",
       "      <td>40.723883</td>\n",
       "      <td>-73.983880</td>\n",
       "      <td>Alphabet City</td>\n",
       "      <td>82</td>\n",
       "      <td>93.0</td>\n",
       "      <td>https://a0.muscache.com/im/pictures/21726900/1...</td>\n",
       "      <td>10009.0</td>\n",
       "      <td>1.0</td>\n",
       "      <td>1.0</td>\n",
       "      <td>100.0</td>\n",
       "    </tr>\n",
       "  </tbody>\n",
       "</table>\n",
       "<p>5 rows × 25 columns</p>\n",
       "</div>"
      ],
      "text/plain": [
       "  property_type        room_type  \\\n",
       "0     Apartment  Entire home/apt   \n",
       "1     Apartment     Private room   \n",
       "2   Condominium  Entire home/apt   \n",
       "3         House     Private room   \n",
       "4     Apartment     Private room   \n",
       "\n",
       "                                           amenities  accommodates  bathrooms  \\\n",
       "0  {\"Wireless Internet\",\"Air conditioning\",Kitche...             7        1.0   \n",
       "1  {TV,\"Wireless Internet\",Heating,\"Smoke detecto...             2        1.0   \n",
       "2  {TV,\"Cable TV\",\"Wireless Internet\",\"Wheelchair...             2        1.0   \n",
       "3  {TV,\"Cable TV\",\"Wireless Internet\",\"Pets live ...             2        1.0   \n",
       "4  {Internet,\"Wireless Internet\",\"Air conditionin...             2        1.0   \n",
       "\n",
       "  cancellation_policy  cleaning_fee city first_review host_has_profile_pic  \\\n",
       "0              strict          True  NYC   2017-08-05                    t   \n",
       "1              strict          True   SF   2017-08-27                    t   \n",
       "2            moderate          True   LA   2016-12-16                    t   \n",
       "3            moderate          True   SF   2016-02-13                    t   \n",
       "4              strict          True  NYC   2013-04-28                    t   \n",
       "\n",
       "   ...   latitude   longitude      neighbourhood number_of_reviews  \\\n",
       "0  ...  40.766115  -73.989040     Hell's Kitchen                 6   \n",
       "1  ...  37.753164 -122.429526         Noe Valley                 3   \n",
       "2  ...  34.046737 -118.260439           Downtown                 9   \n",
       "3  ...  37.781128 -122.501095  Richmond District               159   \n",
       "4  ...  40.723883  -73.983880      Alphabet City                82   \n",
       "\n",
       "  review_scores_rating                                      thumbnail_url  \\\n",
       "0                 93.0  https://a0.muscache.com/im/pictures/348a55fe-4...   \n",
       "1                100.0  https://a0.muscache.com/im/pictures/82509143-4...   \n",
       "2                 93.0  https://a0.muscache.com/im/pictures/61bd05d5-c...   \n",
       "3                 99.0  https://a0.muscache.com/im/pictures/0ed6c128-7...   \n",
       "4                 93.0  https://a0.muscache.com/im/pictures/21726900/1...   \n",
       "\n",
       "   zipcode bedrooms  beds  price  \n",
       "0    10019      3.0   3.0  169.0  \n",
       "1    94131      1.0   1.0   85.0  \n",
       "2    90015      1.0   1.0  120.0  \n",
       "3    94121      1.0   1.0  120.0  \n",
       "4  10009.0      1.0   1.0  100.0  \n",
       "\n",
       "[5 rows x 25 columns]"
      ]
     },
     "execution_count": 28,
     "metadata": {},
     "output_type": "execute_result"
    }
   ],
   "source": [
    "#first_review host_has_profile_pic host_identity_verified host_response_rate host_since instant_bookable last_review\n",
    "df.head()"
   ]
  },
  {
   "cell_type": "markdown",
   "metadata": {},
   "source": [
    "### first_review"
   ]
  },
  {
   "cell_type": "code",
   "execution_count": 29,
   "metadata": {},
   "outputs": [
    {
     "data": {
      "text/plain": [
       "2017-01-01    147\n",
       "2017-09-04    138\n",
       "2017-01-02    107\n",
       "2017-01-22    105\n",
       "2017-04-16     95\n",
       "2017-03-19     88\n",
       "2017-04-09     88\n",
       "2016-01-03     86\n",
       "2016-10-09     83\n",
       "2016-01-02     80\n",
       "2017-07-16     77\n",
       "2017-09-03     76\n",
       "2017-09-10     75\n",
       "2017-03-12     75\n",
       "2016-10-16     74\n",
       "2016-09-05     73\n",
       "2017-08-13     71\n",
       "2017-03-26     69\n",
       "2017-07-30     69\n",
       "2015-09-21     67\n",
       "2016-11-06     67\n",
       "2016-11-13     65\n",
       "2017-04-02     65\n",
       "2017-04-23     63\n",
       "2017-07-31     61\n",
       "2016-10-30     61\n",
       "2017-03-05     61\n",
       "2016-01-05     61\n",
       "2017-08-27     60\n",
       "2017-09-17     60\n",
       "             ... \n",
       "2010-09-27      1\n",
       "2011-03-16      1\n",
       "2010-12-03      1\n",
       "2010-06-08      1\n",
       "2009-06-07      1\n",
       "2012-05-19      1\n",
       "2011-03-11      1\n",
       "2011-07-13      1\n",
       "2013-12-11      1\n",
       "2012-08-30      1\n",
       "2011-05-30      1\n",
       "2013-11-20      1\n",
       "2011-11-08      1\n",
       "2012-04-11      1\n",
       "2011-07-02      1\n",
       "2009-04-07      1\n",
       "2012-12-25      1\n",
       "2012-01-26      1\n",
       "2011-12-25      1\n",
       "2010-01-04      1\n",
       "2010-03-16      1\n",
       "2011-03-10      1\n",
       "2012-03-23      1\n",
       "2011-08-16      1\n",
       "2010-12-20      1\n",
       "2011-11-22      1\n",
       "2011-12-01      1\n",
       "2011-05-27      1\n",
       "2010-03-28      1\n",
       "2011-09-22      1\n",
       "Name: first_review, Length: 2339, dtype: int64"
      ]
     },
     "execution_count": 29,
     "metadata": {},
     "output_type": "execute_result"
    }
   ],
   "source": [
    "df.first_review.value_counts()\n",
    "#Demasiados valores únicos"
   ]
  },
  {
   "cell_type": "code",
   "execution_count": 30,
   "metadata": {},
   "outputs": [
    {
     "data": {
      "text/plain": [
       "(28877, 25)"
      ]
     },
     "execution_count": 30,
     "metadata": {},
     "output_type": "execute_result"
    }
   ],
   "source": [
    "df.shape"
   ]
  },
  {
   "cell_type": "code",
   "execution_count": 31,
   "metadata": {},
   "outputs": [
    {
     "data": {
      "text/plain": [
       "(28877, 24)"
      ]
     },
     "execution_count": 31,
     "metadata": {},
     "output_type": "execute_result"
    }
   ],
   "source": [
    "df.drop(\"first_review\", axis=1, inplace=True)\n",
    "df.shape"
   ]
  },
  {
   "cell_type": "markdown",
   "metadata": {},
   "source": [
    "### host_has_profile_pic"
   ]
  },
  {
   "cell_type": "code",
   "execution_count": 32,
   "metadata": {},
   "outputs": [
    {
     "data": {
      "text/plain": [
       "t    28829\n",
       "f       48\n",
       "Name: host_has_profile_pic, dtype: int64"
      ]
     },
     "execution_count": 32,
     "metadata": {},
     "output_type": "execute_result"
    }
   ],
   "source": [
    "df.host_has_profile_pic.value_counts()\n",
    "#practicamente el 100% de los datos son \"true\", no tiene sentido meter esta columna al modelo."
   ]
  },
  {
   "cell_type": "code",
   "execution_count": 33,
   "metadata": {},
   "outputs": [
    {
     "data": {
      "text/plain": [
       "(28877, 24)"
      ]
     },
     "execution_count": 33,
     "metadata": {},
     "output_type": "execute_result"
    }
   ],
   "source": [
    "df.shape"
   ]
  },
  {
   "cell_type": "code",
   "execution_count": 34,
   "metadata": {},
   "outputs": [
    {
     "data": {
      "text/plain": [
       "(28877, 23)"
      ]
     },
     "execution_count": 34,
     "metadata": {},
     "output_type": "execute_result"
    }
   ],
   "source": [
    "df.drop(\"host_has_profile_pic\", axis=1, inplace=True)\n",
    "df.shape"
   ]
  },
  {
   "cell_type": "markdown",
   "metadata": {},
   "source": [
    "### host_identity_verified"
   ]
  },
  {
   "cell_type": "code",
   "execution_count": 35,
   "metadata": {},
   "outputs": [
    {
     "data": {
      "text/plain": [
       "t    20923\n",
       "f     7954\n",
       "Name: host_identity_verified, dtype: int64"
      ]
     },
     "execution_count": 35,
     "metadata": {},
     "output_type": "execute_result"
    }
   ],
   "source": [
    "df.host_identity_verified.value_counts()\n",
    "#Si vale la pena conservar esta columna, además, ya estan listos los datos para pasarlos a contínuos."
   ]
  },
  {
   "cell_type": "markdown",
   "metadata": {},
   "source": [
    "### host_response_rate"
   ]
  },
  {
   "cell_type": "code",
   "execution_count": 36,
   "metadata": {},
   "outputs": [],
   "source": [
    "#If you respond to all new inquiries and requests within 24 hours, then you have nothing to worry about; \n",
    "#your response rate should be 100%. Of course, if your response rate begins to falter for whatever reason, \n",
    "#your percentage will start to dip.\n",
    "#http://darebnb.com/use-airbnbs-response-rate-to-your-advantage/\n",
    "#https://www.hostyapp.com/airbnb-response-rate/\n",
    "\n",
    "#Es decir, si un host siempre ha respondido a las solicitudes de los clientes dentro de 24 horas, su hot_response_rate sera 100%\n",
    "#De lo contrario, el porcentaje ira disminuyendo."
   ]
  },
  {
   "cell_type": "code",
   "execution_count": 37,
   "metadata": {},
   "outputs": [
    {
     "data": {
      "text/plain": [
       "0     100%\n",
       "1     100%\n",
       "2     100%\n",
       "3     100%\n",
       "4     100%\n",
       "5     100%\n",
       "6     100%\n",
       "7     100%\n",
       "8     100%\n",
       "9      90%\n",
       "10    100%\n",
       "11     86%\n",
       "12    100%\n",
       "13    100%\n",
       "14    100%\n",
       "Name: host_response_rate, dtype: object"
      ]
     },
     "execution_count": 37,
     "metadata": {},
     "output_type": "execute_result"
    }
   ],
   "source": [
    "df.host_response_rate.head(n=15)"
   ]
  },
  {
   "cell_type": "code",
   "execution_count": 38,
   "metadata": {},
   "outputs": [
    {
     "data": {
      "text/plain": [
       "100%    23319\n",
       "90%      1241\n",
       "80%       540\n",
       "70%       252\n",
       "50%       219\n",
       "99%       197\n",
       "97%       180\n",
       "94%       178\n",
       "96%       174\n",
       "98%       170\n",
       "0%        165\n",
       "92%       165\n",
       "67%       158\n",
       "93%       154\n",
       "60%       152\n",
       "89%       151\n",
       "95%       151\n",
       "88%       139\n",
       "83%       137\n",
       "75%       134\n",
       "91%       123\n",
       "86%       123\n",
       "78%        48\n",
       "71%        45\n",
       "87%        44\n",
       "33%        42\n",
       "82%        37\n",
       "40%        37\n",
       "85%        32\n",
       "81%        29\n",
       "        ...  \n",
       "54%         9\n",
       "64%         8\n",
       "10%         7\n",
       "69%         7\n",
       "76%         7\n",
       "29%         7\n",
       "55%         7\n",
       "53%         7\n",
       "43%         7\n",
       "74%         6\n",
       "72%         6\n",
       "65%         4\n",
       "38%         4\n",
       "52%         3\n",
       "62%         3\n",
       "17%         3\n",
       "46%         2\n",
       "22%         2\n",
       "36%         2\n",
       "47%         2\n",
       "42%         2\n",
       "21%         1\n",
       "59%         1\n",
       "35%         1\n",
       "14%         1\n",
       "26%         1\n",
       "61%         1\n",
       "15%         1\n",
       "31%         1\n",
       "11%         1\n",
       "Name: host_response_rate, Length: 73, dtype: int64"
      ]
     },
     "execution_count": 38,
     "metadata": {},
     "output_type": "execute_result"
    }
   ],
   "source": [
    "df.host_response_rate.value_counts()\n",
    "#La mayoría de los huéspedes tienen un 100% de rate, sin embargo, no es un porcentaje tan grande como para dropear esta columna.\n",
    "#Voy a reemplazar esta columna como boleano, que sea, 1: 100% rate, 0: >100% rate. Algo como HOT y NO HOT"
   ]
  },
  {
   "cell_type": "code",
   "execution_count": 39,
   "metadata": {},
   "outputs": [
    {
     "data": {
      "text/plain": [
       "pandas.core.series.Series"
      ]
     },
     "execution_count": 39,
     "metadata": {},
     "output_type": "execute_result"
    }
   ],
   "source": [
    "type(df.host_response_rate)"
   ]
  },
  {
   "cell_type": "code",
   "execution_count": 40,
   "metadata": {},
   "outputs": [
    {
     "data": {
      "text/plain": [
       "HOT        23319\n",
       "NOT HOT     5558\n",
       "Name: host_response, dtype: int64"
      ]
     },
     "execution_count": 40,
     "metadata": {},
     "output_type": "execute_result"
    }
   ],
   "source": [
    "df['host_response']=pd.DataFrame(np.where(df.host_response_rate == '100%','HOT','NOT HOT'))\n",
    "df.host_response.value_counts()"
   ]
  },
  {
   "cell_type": "code",
   "execution_count": 41,
   "metadata": {},
   "outputs": [
    {
     "data": {
      "text/plain": [
       "(28877, 24)"
      ]
     },
     "execution_count": 41,
     "metadata": {},
     "output_type": "execute_result"
    }
   ],
   "source": [
    "df.shape"
   ]
  },
  {
   "cell_type": "code",
   "execution_count": 42,
   "metadata": {},
   "outputs": [
    {
     "data": {
      "text/plain": [
       "(28877, 23)"
      ]
     },
     "execution_count": 42,
     "metadata": {},
     "output_type": "execute_result"
    }
   ],
   "source": [
    "df.drop(\"host_response_rate\", axis=1, inplace=True)\n",
    "df.shape"
   ]
  },
  {
   "cell_type": "markdown",
   "metadata": {},
   "source": [
    "### host_since"
   ]
  },
  {
   "cell_type": "code",
   "execution_count": 43,
   "metadata": {},
   "outputs": [
    {
     "data": {
      "text/plain": [
       "2014-02-14    110\n",
       "2015-03-30     68\n",
       "2014-09-02     41\n",
       "2014-03-17     38\n",
       "2014-07-29     37\n",
       "2016-01-18     37\n",
       "2016-08-23     37\n",
       "2015-08-19     36\n",
       "2015-03-05     36\n",
       "2014-04-30     35\n",
       "2014-09-10     35\n",
       "2012-08-27     34\n",
       "2013-08-07     34\n",
       "2015-10-27     34\n",
       "2015-07-29     31\n",
       "2015-06-18     31\n",
       "2014-06-24     31\n",
       "2014-07-02     30\n",
       "2015-07-06     30\n",
       "2014-05-19     30\n",
       "2014-07-31     30\n",
       "2016-02-10     29\n",
       "2015-11-23     29\n",
       "2012-11-14     28\n",
       "2013-06-12     28\n",
       "2016-11-10     28\n",
       "2014-06-02     28\n",
       "2014-09-17     28\n",
       "2016-08-18     27\n",
       "2014-03-10     27\n",
       "             ... \n",
       "2009-09-21      1\n",
       "2011-09-24      1\n",
       "2010-11-27      1\n",
       "2011-02-01      1\n",
       "2010-01-31      1\n",
       "2015-02-28      1\n",
       "2009-08-05      1\n",
       "2010-03-04      1\n",
       "2009-11-11      1\n",
       "2010-01-29      1\n",
       "2011-07-22      1\n",
       "2008-09-25      1\n",
       "2010-02-06      1\n",
       "2009-01-05      1\n",
       "2009-05-22      1\n",
       "2009-05-21      1\n",
       "2009-11-23      1\n",
       "2010-04-01      1\n",
       "2009-12-05      1\n",
       "2010-01-14      1\n",
       "2009-05-14      1\n",
       "2009-11-16      1\n",
       "2010-03-23      1\n",
       "2011-02-05      1\n",
       "2009-09-15      1\n",
       "2008-11-25      1\n",
       "2010-06-16      1\n",
       "2010-10-23      1\n",
       "2009-08-02      1\n",
       "2010-05-28      1\n",
       "Name: host_since, Length: 2910, dtype: int64"
      ]
     },
     "execution_count": 43,
     "metadata": {},
     "output_type": "execute_result"
    }
   ],
   "source": [
    "df.host_since.value_counts()\n",
    "#Demasiados valores unicos"
   ]
  },
  {
   "cell_type": "code",
   "execution_count": 44,
   "metadata": {},
   "outputs": [
    {
     "data": {
      "text/plain": [
       "(28877, 23)"
      ]
     },
     "execution_count": 44,
     "metadata": {},
     "output_type": "execute_result"
    }
   ],
   "source": [
    "df.shape"
   ]
  },
  {
   "cell_type": "code",
   "execution_count": 45,
   "metadata": {},
   "outputs": [
    {
     "data": {
      "text/plain": [
       "(28877, 22)"
      ]
     },
     "execution_count": 45,
     "metadata": {},
     "output_type": "execute_result"
    }
   ],
   "source": [
    "df.drop(\"host_since\", axis=1, inplace=True)\n",
    "df.shape"
   ]
  },
  {
   "cell_type": "markdown",
   "metadata": {},
   "source": [
    "### instant_bookable"
   ]
  },
  {
   "cell_type": "code",
   "execution_count": 46,
   "metadata": {},
   "outputs": [
    {
     "data": {
      "text/plain": [
       "f    20005\n",
       "t     8872\n",
       "Name: instant_bookable, dtype: int64"
      ]
     },
     "execution_count": 46,
     "metadata": {},
     "output_type": "execute_result"
    }
   ],
   "source": [
    "df.instant_bookable.value_counts()\n",
    "#lista para pasar a nominal"
   ]
  },
  {
   "cell_type": "markdown",
   "metadata": {},
   "source": [
    "### last_review"
   ]
  },
  {
   "cell_type": "code",
   "execution_count": 47,
   "metadata": {},
   "outputs": [
    {
     "data": {
      "text/plain": [
       "2017-09-24    916\n",
       "2017-09-17    862\n",
       "2017-04-30    689\n",
       "2017-09-18    590\n",
       "2017-09-25    585\n",
       "2017-04-23    521\n",
       "2017-10-01    518\n",
       "2017-09-16    485\n",
       "2017-09-28    481\n",
       "2017-09-04    469\n",
       "2017-09-15    454\n",
       "2017-09-29    437\n",
       "2017-09-30    435\n",
       "2017-09-23    422\n",
       "2017-09-26    404\n",
       "2017-09-22    401\n",
       "2017-09-10    393\n",
       "2017-09-27    377\n",
       "2017-05-07    371\n",
       "2017-05-01    361\n",
       "2017-04-16    361\n",
       "2017-09-14    353\n",
       "2017-09-21    346\n",
       "2017-09-20    323\n",
       "2017-04-24    320\n",
       "2017-09-19    317\n",
       "2017-04-29    285\n",
       "2017-09-13    270\n",
       "2017-09-11    265\n",
       "2017-09-12    240\n",
       "             ... \n",
       "2015-05-27      1\n",
       "2015-04-29      1\n",
       "2014-08-23      1\n",
       "2015-10-04      1\n",
       "2015-03-15      1\n",
       "2015-06-11      1\n",
       "2015-01-31      1\n",
       "2014-09-22      1\n",
       "2016-03-06      1\n",
       "2015-02-26      1\n",
       "2014-01-21      1\n",
       "2015-06-24      1\n",
       "2016-05-09      1\n",
       "2013-10-22      1\n",
       "2014-08-16      1\n",
       "2015-10-30      1\n",
       "2015-05-23      1\n",
       "2015-06-13      1\n",
       "2013-04-21      1\n",
       "2013-05-12      1\n",
       "2015-09-24      1\n",
       "2016-04-26      1\n",
       "2012-02-14      1\n",
       "2014-08-15      1\n",
       "2015-11-12      1\n",
       "2012-12-30      1\n",
       "2012-08-14      1\n",
       "2014-11-14      1\n",
       "2015-12-16      1\n",
       "2015-08-21      1\n",
       "Name: last_review, Length: 916, dtype: int64"
      ]
     },
     "execution_count": 47,
     "metadata": {},
     "output_type": "execute_result"
    }
   ],
   "source": [
    "df.last_review.value_counts()\n",
    "#Si existiera una variable que te diga la fecha en la que fueron recolectados los datos, prodrías sacar cuántos días\n",
    "# han pasado entre el last_review y la fecha actual. Así, se puede hacer una clasificación por rangos y posiblemente sacarle\n",
    "# provecho a esta variable.\n",
    "#Por lo pronto: DROP"
   ]
  },
  {
   "cell_type": "code",
   "execution_count": 48,
   "metadata": {},
   "outputs": [
    {
     "data": {
      "text/plain": [
       "(28877, 22)"
      ]
     },
     "execution_count": 48,
     "metadata": {},
     "output_type": "execute_result"
    }
   ],
   "source": [
    "df.shape"
   ]
  },
  {
   "cell_type": "code",
   "execution_count": 49,
   "metadata": {},
   "outputs": [
    {
     "data": {
      "text/plain": [
       "(28877, 21)"
      ]
     },
     "execution_count": 49,
     "metadata": {},
     "output_type": "execute_result"
    }
   ],
   "source": [
    "df.drop(\"last_review\", axis=1, inplace=True)\n",
    "df.shape"
   ]
  },
  {
   "cell_type": "markdown",
   "metadata": {},
   "source": [
    "### thumbnail_url"
   ]
  },
  {
   "cell_type": "code",
   "execution_count": 50,
   "metadata": {},
   "outputs": [
    {
     "data": {
      "text/plain": [
       "https://a0.muscache.com/im/pictures/61042471/5543b0e0_original.jpg?aki_policy=small              2\n",
       "https://a0.muscache.com/im/pictures/23033013/54d62516_original.jpg?aki_policy=small              2\n",
       "https://a0.muscache.com/im/pictures/104667326/a7a2b145_original.jpg?aki_policy=small             2\n",
       "https://a0.muscache.com/im/pictures/70087089/bc66229a_original.jpg?aki_policy=small              2\n",
       "https://a0.muscache.com/im/pictures/c25e0ccf-3df9-41ff-bfad-91854a60f4fa.jpg?aki_policy=small    1\n",
       "https://a0.muscache.com/im/pictures/82248bef-29eb-4604-8935-e6d8d83cf76e.jpg?aki_policy=small    1\n",
       "https://a0.muscache.com/im/pictures/666f545e-19a1-4353-ac14-e7342fd4eeac.jpg?aki_policy=small    1\n",
       "https://a0.muscache.com/im/pictures/9074718b-699c-482b-8cf8-318b9b598557.jpg?aki_policy=small    1\n",
       "https://a0.muscache.com/im/pictures/214329c1-5eba-4b1a-b219-b05d8650057b.jpg?aki_policy=small    1\n",
       "https://a0.muscache.com/im/pictures/20446363/19ee75cc_original.jpg?aki_policy=small              1\n",
       "https://a0.muscache.com/im/pictures/103987116/bb2339b7_original.jpg?aki_policy=small             1\n",
       "https://a0.muscache.com/im/pictures/60274e74-5e16-409c-8ee5-65dddcd4e33a.jpg?aki_policy=small    1\n",
       "https://a0.muscache.com/im/pictures/b1143947-6a17-47d7-b4ba-56b0a1389f22.jpg?aki_policy=small    1\n",
       "https://a0.muscache.com/im/pictures/aae3cb7b-4426-4b01-858d-f65d9d06a640.jpg?aki_policy=small    1\n",
       "https://a0.muscache.com/im/pictures/47191735/7f842967_original.jpg?aki_policy=small              1\n",
       "https://a0.muscache.com/im/pictures/86277083/3643a72c_original.jpg?aki_policy=small              1\n",
       "https://a0.muscache.com/im/pictures/f46e6e9c-10a3-41e5-bed3-880d5b2f804b.jpg?aki_policy=small    1\n",
       "https://a0.muscache.com/im/pictures/c3cbbffd-fe76-4ed6-9c4c-0ae8e942303c.jpg?aki_policy=small    1\n",
       "https://a0.muscache.com/im/pictures/67086508/d3376b12_original.jpg?aki_policy=small              1\n",
       "https://a0.muscache.com/im/pictures/d3473e7a-a5c8-47b9-81e4-78f6d8d364f3.jpg?aki_policy=small    1\n",
       "https://a0.muscache.com/im/pictures/31b09fe0-293e-4f5b-98c7-d9171a34cb18.jpg?aki_policy=small    1\n",
       "https://a0.muscache.com/im/pictures/28712525/f1800896_original.jpg?aki_policy=small              1\n",
       "https://a0.muscache.com/im/pictures/96235569/d76647fa_original.jpg?aki_policy=small              1\n",
       "https://a0.muscache.com/im/pictures/e23a15c9-a0df-47da-b223-3657727ec845.jpg?aki_policy=small    1\n",
       "https://a0.muscache.com/im/pictures/bbaa337f-bb87-440a-9eec-55742c30bb93.jpg?aki_policy=small    1\n",
       "https://a0.muscache.com/im/pictures/103822111/bd288fde_original.jpg?aki_policy=small             1\n",
       "https://a0.muscache.com/im/pictures/65cae5f6-38bc-48f2-936d-d877393ce370.jpg?aki_policy=small    1\n",
       "https://a0.muscache.com/im/pictures/a7938ffb-8e5d-4ecb-bddc-34366947a9a2.jpg?aki_policy=small    1\n",
       "https://a0.muscache.com/im/pictures/36785590/6350714f_original.jpg?aki_policy=small              1\n",
       "https://a0.muscache.com/im/pictures/53116409/80129b44_original.jpg?aki_policy=small              1\n",
       "                                                                                                ..\n",
       "https://a0.muscache.com/im/pictures/b2d9b359-a9e6-453a-8839-aec9dcc172ad.jpg?aki_policy=small    1\n",
       "https://a0.muscache.com/im/pictures/f77d2ed3-92af-4d1c-86c5-7d4828b9492b.jpg?aki_policy=small    1\n",
       "https://a0.muscache.com/im/pictures/d94dc931-4e62-4113-99cb-29226c1a9ede.jpg?aki_policy=small    1\n",
       "https://a0.muscache.com/im/pictures/4c54d37f-398b-4b1d-80d7-fee5df093535.jpg?aki_policy=small    1\n",
       "https://a0.muscache.com/im/pictures/ca2c8918-16e6-43a0-b27f-50228c9c32e4.jpg?aki_policy=small    1\n",
       "https://a0.muscache.com/im/pictures/14166436/37d5aa62_original.jpg?aki_policy=small              1\n",
       "https://a0.muscache.com/im/pictures/fbc43dba-661e-4a5c-8f3d-3b6d679d5257.jpg?aki_policy=small    1\n",
       "https://a0.muscache.com/im/pictures/20252d76-e5f1-4815-b438-5f1ec5367a70.jpg?aki_policy=small    1\n",
       "https://a0.muscache.com/im/pictures/cb2ced1b-de50-4671-9ab0-fb718e91faeb.jpg?aki_policy=small    1\n",
       "https://a0.muscache.com/im/pictures/775d2815-719e-4247-8300-3f31d547040a.jpg?aki_policy=small    1\n",
       "https://a0.muscache.com/im/pictures/15448207/57e0ff42_original.jpg?aki_policy=small              1\n",
       "https://a0.muscache.com/im/pictures/da392526-439b-4519-b919-81e518fdaad4.jpg?aki_policy=small    1\n",
       "https://a0.muscache.com/im/pictures/4ef18285-21c2-4cf9-8d0c-a08a0fa4a91e.jpg?aki_policy=small    1\n",
       "https://a0.muscache.com/im/pictures/ff9085b1-c6a6-4526-82b2-63efda1ee670.jpg?aki_policy=small    1\n",
       "https://a0.muscache.com/im/pictures/106370709/d8cbc0d9_original.jpg?aki_policy=small             1\n",
       "https://a0.muscache.com/im/pictures/2ac576c8-d4a0-4a87-b75f-5ba98d1ddf2c.jpg?aki_policy=small    1\n",
       "https://a0.muscache.com/im/pictures/68f16569-f331-4b19-b646-fc53254b6be7.jpg?aki_policy=small    1\n",
       "https://a0.muscache.com/im/pictures/75f349c8-8f5b-46d3-a702-737644cfa3be.jpg?aki_policy=small    1\n",
       "https://a0.muscache.com/im/pictures/b0d80e01-fcae-41f7-bfaf-114f6fd272dc.jpg?aki_policy=small    1\n",
       "https://a0.muscache.com/im/pictures/fc907aab-b601-4524-a41e-fb90d96f9885.jpg?aki_policy=small    1\n",
       "https://a0.muscache.com/im/pictures/17e2022e-83e5-41ed-bf6d-da1212ca68e2.jpg?aki_policy=small    1\n",
       "https://a0.muscache.com/im/pictures/69355312/c197c6ad_original.jpg?aki_policy=small              1\n",
       "https://a0.muscache.com/im/pictures/28854400/f9f52432_original.jpg?aki_policy=small              1\n",
       "https://a0.muscache.com/im/pictures/5fdf6793-8e6c-47b8-94f0-c96a707c67d8.jpg?aki_policy=small    1\n",
       "https://a0.muscache.com/im/pictures/102652959/0cf0849f_original.jpg?aki_policy=small             1\n",
       "https://a0.muscache.com/im/pictures/952464f3-f40d-47fb-a28b-0357cf5988f8.jpg?aki_policy=small    1\n",
       "https://a0.muscache.com/im/pictures/10a9013f-e350-41cf-81f2-6e0074b8f9ad.jpg?aki_policy=small    1\n",
       "https://a0.muscache.com/im/pictures/94491228/74a1a43a_original.jpg?aki_policy=small              1\n",
       "https://a0.muscache.com/im/pictures/206fed90-f8ab-4d99-b555-2c1c7008458d.jpg?aki_policy=small    1\n",
       "https://a0.muscache.com/im/pictures/53c82be0-8ddf-4566-b373-ea760b25c70f.jpg?aki_policy=small    1\n",
       "Name: thumbnail_url, Length: 28873, dtype: int64"
      ]
     },
     "execution_count": 50,
     "metadata": {},
     "output_type": "execute_result"
    }
   ],
   "source": [
    "df.thumbnail_url.value_counts()"
   ]
  },
  {
   "cell_type": "code",
   "execution_count": 51,
   "metadata": {},
   "outputs": [
    {
     "data": {
      "text/plain": [
       "(28877, 21)"
      ]
     },
     "execution_count": 51,
     "metadata": {},
     "output_type": "execute_result"
    }
   ],
   "source": [
    "df.shape"
   ]
  },
  {
   "cell_type": "code",
   "execution_count": 52,
   "metadata": {},
   "outputs": [
    {
     "data": {
      "text/plain": [
       "(28877, 20)"
      ]
     },
     "execution_count": 52,
     "metadata": {},
     "output_type": "execute_result"
    }
   ],
   "source": [
    "df.drop(\"thumbnail_url\", axis=1, inplace=True)\n",
    "df.shape"
   ]
  },
  {
   "cell_type": "markdown",
   "metadata": {},
   "source": [
    "## 3. Extraer los valores de \"amenities\""
   ]
  },
  {
   "cell_type": "code",
   "execution_count": 53,
   "metadata": {},
   "outputs": [
    {
     "data": {
      "text/plain": [
       "0    {\"Wireless Internet\",\"Air conditioning\",Kitche...\n",
       "1    {TV,\"Wireless Internet\",Heating,\"Smoke detecto...\n",
       "2    {TV,\"Cable TV\",\"Wireless Internet\",\"Wheelchair...\n",
       "3    {TV,\"Cable TV\",\"Wireless Internet\",\"Pets live ...\n",
       "4    {Internet,\"Wireless Internet\",\"Air conditionin...\n",
       "Name: amenities, dtype: object"
      ]
     },
     "execution_count": 53,
     "metadata": {},
     "output_type": "execute_result"
    }
   ],
   "source": [
    "df.amenities.head()"
   ]
  },
  {
   "cell_type": "code",
   "execution_count": 54,
   "metadata": {},
   "outputs": [],
   "source": [
    "#Crear una lista de los elementos:\n",
    "#df.amenities[6].replace(\"{\",\"\").replace(\"}\",\"\").replace('\"','').split(sep=',')\n",
    "\n",
    "#for e in range(len(df)):\n",
    "    #df.amenities[e]=df.amenities[e].replace(\"{\",\"\").replace(\"}\",\"\").replace('\"','').split(sep=',')\n",
    "#este ciclo no terminó de correr, no se realmente por qué. Pero recuerdo que Yona muchas veces nos ha dicho que evitemos los ciclos.\n",
    "\n",
    "df.amenities= df.amenities.apply(lambda x: x.replace(\"{\",\"\").replace(\"}\",\"\").replace('\"','').split(sep=','))\n",
    "#es por lo anterior que aplique un lambda"
   ]
  },
  {
   "cell_type": "code",
   "execution_count": 55,
   "metadata": {},
   "outputs": [],
   "source": [
    "#Voy a crear un radio de amenities: obtendré el max(len) de amenities que existe y voy a utilizarlo para obtener un radio de \n",
    "# los demás valores. El registro que tenga este radio = 1 es el que tiene el 100% de amenidades.\n",
    "temp=[len(e) for e in df.amenities]\n",
    "amenities_ratio=[e/max(temp) for e in temp]"
   ]
  },
  {
   "cell_type": "code",
   "execution_count": 56,
   "metadata": {},
   "outputs": [],
   "source": [
    "df['amenities_ratio']=pd.DataFrame(amenities_ratio)"
   ]
  },
  {
   "cell_type": "code",
   "execution_count": 57,
   "metadata": {},
   "outputs": [
    {
     "data": {
      "text/plain": [
       "(28877, 21)"
      ]
     },
     "execution_count": 57,
     "metadata": {},
     "output_type": "execute_result"
    }
   ],
   "source": [
    "df.shape"
   ]
  },
  {
   "cell_type": "code",
   "execution_count": 58,
   "metadata": {},
   "outputs": [
    {
     "data": {
      "text/plain": [
       "(28877, 20)"
      ]
     },
     "execution_count": 58,
     "metadata": {},
     "output_type": "execute_result"
    }
   ],
   "source": [
    "df.drop(\"amenities\", axis=1, inplace=True)\n",
    "df.shape"
   ]
  },
  {
   "cell_type": "markdown",
   "metadata": {},
   "source": [
    "## 4. neighbourhood"
   ]
  },
  {
   "cell_type": "code",
   "execution_count": 59,
   "metadata": {},
   "outputs": [
    {
     "data": {
      "text/plain": [
       "Williamsburg                        1139\n",
       "Bedford-Stuyvesant                  1017\n",
       "Mid-Wilshire                         660\n",
       "Bushwick                             649\n",
       "Hell's Kitchen                       604\n",
       "Harlem                               592\n",
       "Hollywood                            568\n",
       "Upper West Side                      510\n",
       "Upper East Side                      501\n",
       "Venice                               495\n",
       "Crown Heights                        461\n",
       "Astoria                              368\n",
       "East Harlem                          363\n",
       "Mission District                     346\n",
       "Lower East Side                      337\n",
       "East Village                         314\n",
       "Chelsea                              289\n",
       "Long Beach                           278\n",
       "West Hollywood                       275\n",
       "Washington Heights                   269\n",
       "Hamilton Heights                     267\n",
       "Santa Monica                         261\n",
       "Greenpoint                           260\n",
       "Alphabet City                        251\n",
       "Clinton Hill                         246\n",
       "Park Slope                           244\n",
       "Flatbush                             236\n",
       "West Village                         231\n",
       "Downtown                             230\n",
       "Silver Lake                          210\n",
       "                                    ... \n",
       "North Hollywood                      132\n",
       "The Castro                           132\n",
       "Sunnyside                            131\n",
       "Financial District                   127\n",
       "Logan Square                         125\n",
       "Midtown                              124\n",
       "Outer Sunset                         119\n",
       "Lefferts Garden                      117\n",
       "Westwood                             116\n",
       "Greenwich Village                    116\n",
       "Kips Bay                             114\n",
       "Roxbury                              113\n",
       "Beacon Hill                          112\n",
       "Del Rey                              112\n",
       "West Los Angeles                     109\n",
       "Ridgewood                            107\n",
       "Prospect Heights                     106\n",
       "Columbia Heights                     105\n",
       "Mid-City                             104\n",
       "Westchester/Playa Del Rey            102\n",
       "Near Northeast/H Street Corridor     102\n",
       "South LA                             101\n",
       "Glendale                             101\n",
       "Flushing                             101\n",
       "Fort Greene                          101\n",
       "East New York                         97\n",
       "Lakeview                              96\n",
       "Fenway/Kenmore                        95\n",
       "Burbank                               94\n",
       "Marina Del Rey                        94\n",
       "Name: neighbourhood, Length: 80, dtype: int64"
      ]
     },
     "execution_count": 59,
     "metadata": {},
     "output_type": "execute_result"
    }
   ],
   "source": [
    "df.neighbourhood.value_counts().head(n=80)"
   ]
  },
  {
   "cell_type": "code",
   "execution_count": 60,
   "metadata": {},
   "outputs": [
    {
     "name": "stdout",
     "output_type": "stream",
     "text": [
      "13379 7571 2713 1815 1776 1623\n"
     ]
    }
   ],
   "source": [
    "print(len(df.neighbourhood[df.city == 'NYC']),\n",
    "        len(df.neighbourhood[df.city == 'LA']),\n",
    "        len(df.neighbourhood[df.city == 'SF']),\n",
    "        len(df.neighbourhood[df.city == 'DC']),\n",
    "        len(df.neighbourhood[df.city == 'Boston']),\n",
    "        len(df.neighbourhood[df.city == 'Chicago'])\n",
    "     )"
   ]
  },
  {
   "cell_type": "code",
   "execution_count": 61,
   "metadata": {},
   "outputs": [
    {
     "data": {
      "text/plain": [
       "Williamsburg          1139\n",
       "Bedford-Stuyvesant    1017\n",
       "Bushwick               649\n",
       "Hell's Kitchen         604\n",
       "Harlem                 592\n",
       "Upper West Side        510\n",
       "Upper East Side        501\n",
       "Crown Heights          461\n",
       "Astoria                368\n",
       "East Harlem            363\n",
       "Lower East Side        337\n",
       "East Village           314\n",
       "Chelsea                289\n",
       "Washington Heights     268\n",
       "Hamilton Heights       267\n",
       "Name: neighbourhood, dtype: int64"
      ]
     },
     "execution_count": 61,
     "metadata": {},
     "output_type": "execute_result"
    }
   ],
   "source": [
    "df.neighbourhood[df.city == 'NYC'].value_counts().head(n=15)"
   ]
  },
  {
   "cell_type": "code",
   "execution_count": 62,
   "metadata": {},
   "outputs": [
    {
     "data": {
      "text/plain": [
       "Mid-Wilshire                 660\n",
       "Hollywood                    568\n",
       "Venice                       495\n",
       "Long Beach                   278\n",
       "West Hollywood               275\n",
       "Santa Monica                 261\n",
       "Silver Lake                  210\n",
       "Echo Park                    186\n",
       "Pasadena                     170\n",
       "Downtown                     167\n",
       "Hollywood Hills              163\n",
       "Mar Vista                    149\n",
       "Westlake                     137\n",
       "North Hollywood              132\n",
       "Westwood                     116\n",
       "Del Rey                      112\n",
       "West Los Angeles             109\n",
       "Mid-City                     104\n",
       "Westchester/Playa Del Rey    102\n",
       "South LA                     101\n",
       "Marina Del Rey                94\n",
       "Glendale                      94\n",
       "Burbank                       94\n",
       "Sherman Oaks                  93\n",
       "Culver City                   85\n",
       "Redondo Beach                 82\n",
       "Malibu                        81\n",
       "Los Feliz                     80\n",
       "Highland Park                 80\n",
       "East Hollywood                79\n",
       "                            ... \n",
       "Bellflower                     4\n",
       "North Hills East               3\n",
       "South Whittier                 3\n",
       "Sierra Madre                   3\n",
       "Pacoima                        3\n",
       "Bradbury                       3\n",
       "Chatsworth                     3\n",
       "Porter Ranch                   3\n",
       "Montebello                     3\n",
       "Lynwood                        2\n",
       "San Marino                     2\n",
       "Westmont                       2\n",
       "Willowbrook                    2\n",
       "Huntington Park                2\n",
       "Norwalk                        2\n",
       "West Puente Valley             2\n",
       "Monterey Hills                 2\n",
       "West Athens                    2\n",
       "East San Gabriel               1\n",
       "Rolling Hills                  1\n",
       "Paramount                      1\n",
       "La Puente                      1\n",
       "Commerce                       1\n",
       "Rolling Hills Estates          1\n",
       "Hawaiian Gardens               1\n",
       "South El Monte                 1\n",
       "Irwindale                      1\n",
       "Bell                           1\n",
       "Santa Fe Springs               1\n",
       "Baldwin Park                   1\n",
       "Name: neighbourhood, Length: 147, dtype: int64"
      ]
     },
     "execution_count": 62,
     "metadata": {},
     "output_type": "execute_result"
    }
   ],
   "source": [
    "df.neighbourhood[df.city == 'LA'].value_counts()"
   ]
  },
  {
   "cell_type": "code",
   "execution_count": 63,
   "metadata": {},
   "outputs": [
    {
     "data": {
      "text/plain": [
       "Mission District         346\n",
       "Richmond District        167\n",
       "Bernal Heights           156\n",
       "Western Addition/NOPA    149\n",
       "Noe Valley               148\n",
       "SoMa                     144\n",
       "The Castro               132\n",
       "Outer Sunset             119\n",
       "Potrero Hill              82\n",
       "Nob Hill                  76\n",
       "Pacific Heights           73\n",
       "Haight-Ashbury            64\n",
       "Downtown                  55\n",
       "Duboce Triangle           54\n",
       "Marina                    53\n",
       "Bayview                   52\n",
       "Inner Sunset              51\n",
       "Alamo Square              47\n",
       "Excelsior                 44\n",
       "Lower Haight              43\n",
       "Russian Hill              41\n",
       "Parkside                  39\n",
       "Sunnyside                 37\n",
       "South Beach               34\n",
       "Cole Valley               34\n",
       "Glen Park                 34\n",
       "Mission Terrace           33\n",
       "Twin Peaks                31\n",
       "Hayes Valley              28\n",
       "North Beach               27\n",
       "Crocker Amazon            26\n",
       "Telegraph Hill            26\n",
       "Tenderloin                25\n",
       "Cow Hollow                24\n",
       "Visitacion Valley         23\n",
       "Chinatown                 22\n",
       "Ingleside                 18\n",
       "Balboa Terrace            17\n",
       "Oceanview                 16\n",
       "Lakeshore                 15\n",
       "Union Square              14\n",
       "Fisherman's Wharf         14\n",
       "Diamond Heights           11\n",
       "Forest Hill               10\n",
       "Portola                   10\n",
       "Presidio Heights           9\n",
       "Civic Center               9\n",
       "Dogpatch                   8\n",
       "Financial District         8\n",
       "Mission Bay                7\n",
       "West Portal                6\n",
       "Japantown                  1\n",
       "Sea Cliff                  1\n",
       "Name: neighbourhood, dtype: int64"
      ]
     },
     "execution_count": 63,
     "metadata": {},
     "output_type": "execute_result"
    }
   ],
   "source": [
    "df.neighbourhood[df.city == 'SF'].value_counts()"
   ]
  },
  {
   "cell_type": "code",
   "execution_count": 64,
   "metadata": {},
   "outputs": [
    {
     "data": {
      "text/plain": [
       "(28877, 20)"
      ]
     },
     "execution_count": 64,
     "metadata": {},
     "output_type": "execute_result"
    }
   ],
   "source": [
    "#Voy a optar por borrar la variable neighborhood, ya que hay demasiados valores unicos para cada ciudad.\n",
    "#Además, ya se tiene una columna con el código postal, que puede ayudar a sustituir esta info.\n",
    "df.shape"
   ]
  },
  {
   "cell_type": "code",
   "execution_count": 65,
   "metadata": {},
   "outputs": [
    {
     "data": {
      "text/plain": [
       "(28877, 19)"
      ]
     },
     "execution_count": 65,
     "metadata": {},
     "output_type": "execute_result"
    }
   ],
   "source": [
    "df.drop(\"neighbourhood\", axis=1, inplace=True)\n",
    "df.shape"
   ]
  },
  {
   "cell_type": "markdown",
   "metadata": {},
   "source": [
    "## 5. Na's"
   ]
  },
  {
   "cell_type": "markdown",
   "metadata": {},
   "source": [
    "df.isnull().sum()"
   ]
  },
  {
   "cell_type": "code",
   "execution_count": 66,
   "metadata": {},
   "outputs": [
    {
     "data": {
      "text/html": [
       "<div>\n",
       "<style scoped>\n",
       "    .dataframe tbody tr th:only-of-type {\n",
       "        vertical-align: middle;\n",
       "    }\n",
       "\n",
       "    .dataframe tbody tr th {\n",
       "        vertical-align: top;\n",
       "    }\n",
       "\n",
       "    .dataframe thead th {\n",
       "        text-align: right;\n",
       "    }\n",
       "</style>\n",
       "<table border=\"1\" class=\"dataframe\">\n",
       "  <thead>\n",
       "    <tr style=\"text-align: right;\">\n",
       "      <th></th>\n",
       "      <th>property_type</th>\n",
       "      <th>room_type</th>\n",
       "      <th>accommodates</th>\n",
       "      <th>bathrooms</th>\n",
       "      <th>cancellation_policy</th>\n",
       "      <th>cleaning_fee</th>\n",
       "      <th>city</th>\n",
       "      <th>host_identity_verified</th>\n",
       "      <th>instant_bookable</th>\n",
       "      <th>latitude</th>\n",
       "      <th>longitude</th>\n",
       "      <th>number_of_reviews</th>\n",
       "      <th>review_scores_rating</th>\n",
       "      <th>zipcode</th>\n",
       "      <th>bedrooms</th>\n",
       "      <th>beds</th>\n",
       "      <th>price</th>\n",
       "      <th>host_response</th>\n",
       "      <th>amenities_ratio</th>\n",
       "    </tr>\n",
       "  </thead>\n",
       "  <tbody>\n",
       "    <tr>\n",
       "      <th>0</th>\n",
       "      <td>Apartment</td>\n",
       "      <td>Entire home/apt</td>\n",
       "      <td>7</td>\n",
       "      <td>1.0</td>\n",
       "      <td>strict</td>\n",
       "      <td>True</td>\n",
       "      <td>NYC</td>\n",
       "      <td>f</td>\n",
       "      <td>t</td>\n",
       "      <td>40.766115</td>\n",
       "      <td>-73.989040</td>\n",
       "      <td>6</td>\n",
       "      <td>93.0</td>\n",
       "      <td>10019</td>\n",
       "      <td>3.0</td>\n",
       "      <td>3.0</td>\n",
       "      <td>169.0</td>\n",
       "      <td>HOT</td>\n",
       "      <td>0.194805</td>\n",
       "    </tr>\n",
       "    <tr>\n",
       "      <th>1</th>\n",
       "      <td>Apartment</td>\n",
       "      <td>Private room</td>\n",
       "      <td>2</td>\n",
       "      <td>1.0</td>\n",
       "      <td>strict</td>\n",
       "      <td>True</td>\n",
       "      <td>SF</td>\n",
       "      <td>t</td>\n",
       "      <td>t</td>\n",
       "      <td>37.753164</td>\n",
       "      <td>-122.429526</td>\n",
       "      <td>3</td>\n",
       "      <td>100.0</td>\n",
       "      <td>94131</td>\n",
       "      <td>1.0</td>\n",
       "      <td>1.0</td>\n",
       "      <td>85.0</td>\n",
       "      <td>HOT</td>\n",
       "      <td>0.129870</td>\n",
       "    </tr>\n",
       "    <tr>\n",
       "      <th>2</th>\n",
       "      <td>Condominium</td>\n",
       "      <td>Entire home/apt</td>\n",
       "      <td>2</td>\n",
       "      <td>1.0</td>\n",
       "      <td>moderate</td>\n",
       "      <td>True</td>\n",
       "      <td>LA</td>\n",
       "      <td>t</td>\n",
       "      <td>f</td>\n",
       "      <td>34.046737</td>\n",
       "      <td>-118.260439</td>\n",
       "      <td>9</td>\n",
       "      <td>93.0</td>\n",
       "      <td>90015</td>\n",
       "      <td>1.0</td>\n",
       "      <td>1.0</td>\n",
       "      <td>120.0</td>\n",
       "      <td>HOT</td>\n",
       "      <td>0.337662</td>\n",
       "    </tr>\n",
       "    <tr>\n",
       "      <th>3</th>\n",
       "      <td>House</td>\n",
       "      <td>Private room</td>\n",
       "      <td>2</td>\n",
       "      <td>1.0</td>\n",
       "      <td>moderate</td>\n",
       "      <td>True</td>\n",
       "      <td>SF</td>\n",
       "      <td>f</td>\n",
       "      <td>f</td>\n",
       "      <td>37.781128</td>\n",
       "      <td>-122.501095</td>\n",
       "      <td>159</td>\n",
       "      <td>99.0</td>\n",
       "      <td>94121</td>\n",
       "      <td>1.0</td>\n",
       "      <td>1.0</td>\n",
       "      <td>120.0</td>\n",
       "      <td>HOT</td>\n",
       "      <td>0.272727</td>\n",
       "    </tr>\n",
       "    <tr>\n",
       "      <th>4</th>\n",
       "      <td>Apartment</td>\n",
       "      <td>Private room</td>\n",
       "      <td>2</td>\n",
       "      <td>1.0</td>\n",
       "      <td>strict</td>\n",
       "      <td>True</td>\n",
       "      <td>NYC</td>\n",
       "      <td>t</td>\n",
       "      <td>f</td>\n",
       "      <td>40.723883</td>\n",
       "      <td>-73.983880</td>\n",
       "      <td>82</td>\n",
       "      <td>93.0</td>\n",
       "      <td>10009.0</td>\n",
       "      <td>1.0</td>\n",
       "      <td>1.0</td>\n",
       "      <td>100.0</td>\n",
       "      <td>HOT</td>\n",
       "      <td>0.194805</td>\n",
       "    </tr>\n",
       "  </tbody>\n",
       "</table>\n",
       "</div>"
      ],
      "text/plain": [
       "  property_type        room_type  accommodates  bathrooms cancellation_policy  \\\n",
       "0     Apartment  Entire home/apt             7        1.0              strict   \n",
       "1     Apartment     Private room             2        1.0              strict   \n",
       "2   Condominium  Entire home/apt             2        1.0            moderate   \n",
       "3         House     Private room             2        1.0            moderate   \n",
       "4     Apartment     Private room             2        1.0              strict   \n",
       "\n",
       "   cleaning_fee city host_identity_verified instant_bookable   latitude  \\\n",
       "0          True  NYC                      f                t  40.766115   \n",
       "1          True   SF                      t                t  37.753164   \n",
       "2          True   LA                      t                f  34.046737   \n",
       "3          True   SF                      f                f  37.781128   \n",
       "4          True  NYC                      t                f  40.723883   \n",
       "\n",
       "    longitude  number_of_reviews  review_scores_rating  zipcode  bedrooms  \\\n",
       "0  -73.989040                  6                  93.0    10019       3.0   \n",
       "1 -122.429526                  3                 100.0    94131       1.0   \n",
       "2 -118.260439                  9                  93.0    90015       1.0   \n",
       "3 -122.501095                159                  99.0    94121       1.0   \n",
       "4  -73.983880                 82                  93.0  10009.0       1.0   \n",
       "\n",
       "   beds  price host_response  amenities_ratio  \n",
       "0   3.0  169.0           HOT         0.194805  \n",
       "1   1.0   85.0           HOT         0.129870  \n",
       "2   1.0  120.0           HOT         0.337662  \n",
       "3   1.0  120.0           HOT         0.272727  \n",
       "4   1.0  100.0           HOT         0.194805  "
      ]
     },
     "execution_count": 66,
     "metadata": {},
     "output_type": "execute_result"
    }
   ],
   "source": [
    "df.head()"
   ]
  },
  {
   "cell_type": "markdown",
   "metadata": {},
   "source": [
    "## 6. Outliers y normalización de variables contínuas."
   ]
  },
  {
   "cell_type": "markdown",
   "metadata": {},
   "source": [
    "### accomodates"
   ]
  },
  {
   "cell_type": "code",
   "execution_count": 67,
   "metadata": {},
   "outputs": [
    {
     "data": {
      "text/plain": [
       "2     12713\n",
       "4      4915\n",
       "3      3135\n",
       "1      2861\n",
       "6      2050\n",
       "5      1373\n",
       "8       719\n",
       "7       405\n",
       "10      282\n",
       "9       111\n",
       "16       98\n",
       "12       95\n",
       "14       49\n",
       "11       40\n",
       "15       17\n",
       "13       14\n",
       "Name: accommodates, dtype: int64"
      ]
     },
     "execution_count": 67,
     "metadata": {},
     "output_type": "execute_result"
    }
   ],
   "source": [
    "df.accommodates.value_counts()"
   ]
  },
  {
   "cell_type": "code",
   "execution_count": 68,
   "metadata": {},
   "outputs": [
    {
     "data": {
      "image/png": "[encoded data removed]",
      "text/plain": [
       "<Figure size 432x288 with 1 Axes>"
      ]
     },
     "metadata": {
      "needs_background": "light"
     },
     "output_type": "display_data"
    }
   ],
   "source": [
    "plt.hist(df.accommodates,bins=15);"
   ]
  },
  {
   "cell_type": "markdown",
   "metadata": {},
   "source": [
    "### bathrooms"
   ]
  },
  {
   "cell_type": "code",
   "execution_count": 69,
   "metadata": {},
   "outputs": [
    {
     "data": {
      "text/plain": [
       "1.0    23105\n",
       "2.0     2929\n",
       "1.5     1475\n",
       "2.5      502\n",
       "3.0      378\n",
       "3.5      134\n",
       "4.0       97\n",
       "0.0       84\n",
       "0.5       67\n",
       "4.5       35\n",
       "5.0       25\n",
       "8.0       20\n",
       "5.5       13\n",
       "6.0        6\n",
       "6.5        3\n",
       "7.0        2\n",
       "7.5        2\n",
       "Name: bathrooms, dtype: int64"
      ]
     },
     "execution_count": 69,
     "metadata": {},
     "output_type": "execute_result"
    }
   ],
   "source": [
    "df.bathrooms.value_counts()\n",
    "#hace sentido que existan \"mitades\" de un baño? \n",
    "#Si lo tiene para airbnb: https://twitter.com/airbnbhelp/status/684855675265101825?lang=en"
   ]
  },
  {
   "cell_type": "code",
   "execution_count": 70,
   "metadata": {},
   "outputs": [
    {
     "data": {
      "image/png": "[encoded data removed]",
      "text/plain": [
       "<Figure size 432x288 with 1 Axes>"
      ]
     },
     "metadata": {
      "needs_background": "light"
     },
     "output_type": "display_data"
    }
   ],
   "source": [
    "plt.hist(df.bathrooms);"
   ]
  },
  {
   "cell_type": "markdown",
   "metadata": {},
   "source": [
    "### number_of_reviews"
   ]
  },
  {
   "cell_type": "code",
   "execution_count": 71,
   "metadata": {},
   "outputs": [
    {
     "data": {
      "text/plain": [
       "1      2079\n",
       "2      1740\n",
       "3      1550\n",
       "4      1257\n",
       "5      1177\n",
       "6       932\n",
       "7       881\n",
       "8       830\n",
       "9       717\n",
       "10      662\n",
       "11      585\n",
       "12      535\n",
       "14      534\n",
       "13      515\n",
       "15      494\n",
       "16      482\n",
       "18      433\n",
       "19      403\n",
       "17      388\n",
       "20      357\n",
       "22      347\n",
       "21      341\n",
       "23      316\n",
       "24      297\n",
       "26      292\n",
       "28      283\n",
       "25      269\n",
       "27      261\n",
       "29      257\n",
       "31      255\n",
       "       ... \n",
       "349       1\n",
       "525       1\n",
       "254       1\n",
       "286       1\n",
       "382       1\n",
       "303       1\n",
       "360       1\n",
       "328       1\n",
       "327       1\n",
       "311       1\n",
       "338       1\n",
       "354       1\n",
       "370       1\n",
       "291       1\n",
       "451       1\n",
       "260       1\n",
       "388       1\n",
       "532       1\n",
       "229       1\n",
       "277       1\n",
       "309       1\n",
       "341       1\n",
       "389       1\n",
       "453       1\n",
       "469       1\n",
       "326       1\n",
       "374       1\n",
       "383       1\n",
       "295       1\n",
       "279       1\n",
       "Name: number_of_reviews, Length: 347, dtype: int64"
      ]
     },
     "execution_count": 71,
     "metadata": {},
     "output_type": "execute_result"
    }
   ],
   "source": [
    "df.number_of_reviews.value_counts()\n",
    "#No se cómo esta columna me ayude.\n",
    "#Podría generar rangos de clasificación, pero mi primer rango se llevaría la mayoría de los datos..."
   ]
  },
  {
   "cell_type": "code",
   "execution_count": 72,
   "metadata": {},
   "outputs": [
    {
     "data": {
      "image/png": "[encoded data removed]",
      "text/plain": [
       "<Figure size 432x288 with 1 Axes>"
      ]
     },
     "metadata": {
      "needs_background": "light"
     },
     "output_type": "display_data"
    }
   ],
   "source": [
    "plt.hist(df.number_of_reviews,bins=30);"
   ]
  },
  {
   "cell_type": "markdown",
   "metadata": {},
   "source": [
    "### review_scores_rating"
   ]
  },
  {
   "cell_type": "code",
   "execution_count": 73,
   "metadata": {},
   "outputs": [
    {
     "data": {
      "text/plain": [
       "100.0    7007\n",
       "98.0     2512\n",
       "97.0     2314\n",
       "96.0     2286\n",
       "95.0     2036\n",
       "93.0     1872\n",
       "99.0     1587\n",
       "94.0     1508\n",
       "90.0     1269\n",
       "92.0     1143\n",
       "91.0      903\n",
       "80.0      753\n",
       "89.0      659\n",
       "88.0      574\n",
       "87.0      513\n",
       "85.0      340\n",
       "86.0      274\n",
       "84.0      246\n",
       "83.0      208\n",
       "60.0      137\n",
       "82.0      106\n",
       "81.0       83\n",
       "70.0       73\n",
       "73.0       63\n",
       "79.0       53\n",
       "78.0       52\n",
       "75.0       50\n",
       "77.0       38\n",
       "76.0       36\n",
       "20.0       27\n",
       "67.0       27\n",
       "74.0       21\n",
       "40.0       21\n",
       "65.0       16\n",
       "72.0       16\n",
       "50.0       10\n",
       "68.0       10\n",
       "47.0        5\n",
       "64.0        5\n",
       "71.0        5\n",
       "69.0        4\n",
       "63.0        3\n",
       "53.0        3\n",
       "57.0        1\n",
       "54.0        1\n",
       "62.0        1\n",
       "27.0        1\n",
       "35.0        1\n",
       "56.0        1\n",
       "55.0        1\n",
       "49.0        1\n",
       "66.0        1\n",
       "Name: review_scores_rating, dtype: int64"
      ]
     },
     "execution_count": 73,
     "metadata": {},
     "output_type": "execute_result"
    }
   ],
   "source": [
    "df.review_scores_rating.value_counts()\n",
    "#datos limpios\n",
    "#genero rangos de clasificación?"
   ]
  },
  {
   "cell_type": "code",
   "execution_count": 74,
   "metadata": {},
   "outputs": [
    {
     "data": {
      "image/png": "[encoded data removed]",
      "text/plain": [
       "<Figure size 432x288 with 1 Axes>"
      ]
     },
     "metadata": {
      "needs_background": "light"
     },
     "output_type": "display_data"
    }
   ],
   "source": [
    "plt.hist(df.review_scores_rating,bins=20);"
   ]
  },
  {
   "cell_type": "markdown",
   "metadata": {},
   "source": [
    "### zipcode"
   ]
  },
  {
   "cell_type": "code",
   "execution_count": 75,
   "metadata": {},
   "outputs": [
    {
     "data": {
      "text/plain": [
       "11221                                                   536\n",
       "11211.0                                                 523\n",
       "90291                                                   465\n",
       "94110                                                   440\n",
       "20002                                                   356\n",
       "10019                                                   334\n",
       "10002                                                   308\n",
       "90046                                                   303\n",
       "10009.0                                                 299\n",
       "10036                                                   291\n",
       "11216                                                   289\n",
       "90026                                                   274\n",
       "20001                                                   270\n",
       "11222                                                   270\n",
       "94114                                                   269\n",
       "20009                                                   262\n",
       "10031                                                   259\n",
       "10029.0                                                 259\n",
       "90028                                                   257\n",
       "10027                                                   257\n",
       "11237                                                   256\n",
       "11215                                                   254\n",
       "11233                                                   242\n",
       "10025                                                   237\n",
       "11206                                                   236\n",
       "10014                                                   225\n",
       "10012                                                   222\n",
       "90036                                                   216\n",
       "90066                                                   210\n",
       "11249.0                                                 209\n",
       "                                                       ... \n",
       "1m                                                        1\n",
       "10007.0                                                   1\n",
       "20001-4044                                                1\n",
       "11249\\r\\r\\r\\r\\r\\r\\n11249                                  1\n",
       "10312.0                                                   1\n",
       "90044                                                     1\n",
       "10048                                                     1\n",
       "20816                                                     1\n",
       "60619                                                     1\n",
       "90723                                                     1\n",
       "11385-2308                                                1\n",
       "90716                                                     1\n",
       "10003-8623                                                1\n",
       "95202\\r\\r\\r\\r\\r\\r\\n\\r\\r\\r\\r\\r\\r\\n\\r\\r\\r\\r\\r\\r\\n94158      1\n",
       "11374.0                                                   1\n",
       "90059                                                     1\n",
       "02143                                                     1\n",
       "90201                                                     1\n",
       "91744                                                     1\n",
       "91606-1412                                                1\n",
       "10119.0                                                   1\n",
       "90071                                                     1\n",
       "20782                                                     1\n",
       "11234.0                                                   1\n",
       "90713                                                     1\n",
       "90304                                                     1\n",
       "20004                                                     1\n",
       "91775                                                     1\n",
       "90061                                                     1\n",
       "10471                                                     1\n",
       "Name: zipcode, Length: 629, dtype: int64"
      ]
     },
     "execution_count": 75,
     "metadata": {},
     "output_type": "execute_result"
    }
   ],
   "source": [
    "df.zipcode.value_counts()"
   ]
  },
  {
   "cell_type": "code",
   "execution_count": 76,
   "metadata": {},
   "outputs": [],
   "source": [
    "df.zipcode=df.zipcode.apply(lambda x: x[0:5])"
   ]
  },
  {
   "cell_type": "code",
   "execution_count": 77,
   "metadata": {},
   "outputs": [
    {
     "data": {
      "text/plain": [
       "11211    630\n",
       "11221    538\n",
       "90291    465\n",
       "94110    440\n",
       "11216    429\n",
       "11206    403\n",
       "10002    398\n",
       "20002    356\n",
       "10009    352\n",
       "11238    342\n",
       "10019    335\n",
       "90046    303\n",
       "10003    298\n",
       "11237    297\n",
       "10036    291\n",
       "11233    289\n",
       "11222    280\n",
       "90026    274\n",
       "94114    271\n",
       "20001    271\n",
       "10027    262\n",
       "20009    262\n",
       "10029    261\n",
       "10031    259\n",
       "90028    257\n",
       "11215    254\n",
       "10011    248\n",
       "10025    237\n",
       "11249    235\n",
       "94117    235\n",
       "        ... \n",
       "90002      1\n",
       "91775      1\n",
       "20782      1\n",
       "10470      1\n",
       "20816      1\n",
       "90604      1\n",
       "91706      1\n",
       "20004      1\n",
       "60652      1\n",
       "10302      1\n",
       "90061      1\n",
       "90304      1\n",
       "10048      1\n",
       "10309      1\n",
       "91733      1\n",
       "90716      1\n",
       "60707      1\n",
       "90222      1\n",
       "10279      1\n",
       "10119      1\n",
       "90067      1\n",
       "90220      1\n",
       "90201      1\n",
       "91340      1\n",
       "90071      1\n",
       "91744      1\n",
       "1m         1\n",
       "10550      1\n",
       "90059      1\n",
       "95202      1\n",
       "Name: zipcode, Length: 545, dtype: int64"
      ]
     },
     "execution_count": 77,
     "metadata": {},
     "output_type": "execute_result"
    }
   ],
   "source": [
    "df.zipcode.value_counts()"
   ]
  },
  {
   "cell_type": "code",
   "execution_count": 78,
   "metadata": {},
   "outputs": [
    {
     "data": {
      "text/plain": [
       "11211    630\n",
       "11221    538\n",
       "11216    429\n",
       "11206    403\n",
       "10002    398\n",
       "10009    352\n",
       "11238    342\n",
       "10019    335\n",
       "10003    298\n",
       "11237    297\n",
       "10036    291\n",
       "11233    289\n",
       "11222    280\n",
       "10027    262\n",
       "10029    261\n",
       "10031    259\n",
       "11215    254\n",
       "10011    248\n",
       "10025    237\n",
       "11249    235\n",
       "10014    230\n",
       "10012    223\n",
       "11205    208\n",
       "11226    206\n",
       "10016    182\n",
       "11225    178\n",
       "11217    170\n",
       "10001    152\n",
       "11213    151\n",
       "10024    147\n",
       "        ... \n",
       "10069      5\n",
       "11415      5\n",
       "11360      5\n",
       "11109      4\n",
       "11428      4\n",
       "11414      4\n",
       "10312      3\n",
       "10474      3\n",
       "10471      3\n",
       "11411      2\n",
       "10280      2\n",
       "11357      2\n",
       "11427      2\n",
       "10307      2\n",
       "11423      2\n",
       "10282      2\n",
       "11694      2\n",
       "10308      2\n",
       "11426      2\n",
       "10119      1\n",
       "10309      1\n",
       "10550      1\n",
       "10048      1\n",
       "10279      1\n",
       "10129      1\n",
       "11366      1\n",
       "10270      1\n",
       "10470      1\n",
       "10302      1\n",
       "1m         1\n",
       "Name: zipcode, Length: 180, dtype: int64"
      ]
     },
     "execution_count": 78,
     "metadata": {},
     "output_type": "execute_result"
    }
   ],
   "source": [
    "df.zipcode[df.city == 'NYC'].value_counts()"
   ]
  },
  {
   "cell_type": "code",
   "execution_count": 85,
   "metadata": {},
   "outputs": [
    {
     "data": {
      "text/plain": [
       "90291    465\n",
       "90046    303\n",
       "90026    274\n",
       "90028    257\n",
       "90036    217\n",
       "90066    210\n",
       "90068    172\n",
       "90038    171\n",
       "90048    142\n",
       "90292    140\n",
       "90019    139\n",
       "90027    138\n",
       "90039    128\n",
       "90025    127\n",
       "90069    120\n",
       "90034    118\n",
       "90024    113\n",
       "90004    108\n",
       "90042    105\n",
       "90029    104\n",
       "90405    102\n",
       "90006     96\n",
       "90802     87\n",
       "90265     81\n",
       "90065     79\n",
       "90290     71\n",
       "90005     69\n",
       "90017     66\n",
       "90035     63\n",
       "90277     62\n",
       "        ... \n",
       "90650      2\n",
       "91108      2\n",
       "90605      2\n",
       "90056      2\n",
       "90262      2\n",
       "91311      2\n",
       "90241      2\n",
       "91722      2\n",
       "91340      1\n",
       "90044      1\n",
       "90723      1\n",
       "90222      1\n",
       "91706      1\n",
       "91775      1\n",
       "90061      1\n",
       "90604      1\n",
       "91733      1\n",
       "90040      1\n",
       "90304      1\n",
       "90713      1\n",
       "90071      1\n",
       "90002      1\n",
       "91040      1\n",
       "91744      1\n",
       "90059      1\n",
       "90067      1\n",
       "90670      1\n",
       "90201      1\n",
       "90220      1\n",
       "90716      1\n",
       "Name: zipcode, Length: 230, dtype: int64"
      ]
     },
     "execution_count": 85,
     "metadata": {},
     "output_type": "execute_result"
    }
   ],
   "source": [
    "df.zipcode[df.city == 'LA'].value_counts()"
   ]
  },
  {
   "cell_type": "code",
   "execution_count": 80,
   "metadata": {},
   "outputs": [
    {
     "data": {
      "text/plain": [
       "60622    179\n",
       "60647    174\n",
       "60614    108\n",
       "60618     88\n",
       "60608     85\n",
       "Name: zipcode, dtype: int64"
      ]
     },
     "execution_count": 80,
     "metadata": {},
     "output_type": "execute_result"
    }
   ],
   "source": [
    "df.zipcode[df.city == 'Chicago'].value_counts().head()"
   ]
  },
  {
   "cell_type": "code",
   "execution_count": 81,
   "metadata": {},
   "outputs": [
    {
     "data": {
      "text/plain": [
       "0    0\n",
       "1    0\n",
       "2    0\n",
       "3    0\n",
       "4    0\n",
       "Name: regions, dtype: int64"
      ]
     },
     "execution_count": 81,
     "metadata": {},
     "output_type": "execute_result"
    }
   ],
   "source": [
    "#Voy a clasificar los zipcodes por region o 'sectional center facility':\n",
    "#https://en.wikipedia.org/wiki/ZIP_Code#By_geography:\n",
    "    #ZIP Codes are numbered with the first digit representing a certain group of U.S. states, the second and third digits \n",
    "    #together representing a region in that group (or perhaps a large city) and the fourth and fifth digits representing a group \n",
    "    #of delivery addresses within that region.\n",
    "#https://en.wikipedia.org/wiki/Sectional_center_facility\n",
    "\n",
    "#Pondre estos nuevos valores en una nueva variable:\n",
    "df['regions'] = 0\n",
    "df.regions.head()"
   ]
  },
  {
   "cell_type": "code",
   "execution_count": null,
   "metadata": {},
   "outputs": [],
   "source": [
    "#¿Cómo no loopear todo el DATAFRAME y llenar los valores indicados de Regions?\n",
    "#for e in df.zipcode[df.city==\"NYC\"].index:\n",
    "#    print(df.zipcode[e])\n",
    "\n",
    "#Loopear el índice específico de cada City y llenar ese índice específico con el nuevo valor en Regions"
   ]
  },
  {
   "cell_type": "code",
   "execution_count": 84,
   "metadata": {},
   "outputs": [],
   "source": [
    "#######  NUEVA YORK  ##########\n",
    "'''\n",
    "New York (100-102; 104 The Bronx) Morgan General Mail Facility, 341 Ninth Avenue, New York, NY 10199[4]\n",
    "Brooklyn (103 Staten Island; 112 Brooklyn; 116 Far Rockaway) 1050 Forbell Street #2005, Brooklyn, NY 11256[4]\n",
    "Westchester (105-109; Connecticut 066, 068, 069) 1000 Westchester Avenue, White Plains, NY 10610[4]\n",
    "Queens (110 Floral Park; 111 Long Island City; 113 Flushing; 114 Jamaica) 142-02 20th Avenue, College Point, NY 11356[4][5]\n",
    "Western Nassau (115) 830 Stewart Avenue, Garden City[4]\n",
    "Mid-Island (117-119, IRS 005) 160 Duryea Road, Melville[4]\n",
    "Albany (120-123, 128, 129), 30 Old Karner Road, Albany\n",
    "Mid-Hudson (124-127), 99 Enterprise Drive, Newburgh\n",
    "Syracuse (130-139), 5640 E. Taft Road, Syracuse\n",
    "Buffalo (140-143, 147), 1200 William Street, Buffalo\n",
    "Rochester (144-146, 148, 149, Pennsylvania 167), 1335 Jefferson Road, Rochester\n",
    "'''\n",
    "for e in df.zipcode[df.city==\"NYC\"].index:\n",
    "    if df.zipcode[e].startswith((\"100\",\"101\",\"102\",\"104\")):\n",
    "        df.regions[e] = \"New York Mains\"\n",
    "    elif df.zipcode[e].startswith((\"103\",\"112\",\"116\")):\n",
    "        df.regions[e] = \"Brooklyn\"\n",
    "    elif df.zipcode[e].startswith((\"105\",\"106\",\"107\",\"108\",\"109\")):\n",
    "        df.regions[e] = \"Westchester\"\n",
    "    elif df.zipcode[e].startswith((\"110\",\"111\",\"113\",\"114\")):\n",
    "        df.regions[e] = \"Queens\"\n",
    "    elif df.zipcode[e].startswith((\"115\")):\n",
    "        df.regions[e] = \"Western Nassau\"\n",
    "    elif df.zipcode[e].startswith((\"117\",\"118\",\"119\",\"160\")):\n",
    "        df.regions[e] = \"Mid-Island\"\n",
    "    elif df.zipcode[e].startswith((\"120\",\"121\",\"122\",\"123\",\"128\",\"129\")):\n",
    "        df.regions[e] = \"Albany\"\n",
    "    elif df.zipcode[e].startswith((\"124\",\"125\",\"126\",\"127\")):\n",
    "        df.regions[e] = \"Mid-Hudson\"\n",
    "    elif df.zipcode[e].startswith((\"130\",\"131\",\"132\",\"133\",\"134\",\"135\",\"136\",\"137\",\"138\",\"139\")):\n",
    "        df.regions[e] = \"Syracuse\"\n",
    "    elif df.zipcode[e].startswith((\"140\",\"141\",\"142\",\"143\",\"147\")):\n",
    "        df.regions[e] = \"Buffalo\"\n",
    "    elif df.zipcode[e].startswith((\"144\",\"145\",\"146\",\"148\",\"149\")):\n",
    "        df.regions[e] = \"Rochester\""
   ]
  },
  {
   "cell_type": "code",
   "execution_count": 86,
   "metadata": {},
   "outputs": [
    {
     "data": {
      "text/plain": [
       "0                 15499\n",
       "New York Mains     6262\n",
       "Brooklyn           5714\n",
       "Queens             1401\n",
       "Westchester           1\n",
       "Name: regions, dtype: int64"
      ]
     },
     "execution_count": 86,
     "metadata": {},
     "output_type": "execute_result"
    }
   ],
   "source": [
    "df.regions.value_counts()"
   ]
  },
  {
   "cell_type": "code",
   "execution_count": 120,
   "metadata": {},
   "outputs": [],
   "source": [
    "#######  LA  ##########\n",
    "'''\n",
    "Los Angeles (900-905, 907, 908) 7001 S. Central Ave., Los Angeles, CA 90052-9998\n",
    "Industry (906, 917, 918) 15421 E Gale Ave., City of Industry, CA 91715-9608\n",
    "Santa Clarita (910-916) 28201 Franklin Pkwy., Santa Clarita, CA 91383-9998[2]\n",
    "San Diego (919-921) 11251 Rancho Carmel Drive, San Diego, CA 92199-9998\n",
    "San Bernardino (922-925) 1900 W Redlands Blvd., San Bernardino, CA 92403-9997\n",
    "Santa Ana (926-927) 3101 W. Sunflower Ave., Santa Ana, CA 92799-0101\n",
    "Anaheim (928) 5335 E. La Palma Ave., Anaheim, CA 92899-9002\n",
    "Santa Barbara (930-931, 934) 400 Storke Road, Goleta, CA 93117\n",
    "Bakersfield (932-933, 935)\n",
    "Fresno (936-937, IRS 938)\n",
    "San Jose (939, 950-951) 1750 Lundy Avenue, San Jose, CA 95101-9998\n",
    "San Francisco (940-941, 943-944, 949, 954)\n",
    "Sacramento (942, 952-953, 956-959) 3775 Industrial Blvd., West Sacramento, CA 95799-9998\n",
    "Oakland (945-948) 1675 7th St, Oakland, CA 94615\n",
    "Eureka (955)\n",
    "Redding (960)\n",
    "'''\n",
    "for e in df.zipcode[df.city==\"LA\"].index:\n",
    "    if df.zipcode[e].startswith((\"900\",\"901\",\"902\")):\n",
    "        df.regions[e] = \"LA Mains\"\n",
    "    elif df.zipcode[e].startswith((\"903\")):\n",
    "        df.regions[e] = \"Inglewood\"\n",
    "    elif df.zipcode[e].startswith((\"904\")):\n",
    "        df.regions[e] = \"Santa Monica\"\n",
    "    elif df.zipcode[e].startswith((\"905\")):\n",
    "        df.regions[e] = \"Torrance\"\n",
    "    elif df.zipcode[e].startswith((\"907\",\"908\")):\n",
    "        df.regions[e] = \"Long Beach\"\n",
    "    elif df.zipcode[e].startswith((\"906\",\"917\",\"918\")):\n",
    "        df.regions[e] = \"Industry\"\n",
    "    elif df.zipcode[e].startswith((\"910\",\"911\",\"912\",\"913\",\"914\",\"915\",\"916\")):\n",
    "        df.regions[e] = \"Santa Clarita\"\n",
    "    elif df.zipcode[e].startswith((\"919\",\"920\",\"921\")):\n",
    "        df.regions[e] = \"San Diego\"\n",
    "    elif df.zipcode[e].startswith((\"922\",\"923\",\"924\",\"925\",\"147\")):\n",
    "        df.regions[e] = \"San Bernardino\""
   ]
  },
  {
   "cell_type": "code",
   "execution_count": 121,
   "metadata": {},
   "outputs": [
    {
     "data": {
      "text/plain": [
       "0                 7928\n",
       "New York Mains    6262\n",
       "Brooklyn          5714\n",
       "LA Mains          5420\n",
       "Queens            1401\n",
       "Santa Clarita     1190\n",
       "Long Beach         356\n",
       "Santa Monica       273\n",
       "Industry           235\n",
       "Inglewood           55\n",
       "Torrance            42\n",
       "Westchester          1\n",
       "Name: regions, dtype: int64"
      ]
     },
     "execution_count": 121,
     "metadata": {},
     "output_type": "execute_result"
    }
   ],
   "source": [
    "df.regions.value_counts()"
   ]
  },
  {
   "cell_type": "code",
   "execution_count": null,
   "metadata": {},
   "outputs": [],
   "source": []
  },
  {
   "cell_type": "code",
   "execution_count": null,
   "metadata": {},
   "outputs": [],
   "source": []
  },
  {
   "cell_type": "code",
   "execution_count": null,
   "metadata": {},
   "outputs": [],
   "source": []
  },
  {
   "cell_type": "code",
   "execution_count": 119,
   "metadata": {},
   "outputs": [],
   "source": [
    "#for e in df.zipcode[df.city==\"NYC\"].index:\n",
    "#    print(df.zipcode[e])"
   ]
  }
 ],
 "metadata": {
  "kernelspec": {
   "display_name": "Python 3",
   "language": "python",
   "name": "python3"
  },
  "language_info": {
   "codemirror_mode": {
    "name": "ipython",
    "version": 3
   },
   "file_extension": ".py",
   "mimetype": "text/x-python",
   "name": "python",
   "nbconvert_exporter": "python",
   "pygments_lexer": "ipython3",
   "version": "3.7.3"
  }
 },
 "nbformat": 4,
 "nbformat_minor": 2
}
